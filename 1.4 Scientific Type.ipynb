{
 "cells": [
  {
   "cell_type": "markdown",
   "id": "ba15ac30",
   "metadata": {},
   "source": [
    "# Data basics"
   ]
  },
  {
   "cell_type": "markdown",
   "id": "7cdadcb2",
   "metadata": {},
   "source": [
    "## Scientific Type"
   ]
  },
  {
   "cell_type": "markdown",
   "id": "6de96daf",
   "metadata": {},
   "source": [
    "### Data interpretation: Scientific Types"
   ]
  },
  {
   "cell_type": "code",
   "execution_count": 1,
   "id": "80813762",
   "metadata": {},
   "outputs": [
    {
     "name": "stderr",
     "output_type": "stream",
     "text": [
      "\u001b[32m\u001b[1m  Activating\u001b[22m\u001b[39m project at `D:\\JULIA\\6_ML_with_Julia\\D0-scitype`\n"
     ]
    }
   ],
   "source": [
    "using Pkg; Pkg.activate(\"D:/JULIA/6_ML_with_Julia/D0-scitype\"); Pkg.instantiate()"
   ]
  },
  {
   "cell_type": "markdown",
   "id": "8306d72d",
   "metadata": {},
   "source": [
    "### Machine type vs Scientific Type"
   ]
  },
  {
   "cell_type": "markdown",
   "id": "c0e5d7e1",
   "metadata": {},
   "source": [
    "#### Why make a distinction?"
   ]
  },
  {
   "cell_type": "markdown",
   "id": "e5ad8450",
   "metadata": {},
   "source": [
    "When analysing data, it is important to distinguish between\n",
    "\n",
    "- how the data is encoded (e.g. ```Int```), and\n",
    "\n",
    "- how the data should be interpreted (e.g. a class label, a count, ...)\n",
    "\n",
    "How the data is encoded will be referred to as the **machine type** whereas how the data should be interpreted will be referred to as the **scientific type** (or ```scitype```)."
   ]
  },
  {
   "cell_type": "markdown",
   "id": "6f487352",
   "metadata": {},
   "source": [
    "In some cases, this may be un-ambiguous, for instance if you have a vector of floating point values, this should usually be interpreted as a continuous feature (e.g.: weights, speeds, temperatures, ...).\n",
    "\n",
    "In many other cases however, there may be ambiguities, we list a few examples below:\n",
    "\n",
    "- A vector of ```Int``` e.g. ```[1, 2, ...]``` which should be interpreted as categorical labels,\n",
    "\n",
    "- A vector of ```Int``` e.g. ```[1, 2, ...]``` which should be interpreted as count data,\n",
    "\n",
    "- A vector of ```String``` e.g. ```[\"High\", \"Low\", \"High\", ...]``` which should be interpreted as ordered categorical labels,\n",
    "\n",
    "- A vector of ```String``` e.g. ```[\"John\", \"Maria\", ...]``` which should not interpreted as informative data,\n",
    "\n",
    "- A vector of floating points ```[1.5, 1.5, -2.3, -2.3]``` which should be interpreted as categorical data (e.g. the few possible values of some setting), etc."
   ]
  },
  {
   "cell_type": "markdown",
   "id": "5610e48a",
   "metadata": {},
   "source": [
    "#### The Scientific Types"
   ]
  },
  {
   "cell_type": "markdown",
   "id": "4c6b647b",
   "metadata": {},
   "source": [
    "The package ```ScientificTypes.jl``` defines a barebone type hierarchy which can be used to indicate how a particular feature should be interpreted; in particular:"
   ]
  },
  {
   "cell_type": "markdown",
   "id": "a15f1e4b",
   "metadata": {},
   "source": [
    "```Julia\n",
    "Found\n",
    "├─ Known\n",
    "│  ├─ Textual\n",
    "│  ├─ Finite\n",
    "│  │  ├─ Multiclass\n",
    "│  │  └─ OrderedFactor\n",
    "│  └─ Infinite\n",
    "│     ├─ Continuous\n",
    "│     └─ Count\n",
    "└─ Unknown\n",
    "\n",
    "```"
   ]
  },
  {
   "cell_type": "markdown",
   "id": "01230e95",
   "metadata": {},
   "source": [
    "A scientific type convention is a specific implementation indicating how machine types can be related to scientific types. It may also provide helper functions to convert data to a given scitype.\n",
    "\n",
    "The convention used in MLJ is implemented in ScientificTypes.jl. This is what we will use throughout; you never need to use ScientificTypes.jl unless you intend to implement your own scientific type convention."
   ]
  },
  {
   "cell_type": "markdown",
   "id": "4a1f784a",
   "metadata": {},
   "source": [
    "#### Inspecting the scitype"
   ]
  },
  {
   "cell_type": "markdown",
   "id": "b3c31ade",
   "metadata": {},
   "source": [
    "The ```schema``` function"
   ]
  },
  {
   "cell_type": "code",
   "execution_count": 2,
   "id": "ea834724",
   "metadata": {},
   "outputs": [],
   "source": [
    "using RDatasets\n",
    "using ScientificTypes"
   ]
  },
  {
   "cell_type": "code",
   "execution_count": 3,
   "id": "fc503ae1",
   "metadata": {},
   "outputs": [
    {
     "data": {
      "text/plain": [
       "┌─────────┬────────────┬─────────┐\n",
       "│\u001b[22m names   \u001b[0m│\u001b[22m scitypes   \u001b[0m│\u001b[22m types   \u001b[0m│\n",
       "├─────────┼────────────┼─────────┤\n",
       "│ Crim    │ Continuous │ Float64 │\n",
       "│ Zn      │ Continuous │ Float64 │\n",
       "│ Indus   │ Continuous │ Float64 │\n",
       "│ Chas    │ Count      │ Int64   │\n",
       "│ NOx     │ Continuous │ Float64 │\n",
       "│ Rm      │ Continuous │ Float64 │\n",
       "│ Age     │ Continuous │ Float64 │\n",
       "│ Dis     │ Continuous │ Float64 │\n",
       "│ Rad     │ Count      │ Int64   │\n",
       "│ Tax     │ Count      │ Int64   │\n",
       "│ PTRatio │ Continuous │ Float64 │\n",
       "│ Black   │ Continuous │ Float64 │\n",
       "│ LStat   │ Continuous │ Float64 │\n",
       "│ MedV    │ Continuous │ Float64 │\n",
       "└─────────┴────────────┴─────────┘\n"
      ]
     },
     "execution_count": 3,
     "metadata": {},
     "output_type": "execute_result"
    }
   ],
   "source": [
    "boston = dataset(\"MASS\", \"Boston\")\n",
    "sch = schema(boston)"
   ]
  },
  {
   "cell_type": "markdown",
   "id": "96f78086",
   "metadata": {},
   "source": [
    "In this cases, most of the variables have a (machine) type ```Float64``` and their default interpretation is ```Continuous```. There is also ```:Chas```, ```:Rad``` and ```:Tax``` that have a (machine) type ```Int64``` and their default interpretation is ```Count```.\n",
    "\n",
    "While the interpretation as ```Continuous``` is usually fine, the interpretation as ```Count``` needs a bit more attention. For instance note that:"
   ]
  },
  {
   "cell_type": "code",
   "execution_count": 4,
   "id": "a0256d81",
   "metadata": {},
   "outputs": [
    {
     "data": {
      "text/plain": [
       "2-element Vector{Int64}:\n",
       " 0\n",
       " 1"
      ]
     },
     "execution_count": 4,
     "metadata": {},
     "output_type": "execute_result"
    }
   ],
   "source": [
    "unique(boston.Chas)"
   ]
  },
  {
   "cell_type": "markdown",
   "id": "2b1fe468",
   "metadata": {},
   "source": [
    "so even though it's got a machine type of ```Int64``` and consequently a default interpretation of ```Count```, it would be more appropriate to interpret it as an ```OrderedFactor```."
   ]
  },
  {
   "cell_type": "markdown",
   "id": "73b46f30",
   "metadata": {},
   "source": [
    "#### Changing the scitype"
   ]
  },
  {
   "cell_type": "markdown",
   "id": "19272174",
   "metadata": {},
   "source": [
    "In order to re-specify the scitype(s) of feature(s) in a dataset, you can use the ```coerce``` function and specify pairs of variable name and scientific type:"
   ]
  },
  {
   "cell_type": "code",
   "execution_count": 5,
   "id": "38d601ae",
   "metadata": {},
   "outputs": [],
   "source": [
    "boston2 = coerce(boston, :Chas => OrderedFactor);"
   ]
  },
  {
   "cell_type": "markdown",
   "id": "c1c80d66",
   "metadata": {},
   "source": [
    "the effect of this is to convert the ```:Chas``` column to an ordered categorical vector:"
   ]
  },
  {
   "cell_type": "code",
   "execution_count": 6,
   "id": "7ef690d0",
   "metadata": {},
   "outputs": [
    {
     "data": {
      "text/plain": [
       "CategoricalArrays.CategoricalValue{Int64, UInt32}"
      ]
     },
     "execution_count": 6,
     "metadata": {},
     "output_type": "execute_result"
    }
   ],
   "source": [
    "eltype(boston2.Chas)"
   ]
  },
  {
   "cell_type": "markdown",
   "id": "5076cb2f",
   "metadata": {},
   "source": [
    "corresponding to the ```OrderedFactor``` scitype:"
   ]
  },
  {
   "cell_type": "code",
   "execution_count": 7,
   "id": "a5dddb95",
   "metadata": {},
   "outputs": [
    {
     "data": {
      "text/plain": [
       "OrderedFactor{2}"
      ]
     },
     "execution_count": 7,
     "metadata": {},
     "output_type": "execute_result"
    }
   ],
   "source": [
    "elscitype(boston2.Chas)"
   ]
  },
  {
   "cell_type": "markdown",
   "id": "ff1df240",
   "metadata": {},
   "source": [
    "You can also specify multiple pairs in one shot with ```coerce```:"
   ]
  },
  {
   "cell_type": "code",
   "execution_count": 8,
   "id": "6441c026",
   "metadata": {},
   "outputs": [],
   "source": [
    "boston3 = coerce(boston, :Chas => OrderedFactor, :Rad => OrderedFactor);"
   ]
  },
  {
   "cell_type": "code",
   "execution_count": 9,
   "id": "380acfd4",
   "metadata": {},
   "outputs": [
    {
     "data": {
      "text/plain": [
       "┌─────────┬──────────────────┬─────────────────────────────────┐\n",
       "│\u001b[22m names   \u001b[0m│\u001b[22m scitypes         \u001b[0m│\u001b[22m types                           \u001b[0m│\n",
       "├─────────┼──────────────────┼─────────────────────────────────┤\n",
       "│ Crim    │ Continuous       │ Float64                         │\n",
       "│ Zn      │ Continuous       │ Float64                         │\n",
       "│ Indus   │ Continuous       │ Float64                         │\n",
       "│ Chas    │ OrderedFactor{2} │ CategoricalValue{Int64, UInt32} │\n",
       "│ NOx     │ Continuous       │ Float64                         │\n",
       "│ Rm      │ Continuous       │ Float64                         │\n",
       "│ Age     │ Continuous       │ Float64                         │\n",
       "│ Dis     │ Continuous       │ Float64                         │\n",
       "│ Rad     │ OrderedFactor{9} │ CategoricalValue{Int64, UInt32} │\n",
       "│ Tax     │ Count            │ Int64                           │\n",
       "│ PTRatio │ Continuous       │ Float64                         │\n",
       "│ Black   │ Continuous       │ Float64                         │\n",
       "│ LStat   │ Continuous       │ Float64                         │\n",
       "│ MedV    │ Continuous       │ Float64                         │\n",
       "└─────────┴──────────────────┴─────────────────────────────────┘\n"
      ]
     },
     "execution_count": 9,
     "metadata": {},
     "output_type": "execute_result"
    }
   ],
   "source": [
    "sch3 = schema(boston3)"
   ]
  },
  {
   "cell_type": "markdown",
   "id": "7c679936",
   "metadata": {},
   "source": [
    "### String and Unknown"
   ]
  },
  {
   "cell_type": "markdown",
   "id": "38e338f5",
   "metadata": {},
   "source": [
    "If a feature in your dataset has String elements, then the default scitype is ```Textual```; you can either choose to drop such columns or to coerce them to categorical:"
   ]
  },
  {
   "cell_type": "code",
   "execution_count": 10,
   "id": "1fc25a9d",
   "metadata": {},
   "outputs": [
    {
     "data": {
      "text/plain": [
       "5-element Vector{String}:\n",
       " \"AA\"\n",
       " \"BB\"\n",
       " \"AA\"\n",
       " \"AA\"\n",
       " \"BB\""
      ]
     },
     "execution_count": 10,
     "metadata": {},
     "output_type": "execute_result"
    }
   ],
   "source": [
    "feature = [\"AA\", \"BB\", \"AA\", \"AA\", \"BB\"]"
   ]
  },
  {
   "cell_type": "code",
   "execution_count": 11,
   "id": "e5ab86ca",
   "metadata": {},
   "outputs": [
    {
     "data": {
      "text/plain": [
       "Textual"
      ]
     },
     "execution_count": 11,
     "metadata": {},
     "output_type": "execute_result"
    }
   ],
   "source": [
    "elscitype(feature)"
   ]
  },
  {
   "cell_type": "code",
   "execution_count": 12,
   "id": "4d650689",
   "metadata": {},
   "outputs": [
    {
     "data": {
      "text/plain": [
       "Multiclass{2}"
      ]
     },
     "execution_count": 12,
     "metadata": {},
     "output_type": "execute_result"
    }
   ],
   "source": [
    "feature2 = coerce(feature, Multiclass)\n",
    "elscitype(feature2)"
   ]
  },
  {
   "cell_type": "markdown",
   "id": "9addbf3b",
   "metadata": {},
   "source": [
    "### Tips and tricks"
   ]
  },
  {
   "cell_type": "markdown",
   "id": "5c08dbc5",
   "metadata": {},
   "source": [
    "#### Type to Type coercion"
   ]
  },
  {
   "cell_type": "markdown",
   "id": "1b936d98",
   "metadata": {},
   "source": [
    "In some cases you will want to reinterpret all features currently interpreted as some scitype ```S1``` into some other scitype ```S2```. An example is if some features are currently interpreted as ```Count``` because their original type was ```Int``` but you want to consider all such as ```Continuous```:"
   ]
  },
  {
   "cell_type": "code",
   "execution_count": 13,
   "id": "69af4c70",
   "metadata": {},
   "outputs": [],
   "source": [
    "data = select(boston, [:Rad, :Tax]);"
   ]
  },
  {
   "cell_type": "code",
   "execution_count": 14,
   "id": "f45047f3",
   "metadata": {},
   "outputs": [
    {
     "data": {
      "text/plain": [
       "┌───────┬──────────┬───────┐\n",
       "│\u001b[22m names \u001b[0m│\u001b[22m scitypes \u001b[0m│\u001b[22m types \u001b[0m│\n",
       "├───────┼──────────┼───────┤\n",
       "│ Rad   │ Count    │ Int64 │\n",
       "│ Tax   │ Count    │ Int64 │\n",
       "└───────┴──────────┴───────┘\n"
      ]
     },
     "execution_count": 14,
     "metadata": {},
     "output_type": "execute_result"
    }
   ],
   "source": [
    "schema(data)"
   ]
  },
  {
   "cell_type": "markdown",
   "id": "320da203",
   "metadata": {},
   "source": [
    "let's coerce from ```Count``` to ```Continuous```:"
   ]
  },
  {
   "cell_type": "code",
   "execution_count": 15,
   "id": "d87192e3",
   "metadata": {},
   "outputs": [
    {
     "data": {
      "text/plain": [
       "┌───────┬────────────┬─────────┐\n",
       "│\u001b[22m names \u001b[0m│\u001b[22m scitypes   \u001b[0m│\u001b[22m types   \u001b[0m│\n",
       "├───────┼────────────┼─────────┤\n",
       "│ Rad   │ Continuous │ Float64 │\n",
       "│ Tax   │ Continuous │ Float64 │\n",
       "└───────┴────────────┴─────────┘\n"
      ]
     },
     "execution_count": 15,
     "metadata": {},
     "output_type": "execute_result"
    }
   ],
   "source": [
    "data2 = coerce(data, Count => Continuous);\n",
    "schema(data2)"
   ]
  },
  {
   "cell_type": "markdown",
   "id": "690756c4",
   "metadata": {},
   "source": [
    "#### Autotype"
   ]
  },
  {
   "cell_type": "markdown",
   "id": "f5814c7f",
   "metadata": {},
   "source": [
    "A last useful tool is autotype which allows you to specify rules to define the interpretation of features automatically. You can code your own rules but there are three useful ones that are pre- coded:\n",
    "\n",
    "- the : ```few_to_finite``` rule which checks how many unique entries are present\n",
    "\n",
    "in a vector and if there are \"few\" suggests a categorical type,\n",
    "\n",
    "- the : ```discrete_to_continuous``` rule converts ```Integer``` or ```Count``` to\n",
    "\n",
    "Continuous\n",
    "\n",
    "- the : ```string_to_multiclass``` which returns ```Multiclass``` for any string-like\n",
    "\n",
    "column.\n",
    "\n",
    "For instance:"
   ]
  },
  {
   "cell_type": "code",
   "execution_count": 16,
   "id": "b5edeafb",
   "metadata": {},
   "outputs": [
    {
     "data": {
      "text/plain": [
       "┌─────────┬───────────────────┬───────────────────────────────────┐\n",
       "│\u001b[22m names   \u001b[0m│\u001b[22m scitypes          \u001b[0m│\u001b[22m types                             \u001b[0m│\n",
       "├─────────┼───────────────────┼───────────────────────────────────┤\n",
       "│ Crim    │ Continuous        │ Float64                           │\n",
       "│ Zn      │ OrderedFactor{26} │ CategoricalValue{Float64, UInt32} │\n",
       "│ Indus   │ Continuous        │ Float64                           │\n",
       "│ Chas    │ OrderedFactor{2}  │ CategoricalValue{Int64, UInt32}   │\n",
       "│ NOx     │ Continuous        │ Float64                           │\n",
       "│ Rm      │ Continuous        │ Float64                           │\n",
       "│ Age     │ Continuous        │ Float64                           │\n",
       "│ Dis     │ Continuous        │ Float64                           │\n",
       "│ Rad     │ OrderedFactor{9}  │ CategoricalValue{Int64, UInt32}   │\n",
       "│ Tax     │ Count             │ Int64                             │\n",
       "│ PTRatio │ OrderedFactor{46} │ CategoricalValue{Float64, UInt32} │\n",
       "│ Black   │ Continuous        │ Float64                           │\n",
       "│ LStat   │ Continuous        │ Float64                           │\n",
       "│ MedV    │ Continuous        │ Float64                           │\n",
       "└─────────┴───────────────────┴───────────────────────────────────┘\n"
      ]
     },
     "execution_count": 16,
     "metadata": {},
     "output_type": "execute_result"
    }
   ],
   "source": [
    "boston3 = coerce(boston, autotype(boston, :few_to_finite));\n",
    "schema(boston3)"
   ]
  },
  {
   "cell_type": "markdown",
   "id": "bd85b14f",
   "metadata": {},
   "source": [
    "|Rule Symbol    | scitype suggestion  |\n",
    "|:--------------|:---------------------|\n",
    "|**```:few_to_finite```**| an appropriate ```Finite``` subtype for columns with few distinct values |\n",
    "|**```:discrete_to_continuous```** | if not ```Finite```, then ```Continuous``` for any ```Count``` or ```Integer``` scitypes/types|\n",
    "|**```:string_to_multiclass```**   | ```Multiclass``` for any string-like column|"
   ]
  },
  {
   "cell_type": "markdown",
   "id": "dd25821d",
   "metadata": {},
   "source": [
    "#### Examples"
   ]
  },
  {
   "cell_type": "code",
   "execution_count": 17,
   "id": "da6e4e3b",
   "metadata": {},
   "outputs": [
    {
     "data": {
      "text/plain": [
       "┌───────┬────────────┬─────────┐\n",
       "│\u001b[22m names \u001b[0m│\u001b[22m scitypes   \u001b[0m│\u001b[22m types   \u001b[0m│\n",
       "├───────┼────────────┼─────────┤\n",
       "│ a     │ Unknown    │ Char    │\n",
       "│ b     │ Count      │ Int64   │\n",
       "│ c     │ Count      │ Bool    │\n",
       "│ d     │ Continuous │ Float64 │\n",
       "│ e     │ Count      │ Int64   │\n",
       "└───────┴────────────┴─────────┘\n"
      ]
     },
     "execution_count": 17,
     "metadata": {},
     "output_type": "execute_result"
    }
   ],
   "source": [
    "n = 50\n",
    "X = (a = rand(\"abc\", n),         # 3 values, not number        --> Multiclass\n",
    "     b = rand([1,2,3,4], n),     # 4 values, number            --> OrderedFactor\n",
    "     c = rand([true,false], n),  # 2 values, number but only 2 --> Multiclass\n",
    "     d = randn(n),               # many values                 --> unchanged\n",
    "     e = rand(collect(1:n), n))  # many values                 --> unchanged\n",
    "schema(X)"
   ]
  },
  {
   "cell_type": "code",
   "execution_count": 18,
   "id": "376e18e4",
   "metadata": {},
   "outputs": [],
   "source": [
    "X2 = coerce(X, autotype(X, only_changes=true));"
   ]
  },
  {
   "cell_type": "code",
   "execution_count": 19,
   "id": "84d25d95",
   "metadata": {},
   "outputs": [
    {
     "data": {
      "text/plain": [
       "Dict{Symbol, Type} with 3 entries:\n",
       "  :a => Multiclass\n",
       "  :b => OrderedFactor\n",
       "  :c => OrderedFactor"
      ]
     },
     "execution_count": 19,
     "metadata": {},
     "output_type": "execute_result"
    }
   ],
   "source": [
    "autotype(X, only_changes=true)"
   ]
  },
  {
   "cell_type": "code",
   "execution_count": 20,
   "id": "e689ffa4",
   "metadata": {},
   "outputs": [
    {
     "data": {
      "text/plain": [
       "┌───────┬──────────────────┬─────────────────────────────────┐\n",
       "│\u001b[22m names \u001b[0m│\u001b[22m scitypes         \u001b[0m│\u001b[22m types                           \u001b[0m│\n",
       "├───────┼──────────────────┼─────────────────────────────────┤\n",
       "│ a     │ Multiclass{3}    │ CategoricalValue{Char, UInt32}  │\n",
       "│ b     │ OrderedFactor{4} │ CategoricalValue{Int64, UInt32} │\n",
       "│ c     │ OrderedFactor{2} │ CategoricalValue{Bool, UInt32}  │\n",
       "│ d     │ Continuous       │ Float64                         │\n",
       "│ e     │ Count            │ Int64                           │\n",
       "└───────┴──────────────────┴─────────────────────────────────┘\n"
      ]
     },
     "execution_count": 20,
     "metadata": {},
     "output_type": "execute_result"
    }
   ],
   "source": [
    "schema(X2)"
   ]
  },
  {
   "cell_type": "code",
   "execution_count": 21,
   "id": "f551e64c",
   "metadata": {},
   "outputs": [],
   "source": [
    "X3 = coerce(X, autotype(X, only_changes=true, rules=(:discrete_to_continuous, :few_to_finite)));"
   ]
  },
  {
   "cell_type": "code",
   "execution_count": 22,
   "id": "5bc04ec1",
   "metadata": {},
   "outputs": [
    {
     "data": {
      "text/plain": [
       "Dict{Symbol, Type} with 4 entries:\n",
       "  :a => Multiclass\n",
       "  :b => OrderedFactor\n",
       "  :e => Continuous\n",
       "  :c => OrderedFactor"
      ]
     },
     "execution_count": 22,
     "metadata": {},
     "output_type": "execute_result"
    }
   ],
   "source": [
    "autotype(X, only_changes=true, rules=(:discrete_to_continuous, :few_to_finite))"
   ]
  },
  {
   "cell_type": "code",
   "execution_count": 23,
   "id": "a8fd6bbd",
   "metadata": {},
   "outputs": [
    {
     "data": {
      "text/plain": [
       "┌───────┬──────────────────┬─────────────────────────────────┐\n",
       "│\u001b[22m names \u001b[0m│\u001b[22m scitypes         \u001b[0m│\u001b[22m types                           \u001b[0m│\n",
       "├───────┼──────────────────┼─────────────────────────────────┤\n",
       "│ a     │ Multiclass{3}    │ CategoricalValue{Char, UInt32}  │\n",
       "│ b     │ OrderedFactor{4} │ CategoricalValue{Int64, UInt32} │\n",
       "│ c     │ OrderedFactor{2} │ CategoricalValue{Bool, UInt32}  │\n",
       "│ d     │ Continuous       │ Float64                         │\n",
       "│ e     │ Continuous       │ Float64                         │\n",
       "└───────┴──────────────────┴─────────────────────────────────┘\n"
      ]
     },
     "execution_count": 23,
     "metadata": {},
     "output_type": "execute_result"
    }
   ],
   "source": [
    "schema(X3)"
   ]
  },
  {
   "cell_type": "markdown",
   "id": "e76fc08e",
   "metadata": {},
   "source": [
    "If the keyword ```only_changes``` is passed set to ```true```, then only the column names for which the suggested type is different from that provided by the convention are returned.\n",
    "\n",
    "To specify which rules are to be applied, use the ```rules``` keyword and specify a tuple of symbols referring to specific rules; the default rule is ```:few_to_finite``` which applies a heuristic for columns which have relatively few values, these columns are then encoded with an appropriate ```Finite``` type. It is important to note that the order in which the rules are specified matters; rules will be applied in that order."
   ]
  }
 ],
 "metadata": {
  "hide_input": false,
  "kernelspec": {
   "display_name": "Julia 1.7.3",
   "language": "julia",
   "name": "julia-1.7"
  },
  "language_info": {
   "file_extension": ".jl",
   "mimetype": "application/julia",
   "name": "julia",
   "version": "1.7.3"
  }
 },
 "nbformat": 4,
 "nbformat_minor": 5
}
