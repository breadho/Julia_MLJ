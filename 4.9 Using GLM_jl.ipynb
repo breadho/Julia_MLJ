{
 "cells": [
  {
   "cell_type": "markdown",
   "id": "9b8804d3",
   "metadata": {},
   "source": [
    "# End to end examples"
   ]
  },
  {
   "cell_type": "markdown",
   "id": "bc8fac57",
   "metadata": {},
   "source": [
    "## Using GLM.jl"
   ]
  },
  {
   "cell_type": "code",
   "execution_count": 1,
   "id": "b92146ee",
   "metadata": {},
   "outputs": [
    {
     "name": "stderr",
     "output_type": "stream",
     "text": [
      "\u001b[32m\u001b[1m  Activating\u001b[22m\u001b[39m project at `D:\\JULIA\\6_ML_with_Julia\\EX-GLM`\n",
      "\u001b[32m\u001b[1m   Installed\u001b[22m\u001b[39m MLJGLMInterface ─ v0.2.0\n",
      "\u001b[32m\u001b[1mPrecompiling\u001b[22m\u001b[39m project...\n",
      "\u001b[32m  ✓ \u001b[39mMLJGLMInterface\n",
      "  1 dependency successfully precompiled in 8 seconds (96 already precompiled)\n"
     ]
    }
   ],
   "source": [
    "using Pkg; Pkg.activate(\"D:/JULIA/6_ML_with_Julia/EX-GLM\"); Pkg.instantiate()"
   ]
  },
  {
   "cell_type": "markdown",
   "id": "05b27609",
   "metadata": {},
   "source": [
    "> Reading the data <br>\n",
    "> Defining the Linear Model <br>\n",
    "> Reading the Output of Fitting the Linear Model <br>\n",
    "> Defining the Logistic Model <br>\n",
    "> Reading the Output from the Prediction of the Logistic Model <br>"
   ]
  },
  {
   "cell_type": "markdown",
   "id": "42d49779",
   "metadata": {},
   "source": [
    "This juypter lab showcases MLJ in particular using the popular GLM Julia package. We are using two datasets. One dataset was created manually for testing purposes. The other data set is the CollegeDistance dataset from the AER package in R.\n",
    "\n",
    "We can quickly define our models in MLJ and study their results. It is very easy and consistent."
   ]
  },
  {
   "cell_type": "code",
   "execution_count": 2,
   "id": "1a13dec3",
   "metadata": {},
   "outputs": [
    {
     "name": "stderr",
     "output_type": "stream",
     "text": [
      "┌ Info: For silent loading, specify `verbosity=0`. \n",
      "└ @ Main C:\\Users\\jeffr\\.julia\\packages\\MLJModels\\tMgLW\\src\\loading.jl:168\n"
     ]
    },
    {
     "name": "stdout",
     "output_type": "stream",
     "text": [
      "import MLJGLMInterface"
     ]
    },
    {
     "name": "stderr",
     "output_type": "stream",
     "text": [
      "┌ Info: Precompiling MLJGLMInterface [caf8df21-4939-456d-ac9c-5fefbfb04c0c]\n",
      "└ @ Base loading.jl:1423\n"
     ]
    },
    {
     "name": "stdout",
     "output_type": "stream",
     "text": [
      " ✔\n"
     ]
    },
    {
     "name": "stderr",
     "output_type": "stream",
     "text": [
      "┌ Info: For silent loading, specify `verbosity=0`. \n",
      "└ @ Main C:\\Users\\jeffr\\.julia\\packages\\MLJModels\\tMgLW\\src\\loading.jl:168\n"
     ]
    },
    {
     "name": "stdout",
     "output_type": "stream",
     "text": [
      "import MLJGLMInterface ✔\n"
     ]
    },
    {
     "data": {
      "text/plain": [
       "MLJGLMInterface.LinearBinaryClassifier"
      ]
     },
     "execution_count": 2,
     "metadata": {},
     "output_type": "execute_result"
    }
   ],
   "source": [
    "using MLJ, CategoricalArrays, PrettyPrinting\n",
    "import DataFrames: DataFrame, nrow\n",
    "using UrlDownload\n",
    "\n",
    "LinearRegressor = @load LinearRegressor pkg = GLM\n",
    "LinearBinaryClassifier = @load LinearBinaryClassifier pkg = GLM"
   ]
  },
  {
   "cell_type": "markdown",
   "id": "9147e3b1",
   "metadata": {},
   "source": [
    "### Reading the data\n",
    "\n",
    "---"
   ]
  },
  {
   "cell_type": "markdown",
   "id": "3c58c0bd",
   "metadata": {},
   "source": [
    "The CollegeDistance dataset was stored in a CSV file. Here, we read the input file."
   ]
  },
  {
   "cell_type": "code",
   "execution_count": 3,
   "id": "bce08127",
   "metadata": {},
   "outputs": [
    {
     "data": {
      "text/plain": [
       "\"https://raw.githubusercontent.com/tlienart/DataScienceTutorialsData.jl/master/data/glm/\""
      ]
     },
     "execution_count": 3,
     "metadata": {},
     "output_type": "execute_result"
    }
   ],
   "source": [
    "baseurl = \"https://raw.githubusercontent.com/tlienart/DataScienceTutorialsData.jl/master/data/glm/\""
   ]
  },
  {
   "cell_type": "code",
   "execution_count": 5,
   "id": "32d7c348",
   "metadata": {},
   "outputs": [],
   "source": [
    "dfX = DataFrame(urldownload(baseurl * \"X3.csv\"))\n",
    "dfYbinary = DataFrame(urldownload(baseurl * \"Y3.csv\"))\n",
    "dfX1 = DataFrame(urldownload(baseurl * \"X1.csv\"))\n",
    "dfY1 = DataFrame(urldownload(baseurl * \"Y1.csv\"));"
   ]
  },
  {
   "cell_type": "markdown",
   "id": "ff9b2a18",
   "metadata": {},
   "source": [
    "You can have a look at those using `first` :"
   ]
  },
  {
   "cell_type": "code",
   "execution_count": 6,
   "id": "04a99d76",
   "metadata": {},
   "outputs": [
    {
     "data": {
      "text/html": [
       "<div class=\"data-frame\"><p>3 rows × 12 columns (omitted printing of 3 columns)</p><table class=\"data-frame\"><thead><tr><th></th><th>gender</th><th>ethnicity</th><th>score</th><th>fcollege</th><th>mcollege</th><th>home</th><th>urban</th><th>unemp</th><th>wage</th></tr><tr><th></th><th title=\"InlineStrings.String7\">String7</th><th title=\"InlineStrings.String15\">String15</th><th title=\"Float64\">Float64</th><th title=\"InlineStrings.String3\">String3</th><th title=\"InlineStrings.String3\">String3</th><th title=\"InlineStrings.String3\">String3</th><th title=\"InlineStrings.String3\">String3</th><th title=\"Float64\">Float64</th><th title=\"Float64\">Float64</th></tr></thead><tbody><tr><th>1</th><td>male</td><td>other</td><td>39.15</td><td>yes</td><td>no</td><td>yes</td><td>yes</td><td>6.2</td><td>8.09</td></tr><tr><th>2</th><td>female</td><td>other</td><td>48.87</td><td>no</td><td>no</td><td>yes</td><td>yes</td><td>6.2</td><td>8.09</td></tr><tr><th>3</th><td>male</td><td>other</td><td>48.74</td><td>no</td><td>no</td><td>yes</td><td>yes</td><td>6.2</td><td>8.09</td></tr></tbody></table></div>"
      ],
      "text/latex": [
       "\\begin{tabular}{r|cccccccccc}\n",
       "\t& gender & ethnicity & score & fcollege & mcollege & home & urban & unemp & wage & \\\\\n",
       "\t\\hline\n",
       "\t& String7 & String15 & Float64 & String3 & String3 & String3 & String3 & Float64 & Float64 & \\\\\n",
       "\t\\hline\n",
       "\t1 & male & other & 39.15 & yes & no & yes & yes & 6.2 & 8.09 & $\\dots$ \\\\\n",
       "\t2 & female & other & 48.87 & no & no & yes & yes & 6.2 & 8.09 & $\\dots$ \\\\\n",
       "\t3 & male & other & 48.74 & no & no & yes & yes & 6.2 & 8.09 & $\\dots$ \\\\\n",
       "\\end{tabular}\n"
      ],
      "text/plain": [
       "\u001b[1m3×12 DataFrame\u001b[0m\n",
       "\u001b[1m Row \u001b[0m│\u001b[1m gender  \u001b[0m\u001b[1m ethnicity \u001b[0m\u001b[1m score   \u001b[0m\u001b[1m fcollege \u001b[0m\u001b[1m mcollege \u001b[0m\u001b[1m home    \u001b[0m\u001b[1m urban   \u001b[0m\u001b[1m unem\u001b[0m ⋯\n",
       "\u001b[1m     \u001b[0m│\u001b[90m String7 \u001b[0m\u001b[90m String15  \u001b[0m\u001b[90m Float64 \u001b[0m\u001b[90m String3  \u001b[0m\u001b[90m String3  \u001b[0m\u001b[90m String3 \u001b[0m\u001b[90m String3 \u001b[0m\u001b[90m Floa\u001b[0m ⋯\n",
       "─────┼──────────────────────────────────────────────────────────────────────────\n",
       "   1 │ male     other        39.15  yes       no        yes      yes           ⋯\n",
       "   2 │ female   other        48.87  no        no        yes      yes\n",
       "   3 │ male     other        48.74  no        no        yes      yes\n",
       "\u001b[36m                                                               5 columns omitted\u001b[0m"
      ]
     },
     "execution_count": 6,
     "metadata": {},
     "output_type": "execute_result"
    }
   ],
   "source": [
    "first(dfX, 3)"
   ]
  },
  {
   "cell_type": "markdown",
   "id": "967f8421",
   "metadata": {},
   "source": [
    "same for Y:"
   ]
  },
  {
   "cell_type": "code",
   "execution_count": 7,
   "id": "52f247b0",
   "metadata": {},
   "outputs": [
    {
     "data": {
      "text/html": [
       "<div class=\"data-frame\"><p>3 rows × 1 columns</p><table class=\"data-frame\"><thead><tr><th></th><th>Y</th></tr><tr><th></th><th title=\"Float64\">Float64</th></tr></thead><tbody><tr><th>1</th><td>-2.04463</td></tr><tr><th>2</th><td>-0.461529</td></tr><tr><th>3</th><td>0.458262</td></tr></tbody></table></div>"
      ],
      "text/latex": [
       "\\begin{tabular}{r|c}\n",
       "\t& Y\\\\\n",
       "\t\\hline\n",
       "\t& Float64\\\\\n",
       "\t\\hline\n",
       "\t1 & -2.04463 \\\\\n",
       "\t2 & -0.461529 \\\\\n",
       "\t3 & 0.458262 \\\\\n",
       "\\end{tabular}\n"
      ],
      "text/plain": [
       "\u001b[1m3×1 DataFrame\u001b[0m\n",
       "\u001b[1m Row \u001b[0m│\u001b[1m Y         \u001b[0m\n",
       "\u001b[1m     \u001b[0m│\u001b[90m Float64   \u001b[0m\n",
       "─────┼───────────\n",
       "   1 │ -2.04463\n",
       "   2 │ -0.461529\n",
       "   3 │  0.458262"
      ]
     },
     "execution_count": 7,
     "metadata": {},
     "output_type": "execute_result"
    }
   ],
   "source": [
    "first(dfY1, 3)"
   ]
  },
  {
   "cell_type": "markdown",
   "id": "ed515ff1",
   "metadata": {},
   "source": [
    "### Defining the Linear Model\n",
    "\n",
    "---"
   ]
  },
  {
   "cell_type": "markdown",
   "id": "6a603073",
   "metadata": {},
   "source": [
    "Let see how many MLJ models handle out kind of target which is the y variable."
   ]
  },
  {
   "cell_type": "code",
   "execution_count": 9,
   "id": "9d2f8cdb",
   "metadata": {},
   "outputs": [
    {
     "name": "stdout",
     "output_type": "stream",
     "text": [
      "EvoTreeCount\n",
      "LinearCountRegressor\n",
      "XGBoostCount\n"
     ]
    }
   ],
   "source": [
    "ms = models() do m\n",
    "    AbstractVector{Count} <: m.target_scitype\n",
    "end\n",
    "foreach(m -> println(m.name), ms)"
   ]
  },
  {
   "cell_type": "markdown",
   "id": "7b140ee7",
   "metadata": {},
   "source": [
    "How about  if the type was Continuous:"
   ]
  },
  {
   "cell_type": "code",
   "execution_count": 10,
   "id": "5c7f83e3",
   "metadata": {},
   "outputs": [
    {
     "name": "stdout",
     "output_type": "stream",
     "text": [
      "ARDRegressor\n",
      "AdaBoostRegressor\n",
      "BaggingRegressor\n",
      "BayesianRidgeRegressor\n",
      "ConstantRegressor\n",
      "DecisionTreeRegressor\n",
      "DecisionTreeRegressor\n",
      "DeterministicConstantRegressor\n",
      "DummyRegressor\n",
      "ElasticNetCVRegressor\n",
      "ElasticNetRegressor\n",
      "ElasticNetRegressor\n",
      "EpsilonSVR\n",
      "EvoTreeGaussian\n",
      "EvoTreeRegressor\n",
      "ExtraTreesRegressor\n",
      "GaussianProcessRegressor\n",
      "GradientBoostingRegressor\n",
      "HuberRegressor\n",
      "HuberRegressor\n",
      "KNNRegressor\n",
      "KNeighborsRegressor\n",
      "KPLSRegressor\n",
      "LADRegressor\n",
      "LGBMRegressor\n",
      "LarsCVRegressor\n",
      "LarsRegressor\n",
      "LassoCVRegressor\n",
      "LassoLarsCVRegressor\n",
      "LassoLarsICRegressor\n",
      "LassoLarsRegressor\n",
      "LassoRegressor\n",
      "LassoRegressor\n",
      "LinearRegressor\n",
      "LinearRegressor\n",
      "LinearRegressor\n",
      "LinearRegressor\n",
      "NeuralNetworkRegressor\n",
      "NuSVR\n",
      "OrthogonalMatchingPursuitCVRegressor\n",
      "OrthogonalMatchingPursuitRegressor\n",
      "PLSRegressor\n",
      "PassiveAggressiveRegressor\n",
      "QuantileRegressor\n",
      "RANSACRegressor\n",
      "RandomForestRegressor\n",
      "RandomForestRegressor\n",
      "RandomForestRegressor\n",
      "RidgeCVRegressor\n",
      "RidgeRegressor\n",
      "RidgeRegressor\n",
      "RidgeRegressor\n",
      "RobustRegressor\n",
      "SGDRegressor\n",
      "SVMLinearRegressor\n",
      "SVMNuRegressor\n",
      "SVMRegressor\n",
      "TheilSenRegressor\n",
      "XGBoostRegressor\n"
     ]
    }
   ],
   "source": [
    "ms = models() do m\n",
    "    Vector{Continuous} <: m.target_scitype\n",
    "end\n",
    "\n",
    "foreach(m -> println(m.name), ms)"
   ]
  },
  {
   "cell_type": "markdown",
   "id": "ecb446a2",
   "metadata": {},
   "source": [
    "We can quickly define our models in MLJ. It is very easy and consistent."
   ]
  },
  {
   "cell_type": "code",
   "execution_count": 11,
   "id": "24488551",
   "metadata": {},
   "outputs": [
    {
     "name": "stderr",
     "output_type": "stream",
     "text": [
      "┌ Info: Training Machine{ProbabilisticPipeline{NamedTuple{,…},…},…}.\n",
      "└ @ MLJBase C:\\Users\\jeffr\\.julia\\packages\\MLJBase\\MuLnJ\\src\\machines.jl:464\n",
      "┌ Info: Training Machine{Standardizer,…}.\n",
      "└ @ MLJBase C:\\Users\\jeffr\\.julia\\packages\\MLJBase\\MuLnJ\\src\\machines.jl:464\n",
      "┌ Info: Training Machine{OneHotEncoder,…}.\n",
      "└ @ MLJBase C:\\Users\\jeffr\\.julia\\packages\\MLJBase\\MuLnJ\\src\\machines.jl:464\n",
      "┌ Info: Training Machine{LinearRegressor,…}.\n",
      "└ @ MLJBase C:\\Users\\jeffr\\.julia\\packages\\MLJBase\\MuLnJ\\src\\machines.jl:464\n"
     ]
    },
    {
     "data": {
      "text/plain": [
       "(linear_regressor = (features = [\"V1\", \"V2\", \"V3\", \"V4\", \"V5\"],\n",
       "                     coef = [1.0207869497405524, 1.03242891546997, 0.009406292423317635, 0.026633915171207456, 0.29985915636370225, 0.01589388399578986],\n",
       "                     intercept = 0.01589388399578986,),\n",
       " one_hot_encoder = (fitresult = OneHotEncoderResult,),\n",
       " standardizer = Dict(:V1 => (0.0024456300706479973, 1.1309193246154066), :V2 => (-0.015561621122145304, 1.1238897897565245), :V5 => (0.0077036209704558975, 1.1421493464876622), :V3 => (0.02442889884313839, 2.332713568319154), :V4 => (0.15168404285157286, 6.806065861835239)),\n",
       " machines = Machine[Machine{Standardizer,…}, Machine{OneHotEncoder,…}, Machine{LinearRegressor,…}],\n",
       " fitted_params_given_machine = OrderedCollections.LittleDict{Any, Any, Vector{Any}, Vector{Any}}(Machine{Standardizer,…} => Dict(:V1 => (0.0024456300706479973, 1.1309193246154066), :V2 => (-0.015561621122145304, 1.1238897897565245), :V5 => (0.0077036209704558975, 1.1421493464876622), :V3 => (0.02442889884313839, 2.332713568319154), :V4 => (0.15168404285157286, 6.806065861835239)), Machine{OneHotEncoder,…} => (fitresult = OneHotEncoderResult,), Machine{LinearRegressor,…} => (features = [\"V1\", \"V2\", \"V3\", \"V4\", \"V5\"], coef = [1.0207869497405524, 1.03242891546997, 0.009406292423317635, 0.026633915171207456, 0.29985915636370225, 0.01589388399578986], intercept = 0.01589388399578986)),)"
      ]
     },
     "execution_count": 11,
     "metadata": {},
     "output_type": "execute_result"
    }
   ],
   "source": [
    "X = copy(dfX1)\n",
    "y = copy(dfY1)\n",
    "\n",
    "coerce!(X, autotype(X, :string_to_multiclass))\n",
    "yv = Vector(y[:, 1])\n",
    "\n",
    "LinearRegressorPipe = Pipeline(\n",
    "    Standardizer(),\n",
    "    OneHotEncoder(drop_last = true),\n",
    "    LinearRegressor()\n",
    ")\n",
    "\n",
    "LinearModel = machine(LinearRegressorPipe, X, yv)\n",
    "fit!(LinearModel)\n",
    "fp = fitted_params(LinearModel)"
   ]
  },
  {
   "cell_type": "markdown",
   "id": "40560180",
   "metadata": {},
   "source": [
    "### Reading the Output of Fitting the Linear Model\n",
    "\n",
    "---"
   ]
  },
  {
   "cell_type": "markdown",
   "id": "a30623a5",
   "metadata": {},
   "source": [
    "We can quickly read the results of our models in MLJ. Remember to compute the accuracy of the linear model."
   ]
  },
  {
   "cell_type": "code",
   "execution_count": 12,
   "id": "7051f256",
   "metadata": {},
   "outputs": [
    {
     "data": {
      "text/plain": [
       "4000-element Vector{Distributions.Normal{Float64}}:\n",
       " Distributions.Normal{Float64}(μ=-1.6915415373374758, σ=0.9580569656804974)\n",
       " Distributions.Normal{Float64}(μ=1.4120055632036437, σ=0.9580569656804974)\n",
       " Distributions.Normal{Float64}(μ=0.47362968068623923, σ=0.9580569656804974)\n",
       " Distributions.Normal{Float64}(μ=0.7266938985590493, σ=0.9580569656804974)\n",
       " Distributions.Normal{Float64}(μ=-1.8396459459760564, σ=0.9580569656804974)\n",
       " Distributions.Normal{Float64}(μ=0.17582494693025746, σ=0.9580569656804974)\n",
       " Distributions.Normal{Float64}(μ=-0.6198103897510154, σ=0.9580569656804974)\n",
       " Distributions.Normal{Float64}(μ=2.180787658539391, σ=0.9580569656804974)\n",
       " Distributions.Normal{Float64}(μ=2.350862495689184, σ=0.9580569656804974)\n",
       " Distributions.Normal{Float64}(μ=0.8121326438168863, σ=0.9580569656804974)\n",
       " Distributions.Normal{Float64}(μ=0.26763461952335066, σ=0.9580569656804974)\n",
       " Distributions.Normal{Float64}(μ=-0.9597859195673623, σ=0.9580569656804974)\n",
       " Distributions.Normal{Float64}(μ=-0.45586101923927047, σ=0.9580569656804974)\n",
       " ⋮\n",
       " Distributions.Normal{Float64}(μ=-1.5710352382340806, σ=0.9580569656804974)\n",
       " Distributions.Normal{Float64}(μ=0.7892100599570454, σ=0.9580569656804974)\n",
       " Distributions.Normal{Float64}(μ=0.6062040281841251, σ=0.9580569656804974)\n",
       " Distributions.Normal{Float64}(μ=-0.47942797041989216, σ=0.9580569656804974)\n",
       " Distributions.Normal{Float64}(μ=0.41469503403720764, σ=0.9580569656804974)\n",
       " Distributions.Normal{Float64}(μ=1.1221537781217268, σ=0.9580569656804974)\n",
       " Distributions.Normal{Float64}(μ=1.8298953319112667, σ=0.9580569656804974)\n",
       " Distributions.Normal{Float64}(μ=-2.117915663545709, σ=0.9580569656804974)\n",
       " Distributions.Normal{Float64}(μ=1.045858447110721, σ=0.9580569656804974)\n",
       " Distributions.Normal{Float64}(μ=-1.211004416125827, σ=0.9580569656804974)\n",
       " Distributions.Normal{Float64}(μ=-1.8897562526259846, σ=0.9580569656804974)\n",
       " Distributions.Normal{Float64}(μ=-2.6383291661394104, σ=0.9580569656804974)"
      ]
     },
     "execution_count": 12,
     "metadata": {},
     "output_type": "execute_result"
    }
   ],
   "source": [
    "ŷ = MLJ.predict(LinearModel, X)"
   ]
  },
  {
   "cell_type": "code",
   "execution_count": 18,
   "id": "a0c9052e",
   "metadata": {},
   "outputs": [
    {
     "data": {
      "text/plain": [
       "4000-element Vector{Float64}:\n",
       " -1.6915415373374758\n",
       "  1.4120055632036437\n",
       "  0.47362968068623923\n",
       "  0.7266938985590493\n",
       " -1.8396459459760564\n",
       "  0.17582494693025746\n",
       " -0.6198103897510154\n",
       "  2.180787658539391\n",
       "  2.350862495689184\n",
       "  0.8121326438168863\n",
       "  0.26763461952335066\n",
       " -0.9597859195673623\n",
       " -0.45586101923927047\n",
       "  ⋮\n",
       " -1.5710352382340806\n",
       "  0.7892100599570454\n",
       "  0.6062040281841251\n",
       " -0.47942797041989216\n",
       "  0.41469503403720764\n",
       "  1.1221537781217268\n",
       "  1.8298953319112667\n",
       " -2.117915663545709\n",
       "  1.045858447110721\n",
       " -1.211004416125827\n",
       " -1.8897562526259846\n",
       " -2.6383291661394104"
      ]
     },
     "execution_count": 18,
     "metadata": {},
     "output_type": "execute_result"
    }
   ],
   "source": [
    "yhatResponse = [ŷ[i, 1].μ for i in 1:nrow(y)] # μ가 곧 반응 변수의 결과이므로"
   ]
  },
  {
   "cell_type": "code",
   "execution_count": 16,
   "id": "3a24f97a",
   "metadata": {},
   "outputs": [
    {
     "data": {
      "text/plain": [
       "(linear_regressor = (deviance = 3665.985359058753,\n",
       "                     dof_residual = 3994.0,\n",
       "                     stderror = [0.015876403107805682, 0.015862782503144914, 0.01515900587321476, 0.015156676986003868, 0.016546721612329368, 0.0151482106987007],\n",
       "                     vcov = [0.0002520601756415419 2.2602205615189542e-5 … -7.850207954537935e-5 -5.6471623554837194e-21; 2.2602205615189542e-5 0.0002516278687420804 … -7.734342973144671e-5 6.403094529988605e-21; … ; -7.850207954537935e-5 -7.734342973144671e-5 … 0.00027379399611592785 -2.1322073720725597e-21; -5.6471623554837194e-21 6.403094529988605e-21 … -2.1322073720725597e-21 0.00022946828737223037],),\n",
       " one_hot_encoder = (features_to_be_encoded = Symbol[],\n",
       "                    new_features = [:V1, :V2, :V3, :V4, :V5],),\n",
       " standardizer = (features_fit = [:V1, :V2, :V5, :V3, :V4],),\n",
       " machines = Machine[Machine{Standardizer,…}, Machine{OneHotEncoder,…}, Machine{LinearRegressor,…}],\n",
       " report_given_machine = OrderedCollections.LittleDict{Any, Any, Vector{Any}, Vector{Any}}(Machine{Standardizer,…} => (features_fit = [:V1, :V2, :V5, :V3, :V4],), Machine{OneHotEncoder,…} => (features_to_be_encoded = Symbol[], new_features = [:V1, :V2, :V3, :V4, :V5]), Machine{LinearRegressor,…} => (deviance = 3665.985359058753, dof_residual = 3994.0, stderror = [0.015876403107805682, 0.015862782503144914, 0.01515900587321476, 0.015156676986003868, 0.016546721612329368, 0.0151482106987007], vcov = [0.0002520601756415419 2.2602205615189542e-5 … -7.850207954537935e-5 -5.6471623554837194e-21; 2.2602205615189542e-5 0.0002516278687420804 … -7.734342973144671e-5 6.403094529988605e-21; … ; -7.850207954537935e-5 -7.734342973144671e-5 … 0.00027379399611592785 -2.1322073720725597e-21; -5.6471623554837194e-21 6.403094529988605e-21 … -2.1322073720725597e-21 0.00022946828737223037])),)"
      ]
     },
     "execution_count": 16,
     "metadata": {},
     "output_type": "execute_result"
    }
   ],
   "source": [
    "residuals = y .- yhatResponse\n",
    "r = report(LinearModel)"
   ]
  },
  {
   "cell_type": "code",
   "execution_count": 17,
   "id": "2174621f",
   "metadata": {},
   "outputs": [
    {
     "name": "stdout",
     "output_type": "stream",
     "text": [
      "\n",
      " Coefficients: [1.0207869497405524, 1.03242891546997, 0.009406292423317635, 0.026633915171207456, 0.29985915636370225, 0.01589388399578986]\n",
      "\n",
      " y \n",
      " [-2.0446341129015, -0.461528671336098, 0.458261960749596, 2.2746223981481, -0.969887403007307]\n",
      "\n",
      " ŷ \n",
      " Distributions.Normal{Float64}[Distributions.Normal{Float64}(μ=-1.6915415373374758, σ=0.9580569656804974), Distributions.Normal{Float64}(μ=1.4120055632036437, σ=0.9580569656804974), Distributions.Normal{Float64}(μ=0.47362968068623923, σ=0.9580569656804974), Distributions.Normal{Float64}(μ=0.7266938985590493, σ=0.9580569656804974), Distributions.Normal{Float64}(μ=-1.8396459459760564, σ=0.9580569656804974)]\n",
      "\n",
      " yhatResponse \n",
      "[-1.6915415373374758, 1.4120055632036437, 0.47362968068623923, 0.7266938985590493, -1.8396459459760564]\n",
      "\n",
      " Residuals \n",
      " [-0.3530925755640242, -1.8735342345397417, -0.01536771993664321, 1.5479284995890508, 0.8697585429687493]\n",
      "\n",
      " Standard Error per Coefficient \n",
      "[0.015862782503144914, 0.01515900587321476, 0.015156676986003868, 0.016546721612329368, 0.0151482106987007]\n"
     ]
    }
   ],
   "source": [
    "k = collect(keys(fp.fitted_params_given_machine))[3]\n",
    "println(\"\\n Coefficients: \", fp.fitted_params_given_machine[k].coef)\n",
    "println(\"\\n y \\n \", y[1:5, 1])\n",
    "println(\"\\n ŷ \\n \", ŷ[1:5])\n",
    "println(\"\\n yhatResponse \\n\", yhatResponse[1:5])\n",
    "println(\"\\n Residuals \\n \", y[1:5, 1] .- yhatResponse[1:5])\n",
    "println(\"\\n Standard Error per Coefficient \\n\", r.linear_regressor.stderror[2:end])"
   ]
  },
  {
   "cell_type": "markdown",
   "id": "5afef621",
   "metadata": {},
   "source": [
    "### Defining the Logistic Model\n",
    "\n",
    "---"
   ]
  },
  {
   "cell_type": "code",
   "execution_count": 22,
   "id": "59418c2f",
   "metadata": {},
   "outputs": [
    {
     "name": "stderr",
     "output_type": "stream",
     "text": [
      "┌ Info: Training Machine{ProbabilisticPipeline{NamedTuple{,…},…},…}.\n",
      "└ @ MLJBase C:\\Users\\jeffr\\.julia\\packages\\MLJBase\\MuLnJ\\src\\machines.jl:464\n",
      "┌ Info: Training Machine{Standardizer,…}.\n",
      "└ @ MLJBase C:\\Users\\jeffr\\.julia\\packages\\MLJBase\\MuLnJ\\src\\machines.jl:464\n",
      "┌ Info: Training Machine{OneHotEncoder,…}.\n",
      "└ @ MLJBase C:\\Users\\jeffr\\.julia\\packages\\MLJBase\\MuLnJ\\src\\machines.jl:464\n",
      "┌ Info: Spawning 1 sub-features to one-hot encode feature :gender.\n",
      "└ @ MLJModels C:\\Users\\jeffr\\.julia\\packages\\MLJModels\\tMgLW\\src\\builtins\\Transformers.jl:1142\n",
      "┌ Info: Spawning 2 sub-features to one-hot encode feature :ethnicity.\n",
      "└ @ MLJModels C:\\Users\\jeffr\\.julia\\packages\\MLJModels\\tMgLW\\src\\builtins\\Transformers.jl:1142\n",
      "┌ Info: Spawning 1 sub-features to one-hot encode feature :fcollege.\n",
      "└ @ MLJModels C:\\Users\\jeffr\\.julia\\packages\\MLJModels\\tMgLW\\src\\builtins\\Transformers.jl:1142\n",
      "┌ Info: Spawning 1 sub-features to one-hot encode feature :mcollege.\n",
      "└ @ MLJModels C:\\Users\\jeffr\\.julia\\packages\\MLJModels\\tMgLW\\src\\builtins\\Transformers.jl:1142\n",
      "┌ Info: Spawning 1 sub-features to one-hot encode feature :home.\n",
      "└ @ MLJModels C:\\Users\\jeffr\\.julia\\packages\\MLJModels\\tMgLW\\src\\builtins\\Transformers.jl:1142\n",
      "┌ Info: Spawning 1 sub-features to one-hot encode feature :urban.\n",
      "└ @ MLJModels C:\\Users\\jeffr\\.julia\\packages\\MLJModels\\tMgLW\\src\\builtins\\Transformers.jl:1142\n",
      "┌ Info: Spawning 1 sub-features to one-hot encode feature :income.\n",
      "└ @ MLJModels C:\\Users\\jeffr\\.julia\\packages\\MLJModels\\tMgLW\\src\\builtins\\Transformers.jl:1142\n",
      "┌ Info: Spawning 1 sub-features to one-hot encode feature :region.\n",
      "└ @ MLJModels C:\\Users\\jeffr\\.julia\\packages\\MLJModels\\tMgLW\\src\\builtins\\Transformers.jl:1142\n",
      "┌ Info: Training Machine{LinearBinaryClassifier{LogitLink},…}.\n",
      "└ @ MLJBase C:\\Users\\jeffr\\.julia\\packages\\MLJBase\\MuLnJ\\src\\machines.jl:464\n"
     ]
    },
    {
     "data": {
      "text/plain": [
       "(linear_binary_classifier = (features = [\"gender__female\", \"ethnicity__afam\", \"ethnicity__hispanic\", \"score\", \"fcollege__no\", \"mcollege__no\", \"home__no\", \"urban__no\", \"unemp\", \"wage\", \"tuition\", \"income__high\", \"region__other\"],\n",
       "                             coef = [0.20250729378868754, 0.13075293910912905, 0.344951624939835, 0.9977565847160846, -0.5022315102984595, -0.47850056260216456, -0.20440507809954991, -0.06922751403500088, 0.05892864973017097, -0.08344749828203235, -0.0023151433338596816, 0.46177653955786585, 0.3843262958100774, -1.076633890579366],\n",
       "                             intercept = -1.076633890579366,),\n",
       " one_hot_encoder = (fitresult = OneHotEncoderResult,),\n",
       " standardizer = Dict(:wage => (9.500506478338009, 1.3430670761078416), :unemp => (7.597214581091511, 2.763580873344848), :tuition => (0.8146082493518824, 0.33950381985971717), :score => (50.88902933684601, 8.701909614072397)),\n",
       " machines = Machine[Machine{Standardizer,…}, Machine{OneHotEncoder,…}, Machine{LinearBinaryClassifier{LogitLink},…}],\n",
       " fitted_params_given_machine = OrderedCollections.LittleDict{Any, Any, Vector{Any}, Vector{Any}}(Machine{Standardizer,…} => Dict(:wage => (9.500506478338009, 1.3430670761078416), :unemp => (7.597214581091511, 2.763580873344848), :tuition => (0.8146082493518824, 0.33950381985971717), :score => (50.88902933684601, 8.701909614072397)), Machine{OneHotEncoder,…} => (fitresult = OneHotEncoderResult,), Machine{LinearBinaryClassifier{LogitLink},…} => (features = [\"gender__female\", \"ethnicity__afam\", \"ethnicity__hispanic\", \"score\", \"fcollege__no\", \"mcollege__no\", \"home__no\", \"urban__no\", \"unemp\", \"wage\", \"tuition\", \"income__high\", \"region__other\"], coef = [0.20250729378868754, 0.13075293910912905, 0.344951624939835, 0.9977565847160846, -0.5022315102984595, -0.47850056260216456, -0.20440507809954991, -0.06922751403500088, 0.05892864973017097, -0.08344749828203235, -0.0023151433338596816, 0.46177653955786585, 0.3843262958100774, -1.076633890579366], intercept = -1.076633890579366)),)"
      ]
     },
     "execution_count": 22,
     "metadata": {},
     "output_type": "execute_result"
    }
   ],
   "source": [
    "X = copy(dfX)\n",
    "y = copy(dfYbinary)\n",
    "\n",
    "coerce!(X, autotype(X, :string_to_multiclass))\n",
    "yc = CategoricalArray(y[:, 1])\n",
    "yc = coerce(yc, OrderedFactor)\n",
    "\n",
    "LinearBinaryClassifierPipe = Pipeline(\n",
    "    Standardizer(),\n",
    "    OneHotEncoder(drop_last = true),\n",
    "    LinearBinaryClassifier()\n",
    ")\n",
    "\n",
    "LogisticModel = machine(LinearBinaryClassifierPipe, X, yc)\n",
    "fit!(LogisticModel)\n",
    "fp = fitted_params(LogisticModel)"
   ]
  },
  {
   "cell_type": "markdown",
   "id": "a5a061a4",
   "metadata": {},
   "source": [
    "### Reading the Output from the Prediction of the Logistic Model\n",
    "\n",
    "---"
   ]
  },
  {
   "cell_type": "markdown",
   "id": "24cc19b0",
   "metadata": {},
   "source": [
    "The output of the MLJ model basically contain the same information as the R version of the model."
   ]
  },
  {
   "cell_type": "code",
   "execution_count": 23,
   "id": "9bde1687",
   "metadata": {},
   "outputs": [
    {
     "name": "stdout",
     "output_type": "stream",
     "text": [
      "\n",
      " Coefficients: [0.20250729378868754, 0.13075293910912905, 0.344951624939835, 0.9977565847160846, -0.5022315102984595, -0.47850056260216456, -0.20440507809954991, -0.06922751403500088, 0.05892864973017097, -0.08344749828203235, -0.0023151433338596816, 0.46177653955786585, 0.3843262958100774, -1.076633890579366]\n",
      "\n",
      " y \n",
      " [0, 0, 0, 0, 0]\n",
      "\n",
      " ŷ \n",
      " UnivariateFinite{OrderedFactor{2}, Int64, UInt32, Float64}[UnivariateFinite{OrderedFactor{2}}(0=>0.881, 1=>0.119), UnivariateFinite{OrderedFactor{2}}(0=>0.838, 1=>0.162), UnivariateFinite{OrderedFactor{2}}(0=>0.866, 1=>0.134), UnivariateFinite{OrderedFactor{2}}(0=>0.936, 1=>0.0637), UnivariateFinite{OrderedFactor{2}}(0=>0.944, 1=>0.056)]\n",
      "\n",
      " residuals \n",
      " [0.11944603346742211, 0.16182691493524637, 0.13445730373831222, 0.06370799769022917, 0.05604680411361729]\n",
      "\n",
      " Standard Error per Coefficient \n",
      "[0.1226000420274196, 0.10934317995152515, 0.04661437250372938, 0.09609243724815363, 0.10743620672240183, 0.10642223545563925, 0.09190778860389329, 0.03922724536508866, 0.04118915117919153, 0.05115399636339273, 0.08454431256127863, 0.12281455657940013, 0.17884724866298268]\n"
     ]
    }
   ],
   "source": [
    "ŷ = MLJ.predict(LogisticModel, X)\n",
    "residuals = [1 - pdf(ŷ[i], y[i, 1]) for i in 1:nrow(y)]\n",
    "r = report(LogisticModel)\n",
    "\n",
    "k = collect(keys(fp.fitted_params_given_machine))[3]\n",
    "println(\"\\n Coefficients: \", fp.fitted_params_given_machine[k].coef)\n",
    "println(\"\\n y \\n \", y[1:5, 1])\n",
    "println(\"\\n ŷ \\n \", ŷ[1:5])\n",
    "println(\"\\n residuals \\n \", residuals[1:5])\n",
    "println(\"\\n Standard Error per Coefficient \\n\", r.linear_binary_classifier.stderror[2:end])"
   ]
  },
  {
   "cell_type": "markdown",
   "id": "d40ef104",
   "metadata": {},
   "source": [
    "No logistic analysis is complete without the confusion matrix:"
   ]
  },
  {
   "cell_type": "code",
   "execution_count": 24,
   "id": "a76de53e",
   "metadata": {},
   "outputs": [
    {
     "data": {
      "text/plain": [
       "              ┌───────────────────────────┐\n",
       "              │       Ground Truth        │\n",
       "┌─────────────┼─────────────┬─────────────┤\n",
       "│  Predicted  │      0      │      1      │\n",
       "├─────────────┼─────────────┼─────────────┤\n",
       "│      0      │    3283     │     831     │\n",
       "├─────────────┼─────────────┼─────────────┤\n",
       "│      1      │     236     │     389     │\n",
       "└─────────────┴─────────────┴─────────────┘\n"
      ]
     },
     "execution_count": 24,
     "metadata": {},
     "output_type": "execute_result"
    }
   ],
   "source": [
    "yMode = [mode(ŷ[i]) for i in 1:length(ŷ)]\n",
    "y = coerce(y[:, 1], OrderedFactor)\n",
    "yMode = coerce(yMode, OrderedFactor)\n",
    "confusion_matrix(yMode, y)"
   ]
  },
  {
   "cell_type": "code",
   "execution_count": null,
   "id": "77644fd0",
   "metadata": {},
   "outputs": [],
   "source": []
  }
 ],
 "metadata": {
  "hide_input": false,
  "kernelspec": {
   "display_name": "Julia 1.7.3",
   "language": "julia",
   "name": "julia-1.7"
  },
  "language_info": {
   "file_extension": ".jl",
   "mimetype": "application/julia",
   "name": "julia",
   "version": "1.7.3"
  }
 },
 "nbformat": 4,
 "nbformat_minor": 5
}
