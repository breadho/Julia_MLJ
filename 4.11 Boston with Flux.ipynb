{
 "cells": [
  {
   "cell_type": "markdown",
   "id": "6da192a0",
   "metadata": {},
   "source": [
    "# End to end examples"
   ]
  },
  {
   "cell_type": "markdown",
   "id": "67dfd62c",
   "metadata": {},
   "source": [
    "## Boston with Flux"
   ]
  },
  {
   "cell_type": "code",
   "execution_count": 1,
   "id": "d9831c2c",
   "metadata": {},
   "outputs": [
    {
     "name": "stderr",
     "output_type": "stream",
     "text": [
      "\u001b[32m\u001b[1m  Activating\u001b[22m\u001b[39m project at `D:\\JULIA\\6_ML_with_Julia\\EX-boston-flux`\n"
     ]
    }
   ],
   "source": [
    "using Pkg ; Pkg.activate(\"D:/JULIA/6_ML_with_Julia/EX-boston-flux\"); Pkg.instantiate()"
   ]
  },
  {
   "cell_type": "markdown",
   "id": "fde263b2",
   "metadata": {},
   "source": [
    "> Getting started <br>\n",
    "> Tuning"
   ]
  },
  {
   "cell_type": "markdown",
   "id": "7fde9069",
   "metadata": {},
   "source": [
    "### Getting started\n",
    "\n",
    "---\n"
   ]
  },
  {
   "cell_type": "code",
   "execution_count": 2,
   "id": "86c87d73",
   "metadata": {},
   "outputs": [
    {
     "data": {
      "text/plain": [
       "TaskLocalRNG()"
      ]
     },
     "execution_count": 2,
     "metadata": {},
     "output_type": "execute_result"
    }
   ],
   "source": [
    "import MLJFlux\n",
    "import MLJ\n",
    "import DataFrames: DataFrame\n",
    "import Statistics\n",
    "import Flux\n",
    "using Random\n",
    "using PyPlot\n",
    "\n",
    "Random.seed!(11)"
   ]
  },
  {
   "cell_type": "markdown",
   "id": "211055b1",
   "metadata": {},
   "source": [
    "Loading the Boston dataset. Our aim will be to implement a neural nerwork regressor to predict the price of a house, given a number of features."
   ]
  },
  {
   "cell_type": "code",
   "execution_count": 3,
   "id": "3be3c2e4",
   "metadata": {},
   "outputs": [
    {
     "name": "stdout",
     "output_type": "stream",
     "text": [
      "size(features) = (506, 12)\n",
      "targets[1:3] = [24.0, 21.6, 34.7]\n",
      "┌────────────┬────────────┬────────────┬────────────┬────────────┬────────────┬────────────┬────────────┬────────────┬────────────┬────────────┬────────────┐\n",
      "│\u001b[1m Crim       \u001b[0m│\u001b[1m Zn         \u001b[0m│\u001b[1m Indus      \u001b[0m│\u001b[1m NOx        \u001b[0m│\u001b[1m Rm         \u001b[0m│\u001b[1m Age        \u001b[0m│\u001b[1m Dis        \u001b[0m│\u001b[1m Rad        \u001b[0m│\u001b[1m Tax        \u001b[0m│\u001b[1m PTRatio    \u001b[0m│\u001b[1m Black      \u001b[0m│\u001b[1m LStat      \u001b[0m│\n",
      "│\u001b[90m Float64    \u001b[0m│\u001b[90m Float64    \u001b[0m│\u001b[90m Float64    \u001b[0m│\u001b[90m Float64    \u001b[0m│\u001b[90m Float64    \u001b[0m│\u001b[90m Float64    \u001b[0m│\u001b[90m Float64    \u001b[0m│\u001b[90m Float64    \u001b[0m│\u001b[90m Float64    \u001b[0m│\u001b[90m Float64    \u001b[0m│\u001b[90m Float64    \u001b[0m│\u001b[90m Float64    \u001b[0m│\n",
      "│\u001b[90m Continuous \u001b[0m│\u001b[90m Continuous \u001b[0m│\u001b[90m Continuous \u001b[0m│\u001b[90m Continuous \u001b[0m│\u001b[90m Continuous \u001b[0m│\u001b[90m Continuous \u001b[0m│\u001b[90m Continuous \u001b[0m│\u001b[90m Continuous \u001b[0m│\u001b[90m Continuous \u001b[0m│\u001b[90m Continuous \u001b[0m│\u001b[90m Continuous \u001b[0m│\u001b[90m Continuous \u001b[0m│\n",
      "├────────────┼────────────┼────────────┼────────────┼────────────┼────────────┼────────────┼────────────┼────────────┼────────────┼────────────┼────────────┤\n",
      "│ 0.00632    │ 18.0       │ 2.31       │ 0.538      │ 6.575      │ 65.2       │ 4.09       │ 1.0        │ 296.0      │ 15.3       │ 396.9      │ 4.98       │\n",
      "│ 0.02731    │ 0.0        │ 7.07       │ 0.469      │ 6.421      │ 78.9       │ 4.9671     │ 2.0        │ 242.0      │ 17.8       │ 396.9      │ 9.14       │\n",
      "│ 0.02729    │ 0.0        │ 7.07       │ 0.469      │ 7.185      │ 61.1       │ 4.9671     │ 2.0        │ 242.0      │ 17.8       │ 392.83     │ 4.03       │\n",
      "└────────────┴────────────┴────────────┴────────────┴────────────┴────────────┴────────────┴────────────┴────────────┴────────────┴────────────┴────────────┘\n"
     ]
    }
   ],
   "source": [
    "features, targets = MLJ.@load_boston\n",
    "features = DataFrame(features)\n",
    "@show size(features)\n",
    "@show targets[1:3]\n",
    "first(features, 3) |> MLJ.pretty"
   ]
  },
  {
   "cell_type": "markdown",
   "id": "24192483",
   "metadata": {},
   "source": [
    "Next obvious steps: partitioning into train and test set"
   ]
  },
  {
   "cell_type": "code",
   "execution_count": 4,
   "id": "5fe7a907",
   "metadata": {},
   "outputs": [
    {
     "data": {
      "text/plain": [
       "([358, 422, 334, 476, 1, 441, 12, 115, 240, 104  …  250, 497, 345, 132, 291, 277, 257, 379, 218, 166], [225, 189, 245, 418, 295, 135, 463, 487, 37, 207  …  355, 483, 30, 433, 84, 242, 368, 147, 48, 253])"
      ]
     },
     "execution_count": 4,
     "metadata": {},
     "output_type": "execute_result"
    }
   ],
   "source": [
    "train, test = MLJ.partition(collect(eachindex(targets)), 0.70, rng = 52)"
   ]
  },
  {
   "cell_type": "markdown",
   "id": "b4b99f2c",
   "metadata": {},
   "source": [
    "Let us try to implement an Neural Network regressor using Flux.jl. MLJFlux.jl provides an MLJ interface to the Flux.jl deep learning framework. The package provides four essential models: `NeuralNetworkRegressor`, `MultitargetNeuralNetworkRegressor`, `NeuralNetworkClassifier` and `ImageClassifier`.\n",
    "\n",
    "At the heart of these models is a neural network. This is specified using the `builder` parameter. Creating a builder object consists of two steps: \n",
    "\n",
    "* Step 1: Creating a new struct inherited from MLJFlux.Builder. \n",
    "    - MLJFlux.Builder is an abstract structure used for the purpose of dispatching. \n",
    "    - Suppose we define a new struct called MyNetworkBuilder. \n",
    "    - This can contain any attribute required to build the model later. (Step 2)\n",
    "\n",
    "<br>\n",
    "Let's use Dense Neural Network with 2 hidden layers."
   ]
  },
  {
   "cell_type": "code",
   "execution_count": 5,
   "id": "9f7f167b",
   "metadata": {},
   "outputs": [],
   "source": [
    "mutable struct MyNetworkBuilder <: MLJFlux.Builder\n",
    "    n1::Int # Number of cells in the first hidden layer\n",
    "    n2::Int # Number of cells in the second hidden layer\n",
    "end"
   ]
  },
  {
   "cell_type": "markdown",
   "id": "36e4fad0",
   "metadata": {},
   "source": [
    "Step 2: Building the neural network from this object. Extend the `MLJFlux.build` function. This takes in 4 arguments: The `MyNetworkBuilder` instance, a random number generator or seed `rng`, the input dimension (`n_in`) and output dimension (`n_out`)."
   ]
  },
  {
   "cell_type": "code",
   "execution_count": 6,
   "id": "01e2d61a",
   "metadata": {},
   "outputs": [],
   "source": [
    "function MLJFlux.build(model::MyNetworkBuilder, rng, n_in, n_out)\n",
    "    init = Flux.glorot_uniform(rng)\n",
    "    layer1 = Flux.Dense(n_in, model.n1, init = init)\n",
    "    layer2 = Flux.Dense(model.n1, model.n2, init = init)\n",
    "    layer3 = Flux.Dense(model.n2, n_out, init = init)\n",
    "    return Flux.Chain(layer1, layer2, layer3)\n",
    "end"
   ]
  },
  {
   "cell_type": "markdown",
   "id": "999bee14",
   "metadata": {},
   "source": [
    "Alternatively, there a macro shortcut to take care of both steps at once. For details, do `?MLJFlux.@builder`.\n",
    "\n",
    "All definitions ready, let us create an object of this:"
   ]
  },
  {
   "cell_type": "code",
   "execution_count": 7,
   "id": "98d43251",
   "metadata": {},
   "outputs": [
    {
     "data": {
      "text/latex": [
       "\\begin{verbatim}\n",
       "@builder neural_net\n",
       "\\end{verbatim}\n",
       "Creates a builder for \\texttt{neural\\_net}. The variables \\texttt{rng}, \\texttt{n\\_in}, \\texttt{n\\_out} and \\texttt{n\\_channels} can be used to create builders for any random number generator \\texttt{rng}, input and output sizes \\texttt{n\\_in} and \\texttt{n\\_out} and number of input channels \\texttt{n\\_channels}.\n",
       "\n",
       "\\section{Examples}\n",
       "\\begin{verbatim}\n",
       "julia> import MLJFlux: @builder;\n",
       "\n",
       "julia> nn = NeuralNetworkRegressor(builder = @builder(Chain(Dense(n_in, 64, relu),\n",
       "                                                            Dense(64, 32, relu),\n",
       "                                                            Dense(32, n_out))));\n",
       "\n",
       "julia> conv_builder = @builder begin\n",
       "           front = Chain(Conv((3, 3), n_channels => 16), Flux.flatten)\n",
       "           d = Flux.outputsize(front, (n_in..., n_channels, 1)) |> first\n",
       "           Chain(front, Dense(d, n_out));\n",
       "       end\n",
       "\n",
       "julia> conv_nn = NeuralNetworkRegressor(builder = conv_builder);\n",
       "\\end{verbatim}\n"
      ],
      "text/markdown": [
       "```\n",
       "@builder neural_net\n",
       "```\n",
       "\n",
       "Creates a builder for `neural_net`. The variables `rng`, `n_in`, `n_out` and `n_channels` can be used to create builders for any random number generator `rng`, input and output sizes `n_in` and `n_out` and number of input channels `n_channels`.\n",
       "\n",
       "# Examples\n",
       "\n",
       "```jldoctest\n",
       "julia> import MLJFlux: @builder;\n",
       "\n",
       "julia> nn = NeuralNetworkRegressor(builder = @builder(Chain(Dense(n_in, 64, relu),\n",
       "                                                            Dense(64, 32, relu),\n",
       "                                                            Dense(32, n_out))));\n",
       "\n",
       "julia> conv_builder = @builder begin\n",
       "           front = Chain(Conv((3, 3), n_channels => 16), Flux.flatten)\n",
       "           d = Flux.outputsize(front, (n_in..., n_channels, 1)) |> first\n",
       "           Chain(front, Dense(d, n_out));\n",
       "       end\n",
       "\n",
       "julia> conv_nn = NeuralNetworkRegressor(builder = conv_builder);\n",
       "```\n"
      ],
      "text/plain": [
       "\u001b[36m  @builder neural_net\u001b[39m\n",
       "\n",
       "  Creates a builder for \u001b[36mneural_net\u001b[39m. The variables \u001b[36mrng\u001b[39m, \u001b[36mn_in\u001b[39m, \u001b[36mn_out\u001b[39m and\n",
       "  \u001b[36mn_channels\u001b[39m can be used to create builders for any random number generator\n",
       "  \u001b[36mrng\u001b[39m, input and output sizes \u001b[36mn_in\u001b[39m and \u001b[36mn_out\u001b[39m and number of input channels\n",
       "  \u001b[36mn_channels\u001b[39m.\n",
       "\n",
       "\u001b[1m  Examples\u001b[22m\n",
       "\u001b[1m  ≡≡≡≡≡≡≡≡≡≡\u001b[22m\n",
       "\n",
       "\u001b[36m  julia> import MLJFlux: @builder;\u001b[39m\n",
       "\u001b[36m  \u001b[39m\n",
       "\u001b[36m  julia> nn = NeuralNetworkRegressor(builder = @builder(Chain(Dense(n_in, 64, relu),\u001b[39m\n",
       "\u001b[36m                                                              Dense(64, 32, relu),\u001b[39m\n",
       "\u001b[36m                                                              Dense(32, n_out))));\u001b[39m\n",
       "\u001b[36m  \u001b[39m\n",
       "\u001b[36m  julia> conv_builder = @builder begin\u001b[39m\n",
       "\u001b[36m             front = Chain(Conv((3, 3), n_channels => 16), Flux.flatten)\u001b[39m\n",
       "\u001b[36m             d = Flux.outputsize(front, (n_in..., n_channels, 1)) |> first\u001b[39m\n",
       "\u001b[36m             Chain(front, Dense(d, n_out));\u001b[39m\n",
       "\u001b[36m         end\u001b[39m\n",
       "\u001b[36m  \u001b[39m\n",
       "\u001b[36m  julia> conv_nn = NeuralNetworkRegressor(builder = conv_builder);\u001b[39m"
      ]
     },
     "execution_count": 7,
     "metadata": {},
     "output_type": "execute_result"
    }
   ],
   "source": [
    "?MLJFlux.@builder"
   ]
  },
  {
   "cell_type": "code",
   "execution_count": 8,
   "id": "7531fc5f",
   "metadata": {},
   "outputs": [
    {
     "data": {
      "text/plain": [
       "MyNetworkBuilder\n"
      ]
     },
     "execution_count": 8,
     "metadata": {},
     "output_type": "execute_result"
    }
   ],
   "source": [
    "myregressor = MyNetworkBuilder(20, 10)"
   ]
  },
  {
   "cell_type": "markdown",
   "id": "eab276fb",
   "metadata": {},
   "source": [
    "Since the boston dataset is a regression problem, we'll be using `NeuralNetworkRegressor` here. One thing to remember is that a `NeuralNetworkRegressor` object works seamlessly like any other MLJ model: you can wrap it in an MLJ `machine` and do anything you'd do otherwise.\n",
    "\n",
    "Let's start by defining our `NeuralNetworkRegressor` object, that takes `myregressor` as it's parameter."
   ]
  },
  {
   "cell_type": "code",
   "execution_count": 9,
   "id": "6fbaf243",
   "metadata": {},
   "outputs": [
    {
     "data": {
      "text/plain": [
       "NeuralNetworkRegressor(\n",
       "    builder = MyNetworkBuilder(\n",
       "            n1 = 20,\n",
       "            n2 = 10),\n",
       "    optimiser = Flux.Optimise.ADAM(0.001, (0.9, 0.999), IdDict{Any, Any}()),\n",
       "    loss = Flux.Losses.mse,\n",
       "    epochs = 10,\n",
       "    batch_size = 1,\n",
       "    lambda = 0.0,\n",
       "    alpha = 0.0,\n",
       "    rng = Random._GLOBAL_RNG(),\n",
       "    optimiser_changes_trigger_retraining = false,\n",
       "    acceleration = ComputationalResources.CPU1{Nothing}(nothing))"
      ]
     },
     "execution_count": 9,
     "metadata": {},
     "output_type": "execute_result"
    }
   ],
   "source": [
    "nnregressor = MLJFlux.NeuralNetworkRegressor(builder = myregressor, epochs = 10)"
   ]
  },
  {
   "cell_type": "markdown",
   "id": "6e4b49b7",
   "metadata": {},
   "source": [
    "Other parameters that NeuralNetworkRegressor takes can be found hear:\n",
    "> https://github.com/alan-turing-institute/MLJFlux.jl#model-hyperparameters\n",
    "\n",
    "`nnregressor` now acts like any other MLJ model. Let's try wrapping it in a MLJ machine and calling `fit!, predict`."
   ]
  },
  {
   "cell_type": "code",
   "execution_count": 10,
   "id": "cebbde3d",
   "metadata": {},
   "outputs": [
    {
     "data": {
      "text/plain": [
       "Machine{NeuralNetworkRegressor{MyNetworkBuilder,…},…} trained 0 times; caches data\n",
       "  model: MLJFlux.NeuralNetworkRegressor{MyNetworkBuilder, Flux.Optimise.ADAM, typeof(Flux.Losses.mse)}\n",
       "  args: \n",
       "    1:\tSource @745 ⏎ `ScientificTypesBase.Table{AbstractVector{ScientificTypesBase.Continuous}}`\n",
       "    2:\tSource @820 ⏎ `AbstractVector{ScientificTypesBase.Continuous}`\n"
      ]
     },
     "execution_count": 10,
     "metadata": {},
     "output_type": "execute_result"
    }
   ],
   "source": [
    "mach = MLJ.machine(nnregressor, features, targets)"
   ]
  },
  {
   "cell_type": "markdown",
   "id": "70ed56a6",
   "metadata": {},
   "source": [
    "Let's fit this on the train set"
   ]
  },
  {
   "cell_type": "code",
   "execution_count": 11,
   "id": "914a770d",
   "metadata": {},
   "outputs": [
    {
     "name": "stderr",
     "output_type": "stream",
     "text": [
      "┌ Info: Training Machine{NeuralNetworkRegressor{MyNetworkBuilder,…},…}.\n",
      "└ @ MLJBase C:\\Users\\jeffr\\.julia\\packages\\MLJBase\\MuLnJ\\src\\machines.jl:464\n",
      "┌ Info: Loss is 3410.0\n",
      "└ @ MLJFlux C:\\Users\\jeffr\\.julia\\packages\\MLJFlux\\ex3rh\\src\\core.jl:127\n",
      "┌ Info: Loss is 108.2\n",
      "└ @ MLJFlux C:\\Users\\jeffr\\.julia\\packages\\MLJFlux\\ex3rh\\src\\core.jl:127\n",
      "┌ Info: Loss is 105.1\n",
      "└ @ MLJFlux C:\\Users\\jeffr\\.julia\\packages\\MLJFlux\\ex3rh\\src\\core.jl:127\n",
      "┌ Info: Loss is 101.1\n",
      "└ @ MLJFlux C:\\Users\\jeffr\\.julia\\packages\\MLJFlux\\ex3rh\\src\\core.jl:127\n",
      "┌ Info: Loss is 97.35\n",
      "└ @ MLJFlux C:\\Users\\jeffr\\.julia\\packages\\MLJFlux\\ex3rh\\src\\core.jl:127\n",
      "┌ Info: Loss is 96.48\n",
      "└ @ MLJFlux C:\\Users\\jeffr\\.julia\\packages\\MLJFlux\\ex3rh\\src\\core.jl:127\n",
      "┌ Info: Loss is 98.54\n",
      "└ @ MLJFlux C:\\Users\\jeffr\\.julia\\packages\\MLJFlux\\ex3rh\\src\\core.jl:127\n",
      "┌ Info: Loss is 101.2\n",
      "└ @ MLJFlux C:\\Users\\jeffr\\.julia\\packages\\MLJFlux\\ex3rh\\src\\core.jl:127\n",
      "┌ Info: Loss is 102.3\n",
      "└ @ MLJFlux C:\\Users\\jeffr\\.julia\\packages\\MLJFlux\\ex3rh\\src\\core.jl:127\n",
      "┌ Info: Loss is 101.5\n",
      "└ @ MLJFlux C:\\Users\\jeffr\\.julia\\packages\\MLJFlux\\ex3rh\\src\\core.jl:127\n"
     ]
    },
    {
     "data": {
      "text/plain": [
       "Machine{NeuralNetworkRegressor{MyNetworkBuilder,…},…} trained 1 time; caches data\n",
       "  model: MLJFlux.NeuralNetworkRegressor{MyNetworkBuilder, Flux.Optimise.ADAM, typeof(Flux.Losses.mse)}\n",
       "  args: \n",
       "    1:\tSource @745 ⏎ `ScientificTypesBase.Table{AbstractVector{ScientificTypesBase.Continuous}}`\n",
       "    2:\tSource @820 ⏎ `AbstractVector{ScientificTypesBase.Continuous}`\n"
      ]
     },
     "execution_count": 11,
     "metadata": {},
     "output_type": "execute_result"
    }
   ],
   "source": [
    "MLJ.fit!(mach, rows = train, verbosity = 3)"
   ]
  },
  {
   "cell_type": "markdown",
   "id": "1db242cb",
   "metadata": {},
   "source": [
    "As we can see, the training loss decreases at each epoch, showing the the neural network is gradually learning form the training set."
   ]
  },
  {
   "cell_type": "code",
   "execution_count": 12,
   "id": "9a660605",
   "metadata": {},
   "outputs": [
    {
     "name": "stdout",
     "output_type": "stream",
     "text": [
      "[31.564108537181767, 29.851880088092244, 24.77323694590281, -9.328833979969517, 22.551995322046096]"
     ]
    }
   ],
   "source": [
    "preds = MLJ.predict(mach, features[test, :])\n",
    "\n",
    "print(preds[1:5])"
   ]
  },
  {
   "cell_type": "markdown",
   "id": "4729dcd2",
   "metadata": {},
   "source": [
    "Now let's retrain our model. One thing to remember is that retrainig may OR may not re-initialize our neural network model parameters. For example, changing the number of epochs to 15 will not causes the model to train to 15 epcohs, but just 5 additional epochs."
   ]
  },
  {
   "cell_type": "code",
   "execution_count": 13,
   "id": "9316f1d7",
   "metadata": {},
   "outputs": [
    {
     "name": "stderr",
     "output_type": "stream",
     "text": [
      "┌ Info: Updating Machine{NeuralNetworkRegressor{MyNetworkBuilder,…},…}.\n",
      "└ @ MLJBase C:\\Users\\jeffr\\.julia\\packages\\MLJBase\\MuLnJ\\src\\machines.jl:465\n",
      "┌ Info: Loss is 3409.0\n",
      "└ @ MLJFlux C:\\Users\\jeffr\\.julia\\packages\\MLJFlux\\ex3rh\\src\\core.jl:127\n",
      "┌ Info: Loss is 123.3\n",
      "└ @ MLJFlux C:\\Users\\jeffr\\.julia\\packages\\MLJFlux\\ex3rh\\src\\core.jl:127\n",
      "┌ Info: Loss is 100.5\n",
      "└ @ MLJFlux C:\\Users\\jeffr\\.julia\\packages\\MLJFlux\\ex3rh\\src\\core.jl:127\n",
      "┌ Info: Loss is 87.94\n",
      "└ @ MLJFlux C:\\Users\\jeffr\\.julia\\packages\\MLJFlux\\ex3rh\\src\\core.jl:127\n",
      "┌ Info: Loss is 79.86\n",
      "└ @ MLJFlux C:\\Users\\jeffr\\.julia\\packages\\MLJFlux\\ex3rh\\src\\core.jl:127\n",
      "┌ Info: Loss is 74.46\n",
      "└ @ MLJFlux C:\\Users\\jeffr\\.julia\\packages\\MLJFlux\\ex3rh\\src\\core.jl:127\n",
      "┌ Info: Loss is 70.78\n",
      "└ @ MLJFlux C:\\Users\\jeffr\\.julia\\packages\\MLJFlux\\ex3rh\\src\\core.jl:127\n",
      "┌ Info: Loss is 68.21\n",
      "└ @ MLJFlux C:\\Users\\jeffr\\.julia\\packages\\MLJFlux\\ex3rh\\src\\core.jl:127\n",
      "┌ Info: Loss is 66.37\n",
      "└ @ MLJFlux C:\\Users\\jeffr\\.julia\\packages\\MLJFlux\\ex3rh\\src\\core.jl:127\n",
      "┌ Info: Loss is 65.01\n",
      "└ @ MLJFlux C:\\Users\\jeffr\\.julia\\packages\\MLJFlux\\ex3rh\\src\\core.jl:127\n"
     ]
    },
    {
     "data": {
      "text/plain": [
       "Machine{NeuralNetworkRegressor{MyNetworkBuilder,…},…} trained 2 times; caches data\n",
       "  model: MLJFlux.NeuralNetworkRegressor{MyNetworkBuilder, Flux.Optimise.ADAM, typeof(Flux.Losses.mse)}\n",
       "  args: \n",
       "    1:\tSource @745 ⏎ `ScientificTypesBase.Table{AbstractVector{ScientificTypesBase.Continuous}}`\n",
       "    2:\tSource @820 ⏎ `AbstractVector{ScientificTypesBase.Continuous}`\n"
      ]
     },
     "execution_count": 13,
     "metadata": {},
     "output_type": "execute_result"
    }
   ],
   "source": [
    "nnregressor.batch_size = 2\n",
    "MLJ.fit!(mach, rows = train, verbosity = 3)"
   ]
  },
  {
   "cell_type": "markdown",
   "id": "5b53fc4e",
   "metadata": {},
   "source": [
    "Another bit to remember here is that changing the optimiser doesn't cause retaining by default. However, the `optimiser_changes_trigger_retraining` in NeuralNetworkRegressor can be toggled to accomodate this. This allows one to modify the learning rate, for example, after an initial burn-in period."
   ]
  },
  {
   "cell_type": "code",
   "execution_count": 14,
   "id": "41fcfebf",
   "metadata": {},
   "outputs": [
    {
     "name": "stderr",
     "output_type": "stream",
     "text": [
      "┌ Info: Training Machine{DeterministicTunedModel{Grid,…},…}.\n",
      "└ @ MLJBase C:\\Users\\jeffr\\.julia\\packages\\MLJBase\\MuLnJ\\src\\machines.jl:464\n",
      "┌ Info: Attempting to evaluate 19 models.\n",
      "└ @ MLJTuning C:\\Users\\jeffr\\.julia\\packages\\MLJTuning\\Al9yX\\src\\tuned_models.jl:680\n",
      "\u001b[33mEvaluating over 19 metamodels: 100%[=========================] Time: 0:00:03\u001b[39m\n"
     ]
    },
    {
     "data": {
      "text/plain": [
       "(parameter_name = \"epochs\",\n",
       " parameter_scale = :log10,\n",
       " parameter_values = [1, 2, 3, 4, 5, 6, 7, 8, 9, 10, 12, 13, 15, 17, 19, 21, 24, 27, 30],\n",
       " measurements = [270.6511542056684, 116.18713410853353, 106.29054457322856, 115.94225343213621, 145.03030588545656, 182.82636709439396, 217.87801123700416, 244.66210980183166, 262.3465606275757, 272.11458362110164, 273.67751892416896, 267.5505908456089, 245.07214221165663, 214.18558687381702, 182.2747175497356, 155.18616164931225, 127.74599692776592, 113.56806306909242, 107.87888512583167],)"
      ]
     },
     "execution_count": 14,
     "metadata": {},
     "output_type": "execute_result"
    }
   ],
   "source": [
    "# Inspecting out-of-sample loss as a function of epochs\n",
    "\n",
    "r = MLJ.range(nnregressor, :epochs, lower = 1, upper = 30, scale =:log10)\n",
    "curve = MLJ.learning_curve(nnregressor, features, targets, \n",
    "                            range = r,\n",
    "                            resampling=MLJ.Holdout(fraction_train = 0.7),\n",
    "                            measure = MLJ.l2)"
   ]
  },
  {
   "cell_type": "code",
   "execution_count": 15,
   "id": "7e341e31",
   "metadata": {},
   "outputs": [
    {
     "name": "stderr",
     "output_type": "stream",
     "text": [
      "┌ Warning: `vendor()` is deprecated, use `BLAS.get_config()` and inspect the output instead\n",
      "│   caller = npyinitialize() at numpy.jl:67\n",
      "└ @ PyCall C:\\Users\\jeffr\\.julia\\packages\\PyCall\\L0fLP\\src\\numpy.jl:67\n"
     ]
    },
    {
     "data": {
      "image/png": "[encoded data removed]",
      "text/plain": [
       "Figure(PyObject <Figure size 800x600 with 1 Axes>)"
      ]
     },
     "metadata": {},
     "output_type": "display_data"
    }
   ],
   "source": [
    "figure(figsize = (8, 6))\n",
    "plt.plot(curve.parameter_values, curve.measurements)\n",
    "yscale(\"log\")\n",
    "xlabel(curve.parameter_name)\n",
    "ylabel(\"l2\")\n",
    "\n",
    "savefig(\"./plots/4.11.1.png\")"
   ]
  },
  {
   "cell_type": "markdown",
   "id": "bed1b1f3",
   "metadata": {},
   "source": [
    "### Tuning\n",
    "\n",
    "---"
   ]
  },
  {
   "cell_type": "markdown",
   "id": "fcc737c6",
   "metadata": {},
   "source": [
    "As mentioned above, `nnregressor` can act like any other MLJ model. Let's try to tune the batch_size parameter."
   ]
  },
  {
   "cell_type": "code",
   "execution_count": 16,
   "id": "5a412000",
   "metadata": {},
   "outputs": [
    {
     "data": {
      "text/plain": [
       "DeterministicTunedModel(\n",
       "    model = NeuralNetworkRegressor(\n",
       "            builder = MyNetworkBuilder,\n",
       "            optimiser = Flux.Optimise.ADAM(0.001, (0.9, 0.999), IdDict{Any, Any}()),\n",
       "            loss = Flux.Losses.mse,\n",
       "            epochs = 10,\n",
       "            batch_size = 2,\n",
       "            lambda = 0.0,\n",
       "            alpha = 0.0,\n",
       "            rng = Random._GLOBAL_RNG(),\n",
       "            optimiser_changes_trigger_retraining = false,\n",
       "            acceleration = ComputationalResources.CPU1{Nothing}(nothing)),\n",
       "    tuning = Grid(\n",
       "            goal = nothing,\n",
       "            resolution = 10,\n",
       "            shuffle = true,\n",
       "            rng = Random._GLOBAL_RNG()),\n",
       "    resampling = Holdout(\n",
       "            fraction_train = 0.7,\n",
       "            shuffle = false,\n",
       "            rng = Random._GLOBAL_RNG()),\n",
       "    measure = LPLoss(p = 2),\n",
       "    weights = nothing,\n",
       "    operation = nothing,\n",
       "    range = MLJBase.NumericRange{Int64, MLJBase.Bounded, Symbol}[NumericRange(1 ≤ batch_size ≤ 5; origin=3.0, unit=2.0)],\n",
       "    selection_heuristic = MLJTuning.NaiveSelection(nothing),\n",
       "    train_best = true,\n",
       "    repeats = 1,\n",
       "    n = nothing,\n",
       "    acceleration = ComputationalResources.CPU1{Nothing}(nothing),\n",
       "    acceleration_resampling = ComputationalResources.CPU1{Nothing}(nothing),\n",
       "    check_measure = true,\n",
       "    cache = true)"
      ]
     },
     "execution_count": 16,
     "metadata": {},
     "output_type": "execute_result"
    }
   ],
   "source": [
    "bs = MLJ.range(nnregressor, :batch_size, lower = 1, upper = 5)\n",
    "\n",
    "tm = MLJ.TunedModel(model = nnregressor, ranges = [bs, ], measure = MLJ.l2)"
   ]
  },
  {
   "cell_type": "markdown",
   "id": "e39f312a",
   "metadata": {},
   "source": [
    "For more on tuning, refer to the model-tuning tutorial."
   ]
  },
  {
   "cell_type": "code",
   "execution_count": 17,
   "id": "3c6cb472",
   "metadata": {},
   "outputs": [
    {
     "data": {
      "text/plain": [
       "Machine{DeterministicTunedModel{Grid,…},…} trained 0 times; caches data\n",
       "  model: MLJTuning.DeterministicTunedModel{MLJTuning.Grid, MLJFlux.NeuralNetworkRegressor{MyNetworkBuilder, Flux.Optimise.ADAM, typeof(Flux.Losses.mse)}}\n",
       "  args: \n",
       "    1:\tSource @049 ⏎ `ScientificTypesBase.Table{AbstractVector{ScientificTypesBase.Continuous}}`\n",
       "    2:\tSource @590 ⏎ `AbstractVector{ScientificTypesBase.Continuous}`\n"
      ]
     },
     "execution_count": 17,
     "metadata": {},
     "output_type": "execute_result"
    }
   ],
   "source": [
    "m = MLJ.machine(tm, features, targets)"
   ]
  },
  {
   "cell_type": "code",
   "execution_count": 18,
   "id": "a8098a30",
   "metadata": {},
   "outputs": [
    {
     "name": "stderr",
     "output_type": "stream",
     "text": [
      "┌ Info: Training Machine{DeterministicTunedModel{Grid,…},…}.\n",
      "└ @ MLJBase C:\\Users\\jeffr\\.julia\\packages\\MLJBase\\MuLnJ\\src\\machines.jl:464\n",
      "┌ Info: Attempting to evaluate 5 models.\n",
      "└ @ MLJTuning C:\\Users\\jeffr\\.julia\\packages\\MLJTuning\\Al9yX\\src\\tuned_models.jl:680\n",
      "\u001b[33mEvaluating over 5 metamodels: 100%[=========================] Time: 0:00:01\u001b[39m\n"
     ]
    },
    {
     "data": {
      "text/plain": [
       "Machine{DeterministicTunedModel{Grid,…},…} trained 1 time; caches data\n",
       "  model: MLJTuning.DeterministicTunedModel{MLJTuning.Grid, MLJFlux.NeuralNetworkRegressor{MyNetworkBuilder, Flux.Optimise.ADAM, typeof(Flux.Losses.mse)}}\n",
       "  args: \n",
       "    1:\tSource @049 ⏎ `ScientificTypesBase.Table{AbstractVector{ScientificTypesBase.Continuous}}`\n",
       "    2:\tSource @590 ⏎ `AbstractVector{ScientificTypesBase.Continuous}`\n"
      ]
     },
     "execution_count": 18,
     "metadata": {},
     "output_type": "execute_result"
    }
   ],
   "source": [
    "MLJ.fit!(m)"
   ]
  },
  {
   "cell_type": "markdown",
   "id": "c23ba024",
   "metadata": {},
   "source": [
    "This evaluated the model at each value of our range. The best value is:"
   ]
  },
  {
   "cell_type": "code",
   "execution_count": 19,
   "id": "3cf8e393",
   "metadata": {},
   "outputs": [
    {
     "data": {
      "text/plain": [
       "5"
      ]
     },
     "execution_count": 19,
     "metadata": {},
     "output_type": "execute_result"
    }
   ],
   "source": [
    "MLJ.fitted_params(m).best_model.batch_size"
   ]
  }
 ],
 "metadata": {
  "hide_input": false,
  "kernelspec": {
   "display_name": "Julia 1.7.3",
   "language": "julia",
   "name": "julia-1.7"
  },
  "language_info": {
   "file_extension": ".jl",
   "mimetype": "application/julia",
   "name": "julia",
   "version": "1.7.3"
  }
 },
 "nbformat": 4,
 "nbformat_minor": 5
}
