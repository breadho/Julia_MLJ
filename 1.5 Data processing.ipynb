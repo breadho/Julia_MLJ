{
 "cells": [
  {
   "cell_type": "markdown",
   "id": "7860b83a",
   "metadata": {},
   "source": [
    "# Data basics"
   ]
  },
  {
   "cell_type": "markdown",
   "id": "1bbeacad",
   "metadata": {},
   "source": [
    "## Data processing"
   ]
  },
  {
   "cell_type": "code",
   "execution_count": 1,
   "id": "3f873d35",
   "metadata": {},
   "outputs": [
    {
     "name": "stderr",
     "output_type": "stream",
     "text": [
      "\u001b[32m\u001b[1m  Activating\u001b[22m\u001b[39m project at `D:\\JULIA\\6_ML_with_Julia\\D0-processing`\n"
     ]
    }
   ],
   "source": [
    "using Pkg; Pkg.activate(\"D:/JULIA/6_ML_with_Julia/D0-processing\"); Pkg.instantiate()"
   ]
  },
  {
   "cell_type": "markdown",
   "id": "180aaa48",
   "metadata": {},
   "source": [
    "### More data processing"
   ]
  },
  {
   "cell_type": "markdown",
   "id": "325352d4",
   "metadata": {},
   "source": [
    "This tutorial uses the World Resources Institute Global Power Plants Dataset to explore data pre-processing in Julia. The dataset is created from multiple sources and is under continuous update, which means that there are lots of missing data, non-standard characters, etc Hence plenty of material to work with!"
   ]
  },
  {
   "cell_type": "markdown",
   "id": "bd1bd2a7",
   "metadata": {},
   "source": [
    "More tutorials on the manipulation of DataFrames can be found here And some more information can be found on this wikipage.\n",
    "\n",
    "> https://en.wikibooks.org/wiki/Introducing_Julia/DataFrames"
   ]
  },
  {
   "cell_type": "code",
   "execution_count": 2,
   "id": "7de32d1d",
   "metadata": {},
   "outputs": [],
   "source": [
    "import MLJ: schema, std, mean, median, coerce, coerce!, scitype\n",
    "using DataFrames\n",
    "using UrlDownload\n",
    "using PyPlot"
   ]
  },
  {
   "cell_type": "markdown",
   "id": "8928fe12",
   "metadata": {},
   "source": [
    "Import data"
   ]
  },
  {
   "cell_type": "code",
   "execution_count": 3,
   "id": "971fcd06",
   "metadata": {},
   "outputs": [],
   "source": [
    "raw_data = urldownload(\"https://github.com/tlienart/DataScienceTutorialsData.jl/blob/master/data/wri_global_power_plant_db_be_022020.csv?raw=true\")\n",
    "data = DataFrame(raw_data);"
   ]
  },
  {
   "cell_type": "markdown",
   "id": "9ed4a7ab",
   "metadata": {},
   "source": [
    "This dataset contains information on power generation plants for a number of countries around the world. The level of disaggregation is the power plant. For each plant, there is information about its name, localisation, capacity, and many other features. The schema function enables us to get a quick overview of the variables it contains, including their machine and scentific types."
   ]
  },
  {
   "cell_type": "code",
   "execution_count": 4,
   "id": "ad74103e",
   "metadata": {},
   "outputs": [
    {
     "data": {
      "text/plain": [
       "┌──────────────────────────┬────────────────────────────┬───────────────────────\n",
       "│\u001b[22m names                    \u001b[0m│\u001b[22m scitypes                   \u001b[0m│\u001b[22m types               \u001b[0m ⋯\n",
       "├──────────────────────────┼────────────────────────────┼───────────────────────\n",
       "│ country                  │ Textual                    │ String3              ⋯\n",
       "│ country_long             │ Textual                    │ String               ⋯\n",
       "│ name                     │ Textual                    │ String               ⋯\n",
       "│ gppd_idnr                │ Textual                    │ String15             ⋯\n",
       "│ capacity_mw              │ Continuous                 │ Float64              ⋯\n",
       "│ latitude                 │ Continuous                 │ Float64              ⋯\n",
       "│ longitude                │ Continuous                 │ Float64              ⋯\n",
       "│ primary_fuel             │ Textual                    │ String15             ⋯\n",
       "│ other_fuel1              │ Union{Missing, Textual}    │ Union{Missing, Strin ⋯\n",
       "│ other_fuel2              │ Union{Missing, Textual}    │ Union{Missing, Strin ⋯\n",
       "│ other_fuel3              │ Union{Missing, Textual}    │ Union{Missing, Strin ⋯\n",
       "│ commissioning_year       │ Union{Missing, Continuous} │ Union{Missing, Float ⋯\n",
       "│ owner                    │ Union{Missing, Textual}    │ Union{Missing, Strin ⋯\n",
       "│ source                   │ Union{Missing, Textual}    │ Union{Missing, Strin ⋯\n",
       "│ url                      │ Union{Missing, Textual}    │ Union{Missing, Strin ⋯\n",
       "│ geolocation_source       │ Union{Missing, Textual}    │ Union{Missing, Strin ⋯\n",
       "│ wepp_id                  │ Union{Missing, Textual}    │ Union{Missing, Strin ⋯\n",
       "│ year_of_capacity_data    │ Union{Missing, Count}      │ Union{Missing, Int64 ⋯\n",
       "│ generation_gwh_2013      │ Union{Missing, Continuous} │ Union{Missing, Float ⋯\n",
       "│ generation_gwh_2014      │ Union{Missing, Continuous} │ Union{Missing, Float ⋯\n",
       "│ generation_gwh_2015      │ Union{Missing, Continuous} │ Union{Missing, Float ⋯\n",
       "│ generation_gwh_2016      │ Union{Missing, Continuous} │ Union{Missing, Float ⋯\n",
       "│            ⋮             │             ⋮              │            ⋮         ⋱\n",
       "└──────────────────────────┴────────────────────────────┴───────────────────────\n",
       "\u001b[36m                                                     1 column and 3 rows omitted\u001b[0m\n"
      ]
     },
     "execution_count": 4,
     "metadata": {},
     "output_type": "execute_result"
    }
   ],
   "source": [
    "schema(data)"
   ]
  },
  {
   "cell_type": "markdown",
   "id": "4ee4ac80",
   "metadata": {},
   "source": [
    "We see that a small number of features have values for all plants (i.e. for each row) present in the dataset. \n",
    "\n",
    "However, \n",
    "\n",
    "- (i) several features have missing values (Union{Missing, _.type}) and \n",
    "- (ii) we are not interested in working with all of these features. \n",
    "\n",
    "In particular, we're not intersted in the source of the information present in the dataset nor are we interested in the generation data. \n",
    "\n",
    "Hence we drop all columns which contain information's source. \n",
    "\n",
    "We define a function ```is_active()``` that will return a ```TRUE``` boolean value if the column name does NOT (!) contain either of the strings \"source\" or \"generation\". \n",
    "\n",
    "_Note the conversion of column names from :Symbol to :string since the occursing function only accepts strings as arguments._"
   ]
  },
  {
   "cell_type": "code",
   "execution_count": 5,
   "id": "3d8ad8c1",
   "metadata": {},
   "outputs": [
    {
     "data": {
      "text/html": [
       "<div class=\"data-frame\"><p>33,643 rows × 16 columns (omitted printing of 13 columns)</p><table class=\"data-frame\"><thead><tr><th></th><th>country</th><th>country_long</th><th>name</th></tr><tr><th></th><th title=\"InlineStrings.String3\">String3</th><th title=\"String\">String</th><th title=\"String\">String</th></tr></thead><tbody><tr><th>1</th><td>AFG</td><td>Afghanistan</td><td>Kajaki Hydroelectric Power Plant Afghanistan</td></tr><tr><th>2</th><td>AFG</td><td>Afghanistan</td><td>Kandahar DOG</td></tr><tr><th>3</th><td>AFG</td><td>Afghanistan</td><td>Kandahar JOL</td></tr><tr><th>4</th><td>AFG</td><td>Afghanistan</td><td>Mahipar Hydroelectric Power Plant Afghanistan</td></tr><tr><th>5</th><td>AFG</td><td>Afghanistan</td><td>Naghlu Dam Hydroelectric Power Plant Afghanistan</td></tr><tr><th>6</th><td>AFG</td><td>Afghanistan</td><td>Nangarhar (Darunta) Hydroelectric Power Plant Afghanistan</td></tr><tr><th>7</th><td>AFG</td><td>Afghanistan</td><td>Northwest Kabul Power Plant Afghanistan</td></tr><tr><th>8</th><td>AFG</td><td>Afghanistan</td><td>Pul-e-Khumri Hydroelectric Power Plant Afghanistan</td></tr><tr><th>9</th><td>AFG</td><td>Afghanistan</td><td>Sarobi Dam Hydroelectric Power Plant Afghanistan</td></tr><tr><th>10</th><td>ALB</td><td>Albania</td><td>Bistrica 1</td></tr><tr><th>11</th><td>ALB</td><td>Albania</td><td>Fierza</td></tr><tr><th>12</th><td>ALB</td><td>Albania</td><td>Koman</td></tr><tr><th>13</th><td>ALB</td><td>Albania</td><td>Lanabregas</td></tr><tr><th>14</th><td>ALB</td><td>Albania</td><td>Shkopet</td></tr><tr><th>15</th><td>ALB</td><td>Albania</td><td>Ulez</td></tr><tr><th>16</th><td>ALB</td><td>Albania</td><td>Vau i Dijes</td></tr><tr><th>17</th><td>ALB</td><td>Albania</td><td>Vlora</td></tr><tr><th>18</th><td>DZA</td><td>Algeria</td><td>Adrar</td></tr><tr><th>19</th><td>DZA</td><td>Algeria</td><td>Ain Azel</td></tr><tr><th>20</th><td>DZA</td><td>Algeria</td><td>Ain Djasser</td></tr><tr><th>21</th><td>DZA</td><td>Algeria</td><td>Ain Sekhouna</td></tr><tr><th>22</th><td>DZA</td><td>Algeria</td><td>Ain el Ibel I</td></tr><tr><th>23</th><td>DZA</td><td>Algeria</td><td>Ain el Ibel II</td></tr><tr><th>24</th><td>DZA</td><td>Algeria</td><td>Ain el Melh</td></tr><tr><th>25</th><td>DZA</td><td>Algeria</td><td>Algerie Sud-Ouest</td></tr><tr><th>26</th><td>DZA</td><td>Algeria</td><td>Annaba</td></tr><tr><th>27</th><td>DZA</td><td>Algeria</td><td>Aoulef</td></tr><tr><th>28</th><td>DZA</td><td>Algeria</td><td>Arbaa</td></tr><tr><th>29</th><td>DZA</td><td>Algeria</td><td>Bir Rebaa</td></tr><tr><th>30</th><td>DZA</td><td>Algeria</td><td>Boufarik 1</td></tr><tr><th>&vellip;</th><td>&vellip;</td><td>&vellip;</td><td>&vellip;</td></tr></tbody></table></div>"
      ],
      "text/latex": [
       "\\begin{tabular}{r|cccc}\n",
       "\t& country & country\\_long & name & \\\\\n",
       "\t\\hline\n",
       "\t& String3 & String & String & \\\\\n",
       "\t\\hline\n",
       "\t1 & AFG & Afghanistan & Kajaki Hydroelectric Power Plant Afghanistan & $\\dots$ \\\\\n",
       "\t2 & AFG & Afghanistan & Kandahar DOG & $\\dots$ \\\\\n",
       "\t3 & AFG & Afghanistan & Kandahar JOL & $\\dots$ \\\\\n",
       "\t4 & AFG & Afghanistan & Mahipar Hydroelectric Power Plant Afghanistan & $\\dots$ \\\\\n",
       "\t5 & AFG & Afghanistan & Naghlu Dam Hydroelectric Power Plant Afghanistan & $\\dots$ \\\\\n",
       "\t6 & AFG & Afghanistan & Nangarhar (Darunta) Hydroelectric Power Plant Afghanistan & $\\dots$ \\\\\n",
       "\t7 & AFG & Afghanistan & Northwest Kabul Power Plant Afghanistan & $\\dots$ \\\\\n",
       "\t8 & AFG & Afghanistan & Pul-e-Khumri Hydroelectric Power Plant Afghanistan & $\\dots$ \\\\\n",
       "\t9 & AFG & Afghanistan & Sarobi Dam Hydroelectric Power Plant Afghanistan & $\\dots$ \\\\\n",
       "\t10 & ALB & Albania & Bistrica 1 & $\\dots$ \\\\\n",
       "\t11 & ALB & Albania & Fierza & $\\dots$ \\\\\n",
       "\t12 & ALB & Albania & Koman & $\\dots$ \\\\\n",
       "\t13 & ALB & Albania & Lanabregas & $\\dots$ \\\\\n",
       "\t14 & ALB & Albania & Shkopet & $\\dots$ \\\\\n",
       "\t15 & ALB & Albania & Ulez & $\\dots$ \\\\\n",
       "\t16 & ALB & Albania & Vau i Dijes & $\\dots$ \\\\\n",
       "\t17 & ALB & Albania & Vlora & $\\dots$ \\\\\n",
       "\t18 & DZA & Algeria & Adrar & $\\dots$ \\\\\n",
       "\t19 & DZA & Algeria & Ain Azel & $\\dots$ \\\\\n",
       "\t20 & DZA & Algeria & Ain Djasser & $\\dots$ \\\\\n",
       "\t21 & DZA & Algeria & Ain Sekhouna & $\\dots$ \\\\\n",
       "\t22 & DZA & Algeria & Ain el Ibel I & $\\dots$ \\\\\n",
       "\t23 & DZA & Algeria & Ain el Ibel II & $\\dots$ \\\\\n",
       "\t24 & DZA & Algeria & Ain el Melh & $\\dots$ \\\\\n",
       "\t25 & DZA & Algeria & Algerie Sud-Ouest & $\\dots$ \\\\\n",
       "\t26 & DZA & Algeria & Annaba & $\\dots$ \\\\\n",
       "\t27 & DZA & Algeria & Aoulef & $\\dots$ \\\\\n",
       "\t28 & DZA & Algeria & Arbaa & $\\dots$ \\\\\n",
       "\t29 & DZA & Algeria & Bir Rebaa & $\\dots$ \\\\\n",
       "\t30 & DZA & Algeria & Boufarik 1 & $\\dots$ \\\\\n",
       "\t$\\dots$ & $\\dots$ & $\\dots$ & $\\dots$ &  \\\\\n",
       "\\end{tabular}\n"
      ],
      "text/plain": [
       "\u001b[1m33643×16 DataFrame\u001b[0m\n",
       "\u001b[1m   Row \u001b[0m│\u001b[1m country \u001b[0m\u001b[1m country_long \u001b[0m\u001b[1m name                              \u001b[0m\u001b[1m gppd_idnr  \u001b[0m ⋯\n",
       "\u001b[1m       \u001b[0m│\u001b[90m String3 \u001b[0m\u001b[90m String       \u001b[0m\u001b[90m String                            \u001b[0m\u001b[90m String15   \u001b[0m ⋯\n",
       "───────┼────────────────────────────────────────────────────────────────────────\n",
       "     1 │ AFG      Afghanistan   Kajaki Hydroelectric Power Plant…  GEODB004053 ⋯\n",
       "     2 │ AFG      Afghanistan   Kandahar DOG                       WKS0070144\n",
       "     3 │ AFG      Afghanistan   Kandahar JOL                       WKS0071196\n",
       "     4 │ AFG      Afghanistan   Mahipar Hydroelectric Power Plan…  GEODB004054\n",
       "     5 │ AFG      Afghanistan   Naghlu Dam Hydroelectric Power P…  GEODB004053 ⋯\n",
       "     6 │ AFG      Afghanistan   Nangarhar (Darunta) Hydroelectri…  GEODB004053\n",
       "     7 │ AFG      Afghanistan   Northwest Kabul Power Plant Afgh…  GEODB004054\n",
       "     8 │ AFG      Afghanistan   Pul-e-Khumri Hydroelectric Power…  GEODB004053\n",
       "     9 │ AFG      Afghanistan   Sarobi Dam Hydroelectric Power P…  GEODB004053 ⋯\n",
       "    10 │ ALB      Albania       Bistrica 1                         WRI1002169\n",
       "    11 │ ALB      Albania       Fierza                             WRI1002170\n",
       "   ⋮   │    ⋮          ⋮                        ⋮                       ⋮      ⋱\n",
       " 33634 │ ZMB      Zambia        Lusaka                             WRI1022385\n",
       " 33635 │ ZMB      Zambia        Lusiwasi                           WRI1000023  ⋯\n",
       " 33636 │ ZMB      Zambia        Maamba plant                       WRI1022376\n",
       " 33637 │ ZMB      Zambia        Mufulira Nchanga                   WRI1022390\n",
       " 33638 │ ZMB      Zambia        Nakambala Sugar                    WRI1022375\n",
       " 33639 │ ZMB      Zambia        Ndola                              WRI1022386  ⋯\n",
       " 33640 │ ZMB      Zambia        Nkana                              WRI1022384\n",
       " 33641 │ ZMB      Zambia        Victoria Falls                     WRI1022380\n",
       " 33642 │ ZWE      Zimbabwe      Hwange Coal Power Plant Zimbabwe   GEODB004040\n",
       " 33643 │ ZWE      Zimbabwe      Kariba Dam South Hydroelectric P…  GEODB000380 ⋯\n",
       "\u001b[36m                                               13 columns and 33622 rows omitted\u001b[0m"
      ]
     },
     "execution_count": 5,
     "metadata": {},
     "output_type": "execute_result"
    }
   ],
   "source": [
    "is_active(col) = !occursin(r\"source|generation\", string(col))\n",
    "active_cols = [col for col in names(data) if is_active(col)]\n",
    "select!(data, active_cols)"
   ]
  },
  {
   "cell_type": "markdown",
   "id": "a503484d",
   "metadata": {},
   "source": [
    "We also drop a number of other unwanted columns and take a look at our \"new\" dataframe."
   ]
  },
  {
   "cell_type": "code",
   "execution_count": 6,
   "id": "585ec032",
   "metadata": {},
   "outputs": [
    {
     "data": {
      "text/plain": [
       "┌───────────────────────┬────────────────────────────┬──────────────────────────\n",
       "│\u001b[22m names                 \u001b[0m│\u001b[22m scitypes                   \u001b[0m│\u001b[22m types                  \u001b[0m ⋯\n",
       "├───────────────────────┼────────────────────────────┼──────────────────────────\n",
       "│ country               │ Textual                    │ String3                 ⋯\n",
       "│ country_long          │ Textual                    │ String                  ⋯\n",
       "│ name                  │ Textual                    │ String                  ⋯\n",
       "│ gppd_idnr             │ Textual                    │ String15                ⋯\n",
       "│ capacity_mw           │ Continuous                 │ Float64                 ⋯\n",
       "│ latitude              │ Continuous                 │ Float64                 ⋯\n",
       "│ longitude             │ Continuous                 │ Float64                 ⋯\n",
       "│ primary_fuel          │ Textual                    │ String15                ⋯\n",
       "│ other_fuel1           │ Union{Missing, Textual}    │ Union{Missing, String15 ⋯\n",
       "│ other_fuel2           │ Union{Missing, Textual}    │ Union{Missing, String7} ⋯\n",
       "│ other_fuel3           │ Union{Missing, Textual}    │ Union{Missing, String7} ⋯\n",
       "│ commissioning_year    │ Union{Missing, Continuous} │ Union{Missing, Float64} ⋯\n",
       "│ year_of_capacity_data │ Union{Missing, Count}      │ Union{Missing, Int64}   ⋯\n",
       "└───────────────────────┴────────────────────────────┴──────────────────────────\n",
       "\u001b[36m                                                                1 column omitted\u001b[0m\n"
      ]
     },
     "execution_count": 6,
     "metadata": {},
     "output_type": "execute_result"
    }
   ],
   "source": [
    "select!(data, Not([:wepp_id, :url, :owner]))\n",
    "schema(data)"
   ]
  },
  {
   "cell_type": "markdown",
   "id": "ed1e741e",
   "metadata": {},
   "source": [
    "The remaining variables have two different scientific types: Continuous, Textual Of which we can get an overview."
   ]
  },
  {
   "cell_type": "code",
   "execution_count": 7,
   "id": "434de3a1",
   "metadata": {},
   "outputs": [
    {
     "data": {
      "text/html": [
       "<div class=\"data-frame\"><p>13 rows × 7 columns (omitted printing of 1 columns)</p><table class=\"data-frame\"><thead><tr><th></th><th>variable</th><th>mean</th><th>min</th><th>median</th><th>max</th><th>nmissing</th></tr><tr><th></th><th title=\"Symbol\">Symbol</th><th title=\"Union{Nothing, Float64}\">Union…</th><th title=\"Any\">Any</th><th title=\"Union{Nothing, Float64}\">Union…</th><th title=\"Any\">Any</th><th title=\"Int64\">Int64</th></tr></thead><tbody><tr><th>1</th><td>country</td><td></td><td>AFG</td><td></td><td>ZWE</td><td>0</td></tr><tr><th>2</th><td>country_long</td><td></td><td>Afghanistan</td><td></td><td>Zimbabwe</td><td>0</td></tr><tr><th>3</th><td>name</td><td></td><td>&apos;Muela</td><td></td><td>\\u200bVärtaverket</td><td>0</td></tr><tr><th>4</th><td>gppd_idnr</td><td></td><td>ARG0000001</td><td></td><td>WRI1075863</td><td>0</td></tr><tr><th>5</th><td>capacity_mw</td><td>168.993</td><td>1.0</td><td>18.3</td><td>22500.0</td><td>0</td></tr><tr><th>6</th><td>latitude</td><td>32.5014</td><td>-77.847</td><td>39.5835</td><td>71.292</td><td>0</td></tr><tr><th>7</th><td>longitude</td><td>-4.1955</td><td>-179.978</td><td>-1.2744</td><td>179.389</td><td>0</td></tr><tr><th>8</th><td>primary_fuel</td><td></td><td>Biomass</td><td></td><td>Wind</td><td>0</td></tr><tr><th>9</th><td>other_fuel1</td><td></td><td>Biomass</td><td></td><td>Wind</td><td>31680</td></tr><tr><th>10</th><td>other_fuel2</td><td></td><td>Biomass</td><td></td><td>Wind</td><td>33340</td></tr><tr><th>11</th><td>other_fuel3</td><td></td><td>Biomass</td><td></td><td>Wind</td><td>33539</td></tr><tr><th>12</th><td>commissioning_year</td><td>1995.49</td><td>1896.0</td><td>2005.0</td><td>2018.0</td><td>17340</td></tr><tr><th>13</th><td>year_of_capacity_data</td><td>2016.86</td><td>2000</td><td>2017.0</td><td>2018</td><td>19900</td></tr></tbody></table></div>"
      ],
      "text/latex": [
       "\\begin{tabular}{r|ccccccc}\n",
       "\t& variable & mean & min & median & max & nmissing & \\\\\n",
       "\t\\hline\n",
       "\t& Symbol & Union… & Any & Union… & Any & Int64 & \\\\\n",
       "\t\\hline\n",
       "\t1 & country &  & AFG &  & ZWE & 0 & $\\dots$ \\\\\n",
       "\t2 & country\\_long &  & Afghanistan &  & Zimbabwe & 0 & $\\dots$ \\\\\n",
       "\t3 & name &  & 'Muela &  & \\textbackslash{}u200bVärtaverket & 0 & $\\dots$ \\\\\n",
       "\t4 & gppd\\_idnr &  & ARG0000001 &  & WRI1075863 & 0 & $\\dots$ \\\\\n",
       "\t5 & capacity\\_mw & 168.993 & 1.0 & 18.3 & 22500.0 & 0 & $\\dots$ \\\\\n",
       "\t6 & latitude & 32.5014 & -77.847 & 39.5835 & 71.292 & 0 & $\\dots$ \\\\\n",
       "\t7 & longitude & -4.1955 & -179.978 & -1.2744 & 179.389 & 0 & $\\dots$ \\\\\n",
       "\t8 & primary\\_fuel &  & Biomass &  & Wind & 0 & $\\dots$ \\\\\n",
       "\t9 & other\\_fuel1 &  & Biomass &  & Wind & 31680 & $\\dots$ \\\\\n",
       "\t10 & other\\_fuel2 &  & Biomass &  & Wind & 33340 & $\\dots$ \\\\\n",
       "\t11 & other\\_fuel3 &  & Biomass &  & Wind & 33539 & $\\dots$ \\\\\n",
       "\t12 & commissioning\\_year & 1995.49 & 1896.0 & 2005.0 & 2018.0 & 17340 & $\\dots$ \\\\\n",
       "\t13 & year\\_of\\_capacity\\_data & 2016.86 & 2000 & 2017.0 & 2018 & 19900 & $\\dots$ \\\\\n",
       "\\end{tabular}\n"
      ],
      "text/plain": [
       "\u001b[1m13×7 DataFrame\u001b[0m\n",
       "\u001b[1m Row \u001b[0m│\u001b[1m variable              \u001b[0m\u001b[1m mean    \u001b[0m\u001b[1m min         \u001b[0m\u001b[1m median  \u001b[0m\u001b[1m max              \u001b[0m ⋯\n",
       "\u001b[1m     \u001b[0m│\u001b[90m Symbol                \u001b[0m\u001b[90m Union…  \u001b[0m\u001b[90m Any         \u001b[0m\u001b[90m Union…  \u001b[0m\u001b[90m Any              \u001b[0m ⋯\n",
       "─────┼──────────────────────────────────────────────────────────────────────────\n",
       "   1 │ country               \u001b[90m         \u001b[0m AFG         \u001b[90m         \u001b[0m ZWE               ⋯\n",
       "   2 │ country_long          \u001b[90m         \u001b[0m Afghanistan \u001b[90m         \u001b[0m Zimbabwe\n",
       "   3 │ name                  \u001b[90m         \u001b[0m 'Muela      \u001b[90m         \u001b[0m \\u200bVärtaverket\n",
       "   4 │ gppd_idnr             \u001b[90m         \u001b[0m ARG0000001  \u001b[90m         \u001b[0m WRI1075863\n",
       "   5 │ capacity_mw            168.993  1.0          18.3     22500.0           ⋯\n",
       "   6 │ latitude               32.5014  -77.847      39.5835  71.292\n",
       "   7 │ longitude              -4.1955  -179.978     -1.2744  179.389\n",
       "   8 │ primary_fuel          \u001b[90m         \u001b[0m Biomass     \u001b[90m         \u001b[0m Wind\n",
       "   9 │ other_fuel1           \u001b[90m         \u001b[0m Biomass     \u001b[90m         \u001b[0m Wind              ⋯\n",
       "  10 │ other_fuel2           \u001b[90m         \u001b[0m Biomass     \u001b[90m         \u001b[0m Wind\n",
       "  11 │ other_fuel3           \u001b[90m         \u001b[0m Biomass     \u001b[90m         \u001b[0m Wind\n",
       "  12 │ commissioning_year     1995.49  1896.0       2005.0   2018.0\n",
       "  13 │ year_of_capacity_data  2016.86  2000         2017.0   2018              ⋯\n",
       "\u001b[36m                                                               2 columns omitted\u001b[0m"
      ]
     },
     "execution_count": 7,
     "metadata": {},
     "output_type": "execute_result"
    }
   ],
   "source": [
    "# The describe() function shows that there are several features with missing values.\n",
    "\n",
    "describe(data)"
   ]
  },
  {
   "cell_type": "markdown",
   "id": "a85de9ef",
   "metadata": {},
   "source": [
    "Note: the describe() function is from the DataFrames package (and won't work with other, non DataFrames, tables) whereas the schema() is from the MLJ package.\n",
    "\n",
    "---\n",
    "\n",
    "Let's play around with capacity data, for which there are no missing values. We create a sub-dataframe and aggregate over certain dimensions (country and primary_fuel)"
   ]
  },
  {
   "cell_type": "code",
   "execution_count": 8,
   "id": "c344069f",
   "metadata": {},
   "outputs": [
    {
     "data": {
      "text/html": [
       "<div class=\"data-frame\"><p>5 rows × 3 columns</p><table class=\"data-frame\"><thead><tr><th></th><th>country</th><th>primary_fuel</th><th>capacity_mw</th></tr><tr><th></th><th title=\"InlineStrings.String3\">String3</th><th title=\"InlineStrings.String15\">String15</th><th title=\"Float64\">Float64</th></tr></thead><tbody><tr><th>1</th><td>AFG</td><td>Hydro</td><td>33.0</td></tr><tr><th>2</th><td>AFG</td><td>Solar</td><td>10.0</td></tr><tr><th>3</th><td>AFG</td><td>Solar</td><td>10.0</td></tr><tr><th>4</th><td>AFG</td><td>Hydro</td><td>66.0</td></tr><tr><th>5</th><td>AFG</td><td>Hydro</td><td>100.0</td></tr></tbody></table></div>"
      ],
      "text/latex": [
       "\\begin{tabular}{r|ccc}\n",
       "\t& country & primary\\_fuel & capacity\\_mw\\\\\n",
       "\t\\hline\n",
       "\t& String3 & String15 & Float64\\\\\n",
       "\t\\hline\n",
       "\t1 & AFG & Hydro & 33.0 \\\\\n",
       "\t2 & AFG & Solar & 10.0 \\\\\n",
       "\t3 & AFG & Solar & 10.0 \\\\\n",
       "\t4 & AFG & Hydro & 66.0 \\\\\n",
       "\t5 & AFG & Hydro & 100.0 \\\\\n",
       "\\end{tabular}\n"
      ],
      "text/plain": [
       "\u001b[1m5×3 DataFrame\u001b[0m\n",
       "\u001b[1m Row \u001b[0m│\u001b[1m country \u001b[0m\u001b[1m primary_fuel \u001b[0m\u001b[1m capacity_mw \u001b[0m\n",
       "\u001b[1m     \u001b[0m│\u001b[90m String3 \u001b[0m\u001b[90m String15     \u001b[0m\u001b[90m Float64     \u001b[0m\n",
       "─────┼────────────────────────────────────\n",
       "   1 │ AFG      Hydro                33.0\n",
       "   2 │ AFG      Solar                10.0\n",
       "   3 │ AFG      Solar                10.0\n",
       "   4 │ AFG      Hydro                66.0\n",
       "   5 │ AFG      Hydro               100.0"
      ]
     },
     "execution_count": 8,
     "metadata": {},
     "output_type": "execute_result"
    }
   ],
   "source": [
    "capacity = select(data, [:country , :primary_fuel, :capacity_mw]);\n",
    "first(capacity, 5)"
   ]
  },
  {
   "cell_type": "markdown",
   "id": "240c7b1a",
   "metadata": {},
   "source": [
    "This dataframe contains several subgroups (country and technology type) and it would be interesting to get data aggregates by subgroup. To obtain a ```view``` of the DataFrame by subgroup, we can use the ```groupby``` function. (See the DataFrame tutorial for an introduction to the use of ```groupby```)"
   ]
  },
  {
   "cell_type": "code",
   "execution_count": 9,
   "id": "9b69ee94",
   "metadata": {},
   "outputs": [],
   "source": [
    "cap_gr = groupby(capacity, [:country , :primary_fuel]);"
   ]
  },
  {
   "cell_type": "markdown",
   "id": "8e16bd53",
   "metadata": {},
   "source": [
    "If we want to aggregate at the country-fuel-type level and calculate summary statistics at this level, we can use the ```combine``` function on the GroupedDataFrame that we just created. This function takes the GroupedDataFrame, the symbol of the column on which to apply the measure of choice as arguments."
   ]
  },
  {
   "cell_type": "code",
   "execution_count": 10,
   "id": "111e0c7c",
   "metadata": {},
   "outputs": [
    {
     "data": {
      "text/html": [
       "<div class=\"data-frame\"><p>3 rows × 3 columns</p><table class=\"data-frame\"><thead><tr><th></th><th>country</th><th>primary_fuel</th><th>capacity_mw_sum</th></tr><tr><th></th><th title=\"InlineStrings.String3\">String3</th><th title=\"InlineStrings.String15\">String15</th><th title=\"Float64\">Float64</th></tr></thead><tbody><tr><th>1</th><td>AFG</td><td>Hydro</td><td>238.55</td></tr><tr><th>2</th><td>AFG</td><td>Solar</td><td>20.0</td></tr><tr><th>3</th><td>AFG</td><td>Gas</td><td>42.0</td></tr></tbody></table></div>"
      ],
      "text/latex": [
       "\\begin{tabular}{r|ccc}\n",
       "\t& country & primary\\_fuel & capacity\\_mw\\_sum\\\\\n",
       "\t\\hline\n",
       "\t& String3 & String15 & Float64\\\\\n",
       "\t\\hline\n",
       "\t1 & AFG & Hydro & 238.55 \\\\\n",
       "\t2 & AFG & Solar & 20.0 \\\\\n",
       "\t3 & AFG & Gas & 42.0 \\\\\n",
       "\\end{tabular}\n"
      ],
      "text/plain": [
       "\u001b[1m3×3 DataFrame\u001b[0m\n",
       "\u001b[1m Row \u001b[0m│\u001b[1m country \u001b[0m\u001b[1m primary_fuel \u001b[0m\u001b[1m capacity_mw_sum \u001b[0m\n",
       "\u001b[1m     \u001b[0m│\u001b[90m String3 \u001b[0m\u001b[90m String15     \u001b[0m\u001b[90m Float64         \u001b[0m\n",
       "─────┼────────────────────────────────────────\n",
       "   1 │ AFG      Hydro                  238.55\n",
       "   2 │ AFG      Solar                   20.0\n",
       "   3 │ AFG      Gas                     42.0"
      ]
     },
     "execution_count": 10,
     "metadata": {},
     "output_type": "execute_result"
    }
   ],
   "source": [
    "cap_mean = combine(cap_gr, :capacity_mw => mean)\n",
    "cap_sum = combine(cap_gr, :capacity_mw => sum)\n",
    "first(cap_sum, 3)"
   ]
  },
  {
   "cell_type": "code",
   "execution_count": 11,
   "id": "0d7e74e4",
   "metadata": {},
   "outputs": [
    {
     "data": {
      "text/html": [
       "<div class=\"data-frame\"><p>3 rows × 3 columns</p><table class=\"data-frame\"><thead><tr><th></th><th>country</th><th>primary_fuel</th><th>capacity_mw_mean</th></tr><tr><th></th><th title=\"InlineStrings.String3\">String3</th><th title=\"InlineStrings.String15\">String15</th><th title=\"Float64\">Float64</th></tr></thead><tbody><tr><th>1</th><td>AFG</td><td>Hydro</td><td>39.7583</td></tr><tr><th>2</th><td>AFG</td><td>Solar</td><td>10.0</td></tr><tr><th>3</th><td>AFG</td><td>Gas</td><td>42.0</td></tr></tbody></table></div>"
      ],
      "text/latex": [
       "\\begin{tabular}{r|ccc}\n",
       "\t& country & primary\\_fuel & capacity\\_mw\\_mean\\\\\n",
       "\t\\hline\n",
       "\t& String3 & String15 & Float64\\\\\n",
       "\t\\hline\n",
       "\t1 & AFG & Hydro & 39.7583 \\\\\n",
       "\t2 & AFG & Solar & 10.0 \\\\\n",
       "\t3 & AFG & Gas & 42.0 \\\\\n",
       "\\end{tabular}\n"
      ],
      "text/plain": [
       "\u001b[1m3×3 DataFrame\u001b[0m\n",
       "\u001b[1m Row \u001b[0m│\u001b[1m country \u001b[0m\u001b[1m primary_fuel \u001b[0m\u001b[1m capacity_mw_mean \u001b[0m\n",
       "\u001b[1m     \u001b[0m│\u001b[90m String3 \u001b[0m\u001b[90m String15     \u001b[0m\u001b[90m Float64          \u001b[0m\n",
       "─────┼─────────────────────────────────────────\n",
       "   1 │ AFG      Hydro                  39.7583\n",
       "   2 │ AFG      Solar                  10.0\n",
       "   3 │ AFG      Gas                    42.0"
      ]
     },
     "execution_count": 11,
     "metadata": {},
     "output_type": "execute_result"
    }
   ],
   "source": [
    "first(cap_mean, 3)"
   ]
  },
  {
   "cell_type": "markdown",
   "id": "a1a08c6c",
   "metadata": {},
   "source": [
    "Now let's plot some of this aggregate data for a selection of countries, by country and technology type"
   ]
  },
  {
   "cell_type": "code",
   "execution_count": 12,
   "id": "3a2c5925",
   "metadata": {},
   "outputs": [
    {
     "data": {
      "text/html": [
       "<div class=\"data-frame\"><p>3 rows × 3 columns</p><table class=\"data-frame\"><thead><tr><th></th><th>country</th><th>primary_fuel</th><th>capacity_mw_sum</th></tr><tr><th></th><th title=\"InlineStrings.String3\">String3</th><th title=\"InlineStrings.String15\">String15</th><th title=\"Float64\">Float64</th></tr></thead><tbody><tr><th>1</th><td>BEL</td><td>Solar</td><td>116.2</td></tr><tr><th>2</th><td>FRA</td><td>Solar</td><td>4910.42</td></tr><tr><th>3</th><td>DEU</td><td>Solar</td><td>6770.56</td></tr></tbody></table></div>"
      ],
      "text/latex": [
       "\\begin{tabular}{r|ccc}\n",
       "\t& country & primary\\_fuel & capacity\\_mw\\_sum\\\\\n",
       "\t\\hline\n",
       "\t& String3 & String15 & Float64\\\\\n",
       "\t\\hline\n",
       "\t1 & BEL & Solar & 116.2 \\\\\n",
       "\t2 & FRA & Solar & 4910.42 \\\\\n",
       "\t3 & DEU & Solar & 6770.56 \\\\\n",
       "\\end{tabular}\n"
      ],
      "text/plain": [
       "\u001b[1m3×3 DataFrame\u001b[0m\n",
       "\u001b[1m Row \u001b[0m│\u001b[1m country \u001b[0m\u001b[1m primary_fuel \u001b[0m\u001b[1m capacity_mw_sum \u001b[0m\n",
       "\u001b[1m     \u001b[0m│\u001b[90m String3 \u001b[0m\u001b[90m String15     \u001b[0m\u001b[90m Float64         \u001b[0m\n",
       "─────┼────────────────────────────────────────\n",
       "   1 │ BEL      Solar                  116.2\n",
       "   2 │ FRA      Solar                 4910.42\n",
       "   3 │ DEU      Solar                 6770.56"
      ]
     },
     "execution_count": 12,
     "metadata": {},
     "output_type": "execute_result"
    }
   ],
   "source": [
    "ctry_selec = r\"BEL|FRA|DEU\"\n",
    "tech_selec = r\"Solar\"\n",
    "\n",
    "cap_sum_plot = cap_sum[occursin.(ctry_selec, cap_sum.country) .& occursin.(tech_selec, cap_sum.primary_fuel), :]"
   ]
  },
  {
   "cell_type": "markdown",
   "id": "349cf627",
   "metadata": {},
   "source": [
    "```julia\n",
    "occursin(needle::Union{AbstractString,AbstractPattern,AbstractChar}, haystack::AbstractString)\n",
    "occursin(haystack)\n",
    "\n",
    "Determine whether the first argument is a substring of the second. If needle is a regular expression, checks whether haystack contains a match.\n",
    "\n",
    "julia> occursin(\"Julia\", \"JuliaLang is pretty cool!\")\n",
    "true\n",
    "\n",
    "julia> occursin('a', \"JuliaLang is pretty cool!\")\n",
    "true\n",
    "\n",
    "julia> occursin(r\"a.a\", \"aba\")\n",
    "true\n",
    "\n",
    "julia> occursin(r\"a.a\", \"abba\")\n",
    "false\n",
    "```"
   ]
  },
  {
   "cell_type": "markdown",
   "id": "6b40a81f",
   "metadata": {},
   "source": [
    "Note the ```.``` for element-wise comparison Before plotting, we can also sort values by decreasing order using ```sort!()```."
   ]
  },
  {
   "cell_type": "code",
   "execution_count": 13,
   "id": "3597e822",
   "metadata": {},
   "outputs": [
    {
     "name": "stderr",
     "output_type": "stream",
     "text": [
      "┌ Warning: `vendor()` is deprecated, use `BLAS.get_config()` and inspect the output instead\n",
      "│   caller = npyinitialize() at numpy.jl:67\n",
      "└ @ PyCall C:\\Users\\jeffr\\.julia\\packages\\PyCall\\L0fLP\\src\\numpy.jl:67\n"
     ]
    },
    {
     "data": {
      "image/png": "[encoded data removed]",
      "text/plain": [
       "Figure(PyObject <Figure size 800x600 with 1 Axes>)"
      ]
     },
     "metadata": {},
     "output_type": "display_data"
    }
   ],
   "source": [
    "sort!(cap_sum_plot, :capacity_mw_sum, rev = true)\n",
    "\n",
    "figure(figsize = (8, 6))\n",
    "\n",
    "plt.bar(cap_sum_plot.country, cap_sum_plot.capacity_mw_sum, width = 0.35)\n",
    "plt.xticks(rotation = 90)\n",
    "savefig(\"./plots/1.5.1.png\")"
   ]
  },
  {
   "cell_type": "markdown",
   "id": "e33f2dd3",
   "metadata": {},
   "source": [
    "---\n",
    "Now that we have the total capacity by country and technology type, let's use it to calculate the share of each technology in total capacity. To that end we first create a dataframe containing the country-level total capacity, using the same steps as above."
   ]
  },
  {
   "cell_type": "code",
   "execution_count": 14,
   "id": "6d9cc053",
   "metadata": {},
   "outputs": [],
   "source": [
    "cap_sum_ctry_gd = groupby(capacity, [:country]);\n",
    "cap_sum_ctry = combine(cap_sum_ctry_gd, :capacity_mw => sum);"
   ]
  },
  {
   "cell_type": "markdown",
   "id": "3c7c6581",
   "metadata": {},
   "source": [
    "The we join this dataframe with the disaggregated one; which requires that we convert the two GroupedDataFrame into DataFrames."
   ]
  },
  {
   "cell_type": "code",
   "execution_count": 15,
   "id": "6f2771cd",
   "metadata": {},
   "outputs": [],
   "source": [
    "cap_sum = DataFrame(cap_sum);\n",
    "cap_sum_ctry = DataFrame(cap_sum_ctry);\n",
    "cap_share = leftjoin(cap_sum, cap_sum_ctry, on = :country, makeunique = true)\n",
    "cap_share.capacity_mw_share = cap_share.capacity_mw_sum ./ cap_share.capacity_mw_sum_1;"
   ]
  },
  {
   "cell_type": "markdown",
   "id": "c12c2814",
   "metadata": {},
   "source": [
    "Let's visualise our dataframe again, which now includes the ```capacity_mw_share``` column."
   ]
  },
  {
   "cell_type": "markdown",
   "id": "72180f8a",
   "metadata": {},
   "source": [
    "---\n",
    "Now let's analyse features which exhibit some missing values. Suppose we want to calculate the age of each plant (rounded to full years). We face two issues. First, the commissioning_year is not reported for all plants. We need to gauge the representativity of the plants for which it is available with regard to the full dataset. One way to count the missing values is"
   ]
  },
  {
   "cell_type": "code",
   "execution_count": 16,
   "id": "51299059",
   "metadata": {},
   "outputs": [
    {
     "data": {
      "text/plain": [
       "17340"
      ]
     },
     "execution_count": 16,
     "metadata": {},
     "output_type": "execute_result"
    }
   ],
   "source": [
    "nMissings = length(findall(x -> ismissing(x), data.commissioning_year))"
   ]
  },
  {
   "cell_type": "markdown",
   "id": "90faa6aa",
   "metadata": {},
   "source": [
    "This represents about half of our observations"
   ]
  },
  {
   "cell_type": "code",
   "execution_count": 17,
   "id": "4d875bc5",
   "metadata": {},
   "outputs": [
    {
     "data": {
      "text/plain": [
       "0.515411824153613"
      ]
     },
     "execution_count": 17,
     "metadata": {},
     "output_type": "execute_result"
    }
   ],
   "source": [
    "nMissings_share = nMissings/size(data)[1]"
   ]
  },
  {
   "cell_type": "markdown",
   "id": "10c2467c",
   "metadata": {},
   "source": [
    "Second, the commissioning year is not reported as an integer. Fractions of years are reported too. As a result, the machine type of ```data.commissioning_year``` is Float64."
   ]
  },
  {
   "cell_type": "code",
   "execution_count": 18,
   "id": "668ea7c8",
   "metadata": {},
   "outputs": [
    {
     "data": {
      "text/plain": [
       "Vector{Union{Missing, Float64}} (alias for Array{Union{Missing, Float64}, 1})"
      ]
     },
     "execution_count": 18,
     "metadata": {},
     "output_type": "execute_result"
    }
   ],
   "source": [
    "typeof(data.commissioning_year)"
   ]
  },
  {
   "cell_type": "markdown",
   "id": "69f248e6",
   "metadata": {},
   "source": [
    "Before calculating the average age, let's drop the missing values."
   ]
  },
  {
   "cell_type": "code",
   "execution_count": 19,
   "id": "563b73fe",
   "metadata": {},
   "outputs": [],
   "source": [
    "data_nmiss = dropmissing(data, :commissioning_year);"
   ]
  },
  {
   "cell_type": "markdown",
   "id": "f98b681d",
   "metadata": {},
   "source": [
    "And round the year to the closest integer. We can do this using the ```round``` function and a mapping function on the relevant DataFrame column."
   ]
  },
  {
   "cell_type": "code",
   "execution_count": 20,
   "id": "33080dfb",
   "metadata": {},
   "outputs": [],
   "source": [
    "map!(x -> round(x, digits = 0), data_nmiss.commissioning_year, data_nmiss.commissioning_year);\n",
    "# We can now calculate plant age for each plant (worth remembering that the dataset only contains active plants)"
   ]
  },
  {
   "cell_type": "code",
   "execution_count": 21,
   "id": "847ea97b",
   "metadata": {},
   "outputs": [],
   "source": [
    "current_year = fill!(Array{Float64}(undef, size(data_nmiss)[1]), 2020);\n",
    "data_nmiss[:, :plant_age] = current_year - data_nmiss[:, :commissioning_year];"
   ]
  },
  {
   "cell_type": "code",
   "execution_count": 25,
   "id": "64e83c61",
   "metadata": {},
   "outputs": [
    {
     "data": {
      "text/plain": [
       "16303-element Vector{Float64}:\n",
       " 2020.0\n",
       " 2020.0\n",
       " 2020.0\n",
       " 2020.0\n",
       " 2020.0\n",
       " 2020.0\n",
       " 2020.0\n",
       " 2020.0\n",
       " 2020.0\n",
       " 2020.0\n",
       " 2020.0\n",
       " 2020.0\n",
       " 2020.0\n",
       "    ⋮\n",
       " 2020.0\n",
       " 2020.0\n",
       " 2020.0\n",
       " 2020.0\n",
       " 2020.0\n",
       " 2020.0\n",
       " 2020.0\n",
       " 2020.0\n",
       " 2020.0\n",
       " 2020.0\n",
       " 2020.0\n",
       " 2020.0"
      ]
     },
     "execution_count": 25,
     "metadata": {},
     "output_type": "execute_result"
    }
   ],
   "source": [
    "current_year"
   ]
  },
  {
   "cell_type": "code",
   "execution_count": 26,
   "id": "3eaaaa52",
   "metadata": {},
   "outputs": [
    {
     "data": {
      "text/plain": [
       "16303-element Vector{Float64}:\n",
       " 55.0\n",
       " 42.0\n",
       " 35.0\n",
       " 69.0\n",
       " 57.0\n",
       " 62.0\n",
       " 49.0\n",
       " 10.0\n",
       " 10.0\n",
       " 40.0\n",
       "  4.0\n",
       "  4.0\n",
       " 11.0\n",
       "  ⋮\n",
       "  6.0\n",
       " 10.0\n",
       " 11.0\n",
       " 34.0\n",
       " 35.0\n",
       " 40.0\n",
       " 46.0\n",
       " 11.0\n",
       " 39.0\n",
       " 42.0\n",
       " 49.0\n",
       "  4.0"
      ]
     },
     "execution_count": 26,
     "metadata": {},
     "output_type": "execute_result"
    }
   ],
   "source": [
    "data_nmiss[:, :plant_age] "
   ]
  },
  {
   "cell_type": "markdown",
   "id": "ca7b7023",
   "metadata": {},
   "source": [
    "Since the commissioning year is missing for about half the plants in the dataset (17340, see description of data above) and that missing values propagate, the plant age will only be available for 33643-17340 plants. Let's see what the mean and median plant ages are across the plants for which we have the data"
   ]
  },
  {
   "cell_type": "code",
   "execution_count": 22,
   "id": "2c2e9de7",
   "metadata": {},
   "outputs": [
    {
     "data": {
      "text/plain": [
       "15.0"
      ]
     },
     "execution_count": 22,
     "metadata": {},
     "output_type": "execute_result"
    }
   ],
   "source": [
    "mean_age = mean(skipmissing(data_nmiss.plant_age))\n",
    "median_age = median(skipmissing(data_nmiss.plant_age))"
   ]
  },
  {
   "cell_type": "code",
   "execution_count": 27,
   "id": "3932c5c2",
   "metadata": {},
   "outputs": [
    {
     "data": {
      "text/plain": [
       "24.513463779672453"
      ]
     },
     "execution_count": 27,
     "metadata": {},
     "output_type": "execute_result"
    }
   ],
   "source": [
    "mean_age"
   ]
  },
  {
   "cell_type": "code",
   "execution_count": 28,
   "id": "648cbd15",
   "metadata": {},
   "outputs": [
    {
     "data": {
      "text/plain": [
       "15.0"
      ]
     },
     "execution_count": 28,
     "metadata": {},
     "output_type": "execute_result"
    }
   ],
   "source": [
    "median_age"
   ]
  },
  {
   "cell_type": "markdown",
   "id": "fbddeb62",
   "metadata": {},
   "source": [
    "And bring this into a frequency plot of the plant age observations"
   ]
  },
  {
   "cell_type": "code",
   "execution_count": 23,
   "id": "0fe9f938",
   "metadata": {},
   "outputs": [
    {
     "data": {
      "image/png": "[encoded data removed]",
      "text/plain": [
       "Figure(PyObject <Figure size 800x600 with 1 Axes>)"
      ]
     },
     "metadata": {},
     "output_type": "display_data"
    }
   ],
   "source": [
    "figure(figsize = (8, 6))\n",
    "\n",
    "plt.hist(data_nmiss.plant_age, color = \"steelblue\", edgecolor = \"white\", bins = 100, density = true, alpha = 0.5)\n",
    "plt.axvline(mean_age, label = \"Mean\", color = \"red\")\n",
    "plt.axvline(median_age, label = \"Median\")\n",
    "\n",
    "plt.legend()\n",
    "plt.xlim(0, )\n",
    "savefig(\"./plots/1.5.2.png\")"
   ]
  },
  {
   "cell_type": "markdown",
   "id": "a87eb283",
   "metadata": {},
   "source": [
    "We can also calculate and plot average plant age by country and technology Make sure all columns passed, other than the aggregation dimensions, are of type ```Float``` or ```Int```, otherwise the function execution will fail."
   ]
  },
  {
   "cell_type": "code",
   "execution_count": 24,
   "id": "b83e4614",
   "metadata": {},
   "outputs": [
    {
     "data": {
      "image/png": "[encoded data removed]",
      "text/plain": [
       "Figure(PyObject <Figure size 640x480 with 2 Axes>)"
      ]
     },
     "metadata": {},
     "output_type": "display_data"
    }
   ],
   "source": [
    "age = select(data_nmiss, [:country, :primary_fuel, :plant_age])\n",
    "age_mean = combine(groupby(age, [:country , :primary_fuel]), :plant_age => mean)\n",
    "\n",
    "coal_means = age_mean[occursin.(ctry_selec, age_mean.country) .& occursin.(r\"Coal\", age_mean.primary_fuel), :]\n",
    "gas_means = age_mean[occursin.(ctry_selec, age_mean.country) .& occursin.(r\"Gas\", age_mean.primary_fuel), :]\n",
    "\n",
    "width = 0.35 # the width of the bars\n",
    "\n",
    "fig, (ax1, ax2) = plt.subplots(1, 2)\n",
    "\n",
    "fig.suptitle(\"Mean plant age by country and technology\")\n",
    "\n",
    "ax1.bar(coal_means.country, coal_means.plant_age_mean, width, label = \"Coal\")\n",
    "ax2.bar(gas_means.country, gas_means.plant_age_mean, width, label = \"Gas\")\n",
    "\n",
    "ax1.set_ylabel(\"Age\")\n",
    "\n",
    "ax1.set_title(\"Coal\")\n",
    "ax2.set_title(\"Gas\")\n",
    "savefig(\"./plots/1.5.3.png\")"
   ]
  }
 ],
 "metadata": {
  "hide_input": false,
  "kernelspec": {
   "display_name": "Julia 1.7.3",
   "language": "julia",
   "name": "julia-1.7"
  },
  "language_info": {
   "file_extension": ".jl",
   "mimetype": "application/julia",
   "name": "julia",
   "version": "1.7.3"
  }
 },
 "nbformat": 4,
 "nbformat_minor": 5
}
