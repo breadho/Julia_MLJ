{
 "cells": [
  {
   "cell_type": "markdown",
   "id": "79524758",
   "metadata": {},
   "source": [
    "# Intro to stats Learning"
   ]
  },
  {
   "cell_type": "markdown",
   "id": "11a23672",
   "metadata": {},
   "source": [
    "## Lab 6b - Ridge and Lasso regression"
   ]
  },
  {
   "cell_type": "code",
   "execution_count": 1,
   "id": "36e8f24c",
   "metadata": {},
   "outputs": [
    {
     "name": "stderr",
     "output_type": "stream",
     "text": [
      "\u001b[32m\u001b[1m  Activating\u001b[22m\u001b[39m project at `D:\\JULIA\\6_ML_with_Julia\\ISL-lab-6b`\n"
     ]
    }
   ],
   "source": [
    "using Pkg ; Pkg.activate(\"D:/JULIA/6_ML_with_Julia/ISL-lab-6b\") ; Pkg.instantiate()"
   ]
  },
  {
   "cell_type": "markdown",
   "id": "da26cd71",
   "metadata": {},
   "source": [
    "> Getting started\n",
    "> 1. Data preparation\n",
    "> Ridge pipeline\n",
    "> 1. Baseline\n",
    "> 2. Basic Ridge\n",
    "> 3. Cross validating <br>\n",
    "\n",
    "> Lasso pipeline <br>\n",
    "> Elastic net pipeline <br>\n",
    "\n",
    "regression to the Hitters R dataset."
   ]
  },
  {
   "cell_type": "markdown",
   "id": "7749c9d1",
   "metadata": {},
   "source": [
    "### Getting started\n",
    "\n",
    "---"
   ]
  },
  {
   "cell_type": "code",
   "execution_count": 2,
   "id": "9f72f9de",
   "metadata": {},
   "outputs": [
    {
     "name": "stdout",
     "output_type": "stream",
     "text": [
      "import MLJLinearModels"
     ]
    },
    {
     "name": "stderr",
     "output_type": "stream",
     "text": [
      "┌ Info: For silent loading, specify `verbosity=0`. \n",
      "└ @ Main C:\\Users\\jeffr\\.julia\\packages\\MLJModels\\tMgLW\\src\\loading.jl:168\n"
     ]
    },
    {
     "name": "stdout",
     "output_type": "stream",
     "text": [
      " ✔\n",
      "import MLJLinearModels ✔\n",
      "import MLJLinearModels ✔\n"
     ]
    },
    {
     "name": "stderr",
     "output_type": "stream",
     "text": [
      "┌ Info: For silent loading, specify `verbosity=0`. \n",
      "└ @ Main C:\\Users\\jeffr\\.julia\\packages\\MLJModels\\tMgLW\\src\\loading.jl:168\n",
      "┌ Info: For silent loading, specify `verbosity=0`. \n",
      "└ @ Main C:\\Users\\jeffr\\.julia\\packages\\MLJModels\\tMgLW\\src\\loading.jl:168\n"
     ]
    },
    {
     "data": {
      "text/plain": [
       "MLJLinearModels.LassoRegressor"
      ]
     },
     "execution_count": 2,
     "metadata": {},
     "output_type": "execute_result"
    }
   ],
   "source": [
    "using MLJ\n",
    "import RDatasets: dataset\n",
    "using PrettyPrinting\n",
    "import Distributions\n",
    "const D = Distributions\n",
    "\n",
    "LinearRegressor = @load LinearRegressor pkg = MLJLinearModels\n",
    "RidgeRegressor = @load RidgeRegressor pkg = MLJLinearModels\n",
    "LassoRegressor = @load LassoRegressor pkg = MLJLinearModels"
   ]
  },
  {
   "cell_type": "markdown",
   "id": "a3b2532f",
   "metadata": {},
   "source": [
    "We load the dataset using the dataset function, which takes the Package and dataset names as arguments."
   ]
  },
  {
   "cell_type": "code",
   "execution_count": 3,
   "id": "bcbfdca0",
   "metadata": {},
   "outputs": [
    {
     "name": "stdout",
     "output_type": "stream",
     "text": [
      "size(hitters) = (322, 20)\n",
      "[\"AtBat\",\n",
      " \"Hits\",\n",
      " \"HmRun\",\n",
      " \"Runs\",\n",
      " \"RBI\",\n",
      " \"Walks\",\n",
      " \"Years\",\n",
      " \"CAtBat\",\n",
      " \"CHits\",\n",
      " \"CHmRun\",\n",
      " \"CRuns\",\n",
      " \"CRBI\",\n",
      " \"CWalks\",\n",
      " \"League\",\n",
      " \"Division\",\n",
      " \"PutOuts\",\n",
      " \"Assists\",\n",
      " \"Errors\",\n",
      " \"Salary\",\n",
      " \"NewLeague\"]"
     ]
    }
   ],
   "source": [
    "hitters = dataset(\"ISLR\", \"Hitters\")\n",
    "@show size(hitters)\n",
    "names(hitters) |> pprint"
   ]
  },
  {
   "cell_type": "markdown",
   "id": "d79985da",
   "metadata": {},
   "source": [
    "Let's unpack the dataset with the ```unpack``` function. In this case, the target is ```Salary (==(:Salary))``` and all other columns are features ```(col->true)```."
   ]
  },
  {
   "cell_type": "code",
   "execution_count": 4,
   "id": "d87c18c1",
   "metadata": {},
   "outputs": [],
   "source": [
    "y, X = unpack(hitters, ==(:Salary), col -> true);"
   ]
  },
  {
   "cell_type": "markdown",
   "id": "ab566a2f",
   "metadata": {},
   "source": [
    "The target has missing values which we will just ignore. We extract the row indices corresponding to non-missing values of the target. Note the use of the element-wise operator ```.```."
   ]
  },
  {
   "cell_type": "code",
   "execution_count": 5,
   "id": "cf40ccbe",
   "metadata": {},
   "outputs": [],
   "source": [
    "no_miss = .!ismissing.(y);"
   ]
  },
  {
   "cell_type": "markdown",
   "id": "c01a25be",
   "metadata": {},
   "source": [
    "We collect the non missing values of the target in an Array."
   ]
  },
  {
   "cell_type": "code",
   "execution_count": 6,
   "id": "958f4ef9",
   "metadata": {},
   "outputs": [],
   "source": [
    "# And keep only the corresponding features values.\n",
    "\n",
    "y = collect(skipmissing(y))\n",
    "X = X[no_miss, :]\n",
    "\n",
    "# Let's now split our dataset into a train and test sets.\n",
    "train, test = partition(eachindex(y), 0.5, shuffle = true, rng = 424);"
   ]
  },
  {
   "cell_type": "markdown",
   "id": "726f22da",
   "metadata": {},
   "source": [
    "Let's have a look at the target."
   ]
  },
  {
   "cell_type": "code",
   "execution_count": 7,
   "id": "ac3f82c5",
   "metadata": {},
   "outputs": [
    {
     "name": "stderr",
     "output_type": "stream",
     "text": [
      "┌ Warning: `vendor()` is deprecated, use `BLAS.get_config()` and inspect the output instead\n",
      "│   caller = npyinitialize() at numpy.jl:67\n",
      "└ @ PyCall C:\\Users\\jeffr\\.julia\\packages\\PyCall\\L0fLP\\src\\numpy.jl:67\n"
     ]
    },
    {
     "data": {
      "image/png": "[encoded data removed]",
      "text/plain": [
       "Figure(PyObject <Figure size 800x600 with 1 Axes>)"
      ]
     },
     "metadata": {},
     "output_type": "display_data"
    }
   ],
   "source": [
    "using PyPlot\n",
    "\n",
    "figure(figsize = (8, 6))\n",
    "plot(y, ls = \"none\", marker = \"o\")\n",
    "\n",
    "xticks(fontsize = 12)\n",
    "yticks(fontsize = 12)\n",
    "xlabel(\"Index\", fontsize = 14)\n",
    "ylabel(\"Salary\", fontsize = 14)\n",
    "\n",
    "savefig(\"./plots/3.5.1.png\")"
   ]
  },
  {
   "cell_type": "markdown",
   "id": "bc9ec23b",
   "metadata": {},
   "source": [
    "That looks quite skewed, let's have a look at a histogram:"
   ]
  },
  {
   "cell_type": "code",
   "execution_count": 8,
   "id": "66368729",
   "metadata": {},
   "outputs": [
    {
     "data": {
      "image/png": "[encoded data removed]",
      "text/plain": [
       "Figure(PyObject <Figure size 800x600 with 1 Axes>)"
      ]
     },
     "metadata": {},
     "output_type": "display_data"
    }
   ],
   "source": [
    "figure(figsize = (8,6))\n",
    "hist(y, bins = 50, density = true)\n",
    "\n",
    "xticks(fontsize = 12)\n",
    "yticks(fontsize = 12)\n",
    "xlabel(\"Salary\", fontsize = 14)\n",
    "ylabel(\"Density\", fontsize = 14)\n",
    "\n",
    "edfit = D.fit_mle(D.Exponential, y)\n",
    "xx = range(minimum(y), 2500, length = 100)\n",
    "yy = pdf.(edfit, xx)\n",
    "plot(xx, yy, lw = 3, label = \"Exponential distribution fit\")\n",
    "\n",
    "legend(fontsize = 12)\n",
    "savefig(\"./plots/3.5.2.png\")"
   ]
  },
  {
   "cell_type": "markdown",
   "id": "c99cc1bb",
   "metadata": {},
   "source": [
    "### Data preparation"
   ]
  },
  {
   "cell_type": "markdown",
   "id": "37704e79",
   "metadata": {},
   "source": [
    "Most features are currently encoded as integers but we will consider them as continuous. To coerce int features to Float, we nest the autotype function in the coerce function. The autotype function returns a dictionary containing scientific types, which is then passed to the coerce function. For more details on the use of autotype, see the Scientific Types"
   ]
  },
  {
   "cell_type": "code",
   "execution_count": 9,
   "id": "26b1ffd2",
   "metadata": {},
   "outputs": [
    {
     "data": {
      "text/plain": [
       "┌───────────┬───────────────┬─────────────────────────────────┐\n",
       "│\u001b[22m names     \u001b[0m│\u001b[22m scitypes      \u001b[0m│\u001b[22m types                           \u001b[0m│\n",
       "├───────────┼───────────────┼─────────────────────────────────┤\n",
       "│ AtBat     │ Count         │ Int32                           │\n",
       "│ Hits      │ Count         │ Int32                           │\n",
       "│ HmRun     │ Count         │ Int32                           │\n",
       "│ Runs      │ Count         │ Int32                           │\n",
       "│ RBI       │ Count         │ Int32                           │\n",
       "│ Walks     │ Count         │ Int32                           │\n",
       "│ Years     │ Count         │ Int32                           │\n",
       "│ CAtBat    │ Count         │ Int32                           │\n",
       "│ CHits     │ Count         │ Int32                           │\n",
       "│ CHmRun    │ Count         │ Int32                           │\n",
       "│ CRuns     │ Count         │ Int32                           │\n",
       "│ CRBI      │ Count         │ Int32                           │\n",
       "│ CWalks    │ Count         │ Int32                           │\n",
       "│ League    │ Multiclass{2} │ CategoricalValue{String, UInt8} │\n",
       "│ Division  │ Multiclass{2} │ CategoricalValue{String, UInt8} │\n",
       "│ PutOuts   │ Count         │ Int32                           │\n",
       "│ Assists   │ Count         │ Int32                           │\n",
       "│ Errors    │ Count         │ Int32                           │\n",
       "│ NewLeague │ Multiclass{2} │ CategoricalValue{String, UInt8} │\n",
       "└───────────┴───────────────┴─────────────────────────────────┘\n"
      ]
     },
     "execution_count": 9,
     "metadata": {},
     "output_type": "execute_result"
    }
   ],
   "source": [
    "schema(X)"
   ]
  },
  {
   "cell_type": "code",
   "execution_count": 10,
   "id": "c1d96df2",
   "metadata": {},
   "outputs": [
    {
     "data": {
      "text/plain": [
       "Table{Union{AbstractVector{Continuous}, AbstractVector{Multiclass{2}}}}"
      ]
     },
     "execution_count": 10,
     "metadata": {},
     "output_type": "execute_result"
    }
   ],
   "source": [
    "Xc = coerce(X, autotype(X, rules = (:discrete_to_continuous,)))\n",
    "scitype(Xc)"
   ]
  },
  {
   "cell_type": "code",
   "execution_count": 11,
   "id": "d125514b",
   "metadata": {},
   "outputs": [
    {
     "data": {
      "text/plain": [
       "┌───────────┬───────────────┬─────────────────────────────────┐\n",
       "│\u001b[22m names     \u001b[0m│\u001b[22m scitypes      \u001b[0m│\u001b[22m types                           \u001b[0m│\n",
       "├───────────┼───────────────┼─────────────────────────────────┤\n",
       "│ AtBat     │ Continuous    │ Float64                         │\n",
       "│ Hits      │ Continuous    │ Float64                         │\n",
       "│ HmRun     │ Continuous    │ Float64                         │\n",
       "│ Runs      │ Continuous    │ Float64                         │\n",
       "│ RBI       │ Continuous    │ Float64                         │\n",
       "│ Walks     │ Continuous    │ Float64                         │\n",
       "│ Years     │ Continuous    │ Float64                         │\n",
       "│ CAtBat    │ Continuous    │ Float64                         │\n",
       "│ CHits     │ Continuous    │ Float64                         │\n",
       "│ CHmRun    │ Continuous    │ Float64                         │\n",
       "│ CRuns     │ Continuous    │ Float64                         │\n",
       "│ CRBI      │ Continuous    │ Float64                         │\n",
       "│ CWalks    │ Continuous    │ Float64                         │\n",
       "│ League    │ Multiclass{2} │ CategoricalValue{String, UInt8} │\n",
       "│ Division  │ Multiclass{2} │ CategoricalValue{String, UInt8} │\n",
       "│ PutOuts   │ Continuous    │ Float64                         │\n",
       "│ Assists   │ Continuous    │ Float64                         │\n",
       "│ Errors    │ Continuous    │ Float64                         │\n",
       "│ NewLeague │ Multiclass{2} │ CategoricalValue{String, UInt8} │\n",
       "└───────────┴───────────────┴─────────────────────────────────┘\n"
      ]
     },
     "execution_count": 11,
     "metadata": {},
     "output_type": "execute_result"
    }
   ],
   "source": [
    "schema(Xc)"
   ]
  },
  {
   "cell_type": "code",
   "execution_count": 12,
   "id": "5c030231",
   "metadata": {},
   "outputs": [
    {
     "data": {
      "text/plain": [
       "Dict{Symbol, Type} with 16 entries:\n",
       "  :CAtBat  => Continuous\n",
       "  :CRBI    => Continuous\n",
       "  :AtBat   => Continuous\n",
       "  :Errors  => Continuous\n",
       "  :Assists => Continuous\n",
       "  :Years   => Continuous\n",
       "  :HmRun   => Continuous\n",
       "  :Walks   => Continuous\n",
       "  :CRuns   => Continuous\n",
       "  :CWalks  => Continuous\n",
       "  :Runs    => Continuous\n",
       "  :Hits    => Continuous\n",
       "  :CHits   => Continuous\n",
       "  :CHmRun  => Continuous\n",
       "  :PutOuts => Continuous\n",
       "  :RBI     => Continuous"
      ]
     },
     "execution_count": 12,
     "metadata": {},
     "output_type": "execute_result"
    }
   ],
   "source": [
    "# count를 continuous로 바꾸는 함수\n",
    "\n",
    "autotype(X, rules = (:discrete_to_continuous,))"
   ]
  },
  {
   "cell_type": "code",
   "execution_count": 13,
   "id": "f6df53db",
   "metadata": {},
   "outputs": [
    {
     "data": {
      "text/html": [
       "<div class=\"data-frame\"><p>263 rows × 19 columns (omitted printing of 10 columns)</p><table class=\"data-frame\"><thead><tr><th></th><th>AtBat</th><th>Hits</th><th>HmRun</th><th>Runs</th><th>RBI</th><th>Walks</th><th>Years</th><th>CAtBat</th><th>CHits</th></tr><tr><th></th><th title=\"Float64\">Float64</th><th title=\"Float64\">Float64</th><th title=\"Float64\">Float64</th><th title=\"Float64\">Float64</th><th title=\"Float64\">Float64</th><th title=\"Float64\">Float64</th><th title=\"Float64\">Float64</th><th title=\"Float64\">Float64</th><th title=\"Float64\">Float64</th></tr></thead><tbody><tr><th>1</th><td>315.0</td><td>81.0</td><td>7.0</td><td>24.0</td><td>38.0</td><td>39.0</td><td>14.0</td><td>3449.0</td><td>835.0</td></tr><tr><th>2</th><td>479.0</td><td>130.0</td><td>18.0</td><td>66.0</td><td>72.0</td><td>76.0</td><td>3.0</td><td>1624.0</td><td>457.0</td></tr><tr><th>3</th><td>496.0</td><td>141.0</td><td>20.0</td><td>65.0</td><td>78.0</td><td>37.0</td><td>11.0</td><td>5628.0</td><td>1575.0</td></tr><tr><th>4</th><td>321.0</td><td>87.0</td><td>10.0</td><td>39.0</td><td>42.0</td><td>30.0</td><td>2.0</td><td>396.0</td><td>101.0</td></tr><tr><th>5</th><td>594.0</td><td>169.0</td><td>4.0</td><td>74.0</td><td>51.0</td><td>35.0</td><td>11.0</td><td>4408.0</td><td>1133.0</td></tr><tr><th>6</th><td>185.0</td><td>37.0</td><td>1.0</td><td>23.0</td><td>8.0</td><td>21.0</td><td>2.0</td><td>214.0</td><td>42.0</td></tr><tr><th>7</th><td>298.0</td><td>73.0</td><td>0.0</td><td>24.0</td><td>24.0</td><td>7.0</td><td>3.0</td><td>509.0</td><td>108.0</td></tr><tr><th>8</th><td>323.0</td><td>81.0</td><td>6.0</td><td>26.0</td><td>32.0</td><td>8.0</td><td>2.0</td><td>341.0</td><td>86.0</td></tr><tr><th>9</th><td>401.0</td><td>92.0</td><td>17.0</td><td>49.0</td><td>66.0</td><td>65.0</td><td>13.0</td><td>5206.0</td><td>1332.0</td></tr><tr><th>10</th><td>574.0</td><td>159.0</td><td>21.0</td><td>107.0</td><td>75.0</td><td>59.0</td><td>10.0</td><td>4631.0</td><td>1300.0</td></tr><tr><th>11</th><td>202.0</td><td>53.0</td><td>4.0</td><td>31.0</td><td>26.0</td><td>27.0</td><td>9.0</td><td>1876.0</td><td>467.0</td></tr><tr><th>12</th><td>418.0</td><td>113.0</td><td>13.0</td><td>48.0</td><td>61.0</td><td>47.0</td><td>4.0</td><td>1512.0</td><td>392.0</td></tr><tr><th>13</th><td>239.0</td><td>60.0</td><td>0.0</td><td>30.0</td><td>11.0</td><td>22.0</td><td>6.0</td><td>1941.0</td><td>510.0</td></tr><tr><th>14</th><td>196.0</td><td>43.0</td><td>7.0</td><td>29.0</td><td>27.0</td><td>30.0</td><td>13.0</td><td>3231.0</td><td>825.0</td></tr><tr><th>15</th><td>568.0</td><td>158.0</td><td>20.0</td><td>89.0</td><td>75.0</td><td>73.0</td><td>15.0</td><td>8068.0</td><td>2273.0</td></tr><tr><th>16</th><td>190.0</td><td>46.0</td><td>2.0</td><td>24.0</td><td>8.0</td><td>15.0</td><td>5.0</td><td>479.0</td><td>102.0</td></tr><tr><th>17</th><td>127.0</td><td>32.0</td><td>8.0</td><td>16.0</td><td>22.0</td><td>14.0</td><td>8.0</td><td>727.0</td><td>180.0</td></tr><tr><th>18</th><td>413.0</td><td>92.0</td><td>16.0</td><td>72.0</td><td>48.0</td><td>65.0</td><td>1.0</td><td>413.0</td><td>92.0</td></tr><tr><th>19</th><td>426.0</td><td>109.0</td><td>3.0</td><td>55.0</td><td>43.0</td><td>62.0</td><td>1.0</td><td>426.0</td><td>109.0</td></tr><tr><th>20</th><td>472.0</td><td>116.0</td><td>16.0</td><td>60.0</td><td>62.0</td><td>74.0</td><td>6.0</td><td>1924.0</td><td>489.0</td></tr><tr><th>21</th><td>629.0</td><td>168.0</td><td>18.0</td><td>73.0</td><td>102.0</td><td>40.0</td><td>18.0</td><td>8424.0</td><td>2464.0</td></tr><tr><th>22</th><td>587.0</td><td>163.0</td><td>4.0</td><td>92.0</td><td>51.0</td><td>70.0</td><td>6.0</td><td>2695.0</td><td>747.0</td></tr><tr><th>23</th><td>324.0</td><td>73.0</td><td>4.0</td><td>32.0</td><td>18.0</td><td>22.0</td><td>7.0</td><td>1931.0</td><td>491.0</td></tr><tr><th>24</th><td>474.0</td><td>129.0</td><td>10.0</td><td>50.0</td><td>56.0</td><td>40.0</td><td>10.0</td><td>2331.0</td><td>604.0</td></tr><tr><th>25</th><td>550.0</td><td>152.0</td><td>6.0</td><td>92.0</td><td>37.0</td><td>81.0</td><td>5.0</td><td>2308.0</td><td>633.0</td></tr><tr><th>26</th><td>513.0</td><td>137.0</td><td>20.0</td><td>90.0</td><td>95.0</td><td>90.0</td><td>14.0</td><td>5201.0</td><td>1382.0</td></tr><tr><th>27</th><td>419.0</td><td>108.0</td><td>6.0</td><td>55.0</td><td>36.0</td><td>22.0</td><td>3.0</td><td>591.0</td><td>149.0</td></tr><tr><th>28</th><td>583.0</td><td>168.0</td><td>17.0</td><td>83.0</td><td>80.0</td><td>56.0</td><td>5.0</td><td>1646.0</td><td>452.0</td></tr><tr><th>29</th><td>204.0</td><td>49.0</td><td>6.0</td><td>23.0</td><td>25.0</td><td>12.0</td><td>7.0</td><td>1309.0</td><td>308.0</td></tr><tr><th>30</th><td>379.0</td><td>106.0</td><td>10.0</td><td>38.0</td><td>60.0</td><td>30.0</td><td>14.0</td><td>6207.0</td><td>1906.0</td></tr><tr><th>&vellip;</th><td>&vellip;</td><td>&vellip;</td><td>&vellip;</td><td>&vellip;</td><td>&vellip;</td><td>&vellip;</td><td>&vellip;</td><td>&vellip;</td><td>&vellip;</td></tr></tbody></table></div>"
      ],
      "text/latex": [
       "\\begin{tabular}{r|cccccccccc}\n",
       "\t& AtBat & Hits & HmRun & Runs & RBI & Walks & Years & CAtBat & CHits & \\\\\n",
       "\t\\hline\n",
       "\t& Float64 & Float64 & Float64 & Float64 & Float64 & Float64 & Float64 & Float64 & Float64 & \\\\\n",
       "\t\\hline\n",
       "\t1 & 315.0 & 81.0 & 7.0 & 24.0 & 38.0 & 39.0 & 14.0 & 3449.0 & 835.0 & $\\dots$ \\\\\n",
       "\t2 & 479.0 & 130.0 & 18.0 & 66.0 & 72.0 & 76.0 & 3.0 & 1624.0 & 457.0 & $\\dots$ \\\\\n",
       "\t3 & 496.0 & 141.0 & 20.0 & 65.0 & 78.0 & 37.0 & 11.0 & 5628.0 & 1575.0 & $\\dots$ \\\\\n",
       "\t4 & 321.0 & 87.0 & 10.0 & 39.0 & 42.0 & 30.0 & 2.0 & 396.0 & 101.0 & $\\dots$ \\\\\n",
       "\t5 & 594.0 & 169.0 & 4.0 & 74.0 & 51.0 & 35.0 & 11.0 & 4408.0 & 1133.0 & $\\dots$ \\\\\n",
       "\t6 & 185.0 & 37.0 & 1.0 & 23.0 & 8.0 & 21.0 & 2.0 & 214.0 & 42.0 & $\\dots$ \\\\\n",
       "\t7 & 298.0 & 73.0 & 0.0 & 24.0 & 24.0 & 7.0 & 3.0 & 509.0 & 108.0 & $\\dots$ \\\\\n",
       "\t8 & 323.0 & 81.0 & 6.0 & 26.0 & 32.0 & 8.0 & 2.0 & 341.0 & 86.0 & $\\dots$ \\\\\n",
       "\t9 & 401.0 & 92.0 & 17.0 & 49.0 & 66.0 & 65.0 & 13.0 & 5206.0 & 1332.0 & $\\dots$ \\\\\n",
       "\t10 & 574.0 & 159.0 & 21.0 & 107.0 & 75.0 & 59.0 & 10.0 & 4631.0 & 1300.0 & $\\dots$ \\\\\n",
       "\t11 & 202.0 & 53.0 & 4.0 & 31.0 & 26.0 & 27.0 & 9.0 & 1876.0 & 467.0 & $\\dots$ \\\\\n",
       "\t12 & 418.0 & 113.0 & 13.0 & 48.0 & 61.0 & 47.0 & 4.0 & 1512.0 & 392.0 & $\\dots$ \\\\\n",
       "\t13 & 239.0 & 60.0 & 0.0 & 30.0 & 11.0 & 22.0 & 6.0 & 1941.0 & 510.0 & $\\dots$ \\\\\n",
       "\t14 & 196.0 & 43.0 & 7.0 & 29.0 & 27.0 & 30.0 & 13.0 & 3231.0 & 825.0 & $\\dots$ \\\\\n",
       "\t15 & 568.0 & 158.0 & 20.0 & 89.0 & 75.0 & 73.0 & 15.0 & 8068.0 & 2273.0 & $\\dots$ \\\\\n",
       "\t16 & 190.0 & 46.0 & 2.0 & 24.0 & 8.0 & 15.0 & 5.0 & 479.0 & 102.0 & $\\dots$ \\\\\n",
       "\t17 & 127.0 & 32.0 & 8.0 & 16.0 & 22.0 & 14.0 & 8.0 & 727.0 & 180.0 & $\\dots$ \\\\\n",
       "\t18 & 413.0 & 92.0 & 16.0 & 72.0 & 48.0 & 65.0 & 1.0 & 413.0 & 92.0 & $\\dots$ \\\\\n",
       "\t19 & 426.0 & 109.0 & 3.0 & 55.0 & 43.0 & 62.0 & 1.0 & 426.0 & 109.0 & $\\dots$ \\\\\n",
       "\t20 & 472.0 & 116.0 & 16.0 & 60.0 & 62.0 & 74.0 & 6.0 & 1924.0 & 489.0 & $\\dots$ \\\\\n",
       "\t21 & 629.0 & 168.0 & 18.0 & 73.0 & 102.0 & 40.0 & 18.0 & 8424.0 & 2464.0 & $\\dots$ \\\\\n",
       "\t22 & 587.0 & 163.0 & 4.0 & 92.0 & 51.0 & 70.0 & 6.0 & 2695.0 & 747.0 & $\\dots$ \\\\\n",
       "\t23 & 324.0 & 73.0 & 4.0 & 32.0 & 18.0 & 22.0 & 7.0 & 1931.0 & 491.0 & $\\dots$ \\\\\n",
       "\t24 & 474.0 & 129.0 & 10.0 & 50.0 & 56.0 & 40.0 & 10.0 & 2331.0 & 604.0 & $\\dots$ \\\\\n",
       "\t25 & 550.0 & 152.0 & 6.0 & 92.0 & 37.0 & 81.0 & 5.0 & 2308.0 & 633.0 & $\\dots$ \\\\\n",
       "\t26 & 513.0 & 137.0 & 20.0 & 90.0 & 95.0 & 90.0 & 14.0 & 5201.0 & 1382.0 & $\\dots$ \\\\\n",
       "\t27 & 419.0 & 108.0 & 6.0 & 55.0 & 36.0 & 22.0 & 3.0 & 591.0 & 149.0 & $\\dots$ \\\\\n",
       "\t28 & 583.0 & 168.0 & 17.0 & 83.0 & 80.0 & 56.0 & 5.0 & 1646.0 & 452.0 & $\\dots$ \\\\\n",
       "\t29 & 204.0 & 49.0 & 6.0 & 23.0 & 25.0 & 12.0 & 7.0 & 1309.0 & 308.0 & $\\dots$ \\\\\n",
       "\t30 & 379.0 & 106.0 & 10.0 & 38.0 & 60.0 & 30.0 & 14.0 & 6207.0 & 1906.0 & $\\dots$ \\\\\n",
       "\t$\\dots$ & $\\dots$ & $\\dots$ & $\\dots$ & $\\dots$ & $\\dots$ & $\\dots$ & $\\dots$ & $\\dots$ & $\\dots$ &  \\\\\n",
       "\\end{tabular}\n"
      ],
      "text/plain": [
       "\u001b[1m263×19 DataFrame\u001b[0m\n",
       "\u001b[1m Row \u001b[0m│\u001b[1m AtBat   \u001b[0m\u001b[1m Hits    \u001b[0m\u001b[1m HmRun   \u001b[0m\u001b[1m Runs    \u001b[0m\u001b[1m RBI     \u001b[0m\u001b[1m Walks   \u001b[0m\u001b[1m Years   \u001b[0m\u001b[1m CAtBat  \u001b[0m\u001b[1m\u001b[0m ⋯\n",
       "\u001b[1m     \u001b[0m│\u001b[90m Float64 \u001b[0m\u001b[90m Float64 \u001b[0m\u001b[90m Float64 \u001b[0m\u001b[90m Float64 \u001b[0m\u001b[90m Float64 \u001b[0m\u001b[90m Float64 \u001b[0m\u001b[90m Float64 \u001b[0m\u001b[90m Float64 \u001b[0m\u001b[90m\u001b[0m ⋯\n",
       "─────┼──────────────────────────────────────────────────────────────────────────\n",
       "   1 │   315.0     81.0      7.0     24.0     38.0     39.0     14.0   3449.0  ⋯\n",
       "   2 │   479.0    130.0     18.0     66.0     72.0     76.0      3.0   1624.0\n",
       "   3 │   496.0    141.0     20.0     65.0     78.0     37.0     11.0   5628.0\n",
       "   4 │   321.0     87.0     10.0     39.0     42.0     30.0      2.0    396.0\n",
       "   5 │   594.0    169.0      4.0     74.0     51.0     35.0     11.0   4408.0  ⋯\n",
       "   6 │   185.0     37.0      1.0     23.0      8.0     21.0      2.0    214.0\n",
       "   7 │   298.0     73.0      0.0     24.0     24.0      7.0      3.0    509.0\n",
       "   8 │   323.0     81.0      6.0     26.0     32.0      8.0      2.0    341.0\n",
       "   9 │   401.0     92.0     17.0     49.0     66.0     65.0     13.0   5206.0  ⋯\n",
       "  10 │   574.0    159.0     21.0    107.0     75.0     59.0     10.0   4631.0\n",
       "  11 │   202.0     53.0      4.0     31.0     26.0     27.0      9.0   1876.0\n",
       "  ⋮  │    ⋮        ⋮        ⋮        ⋮        ⋮        ⋮        ⋮        ⋮     ⋱\n",
       " 254 │   360.0     81.0      5.0     37.0     44.0     37.0      7.0   2268.0\n",
       " 255 │   387.0    124.0      1.0     67.0     27.0     36.0      7.0   1775.0  ⋯\n",
       " 256 │   580.0    207.0      8.0    107.0     71.0    105.0      5.0   2778.0\n",
       " 257 │   408.0    117.0     11.0     66.0     41.0     34.0      1.0    408.0\n",
       " 258 │   593.0    172.0     22.0     82.0    100.0     57.0      1.0    593.0\n",
       " 259 │   497.0    127.0      7.0     65.0     48.0     37.0      5.0   2703.0  ⋯\n",
       " 260 │   492.0    136.0      5.0     76.0     50.0     94.0     12.0   5511.0\n",
       " 261 │   475.0    126.0      3.0     61.0     43.0     52.0      6.0   1700.0\n",
       " 262 │   573.0    144.0      9.0     85.0     60.0     78.0      8.0   3198.0\n",
       " 263 │   631.0    170.0      9.0     77.0     44.0     31.0     11.0   4908.0  ⋯\n",
       "\u001b[36m                                                 11 columns and 242 rows omitted\u001b[0m"
      ]
     },
     "execution_count": 13,
     "metadata": {},
     "output_type": "execute_result"
    }
   ],
   "source": [
    "coerce(X, autotype(X, rules = (:discrete_to_continuous,)))"
   ]
  },
  {
   "cell_type": "markdown",
   "id": "d3057125",
   "metadata": {},
   "source": [
    "There're a few features that are categorical which we'll one-hot-encode."
   ]
  },
  {
   "cell_type": "markdown",
   "id": "1e623ff3",
   "metadata": {},
   "source": [
    "### Ridge pipeline\n",
    "\n",
    "---\n",
    "\n",
    "### Baseline"
   ]
  },
  {
   "cell_type": "markdown",
   "id": "b1c07f1e",
   "metadata": {},
   "source": [
    "Let's first fit a simple pipeline with a standardizer, a one-hot-encoder and a basic linear regression:"
   ]
  },
  {
   "cell_type": "code",
   "execution_count": 14,
   "id": "42b26dae",
   "metadata": {},
   "outputs": [
    {
     "data": {
      "text/plain": [
       "DeterministicPipeline(\n",
       "    standardizer = Standardizer(\n",
       "            features = Symbol[],\n",
       "            ignore = false,\n",
       "            ordered_factor = false,\n",
       "            count = false),\n",
       "    one_hot_encoder = OneHotEncoder(\n",
       "            features = Symbol[],\n",
       "            drop_last = false,\n",
       "            ordered_factor = true,\n",
       "            ignore = false),\n",
       "    linear_regressor = LinearRegressor(\n",
       "            fit_intercept = true,\n",
       "            solver = nothing),\n",
       "    cache = true)"
      ]
     },
     "execution_count": 14,
     "metadata": {},
     "output_type": "execute_result"
    }
   ],
   "source": [
    "model = Pipeline(Standardizer(), OneHotEncoder(), LinearRegressor())"
   ]
  },
  {
   "cell_type": "code",
   "execution_count": 15,
   "id": "e0c45176",
   "metadata": {},
   "outputs": [
    {
     "name": "stderr",
     "output_type": "stream",
     "text": [
      "┌ Info: Training Machine{DeterministicPipeline{NamedTuple{,…},…},…}.\n",
      "└ @ MLJBase C:\\Users\\jeffr\\.julia\\packages\\MLJBase\\MuLnJ\\src\\machines.jl:464\n",
      "┌ Info: Training Machine{Standardizer,…}.\n",
      "└ @ MLJBase C:\\Users\\jeffr\\.julia\\packages\\MLJBase\\MuLnJ\\src\\machines.jl:464\n",
      "┌ Info: Training Machine{OneHotEncoder,…}.\n",
      "└ @ MLJBase C:\\Users\\jeffr\\.julia\\packages\\MLJBase\\MuLnJ\\src\\machines.jl:464\n",
      "┌ Info: Spawning 2 sub-features to one-hot encode feature :League.\n",
      "└ @ MLJModels C:\\Users\\jeffr\\.julia\\packages\\MLJModels\\tMgLW\\src\\builtins\\Transformers.jl:1142\n",
      "┌ Info: Spawning 2 sub-features to one-hot encode feature :Division.\n",
      "└ @ MLJModels C:\\Users\\jeffr\\.julia\\packages\\MLJModels\\tMgLW\\src\\builtins\\Transformers.jl:1142\n",
      "┌ Info: Spawning 2 sub-features to one-hot encode feature :NewLeague.\n",
      "└ @ MLJModels C:\\Users\\jeffr\\.julia\\packages\\MLJModels\\tMgLW\\src\\builtins\\Transformers.jl:1142\n",
      "┌ Info: Training Machine{LinearRegressor,…}.\n",
      "└ @ MLJBase C:\\Users\\jeffr\\.julia\\packages\\MLJBase\\MuLnJ\\src\\machines.jl:464\n"
     ]
    },
    {
     "data": {
      "text/plain": [
       "123500.0"
      ]
     },
     "execution_count": 15,
     "metadata": {},
     "output_type": "execute_result"
    }
   ],
   "source": [
    "pipe = machine(model, Xc, y)\n",
    "fit!(pipe, rows = train)\n",
    "ŷ = MLJ.predict(pipe, rows = test)\n",
    "round(rms(ŷ, y[test])^2, sigdigits = 4)"
   ]
  },
  {
   "cell_type": "markdown",
   "id": "1dc457fb",
   "metadata": {},
   "source": [
    "Let's get a feel for how we're doing"
   ]
  },
  {
   "cell_type": "code",
   "execution_count": 16,
   "id": "df7201da",
   "metadata": {},
   "outputs": [
    {
     "data": {
      "image/png": "[encoded data removed]",
      "text/plain": [
       "Figure(PyObject <Figure size 800x600 with 1 Axes>)"
      ]
     },
     "metadata": {},
     "output_type": "display_data"
    }
   ],
   "source": [
    "figure(figsize = (8, 6))\n",
    "\n",
    "res = ŷ .- y[test]\n",
    "stem(res)\n",
    "\n",
    "xticks(fontsize = 12)\n",
    "yticks(fontsize = 12)\n",
    "xlabel(\"Index\", fontsize = 14)\n",
    "ylabel(\"Residual (ŷ - y)\", fontsize = 14)\n",
    "\n",
    "ylim([-1300, 1300])\n",
    "savefig(\"./plots/3.5.3.png\")"
   ]
  },
  {
   "cell_type": "code",
   "execution_count": 17,
   "id": "57df4535",
   "metadata": {},
   "outputs": [
    {
     "data": {
      "image/png": "[encoded data removed]",
      "text/plain": [
       "Figure(PyObject <Figure size 800x600 with 1 Axes>)"
      ]
     },
     "metadata": {},
     "output_type": "display_data"
    }
   ],
   "source": [
    "figure(figsize = (8, 6))\n",
    "hist(res, bins = 30, density = true, color = \"green\")\n",
    "\n",
    "xx = range(-1100, 1100, length = 100)\n",
    "ndfit = D.fit_mle(D.Normal, res)\n",
    "lfit = D.fit_mle(D.Laplace, res)\n",
    "\n",
    "plot(xx, pdf.(ndfit, xx), lw = 3, color = \"orange\", label = \"Normal fit\")\n",
    "plot(xx, pdf.(lfit, xx), lw = 3, color = \"magenta\", label = \"Laplace fit\")\n",
    "\n",
    "legend(fontsize = 12)\n",
    "\n",
    "xticks(fontsize = 12)\n",
    "yticks(fontsize = 12)\n",
    "xlabel(\"Residual (ŷ - y)\", fontsize = 14)\n",
    "ylabel(\"Density\", fontsize = 14)\n",
    "xlim([-1100, 1100])\n",
    "\n",
    "savefig(\"./plots/3.5.4.png\")"
   ]
  },
  {
   "cell_type": "markdown",
   "id": "c8ba736a",
   "metadata": {},
   "source": [
    "###  Basic Ridge"
   ]
  },
  {
   "cell_type": "markdown",
   "id": "2d2f0b6c",
   "metadata": {},
   "source": [
    "Let's now swap the linear regressor for a Ridge one without specifying the penalty (```1``` by default): We modify the supervised model in the pipeline directly."
   ]
  },
  {
   "cell_type": "code",
   "execution_count": 18,
   "id": "4efd3531",
   "metadata": {},
   "outputs": [
    {
     "name": "stderr",
     "output_type": "stream",
     "text": [
      "┌ Info: Updating Machine{DeterministicPipeline{NamedTuple{,…},…},…}.\n",
      "└ @ MLJBase C:\\Users\\jeffr\\.julia\\packages\\MLJBase\\MuLnJ\\src\\machines.jl:465\n",
      "┌ Info: Training Machine{Standardizer,…}.\n",
      "└ @ MLJBase C:\\Users\\jeffr\\.julia\\packages\\MLJBase\\MuLnJ\\src\\machines.jl:464\n",
      "┌ Info: Training Machine{OneHotEncoder,…}.\n",
      "└ @ MLJBase C:\\Users\\jeffr\\.julia\\packages\\MLJBase\\MuLnJ\\src\\machines.jl:464\n",
      "┌ Info: Spawning 2 sub-features to one-hot encode feature :League.\n",
      "└ @ MLJModels C:\\Users\\jeffr\\.julia\\packages\\MLJModels\\tMgLW\\src\\builtins\\Transformers.jl:1142\n",
      "┌ Info: Spawning 2 sub-features to one-hot encode feature :Division.\n",
      "└ @ MLJModels C:\\Users\\jeffr\\.julia\\packages\\MLJModels\\tMgLW\\src\\builtins\\Transformers.jl:1142\n",
      "┌ Info: Spawning 2 sub-features to one-hot encode feature :NewLeague.\n",
      "└ @ MLJModels C:\\Users\\jeffr\\.julia\\packages\\MLJModels\\tMgLW\\src\\builtins\\Transformers.jl:1142\n",
      "┌ Info: Training Machine{RidgeRegressor,…}.\n",
      "└ @ MLJBase C:\\Users\\jeffr\\.julia\\packages\\MLJBase\\MuLnJ\\src\\machines.jl:464\n"
     ]
    },
    {
     "data": {
      "text/plain": [
       "119800.0"
      ]
     },
     "execution_count": 18,
     "metadata": {},
     "output_type": "execute_result"
    }
   ],
   "source": [
    "pipe.model.linear_regressor = RidgeRegressor()\n",
    "fit!(pipe, rows = train)\n",
    "ŷ = MLJ.predict(pipe, rows = test)\n",
    "round(rms(ŷ, y[test])^2, sigdigits = 4)"
   ]
  },
  {
   "cell_type": "markdown",
   "id": "2db35ff2",
   "metadata": {},
   "source": [
    "Ok that's a bit better but surely we can do better with an appropriate selection of the hyperparameter."
   ]
  },
  {
   "cell_type": "markdown",
   "id": "555ca5ab",
   "metadata": {},
   "source": [
    "### Cross validation"
   ]
  },
  {
   "cell_type": "markdown",
   "id": "7e970aa8",
   "metadata": {},
   "source": [
    "What penalty should you use? Let's do a simple CV to try to find out:"
   ]
  },
  {
   "cell_type": "code",
   "execution_count": 19,
   "id": "b9d345db",
   "metadata": {},
   "outputs": [
    {
     "name": "stderr",
     "output_type": "stream",
     "text": [
      "┌ Info: Training Machine{DeterministicTunedModel{Grid,…},…}.\n",
      "└ @ MLJBase C:\\Users\\jeffr\\.julia\\packages\\MLJBase\\MuLnJ\\src\\machines.jl:464\n",
      "┌ Info: Attempting to evaluate 50 models.\n",
      "└ @ MLJTuning C:\\Users\\jeffr\\.julia\\packages\\MLJTuning\\Al9yX\\src\\tuned_models.jl:680\n",
      "\u001b[33mEvaluating over 50 metamodels: 100%[=========================] Time: 0:00:03\u001b[39m\n"
     ]
    },
    {
     "data": {
      "text/plain": [
       "0.3728"
      ]
     },
     "execution_count": 19,
     "metadata": {},
     "output_type": "execute_result"
    }
   ],
   "source": [
    "r = range(model, :(linear_regressor.lambda), lower = 1e-2, upper = 100_000, scale = :log10)\n",
    "tm = TunedModel(model = model, \n",
    "                ranges = r, \n",
    "                tuning = Grid(resolution = 50),\n",
    "                resampling = CV(nfolds = 3, rng =4141),\n",
    "                measure = rms)\n",
    "mtm = machine(tm, Xc, y)\n",
    "fit!(mtm, rows = train)\n",
    "\n",
    "best_mdl = fitted_params(mtm).best_model\n",
    "round(best_mdl.linear_regressor.lambda, sigdigits = 4)"
   ]
  },
  {
   "cell_type": "markdown",
   "id": "5321740c",
   "metadata": {},
   "source": [
    "right, and with that we get:"
   ]
  },
  {
   "cell_type": "code",
   "execution_count": 20,
   "id": "cf2750ae",
   "metadata": {},
   "outputs": [
    {
     "data": {
      "text/plain": [
       "98040.0"
      ]
     },
     "execution_count": 20,
     "metadata": {},
     "output_type": "execute_result"
    }
   ],
   "source": [
    "ŷ = MLJ.predict(mtm, rows = test)\n",
    "round(rms(ŷ, y[test])^2, sigdigits = 4)"
   ]
  },
  {
   "cell_type": "markdown",
   "id": "c2bd2123",
   "metadata": {},
   "source": [
    "Let's see:"
   ]
  },
  {
   "cell_type": "code",
   "execution_count": 21,
   "id": "9f779d61",
   "metadata": {},
   "outputs": [
    {
     "data": {
      "image/png": "[encoded data removed]",
      "text/plain": [
       "Figure(PyObject <Figure size 800x600 with 1 Axes>)"
      ]
     },
     "metadata": {},
     "output_type": "display_data"
    }
   ],
   "source": [
    "figure(figsize = (8,6))\n",
    "\n",
    "res = ŷ .- y[test]\n",
    "stem(res)\n",
    "\n",
    "xticks(fontsize = 12); yticks(fontsize = 12)\n",
    "xlabel(\"Index\", fontsize = 14);\n",
    "ylabel(\"Residual (ŷ - y)\", fontsize = 14)\n",
    "xlim(1, length(res))\n",
    "\n",
    "ylim([-1300, 1000])\n",
    "savefig(\"./plots/3.5.5.png\")"
   ]
  },
  {
   "cell_type": "markdown",
   "id": "2d95ac22",
   "metadata": {},
   "source": [
    "You can compare that with the residuals obtained earlier."
   ]
  },
  {
   "cell_type": "markdown",
   "id": "be683670",
   "metadata": {},
   "source": [
    "### Lasso pipeline\n",
    "\n",
    "---"
   ]
  },
  {
   "cell_type": "markdown",
   "id": "ed9c59b2",
   "metadata": {},
   "source": [
    "Let's do the same as above but using a Lasso model and adjusting the range a bit:\n",
    "\n",
    "* **mtm**: Machine trained 1 time\n",
    "\n",
    "* **mtm.model**: Deterministic Tuned Model\n",
    "\n",
    "* **mtm.model.model**: Deterministic Pipeline\n",
    "\n",
    "* **mtm.model.model.linear_regressor**: RidgeRegressor(lambda = 1.0, fit_intercept = true, penalize_intercept = false, scale_penalty_with_samples = true, solver = nothing)"
   ]
  },
  {
   "cell_type": "code",
   "execution_count": 22,
   "id": "8ef1d66e",
   "metadata": {},
   "outputs": [
    {
     "data": {
      "text/plain": [
       "Machine{DeterministicTunedModel{Grid,…},…} trained 1 time; caches data\n",
       "  model: MLJTuning.DeterministicTunedModel{Grid, MLJBase.DeterministicPipeline{NamedTuple{(:standardizer, :one_hot_encoder, :linear_regressor), Tuple{Unsupervised, Unsupervised, Deterministic}}, MLJModelInterface.predict}}\n",
       "  args: \n",
       "    1:\tSource @053 ⏎ `Table{Union{AbstractVector{Continuous}, AbstractVector{Multiclass{2}}}}`\n",
       "    2:\tSource @989 ⏎ `AbstractVector{Continuous}`\n"
      ]
     },
     "execution_count": 22,
     "metadata": {},
     "output_type": "execute_result"
    }
   ],
   "source": [
    "mtm"
   ]
  },
  {
   "cell_type": "code",
   "execution_count": 23,
   "id": "7af37b3e",
   "metadata": {},
   "outputs": [
    {
     "data": {
      "text/plain": [
       "DeterministicTunedModel(\n",
       "    model = DeterministicPipeline(\n",
       "            standardizer = Standardizer,\n",
       "            one_hot_encoder = OneHotEncoder,\n",
       "            linear_regressor = RidgeRegressor,\n",
       "            cache = true),\n",
       "    tuning = Grid(\n",
       "            goal = nothing,\n",
       "            resolution = 50,\n",
       "            shuffle = true,\n",
       "            rng = Random._GLOBAL_RNG()),\n",
       "    resampling = CV(\n",
       "            nfolds = 3,\n",
       "            shuffle = true,\n",
       "            rng = Random.MersenneTwister(4141)),\n",
       "    measure = RootMeanSquaredError(),\n",
       "    weights = nothing,\n",
       "    operation = nothing,\n",
       "    range = NumericRange(0.01 ≤ linear_regressor.lambda ≤ 100000; origin=50000.005, unit=49999.995) on log10 scale,\n",
       "    selection_heuristic = MLJTuning.NaiveSelection(nothing),\n",
       "    train_best = true,\n",
       "    repeats = 1,\n",
       "    n = nothing,\n",
       "    acceleration = CPU1{Nothing}(nothing),\n",
       "    acceleration_resampling = CPU1{Nothing}(nothing),\n",
       "    check_measure = true,\n",
       "    cache = true)"
      ]
     },
     "execution_count": 23,
     "metadata": {},
     "output_type": "execute_result"
    }
   ],
   "source": [
    "mtm.model"
   ]
  },
  {
   "cell_type": "code",
   "execution_count": 24,
   "id": "24f66f07",
   "metadata": {},
   "outputs": [
    {
     "data": {
      "text/plain": [
       "DeterministicPipeline(\n",
       "    standardizer = Standardizer(\n",
       "            features = Symbol[],\n",
       "            ignore = false,\n",
       "            ordered_factor = false,\n",
       "            count = false),\n",
       "    one_hot_encoder = OneHotEncoder(\n",
       "            features = Symbol[],\n",
       "            drop_last = false,\n",
       "            ordered_factor = true,\n",
       "            ignore = false),\n",
       "    linear_regressor = RidgeRegressor(\n",
       "            lambda = 1.0,\n",
       "            fit_intercept = true,\n",
       "            penalize_intercept = false,\n",
       "            scale_penalty_with_samples = true,\n",
       "            solver = nothing),\n",
       "    cache = true)"
      ]
     },
     "execution_count": 24,
     "metadata": {},
     "output_type": "execute_result"
    }
   ],
   "source": [
    "mtm.model.model"
   ]
  },
  {
   "cell_type": "code",
   "execution_count": 25,
   "id": "d1d341c7",
   "metadata": {},
   "outputs": [
    {
     "data": {
      "text/plain": [
       "RidgeRegressor(\n",
       "    lambda = 1.0,\n",
       "    fit_intercept = true,\n",
       "    penalize_intercept = false,\n",
       "    scale_penalty_with_samples = true,\n",
       "    solver = nothing)"
      ]
     },
     "execution_count": 25,
     "metadata": {},
     "output_type": "execute_result"
    }
   ],
   "source": [
    "mtm.model.model.linear_regressor"
   ]
  },
  {
   "cell_type": "code",
   "execution_count": 26,
   "id": "ccb565b6",
   "metadata": {},
   "outputs": [
    {
     "name": "stderr",
     "output_type": "stream",
     "text": [
      "┌ Info: Updating Machine{DeterministicTunedModel{Grid,…},…}.\n",
      "└ @ MLJBase C:\\Users\\jeffr\\.julia\\packages\\MLJBase\\MuLnJ\\src\\machines.jl:465\n",
      "┌ Info: Attempting to evaluate 50 models.\n",
      "└ @ MLJTuning C:\\Users\\jeffr\\.julia\\packages\\MLJTuning\\Al9yX\\src\\tuned_models.jl:680\n",
      "\u001b[33mEvaluating over 50 metamodels: 100%[=========================] Time: 0:00:03\u001b[39m\n"
     ]
    },
    {
     "data": {
      "text/plain": [
       "Machine{DeterministicTunedModel{Grid,…},…} trained 2 times; caches data\n",
       "  model: MLJTuning.DeterministicTunedModel{Grid, MLJBase.DeterministicPipeline{NamedTuple{(:standardizer, :one_hot_encoder, :linear_regressor), Tuple{Unsupervised, Unsupervised, Deterministic}}, MLJModelInterface.predict}}\n",
       "  args: \n",
       "    1:\tSource @053 ⏎ `Table{Union{AbstractVector{Continuous}, AbstractVector{Multiclass{2}}}}`\n",
       "    2:\tSource @989 ⏎ `AbstractVector{Continuous}`\n"
      ]
     },
     "execution_count": 26,
     "metadata": {},
     "output_type": "execute_result"
    }
   ],
   "source": [
    "mtm.model.model.linear_regressor = LassoRegressor()\n",
    "mtm.model.range = range(model, \n",
    "                        :(linear_regressor.lambda),\n",
    "                        lower = 500,\n",
    "                        upper = 100_000,\n",
    "                        scale = :log10)\n",
    "\n",
    "fit!(mtm, rows = train)"
   ]
  },
  {
   "cell_type": "code",
   "execution_count": 27,
   "id": "e87146d5",
   "metadata": {},
   "outputs": [
    {
     "data": {
      "text/plain": [
       "DeterministicPipeline(\n",
       "    standardizer = Standardizer(\n",
       "            features = Symbol[],\n",
       "            ignore = false,\n",
       "            ordered_factor = false,\n",
       "            count = false),\n",
       "    one_hot_encoder = OneHotEncoder(\n",
       "            features = Symbol[],\n",
       "            drop_last = false,\n",
       "            ordered_factor = true,\n",
       "            ignore = false),\n",
       "    linear_regressor = LassoRegressor(\n",
       "            lambda = 2531.4359405220866,\n",
       "            fit_intercept = true,\n",
       "            penalize_intercept = false,\n",
       "            scale_penalty_with_samples = true,\n",
       "            solver = nothing),\n",
       "    cache = true)"
      ]
     },
     "execution_count": 27,
     "metadata": {},
     "output_type": "execute_result"
    }
   ],
   "source": [
    "best_mdl = fitted_params(mtm).best_model # 람다값이 2531.435... 모델 도출 "
   ]
  },
  {
   "cell_type": "code",
   "execution_count": 28,
   "id": "d57686f1",
   "metadata": {},
   "outputs": [
    {
     "data": {
      "text/plain": [
       "2531.0"
      ]
     },
     "execution_count": 28,
     "metadata": {},
     "output_type": "execute_result"
    }
   ],
   "source": [
    "round(best_mdl.linear_regressor.lambda, sigdigits = 4)"
   ]
  },
  {
   "cell_type": "markdown",
   "id": "250c3c27",
   "metadata": {},
   "source": [
    "Ok and let's see how that does:"
   ]
  },
  {
   "cell_type": "code",
   "execution_count": 29,
   "id": "6867cd58",
   "metadata": {},
   "outputs": [
    {
     "data": {
      "text/plain": [
       "98330.0"
      ]
     },
     "execution_count": 29,
     "metadata": {},
     "output_type": "execute_result"
    }
   ],
   "source": [
    "ŷ = MLJ.predict(mtm, rows = test)\n",
    "round(rms(ŷ, y[test])^2 , sigdigits = 4)"
   ]
  },
  {
   "cell_type": "code",
   "execution_count": 30,
   "id": "23e6942c",
   "metadata": {},
   "outputs": [
    {
     "data": {
      "text/plain": [
       "(linear_regressor = (coefs = [:AtBat => -0.0, :Hits => 0.0, :HmRun => -0.0, :Runs => 82.33487884749947, :RBI => 0.0, :Walks => 37.883942482221414, :Years => -0.0, :CAtBat => 0.0, :CHits => 152.33401765158285, :CHmRun => 0.0  …  :CWalks => -0.0, :League__A => -0.0, :League__N => 0.0, :Division__E => 22.92070298764432, :Division__W => -45.330065388849924, :PutOuts => 64.09339067499211, :Assists => 0.0, :Errors => -0.0, :NewLeague__A => -0.0, :NewLeague__N => 0.0],\n",
       "                     intercept = 555.6709756637332,),\n",
       " one_hot_encoder = (fitresult = OneHotEncoderResult,),\n",
       " standardizer = Dict(:CAtBat => (2457.318181818182, 2245.683113459936), :CRBI => (302.54545454545456, 304.26320374760013), :AtBat => (419.6515151515151, 152.79367842167332), :Errors => (8.68939393939394, 7.071210932886076), :Assists => (109.5, 139.8698686375009), :Years => (6.840909090909091, 4.659111643290977), :HmRun => (12.151515151515152, 8.852898648504043), :Walks => (41.07575757575758, 22.16579484822863), :CRuns => (335.6212121212121, 331.43377011718655), :CWalks => (245.86363636363637, 271.815125000509)…),\n",
       " machines = Machine[Machine{Standardizer,…}, Machine{OneHotEncoder,…}, Machine{LassoRegressor,…}],\n",
       " fitted_params_given_machine = OrderedCollections.LittleDict{Any, Any, Vector{Any}, Vector{Any}}(Machine{Standardizer,…} => Dict(:CAtBat => (2457.318181818182, 2245.683113459936), :CRBI => (302.54545454545456, 304.26320374760013), :AtBat => (419.6515151515151, 152.79367842167332), :Errors => (8.68939393939394, 7.071210932886076), :Assists => (109.5, 139.8698686375009), :Years => (6.840909090909091, 4.659111643290977), :HmRun => (12.151515151515152, 8.852898648504043), :Walks => (41.07575757575758, 22.16579484822863), :CRuns => (335.6212121212121, 331.43377011718655), :CWalks => (245.86363636363637, 271.815125000509)…), Machine{OneHotEncoder,…} => (fitresult = OneHotEncoderResult,), Machine{LassoRegressor,…} => (coefs = [:AtBat => -0.0, :Hits => 0.0, :HmRun => -0.0, :Runs => 82.33487884749947, :RBI => 0.0, :Walks => 37.883942482221414, :Years => -0.0, :CAtBat => 0.0, :CHits => 152.33401765158285, :CHmRun => 0.0  …  :CWalks => -0.0, :League__A => -0.0, :League__N => 0.0, :Division__E => 22.92070298764432, :Division__W => -45.330065388849924, :PutOuts => 64.09339067499211, :Assists => 0.0, :Errors => -0.0, :NewLeague__A => -0.0, :NewLeague__N => 0.0], intercept = 555.6709756637332)),)"
      ]
     },
     "execution_count": 30,
     "metadata": {},
     "output_type": "execute_result"
    }
   ],
   "source": [
    "fitted_params(mtm.fitresult)"
   ]
  },
  {
   "cell_type": "code",
   "execution_count": 31,
   "id": "70a7bc22",
   "metadata": {},
   "outputs": [
    {
     "data": {
      "text/plain": [
       "(coefs = [:AtBat => -0.0, :Hits => 0.0, :HmRun => -0.0, :Runs => 82.33487884749947, :RBI => 0.0, :Walks => 37.883942482221414, :Years => -0.0, :CAtBat => 0.0, :CHits => 152.33401765158285, :CHmRun => 0.0  …  :CWalks => -0.0, :League__A => -0.0, :League__N => 0.0, :Division__E => 22.92070298764432, :Division__W => -45.330065388849924, :PutOuts => 64.09339067499211, :Assists => 0.0, :Errors => -0.0, :NewLeague__A => -0.0, :NewLeague__N => 0.0],\n",
       " intercept = 555.6709756637332,)"
      ]
     },
     "execution_count": 31,
     "metadata": {},
     "output_type": "execute_result"
    }
   ],
   "source": [
    "fitted_params(mtm.fitresult).linear_regressor"
   ]
  },
  {
   "cell_type": "markdown",
   "id": "dbc0ac6e",
   "metadata": {},
   "source": [
    "Pretty good! and the parameters are reasonably sparse as expected:"
   ]
  },
  {
   "cell_type": "code",
   "execution_count": 32,
   "id": "ea204d03",
   "metadata": {},
   "outputs": [
    {
     "name": "stdout",
     "output_type": "stream",
     "text": [
      "coefs = [:AtBat => -0.0, :Hits => 0.0, :HmRun => -0.0, :Runs => 82.33487884749947, :RBI => 0.0, :Walks => 37.883942482221414, :Years => -0.0, :CAtBat => 0.0, :CHits => 152.33401765158285, :CHmRun => 0.0, :CRuns => 0.0, :CRBI => 28.535678620242805, :CWalks => -0.0, :League__A => -0.0, :League__N => 0.0, :Division__E => 22.92070298764432, :Division__W => -45.330065388849924, :PutOuts => 64.09339067499211, :Assists => 0.0, :Errors => -0.0, :NewLeague__A => -0.0, :NewLeague__N => 0.0]\n",
      "intercept = 555.6709756637332\n"
     ]
    },
    {
     "data": {
      "text/plain": [
       "555.6709756637332"
      ]
     },
     "execution_count": 32,
     "metadata": {},
     "output_type": "execute_result"
    }
   ],
   "source": [
    "coefs, intercept = fitted_params(mtm.fitresult).linear_regressor\n",
    "@show coefs\n",
    "@show intercept"
   ]
  },
  {
   "cell_type": "code",
   "execution_count": 33,
   "id": "07eff71d",
   "metadata": {},
   "outputs": [
    {
     "name": "stdout",
     "output_type": "stream",
     "text": [
      "AtBat   :  -0.0\n",
      "Hits    :  0.0\n",
      "HmRun   :  -0.0\n",
      "Runs    :  82.3\n",
      "RBI     :  0.0\n",
      "Walks   :  37.9\n",
      "Years   :  -0.0\n",
      "CAtBat  :  0.0\n",
      "CHits   :  152.0\n",
      "CHmRun  :  0.0\n",
      "CRuns   :  0.0\n",
      "CRBI    :  28.5\n",
      "CWalks  :  -0.0\n",
      "League__A:  -0.0\n",
      "League__N:  0.0\n",
      "Division__E:  22.9\n",
      "Division__W:  -45.3\n",
      "PutOuts :  64.1\n",
      "Assists :  0.0\n",
      "Errors  :  -0.0\n",
      "NewLeague__A:  -0.0\n",
      "NewLeague__N:  0.0\n",
      "Intercept: 556.0\n"
     ]
    }
   ],
   "source": [
    "for (name, val) in coefs\n",
    "    println(\"$(rpad(name, 8)):  $(round(val, sigdigits=3))\")\n",
    "end\n",
    "println(\"Intercept: $(round(intercept, sigdigits=3))\")"
   ]
  },
  {
   "cell_type": "markdown",
   "id": "3a74cafb",
   "metadata": {},
   "source": [
    "with around 50% sparsity:"
   ]
  },
  {
   "cell_type": "code",
   "execution_count": 34,
   "id": "29892f80",
   "metadata": {},
   "outputs": [
    {
     "data": {
      "text/plain": [
       "0.6818181818181818"
      ]
     },
     "execution_count": 34,
     "metadata": {},
     "output_type": "execute_result"
    }
   ],
   "source": [
    "coef_vals = [c[2] for c in coefs]\n",
    "sum(coef_vals .≈ 0) / length(coefs)"
   ]
  },
  {
   "cell_type": "markdown",
   "id": "526fa678",
   "metadata": {},
   "source": [
    "Let's visualise this:"
   ]
  },
  {
   "cell_type": "code",
   "execution_count": 35,
   "id": "f7a49a92",
   "metadata": {},
   "outputs": [
    {
     "data": {
      "image/png": "[encoded data removed]",
      "text/plain": [
       "Figure(PyObject <Figure size 800x600 with 1 Axes>)"
      ]
     },
     "metadata": {},
     "output_type": "display_data"
    }
   ],
   "source": [
    "figure(figsize = (8, 6))\n",
    "stem(coef_vals)\n",
    "\n",
    "# name of the feature including one-hot-encoded ones\n",
    "all_names = [:AtBat, :Hits, :HmRun, :Runs, :RBI, :Walks, :Years,\n",
    "             :CAtBat, :CHits, :CHmRun, :CRuns, :CRBI, :CWalks,\n",
    "             :League__A, :League__N, :Div_E, :Div_W,\n",
    "             :PutOuts, :Assists, :Errors, :NewLeague_A, :NewLeague_N]\n",
    "\n",
    "idxshow = collect(1:length(coef_vals))[abs.(coef_vals) .> 10]\n",
    "xticks(fontsize = 12)\n",
    "ylabel(\"Amplitude\", fontsize = 14)\n",
    "savefig(\"./plots/3.5.6.png\")"
   ]
  },
  {
   "cell_type": "markdown",
   "id": "75ce0c17",
   "metadata": {},
   "source": [
    "### Elastic net pipeline\n",
    "\n",
    "---"
   ]
  },
  {
   "cell_type": "code",
   "execution_count": 36,
   "id": "61219101",
   "metadata": {},
   "outputs": [
    {
     "name": "stdout",
     "output_type": "stream",
     "text": [
      "import MLJLinearModels"
     ]
    },
    {
     "name": "stderr",
     "output_type": "stream",
     "text": [
      "┌ Info: For silent loading, specify `verbosity=0`. \n",
      "└ @ Main C:\\Users\\jeffr\\.julia\\packages\\MLJModels\\tMgLW\\src\\loading.jl:168\n"
     ]
    },
    {
     "name": "stdout",
     "output_type": "stream",
     "text": [
      " ✔\n"
     ]
    },
    {
     "name": "stderr",
     "output_type": "stream",
     "text": [
      "┌ Info: Updating Machine{DeterministicTunedModel{Grid,…},…}.\n",
      "└ @ MLJBase C:\\Users\\jeffr\\.julia\\packages\\MLJBase\\MuLnJ\\src\\machines.jl:465\n",
      "┌ Info: Attempting to evaluate 100 models.\n",
      "└ @ MLJTuning C:\\Users\\jeffr\\.julia\\packages\\MLJTuning\\Al9yX\\src\\tuned_models.jl:680\n",
      "┌ Warning: No appropriate stepsize found via backtracking; interrupting. The reason could be input data that is not standardized.\n",
      "└ @ MLJLinearModels C:\\Users\\jeffr\\.julia\\packages\\MLJLinearModels\\oDTrS\\src\\fit\\proxgrad.jl:50\n",
      "┌ Warning: Proximal GD did not converge in 1000 iterations.\n",
      "└ @ MLJLinearModels C:\\Users\\jeffr\\.julia\\packages\\MLJLinearModels\\oDTrS\\src\\fit\\proxgrad.jl:64\n",
      "┌ Warning: No appropriate stepsize found via backtracking; interrupting. The reason could be input data that is not standardized.\n",
      "└ @ MLJLinearModels C:\\Users\\jeffr\\.julia\\packages\\MLJLinearModels\\oDTrS\\src\\fit\\proxgrad.jl:50\n",
      "┌ Warning: Proximal GD did not converge in 1000 iterations.\n",
      "└ @ MLJLinearModels C:\\Users\\jeffr\\.julia\\packages\\MLJLinearModels\\oDTrS\\src\\fit\\proxgrad.jl:64\n",
      "┌ Warning: No appropriate stepsize found via backtracking; interrupting. The reason could be input data that is not standardized.\n",
      "└ @ MLJLinearModels C:\\Users\\jeffr\\.julia\\packages\\MLJLinearModels\\oDTrS\\src\\fit\\proxgrad.jl:50\n",
      "┌ Warning: Proximal GD did not converge in 1000 iterations.\n",
      "└ @ MLJLinearModels C:\\Users\\jeffr\\.julia\\packages\\MLJLinearModels\\oDTrS\\src\\fit\\proxgrad.jl:64\n",
      "┌ Warning: No appropriate stepsize found via backtracking; interrupting. The reason could be input data that is not standardized.\n",
      "└ @ MLJLinearModels C:\\Users\\jeffr\\.julia\\packages\\MLJLinearModels\\oDTrS\\src\\fit\\proxgrad.jl:50\n",
      "┌ Warning: Proximal GD did not converge in 1000 iterations.\n",
      "└ @ MLJLinearModels C:\\Users\\jeffr\\.julia\\packages\\MLJLinearModels\\oDTrS\\src\\fit\\proxgrad.jl:64\n",
      "┌ Warning: No appropriate stepsize found via backtracking; interrupting. The reason could be input data that is not standardized.\n",
      "└ @ MLJLinearModels C:\\Users\\jeffr\\.julia\\packages\\MLJLinearModels\\oDTrS\\src\\fit\\proxgrad.jl:50\n",
      "┌ Warning: Proximal GD did not converge in 1000 iterations.\n",
      "└ @ MLJLinearModels C:\\Users\\jeffr\\.julia\\packages\\MLJLinearModels\\oDTrS\\src\\fit\\proxgrad.jl:64\n",
      "┌ Warning: No appropriate stepsize found via backtracking; interrupting. The reason could be input data that is not standardized.\n",
      "└ @ MLJLinearModels C:\\Users\\jeffr\\.julia\\packages\\MLJLinearModels\\oDTrS\\src\\fit\\proxgrad.jl:50\n",
      "┌ Warning: Proximal GD did not converge in 1000 iterations.\n",
      "└ @ MLJLinearModels C:\\Users\\jeffr\\.julia\\packages\\MLJLinearModels\\oDTrS\\src\\fit\\proxgrad.jl:64\n",
      "\u001b[33mEvaluating over 100 metamodels:   2%[>                        ]  ETA: 0:01:42\u001b[39m┌ Warning: No appropriate stepsize found via backtracking; interrupting. The reason could be input data that is not standardized.\n",
      "└ @ MLJLinearModels C:\\Users\\jeffr\\.julia\\packages\\MLJLinearModels\\oDTrS\\src\\fit\\proxgrad.jl:50\n",
      "┌ Warning: Proximal GD did not converge in 1000 iterations.\n",
      "└ @ MLJLinearModels C:\\Users\\jeffr\\.julia\\packages\\MLJLinearModels\\oDTrS\\src\\fit\\proxgrad.jl:64\n",
      "┌ Warning: No appropriate stepsize found via backtracking; interrupting. The reason could be input data that is not standardized.\n",
      "└ @ MLJLinearModels C:\\Users\\jeffr\\.julia\\packages\\MLJLinearModels\\oDTrS\\src\\fit\\proxgrad.jl:50\n",
      "┌ Warning: Proximal GD did not converge in 1000 iterations.\n",
      "└ @ MLJLinearModels C:\\Users\\jeffr\\.julia\\packages\\MLJLinearModels\\oDTrS\\src\\fit\\proxgrad.jl:64\n",
      "┌ Warning: No appropriate stepsize found via backtracking; interrupting. The reason could be input data that is not standardized.\n",
      "└ @ MLJLinearModels C:\\Users\\jeffr\\.julia\\packages\\MLJLinearModels\\oDTrS\\src\\fit\\proxgrad.jl:50\n",
      "┌ Warning: Proximal GD did not converge in 1000 iterations.\n",
      "└ @ MLJLinearModels C:\\Users\\jeffr\\.julia\\packages\\MLJLinearModels\\oDTrS\\src\\fit\\proxgrad.jl:64\n",
      "\u001b[33mEvaluating over 100 metamodels:   3%[>                        ]  ETA: 0:01:07\u001b[39m┌ Warning: No appropriate stepsize found via backtracking; interrupting. The reason could be input data that is not standardized.\n",
      "└ @ MLJLinearModels C:\\Users\\jeffr\\.julia\\packages\\MLJLinearModels\\oDTrS\\src\\fit\\proxgrad.jl:50\n",
      "┌ Warning: Proximal GD did not converge in 1000 iterations.\n",
      "└ @ MLJLinearModels C:\\Users\\jeffr\\.julia\\packages\\MLJLinearModels\\oDTrS\\src\\fit\\proxgrad.jl:64\n",
      "┌ Warning: No appropriate stepsize found via backtracking; interrupting. The reason could be input data that is not standardized.\n",
      "└ @ MLJLinearModels C:\\Users\\jeffr\\.julia\\packages\\MLJLinearModels\\oDTrS\\src\\fit\\proxgrad.jl:50\n",
      "┌ Warning: Proximal GD did not converge in 1000 iterations.\n",
      "└ @ MLJLinearModels C:\\Users\\jeffr\\.julia\\packages\\MLJLinearModels\\oDTrS\\src\\fit\\proxgrad.jl:64\n",
      "┌ Warning: No appropriate stepsize found via backtracking; interrupting. The reason could be input data that is not standardized.\n",
      "└ @ MLJLinearModels C:\\Users\\jeffr\\.julia\\packages\\MLJLinearModels\\oDTrS\\src\\fit\\proxgrad.jl:50\n",
      "┌ Warning: Proximal GD did not converge in 1000 iterations.\n",
      "└ @ MLJLinearModels C:\\Users\\jeffr\\.julia\\packages\\MLJLinearModels\\oDTrS\\src\\fit\\proxgrad.jl:64\n",
      "\u001b[33mEvaluating over 100 metamodels:   4%[=>                       ]  ETA: 0:00:50\u001b[39m┌ Warning: No appropriate stepsize found via backtracking; interrupting. The reason could be input data that is not standardized.\n",
      "└ @ MLJLinearModels C:\\Users\\jeffr\\.julia\\packages\\MLJLinearModels\\oDTrS\\src\\fit\\proxgrad.jl:50\n",
      "┌ Warning: Proximal GD did not converge in 1000 iterations.\n",
      "└ @ MLJLinearModels C:\\Users\\jeffr\\.julia\\packages\\MLJLinearModels\\oDTrS\\src\\fit\\proxgrad.jl:64\n",
      "┌ Warning: No appropriate stepsize found via backtracking; interrupting. The reason could be input data that is not standardized.\n",
      "└ @ MLJLinearModels C:\\Users\\jeffr\\.julia\\packages\\MLJLinearModels\\oDTrS\\src\\fit\\proxgrad.jl:50\n",
      "┌ Warning: Proximal GD did not converge in 1000 iterations.\n",
      "└ @ MLJLinearModels C:\\Users\\jeffr\\.julia\\packages\\MLJLinearModels\\oDTrS\\src\\fit\\proxgrad.jl:64\n",
      "┌ Warning: No appropriate stepsize found via backtracking; interrupting. The reason could be input data that is not standardized.\n",
      "└ @ MLJLinearModels C:\\Users\\jeffr\\.julia\\packages\\MLJLinearModels\\oDTrS\\src\\fit\\proxgrad.jl:50\n",
      "┌ Warning: Proximal GD did not converge in 1000 iterations.\n",
      "└ @ MLJLinearModels C:\\Users\\jeffr\\.julia\\packages\\MLJLinearModels\\oDTrS\\src\\fit\\proxgrad.jl:64\n",
      "\u001b[33mEvaluating over 100 metamodels:   5%[=>                       ]  ETA: 0:00:40\u001b[39m┌ Warning: No appropriate stepsize found via backtracking; interrupting. The reason could be input data that is not standardized.\n",
      "└ @ MLJLinearModels C:\\Users\\jeffr\\.julia\\packages\\MLJLinearModels\\oDTrS\\src\\fit\\proxgrad.jl:50\n",
      "┌ Warning: Proximal GD did not converge in 1000 iterations.\n",
      "└ @ MLJLinearModels C:\\Users\\jeffr\\.julia\\packages\\MLJLinearModels\\oDTrS\\src\\fit\\proxgrad.jl:64\n",
      "┌ Warning: No appropriate stepsize found via backtracking; interrupting. The reason could be input data that is not standardized.\n",
      "└ @ MLJLinearModels C:\\Users\\jeffr\\.julia\\packages\\MLJLinearModels\\oDTrS\\src\\fit\\proxgrad.jl:50\n",
      "┌ Warning: Proximal GD did not converge in 1000 iterations.\n",
      "└ @ MLJLinearModels C:\\Users\\jeffr\\.julia\\packages\\MLJLinearModels\\oDTrS\\src\\fit\\proxgrad.jl:64\n",
      "┌ Warning: No appropriate stepsize found via backtracking; interrupting. The reason could be input data that is not standardized.\n",
      "└ @ MLJLinearModels C:\\Users\\jeffr\\.julia\\packages\\MLJLinearModels\\oDTrS\\src\\fit\\proxgrad.jl:50\n",
      "┌ Warning: Proximal GD did not converge in 1000 iterations.\n",
      "└ @ MLJLinearModels C:\\Users\\jeffr\\.julia\\packages\\MLJLinearModels\\oDTrS\\src\\fit\\proxgrad.jl:64\n",
      "\u001b[33mEvaluating over 100 metamodels:   6%[=>                       ]  ETA: 0:00:33\u001b[39m┌ Warning: No appropriate stepsize found via backtracking; interrupting. The reason could be input data that is not standardized.\n",
      "└ @ MLJLinearModels C:\\Users\\jeffr\\.julia\\packages\\MLJLinearModels\\oDTrS\\src\\fit\\proxgrad.jl:50\n",
      "┌ Warning: Proximal GD did not converge in 1000 iterations.\n",
      "└ @ MLJLinearModels C:\\Users\\jeffr\\.julia\\packages\\MLJLinearModels\\oDTrS\\src\\fit\\proxgrad.jl:64\n",
      "┌ Warning: No appropriate stepsize found via backtracking; interrupting. The reason could be input data that is not standardized.\n",
      "└ @ MLJLinearModels C:\\Users\\jeffr\\.julia\\packages\\MLJLinearModels\\oDTrS\\src\\fit\\proxgrad.jl:50\n",
      "┌ Warning: Proximal GD did not converge in 1000 iterations.\n",
      "└ @ MLJLinearModels C:\\Users\\jeffr\\.julia\\packages\\MLJLinearModels\\oDTrS\\src\\fit\\proxgrad.jl:64\n",
      "┌ Warning: No appropriate stepsize found via backtracking; interrupting. The reason could be input data that is not standardized.\n",
      "└ @ MLJLinearModels C:\\Users\\jeffr\\.julia\\packages\\MLJLinearModels\\oDTrS\\src\\fit\\proxgrad.jl:50\n",
      "┌ Warning: Proximal GD did not converge in 1000 iterations.\n",
      "└ @ MLJLinearModels C:\\Users\\jeffr\\.julia\\packages\\MLJLinearModels\\oDTrS\\src\\fit\\proxgrad.jl:64\n"
     ]
    },
    {
     "name": "stderr",
     "output_type": "stream",
     "text": [
      "\u001b[33mEvaluating over 100 metamodels:   7%[=>                       ]  ETA: 0:00:28\u001b[39m┌ Warning: No appropriate stepsize found via backtracking; interrupting. The reason could be input data that is not standardized.\n",
      "└ @ MLJLinearModels C:\\Users\\jeffr\\.julia\\packages\\MLJLinearModels\\oDTrS\\src\\fit\\proxgrad.jl:50\n",
      "┌ Warning: Proximal GD did not converge in 1000 iterations.\n",
      "└ @ MLJLinearModels C:\\Users\\jeffr\\.julia\\packages\\MLJLinearModels\\oDTrS\\src\\fit\\proxgrad.jl:64\n",
      "┌ Warning: No appropriate stepsize found via backtracking; interrupting. The reason could be input data that is not standardized.\n",
      "└ @ MLJLinearModels C:\\Users\\jeffr\\.julia\\packages\\MLJLinearModels\\oDTrS\\src\\fit\\proxgrad.jl:50\n",
      "┌ Warning: Proximal GD did not converge in 1000 iterations.\n",
      "└ @ MLJLinearModels C:\\Users\\jeffr\\.julia\\packages\\MLJLinearModels\\oDTrS\\src\\fit\\proxgrad.jl:64\n",
      "┌ Warning: No appropriate stepsize found via backtracking; interrupting. The reason could be input data that is not standardized.\n",
      "└ @ MLJLinearModels C:\\Users\\jeffr\\.julia\\packages\\MLJLinearModels\\oDTrS\\src\\fit\\proxgrad.jl:50\n",
      "┌ Warning: Proximal GD did not converge in 1000 iterations.\n",
      "└ @ MLJLinearModels C:\\Users\\jeffr\\.julia\\packages\\MLJLinearModels\\oDTrS\\src\\fit\\proxgrad.jl:64\n",
      "\u001b[33mEvaluating over 100 metamodels:   8%[==>                      ]  ETA: 0:00:25\u001b[39m┌ Warning: No appropriate stepsize found via backtracking; interrupting. The reason could be input data that is not standardized.\n",
      "└ @ MLJLinearModels C:\\Users\\jeffr\\.julia\\packages\\MLJLinearModels\\oDTrS\\src\\fit\\proxgrad.jl:50\n",
      "┌ Warning: Proximal GD did not converge in 1000 iterations.\n",
      "└ @ MLJLinearModels C:\\Users\\jeffr\\.julia\\packages\\MLJLinearModels\\oDTrS\\src\\fit\\proxgrad.jl:64\n",
      "┌ Warning: No appropriate stepsize found via backtracking; interrupting. The reason could be input data that is not standardized.\n",
      "└ @ MLJLinearModels C:\\Users\\jeffr\\.julia\\packages\\MLJLinearModels\\oDTrS\\src\\fit\\proxgrad.jl:50\n",
      "┌ Warning: Proximal GD did not converge in 1000 iterations.\n",
      "└ @ MLJLinearModels C:\\Users\\jeffr\\.julia\\packages\\MLJLinearModels\\oDTrS\\src\\fit\\proxgrad.jl:64\n",
      "┌ Warning: No appropriate stepsize found via backtracking; interrupting. The reason could be input data that is not standardized.\n",
      "└ @ MLJLinearModels C:\\Users\\jeffr\\.julia\\packages\\MLJLinearModels\\oDTrS\\src\\fit\\proxgrad.jl:50\n",
      "┌ Warning: Proximal GD did not converge in 1000 iterations.\n",
      "└ @ MLJLinearModels C:\\Users\\jeffr\\.julia\\packages\\MLJLinearModels\\oDTrS\\src\\fit\\proxgrad.jl:64\n",
      "\u001b[33mEvaluating over 100 metamodels:   9%[==>                      ]  ETA: 0:00:22\u001b[39m┌ Warning: No appropriate stepsize found via backtracking; interrupting. The reason could be input data that is not standardized.\n",
      "└ @ MLJLinearModels C:\\Users\\jeffr\\.julia\\packages\\MLJLinearModels\\oDTrS\\src\\fit\\proxgrad.jl:50\n",
      "┌ Warning: Proximal GD did not converge in 1000 iterations.\n",
      "└ @ MLJLinearModels C:\\Users\\jeffr\\.julia\\packages\\MLJLinearModels\\oDTrS\\src\\fit\\proxgrad.jl:64\n",
      "┌ Warning: No appropriate stepsize found via backtracking; interrupting. The reason could be input data that is not standardized.\n",
      "└ @ MLJLinearModels C:\\Users\\jeffr\\.julia\\packages\\MLJLinearModels\\oDTrS\\src\\fit\\proxgrad.jl:50\n",
      "┌ Warning: Proximal GD did not converge in 1000 iterations.\n",
      "└ @ MLJLinearModels C:\\Users\\jeffr\\.julia\\packages\\MLJLinearModels\\oDTrS\\src\\fit\\proxgrad.jl:64\n",
      "┌ Warning: No appropriate stepsize found via backtracking; interrupting. The reason could be input data that is not standardized.\n",
      "└ @ MLJLinearModels C:\\Users\\jeffr\\.julia\\packages\\MLJLinearModels\\oDTrS\\src\\fit\\proxgrad.jl:50\n",
      "┌ Warning: Proximal GD did not converge in 1000 iterations.\n",
      "└ @ MLJLinearModels C:\\Users\\jeffr\\.julia\\packages\\MLJLinearModels\\oDTrS\\src\\fit\\proxgrad.jl:64\n",
      "\u001b[33mEvaluating over 100 metamodels:  10%[==>                      ]  ETA: 0:00:19\u001b[39m┌ Warning: No appropriate stepsize found via backtracking; interrupting. The reason could be input data that is not standardized.\n",
      "└ @ MLJLinearModels C:\\Users\\jeffr\\.julia\\packages\\MLJLinearModels\\oDTrS\\src\\fit\\proxgrad.jl:50\n",
      "┌ Warning: Proximal GD did not converge in 1000 iterations.\n",
      "└ @ MLJLinearModels C:\\Users\\jeffr\\.julia\\packages\\MLJLinearModels\\oDTrS\\src\\fit\\proxgrad.jl:64\n",
      "┌ Warning: No appropriate stepsize found via backtracking; interrupting. The reason could be input data that is not standardized.\n",
      "└ @ MLJLinearModels C:\\Users\\jeffr\\.julia\\packages\\MLJLinearModels\\oDTrS\\src\\fit\\proxgrad.jl:50\n",
      "┌ Warning: Proximal GD did not converge in 1000 iterations.\n",
      "└ @ MLJLinearModels C:\\Users\\jeffr\\.julia\\packages\\MLJLinearModels\\oDTrS\\src\\fit\\proxgrad.jl:64\n",
      "┌ Warning: No appropriate stepsize found via backtracking; interrupting. The reason could be input data that is not standardized.\n",
      "└ @ MLJLinearModels C:\\Users\\jeffr\\.julia\\packages\\MLJLinearModels\\oDTrS\\src\\fit\\proxgrad.jl:50\n",
      "┌ Warning: Proximal GD did not converge in 1000 iterations.\n",
      "└ @ MLJLinearModels C:\\Users\\jeffr\\.julia\\packages\\MLJLinearModels\\oDTrS\\src\\fit\\proxgrad.jl:64\n",
      "\u001b[33mEvaluating over 100 metamodels:  11%[==>                      ]  ETA: 0:00:18\u001b[39m┌ Warning: No appropriate stepsize found via backtracking; interrupting. The reason could be input data that is not standardized.\n",
      "└ @ MLJLinearModels C:\\Users\\jeffr\\.julia\\packages\\MLJLinearModels\\oDTrS\\src\\fit\\proxgrad.jl:50\n",
      "┌ Warning: Proximal GD did not converge in 1000 iterations.\n",
      "└ @ MLJLinearModels C:\\Users\\jeffr\\.julia\\packages\\MLJLinearModels\\oDTrS\\src\\fit\\proxgrad.jl:64\n",
      "┌ Warning: No appropriate stepsize found via backtracking; interrupting. The reason could be input data that is not standardized.\n",
      "└ @ MLJLinearModels C:\\Users\\jeffr\\.julia\\packages\\MLJLinearModels\\oDTrS\\src\\fit\\proxgrad.jl:50\n",
      "┌ Warning: Proximal GD did not converge in 1000 iterations.\n",
      "└ @ MLJLinearModels C:\\Users\\jeffr\\.julia\\packages\\MLJLinearModels\\oDTrS\\src\\fit\\proxgrad.jl:64\n",
      "┌ Warning: No appropriate stepsize found via backtracking; interrupting. The reason could be input data that is not standardized.\n",
      "└ @ MLJLinearModels C:\\Users\\jeffr\\.julia\\packages\\MLJLinearModels\\oDTrS\\src\\fit\\proxgrad.jl:50\n",
      "┌ Warning: Proximal GD did not converge in 1000 iterations.\n",
      "└ @ MLJLinearModels C:\\Users\\jeffr\\.julia\\packages\\MLJLinearModels\\oDTrS\\src\\fit\\proxgrad.jl:64\n",
      "\u001b[33mEvaluating over 100 metamodels:  12%[===>                     ]  ETA: 0:00:16\u001b[39m┌ Warning: No appropriate stepsize found via backtracking; interrupting. The reason could be input data that is not standardized.\n",
      "└ @ MLJLinearModels C:\\Users\\jeffr\\.julia\\packages\\MLJLinearModels\\oDTrS\\src\\fit\\proxgrad.jl:50\n",
      "┌ Warning: Proximal GD did not converge in 1000 iterations.\n",
      "└ @ MLJLinearModels C:\\Users\\jeffr\\.julia\\packages\\MLJLinearModels\\oDTrS\\src\\fit\\proxgrad.jl:64\n",
      "┌ Warning: No appropriate stepsize found via backtracking; interrupting. The reason could be input data that is not standardized.\n",
      "└ @ MLJLinearModels C:\\Users\\jeffr\\.julia\\packages\\MLJLinearModels\\oDTrS\\src\\fit\\proxgrad.jl:50\n",
      "┌ Warning: Proximal GD did not converge in 1000 iterations.\n",
      "└ @ MLJLinearModels C:\\Users\\jeffr\\.julia\\packages\\MLJLinearModels\\oDTrS\\src\\fit\\proxgrad.jl:64\n",
      "┌ Warning: No appropriate stepsize found via backtracking; interrupting. The reason could be input data that is not standardized.\n",
      "└ @ MLJLinearModels C:\\Users\\jeffr\\.julia\\packages\\MLJLinearModels\\oDTrS\\src\\fit\\proxgrad.jl:50\n",
      "┌ Warning: Proximal GD did not converge in 1000 iterations.\n",
      "└ @ MLJLinearModels C:\\Users\\jeffr\\.julia\\packages\\MLJLinearModels\\oDTrS\\src\\fit\\proxgrad.jl:64\n",
      "\u001b[33mEvaluating over 100 metamodels:  13%[===>                     ]  ETA: 0:00:15\u001b[39m┌ Warning: No appropriate stepsize found via backtracking; interrupting. The reason could be input data that is not standardized.\n",
      "└ @ MLJLinearModels C:\\Users\\jeffr\\.julia\\packages\\MLJLinearModels\\oDTrS\\src\\fit\\proxgrad.jl:50\n",
      "┌ Warning: Proximal GD did not converge in 1000 iterations.\n",
      "└ @ MLJLinearModels C:\\Users\\jeffr\\.julia\\packages\\MLJLinearModels\\oDTrS\\src\\fit\\proxgrad.jl:64\n",
      "┌ Warning: No appropriate stepsize found via backtracking; interrupting. The reason could be input data that is not standardized.\n",
      "└ @ MLJLinearModels C:\\Users\\jeffr\\.julia\\packages\\MLJLinearModels\\oDTrS\\src\\fit\\proxgrad.jl:50\n",
      "┌ Warning: Proximal GD did not converge in 1000 iterations.\n",
      "└ @ MLJLinearModels C:\\Users\\jeffr\\.julia\\packages\\MLJLinearModels\\oDTrS\\src\\fit\\proxgrad.jl:64\n",
      "┌ Warning: No appropriate stepsize found via backtracking; interrupting. The reason could be input data that is not standardized.\n",
      "└ @ MLJLinearModels C:\\Users\\jeffr\\.julia\\packages\\MLJLinearModels\\oDTrS\\src\\fit\\proxgrad.jl:50\n",
      "┌ Warning: Proximal GD did not converge in 1000 iterations.\n",
      "└ @ MLJLinearModels C:\\Users\\jeffr\\.julia\\packages\\MLJLinearModels\\oDTrS\\src\\fit\\proxgrad.jl:64\n"
     ]
    },
    {
     "name": "stderr",
     "output_type": "stream",
     "text": [
      "\u001b[33mEvaluating over 100 metamodels:  14%[===>                     ]  ETA: 0:00:14\u001b[39m┌ Warning: No appropriate stepsize found via backtracking; interrupting. The reason could be input data that is not standardized.\n",
      "└ @ MLJLinearModels C:\\Users\\jeffr\\.julia\\packages\\MLJLinearModels\\oDTrS\\src\\fit\\proxgrad.jl:50\n",
      "┌ Warning: Proximal GD did not converge in 1000 iterations.\n",
      "└ @ MLJLinearModels C:\\Users\\jeffr\\.julia\\packages\\MLJLinearModels\\oDTrS\\src\\fit\\proxgrad.jl:64\n",
      "┌ Warning: No appropriate stepsize found via backtracking; interrupting. The reason could be input data that is not standardized.\n",
      "└ @ MLJLinearModels C:\\Users\\jeffr\\.julia\\packages\\MLJLinearModels\\oDTrS\\src\\fit\\proxgrad.jl:50\n",
      "┌ Warning: Proximal GD did not converge in 1000 iterations.\n",
      "└ @ MLJLinearModels C:\\Users\\jeffr\\.julia\\packages\\MLJLinearModels\\oDTrS\\src\\fit\\proxgrad.jl:64\n",
      "┌ Warning: No appropriate stepsize found via backtracking; interrupting. The reason could be input data that is not standardized.\n",
      "└ @ MLJLinearModels C:\\Users\\jeffr\\.julia\\packages\\MLJLinearModels\\oDTrS\\src\\fit\\proxgrad.jl:50\n",
      "┌ Warning: Proximal GD did not converge in 1000 iterations.\n",
      "└ @ MLJLinearModels C:\\Users\\jeffr\\.julia\\packages\\MLJLinearModels\\oDTrS\\src\\fit\\proxgrad.jl:64\n",
      "\u001b[33mEvaluating over 100 metamodels:  15%[===>                     ]  ETA: 0:00:13\u001b[39m┌ Warning: No appropriate stepsize found via backtracking; interrupting. The reason could be input data that is not standardized.\n",
      "└ @ MLJLinearModels C:\\Users\\jeffr\\.julia\\packages\\MLJLinearModels\\oDTrS\\src\\fit\\proxgrad.jl:50\n",
      "┌ Warning: Proximal GD did not converge in 1000 iterations.\n",
      "└ @ MLJLinearModels C:\\Users\\jeffr\\.julia\\packages\\MLJLinearModels\\oDTrS\\src\\fit\\proxgrad.jl:64\n",
      "┌ Warning: No appropriate stepsize found via backtracking; interrupting. The reason could be input data that is not standardized.\n",
      "└ @ MLJLinearModels C:\\Users\\jeffr\\.julia\\packages\\MLJLinearModels\\oDTrS\\src\\fit\\proxgrad.jl:50\n",
      "┌ Warning: Proximal GD did not converge in 1000 iterations.\n",
      "└ @ MLJLinearModels C:\\Users\\jeffr\\.julia\\packages\\MLJLinearModels\\oDTrS\\src\\fit\\proxgrad.jl:64\n",
      "┌ Warning: No appropriate stepsize found via backtracking; interrupting. The reason could be input data that is not standardized.\n",
      "└ @ MLJLinearModels C:\\Users\\jeffr\\.julia\\packages\\MLJLinearModels\\oDTrS\\src\\fit\\proxgrad.jl:50\n",
      "┌ Warning: Proximal GD did not converge in 1000 iterations.\n",
      "└ @ MLJLinearModels C:\\Users\\jeffr\\.julia\\packages\\MLJLinearModels\\oDTrS\\src\\fit\\proxgrad.jl:64\n",
      "\u001b[33mEvaluating over 100 metamodels:  16%[====>                    ]  ETA: 0:00:12\u001b[39m┌ Warning: No appropriate stepsize found via backtracking; interrupting. The reason could be input data that is not standardized.\n",
      "└ @ MLJLinearModels C:\\Users\\jeffr\\.julia\\packages\\MLJLinearModels\\oDTrS\\src\\fit\\proxgrad.jl:50\n",
      "┌ Warning: Proximal GD did not converge in 1000 iterations.\n",
      "└ @ MLJLinearModels C:\\Users\\jeffr\\.julia\\packages\\MLJLinearModels\\oDTrS\\src\\fit\\proxgrad.jl:64\n",
      "┌ Warning: No appropriate stepsize found via backtracking; interrupting. The reason could be input data that is not standardized.\n",
      "└ @ MLJLinearModels C:\\Users\\jeffr\\.julia\\packages\\MLJLinearModels\\oDTrS\\src\\fit\\proxgrad.jl:50\n",
      "┌ Warning: Proximal GD did not converge in 1000 iterations.\n",
      "└ @ MLJLinearModels C:\\Users\\jeffr\\.julia\\packages\\MLJLinearModels\\oDTrS\\src\\fit\\proxgrad.jl:64\n",
      "┌ Warning: No appropriate stepsize found via backtracking; interrupting. The reason could be input data that is not standardized.\n",
      "└ @ MLJLinearModels C:\\Users\\jeffr\\.julia\\packages\\MLJLinearModels\\oDTrS\\src\\fit\\proxgrad.jl:50\n",
      "┌ Warning: Proximal GD did not converge in 1000 iterations.\n",
      "└ @ MLJLinearModels C:\\Users\\jeffr\\.julia\\packages\\MLJLinearModels\\oDTrS\\src\\fit\\proxgrad.jl:64\n",
      "\u001b[33mEvaluating over 100 metamodels:  17%[====>                    ]  ETA: 0:00:11\u001b[39m┌ Warning: No appropriate stepsize found via backtracking; interrupting. The reason could be input data that is not standardized.\n",
      "└ @ MLJLinearModels C:\\Users\\jeffr\\.julia\\packages\\MLJLinearModels\\oDTrS\\src\\fit\\proxgrad.jl:50\n",
      "┌ Warning: Proximal GD did not converge in 1000 iterations.\n",
      "└ @ MLJLinearModels C:\\Users\\jeffr\\.julia\\packages\\MLJLinearModels\\oDTrS\\src\\fit\\proxgrad.jl:64\n",
      "┌ Warning: No appropriate stepsize found via backtracking; interrupting. The reason could be input data that is not standardized.\n",
      "└ @ MLJLinearModels C:\\Users\\jeffr\\.julia\\packages\\MLJLinearModels\\oDTrS\\src\\fit\\proxgrad.jl:50\n",
      "┌ Warning: Proximal GD did not converge in 1000 iterations.\n",
      "└ @ MLJLinearModels C:\\Users\\jeffr\\.julia\\packages\\MLJLinearModels\\oDTrS\\src\\fit\\proxgrad.jl:64\n",
      "┌ Warning: No appropriate stepsize found via backtracking; interrupting. The reason could be input data that is not standardized.\n",
      "└ @ MLJLinearModels C:\\Users\\jeffr\\.julia\\packages\\MLJLinearModels\\oDTrS\\src\\fit\\proxgrad.jl:50\n",
      "┌ Warning: Proximal GD did not converge in 1000 iterations.\n",
      "└ @ MLJLinearModels C:\\Users\\jeffr\\.julia\\packages\\MLJLinearModels\\oDTrS\\src\\fit\\proxgrad.jl:64\n",
      "\u001b[33mEvaluating over 100 metamodels:  18%[====>                    ]  ETA: 0:00:10\u001b[39m┌ Warning: No appropriate stepsize found via backtracking; interrupting. The reason could be input data that is not standardized.\n",
      "└ @ MLJLinearModels C:\\Users\\jeffr\\.julia\\packages\\MLJLinearModels\\oDTrS\\src\\fit\\proxgrad.jl:50\n",
      "┌ Warning: Proximal GD did not converge in 1000 iterations.\n",
      "└ @ MLJLinearModels C:\\Users\\jeffr\\.julia\\packages\\MLJLinearModels\\oDTrS\\src\\fit\\proxgrad.jl:64\n",
      "┌ Warning: No appropriate stepsize found via backtracking; interrupting. The reason could be input data that is not standardized.\n",
      "└ @ MLJLinearModels C:\\Users\\jeffr\\.julia\\packages\\MLJLinearModels\\oDTrS\\src\\fit\\proxgrad.jl:50\n",
      "┌ Warning: Proximal GD did not converge in 1000 iterations.\n",
      "└ @ MLJLinearModels C:\\Users\\jeffr\\.julia\\packages\\MLJLinearModels\\oDTrS\\src\\fit\\proxgrad.jl:64\n",
      "┌ Warning: No appropriate stepsize found via backtracking; interrupting. The reason could be input data that is not standardized.\n",
      "└ @ MLJLinearModels C:\\Users\\jeffr\\.julia\\packages\\MLJLinearModels\\oDTrS\\src\\fit\\proxgrad.jl:50\n",
      "┌ Warning: Proximal GD did not converge in 1000 iterations.\n",
      "└ @ MLJLinearModels C:\\Users\\jeffr\\.julia\\packages\\MLJLinearModels\\oDTrS\\src\\fit\\proxgrad.jl:64\n",
      "\u001b[33mEvaluating over 100 metamodels:  19%[====>                    ]  ETA: 0:00:10\u001b[39m┌ Warning: No appropriate stepsize found via backtracking; interrupting. The reason could be input data that is not standardized.\n",
      "└ @ MLJLinearModels C:\\Users\\jeffr\\.julia\\packages\\MLJLinearModels\\oDTrS\\src\\fit\\proxgrad.jl:50\n",
      "┌ Warning: Proximal GD did not converge in 1000 iterations.\n",
      "└ @ MLJLinearModels C:\\Users\\jeffr\\.julia\\packages\\MLJLinearModels\\oDTrS\\src\\fit\\proxgrad.jl:64\n",
      "┌ Warning: No appropriate stepsize found via backtracking; interrupting. The reason could be input data that is not standardized.\n",
      "└ @ MLJLinearModels C:\\Users\\jeffr\\.julia\\packages\\MLJLinearModels\\oDTrS\\src\\fit\\proxgrad.jl:50\n",
      "┌ Warning: Proximal GD did not converge in 1000 iterations.\n",
      "└ @ MLJLinearModels C:\\Users\\jeffr\\.julia\\packages\\MLJLinearModels\\oDTrS\\src\\fit\\proxgrad.jl:64\n",
      "┌ Warning: No appropriate stepsize found via backtracking; interrupting. The reason could be input data that is not standardized.\n",
      "└ @ MLJLinearModels C:\\Users\\jeffr\\.julia\\packages\\MLJLinearModels\\oDTrS\\src\\fit\\proxgrad.jl:50\n",
      "┌ Warning: Proximal GD did not converge in 1000 iterations.\n",
      "└ @ MLJLinearModels C:\\Users\\jeffr\\.julia\\packages\\MLJLinearModels\\oDTrS\\src\\fit\\proxgrad.jl:64\n",
      "\u001b[33mEvaluating over 100 metamodels:  20%[=====>                   ]  ETA: 0:00:09\u001b[39m┌ Warning: No appropriate stepsize found via backtracking; interrupting. The reason could be input data that is not standardized.\n",
      "└ @ MLJLinearModels C:\\Users\\jeffr\\.julia\\packages\\MLJLinearModels\\oDTrS\\src\\fit\\proxgrad.jl:50\n",
      "┌ Warning: Proximal GD did not converge in 1000 iterations.\n",
      "└ @ MLJLinearModels C:\\Users\\jeffr\\.julia\\packages\\MLJLinearModels\\oDTrS\\src\\fit\\proxgrad.jl:64\n",
      "┌ Warning: No appropriate stepsize found via backtracking; interrupting. The reason could be input data that is not standardized.\n",
      "└ @ MLJLinearModels C:\\Users\\jeffr\\.julia\\packages\\MLJLinearModels\\oDTrS\\src\\fit\\proxgrad.jl:50\n",
      "┌ Warning: Proximal GD did not converge in 1000 iterations.\n",
      "└ @ MLJLinearModels C:\\Users\\jeffr\\.julia\\packages\\MLJLinearModels\\oDTrS\\src\\fit\\proxgrad.jl:64\n",
      "┌ Warning: No appropriate stepsize found via backtracking; interrupting. The reason could be input data that is not standardized.\n",
      "└ @ MLJLinearModels C:\\Users\\jeffr\\.julia\\packages\\MLJLinearModels\\oDTrS\\src\\fit\\proxgrad.jl:50\n",
      "┌ Warning: Proximal GD did not converge in 1000 iterations.\n",
      "└ @ MLJLinearModels C:\\Users\\jeffr\\.julia\\packages\\MLJLinearModels\\oDTrS\\src\\fit\\proxgrad.jl:64\n"
     ]
    },
    {
     "name": "stderr",
     "output_type": "stream",
     "text": [
      "\u001b[33mEvaluating over 100 metamodels:  21%[=====>                   ]  ETA: 0:00:09\u001b[39m┌ Warning: No appropriate stepsize found via backtracking; interrupting. The reason could be input data that is not standardized.\n",
      "└ @ MLJLinearModels C:\\Users\\jeffr\\.julia\\packages\\MLJLinearModels\\oDTrS\\src\\fit\\proxgrad.jl:50\n",
      "┌ Warning: Proximal GD did not converge in 1000 iterations.\n",
      "└ @ MLJLinearModels C:\\Users\\jeffr\\.julia\\packages\\MLJLinearModels\\oDTrS\\src\\fit\\proxgrad.jl:64\n",
      "┌ Warning: No appropriate stepsize found via backtracking; interrupting. The reason could be input data that is not standardized.\n",
      "└ @ MLJLinearModels C:\\Users\\jeffr\\.julia\\packages\\MLJLinearModels\\oDTrS\\src\\fit\\proxgrad.jl:50\n",
      "┌ Warning: Proximal GD did not converge in 1000 iterations.\n",
      "└ @ MLJLinearModels C:\\Users\\jeffr\\.julia\\packages\\MLJLinearModels\\oDTrS\\src\\fit\\proxgrad.jl:64\n",
      "┌ Warning: No appropriate stepsize found via backtracking; interrupting. The reason could be input data that is not standardized.\n",
      "└ @ MLJLinearModels C:\\Users\\jeffr\\.julia\\packages\\MLJLinearModels\\oDTrS\\src\\fit\\proxgrad.jl:50\n",
      "┌ Warning: Proximal GD did not converge in 1000 iterations.\n",
      "└ @ MLJLinearModels C:\\Users\\jeffr\\.julia\\packages\\MLJLinearModels\\oDTrS\\src\\fit\\proxgrad.jl:64\n",
      "\u001b[33mEvaluating over 100 metamodels:  22%[=====>                   ]  ETA: 0:00:08\u001b[39m┌ Warning: No appropriate stepsize found via backtracking; interrupting. The reason could be input data that is not standardized.\n",
      "└ @ MLJLinearModels C:\\Users\\jeffr\\.julia\\packages\\MLJLinearModels\\oDTrS\\src\\fit\\proxgrad.jl:50\n",
      "┌ Warning: Proximal GD did not converge in 1000 iterations.\n",
      "└ @ MLJLinearModels C:\\Users\\jeffr\\.julia\\packages\\MLJLinearModels\\oDTrS\\src\\fit\\proxgrad.jl:64\n",
      "┌ Warning: No appropriate stepsize found via backtracking; interrupting. The reason could be input data that is not standardized.\n",
      "└ @ MLJLinearModels C:\\Users\\jeffr\\.julia\\packages\\MLJLinearModels\\oDTrS\\src\\fit\\proxgrad.jl:50\n",
      "┌ Warning: Proximal GD did not converge in 1000 iterations.\n",
      "└ @ MLJLinearModels C:\\Users\\jeffr\\.julia\\packages\\MLJLinearModels\\oDTrS\\src\\fit\\proxgrad.jl:64\n",
      "┌ Warning: No appropriate stepsize found via backtracking; interrupting. The reason could be input data that is not standardized.\n",
      "└ @ MLJLinearModels C:\\Users\\jeffr\\.julia\\packages\\MLJLinearModels\\oDTrS\\src\\fit\\proxgrad.jl:50\n",
      "┌ Warning: Proximal GD did not converge in 1000 iterations.\n",
      "└ @ MLJLinearModels C:\\Users\\jeffr\\.julia\\packages\\MLJLinearModels\\oDTrS\\src\\fit\\proxgrad.jl:64\n",
      "\u001b[33mEvaluating over 100 metamodels:  23%[=====>                   ]  ETA: 0:00:08\u001b[39m┌ Warning: No appropriate stepsize found via backtracking; interrupting. The reason could be input data that is not standardized.\n",
      "└ @ MLJLinearModels C:\\Users\\jeffr\\.julia\\packages\\MLJLinearModels\\oDTrS\\src\\fit\\proxgrad.jl:50\n",
      "┌ Warning: Proximal GD did not converge in 1000 iterations.\n",
      "└ @ MLJLinearModels C:\\Users\\jeffr\\.julia\\packages\\MLJLinearModels\\oDTrS\\src\\fit\\proxgrad.jl:64\n",
      "┌ Warning: No appropriate stepsize found via backtracking; interrupting. The reason could be input data that is not standardized.\n",
      "└ @ MLJLinearModels C:\\Users\\jeffr\\.julia\\packages\\MLJLinearModels\\oDTrS\\src\\fit\\proxgrad.jl:50\n",
      "┌ Warning: Proximal GD did not converge in 1000 iterations.\n",
      "└ @ MLJLinearModels C:\\Users\\jeffr\\.julia\\packages\\MLJLinearModels\\oDTrS\\src\\fit\\proxgrad.jl:64\n",
      "┌ Warning: No appropriate stepsize found via backtracking; interrupting. The reason could be input data that is not standardized.\n",
      "└ @ MLJLinearModels C:\\Users\\jeffr\\.julia\\packages\\MLJLinearModels\\oDTrS\\src\\fit\\proxgrad.jl:50\n",
      "┌ Warning: Proximal GD did not converge in 1000 iterations.\n",
      "└ @ MLJLinearModels C:\\Users\\jeffr\\.julia\\packages\\MLJLinearModels\\oDTrS\\src\\fit\\proxgrad.jl:64\n",
      "\u001b[33mEvaluating over 100 metamodels:  24%[======>                  ]  ETA: 0:00:07\u001b[39m┌ Warning: No appropriate stepsize found via backtracking; interrupting. The reason could be input data that is not standardized.\n",
      "└ @ MLJLinearModels C:\\Users\\jeffr\\.julia\\packages\\MLJLinearModels\\oDTrS\\src\\fit\\proxgrad.jl:50\n",
      "┌ Warning: Proximal GD did not converge in 1000 iterations.\n",
      "└ @ MLJLinearModels C:\\Users\\jeffr\\.julia\\packages\\MLJLinearModels\\oDTrS\\src\\fit\\proxgrad.jl:64\n",
      "┌ Warning: No appropriate stepsize found via backtracking; interrupting. The reason could be input data that is not standardized.\n",
      "└ @ MLJLinearModels C:\\Users\\jeffr\\.julia\\packages\\MLJLinearModels\\oDTrS\\src\\fit\\proxgrad.jl:50\n",
      "┌ Warning: Proximal GD did not converge in 1000 iterations.\n",
      "└ @ MLJLinearModels C:\\Users\\jeffr\\.julia\\packages\\MLJLinearModels\\oDTrS\\src\\fit\\proxgrad.jl:64\n",
      "┌ Warning: No appropriate stepsize found via backtracking; interrupting. The reason could be input data that is not standardized.\n",
      "└ @ MLJLinearModels C:\\Users\\jeffr\\.julia\\packages\\MLJLinearModels\\oDTrS\\src\\fit\\proxgrad.jl:50\n",
      "┌ Warning: Proximal GD did not converge in 1000 iterations.\n",
      "└ @ MLJLinearModels C:\\Users\\jeffr\\.julia\\packages\\MLJLinearModels\\oDTrS\\src\\fit\\proxgrad.jl:64\n",
      "\u001b[33mEvaluating over 100 metamodels:  25%[======>                  ]  ETA: 0:00:07\u001b[39m┌ Warning: No appropriate stepsize found via backtracking; interrupting. The reason could be input data that is not standardized.\n",
      "└ @ MLJLinearModels C:\\Users\\jeffr\\.julia\\packages\\MLJLinearModels\\oDTrS\\src\\fit\\proxgrad.jl:50\n",
      "┌ Warning: Proximal GD did not converge in 1000 iterations.\n",
      "└ @ MLJLinearModels C:\\Users\\jeffr\\.julia\\packages\\MLJLinearModels\\oDTrS\\src\\fit\\proxgrad.jl:64\n",
      "┌ Warning: No appropriate stepsize found via backtracking; interrupting. The reason could be input data that is not standardized.\n",
      "└ @ MLJLinearModels C:\\Users\\jeffr\\.julia\\packages\\MLJLinearModels\\oDTrS\\src\\fit\\proxgrad.jl:50\n",
      "┌ Warning: Proximal GD did not converge in 1000 iterations.\n",
      "└ @ MLJLinearModels C:\\Users\\jeffr\\.julia\\packages\\MLJLinearModels\\oDTrS\\src\\fit\\proxgrad.jl:64\n",
      "┌ Warning: No appropriate stepsize found via backtracking; interrupting. The reason could be input data that is not standardized.\n",
      "└ @ MLJLinearModels C:\\Users\\jeffr\\.julia\\packages\\MLJLinearModels\\oDTrS\\src\\fit\\proxgrad.jl:50\n",
      "┌ Warning: Proximal GD did not converge in 1000 iterations.\n",
      "└ @ MLJLinearModels C:\\Users\\jeffr\\.julia\\packages\\MLJLinearModels\\oDTrS\\src\\fit\\proxgrad.jl:64\n",
      "\u001b[33mEvaluating over 100 metamodels:  26%[======>                  ]  ETA: 0:00:07\u001b[39m┌ Warning: No appropriate stepsize found via backtracking; interrupting. The reason could be input data that is not standardized.\n",
      "└ @ MLJLinearModels C:\\Users\\jeffr\\.julia\\packages\\MLJLinearModels\\oDTrS\\src\\fit\\proxgrad.jl:50\n",
      "┌ Warning: Proximal GD did not converge in 1000 iterations.\n",
      "└ @ MLJLinearModels C:\\Users\\jeffr\\.julia\\packages\\MLJLinearModels\\oDTrS\\src\\fit\\proxgrad.jl:64\n",
      "┌ Warning: No appropriate stepsize found via backtracking; interrupting. The reason could be input data that is not standardized.\n",
      "└ @ MLJLinearModels C:\\Users\\jeffr\\.julia\\packages\\MLJLinearModels\\oDTrS\\src\\fit\\proxgrad.jl:50\n",
      "┌ Warning: Proximal GD did not converge in 1000 iterations.\n",
      "└ @ MLJLinearModels C:\\Users\\jeffr\\.julia\\packages\\MLJLinearModels\\oDTrS\\src\\fit\\proxgrad.jl:64\n",
      "┌ Warning: No appropriate stepsize found via backtracking; interrupting. The reason could be input data that is not standardized.\n",
      "└ @ MLJLinearModels C:\\Users\\jeffr\\.julia\\packages\\MLJLinearModels\\oDTrS\\src\\fit\\proxgrad.jl:50\n",
      "┌ Warning: Proximal GD did not converge in 1000 iterations.\n",
      "└ @ MLJLinearModels C:\\Users\\jeffr\\.julia\\packages\\MLJLinearModels\\oDTrS\\src\\fit\\proxgrad.jl:64\n",
      "\u001b[33mEvaluating over 100 metamodels:  27%[======>                  ]  ETA: 0:00:06\u001b[39m┌ Warning: No appropriate stepsize found via backtracking; interrupting. The reason could be input data that is not standardized.\n",
      "└ @ MLJLinearModels C:\\Users\\jeffr\\.julia\\packages\\MLJLinearModels\\oDTrS\\src\\fit\\proxgrad.jl:50\n",
      "┌ Warning: Proximal GD did not converge in 1000 iterations.\n",
      "└ @ MLJLinearModels C:\\Users\\jeffr\\.julia\\packages\\MLJLinearModels\\oDTrS\\src\\fit\\proxgrad.jl:64\n",
      "┌ Warning: No appropriate stepsize found via backtracking; interrupting. The reason could be input data that is not standardized.\n",
      "└ @ MLJLinearModels C:\\Users\\jeffr\\.julia\\packages\\MLJLinearModels\\oDTrS\\src\\fit\\proxgrad.jl:50\n",
      "┌ Warning: Proximal GD did not converge in 1000 iterations.\n",
      "└ @ MLJLinearModels C:\\Users\\jeffr\\.julia\\packages\\MLJLinearModels\\oDTrS\\src\\fit\\proxgrad.jl:64\n",
      "┌ Warning: No appropriate stepsize found via backtracking; interrupting. The reason could be input data that is not standardized.\n",
      "└ @ MLJLinearModels C:\\Users\\jeffr\\.julia\\packages\\MLJLinearModels\\oDTrS\\src\\fit\\proxgrad.jl:50\n",
      "┌ Warning: Proximal GD did not converge in 1000 iterations.\n",
      "└ @ MLJLinearModels C:\\Users\\jeffr\\.julia\\packages\\MLJLinearModels\\oDTrS\\src\\fit\\proxgrad.jl:64\n"
     ]
    },
    {
     "name": "stderr",
     "output_type": "stream",
     "text": [
      "\u001b[33mEvaluating over 100 metamodels:  28%[=======>                 ]  ETA: 0:00:06\u001b[39m┌ Warning: No appropriate stepsize found via backtracking; interrupting. The reason could be input data that is not standardized.\n",
      "└ @ MLJLinearModels C:\\Users\\jeffr\\.julia\\packages\\MLJLinearModels\\oDTrS\\src\\fit\\proxgrad.jl:50\n",
      "┌ Warning: Proximal GD did not converge in 1000 iterations.\n",
      "└ @ MLJLinearModels C:\\Users\\jeffr\\.julia\\packages\\MLJLinearModels\\oDTrS\\src\\fit\\proxgrad.jl:64\n",
      "┌ Warning: No appropriate stepsize found via backtracking; interrupting. The reason could be input data that is not standardized.\n",
      "└ @ MLJLinearModels C:\\Users\\jeffr\\.julia\\packages\\MLJLinearModels\\oDTrS\\src\\fit\\proxgrad.jl:50\n",
      "┌ Warning: Proximal GD did not converge in 1000 iterations.\n",
      "└ @ MLJLinearModels C:\\Users\\jeffr\\.julia\\packages\\MLJLinearModels\\oDTrS\\src\\fit\\proxgrad.jl:64\n",
      "┌ Warning: No appropriate stepsize found via backtracking; interrupting. The reason could be input data that is not standardized.\n",
      "└ @ MLJLinearModels C:\\Users\\jeffr\\.julia\\packages\\MLJLinearModels\\oDTrS\\src\\fit\\proxgrad.jl:50\n",
      "┌ Warning: Proximal GD did not converge in 1000 iterations.\n",
      "└ @ MLJLinearModels C:\\Users\\jeffr\\.julia\\packages\\MLJLinearModels\\oDTrS\\src\\fit\\proxgrad.jl:64\n",
      "\u001b[33mEvaluating over 100 metamodels:  29%[=======>                 ]  ETA: 0:00:06\u001b[39m┌ Warning: No appropriate stepsize found via backtracking; interrupting. The reason could be input data that is not standardized.\n",
      "└ @ MLJLinearModels C:\\Users\\jeffr\\.julia\\packages\\MLJLinearModels\\oDTrS\\src\\fit\\proxgrad.jl:50\n",
      "┌ Warning: Proximal GD did not converge in 1000 iterations.\n",
      "└ @ MLJLinearModels C:\\Users\\jeffr\\.julia\\packages\\MLJLinearModels\\oDTrS\\src\\fit\\proxgrad.jl:64\n",
      "┌ Warning: No appropriate stepsize found via backtracking; interrupting. The reason could be input data that is not standardized.\n",
      "└ @ MLJLinearModels C:\\Users\\jeffr\\.julia\\packages\\MLJLinearModels\\oDTrS\\src\\fit\\proxgrad.jl:50\n",
      "┌ Warning: Proximal GD did not converge in 1000 iterations.\n",
      "└ @ MLJLinearModels C:\\Users\\jeffr\\.julia\\packages\\MLJLinearModels\\oDTrS\\src\\fit\\proxgrad.jl:64\n",
      "┌ Warning: No appropriate stepsize found via backtracking; interrupting. The reason could be input data that is not standardized.\n",
      "└ @ MLJLinearModels C:\\Users\\jeffr\\.julia\\packages\\MLJLinearModels\\oDTrS\\src\\fit\\proxgrad.jl:50\n",
      "┌ Warning: Proximal GD did not converge in 1000 iterations.\n",
      "└ @ MLJLinearModels C:\\Users\\jeffr\\.julia\\packages\\MLJLinearModels\\oDTrS\\src\\fit\\proxgrad.jl:64\n",
      "\u001b[33mEvaluating over 100 metamodels:  30%[=======>                 ]  ETA: 0:00:05\u001b[39m┌ Warning: No appropriate stepsize found via backtracking; interrupting. The reason could be input data that is not standardized.\n",
      "└ @ MLJLinearModels C:\\Users\\jeffr\\.julia\\packages\\MLJLinearModels\\oDTrS\\src\\fit\\proxgrad.jl:50\n",
      "┌ Warning: Proximal GD did not converge in 1000 iterations.\n",
      "└ @ MLJLinearModels C:\\Users\\jeffr\\.julia\\packages\\MLJLinearModels\\oDTrS\\src\\fit\\proxgrad.jl:64\n",
      "┌ Warning: No appropriate stepsize found via backtracking; interrupting. The reason could be input data that is not standardized.\n",
      "└ @ MLJLinearModels C:\\Users\\jeffr\\.julia\\packages\\MLJLinearModels\\oDTrS\\src\\fit\\proxgrad.jl:50\n",
      "┌ Warning: Proximal GD did not converge in 1000 iterations.\n",
      "└ @ MLJLinearModels C:\\Users\\jeffr\\.julia\\packages\\MLJLinearModels\\oDTrS\\src\\fit\\proxgrad.jl:64\n",
      "┌ Warning: No appropriate stepsize found via backtracking; interrupting. The reason could be input data that is not standardized.\n",
      "└ @ MLJLinearModels C:\\Users\\jeffr\\.julia\\packages\\MLJLinearModels\\oDTrS\\src\\fit\\proxgrad.jl:50\n",
      "┌ Warning: Proximal GD did not converge in 1000 iterations.\n",
      "└ @ MLJLinearModels C:\\Users\\jeffr\\.julia\\packages\\MLJLinearModels\\oDTrS\\src\\fit\\proxgrad.jl:64\n",
      "\u001b[33mEvaluating over 100 metamodels:  31%[=======>                 ]  ETA: 0:00:05\u001b[39m┌ Warning: No appropriate stepsize found via backtracking; interrupting. The reason could be input data that is not standardized.\n",
      "└ @ MLJLinearModels C:\\Users\\jeffr\\.julia\\packages\\MLJLinearModels\\oDTrS\\src\\fit\\proxgrad.jl:50\n",
      "┌ Warning: Proximal GD did not converge in 1000 iterations.\n",
      "└ @ MLJLinearModels C:\\Users\\jeffr\\.julia\\packages\\MLJLinearModels\\oDTrS\\src\\fit\\proxgrad.jl:64\n",
      "┌ Warning: No appropriate stepsize found via backtracking; interrupting. The reason could be input data that is not standardized.\n",
      "└ @ MLJLinearModels C:\\Users\\jeffr\\.julia\\packages\\MLJLinearModels\\oDTrS\\src\\fit\\proxgrad.jl:50\n",
      "┌ Warning: Proximal GD did not converge in 1000 iterations.\n",
      "└ @ MLJLinearModels C:\\Users\\jeffr\\.julia\\packages\\MLJLinearModels\\oDTrS\\src\\fit\\proxgrad.jl:64\n",
      "┌ Warning: No appropriate stepsize found via backtracking; interrupting. The reason could be input data that is not standardized.\n",
      "└ @ MLJLinearModels C:\\Users\\jeffr\\.julia\\packages\\MLJLinearModels\\oDTrS\\src\\fit\\proxgrad.jl:50\n",
      "┌ Warning: Proximal GD did not converge in 1000 iterations.\n",
      "└ @ MLJLinearModels C:\\Users\\jeffr\\.julia\\packages\\MLJLinearModels\\oDTrS\\src\\fit\\proxgrad.jl:64\n",
      "\u001b[33mEvaluating over 100 metamodels:  32%[========>                ]  ETA: 0:00:05\u001b[39m┌ Warning: No appropriate stepsize found via backtracking; interrupting. The reason could be input data that is not standardized.\n",
      "└ @ MLJLinearModels C:\\Users\\jeffr\\.julia\\packages\\MLJLinearModels\\oDTrS\\src\\fit\\proxgrad.jl:50\n",
      "┌ Warning: Proximal GD did not converge in 1000 iterations.\n",
      "└ @ MLJLinearModels C:\\Users\\jeffr\\.julia\\packages\\MLJLinearModels\\oDTrS\\src\\fit\\proxgrad.jl:64\n",
      "┌ Warning: No appropriate stepsize found via backtracking; interrupting. The reason could be input data that is not standardized.\n",
      "└ @ MLJLinearModels C:\\Users\\jeffr\\.julia\\packages\\MLJLinearModels\\oDTrS\\src\\fit\\proxgrad.jl:50\n",
      "┌ Warning: Proximal GD did not converge in 1000 iterations.\n",
      "└ @ MLJLinearModels C:\\Users\\jeffr\\.julia\\packages\\MLJLinearModels\\oDTrS\\src\\fit\\proxgrad.jl:64\n",
      "┌ Warning: No appropriate stepsize found via backtracking; interrupting. The reason could be input data that is not standardized.\n",
      "└ @ MLJLinearModels C:\\Users\\jeffr\\.julia\\packages\\MLJLinearModels\\oDTrS\\src\\fit\\proxgrad.jl:50\n",
      "┌ Warning: Proximal GD did not converge in 1000 iterations.\n",
      "└ @ MLJLinearModels C:\\Users\\jeffr\\.julia\\packages\\MLJLinearModels\\oDTrS\\src\\fit\\proxgrad.jl:64\n",
      "\u001b[33mEvaluating over 100 metamodels:  33%[========>                ]  ETA: 0:00:05\u001b[39m┌ Warning: No appropriate stepsize found via backtracking; interrupting. The reason could be input data that is not standardized.\n",
      "└ @ MLJLinearModels C:\\Users\\jeffr\\.julia\\packages\\MLJLinearModels\\oDTrS\\src\\fit\\proxgrad.jl:50\n",
      "┌ Warning: Proximal GD did not converge in 1000 iterations.\n",
      "└ @ MLJLinearModels C:\\Users\\jeffr\\.julia\\packages\\MLJLinearModels\\oDTrS\\src\\fit\\proxgrad.jl:64\n",
      "┌ Warning: No appropriate stepsize found via backtracking; interrupting. The reason could be input data that is not standardized.\n",
      "└ @ MLJLinearModels C:\\Users\\jeffr\\.julia\\packages\\MLJLinearModels\\oDTrS\\src\\fit\\proxgrad.jl:50\n",
      "┌ Warning: Proximal GD did not converge in 1000 iterations.\n",
      "└ @ MLJLinearModels C:\\Users\\jeffr\\.julia\\packages\\MLJLinearModels\\oDTrS\\src\\fit\\proxgrad.jl:64\n",
      "┌ Warning: No appropriate stepsize found via backtracking; interrupting. The reason could be input data that is not standardized.\n",
      "└ @ MLJLinearModels C:\\Users\\jeffr\\.julia\\packages\\MLJLinearModels\\oDTrS\\src\\fit\\proxgrad.jl:50\n",
      "┌ Warning: Proximal GD did not converge in 1000 iterations.\n",
      "└ @ MLJLinearModels C:\\Users\\jeffr\\.julia\\packages\\MLJLinearModels\\oDTrS\\src\\fit\\proxgrad.jl:64\n",
      "\u001b[33mEvaluating over 100 metamodels:  34%[========>                ]  ETA: 0:00:05\u001b[39m┌ Warning: No appropriate stepsize found via backtracking; interrupting. The reason could be input data that is not standardized.\n",
      "└ @ MLJLinearModels C:\\Users\\jeffr\\.julia\\packages\\MLJLinearModels\\oDTrS\\src\\fit\\proxgrad.jl:50\n",
      "┌ Warning: Proximal GD did not converge in 1000 iterations.\n",
      "└ @ MLJLinearModels C:\\Users\\jeffr\\.julia\\packages\\MLJLinearModels\\oDTrS\\src\\fit\\proxgrad.jl:64\n",
      "┌ Warning: No appropriate stepsize found via backtracking; interrupting. The reason could be input data that is not standardized.\n",
      "└ @ MLJLinearModels C:\\Users\\jeffr\\.julia\\packages\\MLJLinearModels\\oDTrS\\src\\fit\\proxgrad.jl:50\n",
      "┌ Warning: Proximal GD did not converge in 1000 iterations.\n",
      "└ @ MLJLinearModels C:\\Users\\jeffr\\.julia\\packages\\MLJLinearModels\\oDTrS\\src\\fit\\proxgrad.jl:64\n",
      "┌ Warning: No appropriate stepsize found via backtracking; interrupting. The reason could be input data that is not standardized.\n",
      "└ @ MLJLinearModels C:\\Users\\jeffr\\.julia\\packages\\MLJLinearModels\\oDTrS\\src\\fit\\proxgrad.jl:50\n",
      "┌ Warning: Proximal GD did not converge in 1000 iterations.\n",
      "└ @ MLJLinearModels C:\\Users\\jeffr\\.julia\\packages\\MLJLinearModels\\oDTrS\\src\\fit\\proxgrad.jl:64\n"
     ]
    },
    {
     "name": "stderr",
     "output_type": "stream",
     "text": [
      "\u001b[33mEvaluating over 100 metamodels:  35%[========>                ]  ETA: 0:00:04\u001b[39m┌ Warning: No appropriate stepsize found via backtracking; interrupting. The reason could be input data that is not standardized.\n",
      "└ @ MLJLinearModels C:\\Users\\jeffr\\.julia\\packages\\MLJLinearModels\\oDTrS\\src\\fit\\proxgrad.jl:50\n",
      "┌ Warning: Proximal GD did not converge in 1000 iterations.\n",
      "└ @ MLJLinearModels C:\\Users\\jeffr\\.julia\\packages\\MLJLinearModels\\oDTrS\\src\\fit\\proxgrad.jl:64\n",
      "┌ Warning: No appropriate stepsize found via backtracking; interrupting. The reason could be input data that is not standardized.\n",
      "└ @ MLJLinearModels C:\\Users\\jeffr\\.julia\\packages\\MLJLinearModels\\oDTrS\\src\\fit\\proxgrad.jl:50\n",
      "┌ Warning: Proximal GD did not converge in 1000 iterations.\n",
      "└ @ MLJLinearModels C:\\Users\\jeffr\\.julia\\packages\\MLJLinearModels\\oDTrS\\src\\fit\\proxgrad.jl:64\n",
      "┌ Warning: No appropriate stepsize found via backtracking; interrupting. The reason could be input data that is not standardized.\n",
      "└ @ MLJLinearModels C:\\Users\\jeffr\\.julia\\packages\\MLJLinearModels\\oDTrS\\src\\fit\\proxgrad.jl:50\n",
      "┌ Warning: Proximal GD did not converge in 1000 iterations.\n",
      "└ @ MLJLinearModels C:\\Users\\jeffr\\.julia\\packages\\MLJLinearModels\\oDTrS\\src\\fit\\proxgrad.jl:64\n",
      "\u001b[33mEvaluating over 100 metamodels:  36%[=========>               ]  ETA: 0:00:04\u001b[39m┌ Warning: No appropriate stepsize found via backtracking; interrupting. The reason could be input data that is not standardized.\n",
      "└ @ MLJLinearModels C:\\Users\\jeffr\\.julia\\packages\\MLJLinearModels\\oDTrS\\src\\fit\\proxgrad.jl:50\n",
      "┌ Warning: Proximal GD did not converge in 1000 iterations.\n",
      "└ @ MLJLinearModels C:\\Users\\jeffr\\.julia\\packages\\MLJLinearModels\\oDTrS\\src\\fit\\proxgrad.jl:64\n",
      "┌ Warning: No appropriate stepsize found via backtracking; interrupting. The reason could be input data that is not standardized.\n",
      "└ @ MLJLinearModels C:\\Users\\jeffr\\.julia\\packages\\MLJLinearModels\\oDTrS\\src\\fit\\proxgrad.jl:50\n",
      "┌ Warning: Proximal GD did not converge in 1000 iterations.\n",
      "└ @ MLJLinearModels C:\\Users\\jeffr\\.julia\\packages\\MLJLinearModels\\oDTrS\\src\\fit\\proxgrad.jl:64\n",
      "┌ Warning: No appropriate stepsize found via backtracking; interrupting. The reason could be input data that is not standardized.\n",
      "└ @ MLJLinearModels C:\\Users\\jeffr\\.julia\\packages\\MLJLinearModels\\oDTrS\\src\\fit\\proxgrad.jl:50\n",
      "┌ Warning: Proximal GD did not converge in 1000 iterations.\n",
      "└ @ MLJLinearModels C:\\Users\\jeffr\\.julia\\packages\\MLJLinearModels\\oDTrS\\src\\fit\\proxgrad.jl:64\n",
      "\u001b[33mEvaluating over 100 metamodels:  37%[=========>               ]  ETA: 0:00:04\u001b[39m┌ Warning: No appropriate stepsize found via backtracking; interrupting. The reason could be input data that is not standardized.\n",
      "└ @ MLJLinearModels C:\\Users\\jeffr\\.julia\\packages\\MLJLinearModels\\oDTrS\\src\\fit\\proxgrad.jl:50\n",
      "┌ Warning: Proximal GD did not converge in 1000 iterations.\n",
      "└ @ MLJLinearModels C:\\Users\\jeffr\\.julia\\packages\\MLJLinearModels\\oDTrS\\src\\fit\\proxgrad.jl:64\n",
      "┌ Warning: No appropriate stepsize found via backtracking; interrupting. The reason could be input data that is not standardized.\n",
      "└ @ MLJLinearModels C:\\Users\\jeffr\\.julia\\packages\\MLJLinearModels\\oDTrS\\src\\fit\\proxgrad.jl:50\n",
      "┌ Warning: Proximal GD did not converge in 1000 iterations.\n",
      "└ @ MLJLinearModels C:\\Users\\jeffr\\.julia\\packages\\MLJLinearModels\\oDTrS\\src\\fit\\proxgrad.jl:64\n",
      "┌ Warning: No appropriate stepsize found via backtracking; interrupting. The reason could be input data that is not standardized.\n",
      "└ @ MLJLinearModels C:\\Users\\jeffr\\.julia\\packages\\MLJLinearModels\\oDTrS\\src\\fit\\proxgrad.jl:50\n",
      "┌ Warning: Proximal GD did not converge in 1000 iterations.\n",
      "└ @ MLJLinearModels C:\\Users\\jeffr\\.julia\\packages\\MLJLinearModels\\oDTrS\\src\\fit\\proxgrad.jl:64\n",
      "\u001b[33mEvaluating over 100 metamodels:  38%[=========>               ]  ETA: 0:00:04\u001b[39m┌ Warning: No appropriate stepsize found via backtracking; interrupting. The reason could be input data that is not standardized.\n",
      "└ @ MLJLinearModels C:\\Users\\jeffr\\.julia\\packages\\MLJLinearModels\\oDTrS\\src\\fit\\proxgrad.jl:50\n",
      "┌ Warning: Proximal GD did not converge in 1000 iterations.\n",
      "└ @ MLJLinearModels C:\\Users\\jeffr\\.julia\\packages\\MLJLinearModels\\oDTrS\\src\\fit\\proxgrad.jl:64\n",
      "┌ Warning: No appropriate stepsize found via backtracking; interrupting. The reason could be input data that is not standardized.\n",
      "└ @ MLJLinearModels C:\\Users\\jeffr\\.julia\\packages\\MLJLinearModels\\oDTrS\\src\\fit\\proxgrad.jl:50\n",
      "┌ Warning: Proximal GD did not converge in 1000 iterations.\n",
      "└ @ MLJLinearModels C:\\Users\\jeffr\\.julia\\packages\\MLJLinearModels\\oDTrS\\src\\fit\\proxgrad.jl:64\n",
      "┌ Warning: No appropriate stepsize found via backtracking; interrupting. The reason could be input data that is not standardized.\n",
      "└ @ MLJLinearModels C:\\Users\\jeffr\\.julia\\packages\\MLJLinearModels\\oDTrS\\src\\fit\\proxgrad.jl:50\n",
      "┌ Warning: Proximal GD did not converge in 1000 iterations.\n",
      "└ @ MLJLinearModels C:\\Users\\jeffr\\.julia\\packages\\MLJLinearModels\\oDTrS\\src\\fit\\proxgrad.jl:64\n",
      "\u001b[33mEvaluating over 100 metamodels:  39%[=========>               ]  ETA: 0:00:04\u001b[39m┌ Warning: No appropriate stepsize found via backtracking; interrupting. The reason could be input data that is not standardized.\n",
      "└ @ MLJLinearModels C:\\Users\\jeffr\\.julia\\packages\\MLJLinearModels\\oDTrS\\src\\fit\\proxgrad.jl:50\n",
      "┌ Warning: Proximal GD did not converge in 1000 iterations.\n",
      "└ @ MLJLinearModels C:\\Users\\jeffr\\.julia\\packages\\MLJLinearModels\\oDTrS\\src\\fit\\proxgrad.jl:64\n",
      "┌ Warning: No appropriate stepsize found via backtracking; interrupting. The reason could be input data that is not standardized.\n",
      "└ @ MLJLinearModels C:\\Users\\jeffr\\.julia\\packages\\MLJLinearModels\\oDTrS\\src\\fit\\proxgrad.jl:50\n",
      "┌ Warning: Proximal GD did not converge in 1000 iterations.\n",
      "└ @ MLJLinearModels C:\\Users\\jeffr\\.julia\\packages\\MLJLinearModels\\oDTrS\\src\\fit\\proxgrad.jl:64\n",
      "┌ Warning: No appropriate stepsize found via backtracking; interrupting. The reason could be input data that is not standardized.\n",
      "└ @ MLJLinearModels C:\\Users\\jeffr\\.julia\\packages\\MLJLinearModels\\oDTrS\\src\\fit\\proxgrad.jl:50\n",
      "┌ Warning: Proximal GD did not converge in 1000 iterations.\n",
      "└ @ MLJLinearModels C:\\Users\\jeffr\\.julia\\packages\\MLJLinearModels\\oDTrS\\src\\fit\\proxgrad.jl:64\n",
      "\u001b[33mEvaluating over 100 metamodels:  40%[==========>              ]  ETA: 0:00:04\u001b[39m┌ Warning: No appropriate stepsize found via backtracking; interrupting. The reason could be input data that is not standardized.\n",
      "└ @ MLJLinearModels C:\\Users\\jeffr\\.julia\\packages\\MLJLinearModels\\oDTrS\\src\\fit\\proxgrad.jl:50\n",
      "┌ Warning: Proximal GD did not converge in 1000 iterations.\n",
      "└ @ MLJLinearModels C:\\Users\\jeffr\\.julia\\packages\\MLJLinearModels\\oDTrS\\src\\fit\\proxgrad.jl:64\n",
      "┌ Warning: No appropriate stepsize found via backtracking; interrupting. The reason could be input data that is not standardized.\n",
      "└ @ MLJLinearModels C:\\Users\\jeffr\\.julia\\packages\\MLJLinearModels\\oDTrS\\src\\fit\\proxgrad.jl:50\n",
      "┌ Warning: Proximal GD did not converge in 1000 iterations.\n",
      "└ @ MLJLinearModels C:\\Users\\jeffr\\.julia\\packages\\MLJLinearModels\\oDTrS\\src\\fit\\proxgrad.jl:64\n",
      "┌ Warning: No appropriate stepsize found via backtracking; interrupting. The reason could be input data that is not standardized.\n",
      "└ @ MLJLinearModels C:\\Users\\jeffr\\.julia\\packages\\MLJLinearModels\\oDTrS\\src\\fit\\proxgrad.jl:50\n",
      "┌ Warning: Proximal GD did not converge in 1000 iterations.\n",
      "└ @ MLJLinearModels C:\\Users\\jeffr\\.julia\\packages\\MLJLinearModels\\oDTrS\\src\\fit\\proxgrad.jl:64\n",
      "\u001b[33mEvaluating over 100 metamodels:  41%[==========>              ]  ETA: 0:00:04\u001b[39m┌ Warning: No appropriate stepsize found via backtracking; interrupting. The reason could be input data that is not standardized.\n",
      "└ @ MLJLinearModels C:\\Users\\jeffr\\.julia\\packages\\MLJLinearModels\\oDTrS\\src\\fit\\proxgrad.jl:50\n",
      "┌ Warning: Proximal GD did not converge in 1000 iterations.\n",
      "└ @ MLJLinearModels C:\\Users\\jeffr\\.julia\\packages\\MLJLinearModels\\oDTrS\\src\\fit\\proxgrad.jl:64\n",
      "┌ Warning: No appropriate stepsize found via backtracking; interrupting. The reason could be input data that is not standardized.\n",
      "└ @ MLJLinearModels C:\\Users\\jeffr\\.julia\\packages\\MLJLinearModels\\oDTrS\\src\\fit\\proxgrad.jl:50\n",
      "┌ Warning: Proximal GD did not converge in 1000 iterations.\n",
      "└ @ MLJLinearModels C:\\Users\\jeffr\\.julia\\packages\\MLJLinearModels\\oDTrS\\src\\fit\\proxgrad.jl:64\n",
      "┌ Warning: No appropriate stepsize found via backtracking; interrupting. The reason could be input data that is not standardized.\n",
      "└ @ MLJLinearModels C:\\Users\\jeffr\\.julia\\packages\\MLJLinearModels\\oDTrS\\src\\fit\\proxgrad.jl:50\n",
      "┌ Warning: Proximal GD did not converge in 1000 iterations.\n",
      "└ @ MLJLinearModels C:\\Users\\jeffr\\.julia\\packages\\MLJLinearModels\\oDTrS\\src\\fit\\proxgrad.jl:64\n"
     ]
    },
    {
     "name": "stderr",
     "output_type": "stream",
     "text": [
      "\u001b[33mEvaluating over 100 metamodels:  42%[==========>              ]  ETA: 0:00:03\u001b[39m┌ Warning: No appropriate stepsize found via backtracking; interrupting. The reason could be input data that is not standardized.\n",
      "└ @ MLJLinearModels C:\\Users\\jeffr\\.julia\\packages\\MLJLinearModels\\oDTrS\\src\\fit\\proxgrad.jl:50\n",
      "┌ Warning: Proximal GD did not converge in 1000 iterations.\n",
      "└ @ MLJLinearModels C:\\Users\\jeffr\\.julia\\packages\\MLJLinearModels\\oDTrS\\src\\fit\\proxgrad.jl:64\n",
      "┌ Warning: No appropriate stepsize found via backtracking; interrupting. The reason could be input data that is not standardized.\n",
      "└ @ MLJLinearModels C:\\Users\\jeffr\\.julia\\packages\\MLJLinearModels\\oDTrS\\src\\fit\\proxgrad.jl:50\n",
      "┌ Warning: Proximal GD did not converge in 1000 iterations.\n",
      "└ @ MLJLinearModels C:\\Users\\jeffr\\.julia\\packages\\MLJLinearModels\\oDTrS\\src\\fit\\proxgrad.jl:64\n",
      "┌ Warning: No appropriate stepsize found via backtracking; interrupting. The reason could be input data that is not standardized.\n",
      "└ @ MLJLinearModels C:\\Users\\jeffr\\.julia\\packages\\MLJLinearModels\\oDTrS\\src\\fit\\proxgrad.jl:50\n",
      "┌ Warning: Proximal GD did not converge in 1000 iterations.\n",
      "└ @ MLJLinearModels C:\\Users\\jeffr\\.julia\\packages\\MLJLinearModels\\oDTrS\\src\\fit\\proxgrad.jl:64\n",
      "\u001b[33mEvaluating over 100 metamodels:  43%[==========>              ]  ETA: 0:00:03\u001b[39m┌ Warning: No appropriate stepsize found via backtracking; interrupting. The reason could be input data that is not standardized.\n",
      "└ @ MLJLinearModels C:\\Users\\jeffr\\.julia\\packages\\MLJLinearModels\\oDTrS\\src\\fit\\proxgrad.jl:50\n",
      "┌ Warning: Proximal GD did not converge in 1000 iterations.\n",
      "└ @ MLJLinearModels C:\\Users\\jeffr\\.julia\\packages\\MLJLinearModels\\oDTrS\\src\\fit\\proxgrad.jl:64\n",
      "┌ Warning: No appropriate stepsize found via backtracking; interrupting. The reason could be input data that is not standardized.\n",
      "└ @ MLJLinearModels C:\\Users\\jeffr\\.julia\\packages\\MLJLinearModels\\oDTrS\\src\\fit\\proxgrad.jl:50\n",
      "┌ Warning: Proximal GD did not converge in 1000 iterations.\n",
      "└ @ MLJLinearModels C:\\Users\\jeffr\\.julia\\packages\\MLJLinearModels\\oDTrS\\src\\fit\\proxgrad.jl:64\n",
      "┌ Warning: No appropriate stepsize found via backtracking; interrupting. The reason could be input data that is not standardized.\n",
      "└ @ MLJLinearModels C:\\Users\\jeffr\\.julia\\packages\\MLJLinearModels\\oDTrS\\src\\fit\\proxgrad.jl:50\n",
      "┌ Warning: Proximal GD did not converge in 1000 iterations.\n",
      "└ @ MLJLinearModels C:\\Users\\jeffr\\.julia\\packages\\MLJLinearModels\\oDTrS\\src\\fit\\proxgrad.jl:64\n",
      "\u001b[33mEvaluating over 100 metamodels:  44%[===========>             ]  ETA: 0:00:03\u001b[39m┌ Warning: No appropriate stepsize found via backtracking; interrupting. The reason could be input data that is not standardized.\n",
      "└ @ MLJLinearModels C:\\Users\\jeffr\\.julia\\packages\\MLJLinearModels\\oDTrS\\src\\fit\\proxgrad.jl:50\n",
      "┌ Warning: Proximal GD did not converge in 1000 iterations.\n",
      "└ @ MLJLinearModels C:\\Users\\jeffr\\.julia\\packages\\MLJLinearModels\\oDTrS\\src\\fit\\proxgrad.jl:64\n",
      "┌ Warning: No appropriate stepsize found via backtracking; interrupting. The reason could be input data that is not standardized.\n",
      "└ @ MLJLinearModels C:\\Users\\jeffr\\.julia\\packages\\MLJLinearModels\\oDTrS\\src\\fit\\proxgrad.jl:50\n",
      "┌ Warning: Proximal GD did not converge in 1000 iterations.\n",
      "└ @ MLJLinearModels C:\\Users\\jeffr\\.julia\\packages\\MLJLinearModels\\oDTrS\\src\\fit\\proxgrad.jl:64\n",
      "┌ Warning: No appropriate stepsize found via backtracking; interrupting. The reason could be input data that is not standardized.\n",
      "└ @ MLJLinearModels C:\\Users\\jeffr\\.julia\\packages\\MLJLinearModels\\oDTrS\\src\\fit\\proxgrad.jl:50\n",
      "┌ Warning: Proximal GD did not converge in 1000 iterations.\n",
      "└ @ MLJLinearModels C:\\Users\\jeffr\\.julia\\packages\\MLJLinearModels\\oDTrS\\src\\fit\\proxgrad.jl:64\n",
      "\u001b[33mEvaluating over 100 metamodels:  45%[===========>             ]  ETA: 0:00:03\u001b[39m┌ Warning: No appropriate stepsize found via backtracking; interrupting. The reason could be input data that is not standardized.\n",
      "└ @ MLJLinearModels C:\\Users\\jeffr\\.julia\\packages\\MLJLinearModels\\oDTrS\\src\\fit\\proxgrad.jl:50\n",
      "┌ Warning: Proximal GD did not converge in 1000 iterations.\n",
      "└ @ MLJLinearModels C:\\Users\\jeffr\\.julia\\packages\\MLJLinearModels\\oDTrS\\src\\fit\\proxgrad.jl:64\n",
      "┌ Warning: No appropriate stepsize found via backtracking; interrupting. The reason could be input data that is not standardized.\n",
      "└ @ MLJLinearModels C:\\Users\\jeffr\\.julia\\packages\\MLJLinearModels\\oDTrS\\src\\fit\\proxgrad.jl:50\n",
      "┌ Warning: Proximal GD did not converge in 1000 iterations.\n",
      "└ @ MLJLinearModels C:\\Users\\jeffr\\.julia\\packages\\MLJLinearModels\\oDTrS\\src\\fit\\proxgrad.jl:64\n",
      "┌ Warning: No appropriate stepsize found via backtracking; interrupting. The reason could be input data that is not standardized.\n",
      "└ @ MLJLinearModels C:\\Users\\jeffr\\.julia\\packages\\MLJLinearModels\\oDTrS\\src\\fit\\proxgrad.jl:50\n",
      "┌ Warning: Proximal GD did not converge in 1000 iterations.\n",
      "└ @ MLJLinearModels C:\\Users\\jeffr\\.julia\\packages\\MLJLinearModels\\oDTrS\\src\\fit\\proxgrad.jl:64\n",
      "\u001b[33mEvaluating over 100 metamodels:  46%[===========>             ]  ETA: 0:00:03\u001b[39m┌ Warning: No appropriate stepsize found via backtracking; interrupting. The reason could be input data that is not standardized.\n",
      "└ @ MLJLinearModels C:\\Users\\jeffr\\.julia\\packages\\MLJLinearModels\\oDTrS\\src\\fit\\proxgrad.jl:50\n",
      "┌ Warning: Proximal GD did not converge in 1000 iterations.\n",
      "└ @ MLJLinearModels C:\\Users\\jeffr\\.julia\\packages\\MLJLinearModels\\oDTrS\\src\\fit\\proxgrad.jl:64\n",
      "┌ Warning: No appropriate stepsize found via backtracking; interrupting. The reason could be input data that is not standardized.\n",
      "└ @ MLJLinearModels C:\\Users\\jeffr\\.julia\\packages\\MLJLinearModels\\oDTrS\\src\\fit\\proxgrad.jl:50\n",
      "┌ Warning: Proximal GD did not converge in 1000 iterations.\n",
      "└ @ MLJLinearModels C:\\Users\\jeffr\\.julia\\packages\\MLJLinearModels\\oDTrS\\src\\fit\\proxgrad.jl:64\n",
      "┌ Warning: No appropriate stepsize found via backtracking; interrupting. The reason could be input data that is not standardized.\n",
      "└ @ MLJLinearModels C:\\Users\\jeffr\\.julia\\packages\\MLJLinearModels\\oDTrS\\src\\fit\\proxgrad.jl:50\n",
      "┌ Warning: Proximal GD did not converge in 1000 iterations.\n",
      "└ @ MLJLinearModels C:\\Users\\jeffr\\.julia\\packages\\MLJLinearModels\\oDTrS\\src\\fit\\proxgrad.jl:64\n",
      "\u001b[33mEvaluating over 100 metamodels:  47%[===========>             ]  ETA: 0:00:03\u001b[39m┌ Warning: No appropriate stepsize found via backtracking; interrupting. The reason could be input data that is not standardized.\n",
      "└ @ MLJLinearModels C:\\Users\\jeffr\\.julia\\packages\\MLJLinearModels\\oDTrS\\src\\fit\\proxgrad.jl:50\n",
      "┌ Warning: Proximal GD did not converge in 1000 iterations.\n",
      "└ @ MLJLinearModels C:\\Users\\jeffr\\.julia\\packages\\MLJLinearModels\\oDTrS\\src\\fit\\proxgrad.jl:64\n",
      "┌ Warning: No appropriate stepsize found via backtracking; interrupting. The reason could be input data that is not standardized.\n",
      "└ @ MLJLinearModels C:\\Users\\jeffr\\.julia\\packages\\MLJLinearModels\\oDTrS\\src\\fit\\proxgrad.jl:50\n",
      "┌ Warning: Proximal GD did not converge in 1000 iterations.\n",
      "└ @ MLJLinearModels C:\\Users\\jeffr\\.julia\\packages\\MLJLinearModels\\oDTrS\\src\\fit\\proxgrad.jl:64\n",
      "┌ Warning: No appropriate stepsize found via backtracking; interrupting. The reason could be input data that is not standardized.\n",
      "└ @ MLJLinearModels C:\\Users\\jeffr\\.julia\\packages\\MLJLinearModels\\oDTrS\\src\\fit\\proxgrad.jl:50\n",
      "┌ Warning: Proximal GD did not converge in 1000 iterations.\n",
      "└ @ MLJLinearModels C:\\Users\\jeffr\\.julia\\packages\\MLJLinearModels\\oDTrS\\src\\fit\\proxgrad.jl:64\n",
      "\u001b[33mEvaluating over 100 metamodels:  48%[============>            ]  ETA: 0:00:03\u001b[39m┌ Warning: No appropriate stepsize found via backtracking; interrupting. The reason could be input data that is not standardized.\n",
      "└ @ MLJLinearModels C:\\Users\\jeffr\\.julia\\packages\\MLJLinearModels\\oDTrS\\src\\fit\\proxgrad.jl:50\n",
      "┌ Warning: Proximal GD did not converge in 1000 iterations.\n",
      "└ @ MLJLinearModels C:\\Users\\jeffr\\.julia\\packages\\MLJLinearModels\\oDTrS\\src\\fit\\proxgrad.jl:64\n",
      "┌ Warning: No appropriate stepsize found via backtracking; interrupting. The reason could be input data that is not standardized.\n",
      "└ @ MLJLinearModels C:\\Users\\jeffr\\.julia\\packages\\MLJLinearModels\\oDTrS\\src\\fit\\proxgrad.jl:50\n",
      "┌ Warning: Proximal GD did not converge in 1000 iterations.\n",
      "└ @ MLJLinearModels C:\\Users\\jeffr\\.julia\\packages\\MLJLinearModels\\oDTrS\\src\\fit\\proxgrad.jl:64\n",
      "┌ Warning: No appropriate stepsize found via backtracking; interrupting. The reason could be input data that is not standardized.\n",
      "└ @ MLJLinearModels C:\\Users\\jeffr\\.julia\\packages\\MLJLinearModels\\oDTrS\\src\\fit\\proxgrad.jl:50\n",
      "┌ Warning: Proximal GD did not converge in 1000 iterations.\n",
      "└ @ MLJLinearModels C:\\Users\\jeffr\\.julia\\packages\\MLJLinearModels\\oDTrS\\src\\fit\\proxgrad.jl:64\n"
     ]
    },
    {
     "name": "stderr",
     "output_type": "stream",
     "text": [
      "\u001b[33mEvaluating over 100 metamodels:  49%[============>            ]  ETA: 0:00:03\u001b[39m┌ Warning: No appropriate stepsize found via backtracking; interrupting. The reason could be input data that is not standardized.\n",
      "└ @ MLJLinearModels C:\\Users\\jeffr\\.julia\\packages\\MLJLinearModels\\oDTrS\\src\\fit\\proxgrad.jl:50\n",
      "┌ Warning: Proximal GD did not converge in 1000 iterations.\n",
      "└ @ MLJLinearModels C:\\Users\\jeffr\\.julia\\packages\\MLJLinearModels\\oDTrS\\src\\fit\\proxgrad.jl:64\n",
      "┌ Warning: No appropriate stepsize found via backtracking; interrupting. The reason could be input data that is not standardized.\n",
      "└ @ MLJLinearModels C:\\Users\\jeffr\\.julia\\packages\\MLJLinearModels\\oDTrS\\src\\fit\\proxgrad.jl:50\n",
      "┌ Warning: Proximal GD did not converge in 1000 iterations.\n",
      "└ @ MLJLinearModels C:\\Users\\jeffr\\.julia\\packages\\MLJLinearModels\\oDTrS\\src\\fit\\proxgrad.jl:64\n",
      "┌ Warning: No appropriate stepsize found via backtracking; interrupting. The reason could be input data that is not standardized.\n",
      "└ @ MLJLinearModels C:\\Users\\jeffr\\.julia\\packages\\MLJLinearModels\\oDTrS\\src\\fit\\proxgrad.jl:50\n",
      "┌ Warning: Proximal GD did not converge in 1000 iterations.\n",
      "└ @ MLJLinearModels C:\\Users\\jeffr\\.julia\\packages\\MLJLinearModels\\oDTrS\\src\\fit\\proxgrad.jl:64\n",
      "\u001b[33mEvaluating over 100 metamodels:  50%[============>            ]  ETA: 0:00:03\u001b[39m┌ Warning: No appropriate stepsize found via backtracking; interrupting. The reason could be input data that is not standardized.\n",
      "└ @ MLJLinearModels C:\\Users\\jeffr\\.julia\\packages\\MLJLinearModels\\oDTrS\\src\\fit\\proxgrad.jl:50\n",
      "┌ Warning: Proximal GD did not converge in 1000 iterations.\n",
      "└ @ MLJLinearModels C:\\Users\\jeffr\\.julia\\packages\\MLJLinearModels\\oDTrS\\src\\fit\\proxgrad.jl:64\n",
      "┌ Warning: No appropriate stepsize found via backtracking; interrupting. The reason could be input data that is not standardized.\n",
      "└ @ MLJLinearModels C:\\Users\\jeffr\\.julia\\packages\\MLJLinearModels\\oDTrS\\src\\fit\\proxgrad.jl:50\n",
      "┌ Warning: Proximal GD did not converge in 1000 iterations.\n",
      "└ @ MLJLinearModels C:\\Users\\jeffr\\.julia\\packages\\MLJLinearModels\\oDTrS\\src\\fit\\proxgrad.jl:64\n",
      "┌ Warning: No appropriate stepsize found via backtracking; interrupting. The reason could be input data that is not standardized.\n",
      "└ @ MLJLinearModels C:\\Users\\jeffr\\.julia\\packages\\MLJLinearModels\\oDTrS\\src\\fit\\proxgrad.jl:50\n",
      "┌ Warning: Proximal GD did not converge in 1000 iterations.\n",
      "└ @ MLJLinearModels C:\\Users\\jeffr\\.julia\\packages\\MLJLinearModels\\oDTrS\\src\\fit\\proxgrad.jl:64\n",
      "\u001b[33mEvaluating over 100 metamodels:  51%[============>            ]  ETA: 0:00:02\u001b[39m┌ Warning: No appropriate stepsize found via backtracking; interrupting. The reason could be input data that is not standardized.\n",
      "└ @ MLJLinearModels C:\\Users\\jeffr\\.julia\\packages\\MLJLinearModels\\oDTrS\\src\\fit\\proxgrad.jl:50\n",
      "┌ Warning: Proximal GD did not converge in 1000 iterations.\n",
      "└ @ MLJLinearModels C:\\Users\\jeffr\\.julia\\packages\\MLJLinearModels\\oDTrS\\src\\fit\\proxgrad.jl:64\n",
      "┌ Warning: No appropriate stepsize found via backtracking; interrupting. The reason could be input data that is not standardized.\n",
      "└ @ MLJLinearModels C:\\Users\\jeffr\\.julia\\packages\\MLJLinearModels\\oDTrS\\src\\fit\\proxgrad.jl:50\n",
      "┌ Warning: Proximal GD did not converge in 1000 iterations.\n",
      "└ @ MLJLinearModels C:\\Users\\jeffr\\.julia\\packages\\MLJLinearModels\\oDTrS\\src\\fit\\proxgrad.jl:64\n",
      "┌ Warning: No appropriate stepsize found via backtracking; interrupting. The reason could be input data that is not standardized.\n",
      "└ @ MLJLinearModels C:\\Users\\jeffr\\.julia\\packages\\MLJLinearModels\\oDTrS\\src\\fit\\proxgrad.jl:50\n",
      "┌ Warning: Proximal GD did not converge in 1000 iterations.\n",
      "└ @ MLJLinearModels C:\\Users\\jeffr\\.julia\\packages\\MLJLinearModels\\oDTrS\\src\\fit\\proxgrad.jl:64\n",
      "\u001b[33mEvaluating over 100 metamodels:  52%[=============>           ]  ETA: 0:00:02\u001b[39m┌ Warning: No appropriate stepsize found via backtracking; interrupting. The reason could be input data that is not standardized.\n",
      "└ @ MLJLinearModels C:\\Users\\jeffr\\.julia\\packages\\MLJLinearModels\\oDTrS\\src\\fit\\proxgrad.jl:50\n",
      "┌ Warning: Proximal GD did not converge in 1000 iterations.\n",
      "└ @ MLJLinearModels C:\\Users\\jeffr\\.julia\\packages\\MLJLinearModels\\oDTrS\\src\\fit\\proxgrad.jl:64\n",
      "┌ Warning: No appropriate stepsize found via backtracking; interrupting. The reason could be input data that is not standardized.\n",
      "└ @ MLJLinearModels C:\\Users\\jeffr\\.julia\\packages\\MLJLinearModels\\oDTrS\\src\\fit\\proxgrad.jl:50\n",
      "┌ Warning: Proximal GD did not converge in 1000 iterations.\n",
      "└ @ MLJLinearModels C:\\Users\\jeffr\\.julia\\packages\\MLJLinearModels\\oDTrS\\src\\fit\\proxgrad.jl:64\n",
      "┌ Warning: No appropriate stepsize found via backtracking; interrupting. The reason could be input data that is not standardized.\n",
      "└ @ MLJLinearModels C:\\Users\\jeffr\\.julia\\packages\\MLJLinearModels\\oDTrS\\src\\fit\\proxgrad.jl:50\n",
      "┌ Warning: Proximal GD did not converge in 1000 iterations.\n",
      "└ @ MLJLinearModels C:\\Users\\jeffr\\.julia\\packages\\MLJLinearModels\\oDTrS\\src\\fit\\proxgrad.jl:64\n",
      "\u001b[33mEvaluating over 100 metamodels:  53%[=============>           ]  ETA: 0:00:02\u001b[39m┌ Warning: No appropriate stepsize found via backtracking; interrupting. The reason could be input data that is not standardized.\n",
      "└ @ MLJLinearModels C:\\Users\\jeffr\\.julia\\packages\\MLJLinearModels\\oDTrS\\src\\fit\\proxgrad.jl:50\n",
      "┌ Warning: Proximal GD did not converge in 1000 iterations.\n",
      "└ @ MLJLinearModels C:\\Users\\jeffr\\.julia\\packages\\MLJLinearModels\\oDTrS\\src\\fit\\proxgrad.jl:64\n",
      "┌ Warning: No appropriate stepsize found via backtracking; interrupting. The reason could be input data that is not standardized.\n",
      "└ @ MLJLinearModels C:\\Users\\jeffr\\.julia\\packages\\MLJLinearModels\\oDTrS\\src\\fit\\proxgrad.jl:50\n",
      "┌ Warning: Proximal GD did not converge in 1000 iterations.\n",
      "└ @ MLJLinearModels C:\\Users\\jeffr\\.julia\\packages\\MLJLinearModels\\oDTrS\\src\\fit\\proxgrad.jl:64\n",
      "┌ Warning: No appropriate stepsize found via backtracking; interrupting. The reason could be input data that is not standardized.\n",
      "└ @ MLJLinearModels C:\\Users\\jeffr\\.julia\\packages\\MLJLinearModels\\oDTrS\\src\\fit\\proxgrad.jl:50\n",
      "┌ Warning: Proximal GD did not converge in 1000 iterations.\n",
      "└ @ MLJLinearModels C:\\Users\\jeffr\\.julia\\packages\\MLJLinearModels\\oDTrS\\src\\fit\\proxgrad.jl:64\n",
      "\u001b[33mEvaluating over 100 metamodels:  54%[=============>           ]  ETA: 0:00:02\u001b[39m┌ Warning: No appropriate stepsize found via backtracking; interrupting. The reason could be input data that is not standardized.\n",
      "└ @ MLJLinearModels C:\\Users\\jeffr\\.julia\\packages\\MLJLinearModels\\oDTrS\\src\\fit\\proxgrad.jl:50\n",
      "┌ Warning: Proximal GD did not converge in 1000 iterations.\n",
      "└ @ MLJLinearModels C:\\Users\\jeffr\\.julia\\packages\\MLJLinearModels\\oDTrS\\src\\fit\\proxgrad.jl:64\n",
      "┌ Warning: No appropriate stepsize found via backtracking; interrupting. The reason could be input data that is not standardized.\n",
      "└ @ MLJLinearModels C:\\Users\\jeffr\\.julia\\packages\\MLJLinearModels\\oDTrS\\src\\fit\\proxgrad.jl:50\n",
      "┌ Warning: Proximal GD did not converge in 1000 iterations.\n",
      "└ @ MLJLinearModels C:\\Users\\jeffr\\.julia\\packages\\MLJLinearModels\\oDTrS\\src\\fit\\proxgrad.jl:64\n",
      "┌ Warning: No appropriate stepsize found via backtracking; interrupting. The reason could be input data that is not standardized.\n",
      "└ @ MLJLinearModels C:\\Users\\jeffr\\.julia\\packages\\MLJLinearModels\\oDTrS\\src\\fit\\proxgrad.jl:50\n",
      "┌ Warning: Proximal GD did not converge in 1000 iterations.\n",
      "└ @ MLJLinearModels C:\\Users\\jeffr\\.julia\\packages\\MLJLinearModels\\oDTrS\\src\\fit\\proxgrad.jl:64\n",
      "\u001b[33mEvaluating over 100 metamodels:  55%[=============>           ]  ETA: 0:00:02\u001b[39m┌ Warning: No appropriate stepsize found via backtracking; interrupting. The reason could be input data that is not standardized.\n",
      "└ @ MLJLinearModels C:\\Users\\jeffr\\.julia\\packages\\MLJLinearModels\\oDTrS\\src\\fit\\proxgrad.jl:50\n",
      "┌ Warning: Proximal GD did not converge in 1000 iterations.\n",
      "└ @ MLJLinearModels C:\\Users\\jeffr\\.julia\\packages\\MLJLinearModels\\oDTrS\\src\\fit\\proxgrad.jl:64\n",
      "┌ Warning: No appropriate stepsize found via backtracking; interrupting. The reason could be input data that is not standardized.\n",
      "└ @ MLJLinearModels C:\\Users\\jeffr\\.julia\\packages\\MLJLinearModels\\oDTrS\\src\\fit\\proxgrad.jl:50\n",
      "┌ Warning: Proximal GD did not converge in 1000 iterations.\n",
      "└ @ MLJLinearModels C:\\Users\\jeffr\\.julia\\packages\\MLJLinearModels\\oDTrS\\src\\fit\\proxgrad.jl:64\n",
      "┌ Warning: No appropriate stepsize found via backtracking; interrupting. The reason could be input data that is not standardized.\n",
      "└ @ MLJLinearModels C:\\Users\\jeffr\\.julia\\packages\\MLJLinearModels\\oDTrS\\src\\fit\\proxgrad.jl:50\n",
      "┌ Warning: Proximal GD did not converge in 1000 iterations.\n",
      "└ @ MLJLinearModels C:\\Users\\jeffr\\.julia\\packages\\MLJLinearModels\\oDTrS\\src\\fit\\proxgrad.jl:64\n"
     ]
    },
    {
     "name": "stderr",
     "output_type": "stream",
     "text": [
      "\u001b[33mEvaluating over 100 metamodels:  56%[==============>          ]  ETA: 0:00:02\u001b[39m┌ Warning: No appropriate stepsize found via backtracking; interrupting. The reason could be input data that is not standardized.\n",
      "└ @ MLJLinearModels C:\\Users\\jeffr\\.julia\\packages\\MLJLinearModels\\oDTrS\\src\\fit\\proxgrad.jl:50\n",
      "┌ Warning: Proximal GD did not converge in 1000 iterations.\n",
      "└ @ MLJLinearModels C:\\Users\\jeffr\\.julia\\packages\\MLJLinearModels\\oDTrS\\src\\fit\\proxgrad.jl:64\n",
      "┌ Warning: No appropriate stepsize found via backtracking; interrupting. The reason could be input data that is not standardized.\n",
      "└ @ MLJLinearModels C:\\Users\\jeffr\\.julia\\packages\\MLJLinearModels\\oDTrS\\src\\fit\\proxgrad.jl:50\n",
      "┌ Warning: Proximal GD did not converge in 1000 iterations.\n",
      "└ @ MLJLinearModels C:\\Users\\jeffr\\.julia\\packages\\MLJLinearModels\\oDTrS\\src\\fit\\proxgrad.jl:64\n",
      "┌ Warning: No appropriate stepsize found via backtracking; interrupting. The reason could be input data that is not standardized.\n",
      "└ @ MLJLinearModels C:\\Users\\jeffr\\.julia\\packages\\MLJLinearModels\\oDTrS\\src\\fit\\proxgrad.jl:50\n",
      "┌ Warning: Proximal GD did not converge in 1000 iterations.\n",
      "└ @ MLJLinearModels C:\\Users\\jeffr\\.julia\\packages\\MLJLinearModels\\oDTrS\\src\\fit\\proxgrad.jl:64\n",
      "\u001b[33mEvaluating over 100 metamodels:  57%[==============>          ]  ETA: 0:00:02\u001b[39m┌ Warning: No appropriate stepsize found via backtracking; interrupting. The reason could be input data that is not standardized.\n",
      "└ @ MLJLinearModels C:\\Users\\jeffr\\.julia\\packages\\MLJLinearModels\\oDTrS\\src\\fit\\proxgrad.jl:50\n",
      "┌ Warning: Proximal GD did not converge in 1000 iterations.\n",
      "└ @ MLJLinearModels C:\\Users\\jeffr\\.julia\\packages\\MLJLinearModels\\oDTrS\\src\\fit\\proxgrad.jl:64\n",
      "┌ Warning: No appropriate stepsize found via backtracking; interrupting. The reason could be input data that is not standardized.\n",
      "└ @ MLJLinearModels C:\\Users\\jeffr\\.julia\\packages\\MLJLinearModels\\oDTrS\\src\\fit\\proxgrad.jl:50\n",
      "┌ Warning: Proximal GD did not converge in 1000 iterations.\n",
      "└ @ MLJLinearModels C:\\Users\\jeffr\\.julia\\packages\\MLJLinearModels\\oDTrS\\src\\fit\\proxgrad.jl:64\n",
      "┌ Warning: No appropriate stepsize found via backtracking; interrupting. The reason could be input data that is not standardized.\n",
      "└ @ MLJLinearModels C:\\Users\\jeffr\\.julia\\packages\\MLJLinearModels\\oDTrS\\src\\fit\\proxgrad.jl:50\n",
      "┌ Warning: Proximal GD did not converge in 1000 iterations.\n",
      "└ @ MLJLinearModels C:\\Users\\jeffr\\.julia\\packages\\MLJLinearModels\\oDTrS\\src\\fit\\proxgrad.jl:64\n",
      "\u001b[33mEvaluating over 100 metamodels:  58%[==============>          ]  ETA: 0:00:02\u001b[39m┌ Warning: No appropriate stepsize found via backtracking; interrupting. The reason could be input data that is not standardized.\n",
      "└ @ MLJLinearModels C:\\Users\\jeffr\\.julia\\packages\\MLJLinearModels\\oDTrS\\src\\fit\\proxgrad.jl:50\n",
      "┌ Warning: Proximal GD did not converge in 1000 iterations.\n",
      "└ @ MLJLinearModels C:\\Users\\jeffr\\.julia\\packages\\MLJLinearModels\\oDTrS\\src\\fit\\proxgrad.jl:64\n",
      "┌ Warning: No appropriate stepsize found via backtracking; interrupting. The reason could be input data that is not standardized.\n",
      "└ @ MLJLinearModels C:\\Users\\jeffr\\.julia\\packages\\MLJLinearModels\\oDTrS\\src\\fit\\proxgrad.jl:50\n",
      "┌ Warning: Proximal GD did not converge in 1000 iterations.\n",
      "└ @ MLJLinearModels C:\\Users\\jeffr\\.julia\\packages\\MLJLinearModels\\oDTrS\\src\\fit\\proxgrad.jl:64\n",
      "┌ Warning: No appropriate stepsize found via backtracking; interrupting. The reason could be input data that is not standardized.\n",
      "└ @ MLJLinearModels C:\\Users\\jeffr\\.julia\\packages\\MLJLinearModels\\oDTrS\\src\\fit\\proxgrad.jl:50\n",
      "┌ Warning: Proximal GD did not converge in 1000 iterations.\n",
      "└ @ MLJLinearModels C:\\Users\\jeffr\\.julia\\packages\\MLJLinearModels\\oDTrS\\src\\fit\\proxgrad.jl:64\n",
      "\u001b[33mEvaluating over 100 metamodels:  59%[==============>          ]  ETA: 0:00:02\u001b[39m┌ Warning: No appropriate stepsize found via backtracking; interrupting. The reason could be input data that is not standardized.\n",
      "└ @ MLJLinearModels C:\\Users\\jeffr\\.julia\\packages\\MLJLinearModels\\oDTrS\\src\\fit\\proxgrad.jl:50\n",
      "┌ Warning: Proximal GD did not converge in 1000 iterations.\n",
      "└ @ MLJLinearModels C:\\Users\\jeffr\\.julia\\packages\\MLJLinearModels\\oDTrS\\src\\fit\\proxgrad.jl:64\n",
      "┌ Warning: No appropriate stepsize found via backtracking; interrupting. The reason could be input data that is not standardized.\n",
      "└ @ MLJLinearModels C:\\Users\\jeffr\\.julia\\packages\\MLJLinearModels\\oDTrS\\src\\fit\\proxgrad.jl:50\n",
      "┌ Warning: Proximal GD did not converge in 1000 iterations.\n",
      "└ @ MLJLinearModels C:\\Users\\jeffr\\.julia\\packages\\MLJLinearModels\\oDTrS\\src\\fit\\proxgrad.jl:64\n",
      "┌ Warning: No appropriate stepsize found via backtracking; interrupting. The reason could be input data that is not standardized.\n",
      "└ @ MLJLinearModels C:\\Users\\jeffr\\.julia\\packages\\MLJLinearModels\\oDTrS\\src\\fit\\proxgrad.jl:50\n",
      "┌ Warning: Proximal GD did not converge in 1000 iterations.\n",
      "└ @ MLJLinearModels C:\\Users\\jeffr\\.julia\\packages\\MLJLinearModels\\oDTrS\\src\\fit\\proxgrad.jl:64\n",
      "\u001b[33mEvaluating over 100 metamodels:  60%[===============>         ]  ETA: 0:00:02\u001b[39m┌ Warning: No appropriate stepsize found via backtracking; interrupting. The reason could be input data that is not standardized.\n",
      "└ @ MLJLinearModels C:\\Users\\jeffr\\.julia\\packages\\MLJLinearModels\\oDTrS\\src\\fit\\proxgrad.jl:50\n",
      "┌ Warning: Proximal GD did not converge in 1000 iterations.\n",
      "└ @ MLJLinearModels C:\\Users\\jeffr\\.julia\\packages\\MLJLinearModels\\oDTrS\\src\\fit\\proxgrad.jl:64\n",
      "┌ Warning: No appropriate stepsize found via backtracking; interrupting. The reason could be input data that is not standardized.\n",
      "└ @ MLJLinearModels C:\\Users\\jeffr\\.julia\\packages\\MLJLinearModels\\oDTrS\\src\\fit\\proxgrad.jl:50\n",
      "┌ Warning: Proximal GD did not converge in 1000 iterations.\n",
      "└ @ MLJLinearModels C:\\Users\\jeffr\\.julia\\packages\\MLJLinearModels\\oDTrS\\src\\fit\\proxgrad.jl:64\n",
      "┌ Warning: No appropriate stepsize found via backtracking; interrupting. The reason could be input data that is not standardized.\n",
      "└ @ MLJLinearModels C:\\Users\\jeffr\\.julia\\packages\\MLJLinearModels\\oDTrS\\src\\fit\\proxgrad.jl:50\n",
      "┌ Warning: Proximal GD did not converge in 1000 iterations.\n",
      "└ @ MLJLinearModels C:\\Users\\jeffr\\.julia\\packages\\MLJLinearModels\\oDTrS\\src\\fit\\proxgrad.jl:64\n",
      "\u001b[33mEvaluating over 100 metamodels:  61%[===============>         ]  ETA: 0:00:02\u001b[39m┌ Warning: No appropriate stepsize found via backtracking; interrupting. The reason could be input data that is not standardized.\n",
      "└ @ MLJLinearModels C:\\Users\\jeffr\\.julia\\packages\\MLJLinearModels\\oDTrS\\src\\fit\\proxgrad.jl:50\n",
      "┌ Warning: Proximal GD did not converge in 1000 iterations.\n",
      "└ @ MLJLinearModels C:\\Users\\jeffr\\.julia\\packages\\MLJLinearModels\\oDTrS\\src\\fit\\proxgrad.jl:64\n",
      "┌ Warning: No appropriate stepsize found via backtracking; interrupting. The reason could be input data that is not standardized.\n",
      "└ @ MLJLinearModels C:\\Users\\jeffr\\.julia\\packages\\MLJLinearModels\\oDTrS\\src\\fit\\proxgrad.jl:50\n",
      "┌ Warning: Proximal GD did not converge in 1000 iterations.\n",
      "└ @ MLJLinearModels C:\\Users\\jeffr\\.julia\\packages\\MLJLinearModels\\oDTrS\\src\\fit\\proxgrad.jl:64\n",
      "┌ Warning: No appropriate stepsize found via backtracking; interrupting. The reason could be input data that is not standardized.\n",
      "└ @ MLJLinearModels C:\\Users\\jeffr\\.julia\\packages\\MLJLinearModels\\oDTrS\\src\\fit\\proxgrad.jl:50\n",
      "┌ Warning: Proximal GD did not converge in 1000 iterations.\n",
      "└ @ MLJLinearModels C:\\Users\\jeffr\\.julia\\packages\\MLJLinearModels\\oDTrS\\src\\fit\\proxgrad.jl:64\n",
      "\u001b[33mEvaluating over 100 metamodels:  62%[===============>         ]  ETA: 0:00:02\u001b[39m┌ Warning: No appropriate stepsize found via backtracking; interrupting. The reason could be input data that is not standardized.\n",
      "└ @ MLJLinearModels C:\\Users\\jeffr\\.julia\\packages\\MLJLinearModels\\oDTrS\\src\\fit\\proxgrad.jl:50\n",
      "┌ Warning: Proximal GD did not converge in 1000 iterations.\n",
      "└ @ MLJLinearModels C:\\Users\\jeffr\\.julia\\packages\\MLJLinearModels\\oDTrS\\src\\fit\\proxgrad.jl:64\n",
      "┌ Warning: No appropriate stepsize found via backtracking; interrupting. The reason could be input data that is not standardized.\n",
      "└ @ MLJLinearModels C:\\Users\\jeffr\\.julia\\packages\\MLJLinearModels\\oDTrS\\src\\fit\\proxgrad.jl:50\n",
      "┌ Warning: Proximal GD did not converge in 1000 iterations.\n",
      "└ @ MLJLinearModels C:\\Users\\jeffr\\.julia\\packages\\MLJLinearModels\\oDTrS\\src\\fit\\proxgrad.jl:64\n",
      "┌ Warning: No appropriate stepsize found via backtracking; interrupting. The reason could be input data that is not standardized.\n",
      "└ @ MLJLinearModels C:\\Users\\jeffr\\.julia\\packages\\MLJLinearModels\\oDTrS\\src\\fit\\proxgrad.jl:50\n",
      "┌ Warning: Proximal GD did not converge in 1000 iterations.\n",
      "└ @ MLJLinearModels C:\\Users\\jeffr\\.julia\\packages\\MLJLinearModels\\oDTrS\\src\\fit\\proxgrad.jl:64\n"
     ]
    },
    {
     "name": "stderr",
     "output_type": "stream",
     "text": [
      "\u001b[33mEvaluating over 100 metamodels:  63%[===============>         ]  ETA: 0:00:02\u001b[39m┌ Warning: No appropriate stepsize found via backtracking; interrupting. The reason could be input data that is not standardized.\n",
      "└ @ MLJLinearModels C:\\Users\\jeffr\\.julia\\packages\\MLJLinearModels\\oDTrS\\src\\fit\\proxgrad.jl:50\n",
      "┌ Warning: Proximal GD did not converge in 1000 iterations.\n",
      "└ @ MLJLinearModels C:\\Users\\jeffr\\.julia\\packages\\MLJLinearModels\\oDTrS\\src\\fit\\proxgrad.jl:64\n",
      "┌ Warning: No appropriate stepsize found via backtracking; interrupting. The reason could be input data that is not standardized.\n",
      "└ @ MLJLinearModels C:\\Users\\jeffr\\.julia\\packages\\MLJLinearModels\\oDTrS\\src\\fit\\proxgrad.jl:50\n",
      "┌ Warning: Proximal GD did not converge in 1000 iterations.\n",
      "└ @ MLJLinearModels C:\\Users\\jeffr\\.julia\\packages\\MLJLinearModels\\oDTrS\\src\\fit\\proxgrad.jl:64\n",
      "┌ Warning: No appropriate stepsize found via backtracking; interrupting. The reason could be input data that is not standardized.\n",
      "└ @ MLJLinearModels C:\\Users\\jeffr\\.julia\\packages\\MLJLinearModels\\oDTrS\\src\\fit\\proxgrad.jl:50\n",
      "┌ Warning: Proximal GD did not converge in 1000 iterations.\n",
      "└ @ MLJLinearModels C:\\Users\\jeffr\\.julia\\packages\\MLJLinearModels\\oDTrS\\src\\fit\\proxgrad.jl:64\n",
      "\u001b[33mEvaluating over 100 metamodels:  64%[================>        ]  ETA: 0:00:01\u001b[39m┌ Warning: No appropriate stepsize found via backtracking; interrupting. The reason could be input data that is not standardized.\n",
      "└ @ MLJLinearModels C:\\Users\\jeffr\\.julia\\packages\\MLJLinearModels\\oDTrS\\src\\fit\\proxgrad.jl:50\n",
      "┌ Warning: Proximal GD did not converge in 1000 iterations.\n",
      "└ @ MLJLinearModels C:\\Users\\jeffr\\.julia\\packages\\MLJLinearModels\\oDTrS\\src\\fit\\proxgrad.jl:64\n",
      "┌ Warning: No appropriate stepsize found via backtracking; interrupting. The reason could be input data that is not standardized.\n",
      "└ @ MLJLinearModels C:\\Users\\jeffr\\.julia\\packages\\MLJLinearModels\\oDTrS\\src\\fit\\proxgrad.jl:50\n",
      "┌ Warning: Proximal GD did not converge in 1000 iterations.\n",
      "└ @ MLJLinearModels C:\\Users\\jeffr\\.julia\\packages\\MLJLinearModels\\oDTrS\\src\\fit\\proxgrad.jl:64\n",
      "┌ Warning: No appropriate stepsize found via backtracking; interrupting. The reason could be input data that is not standardized.\n",
      "└ @ MLJLinearModels C:\\Users\\jeffr\\.julia\\packages\\MLJLinearModels\\oDTrS\\src\\fit\\proxgrad.jl:50\n",
      "┌ Warning: Proximal GD did not converge in 1000 iterations.\n",
      "└ @ MLJLinearModels C:\\Users\\jeffr\\.julia\\packages\\MLJLinearModels\\oDTrS\\src\\fit\\proxgrad.jl:64\n",
      "\u001b[33mEvaluating over 100 metamodels:  65%[================>        ]  ETA: 0:00:01\u001b[39m┌ Warning: No appropriate stepsize found via backtracking; interrupting. The reason could be input data that is not standardized.\n",
      "└ @ MLJLinearModels C:\\Users\\jeffr\\.julia\\packages\\MLJLinearModels\\oDTrS\\src\\fit\\proxgrad.jl:50\n",
      "┌ Warning: Proximal GD did not converge in 1000 iterations.\n",
      "└ @ MLJLinearModels C:\\Users\\jeffr\\.julia\\packages\\MLJLinearModels\\oDTrS\\src\\fit\\proxgrad.jl:64\n",
      "┌ Warning: No appropriate stepsize found via backtracking; interrupting. The reason could be input data that is not standardized.\n",
      "└ @ MLJLinearModels C:\\Users\\jeffr\\.julia\\packages\\MLJLinearModels\\oDTrS\\src\\fit\\proxgrad.jl:50\n",
      "┌ Warning: Proximal GD did not converge in 1000 iterations.\n",
      "└ @ MLJLinearModels C:\\Users\\jeffr\\.julia\\packages\\MLJLinearModels\\oDTrS\\src\\fit\\proxgrad.jl:64\n",
      "┌ Warning: No appropriate stepsize found via backtracking; interrupting. The reason could be input data that is not standardized.\n",
      "└ @ MLJLinearModels C:\\Users\\jeffr\\.julia\\packages\\MLJLinearModels\\oDTrS\\src\\fit\\proxgrad.jl:50\n",
      "┌ Warning: Proximal GD did not converge in 1000 iterations.\n",
      "└ @ MLJLinearModels C:\\Users\\jeffr\\.julia\\packages\\MLJLinearModels\\oDTrS\\src\\fit\\proxgrad.jl:64\n",
      "\u001b[33mEvaluating over 100 metamodels:  66%[================>        ]  ETA: 0:00:01\u001b[39m┌ Warning: No appropriate stepsize found via backtracking; interrupting. The reason could be input data that is not standardized.\n",
      "└ @ MLJLinearModels C:\\Users\\jeffr\\.julia\\packages\\MLJLinearModels\\oDTrS\\src\\fit\\proxgrad.jl:50\n",
      "┌ Warning: Proximal GD did not converge in 1000 iterations.\n",
      "└ @ MLJLinearModels C:\\Users\\jeffr\\.julia\\packages\\MLJLinearModels\\oDTrS\\src\\fit\\proxgrad.jl:64\n",
      "┌ Warning: No appropriate stepsize found via backtracking; interrupting. The reason could be input data that is not standardized.\n",
      "└ @ MLJLinearModels C:\\Users\\jeffr\\.julia\\packages\\MLJLinearModels\\oDTrS\\src\\fit\\proxgrad.jl:50\n",
      "┌ Warning: Proximal GD did not converge in 1000 iterations.\n",
      "└ @ MLJLinearModels C:\\Users\\jeffr\\.julia\\packages\\MLJLinearModels\\oDTrS\\src\\fit\\proxgrad.jl:64\n",
      "┌ Warning: No appropriate stepsize found via backtracking; interrupting. The reason could be input data that is not standardized.\n",
      "└ @ MLJLinearModels C:\\Users\\jeffr\\.julia\\packages\\MLJLinearModels\\oDTrS\\src\\fit\\proxgrad.jl:50\n",
      "┌ Warning: Proximal GD did not converge in 1000 iterations.\n",
      "└ @ MLJLinearModels C:\\Users\\jeffr\\.julia\\packages\\MLJLinearModels\\oDTrS\\src\\fit\\proxgrad.jl:64\n",
      "\u001b[33mEvaluating over 100 metamodels:  67%[================>        ]  ETA: 0:00:01\u001b[39m┌ Warning: No appropriate stepsize found via backtracking; interrupting. The reason could be input data that is not standardized.\n",
      "└ @ MLJLinearModels C:\\Users\\jeffr\\.julia\\packages\\MLJLinearModels\\oDTrS\\src\\fit\\proxgrad.jl:50\n",
      "┌ Warning: Proximal GD did not converge in 1000 iterations.\n",
      "└ @ MLJLinearModels C:\\Users\\jeffr\\.julia\\packages\\MLJLinearModels\\oDTrS\\src\\fit\\proxgrad.jl:64\n",
      "┌ Warning: No appropriate stepsize found via backtracking; interrupting. The reason could be input data that is not standardized.\n",
      "└ @ MLJLinearModels C:\\Users\\jeffr\\.julia\\packages\\MLJLinearModels\\oDTrS\\src\\fit\\proxgrad.jl:50\n",
      "┌ Warning: Proximal GD did not converge in 1000 iterations.\n",
      "└ @ MLJLinearModels C:\\Users\\jeffr\\.julia\\packages\\MLJLinearModels\\oDTrS\\src\\fit\\proxgrad.jl:64\n",
      "┌ Warning: No appropriate stepsize found via backtracking; interrupting. The reason could be input data that is not standardized.\n",
      "└ @ MLJLinearModels C:\\Users\\jeffr\\.julia\\packages\\MLJLinearModels\\oDTrS\\src\\fit\\proxgrad.jl:50\n",
      "┌ Warning: Proximal GD did not converge in 1000 iterations.\n",
      "└ @ MLJLinearModels C:\\Users\\jeffr\\.julia\\packages\\MLJLinearModels\\oDTrS\\src\\fit\\proxgrad.jl:64\n",
      "\u001b[33mEvaluating over 100 metamodels:  68%[=================>       ]  ETA: 0:00:01\u001b[39m┌ Warning: No appropriate stepsize found via backtracking; interrupting. The reason could be input data that is not standardized.\n",
      "└ @ MLJLinearModels C:\\Users\\jeffr\\.julia\\packages\\MLJLinearModels\\oDTrS\\src\\fit\\proxgrad.jl:50\n",
      "┌ Warning: Proximal GD did not converge in 1000 iterations.\n",
      "└ @ MLJLinearModels C:\\Users\\jeffr\\.julia\\packages\\MLJLinearModels\\oDTrS\\src\\fit\\proxgrad.jl:64\n",
      "┌ Warning: No appropriate stepsize found via backtracking; interrupting. The reason could be input data that is not standardized.\n",
      "└ @ MLJLinearModels C:\\Users\\jeffr\\.julia\\packages\\MLJLinearModels\\oDTrS\\src\\fit\\proxgrad.jl:50\n",
      "┌ Warning: Proximal GD did not converge in 1000 iterations.\n",
      "└ @ MLJLinearModels C:\\Users\\jeffr\\.julia\\packages\\MLJLinearModels\\oDTrS\\src\\fit\\proxgrad.jl:64\n",
      "┌ Warning: No appropriate stepsize found via backtracking; interrupting. The reason could be input data that is not standardized.\n",
      "└ @ MLJLinearModels C:\\Users\\jeffr\\.julia\\packages\\MLJLinearModels\\oDTrS\\src\\fit\\proxgrad.jl:50\n",
      "┌ Warning: Proximal GD did not converge in 1000 iterations.\n",
      "└ @ MLJLinearModels C:\\Users\\jeffr\\.julia\\packages\\MLJLinearModels\\oDTrS\\src\\fit\\proxgrad.jl:64\n",
      "\u001b[33mEvaluating over 100 metamodels:  69%[=================>       ]  ETA: 0:00:01\u001b[39m┌ Warning: No appropriate stepsize found via backtracking; interrupting. The reason could be input data that is not standardized.\n",
      "└ @ MLJLinearModels C:\\Users\\jeffr\\.julia\\packages\\MLJLinearModels\\oDTrS\\src\\fit\\proxgrad.jl:50\n",
      "┌ Warning: Proximal GD did not converge in 1000 iterations.\n",
      "└ @ MLJLinearModels C:\\Users\\jeffr\\.julia\\packages\\MLJLinearModels\\oDTrS\\src\\fit\\proxgrad.jl:64\n",
      "┌ Warning: No appropriate stepsize found via backtracking; interrupting. The reason could be input data that is not standardized.\n",
      "└ @ MLJLinearModels C:\\Users\\jeffr\\.julia\\packages\\MLJLinearModels\\oDTrS\\src\\fit\\proxgrad.jl:50\n",
      "┌ Warning: Proximal GD did not converge in 1000 iterations.\n",
      "└ @ MLJLinearModels C:\\Users\\jeffr\\.julia\\packages\\MLJLinearModels\\oDTrS\\src\\fit\\proxgrad.jl:64\n",
      "┌ Warning: No appropriate stepsize found via backtracking; interrupting. The reason could be input data that is not standardized.\n",
      "└ @ MLJLinearModels C:\\Users\\jeffr\\.julia\\packages\\MLJLinearModels\\oDTrS\\src\\fit\\proxgrad.jl:50\n",
      "┌ Warning: Proximal GD did not converge in 1000 iterations.\n",
      "└ @ MLJLinearModels C:\\Users\\jeffr\\.julia\\packages\\MLJLinearModels\\oDTrS\\src\\fit\\proxgrad.jl:64\n"
     ]
    },
    {
     "name": "stderr",
     "output_type": "stream",
     "text": [
      "\u001b[33mEvaluating over 100 metamodels:  70%[=================>       ]  ETA: 0:00:01\u001b[39m┌ Warning: No appropriate stepsize found via backtracking; interrupting. The reason could be input data that is not standardized.\n",
      "└ @ MLJLinearModels C:\\Users\\jeffr\\.julia\\packages\\MLJLinearModels\\oDTrS\\src\\fit\\proxgrad.jl:50\n",
      "┌ Warning: Proximal GD did not converge in 1000 iterations.\n",
      "└ @ MLJLinearModels C:\\Users\\jeffr\\.julia\\packages\\MLJLinearModels\\oDTrS\\src\\fit\\proxgrad.jl:64\n",
      "┌ Warning: No appropriate stepsize found via backtracking; interrupting. The reason could be input data that is not standardized.\n",
      "└ @ MLJLinearModels C:\\Users\\jeffr\\.julia\\packages\\MLJLinearModels\\oDTrS\\src\\fit\\proxgrad.jl:50\n",
      "┌ Warning: Proximal GD did not converge in 1000 iterations.\n",
      "└ @ MLJLinearModels C:\\Users\\jeffr\\.julia\\packages\\MLJLinearModels\\oDTrS\\src\\fit\\proxgrad.jl:64\n",
      "┌ Warning: No appropriate stepsize found via backtracking; interrupting. The reason could be input data that is not standardized.\n",
      "└ @ MLJLinearModels C:\\Users\\jeffr\\.julia\\packages\\MLJLinearModels\\oDTrS\\src\\fit\\proxgrad.jl:50\n",
      "┌ Warning: Proximal GD did not converge in 1000 iterations.\n",
      "└ @ MLJLinearModels C:\\Users\\jeffr\\.julia\\packages\\MLJLinearModels\\oDTrS\\src\\fit\\proxgrad.jl:64\n",
      "\u001b[33mEvaluating over 100 metamodels:  71%[=================>       ]  ETA: 0:00:01\u001b[39m┌ Warning: No appropriate stepsize found via backtracking; interrupting. The reason could be input data that is not standardized.\n",
      "└ @ MLJLinearModels C:\\Users\\jeffr\\.julia\\packages\\MLJLinearModels\\oDTrS\\src\\fit\\proxgrad.jl:50\n",
      "┌ Warning: Proximal GD did not converge in 1000 iterations.\n",
      "└ @ MLJLinearModels C:\\Users\\jeffr\\.julia\\packages\\MLJLinearModels\\oDTrS\\src\\fit\\proxgrad.jl:64\n",
      "┌ Warning: No appropriate stepsize found via backtracking; interrupting. The reason could be input data that is not standardized.\n",
      "└ @ MLJLinearModels C:\\Users\\jeffr\\.julia\\packages\\MLJLinearModels\\oDTrS\\src\\fit\\proxgrad.jl:50\n",
      "┌ Warning: Proximal GD did not converge in 1000 iterations.\n",
      "└ @ MLJLinearModels C:\\Users\\jeffr\\.julia\\packages\\MLJLinearModels\\oDTrS\\src\\fit\\proxgrad.jl:64\n",
      "┌ Warning: No appropriate stepsize found via backtracking; interrupting. The reason could be input data that is not standardized.\n",
      "└ @ MLJLinearModels C:\\Users\\jeffr\\.julia\\packages\\MLJLinearModels\\oDTrS\\src\\fit\\proxgrad.jl:50\n",
      "┌ Warning: Proximal GD did not converge in 1000 iterations.\n",
      "└ @ MLJLinearModels C:\\Users\\jeffr\\.julia\\packages\\MLJLinearModels\\oDTrS\\src\\fit\\proxgrad.jl:64\n",
      "\u001b[33mEvaluating over 100 metamodels:  72%[==================>      ]  ETA: 0:00:01\u001b[39m┌ Warning: No appropriate stepsize found via backtracking; interrupting. The reason could be input data that is not standardized.\n",
      "└ @ MLJLinearModels C:\\Users\\jeffr\\.julia\\packages\\MLJLinearModels\\oDTrS\\src\\fit\\proxgrad.jl:50\n",
      "┌ Warning: Proximal GD did not converge in 1000 iterations.\n",
      "└ @ MLJLinearModels C:\\Users\\jeffr\\.julia\\packages\\MLJLinearModels\\oDTrS\\src\\fit\\proxgrad.jl:64\n",
      "┌ Warning: No appropriate stepsize found via backtracking; interrupting. The reason could be input data that is not standardized.\n",
      "└ @ MLJLinearModels C:\\Users\\jeffr\\.julia\\packages\\MLJLinearModels\\oDTrS\\src\\fit\\proxgrad.jl:50\n",
      "┌ Warning: Proximal GD did not converge in 1000 iterations.\n",
      "└ @ MLJLinearModels C:\\Users\\jeffr\\.julia\\packages\\MLJLinearModels\\oDTrS\\src\\fit\\proxgrad.jl:64\n",
      "┌ Warning: No appropriate stepsize found via backtracking; interrupting. The reason could be input data that is not standardized.\n",
      "└ @ MLJLinearModels C:\\Users\\jeffr\\.julia\\packages\\MLJLinearModels\\oDTrS\\src\\fit\\proxgrad.jl:50\n",
      "┌ Warning: Proximal GD did not converge in 1000 iterations.\n",
      "└ @ MLJLinearModels C:\\Users\\jeffr\\.julia\\packages\\MLJLinearModels\\oDTrS\\src\\fit\\proxgrad.jl:64\n",
      "\u001b[33mEvaluating over 100 metamodels:  73%[==================>      ]  ETA: 0:00:01\u001b[39m┌ Warning: No appropriate stepsize found via backtracking; interrupting. The reason could be input data that is not standardized.\n",
      "└ @ MLJLinearModels C:\\Users\\jeffr\\.julia\\packages\\MLJLinearModels\\oDTrS\\src\\fit\\proxgrad.jl:50\n",
      "┌ Warning: Proximal GD did not converge in 1000 iterations.\n",
      "└ @ MLJLinearModels C:\\Users\\jeffr\\.julia\\packages\\MLJLinearModels\\oDTrS\\src\\fit\\proxgrad.jl:64\n",
      "┌ Warning: No appropriate stepsize found via backtracking; interrupting. The reason could be input data that is not standardized.\n",
      "└ @ MLJLinearModels C:\\Users\\jeffr\\.julia\\packages\\MLJLinearModels\\oDTrS\\src\\fit\\proxgrad.jl:50\n",
      "┌ Warning: Proximal GD did not converge in 1000 iterations.\n",
      "└ @ MLJLinearModels C:\\Users\\jeffr\\.julia\\packages\\MLJLinearModels\\oDTrS\\src\\fit\\proxgrad.jl:64\n",
      "┌ Warning: No appropriate stepsize found via backtracking; interrupting. The reason could be input data that is not standardized.\n",
      "└ @ MLJLinearModels C:\\Users\\jeffr\\.julia\\packages\\MLJLinearModels\\oDTrS\\src\\fit\\proxgrad.jl:50\n",
      "┌ Warning: Proximal GD did not converge in 1000 iterations.\n",
      "└ @ MLJLinearModels C:\\Users\\jeffr\\.julia\\packages\\MLJLinearModels\\oDTrS\\src\\fit\\proxgrad.jl:64\n",
      "\u001b[33mEvaluating over 100 metamodels:  74%[==================>      ]  ETA: 0:00:01\u001b[39m┌ Warning: No appropriate stepsize found via backtracking; interrupting. The reason could be input data that is not standardized.\n",
      "└ @ MLJLinearModels C:\\Users\\jeffr\\.julia\\packages\\MLJLinearModels\\oDTrS\\src\\fit\\proxgrad.jl:50\n",
      "┌ Warning: Proximal GD did not converge in 1000 iterations.\n",
      "└ @ MLJLinearModels C:\\Users\\jeffr\\.julia\\packages\\MLJLinearModels\\oDTrS\\src\\fit\\proxgrad.jl:64\n",
      "┌ Warning: No appropriate stepsize found via backtracking; interrupting. The reason could be input data that is not standardized.\n",
      "└ @ MLJLinearModels C:\\Users\\jeffr\\.julia\\packages\\MLJLinearModels\\oDTrS\\src\\fit\\proxgrad.jl:50\n",
      "┌ Warning: Proximal GD did not converge in 1000 iterations.\n",
      "└ @ MLJLinearModels C:\\Users\\jeffr\\.julia\\packages\\MLJLinearModels\\oDTrS\\src\\fit\\proxgrad.jl:64\n",
      "┌ Warning: No appropriate stepsize found via backtracking; interrupting. The reason could be input data that is not standardized.\n",
      "└ @ MLJLinearModels C:\\Users\\jeffr\\.julia\\packages\\MLJLinearModels\\oDTrS\\src\\fit\\proxgrad.jl:50\n",
      "┌ Warning: Proximal GD did not converge in 1000 iterations.\n",
      "└ @ MLJLinearModels C:\\Users\\jeffr\\.julia\\packages\\MLJLinearModels\\oDTrS\\src\\fit\\proxgrad.jl:64\n",
      "\u001b[33mEvaluating over 100 metamodels:  75%[==================>      ]  ETA: 0:00:01\u001b[39m┌ Warning: No appropriate stepsize found via backtracking; interrupting. The reason could be input data that is not standardized.\n",
      "└ @ MLJLinearModels C:\\Users\\jeffr\\.julia\\packages\\MLJLinearModels\\oDTrS\\src\\fit\\proxgrad.jl:50\n",
      "┌ Warning: Proximal GD did not converge in 1000 iterations.\n",
      "└ @ MLJLinearModels C:\\Users\\jeffr\\.julia\\packages\\MLJLinearModels\\oDTrS\\src\\fit\\proxgrad.jl:64\n",
      "┌ Warning: No appropriate stepsize found via backtracking; interrupting. The reason could be input data that is not standardized.\n",
      "└ @ MLJLinearModels C:\\Users\\jeffr\\.julia\\packages\\MLJLinearModels\\oDTrS\\src\\fit\\proxgrad.jl:50\n",
      "┌ Warning: Proximal GD did not converge in 1000 iterations.\n",
      "└ @ MLJLinearModels C:\\Users\\jeffr\\.julia\\packages\\MLJLinearModels\\oDTrS\\src\\fit\\proxgrad.jl:64\n",
      "┌ Warning: No appropriate stepsize found via backtracking; interrupting. The reason could be input data that is not standardized.\n",
      "└ @ MLJLinearModels C:\\Users\\jeffr\\.julia\\packages\\MLJLinearModels\\oDTrS\\src\\fit\\proxgrad.jl:50\n",
      "┌ Warning: Proximal GD did not converge in 1000 iterations.\n",
      "└ @ MLJLinearModels C:\\Users\\jeffr\\.julia\\packages\\MLJLinearModels\\oDTrS\\src\\fit\\proxgrad.jl:64\n",
      "\u001b[33mEvaluating over 100 metamodels:  76%[===================>     ]  ETA: 0:00:01\u001b[39m┌ Warning: No appropriate stepsize found via backtracking; interrupting. The reason could be input data that is not standardized.\n",
      "└ @ MLJLinearModels C:\\Users\\jeffr\\.julia\\packages\\MLJLinearModels\\oDTrS\\src\\fit\\proxgrad.jl:50\n",
      "┌ Warning: Proximal GD did not converge in 1000 iterations.\n",
      "└ @ MLJLinearModels C:\\Users\\jeffr\\.julia\\packages\\MLJLinearModels\\oDTrS\\src\\fit\\proxgrad.jl:64\n",
      "┌ Warning: No appropriate stepsize found via backtracking; interrupting. The reason could be input data that is not standardized.\n",
      "└ @ MLJLinearModels C:\\Users\\jeffr\\.julia\\packages\\MLJLinearModels\\oDTrS\\src\\fit\\proxgrad.jl:50\n",
      "┌ Warning: Proximal GD did not converge in 1000 iterations.\n",
      "└ @ MLJLinearModels C:\\Users\\jeffr\\.julia\\packages\\MLJLinearModels\\oDTrS\\src\\fit\\proxgrad.jl:64\n",
      "┌ Warning: No appropriate stepsize found via backtracking; interrupting. The reason could be input data that is not standardized.\n",
      "└ @ MLJLinearModels C:\\Users\\jeffr\\.julia\\packages\\MLJLinearModels\\oDTrS\\src\\fit\\proxgrad.jl:50\n",
      "┌ Warning: Proximal GD did not converge in 1000 iterations.\n",
      "└ @ MLJLinearModels C:\\Users\\jeffr\\.julia\\packages\\MLJLinearModels\\oDTrS\\src\\fit\\proxgrad.jl:64\n"
     ]
    },
    {
     "name": "stderr",
     "output_type": "stream",
     "text": [
      "\u001b[33mEvaluating over 100 metamodels:  77%[===================>     ]  ETA: 0:00:01\u001b[39m┌ Warning: No appropriate stepsize found via backtracking; interrupting. The reason could be input data that is not standardized.\n",
      "└ @ MLJLinearModels C:\\Users\\jeffr\\.julia\\packages\\MLJLinearModels\\oDTrS\\src\\fit\\proxgrad.jl:50\n",
      "┌ Warning: Proximal GD did not converge in 1000 iterations.\n",
      "└ @ MLJLinearModels C:\\Users\\jeffr\\.julia\\packages\\MLJLinearModels\\oDTrS\\src\\fit\\proxgrad.jl:64\n",
      "┌ Warning: No appropriate stepsize found via backtracking; interrupting. The reason could be input data that is not standardized.\n",
      "└ @ MLJLinearModels C:\\Users\\jeffr\\.julia\\packages\\MLJLinearModels\\oDTrS\\src\\fit\\proxgrad.jl:50\n",
      "┌ Warning: Proximal GD did not converge in 1000 iterations.\n",
      "└ @ MLJLinearModels C:\\Users\\jeffr\\.julia\\packages\\MLJLinearModels\\oDTrS\\src\\fit\\proxgrad.jl:64\n",
      "┌ Warning: No appropriate stepsize found via backtracking; interrupting. The reason could be input data that is not standardized.\n",
      "└ @ MLJLinearModels C:\\Users\\jeffr\\.julia\\packages\\MLJLinearModels\\oDTrS\\src\\fit\\proxgrad.jl:50\n",
      "┌ Warning: Proximal GD did not converge in 1000 iterations.\n",
      "└ @ MLJLinearModels C:\\Users\\jeffr\\.julia\\packages\\MLJLinearModels\\oDTrS\\src\\fit\\proxgrad.jl:64\n",
      "\u001b[33mEvaluating over 100 metamodels:  78%[===================>     ]  ETA: 0:00:01\u001b[39m┌ Warning: No appropriate stepsize found via backtracking; interrupting. The reason could be input data that is not standardized.\n",
      "└ @ MLJLinearModels C:\\Users\\jeffr\\.julia\\packages\\MLJLinearModels\\oDTrS\\src\\fit\\proxgrad.jl:50\n",
      "┌ Warning: Proximal GD did not converge in 1000 iterations.\n",
      "└ @ MLJLinearModels C:\\Users\\jeffr\\.julia\\packages\\MLJLinearModels\\oDTrS\\src\\fit\\proxgrad.jl:64\n",
      "┌ Warning: No appropriate stepsize found via backtracking; interrupting. The reason could be input data that is not standardized.\n",
      "└ @ MLJLinearModels C:\\Users\\jeffr\\.julia\\packages\\MLJLinearModels\\oDTrS\\src\\fit\\proxgrad.jl:50\n",
      "┌ Warning: Proximal GD did not converge in 1000 iterations.\n",
      "└ @ MLJLinearModels C:\\Users\\jeffr\\.julia\\packages\\MLJLinearModels\\oDTrS\\src\\fit\\proxgrad.jl:64\n",
      "┌ Warning: No appropriate stepsize found via backtracking; interrupting. The reason could be input data that is not standardized.\n",
      "└ @ MLJLinearModels C:\\Users\\jeffr\\.julia\\packages\\MLJLinearModels\\oDTrS\\src\\fit\\proxgrad.jl:50\n",
      "┌ Warning: Proximal GD did not converge in 1000 iterations.\n",
      "└ @ MLJLinearModels C:\\Users\\jeffr\\.julia\\packages\\MLJLinearModels\\oDTrS\\src\\fit\\proxgrad.jl:64\n",
      "\u001b[33mEvaluating over 100 metamodels:  79%[===================>     ]  ETA: 0:00:01\u001b[39m┌ Warning: No appropriate stepsize found via backtracking; interrupting. The reason could be input data that is not standardized.\n",
      "└ @ MLJLinearModels C:\\Users\\jeffr\\.julia\\packages\\MLJLinearModels\\oDTrS\\src\\fit\\proxgrad.jl:50\n",
      "┌ Warning: Proximal GD did not converge in 1000 iterations.\n",
      "└ @ MLJLinearModels C:\\Users\\jeffr\\.julia\\packages\\MLJLinearModels\\oDTrS\\src\\fit\\proxgrad.jl:64\n",
      "┌ Warning: No appropriate stepsize found via backtracking; interrupting. The reason could be input data that is not standardized.\n",
      "└ @ MLJLinearModels C:\\Users\\jeffr\\.julia\\packages\\MLJLinearModels\\oDTrS\\src\\fit\\proxgrad.jl:50\n",
      "┌ Warning: Proximal GD did not converge in 1000 iterations.\n",
      "└ @ MLJLinearModels C:\\Users\\jeffr\\.julia\\packages\\MLJLinearModels\\oDTrS\\src\\fit\\proxgrad.jl:64\n",
      "┌ Warning: No appropriate stepsize found via backtracking; interrupting. The reason could be input data that is not standardized.\n",
      "└ @ MLJLinearModels C:\\Users\\jeffr\\.julia\\packages\\MLJLinearModels\\oDTrS\\src\\fit\\proxgrad.jl:50\n",
      "┌ Warning: Proximal GD did not converge in 1000 iterations.\n",
      "└ @ MLJLinearModels C:\\Users\\jeffr\\.julia\\packages\\MLJLinearModels\\oDTrS\\src\\fit\\proxgrad.jl:64\n",
      "\u001b[33mEvaluating over 100 metamodels:  80%[====================>    ]  ETA: 0:00:01\u001b[39m┌ Warning: No appropriate stepsize found via backtracking; interrupting. The reason could be input data that is not standardized.\n",
      "└ @ MLJLinearModels C:\\Users\\jeffr\\.julia\\packages\\MLJLinearModels\\oDTrS\\src\\fit\\proxgrad.jl:50\n",
      "┌ Warning: Proximal GD did not converge in 1000 iterations.\n",
      "└ @ MLJLinearModels C:\\Users\\jeffr\\.julia\\packages\\MLJLinearModels\\oDTrS\\src\\fit\\proxgrad.jl:64\n",
      "┌ Warning: No appropriate stepsize found via backtracking; interrupting. The reason could be input data that is not standardized.\n",
      "└ @ MLJLinearModels C:\\Users\\jeffr\\.julia\\packages\\MLJLinearModels\\oDTrS\\src\\fit\\proxgrad.jl:50\n",
      "┌ Warning: Proximal GD did not converge in 1000 iterations.\n",
      "└ @ MLJLinearModels C:\\Users\\jeffr\\.julia\\packages\\MLJLinearModels\\oDTrS\\src\\fit\\proxgrad.jl:64\n",
      "┌ Warning: No appropriate stepsize found via backtracking; interrupting. The reason could be input data that is not standardized.\n",
      "└ @ MLJLinearModels C:\\Users\\jeffr\\.julia\\packages\\MLJLinearModels\\oDTrS\\src\\fit\\proxgrad.jl:50\n",
      "┌ Warning: Proximal GD did not converge in 1000 iterations.\n",
      "└ @ MLJLinearModels C:\\Users\\jeffr\\.julia\\packages\\MLJLinearModels\\oDTrS\\src\\fit\\proxgrad.jl:64\n",
      "\u001b[33mEvaluating over 100 metamodels:  81%[====================>    ]  ETA: 0:00:01\u001b[39m┌ Warning: No appropriate stepsize found via backtracking; interrupting. The reason could be input data that is not standardized.\n",
      "└ @ MLJLinearModels C:\\Users\\jeffr\\.julia\\packages\\MLJLinearModels\\oDTrS\\src\\fit\\proxgrad.jl:50\n",
      "┌ Warning: Proximal GD did not converge in 1000 iterations.\n",
      "└ @ MLJLinearModels C:\\Users\\jeffr\\.julia\\packages\\MLJLinearModels\\oDTrS\\src\\fit\\proxgrad.jl:64\n",
      "┌ Warning: No appropriate stepsize found via backtracking; interrupting. The reason could be input data that is not standardized.\n",
      "└ @ MLJLinearModels C:\\Users\\jeffr\\.julia\\packages\\MLJLinearModels\\oDTrS\\src\\fit\\proxgrad.jl:50\n",
      "┌ Warning: Proximal GD did not converge in 1000 iterations.\n",
      "└ @ MLJLinearModels C:\\Users\\jeffr\\.julia\\packages\\MLJLinearModels\\oDTrS\\src\\fit\\proxgrad.jl:64\n",
      "┌ Warning: No appropriate stepsize found via backtracking; interrupting. The reason could be input data that is not standardized.\n",
      "└ @ MLJLinearModels C:\\Users\\jeffr\\.julia\\packages\\MLJLinearModels\\oDTrS\\src\\fit\\proxgrad.jl:50\n",
      "┌ Warning: Proximal GD did not converge in 1000 iterations.\n",
      "└ @ MLJLinearModels C:\\Users\\jeffr\\.julia\\packages\\MLJLinearModels\\oDTrS\\src\\fit\\proxgrad.jl:64\n",
      "\u001b[33mEvaluating over 100 metamodels:  82%[====================>    ]  ETA: 0:00:01\u001b[39m┌ Warning: No appropriate stepsize found via backtracking; interrupting. The reason could be input data that is not standardized.\n",
      "└ @ MLJLinearModels C:\\Users\\jeffr\\.julia\\packages\\MLJLinearModels\\oDTrS\\src\\fit\\proxgrad.jl:50\n",
      "┌ Warning: Proximal GD did not converge in 1000 iterations.\n",
      "└ @ MLJLinearModels C:\\Users\\jeffr\\.julia\\packages\\MLJLinearModels\\oDTrS\\src\\fit\\proxgrad.jl:64\n",
      "┌ Warning: No appropriate stepsize found via backtracking; interrupting. The reason could be input data that is not standardized.\n",
      "└ @ MLJLinearModels C:\\Users\\jeffr\\.julia\\packages\\MLJLinearModels\\oDTrS\\src\\fit\\proxgrad.jl:50\n",
      "┌ Warning: Proximal GD did not converge in 1000 iterations.\n",
      "└ @ MLJLinearModels C:\\Users\\jeffr\\.julia\\packages\\MLJLinearModels\\oDTrS\\src\\fit\\proxgrad.jl:64\n",
      "┌ Warning: No appropriate stepsize found via backtracking; interrupting. The reason could be input data that is not standardized.\n",
      "└ @ MLJLinearModels C:\\Users\\jeffr\\.julia\\packages\\MLJLinearModels\\oDTrS\\src\\fit\\proxgrad.jl:50\n",
      "┌ Warning: Proximal GD did not converge in 1000 iterations.\n",
      "└ @ MLJLinearModels C:\\Users\\jeffr\\.julia\\packages\\MLJLinearModels\\oDTrS\\src\\fit\\proxgrad.jl:64\n",
      "\u001b[33mEvaluating over 100 metamodels:  83%[====================>    ]  ETA: 0:00:01\u001b[39m┌ Warning: No appropriate stepsize found via backtracking; interrupting. The reason could be input data that is not standardized.\n",
      "└ @ MLJLinearModels C:\\Users\\jeffr\\.julia\\packages\\MLJLinearModels\\oDTrS\\src\\fit\\proxgrad.jl:50\n",
      "┌ Warning: Proximal GD did not converge in 1000 iterations.\n",
      "└ @ MLJLinearModels C:\\Users\\jeffr\\.julia\\packages\\MLJLinearModels\\oDTrS\\src\\fit\\proxgrad.jl:64\n",
      "┌ Warning: No appropriate stepsize found via backtracking; interrupting. The reason could be input data that is not standardized.\n",
      "└ @ MLJLinearModels C:\\Users\\jeffr\\.julia\\packages\\MLJLinearModels\\oDTrS\\src\\fit\\proxgrad.jl:50\n",
      "┌ Warning: Proximal GD did not converge in 1000 iterations.\n",
      "└ @ MLJLinearModels C:\\Users\\jeffr\\.julia\\packages\\MLJLinearModels\\oDTrS\\src\\fit\\proxgrad.jl:64\n",
      "┌ Warning: No appropriate stepsize found via backtracking; interrupting. The reason could be input data that is not standardized.\n",
      "└ @ MLJLinearModels C:\\Users\\jeffr\\.julia\\packages\\MLJLinearModels\\oDTrS\\src\\fit\\proxgrad.jl:50\n",
      "┌ Warning: Proximal GD did not converge in 1000 iterations.\n",
      "└ @ MLJLinearModels C:\\Users\\jeffr\\.julia\\packages\\MLJLinearModels\\oDTrS\\src\\fit\\proxgrad.jl:64\n"
     ]
    },
    {
     "name": "stderr",
     "output_type": "stream",
     "text": [
      "\u001b[33mEvaluating over 100 metamodels:  84%[=====================>   ]  ETA: 0:00:01\u001b[39m┌ Warning: No appropriate stepsize found via backtracking; interrupting. The reason could be input data that is not standardized.\n",
      "└ @ MLJLinearModels C:\\Users\\jeffr\\.julia\\packages\\MLJLinearModels\\oDTrS\\src\\fit\\proxgrad.jl:50\n",
      "┌ Warning: Proximal GD did not converge in 1000 iterations.\n",
      "└ @ MLJLinearModels C:\\Users\\jeffr\\.julia\\packages\\MLJLinearModels\\oDTrS\\src\\fit\\proxgrad.jl:64\n",
      "┌ Warning: No appropriate stepsize found via backtracking; interrupting. The reason could be input data that is not standardized.\n",
      "└ @ MLJLinearModels C:\\Users\\jeffr\\.julia\\packages\\MLJLinearModels\\oDTrS\\src\\fit\\proxgrad.jl:50\n",
      "┌ Warning: Proximal GD did not converge in 1000 iterations.\n",
      "└ @ MLJLinearModels C:\\Users\\jeffr\\.julia\\packages\\MLJLinearModels\\oDTrS\\src\\fit\\proxgrad.jl:64\n",
      "┌ Warning: No appropriate stepsize found via backtracking; interrupting. The reason could be input data that is not standardized.\n",
      "└ @ MLJLinearModels C:\\Users\\jeffr\\.julia\\packages\\MLJLinearModels\\oDTrS\\src\\fit\\proxgrad.jl:50\n",
      "┌ Warning: Proximal GD did not converge in 1000 iterations.\n",
      "└ @ MLJLinearModels C:\\Users\\jeffr\\.julia\\packages\\MLJLinearModels\\oDTrS\\src\\fit\\proxgrad.jl:64\n",
      "\u001b[33mEvaluating over 100 metamodels:  85%[=====================>   ]  ETA: 0:00:01\u001b[39m┌ Warning: No appropriate stepsize found via backtracking; interrupting. The reason could be input data that is not standardized.\n",
      "└ @ MLJLinearModels C:\\Users\\jeffr\\.julia\\packages\\MLJLinearModels\\oDTrS\\src\\fit\\proxgrad.jl:50\n",
      "┌ Warning: Proximal GD did not converge in 1000 iterations.\n",
      "└ @ MLJLinearModels C:\\Users\\jeffr\\.julia\\packages\\MLJLinearModels\\oDTrS\\src\\fit\\proxgrad.jl:64\n",
      "┌ Warning: No appropriate stepsize found via backtracking; interrupting. The reason could be input data that is not standardized.\n",
      "└ @ MLJLinearModels C:\\Users\\jeffr\\.julia\\packages\\MLJLinearModels\\oDTrS\\src\\fit\\proxgrad.jl:50\n",
      "┌ Warning: Proximal GD did not converge in 1000 iterations.\n",
      "└ @ MLJLinearModels C:\\Users\\jeffr\\.julia\\packages\\MLJLinearModels\\oDTrS\\src\\fit\\proxgrad.jl:64\n",
      "┌ Warning: No appropriate stepsize found via backtracking; interrupting. The reason could be input data that is not standardized.\n",
      "└ @ MLJLinearModels C:\\Users\\jeffr\\.julia\\packages\\MLJLinearModels\\oDTrS\\src\\fit\\proxgrad.jl:50\n",
      "┌ Warning: Proximal GD did not converge in 1000 iterations.\n",
      "└ @ MLJLinearModels C:\\Users\\jeffr\\.julia\\packages\\MLJLinearModels\\oDTrS\\src\\fit\\proxgrad.jl:64\n",
      "\u001b[33mEvaluating over 100 metamodels:  86%[=====================>   ]  ETA: 0:00:00\u001b[39m┌ Warning: No appropriate stepsize found via backtracking; interrupting. The reason could be input data that is not standardized.\n",
      "└ @ MLJLinearModels C:\\Users\\jeffr\\.julia\\packages\\MLJLinearModels\\oDTrS\\src\\fit\\proxgrad.jl:50\n",
      "┌ Warning: Proximal GD did not converge in 1000 iterations.\n",
      "└ @ MLJLinearModels C:\\Users\\jeffr\\.julia\\packages\\MLJLinearModels\\oDTrS\\src\\fit\\proxgrad.jl:64\n",
      "┌ Warning: No appropriate stepsize found via backtracking; interrupting. The reason could be input data that is not standardized.\n",
      "└ @ MLJLinearModels C:\\Users\\jeffr\\.julia\\packages\\MLJLinearModels\\oDTrS\\src\\fit\\proxgrad.jl:50\n",
      "┌ Warning: Proximal GD did not converge in 1000 iterations.\n",
      "└ @ MLJLinearModels C:\\Users\\jeffr\\.julia\\packages\\MLJLinearModels\\oDTrS\\src\\fit\\proxgrad.jl:64\n",
      "┌ Warning: No appropriate stepsize found via backtracking; interrupting. The reason could be input data that is not standardized.\n",
      "└ @ MLJLinearModels C:\\Users\\jeffr\\.julia\\packages\\MLJLinearModels\\oDTrS\\src\\fit\\proxgrad.jl:50\n",
      "┌ Warning: Proximal GD did not converge in 1000 iterations.\n",
      "└ @ MLJLinearModels C:\\Users\\jeffr\\.julia\\packages\\MLJLinearModels\\oDTrS\\src\\fit\\proxgrad.jl:64\n",
      "\u001b[33mEvaluating over 100 metamodels:  87%[=====================>   ]  ETA: 0:00:00\u001b[39m┌ Warning: No appropriate stepsize found via backtracking; interrupting. The reason could be input data that is not standardized.\n",
      "└ @ MLJLinearModels C:\\Users\\jeffr\\.julia\\packages\\MLJLinearModels\\oDTrS\\src\\fit\\proxgrad.jl:50\n",
      "┌ Warning: Proximal GD did not converge in 1000 iterations.\n",
      "└ @ MLJLinearModels C:\\Users\\jeffr\\.julia\\packages\\MLJLinearModels\\oDTrS\\src\\fit\\proxgrad.jl:64\n",
      "┌ Warning: No appropriate stepsize found via backtracking; interrupting. The reason could be input data that is not standardized.\n",
      "└ @ MLJLinearModels C:\\Users\\jeffr\\.julia\\packages\\MLJLinearModels\\oDTrS\\src\\fit\\proxgrad.jl:50\n",
      "┌ Warning: Proximal GD did not converge in 1000 iterations.\n",
      "└ @ MLJLinearModels C:\\Users\\jeffr\\.julia\\packages\\MLJLinearModels\\oDTrS\\src\\fit\\proxgrad.jl:64\n",
      "┌ Warning: No appropriate stepsize found via backtracking; interrupting. The reason could be input data that is not standardized.\n",
      "└ @ MLJLinearModels C:\\Users\\jeffr\\.julia\\packages\\MLJLinearModels\\oDTrS\\src\\fit\\proxgrad.jl:50\n",
      "┌ Warning: Proximal GD did not converge in 1000 iterations.\n",
      "└ @ MLJLinearModels C:\\Users\\jeffr\\.julia\\packages\\MLJLinearModels\\oDTrS\\src\\fit\\proxgrad.jl:64\n",
      "\u001b[33mEvaluating over 100 metamodels:  88%[======================>  ]  ETA: 0:00:00\u001b[39m┌ Warning: No appropriate stepsize found via backtracking; interrupting. The reason could be input data that is not standardized.\n",
      "└ @ MLJLinearModels C:\\Users\\jeffr\\.julia\\packages\\MLJLinearModels\\oDTrS\\src\\fit\\proxgrad.jl:50\n",
      "┌ Warning: Proximal GD did not converge in 1000 iterations.\n",
      "└ @ MLJLinearModels C:\\Users\\jeffr\\.julia\\packages\\MLJLinearModels\\oDTrS\\src\\fit\\proxgrad.jl:64\n",
      "┌ Warning: No appropriate stepsize found via backtracking; interrupting. The reason could be input data that is not standardized.\n",
      "└ @ MLJLinearModels C:\\Users\\jeffr\\.julia\\packages\\MLJLinearModels\\oDTrS\\src\\fit\\proxgrad.jl:50\n",
      "┌ Warning: Proximal GD did not converge in 1000 iterations.\n",
      "└ @ MLJLinearModels C:\\Users\\jeffr\\.julia\\packages\\MLJLinearModels\\oDTrS\\src\\fit\\proxgrad.jl:64\n",
      "┌ Warning: No appropriate stepsize found via backtracking; interrupting. The reason could be input data that is not standardized.\n",
      "└ @ MLJLinearModels C:\\Users\\jeffr\\.julia\\packages\\MLJLinearModels\\oDTrS\\src\\fit\\proxgrad.jl:50\n",
      "┌ Warning: Proximal GD did not converge in 1000 iterations.\n",
      "└ @ MLJLinearModels C:\\Users\\jeffr\\.julia\\packages\\MLJLinearModels\\oDTrS\\src\\fit\\proxgrad.jl:64\n",
      "\u001b[33mEvaluating over 100 metamodels:  89%[======================>  ]  ETA: 0:00:00\u001b[39m┌ Warning: No appropriate stepsize found via backtracking; interrupting. The reason could be input data that is not standardized.\n",
      "└ @ MLJLinearModels C:\\Users\\jeffr\\.julia\\packages\\MLJLinearModels\\oDTrS\\src\\fit\\proxgrad.jl:50\n",
      "┌ Warning: Proximal GD did not converge in 1000 iterations.\n",
      "└ @ MLJLinearModels C:\\Users\\jeffr\\.julia\\packages\\MLJLinearModels\\oDTrS\\src\\fit\\proxgrad.jl:64\n",
      "┌ Warning: No appropriate stepsize found via backtracking; interrupting. The reason could be input data that is not standardized.\n",
      "└ @ MLJLinearModels C:\\Users\\jeffr\\.julia\\packages\\MLJLinearModels\\oDTrS\\src\\fit\\proxgrad.jl:50\n",
      "┌ Warning: Proximal GD did not converge in 1000 iterations.\n",
      "└ @ MLJLinearModels C:\\Users\\jeffr\\.julia\\packages\\MLJLinearModels\\oDTrS\\src\\fit\\proxgrad.jl:64\n",
      "┌ Warning: No appropriate stepsize found via backtracking; interrupting. The reason could be input data that is not standardized.\n",
      "└ @ MLJLinearModels C:\\Users\\jeffr\\.julia\\packages\\MLJLinearModels\\oDTrS\\src\\fit\\proxgrad.jl:50\n",
      "┌ Warning: Proximal GD did not converge in 1000 iterations.\n",
      "└ @ MLJLinearModels C:\\Users\\jeffr\\.julia\\packages\\MLJLinearModels\\oDTrS\\src\\fit\\proxgrad.jl:64\n",
      "\u001b[33mEvaluating over 100 metamodels:  90%[======================>  ]  ETA: 0:00:00\u001b[39m┌ Warning: No appropriate stepsize found via backtracking; interrupting. The reason could be input data that is not standardized.\n",
      "└ @ MLJLinearModels C:\\Users\\jeffr\\.julia\\packages\\MLJLinearModels\\oDTrS\\src\\fit\\proxgrad.jl:50\n",
      "┌ Warning: Proximal GD did not converge in 1000 iterations.\n",
      "└ @ MLJLinearModels C:\\Users\\jeffr\\.julia\\packages\\MLJLinearModels\\oDTrS\\src\\fit\\proxgrad.jl:64\n",
      "┌ Warning: No appropriate stepsize found via backtracking; interrupting. The reason could be input data that is not standardized.\n",
      "└ @ MLJLinearModels C:\\Users\\jeffr\\.julia\\packages\\MLJLinearModels\\oDTrS\\src\\fit\\proxgrad.jl:50\n",
      "┌ Warning: Proximal GD did not converge in 1000 iterations.\n",
      "└ @ MLJLinearModels C:\\Users\\jeffr\\.julia\\packages\\MLJLinearModels\\oDTrS\\src\\fit\\proxgrad.jl:64\n",
      "┌ Warning: No appropriate stepsize found via backtracking; interrupting. The reason could be input data that is not standardized.\n",
      "└ @ MLJLinearModels C:\\Users\\jeffr\\.julia\\packages\\MLJLinearModels\\oDTrS\\src\\fit\\proxgrad.jl:50\n",
      "┌ Warning: Proximal GD did not converge in 1000 iterations.\n",
      "└ @ MLJLinearModels C:\\Users\\jeffr\\.julia\\packages\\MLJLinearModels\\oDTrS\\src\\fit\\proxgrad.jl:64\n"
     ]
    },
    {
     "name": "stderr",
     "output_type": "stream",
     "text": [
      "\u001b[33mEvaluating over 100 metamodels:  91%[======================>  ]  ETA: 0:00:00\u001b[39m┌ Warning: No appropriate stepsize found via backtracking; interrupting. The reason could be input data that is not standardized.\n",
      "└ @ MLJLinearModels C:\\Users\\jeffr\\.julia\\packages\\MLJLinearModels\\oDTrS\\src\\fit\\proxgrad.jl:50\n",
      "┌ Warning: Proximal GD did not converge in 1000 iterations.\n",
      "└ @ MLJLinearModels C:\\Users\\jeffr\\.julia\\packages\\MLJLinearModels\\oDTrS\\src\\fit\\proxgrad.jl:64\n",
      "┌ Warning: No appropriate stepsize found via backtracking; interrupting. The reason could be input data that is not standardized.\n",
      "└ @ MLJLinearModels C:\\Users\\jeffr\\.julia\\packages\\MLJLinearModels\\oDTrS\\src\\fit\\proxgrad.jl:50\n",
      "┌ Warning: Proximal GD did not converge in 1000 iterations.\n",
      "└ @ MLJLinearModels C:\\Users\\jeffr\\.julia\\packages\\MLJLinearModels\\oDTrS\\src\\fit\\proxgrad.jl:64\n",
      "┌ Warning: No appropriate stepsize found via backtracking; interrupting. The reason could be input data that is not standardized.\n",
      "└ @ MLJLinearModels C:\\Users\\jeffr\\.julia\\packages\\MLJLinearModels\\oDTrS\\src\\fit\\proxgrad.jl:50\n",
      "┌ Warning: Proximal GD did not converge in 1000 iterations.\n",
      "└ @ MLJLinearModels C:\\Users\\jeffr\\.julia\\packages\\MLJLinearModels\\oDTrS\\src\\fit\\proxgrad.jl:64\n",
      "\u001b[33mEvaluating over 100 metamodels:  92%[=======================> ]  ETA: 0:00:00\u001b[39m┌ Warning: No appropriate stepsize found via backtracking; interrupting. The reason could be input data that is not standardized.\n",
      "└ @ MLJLinearModels C:\\Users\\jeffr\\.julia\\packages\\MLJLinearModels\\oDTrS\\src\\fit\\proxgrad.jl:50\n",
      "┌ Warning: Proximal GD did not converge in 1000 iterations.\n",
      "└ @ MLJLinearModels C:\\Users\\jeffr\\.julia\\packages\\MLJLinearModels\\oDTrS\\src\\fit\\proxgrad.jl:64\n",
      "┌ Warning: No appropriate stepsize found via backtracking; interrupting. The reason could be input data that is not standardized.\n",
      "└ @ MLJLinearModels C:\\Users\\jeffr\\.julia\\packages\\MLJLinearModels\\oDTrS\\src\\fit\\proxgrad.jl:50\n",
      "┌ Warning: Proximal GD did not converge in 1000 iterations.\n",
      "└ @ MLJLinearModels C:\\Users\\jeffr\\.julia\\packages\\MLJLinearModels\\oDTrS\\src\\fit\\proxgrad.jl:64\n",
      "┌ Warning: No appropriate stepsize found via backtracking; interrupting. The reason could be input data that is not standardized.\n",
      "└ @ MLJLinearModels C:\\Users\\jeffr\\.julia\\packages\\MLJLinearModels\\oDTrS\\src\\fit\\proxgrad.jl:50\n",
      "┌ Warning: Proximal GD did not converge in 1000 iterations.\n",
      "└ @ MLJLinearModels C:\\Users\\jeffr\\.julia\\packages\\MLJLinearModels\\oDTrS\\src\\fit\\proxgrad.jl:64\n",
      "\u001b[33mEvaluating over 100 metamodels:  93%[=======================> ]  ETA: 0:00:00\u001b[39m┌ Warning: No appropriate stepsize found via backtracking; interrupting. The reason could be input data that is not standardized.\n",
      "└ @ MLJLinearModels C:\\Users\\jeffr\\.julia\\packages\\MLJLinearModels\\oDTrS\\src\\fit\\proxgrad.jl:50\n",
      "┌ Warning: Proximal GD did not converge in 1000 iterations.\n",
      "└ @ MLJLinearModels C:\\Users\\jeffr\\.julia\\packages\\MLJLinearModels\\oDTrS\\src\\fit\\proxgrad.jl:64\n",
      "┌ Warning: No appropriate stepsize found via backtracking; interrupting. The reason could be input data that is not standardized.\n",
      "└ @ MLJLinearModels C:\\Users\\jeffr\\.julia\\packages\\MLJLinearModels\\oDTrS\\src\\fit\\proxgrad.jl:50\n",
      "┌ Warning: Proximal GD did not converge in 1000 iterations.\n",
      "└ @ MLJLinearModels C:\\Users\\jeffr\\.julia\\packages\\MLJLinearModels\\oDTrS\\src\\fit\\proxgrad.jl:64\n",
      "┌ Warning: No appropriate stepsize found via backtracking; interrupting. The reason could be input data that is not standardized.\n",
      "└ @ MLJLinearModels C:\\Users\\jeffr\\.julia\\packages\\MLJLinearModels\\oDTrS\\src\\fit\\proxgrad.jl:50\n",
      "┌ Warning: Proximal GD did not converge in 1000 iterations.\n",
      "└ @ MLJLinearModels C:\\Users\\jeffr\\.julia\\packages\\MLJLinearModels\\oDTrS\\src\\fit\\proxgrad.jl:64\n",
      "\u001b[33mEvaluating over 100 metamodels:  94%[=======================> ]  ETA: 0:00:00\u001b[39m┌ Warning: No appropriate stepsize found via backtracking; interrupting. The reason could be input data that is not standardized.\n",
      "└ @ MLJLinearModels C:\\Users\\jeffr\\.julia\\packages\\MLJLinearModels\\oDTrS\\src\\fit\\proxgrad.jl:50\n",
      "┌ Warning: Proximal GD did not converge in 1000 iterations.\n",
      "└ @ MLJLinearModels C:\\Users\\jeffr\\.julia\\packages\\MLJLinearModels\\oDTrS\\src\\fit\\proxgrad.jl:64\n",
      "┌ Warning: No appropriate stepsize found via backtracking; interrupting. The reason could be input data that is not standardized.\n",
      "└ @ MLJLinearModels C:\\Users\\jeffr\\.julia\\packages\\MLJLinearModels\\oDTrS\\src\\fit\\proxgrad.jl:50\n",
      "┌ Warning: Proximal GD did not converge in 1000 iterations.\n",
      "└ @ MLJLinearModels C:\\Users\\jeffr\\.julia\\packages\\MLJLinearModels\\oDTrS\\src\\fit\\proxgrad.jl:64\n",
      "┌ Warning: No appropriate stepsize found via backtracking; interrupting. The reason could be input data that is not standardized.\n",
      "└ @ MLJLinearModels C:\\Users\\jeffr\\.julia\\packages\\MLJLinearModels\\oDTrS\\src\\fit\\proxgrad.jl:50\n",
      "┌ Warning: Proximal GD did not converge in 1000 iterations.\n",
      "└ @ MLJLinearModels C:\\Users\\jeffr\\.julia\\packages\\MLJLinearModels\\oDTrS\\src\\fit\\proxgrad.jl:64\n",
      "\u001b[33mEvaluating over 100 metamodels:  95%[=======================> ]  ETA: 0:00:00\u001b[39m┌ Warning: No appropriate stepsize found via backtracking; interrupting. The reason could be input data that is not standardized.\n",
      "└ @ MLJLinearModels C:\\Users\\jeffr\\.julia\\packages\\MLJLinearModels\\oDTrS\\src\\fit\\proxgrad.jl:50\n",
      "┌ Warning: Proximal GD did not converge in 1000 iterations.\n",
      "└ @ MLJLinearModels C:\\Users\\jeffr\\.julia\\packages\\MLJLinearModels\\oDTrS\\src\\fit\\proxgrad.jl:64\n",
      "┌ Warning: No appropriate stepsize found via backtracking; interrupting. The reason could be input data that is not standardized.\n",
      "└ @ MLJLinearModels C:\\Users\\jeffr\\.julia\\packages\\MLJLinearModels\\oDTrS\\src\\fit\\proxgrad.jl:50\n",
      "┌ Warning: Proximal GD did not converge in 1000 iterations.\n",
      "└ @ MLJLinearModels C:\\Users\\jeffr\\.julia\\packages\\MLJLinearModels\\oDTrS\\src\\fit\\proxgrad.jl:64\n",
      "┌ Warning: No appropriate stepsize found via backtracking; interrupting. The reason could be input data that is not standardized.\n",
      "└ @ MLJLinearModels C:\\Users\\jeffr\\.julia\\packages\\MLJLinearModels\\oDTrS\\src\\fit\\proxgrad.jl:50\n",
      "┌ Warning: Proximal GD did not converge in 1000 iterations.\n",
      "└ @ MLJLinearModels C:\\Users\\jeffr\\.julia\\packages\\MLJLinearModels\\oDTrS\\src\\fit\\proxgrad.jl:64\n",
      "\u001b[33mEvaluating over 100 metamodels:  96%[========================>]  ETA: 0:00:00\u001b[39m┌ Warning: No appropriate stepsize found via backtracking; interrupting. The reason could be input data that is not standardized.\n",
      "└ @ MLJLinearModels C:\\Users\\jeffr\\.julia\\packages\\MLJLinearModels\\oDTrS\\src\\fit\\proxgrad.jl:50\n",
      "┌ Warning: Proximal GD did not converge in 1000 iterations.\n",
      "└ @ MLJLinearModels C:\\Users\\jeffr\\.julia\\packages\\MLJLinearModels\\oDTrS\\src\\fit\\proxgrad.jl:64\n",
      "┌ Warning: No appropriate stepsize found via backtracking; interrupting. The reason could be input data that is not standardized.\n",
      "└ @ MLJLinearModels C:\\Users\\jeffr\\.julia\\packages\\MLJLinearModels\\oDTrS\\src\\fit\\proxgrad.jl:50\n",
      "┌ Warning: Proximal GD did not converge in 1000 iterations.\n",
      "└ @ MLJLinearModels C:\\Users\\jeffr\\.julia\\packages\\MLJLinearModels\\oDTrS\\src\\fit\\proxgrad.jl:64\n",
      "┌ Warning: No appropriate stepsize found via backtracking; interrupting. The reason could be input data that is not standardized.\n",
      "└ @ MLJLinearModels C:\\Users\\jeffr\\.julia\\packages\\MLJLinearModels\\oDTrS\\src\\fit\\proxgrad.jl:50\n",
      "┌ Warning: Proximal GD did not converge in 1000 iterations.\n",
      "└ @ MLJLinearModels C:\\Users\\jeffr\\.julia\\packages\\MLJLinearModels\\oDTrS\\src\\fit\\proxgrad.jl:64\n",
      "\u001b[33mEvaluating over 100 metamodels:  97%[========================>]  ETA: 0:00:00\u001b[39m┌ Warning: No appropriate stepsize found via backtracking; interrupting. The reason could be input data that is not standardized.\n",
      "└ @ MLJLinearModels C:\\Users\\jeffr\\.julia\\packages\\MLJLinearModels\\oDTrS\\src\\fit\\proxgrad.jl:50\n",
      "┌ Warning: Proximal GD did not converge in 1000 iterations.\n",
      "└ @ MLJLinearModels C:\\Users\\jeffr\\.julia\\packages\\MLJLinearModels\\oDTrS\\src\\fit\\proxgrad.jl:64\n",
      "┌ Warning: No appropriate stepsize found via backtracking; interrupting. The reason could be input data that is not standardized.\n",
      "└ @ MLJLinearModels C:\\Users\\jeffr\\.julia\\packages\\MLJLinearModels\\oDTrS\\src\\fit\\proxgrad.jl:50\n",
      "┌ Warning: Proximal GD did not converge in 1000 iterations.\n",
      "└ @ MLJLinearModels C:\\Users\\jeffr\\.julia\\packages\\MLJLinearModels\\oDTrS\\src\\fit\\proxgrad.jl:64\n",
      "┌ Warning: No appropriate stepsize found via backtracking; interrupting. The reason could be input data that is not standardized.\n",
      "└ @ MLJLinearModels C:\\Users\\jeffr\\.julia\\packages\\MLJLinearModels\\oDTrS\\src\\fit\\proxgrad.jl:50\n",
      "┌ Warning: Proximal GD did not converge in 1000 iterations.\n",
      "└ @ MLJLinearModels C:\\Users\\jeffr\\.julia\\packages\\MLJLinearModels\\oDTrS\\src\\fit\\proxgrad.jl:64\n"
     ]
    },
    {
     "name": "stderr",
     "output_type": "stream",
     "text": [
      "\u001b[33mEvaluating over 100 metamodels:  98%[========================>]  ETA: 0:00:00\u001b[39m┌ Warning: No appropriate stepsize found via backtracking; interrupting. The reason could be input data that is not standardized.\n",
      "└ @ MLJLinearModels C:\\Users\\jeffr\\.julia\\packages\\MLJLinearModels\\oDTrS\\src\\fit\\proxgrad.jl:50\n",
      "┌ Warning: Proximal GD did not converge in 1000 iterations.\n",
      "└ @ MLJLinearModels C:\\Users\\jeffr\\.julia\\packages\\MLJLinearModels\\oDTrS\\src\\fit\\proxgrad.jl:64\n",
      "┌ Warning: No appropriate stepsize found via backtracking; interrupting. The reason could be input data that is not standardized.\n",
      "└ @ MLJLinearModels C:\\Users\\jeffr\\.julia\\packages\\MLJLinearModels\\oDTrS\\src\\fit\\proxgrad.jl:50\n",
      "┌ Warning: Proximal GD did not converge in 1000 iterations.\n",
      "└ @ MLJLinearModels C:\\Users\\jeffr\\.julia\\packages\\MLJLinearModels\\oDTrS\\src\\fit\\proxgrad.jl:64\n",
      "┌ Warning: No appropriate stepsize found via backtracking; interrupting. The reason could be input data that is not standardized.\n",
      "└ @ MLJLinearModels C:\\Users\\jeffr\\.julia\\packages\\MLJLinearModels\\oDTrS\\src\\fit\\proxgrad.jl:50\n",
      "┌ Warning: Proximal GD did not converge in 1000 iterations.\n",
      "└ @ MLJLinearModels C:\\Users\\jeffr\\.julia\\packages\\MLJLinearModels\\oDTrS\\src\\fit\\proxgrad.jl:64\n",
      "\u001b[33mEvaluating over 100 metamodels:  99%[========================>]  ETA: 0:00:00\u001b[39m┌ Warning: No appropriate stepsize found via backtracking; interrupting. The reason could be input data that is not standardized.\n",
      "└ @ MLJLinearModels C:\\Users\\jeffr\\.julia\\packages\\MLJLinearModels\\oDTrS\\src\\fit\\proxgrad.jl:50\n",
      "┌ Warning: Proximal GD did not converge in 1000 iterations.\n",
      "└ @ MLJLinearModels C:\\Users\\jeffr\\.julia\\packages\\MLJLinearModels\\oDTrS\\src\\fit\\proxgrad.jl:64\n",
      "┌ Warning: No appropriate stepsize found via backtracking; interrupting. The reason could be input data that is not standardized.\n",
      "└ @ MLJLinearModels C:\\Users\\jeffr\\.julia\\packages\\MLJLinearModels\\oDTrS\\src\\fit\\proxgrad.jl:50\n",
      "┌ Warning: Proximal GD did not converge in 1000 iterations.\n",
      "└ @ MLJLinearModels C:\\Users\\jeffr\\.julia\\packages\\MLJLinearModels\\oDTrS\\src\\fit\\proxgrad.jl:64\n",
      "┌ Warning: No appropriate stepsize found via backtracking; interrupting. The reason could be input data that is not standardized.\n",
      "└ @ MLJLinearModels C:\\Users\\jeffr\\.julia\\packages\\MLJLinearModels\\oDTrS\\src\\fit\\proxgrad.jl:50\n",
      "┌ Warning: Proximal GD did not converge in 1000 iterations.\n",
      "└ @ MLJLinearModels C:\\Users\\jeffr\\.julia\\packages\\MLJLinearModels\\oDTrS\\src\\fit\\proxgrad.jl:64\n",
      "\u001b[33mEvaluating over 100 metamodels: 100%[=========================] Time: 0:00:02\u001b[39m\n",
      "┌ Warning: No appropriate stepsize found via backtracking; interrupting. The reason could be input data that is not standardized.\n",
      "└ @ MLJLinearModels C:\\Users\\jeffr\\.julia\\packages\\MLJLinearModels\\oDTrS\\src\\fit\\proxgrad.jl:50\n",
      "┌ Warning: Proximal GD did not converge in 1000 iterations.\n",
      "└ @ MLJLinearModels C:\\Users\\jeffr\\.julia\\packages\\MLJLinearModels\\oDTrS\\src\\fit\\proxgrad.jl:64\n"
     ]
    },
    {
     "name": "stdout",
     "output_type": "stream",
     "text": [
      "round(best_mdl.linear_regressor.lambda, sigdigits = 4) = 0.1\n",
      "round(best_mdl.linear_regressor.gamma, sigdigits = 4) = 7169.0\n"
     ]
    },
    {
     "data": {
      "text/plain": [
       "7169.0"
      ]
     },
     "execution_count": 36,
     "metadata": {},
     "output_type": "execute_result"
    }
   ],
   "source": [
    "ElasticNetRegressor = @load ElasticNetRegressor pkg=MLJLinearModels\n",
    "\n",
    "mtm.model.model.linear_regressor = ElasticNetRegressor()\n",
    "mtm.model.range = [range(model, :(linear_regressor.lambda), lower = 0.1, upper = 100, scale=:log10),\n",
    "                    range(model, :(linear_regressor.gamma), lower = 500, upper = 10_000, scale=:log10)]\n",
    "mtm.model.tuning = Grid(resolution = 10)\n",
    "fit!(mtm, rows = train)\n",
    "\n",
    "best_mdl = fitted_params(mtm).best_model\n",
    "@show round(best_mdl.linear_regressor.lambda, sigdigits = 4)\n",
    "@show round(best_mdl.linear_regressor.gamma, sigdigits = 4)"
   ]
  },
  {
   "cell_type": "markdown",
   "id": "3926eadd",
   "metadata": {},
   "source": [
    "And it's not too bad in terms of accuracy either"
   ]
  },
  {
   "cell_type": "code",
   "execution_count": 37,
   "id": "1921b7ca",
   "metadata": {},
   "outputs": [
    {
     "data": {
      "text/plain": [
       "128500.0"
      ]
     },
     "execution_count": 37,
     "metadata": {},
     "output_type": "execute_result"
    }
   ],
   "source": [
    "ŷ = MLJ.predict(mtm, rows = test)\n",
    "round(rms(ŷ, y[test])^2, sigdigits = 4)"
   ]
  }
 ],
 "metadata": {
  "hide_input": false,
  "kernelspec": {
   "display_name": "Julia 1.7.3",
   "language": "julia",
   "name": "julia-1.7"
  },
  "language_info": {
   "file_extension": ".jl",
   "mimetype": "application/julia",
   "name": "julia",
   "version": "1.7.3"
  }
 },
 "nbformat": 4,
 "nbformat_minor": 5
}
