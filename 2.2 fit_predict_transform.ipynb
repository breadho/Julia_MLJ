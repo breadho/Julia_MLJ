{
 "cells": [
  {
   "cell_type": "markdown",
   "id": "a76ffdc0",
   "metadata": {},
   "source": [
    "# Getting started"
   ]
  },
  {
   "cell_type": "markdown",
   "id": "61a3071d",
   "metadata": {},
   "source": [
    "## Fit, predict, transform"
   ]
  },
  {
   "cell_type": "code",
   "execution_count": 1,
   "id": "6b7ecd21",
   "metadata": {},
   "outputs": [
    {
     "name": "stderr",
     "output_type": "stream",
     "text": [
      "\u001b[32m\u001b[1m  Activating\u001b[22m\u001b[39m project at `D:\\JULIA\\6_ML_with_Julia\\A-fit-predict`\n"
     ]
    }
   ],
   "source": [
    "using Pkg; Pkg.activate(\"D:/JULIA/6_ML_with_Julia/A-fit-predict\"); Pkg.instantiate()"
   ]
  },
  {
   "cell_type": "markdown",
   "id": "5336c0a5",
   "metadata": {},
   "source": [
    "> Preliminary steps\n",
    "> * Data\n",
    "> * MLJ Machine\n",
    "\n",
    "> Training and testing a supervised model\n",
    "> * Splitting the data\n",
    "> * Fitting and testing the machine\n",
    "\n",
    "> Unsupervised models"
   ]
  },
  {
   "cell_type": "markdown",
   "id": "e71dc75e",
   "metadata": {},
   "source": [
    "### Preliminary steps\n",
    "---"
   ]
  },
  {
   "cell_type": "markdown",
   "id": "96653c9c",
   "metadata": {},
   "source": [
    "### Data"
   ]
  },
  {
   "cell_type": "markdown",
   "id": "5f6cd8c5",
   "metadata": {},
   "source": [
    "As in \"choosing a model\", let's load the Iris dataset and unpack it:"
   ]
  },
  {
   "cell_type": "code",
   "execution_count": 2,
   "id": "70e5ca85",
   "metadata": {},
   "outputs": [],
   "source": [
    "using MLJ\n",
    "import Statistics\n",
    "using PrettyPrinting\n",
    "using StableRNGs\n",
    "\n",
    "X, y = @load_iris;"
   ]
  },
  {
   "cell_type": "markdown",
   "id": "d19b7a77",
   "metadata": {},
   "source": [
    "let's also load the ```DecisionTreeClassifier```:"
   ]
  },
  {
   "cell_type": "code",
   "execution_count": 3,
   "id": "1a3facca",
   "metadata": {
    "scrolled": true
   },
   "outputs": [
    {
     "name": "stdout",
     "output_type": "stream",
     "text": [
      "import MLJDecisionTreeInterface ✔\n"
     ]
    },
    {
     "name": "stderr",
     "output_type": "stream",
     "text": [
      "┌ Info: For silent loading, specify `verbosity=0`. \n",
      "└ @ Main C:\\Users\\jeffr\\.julia\\packages\\MLJModels\\tMgLW\\src\\loading.jl:168\n"
     ]
    },
    {
     "data": {
      "text/plain": [
       "DecisionTreeClassifier(\n",
       "    max_depth = -1,\n",
       "    min_samples_leaf = 1,\n",
       "    min_samples_split = 2,\n",
       "    min_purity_increase = 0.0,\n",
       "    n_subfeatures = 0,\n",
       "    post_prune = false,\n",
       "    merge_purity_threshold = 1.0,\n",
       "    pdf_smoothing = 0.0,\n",
       "    display_depth = 5,\n",
       "    rng = Random._GLOBAL_RNG())"
      ]
     },
     "execution_count": 3,
     "metadata": {},
     "output_type": "execute_result"
    }
   ],
   "source": [
    "DecisionTreeClassifier = @load DecisionTreeClassifier pkg = DecisionTree\n",
    "tree_model = DecisionTreeClassifier()"
   ]
  },
  {
   "cell_type": "markdown",
   "id": "06db8df0",
   "metadata": {},
   "source": [
    "### MLJ Machine"
   ]
  },
  {
   "cell_type": "markdown",
   "id": "66d89d1c",
   "metadata": {},
   "source": [
    "In MLJ, remember that a _model_ is an object that only serves as a container for the hyperparameters of the model. A machine is an object wrapping both a model and data and can contain information on the trained model; it does not fit the model by itself. However, it does check that the model is compatible with the scientific type of the data and will warn you otherwise."
   ]
  },
  {
   "cell_type": "code",
   "execution_count": 4,
   "id": "7f942a87",
   "metadata": {},
   "outputs": [
    {
     "data": {
      "text/plain": [
       "Machine{DecisionTreeClassifier,…} trained 0 times; caches data\n",
       "  model: MLJDecisionTreeInterface.DecisionTreeClassifier\n",
       "  args: \n",
       "    1:\tSource @676 ⏎ `Table{AbstractVector{Continuous}}`\n",
       "    2:\tSource @159 ⏎ `AbstractVector{Multiclass{3}}`\n"
      ]
     },
     "execution_count": 4,
     "metadata": {},
     "output_type": "execute_result"
    }
   ],
   "source": [
    "tree = machine(tree_model, X, y)"
   ]
  },
  {
   "cell_type": "markdown",
   "id": "daaa598e",
   "metadata": {},
   "source": [
    "A machine is used both for supervised and unsupervised model. In this tutorial we give an example for the supervised model first and then go on with the unsupervised case."
   ]
  },
  {
   "cell_type": "markdown",
   "id": "fda91775",
   "metadata": {},
   "source": [
    "### Training and testing a supervised model\n",
    "---"
   ]
  },
  {
   "cell_type": "markdown",
   "id": "537c8147",
   "metadata": {},
   "source": [
    "Now that you've declared the model you'd like to consider and the data, we are left with the standard training and testing step for a supervised learning algorithm."
   ]
  },
  {
   "cell_type": "markdown",
   "id": "10e9fdc7",
   "metadata": {},
   "source": [
    "### Splitting the data"
   ]
  },
  {
   "cell_type": "markdown",
   "id": "6cd250ad",
   "metadata": {},
   "source": [
    "To split the data into a _training_ and testing set, you can use the function ```partition``` to obtain indices for data points that should be considered either as training or testing data:"
   ]
  },
  {
   "cell_type": "code",
   "execution_count": 5,
   "id": "c27ce4b6",
   "metadata": {},
   "outputs": [
    {
     "data": {
      "text/plain": [
       "StableRNGs.LehmerRNG(state=0x0000000000000000000000000000046d)"
      ]
     },
     "execution_count": 5,
     "metadata": {},
     "output_type": "execute_result"
    }
   ],
   "source": [
    "rng = StableRNG(566)"
   ]
  },
  {
   "cell_type": "code",
   "execution_count": 6,
   "id": "350e8d04",
   "metadata": {},
   "outputs": [
    {
     "data": {
      "text/plain": [
       "([131, 145, 67, 55, 49, 18, 87, 2, 108, 109  …  41, 8, 58, 147, 120, 50, 92, 95, 105, 118], [39, 54, 9, 107, 97, 135, 68, 22, 1, 88  …  96, 80, 12, 33, 99, 16, 10, 114, 70, 113])"
      ]
     },
     "execution_count": 6,
     "metadata": {},
     "output_type": "execute_result"
    }
   ],
   "source": [
    "# eachindex : 인덱스 추출 내장 함수\n",
    "# partition : R의 sample / python의 sklearn.model_selection.train_test_split 과 유사 역할\n",
    "\n",
    "train, test = partition(eachindex(y), 0.7, shuffle = true, rng = rng)"
   ]
  },
  {
   "cell_type": "code",
   "execution_count": 7,
   "id": "1a4aa0d2",
   "metadata": {},
   "outputs": [
    {
     "data": {
      "text/plain": [
       "3-element Vector{Int64}:\n",
       " 39\n",
       " 54\n",
       "  9"
      ]
     },
     "execution_count": 7,
     "metadata": {},
     "output_type": "execute_result"
    }
   ],
   "source": [
    "test[1:3]"
   ]
  },
  {
   "cell_type": "markdown",
   "id": "65b1aa8e",
   "metadata": {},
   "source": [
    "### Fitting and testing the machine"
   ]
  },
  {
   "cell_type": "markdown",
   "id": "41e4b73c",
   "metadata": {},
   "source": [
    "To fit the machine, you can use the function ```fit!``` specifying the rows to be used for the training:"
   ]
  },
  {
   "cell_type": "code",
   "execution_count": 8,
   "id": "0ec78a3a",
   "metadata": {},
   "outputs": [
    {
     "name": "stderr",
     "output_type": "stream",
     "text": [
      "┌ Info: Training Machine{DecisionTreeClassifier,…}.\n",
      "└ @ MLJBase C:\\Users\\jeffr\\.julia\\packages\\MLJBase\\MuLnJ\\src\\machines.jl:464\n"
     ]
    },
    {
     "data": {
      "text/plain": [
       "Machine{DecisionTreeClassifier,…} trained 1 time; caches data\n",
       "  model: MLJDecisionTreeInterface.DecisionTreeClassifier\n",
       "  args: \n",
       "    1:\tSource @676 ⏎ `Table{AbstractVector{Continuous}}`\n",
       "    2:\tSource @159 ⏎ `AbstractVector{Multiclass{3}}`\n"
      ]
     },
     "execution_count": 8,
     "metadata": {},
     "output_type": "execute_result"
    }
   ],
   "source": [
    "fit!(tree, rows = train)"
   ]
  },
  {
   "cell_type": "markdown",
   "id": "46d2bccb",
   "metadata": {},
   "source": [
    "Note that this **modifies** the machine which now contains the trained parameters of the decision tree. You can inspect the result of the fitting with the ```fitted_params``` method:"
   ]
  },
  {
   "cell_type": "code",
   "execution_count": 9,
   "id": "0d72eff1",
   "metadata": {},
   "outputs": [
    {
     "name": "stdout",
     "output_type": "stream",
     "text": [
      "(tree = Decision Tree\n",
      "Leaves: 5\n",
      "Depth:  4,\n",
      " encoding =\n",
      "     Dict(CategoricalArrays.CategoricalValue{String, UInt32} \"virginica\" =>\n",
      "              0x00000003,\n",
      "          CategoricalArrays.CategoricalValue{String, UInt32} \"setosa\" =>\n",
      "              0x00000001,\n",
      "          CategoricalArrays.CategoricalValue{String, UInt32} \"versicolor\" =>\n",
      "              0x00000002))"
     ]
    }
   ],
   "source": [
    "fitted_params(tree) |> pprint"
   ]
  },
  {
   "cell_type": "code",
   "execution_count": 10,
   "id": "b7f1b28c",
   "metadata": {},
   "outputs": [
    {
     "data": {
      "text/plain": [
       "(Source @676, Source @159)"
      ]
     },
     "execution_count": 10,
     "metadata": {},
     "output_type": "execute_result"
    }
   ],
   "source": [
    "tree.args"
   ]
  },
  {
   "cell_type": "code",
   "execution_count": 11,
   "id": "f785862e",
   "metadata": {},
   "outputs": [
    {
     "data": {
      "text/plain": [
       "((sepal_length = [5.1, 4.9, 4.7, 4.6, 5.0, 5.4, 4.6, 5.0, 4.4, 4.9  …  6.7, 6.9, 5.8, 6.8, 6.7, 6.7, 6.3, 6.5, 6.2, 5.9], sepal_width = [3.5, 3.0, 3.2, 3.1, 3.6, 3.9, 3.4, 3.4, 2.9, 3.1  …  3.1, 3.1, 2.7, 3.2, 3.3, 3.0, 2.5, 3.0, 3.4, 3.0], petal_length = [1.4, 1.4, 1.3, 1.5, 1.4, 1.7, 1.4, 1.5, 1.4, 1.5  …  5.6, 5.1, 5.1, 5.9, 5.7, 5.2, 5.0, 5.2, 5.4, 5.1], petal_width = [0.2, 0.2, 0.2, 0.2, 0.2, 0.4, 0.3, 0.2, 0.2, 0.1  …  2.4, 2.3, 1.9, 2.3, 2.5, 2.3, 1.9, 2.0, 2.3, 1.8]), CategoricalArrays.CategoricalValue{String, UInt32}[\"setosa\", \"setosa\", \"setosa\", \"setosa\", \"setosa\", \"setosa\", \"setosa\", \"setosa\", \"setosa\", \"setosa\"  …  \"virginica\", \"virginica\", \"virginica\", \"virginica\", \"virginica\", \"virginica\", \"virginica\", \"virginica\", \"virginica\", \"virginica\"])"
      ]
     },
     "execution_count": 11,
     "metadata": {},
     "output_type": "execute_result"
    }
   ],
   "source": [
    "tree.data"
   ]
  },
  {
   "cell_type": "code",
   "execution_count": 12,
   "id": "95ed152c",
   "metadata": {},
   "outputs": [
    {
     "data": {
      "text/plain": [
       "Channel{Bool}(1) (empty)"
      ]
     },
     "execution_count": 12,
     "metadata": {},
     "output_type": "execute_result"
    }
   ],
   "source": [
    "tree.fit_okay # true == 1"
   ]
  },
  {
   "cell_type": "code",
   "execution_count": 13,
   "id": "9462535b",
   "metadata": {},
   "outputs": [
    {
     "data": {
      "text/plain": [
       "(Decision Tree\n",
       "Leaves: 5\n",
       "Depth:  4, CategoricalArrays.CategoricalValue{String, UInt32}[\"setosa\", \"versicolor\", \"virginica\"], UInt32[0x00000001, 0x00000002, 0x00000003])"
      ]
     },
     "execution_count": 13,
     "metadata": {},
     "output_type": "execute_result"
    }
   ],
   "source": [
    "tree.fitresult"
   ]
  },
  {
   "cell_type": "code",
   "execution_count": 14,
   "id": "1d4ddabf",
   "metadata": {},
   "outputs": [
    {
     "data": {
      "text/plain": [
       "false"
      ]
     },
     "execution_count": 14,
     "metadata": {},
     "output_type": "execute_result"
    }
   ],
   "source": [
    "tree.frozen"
   ]
  },
  {
   "cell_type": "code",
   "execution_count": 15,
   "id": "6f2add93",
   "metadata": {},
   "outputs": [
    {
     "data": {
      "text/plain": [
       "DecisionTreeClassifier(\n",
       "    max_depth = -1,\n",
       "    min_samples_leaf = 1,\n",
       "    min_samples_split = 2,\n",
       "    min_purity_increase = 0.0,\n",
       "    n_subfeatures = 0,\n",
       "    post_prune = false,\n",
       "    merge_purity_threshold = 1.0,\n",
       "    pdf_smoothing = 0.0,\n",
       "    display_depth = 5,\n",
       "    rng = Random._GLOBAL_RNG())"
      ]
     },
     "execution_count": 15,
     "metadata": {},
     "output_type": "execute_result"
    }
   ],
   "source": [
    "tree.model"
   ]
  },
  {
   "cell_type": "code",
   "execution_count": 16,
   "id": "5534979b",
   "metadata": {},
   "outputs": [
    {
     "data": {
      "text/plain": [
       "DecisionTreeClassifier(\n",
       "    max_depth = -1,\n",
       "    min_samples_leaf = 1,\n",
       "    min_samples_split = 2,\n",
       "    min_purity_increase = 0.0,\n",
       "    n_subfeatures = 0,\n",
       "    post_prune = false,\n",
       "    merge_purity_threshold = 1.0,\n",
       "    pdf_smoothing = 0.0,\n",
       "    display_depth = 5,\n",
       "    rng = Random._GLOBAL_RNG())"
      ]
     },
     "execution_count": 16,
     "metadata": {},
     "output_type": "execute_result"
    }
   ],
   "source": [
    "tree.old_model"
   ]
  },
  {
   "cell_type": "code",
   "execution_count": 17,
   "id": "1801e555",
   "metadata": {},
   "outputs": [
    {
     "data": {
      "text/plain": [
       "105-element Vector{Int64}:\n",
       " 131\n",
       " 145\n",
       "  67\n",
       "  55\n",
       "  49\n",
       "  18\n",
       "  87\n",
       "   2\n",
       " 108\n",
       " 109\n",
       " 133\n",
       "  34\n",
       "  60\n",
       "   ⋮\n",
       "  40\n",
       "  98\n",
       "  41\n",
       "   8\n",
       "  58\n",
       " 147\n",
       " 120\n",
       "  50\n",
       "  92\n",
       "  95\n",
       " 105\n",
       " 118"
      ]
     },
     "execution_count": 17,
     "metadata": {},
     "output_type": "execute_result"
    }
   ],
   "source": [
    "tree.old_rows"
   ]
  },
  {
   "cell_type": "code",
   "execution_count": 18,
   "id": "c4d4e5ac",
   "metadata": {},
   "outputs": [
    {
     "data": {
      "text/plain": [
       "()"
      ]
     },
     "execution_count": 18,
     "metadata": {},
     "output_type": "execute_result"
    }
   ],
   "source": [
    "tree.old_upstream_state"
   ]
  },
  {
   "cell_type": "code",
   "execution_count": 19,
   "id": "10322657",
   "metadata": {},
   "outputs": [
    {
     "data": {
      "text/plain": [
       "(classes_seen = CategoricalArrays.CategoricalValue{String, UInt32}[\"setosa\", \"versicolor\", \"virginica\"],\n",
       " print_tree = TreePrinter object (call with display depth),)"
      ]
     },
     "execution_count": 19,
     "metadata": {},
     "output_type": "execute_result"
    }
   ],
   "source": [
    "tree.report"
   ]
  },
  {
   "cell_type": "code",
   "execution_count": 20,
   "id": "f30f34bb",
   "metadata": {},
   "outputs": [
    {
     "data": {
      "text/plain": [
       "((sepal_length = [7.4, 6.7, 5.6, 6.5, 5.3, 5.1, 6.7, 4.9, 7.3, 6.7  …  5.0, 5.0, 4.9, 6.3, 6.0, 5.0, 6.1, 5.6, 6.5, 7.7], sepal_width = [2.8, 3.3, 3.0, 2.8, 3.7, 3.5, 3.1, 3.0, 2.9, 2.5  …  3.5, 3.4, 2.4, 2.5, 2.2, 3.3, 3.0, 2.7, 3.0, 3.8], petal_length = [6.1, 5.7, 4.5, 4.6, 1.5, 1.4, 4.7, 1.4, 6.3, 5.8  …  1.3, 1.5, 3.3, 5.0, 5.0, 1.4, 4.6, 4.2, 5.8, 6.7], petal_width = [1.9, 2.5, 1.5, 1.5, 0.2, 0.3, 1.5, 0.2, 1.8, 1.8  …  0.3, 0.2, 1.0, 1.9, 1.5, 0.2, 1.4, 1.3, 2.2, 2.2]), CategoricalArrays.CategoricalValue{String, UInt32}[\"virginica\", \"virginica\", \"versicolor\", \"versicolor\", \"setosa\", \"setosa\", \"versicolor\", \"setosa\", \"virginica\", \"virginica\"  …  \"setosa\", \"setosa\", \"versicolor\", \"virginica\", \"virginica\", \"setosa\", \"versicolor\", \"versicolor\", \"virginica\", \"virginica\"])"
      ]
     },
     "execution_count": 20,
     "metadata": {},
     "output_type": "execute_result"
    }
   ],
   "source": [
    "tree.resampled_data"
   ]
  },
  {
   "cell_type": "code",
   "execution_count": 21,
   "id": "ca25e81a",
   "metadata": {},
   "outputs": [
    {
     "data": {
      "text/plain": [
       "1"
      ]
     },
     "execution_count": 21,
     "metadata": {},
     "output_type": "execute_result"
    }
   ],
   "source": [
    "tree.state"
   ]
  },
  {
   "cell_type": "markdown",
   "id": "928f0d0e",
   "metadata": {},
   "source": [
    "This ```fitresult``` will vary from model to model though classifiers will usually give out a tuple with the first element corresponding to the fitting and the second one keeping track of how classes are named (so that predictions can be appropriately named)."
   ]
  },
  {
   "cell_type": "markdown",
   "id": "5f5ff032",
   "metadata": {},
   "source": [
    "You can now use the machine to make predictions with the ```predict``` function specifying rows to be used for the prediction:"
   ]
  },
  {
   "cell_type": "code",
   "execution_count": 22,
   "id": "c1381db4",
   "metadata": {},
   "outputs": [
    {
     "data": {
      "text/plain": [
       "45-element CategoricalDistributions.UnivariateFiniteArray{Multiclass{3}, String, UInt32, Float64, 1}:\n",
       " UnivariateFinite{Multiclass{3}}(setosa=>1.0, versicolor=>0.0, virginica=>0.0)\n",
       " UnivariateFinite{Multiclass{3}}(setosa=>0.0, versicolor=>1.0, virginica=>0.0)\n",
       " UnivariateFinite{Multiclass{3}}(setosa=>1.0, versicolor=>0.0, virginica=>0.0)\n",
       " UnivariateFinite{Multiclass{3}}(setosa=>0.0, versicolor=>1.0, virginica=>0.0)\n",
       " UnivariateFinite{Multiclass{3}}(setosa=>0.0, versicolor=>1.0, virginica=>0.0)\n",
       " UnivariateFinite{Multiclass{3}}(setosa=>0.0, versicolor=>0.0, virginica=>1.0)\n",
       " UnivariateFinite{Multiclass{3}}(setosa=>0.0, versicolor=>1.0, virginica=>0.0)\n",
       " UnivariateFinite{Multiclass{3}}(setosa=>1.0, versicolor=>0.0, virginica=>0.0)\n",
       " UnivariateFinite{Multiclass{3}}(setosa=>1.0, versicolor=>0.0, virginica=>0.0)\n",
       " UnivariateFinite{Multiclass{3}}(setosa=>0.0, versicolor=>1.0, virginica=>0.0)\n",
       " UnivariateFinite{Multiclass{3}}(setosa=>0.0, versicolor=>1.0, virginica=>0.0)\n",
       " UnivariateFinite{Multiclass{3}}(setosa=>0.0, versicolor=>1.0, virginica=>0.0)\n",
       " UnivariateFinite{Multiclass{3}}(setosa=>0.0, versicolor=>0.0, virginica=>1.0)\n",
       " ⋮\n",
       " UnivariateFinite{Multiclass{3}}(setosa=>0.0, versicolor=>1.0, virginica=>0.0)\n",
       " UnivariateFinite{Multiclass{3}}(setosa=>0.0, versicolor=>1.0, virginica=>0.0)\n",
       " UnivariateFinite{Multiclass{3}}(setosa=>0.0, versicolor=>1.0, virginica=>0.0)\n",
       " UnivariateFinite{Multiclass{3}}(setosa=>0.0, versicolor=>1.0, virginica=>0.0)\n",
       " UnivariateFinite{Multiclass{3}}(setosa=>1.0, versicolor=>0.0, virginica=>0.0)\n",
       " UnivariateFinite{Multiclass{3}}(setosa=>1.0, versicolor=>0.0, virginica=>0.0)\n",
       " UnivariateFinite{Multiclass{3}}(setosa=>0.0, versicolor=>1.0, virginica=>0.0)\n",
       " UnivariateFinite{Multiclass{3}}(setosa=>1.0, versicolor=>0.0, virginica=>0.0)\n",
       " UnivariateFinite{Multiclass{3}}(setosa=>1.0, versicolor=>0.0, virginica=>0.0)\n",
       " UnivariateFinite{Multiclass{3}}(setosa=>0.0, versicolor=>0.0, virginica=>1.0)\n",
       " UnivariateFinite{Multiclass{3}}(setosa=>0.0, versicolor=>1.0, virginica=>0.0)\n",
       " UnivariateFinite{Multiclass{3}}(setosa=>0.0, versicolor=>0.0, virginica=>1.0)"
      ]
     },
     "execution_count": 22,
     "metadata": {},
     "output_type": "execute_result"
    }
   ],
   "source": [
    "ŷ = predict(tree, rows = test) # y\\hat + tab"
   ]
  },
  {
   "cell_type": "code",
   "execution_count": 23,
   "id": "43fe48fd",
   "metadata": {},
   "outputs": [
    {
     "name": "stdout",
     "output_type": "stream",
     "text": [
      "ŷ[1] = UnivariateFinite{Multiclass{3}}(setosa=>1.0, versicolor=>0.0, virginica=>0.0)\n"
     ]
    },
    {
     "data": {
      "text/plain": [
       "                    \u001b[1mUnivariateFinite{Multiclass{3}}\u001b[22m      \n",
       "              \u001b[90m┌                                        ┐\u001b[39m \n",
       "       \u001b[0msetosa \u001b[90m┤\u001b[39m\u001b[38;5;2m■■■■■■■■■■■■■■■■■■■■■■■■■■■■■■■■■■■\u001b[39m\u001b[0m 1.0 \u001b[90m \u001b[39m \n",
       "   \u001b[0mversicolor \u001b[90m┤\u001b[39m\u001b[0m 0.0                                    \u001b[90m \u001b[39m \n",
       "    \u001b[0mvirginica \u001b[90m┤\u001b[39m\u001b[0m 0.0                                    \u001b[90m \u001b[39m \n",
       "              \u001b[90m└                                        ┘\u001b[39m "
      ]
     },
     "execution_count": 23,
     "metadata": {},
     "output_type": "execute_result"
    }
   ],
   "source": [
    "@show ŷ[1]"
   ]
  },
  {
   "cell_type": "markdown",
   "id": "4a561672",
   "metadata": {},
   "source": [
    "Note that the output is probabilistic, effectively a vector with a score for each class. You could get the mode by using the ```mode``` function on ```ŷ``` or using ```predict_mode```:"
   ]
  },
  {
   "cell_type": "code",
   "execution_count": 24,
   "id": "242f7a84",
   "metadata": {},
   "outputs": [
    {
     "data": {
      "text/plain": [
       "45-element CategoricalArrays.CategoricalArray{String,1,UInt32}:\n",
       " \"setosa\"\n",
       " \"versicolor\"\n",
       " \"setosa\"\n",
       " \"versicolor\"\n",
       " \"versicolor\"\n",
       " \"virginica\"\n",
       " \"versicolor\"\n",
       " \"setosa\"\n",
       " \"setosa\"\n",
       " \"versicolor\"\n",
       " \"versicolor\"\n",
       " \"versicolor\"\n",
       " \"virginica\"\n",
       " ⋮\n",
       " \"versicolor\"\n",
       " \"versicolor\"\n",
       " \"versicolor\"\n",
       " \"versicolor\"\n",
       " \"setosa\"\n",
       " \"setosa\"\n",
       " \"versicolor\"\n",
       " \"setosa\"\n",
       " \"setosa\"\n",
       " \"virginica\"\n",
       " \"versicolor\"\n",
       " \"virginica\""
      ]
     },
     "execution_count": 24,
     "metadata": {},
     "output_type": "execute_result"
    }
   ],
   "source": [
    "ȳ = predict_mode(tree, rows = test)"
   ]
  },
  {
   "cell_type": "markdown",
   "id": "2def3f20",
   "metadata": {},
   "source": [
    "```predict_mode``` 함수는 확률값을 class로 바꿔줌 "
   ]
  },
  {
   "cell_type": "code",
   "execution_count": 25,
   "id": "6a2903d6",
   "metadata": {},
   "outputs": [
    {
     "name": "stdout",
     "output_type": "stream",
     "text": [
      "ȳ[1] = CategoricalArrays.CategoricalValue{String, UInt32} \"setosa\"\n"
     ]
    },
    {
     "data": {
      "text/plain": [
       "CategoricalArrays.CategoricalValue{String, UInt32} \"setosa\""
      ]
     },
     "execution_count": 25,
     "metadata": {},
     "output_type": "execute_result"
    }
   ],
   "source": [
    "@show ȳ[1]"
   ]
  },
  {
   "cell_type": "code",
   "execution_count": 26,
   "id": "f3ac559b",
   "metadata": {},
   "outputs": [
    {
     "name": "stdout",
     "output_type": "stream",
     "text": [
      "mode(ŷ[1]) = "
     ]
    },
    {
     "data": {
      "text/plain": [
       "CategoricalArrays.CategoricalValue{String, UInt32} \"setosa\""
      ]
     },
     "execution_count": 26,
     "metadata": {},
     "output_type": "execute_result"
    },
    {
     "name": "stdout",
     "output_type": "stream",
     "text": [
      "CategoricalArrays.CategoricalValue{String, UInt32} \"setosa\"\n"
     ]
    }
   ],
   "source": [
    "@show mode(ŷ[1])"
   ]
  },
  {
   "cell_type": "markdown",
   "id": "0ad1dcbf",
   "metadata": {},
   "source": [
    "To measure the discrepancy between ```ŷ``` and ```y``` you could use the average cross entropy:"
   ]
  },
  {
   "cell_type": "code",
   "execution_count": 27,
   "id": "b2c13906",
   "metadata": {},
   "outputs": [
    {
     "data": {
      "text/plain": [
       "2.4029102259411435"
      ]
     },
     "execution_count": 27,
     "metadata": {},
     "output_type": "execute_result"
    }
   ],
   "source": [
    "mce = cross_entropy(ŷ, y[test]) |> mean"
   ]
  },
  {
   "cell_type": "code",
   "execution_count": 28,
   "id": "de44b369",
   "metadata": {},
   "outputs": [
    {
     "data": {
      "text/plain": [
       "2.4029"
      ]
     },
     "execution_count": 28,
     "metadata": {},
     "output_type": "execute_result"
    }
   ],
   "source": [
    "round(mce, digits = 4)"
   ]
  },
  {
   "cell_type": "markdown",
   "id": "1051b8b2",
   "metadata": {},
   "source": [
    "### Unsupervised models\n",
    "\n",
    "---"
   ]
  },
  {
   "cell_type": "markdown",
   "id": "dd6c5852",
   "metadata": {},
   "source": [
    "Unsupervised models define a ```transform``` method, and may optionally implement an ```inverse_transform``` method. As in the supervised case, we use a machine to wrap the unsupervised model and the data:"
   ]
  },
  {
   "cell_type": "code",
   "execution_count": 29,
   "id": "ab252ee2",
   "metadata": {},
   "outputs": [
    {
     "data": {
      "text/plain": [
       "Machine{UnivariateStandardizer,…} trained 0 times; caches data\n",
       "  model: UnivariateStandardizer\n",
       "  args: \n",
       "    1:\tSource @909 ⏎ `AbstractVector{Count}`\n"
      ]
     },
     "execution_count": 29,
     "metadata": {},
     "output_type": "execute_result"
    }
   ],
   "source": [
    "v = [1, 2, 3, 4]\n",
    "stand_model = UnivariateStandardizer()\n",
    "stand = machine(stand_model, v)"
   ]
  },
  {
   "cell_type": "markdown",
   "id": "4b81bf6f",
   "metadata": {},
   "source": [
    "We can then fit the machine and use it to apply the corresponding _data transformation_:"
   ]
  },
  {
   "cell_type": "code",
   "execution_count": 30,
   "id": "07036d30",
   "metadata": {},
   "outputs": [
    {
     "name": "stderr",
     "output_type": "stream",
     "text": [
      "┌ Info: Training Machine{UnivariateStandardizer,…}.\n",
      "└ @ MLJBase C:\\Users\\jeffr\\.julia\\packages\\MLJBase\\MuLnJ\\src\\machines.jl:464\n"
     ]
    },
    {
     "data": {
      "text/plain": [
       "Machine{UnivariateStandardizer,…} trained 1 time; caches data\n",
       "  model: UnivariateStandardizer\n",
       "  args: \n",
       "    1:\tSource @909 ⏎ `AbstractVector{Count}`\n"
      ]
     },
     "execution_count": 30,
     "metadata": {},
     "output_type": "execute_result"
    }
   ],
   "source": [
    "fit!(stand)"
   ]
  },
  {
   "cell_type": "code",
   "execution_count": 31,
   "id": "adb0b7b6",
   "metadata": {},
   "outputs": [
    {
     "data": {
      "text/plain": [
       "4-element Vector{Float64}:\n",
       " -1.161895003862225\n",
       " -0.3872983346207417\n",
       "  0.3872983346207417\n",
       "  1.161895003862225"
      ]
     },
     "execution_count": 31,
     "metadata": {},
     "output_type": "execute_result"
    }
   ],
   "source": [
    "w = transform(stand, v)"
   ]
  },
  {
   "cell_type": "code",
   "execution_count": 32,
   "id": "9133feeb",
   "metadata": {},
   "outputs": [
    {
     "name": "stdout",
     "output_type": "stream",
     "text": [
      "round.(w, digits = 2) = [-1.16, -0.39, 0.39, 1.16]\n",
      "mean(w) = 0.0\n",
      "std(w) = 1.0\n"
     ]
    },
    {
     "data": {
      "text/plain": [
       "1.0"
      ]
     },
     "execution_count": 32,
     "metadata": {},
     "output_type": "execute_result"
    }
   ],
   "source": [
    "@show round.(w, digits = 2)\n",
    "@show mean(w)\n",
    "@show std(w)"
   ]
  },
  {
   "cell_type": "markdown",
   "id": "09f38a93",
   "metadata": {},
   "source": [
    "In this case, the model also has an inverse transform:"
   ]
  },
  {
   "cell_type": "code",
   "execution_count": 33,
   "id": "41d1809d",
   "metadata": {},
   "outputs": [
    {
     "data": {
      "text/plain": [
       "4-element Vector{Float64}:\n",
       " 1.0\n",
       " 2.0\n",
       " 3.0\n",
       " 4.0"
      ]
     },
     "execution_count": 33,
     "metadata": {},
     "output_type": "execute_result"
    }
   ],
   "source": [
    "vv = inverse_transform(stand, w)\n",
    "# "
   ]
  },
  {
   "cell_type": "code",
   "execution_count": 34,
   "id": "4cf515c3",
   "metadata": {},
   "outputs": [
    {
     "data": {
      "text/plain": [
       "0.0"
      ]
     },
     "execution_count": 34,
     "metadata": {},
     "output_type": "execute_result"
    }
   ],
   "source": [
    "sum(abs.(vv .- v))"
   ]
  }
 ],
 "metadata": {
  "hide_input": false,
  "kernelspec": {
   "display_name": "Julia 1.7.3",
   "language": "julia",
   "name": "julia-1.7"
  },
  "language_info": {
   "file_extension": ".jl",
   "mimetype": "application/julia",
   "name": "julia",
   "version": "1.7.3"
  }
 },
 "nbformat": 4,
 "nbformat_minor": 5
}
