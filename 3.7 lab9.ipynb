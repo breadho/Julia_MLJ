{
 "cells": [
  {
   "cell_type": "markdown",
   "id": "02efa5dd",
   "metadata": {},
   "source": [
    "# Intro to Stats Learning"
   ]
  },
  {
   "cell_type": "markdown",
   "id": "556a6d88",
   "metadata": {},
   "source": [
    "## Lab 9 - Support Vector Machine"
   ]
  },
  {
   "cell_type": "markdown",
   "id": "90b06d18",
   "metadata": {},
   "source": [
    "> https://juliaai.github.io/DataScienceTutorials.jl/isl/lab-9/\n",
    "> (project folder) https://raw.githubusercontent.com/juliaai/DataScienceTutorials.jl/gh-pages/__generated/ISL-lab-9.tar.gz"
   ]
  },
  {
   "cell_type": "code",
   "execution_count": 1,
   "id": "29f9fc5e",
   "metadata": {},
   "outputs": [
    {
     "name": "stderr",
     "output_type": "stream",
     "text": [
      "\u001b[32m\u001b[1m  Activating\u001b[22m\u001b[39m project at `D:\\JULIA\\6_ML_with_Julia\\ISL-lab-9`\n"
     ]
    }
   ],
   "source": [
    "using Pkg; Pkg.activate(\"D:/JULIA/6_ML_with_Julia/ISL-lab-9\"); Pkg.instantiate()"
   ]
  },
  {
   "cell_type": "markdown",
   "id": "e33da3b4",
   "metadata": {},
   "source": [
    "> Getting started\n",
    "> 1. Basic tuning"
   ]
  },
  {
   "cell_type": "markdown",
   "id": "1e51e430",
   "metadata": {},
   "source": [
    "### Getting started\n",
    "--- "
   ]
  },
  {
   "cell_type": "code",
   "execution_count": 2,
   "id": "a7cb5369",
   "metadata": {},
   "outputs": [],
   "source": [
    "using MLJ\n",
    "import RDatasets: dataset\n",
    "using PrettyPrinting\n",
    "using Random"
   ]
  },
  {
   "cell_type": "markdown",
   "id": "d0a7dfac",
   "metadata": {},
   "source": [
    "We start by generating a 2D cloud of points"
   ]
  },
  {
   "cell_type": "code",
   "execution_count": 3,
   "id": "8649bd22",
   "metadata": {},
   "outputs": [
    {
     "data": {
      "text/plain": [
       "20-element Vector{Float64}:\n",
       " -1.0\n",
       " -1.0\n",
       " -1.0\n",
       " -1.0\n",
       " -1.0\n",
       " -1.0\n",
       " -1.0\n",
       " -1.0\n",
       " -1.0\n",
       " -1.0\n",
       "  1.0\n",
       "  1.0\n",
       "  1.0\n",
       "  1.0\n",
       "  1.0\n",
       "  1.0\n",
       "  1.0\n",
       "  1.0\n",
       "  1.0\n",
       "  1.0"
      ]
     },
     "execution_count": 3,
     "metadata": {},
     "output_type": "execute_result"
    }
   ],
   "source": [
    "Random.seed!(3203)\n",
    "X = randn(20, 2)\n",
    "y = vcat(-ones(10), ones(10))"
   ]
  },
  {
   "cell_type": "markdown",
   "id": "05176863",
   "metadata": {},
   "source": [
    "which we can visualize"
   ]
  },
  {
   "cell_type": "code",
   "execution_count": 4,
   "id": "cc627a3d",
   "metadata": {},
   "outputs": [
    {
     "name": "stderr",
     "output_type": "stream",
     "text": [
      "┌ Warning: `vendor()` is deprecated, use `BLAS.get_config()` and inspect the output instead\n",
      "│   caller = npyinitialize() at numpy.jl:67\n",
      "└ @ PyCall C:\\Users\\jeffr\\.julia\\packages\\PyCall\\L0fLP\\src\\numpy.jl:67\n"
     ]
    },
    {
     "data": {
      "image/png": "[encoded data removed]",
      "text/plain": [
       "Figure(PyObject <Figure size 800x600 with 1 Axes>)"
      ]
     },
     "metadata": {},
     "output_type": "display_data"
    }
   ],
   "source": [
    "using PyPlot\n",
    "figure(figsize = (8, 6))\n",
    "\n",
    "ym1 = y .== -1\n",
    "ym2 = .!ym1\n",
    "\n",
    "plot(X[ym1, 1], X[ym1, 2], ls=\"none\", marker=\"o\")\n",
    "plot(X[ym2, 1], X[ym2, 2], ls=\"none\", marker=\"x\")\n",
    "\n",
    "savefig(\"./plots/3.7.1.png\")"
   ]
  },
  {
   "cell_type": "markdown",
   "id": "50d51570",
   "metadata": {},
   "source": [
    "Let's wrap the data as a table:"
   ]
  },
  {
   "cell_type": "code",
   "execution_count": 5,
   "id": "080e5f6a",
   "metadata": {},
   "outputs": [],
   "source": [
    "X = MLJ.table(X)\n",
    "y = categorical(y);"
   ]
  },
  {
   "cell_type": "markdown",
   "id": "1762fa50",
   "metadata": {},
   "source": [
    "and fit a SVM classifier"
   ]
  },
  {
   "cell_type": "code",
   "execution_count": 6,
   "id": "42c3855c",
   "metadata": {},
   "outputs": [
    {
     "name": "stderr",
     "output_type": "stream",
     "text": [
      "┌ Info: For silent loading, specify `verbosity=0`. \n",
      "└ @ Main C:\\Users\\jeffr\\.julia\\packages\\MLJModels\\tMgLW\\src\\loading.jl:168\n"
     ]
    },
    {
     "name": "stdout",
     "output_type": "stream",
     "text": [
      "import MLJLIBSVMInterface ✔\n"
     ]
    },
    {
     "name": "stderr",
     "output_type": "stream",
     "text": [
      "┌ Info: Training Machine{SVC,…}.\n",
      "└ @ MLJBase C:\\Users\\jeffr\\.julia\\packages\\MLJBase\\MuLnJ\\src\\machines.jl:464\n"
     ]
    }
   ],
   "source": [
    "SVC = @load SVC pkg=LIBSVM\n",
    "\n",
    "svc_mdl = SVC()\n",
    "svc = machine(svc_mdl, X, y)\n",
    "\n",
    "fit!(svc);"
   ]
  },
  {
   "cell_type": "markdown",
   "id": "dfa7b530",
   "metadata": {},
   "source": [
    "As usual we can check how it preforms"
   ]
  },
  {
   "cell_type": "code",
   "execution_count": 7,
   "id": "ef2edf1b",
   "metadata": {},
   "outputs": [
    {
     "data": {
      "text/plain": [
       "0.3"
      ]
     },
     "execution_count": 7,
     "metadata": {},
     "output_type": "execute_result"
    }
   ],
   "source": [
    "ypred = MLJ.predict(svc, X)\n",
    "misclassification_rate(ypred, y)"
   ]
  },
  {
   "cell_type": "markdown",
   "id": "69da3812",
   "metadata": {},
   "source": [
    "Not bad."
   ]
  },
  {
   "cell_type": "markdown",
   "id": "fcf029ce",
   "metadata": {},
   "source": [
    "### Basic tuning"
   ]
  },
  {
   "cell_type": "markdown",
   "id": "4b412a32",
   "metadata": {},
   "source": [
    "As usual we could tune the model, for instance the penalty encoding the tradeoff between margin width and misclassification:"
   ]
  },
  {
   "cell_type": "code",
   "execution_count": 8,
   "id": "bc6aace8",
   "metadata": {},
   "outputs": [
    {
     "name": "stderr",
     "output_type": "stream",
     "text": [
      "┌ Info: Training Machine{DeterministicTunedModel{Grid,…},…}.\n",
      "└ @ MLJBase C:\\Users\\jeffr\\.julia\\packages\\MLJBase\\MuLnJ\\src\\machines.jl:464\n",
      "┌ Info: Attempting to evaluate 10 models.\n",
      "└ @ MLJTuning C:\\Users\\jeffr\\.julia\\packages\\MLJTuning\\Al9yX\\src\\tuned_models.jl:680\n",
      "\u001b[33mEvaluating over 10 metamodels: 100%[=========================] Time: 0:00:02\u001b[39m\n"
     ]
    },
    {
     "data": {
      "text/plain": [
       "0.2"
      ]
     },
     "execution_count": 8,
     "metadata": {},
     "output_type": "execute_result"
    }
   ],
   "source": [
    "rc = range(svc_mdl, :cost, lower = 0.1, upper = 5)\n",
    "tm = TunedModel(model = svc_mdl,\n",
    "                ranges = [rc],\n",
    "                tuning = Grid(resolution = 10),\n",
    "                resampling = CV(nfolds = 3, rng = 33),\n",
    "                measure = misclassification_rate)\n",
    "\n",
    "mtm = machine(tm, X, y)\n",
    "\n",
    "fit!(mtm)\n",
    "\n",
    "ypred = MLJ.predict(mtm, X)\n",
    "misclassification_rate(ypred, y)"
   ]
  },
  {
   "cell_type": "markdown",
   "id": "2d35fef7",
   "metadata": {},
   "source": [
    "You could also change the kernel etc."
   ]
  }
 ],
 "metadata": {
  "hide_input": false,
  "kernelspec": {
   "display_name": "Julia 1.7.3",
   "language": "julia",
   "name": "julia-1.7"
  },
  "language_info": {
   "file_extension": ".jl",
   "mimetype": "application/julia",
   "name": "julia",
   "version": "1.7.3"
  }
 },
 "nbformat": 4,
 "nbformat_minor": 5
}
