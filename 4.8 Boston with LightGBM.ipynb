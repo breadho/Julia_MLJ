{
 "cells": [
  {
   "cell_type": "markdown",
   "id": "ec9e2b07",
   "metadata": {},
   "source": [
    "# End to end examples"
   ]
  },
  {
   "cell_type": "markdown",
   "id": "8ac97811",
   "metadata": {},
   "source": [
    "## Boston with LightGBM"
   ]
  },
  {
   "cell_type": "code",
   "execution_count": 1,
   "id": "77569979",
   "metadata": {},
   "outputs": [
    {
     "name": "stderr",
     "output_type": "stream",
     "text": [
      "\u001b[32m\u001b[1m  Activating\u001b[22m\u001b[39m project at `D:\\JULIA\\6_ML_with_Julia\\EX-boston-lgbm`\n",
      "\u001b[32m\u001b[1m   Installed\u001b[22m\u001b[39m LightGBM ─ v0.5.2\n",
      "\u001b[32m\u001b[1m    Building\u001b[22m\u001b[39m LightGBM → `C:\\Users\\jeffr\\.julia\\scratchspaces\\44cfe95a-1eb2-52ea-b672-e2afdf69b78f\\3ab6a0b9b0894dec750da06fede643e71cc6f7e8\\build.log`\n",
      "\u001b[32m\u001b[1mPrecompiling\u001b[22m\u001b[39m project...\n",
      "\u001b[32m  ✓ \u001b[39mLightGBM\n",
      "  1 dependency successfully precompiled in 2 seconds (95 already precompiled)\n"
     ]
    }
   ],
   "source": [
    "using Pkg; Pkg.activate(\"D:/JULIA/6_ML_with_Julia/EX-boston-lgbm\"); Pkg.instantiate()"
   ]
  },
  {
   "cell_type": "markdown",
   "id": "ffbfb7c2",
   "metadata": {},
   "source": [
    "### Getting started \n",
    "---"
   ]
  },
  {
   "cell_type": "code",
   "execution_count": 16,
   "id": "31d0b10a",
   "metadata": {},
   "outputs": [
    {
     "name": "stdout",
     "output_type": "stream",
     "text": [
      "import LightGBM ✔\n"
     ]
    },
    {
     "name": "stderr",
     "output_type": "stream",
     "text": [
      "┌ Info: For silent loading, specify `verbosity=0`. \n",
      "└ @ Main C:\\Users\\jeffr\\.julia\\packages\\MLJModels\\tMgLW\\src\\loading.jl:168\n"
     ]
    },
    {
     "data": {
      "text/plain": [
       "LightGBM.MLJInterface.LGBMRegressor"
      ]
     },
     "execution_count": 16,
     "metadata": {},
     "output_type": "execute_result"
    }
   ],
   "source": [
    "using MLJ\n",
    "using PrettyPrinting\n",
    "import DataFrames\n",
    "import Statistics\n",
    "using PyPlot\n",
    "using StableRNGs\n",
    "\n",
    "LGBMRegressor = @load LGBMRegressor"
   ]
  },
  {
   "cell_type": "markdown",
   "id": "0c0faded",
   "metadata": {},
   "source": [
    "Let us try LightGBM out by doing a regression task on the Boston house prices dataset. This is a commonly used dataset so there is a loader built into MLJ.\n",
    "\n",
    "Here, the objective is to show how LightGBM can do better than a Linear Regressor with minimal effort.\n",
    "\n",
    "We start out by taking a quick peek at the data itself and its statistical properties."
   ]
  },
  {
   "cell_type": "code",
   "execution_count": 3,
   "id": "dbf24475",
   "metadata": {},
   "outputs": [
    {
     "data": {
      "text/plain": [
       "((Crim = [0.00632, 0.02731, 0.02729, 0.03237, 0.06905, 0.02985, 0.08829, 0.14455, 0.21124, 0.17004  …  0.2896, 0.26838, 0.23912, 0.17783, 0.22438, 0.06263, 0.04527, 0.06076, 0.10959, 0.04741], Zn = [18.0, 0.0, 0.0, 0.0, 0.0, 0.0, 12.5, 12.5, 12.5, 12.5  …  0.0, 0.0, 0.0, 0.0, 0.0, 0.0, 0.0, 0.0, 0.0, 0.0], Indus = [2.31, 7.07, 7.07, 2.18, 2.18, 2.18, 7.87, 7.87, 7.87, 7.87  …  9.69, 9.69, 9.69, 9.69, 9.69, 11.93, 11.93, 11.93, 11.93, 11.93], NOx = [0.538, 0.469, 0.469, 0.458, 0.458, 0.458, 0.524, 0.524, 0.524, 0.524  …  0.585, 0.585, 0.585, 0.585, 0.585, 0.573, 0.573, 0.573, 0.573, 0.573], Rm = [6.575, 6.421, 7.185, 6.998, 7.147, 6.43, 6.012, 6.172, 5.631, 6.004  …  5.39, 5.794, 6.019, 5.569, 6.027, 6.593, 6.12, 6.976, 6.794, 6.03], Age = [65.2, 78.9, 61.1, 45.8, 54.2, 58.7, 66.6, 96.1, 100.0, 85.9  …  72.9, 70.6, 65.3, 73.5, 79.7, 69.1, 76.7, 91.0, 89.3, 80.8], Dis = [4.09, 4.9671, 4.9671, 6.0622, 6.0622, 6.0622, 5.5605, 5.9505, 6.0821, 6.5921  …  2.7986, 2.8927, 2.4091, 2.3999, 2.4982, 2.4786, 2.2875, 2.1675, 2.3889, 2.505], Rad = [1.0, 2.0, 2.0, 3.0, 3.0, 3.0, 5.0, 5.0, 5.0, 5.0  …  6.0, 6.0, 6.0, 6.0, 6.0, 1.0, 1.0, 1.0, 1.0, 1.0], Tax = [296.0, 242.0, 242.0, 222.0, 222.0, 222.0, 311.0, 311.0, 311.0, 311.0  …  391.0, 391.0, 391.0, 391.0, 391.0, 273.0, 273.0, 273.0, 273.0, 273.0], PTRatio = [15.3, 17.8, 17.8, 18.7, 18.7, 18.7, 15.2, 15.2, 15.2, 15.2  …  19.2, 19.2, 19.2, 19.2, 19.2, 21.0, 21.0, 21.0, 21.0, 21.0], Black = [396.9, 396.9, 392.83, 394.63, 396.9, 394.12, 395.6, 396.9, 386.63, 386.71  …  396.9, 396.9, 396.9, 395.77, 396.9, 391.99, 396.9, 396.9, 393.45, 396.9], LStat = [4.98, 9.14, 4.03, 2.94, 5.33, 5.21, 12.43, 19.15, 29.93, 17.1  …  21.14, 14.1, 12.92, 15.1, 14.33, 9.67, 9.08, 5.64, 6.48, 7.88]), [24.0, 21.6, 34.7, 33.4, 36.2, 28.7, 22.9, 27.1, 16.5, 18.9  …  19.7, 18.3, 21.2, 17.5, 16.8, 22.4, 20.6, 23.9, 22.0, 11.9])"
      ]
     },
     "execution_count": 3,
     "metadata": {},
     "output_type": "execute_result"
    }
   ],
   "source": [
    "features, targets = @load_boston"
   ]
  },
  {
   "cell_type": "raw",
   "id": "440b5541",
   "metadata": {},
   "source": [
    "features = DataFrames.DataFrame(features)"
   ]
  },
  {
   "cell_type": "code",
   "execution_count": 5,
   "id": "6270b3a6",
   "metadata": {},
   "outputs": [
    {
     "name": "stdout",
     "output_type": "stream",
     "text": [
      "size(features) = (506, 12)\n"
     ]
    },
    {
     "data": {
      "text/plain": [
       "(506, 12)"
      ]
     },
     "execution_count": 5,
     "metadata": {},
     "output_type": "execute_result"
    }
   ],
   "source": [
    "@show size(features)"
   ]
  },
  {
   "cell_type": "code",
   "execution_count": 6,
   "id": "6f5d5463",
   "metadata": {},
   "outputs": [
    {
     "name": "stdout",
     "output_type": "stream",
     "text": [
      "targets[1:3] = [24.0, 21.6, 34.7]\n"
     ]
    },
    {
     "data": {
      "text/plain": [
       "3-element Vector{Float64}:\n",
       " 24.0\n",
       " 21.6\n",
       " 34.7"
      ]
     },
     "execution_count": 6,
     "metadata": {},
     "output_type": "execute_result"
    }
   ],
   "source": [
    "@show targets[1:3]"
   ]
  },
  {
   "cell_type": "code",
   "execution_count": 7,
   "id": "652f0ac1",
   "metadata": {},
   "outputs": [
    {
     "name": "stdout",
     "output_type": "stream",
     "text": [
      "┌────────────┬────────────┬────────────┬────────────┬────────────┬────────────┬────────────┬────────────┬────────────┬────────────┬────────────┬────────────┐\n",
      "│\u001b[1m Crim       \u001b[0m│\u001b[1m Zn         \u001b[0m│\u001b[1m Indus      \u001b[0m│\u001b[1m NOx        \u001b[0m│\u001b[1m Rm         \u001b[0m│\u001b[1m Age        \u001b[0m│\u001b[1m Dis        \u001b[0m│\u001b[1m Rad        \u001b[0m│\u001b[1m Tax        \u001b[0m│\u001b[1m PTRatio    \u001b[0m│\u001b[1m Black      \u001b[0m│\u001b[1m LStat      \u001b[0m│\n",
      "│\u001b[90m Float64    \u001b[0m│\u001b[90m Float64    \u001b[0m│\u001b[90m Float64    \u001b[0m│\u001b[90m Float64    \u001b[0m│\u001b[90m Float64    \u001b[0m│\u001b[90m Float64    \u001b[0m│\u001b[90m Float64    \u001b[0m│\u001b[90m Float64    \u001b[0m│\u001b[90m Float64    \u001b[0m│\u001b[90m Float64    \u001b[0m│\u001b[90m Float64    \u001b[0m│\u001b[90m Float64    \u001b[0m│\n",
      "│\u001b[90m Continuous \u001b[0m│\u001b[90m Continuous \u001b[0m│\u001b[90m Continuous \u001b[0m│\u001b[90m Continuous \u001b[0m│\u001b[90m Continuous \u001b[0m│\u001b[90m Continuous \u001b[0m│\u001b[90m Continuous \u001b[0m│\u001b[90m Continuous \u001b[0m│\u001b[90m Continuous \u001b[0m│\u001b[90m Continuous \u001b[0m│\u001b[90m Continuous \u001b[0m│\u001b[90m Continuous \u001b[0m│\n",
      "├────────────┼────────────┼────────────┼────────────┼────────────┼────────────┼────────────┼────────────┼────────────┼────────────┼────────────┼────────────┤\n",
      "│ 0.00632    │ 18.0       │ 2.31       │ 0.538      │ 6.575      │ 65.2       │ 4.09       │ 1.0        │ 296.0      │ 15.3       │ 396.9      │ 4.98       │\n",
      "│ 0.02731    │ 0.0        │ 7.07       │ 0.469      │ 6.421      │ 78.9       │ 4.9671     │ 2.0        │ 242.0      │ 17.8       │ 396.9      │ 9.14       │\n",
      "│ 0.02729    │ 0.0        │ 7.07       │ 0.469      │ 7.185      │ 61.1       │ 4.9671     │ 2.0        │ 242.0      │ 17.8       │ 392.83     │ 4.03       │\n",
      "└────────────┴────────────┴────────────┴────────────┴────────────┴────────────┴────────────┴────────────┴────────────┴────────────┴────────────┴────────────┘\n"
     ]
    }
   ],
   "source": [
    "first(features, 3) |> pretty"
   ]
  },
  {
   "cell_type": "markdown",
   "id": "237c79e8",
   "metadata": {},
   "source": [
    "We can also describe the dataframe"
   ]
  },
  {
   "cell_type": "code",
   "execution_count": 8,
   "id": "ba22a57e",
   "metadata": {},
   "outputs": [
    {
     "data": {
      "text/html": [
       "<div class=\"data-frame\"><p>12 rows × 7 columns</p><table class=\"data-frame\"><thead><tr><th></th><th>variable</th><th>mean</th><th>min</th><th>median</th><th>max</th><th>nmissing</th><th>eltype</th></tr><tr><th></th><th title=\"Symbol\">Symbol</th><th title=\"Float64\">Float64</th><th title=\"Float64\">Float64</th><th title=\"Float64\">Float64</th><th title=\"Float64\">Float64</th><th title=\"Int64\">Int64</th><th title=\"DataType\">DataType</th></tr></thead><tbody><tr><th>1</th><td>Crim</td><td>3.61352</td><td>0.00632</td><td>0.25651</td><td>88.9762</td><td>0</td><td>Float64</td></tr><tr><th>2</th><td>Zn</td><td>11.3636</td><td>0.0</td><td>0.0</td><td>100.0</td><td>0</td><td>Float64</td></tr><tr><th>3</th><td>Indus</td><td>11.1368</td><td>0.46</td><td>9.69</td><td>27.74</td><td>0</td><td>Float64</td></tr><tr><th>4</th><td>NOx</td><td>0.554695</td><td>0.385</td><td>0.538</td><td>0.871</td><td>0</td><td>Float64</td></tr><tr><th>5</th><td>Rm</td><td>6.28463</td><td>3.561</td><td>6.2085</td><td>8.78</td><td>0</td><td>Float64</td></tr><tr><th>6</th><td>Age</td><td>68.5749</td><td>2.9</td><td>77.5</td><td>100.0</td><td>0</td><td>Float64</td></tr><tr><th>7</th><td>Dis</td><td>3.79504</td><td>1.1296</td><td>3.20745</td><td>12.1265</td><td>0</td><td>Float64</td></tr><tr><th>8</th><td>Rad</td><td>9.54941</td><td>1.0</td><td>5.0</td><td>24.0</td><td>0</td><td>Float64</td></tr><tr><th>9</th><td>Tax</td><td>408.237</td><td>187.0</td><td>330.0</td><td>711.0</td><td>0</td><td>Float64</td></tr><tr><th>10</th><td>PTRatio</td><td>18.4555</td><td>12.6</td><td>19.05</td><td>22.0</td><td>0</td><td>Float64</td></tr><tr><th>11</th><td>Black</td><td>356.674</td><td>0.32</td><td>391.44</td><td>396.9</td><td>0</td><td>Float64</td></tr><tr><th>12</th><td>LStat</td><td>12.6531</td><td>1.73</td><td>11.36</td><td>37.97</td><td>0</td><td>Float64</td></tr></tbody></table></div>"
      ],
      "text/latex": [
       "\\begin{tabular}{r|ccccccc}\n",
       "\t& variable & mean & min & median & max & nmissing & eltype\\\\\n",
       "\t\\hline\n",
       "\t& Symbol & Float64 & Float64 & Float64 & Float64 & Int64 & DataType\\\\\n",
       "\t\\hline\n",
       "\t1 & Crim & 3.61352 & 0.00632 & 0.25651 & 88.9762 & 0 & Float64 \\\\\n",
       "\t2 & Zn & 11.3636 & 0.0 & 0.0 & 100.0 & 0 & Float64 \\\\\n",
       "\t3 & Indus & 11.1368 & 0.46 & 9.69 & 27.74 & 0 & Float64 \\\\\n",
       "\t4 & NOx & 0.554695 & 0.385 & 0.538 & 0.871 & 0 & Float64 \\\\\n",
       "\t5 & Rm & 6.28463 & 3.561 & 6.2085 & 8.78 & 0 & Float64 \\\\\n",
       "\t6 & Age & 68.5749 & 2.9 & 77.5 & 100.0 & 0 & Float64 \\\\\n",
       "\t7 & Dis & 3.79504 & 1.1296 & 3.20745 & 12.1265 & 0 & Float64 \\\\\n",
       "\t8 & Rad & 9.54941 & 1.0 & 5.0 & 24.0 & 0 & Float64 \\\\\n",
       "\t9 & Tax & 408.237 & 187.0 & 330.0 & 711.0 & 0 & Float64 \\\\\n",
       "\t10 & PTRatio & 18.4555 & 12.6 & 19.05 & 22.0 & 0 & Float64 \\\\\n",
       "\t11 & Black & 356.674 & 0.32 & 391.44 & 396.9 & 0 & Float64 \\\\\n",
       "\t12 & LStat & 12.6531 & 1.73 & 11.36 & 37.97 & 0 & Float64 \\\\\n",
       "\\end{tabular}\n"
      ],
      "text/plain": [
       "\u001b[1m12×7 DataFrame\u001b[0m\n",
       "\u001b[1m Row \u001b[0m│\u001b[1m variable \u001b[0m\u001b[1m mean       \u001b[0m\u001b[1m min       \u001b[0m\u001b[1m median    \u001b[0m\u001b[1m max      \u001b[0m\u001b[1m nmissing \u001b[0m\u001b[1m eltype \u001b[0m ⋯\n",
       "\u001b[1m     \u001b[0m│\u001b[90m Symbol   \u001b[0m\u001b[90m Float64    \u001b[0m\u001b[90m Float64   \u001b[0m\u001b[90m Float64   \u001b[0m\u001b[90m Float64  \u001b[0m\u001b[90m Int64    \u001b[0m\u001b[90m DataTyp\u001b[0m ⋯\n",
       "─────┼──────────────────────────────────────────────────────────────────────────\n",
       "   1 │ Crim        3.61352     0.00632    0.25651   88.9762         0  Float64 ⋯\n",
       "   2 │ Zn         11.3636      0.0        0.0      100.0            0  Float64\n",
       "   3 │ Indus      11.1368      0.46       9.69      27.74           0  Float64\n",
       "   4 │ NOx         0.554695    0.385      0.538      0.871          0  Float64\n",
       "   5 │ Rm          6.28463     3.561      6.2085     8.78           0  Float64 ⋯\n",
       "   6 │ Age        68.5749      2.9       77.5      100.0            0  Float64\n",
       "   7 │ Dis         3.79504     1.1296     3.20745   12.1265         0  Float64\n",
       "   8 │ Rad         9.54941     1.0        5.0       24.0            0  Float64\n",
       "   9 │ Tax       408.237     187.0      330.0      711.0            0  Float64 ⋯\n",
       "  10 │ PTRatio    18.4555     12.6       19.05      22.0            0  Float64\n",
       "  11 │ Black     356.674       0.32     391.44     396.9            0  Float64\n",
       "  12 │ LStat      12.6531      1.73      11.36      37.97           0  Float64\n",
       "\u001b[36m                                                                1 column omitted\u001b[0m"
      ]
     },
     "execution_count": 8,
     "metadata": {},
     "output_type": "execute_result"
    }
   ],
   "source": [
    "DataFrames.describe(features)"
   ]
  },
  {
   "cell_type": "markdown",
   "id": "cfd96f87",
   "metadata": {},
   "source": [
    "Do the usual train/test partitioning. This is important so we can estimate generalisation."
   ]
  },
  {
   "cell_type": "code",
   "execution_count": 9,
   "id": "29da23d8",
   "metadata": {},
   "outputs": [
    {
     "data": {
      "text/plain": [
       "([52, 17, 330, 191, 265, 172, 19, 481, 94, 493  …  216, 120, 244, 26, 397, 170, 162, 67, 230, 154], [233, 385, 30, 91, 140, 335, 25, 358, 254, 226  …  419, 85, 487, 450, 506, 151, 246, 484, 93, 361])"
      ]
     },
     "execution_count": 9,
     "metadata": {},
     "output_type": "execute_result"
    }
   ],
   "source": [
    "train, test = partition(collect(eachindex(targets)), 0.70,shuffle = true, rng = StableRNG(52))"
   ]
  },
  {
   "cell_type": "markdown",
   "id": "fe5792fb",
   "metadata": {},
   "source": [
    "Let us investigation some of the commonly tweaked LightGBM parameters. We start with looking at a learning curve for number of boostings."
   ]
  },
  {
   "cell_type": "code",
   "execution_count": 17,
   "id": "1b5150b1",
   "metadata": {},
   "outputs": [
    {
     "name": "stderr",
     "output_type": "stream",
     "text": [
      "┌ Info: Training Machine{DeterministicTunedModel{Grid,…},…}.\n",
      "└ @ MLJBase C:\\Users\\jeffr\\.julia\\packages\\MLJBase\\MuLnJ\\src\\machines.jl:464\n",
      "┌ Info: Attempting to evaluate 100 models.\n",
      "└ @ MLJTuning C:\\Users\\jeffr\\.julia\\packages\\MLJTuning\\Al9yX\\src\\tuned_models.jl:680\n",
      "\u001b[33mEvaluating over 100 metamodels: 100%[=========================] Time: 0:00:28\u001b[39m\n"
     ]
    },
    {
     "data": {
      "text/plain": [
       "(parameter_name = \"num_iterations\",\n",
       " parameter_scale = :linear,\n",
       " parameter_values = [2, 7, 12, 17, 22, 27, 32, 37, 42, 47  …  455, 460, 465, 470, 475, 480, 485, 490, 495, 500],\n",
       " measurements = [8.242584831316137, 6.11905538837569, 5.047791526843733, 4.427475560655102, 4.111182831287945, 3.9560063468372926, 3.8731138614255687, 3.804157438995349, 3.756389872515972, 3.7166321065431367  …  3.3824386765406973, 3.382315512019174, 3.3811022926311045, 3.3825783832049376, 3.382853693118146, 3.383759920214521, 3.3829428872590004, 3.3834347538113936, 3.3836968624377475, 3.3831762302789827],)"
      ]
     },
     "execution_count": 17,
     "metadata": {},
     "output_type": "execute_result"
    }
   ],
   "source": [
    "lgb = LGBMRegressor() # initialised a model with default params\n",
    "lgbm = machine(lgb, features[train, :], targets[train, 1])\n",
    "boostrange = range(lgb, :num_iterations, lower = 2, upper = 500)\n",
    "curve = learning_curve!(lgbm, \n",
    "                        resampling = CV(nfolds = 5),\n",
    "                        range = boostrange, \n",
    "                        resolution = 100, \n",
    "                        measure = rms)"
   ]
  },
  {
   "cell_type": "code",
   "execution_count": 19,
   "id": "67ddc7fe",
   "metadata": {},
   "outputs": [
    {
     "data": {
      "image/png": "[encoded data removed]",
      "text/plain": [
       "Figure(PyObject <Figure size 800x600 with 1 Axes>)"
      ]
     },
     "metadata": {},
     "output_type": "display_data"
    }
   ],
   "source": [
    "figure(figsize = (8, 6))\n",
    "plot(curve.parameter_values, curve.measurements)\n",
    "xlabel(\"Number of rounds\", fontsize = 14)\n",
    "ylabel(\"RMSE\", fontsize = 14)\n",
    "savefig(\"./plots/4.8.1.png\")"
   ]
  },
  {
   "cell_type": "markdown",
   "id": "b870130f",
   "metadata": {},
   "source": [
    "It looks like that we don't need to go much past 100 boosts\n",
    "\n",
    "Since LightGBM is a gradient based learning method, we also have a learning rate parameter which controls the size of gradient updates. Let us look at a learning curve for this parameter too"
   ]
  },
  {
   "cell_type": "code",
   "execution_count": 21,
   "id": "511a92f7",
   "metadata": {},
   "outputs": [
    {
     "name": "stderr",
     "output_type": "stream",
     "text": [
      "┌ Info: Training Machine{DeterministicTunedModel{Grid,…},…}.\n",
      "└ @ MLJBase C:\\Users\\jeffr\\.julia\\packages\\MLJBase\\MuLnJ\\src\\machines.jl:464\n",
      "┌ Info: Attempting to evaluate 100 models.\n",
      "└ @ MLJTuning C:\\Users\\jeffr\\.julia\\packages\\MLJTuning\\Al9yX\\src\\tuned_models.jl:680\n",
      "\u001b[33mEvaluating over 100 metamodels: 100%[=========================] Time: 0:00:02\u001b[39m\n"
     ]
    },
    {
     "data": {
      "text/plain": [
       "(parameter_name = \"learning_rate\",\n",
       " parameter_scale = :log,\n",
       " parameter_values = [0.0010000000000000002, 0.001072267222010324, 0.001149756995397736, 0.001232846739442067, 0.0013219411484660293, 0.001417474162926806, 0.0015199110829529337, 0.0016297508346206449, 0.0017475284000076838, 0.0018738174228603848  …  0.533669923120631, 0.5722367659350217, 0.6135907273413174, 0.657933224657568, 0.7054802310718643, 0.7564633275546289, 0.8111308307896871, 0.8697490026177833, 0.9326033468832199, 1.0],\n",
       " measurements = [9.442600914891088, 9.437658294116533, 9.432350080091393, 9.426663709068736, 9.420572602809223, 9.41406769470996, 9.40708146464312, 9.399597192945267, 9.39160901884837, 9.383032318363856  …  3.8518162837729895, 3.809350856253712, 3.871527749397676, 3.9876158649199516, 3.9278333309837965, 3.96054951574336, 4.073642247386757, 4.154200844806569, 4.392526550005319, 4.29536804756547],)"
      ]
     },
     "execution_count": 21,
     "metadata": {},
     "output_type": "execute_result"
    }
   ],
   "source": [
    "lgb = LGBMRegressor() # initialised a model with default params\n",
    "\n",
    "lgbm= machine(lgb, features[train, :], targets[train, 1])\n",
    "learning_range = range(lgb, :learning_rate, lower = 1e-3, upper = 1, scale = :log)\n",
    "curve = learning_curve!(lgbm, \n",
    "                        resampling = CV(nfolds = 5),\n",
    "                        range = learning_range, \n",
    "                        resolution = 100,\n",
    "                        measure = rms)"
   ]
  },
  {
   "cell_type": "code",
   "execution_count": 23,
   "id": "61d4d46e",
   "metadata": {},
   "outputs": [
    {
     "data": {
      "image/png": "[encoded data removed]",
      "text/plain": [
       "Figure(PyObject <Figure size 800x600 with 1 Axes>)"
      ]
     },
     "metadata": {},
     "output_type": "display_data"
    }
   ],
   "source": [
    "figure(figsize = (8, 6))\n",
    "plot(curve.parameter_values, curve.measurements)\n",
    "xscale(\"log\")\n",
    "xlabel(\"Learning rate(log scale)\", fontsize = 14)\n",
    "ylabel(\"RMSE\", fontsize = 14)\n",
    "savefig(\"./plots/4.8.2.png\")"
   ]
  },
  {
   "cell_type": "markdown",
   "id": "ee382bba",
   "metadata": {},
   "source": [
    "It seems like near 0.5 is a reasonable place. Bearing in mind that for lower values of learning rate we possibly require more boosting in order to converge, so the default value of 100 might not be sufficient for convergence. We leave this as an exercise to the reader. We can still try to tune this parameter, however.\n",
    "\n",
    "Finally let us check number of datapoints required to produce a leaf in an individual tree. This parameter controls the complexity of individual learner trees, and too low a value might lead to overfitting."
   ]
  },
  {
   "cell_type": "code",
   "execution_count": 24,
   "id": "6bb103f8",
   "metadata": {},
   "outputs": [
    {
     "data": {
      "text/plain": [
       "LGBMRegressor(\n",
       "    boosting = \"gbdt\",\n",
       "    num_iterations = 10,\n",
       "    learning_rate = 0.1,\n",
       "    num_leaves = 31,\n",
       "    max_depth = -1,\n",
       "    tree_learner = \"serial\",\n",
       "    histogram_pool_size = -1.0,\n",
       "    min_data_in_leaf = 20,\n",
       "    min_sum_hessian_in_leaf = 0.001,\n",
       "    max_delta_step = 0.0,\n",
       "    lambda_l1 = 0.0,\n",
       "    lambda_l2 = 0.0,\n",
       "    min_gain_to_split = 0.0,\n",
       "    feature_fraction = 1.0,\n",
       "    feature_fraction_bynode = 1.0,\n",
       "    feature_fraction_seed = 2,\n",
       "    bagging_fraction = 1.0,\n",
       "    bagging_freq = 0,\n",
       "    bagging_seed = 3,\n",
       "    early_stopping_round = 0,\n",
       "    extra_trees = false,\n",
       "    extra_seed = 6,\n",
       "    max_bin = 255,\n",
       "    bin_construct_sample_cnt = 200000,\n",
       "    init_score = \"\",\n",
       "    drop_rate = 0.1,\n",
       "    max_drop = 50,\n",
       "    skip_drop = 0.5,\n",
       "    xgboost_dart_mode = false,\n",
       "    uniform_drop = false,\n",
       "    drop_seed = 4,\n",
       "    top_rate = 0.2,\n",
       "    other_rate = 0.1,\n",
       "    min_data_per_group = 100,\n",
       "    max_cat_threshold = 32,\n",
       "    cat_l2 = 10.0,\n",
       "    cat_smooth = 10.0,\n",
       "    objective = \"regression\",\n",
       "    categorical_feature = Int64[],\n",
       "    data_random_seed = 1,\n",
       "    is_sparse = true,\n",
       "    is_unbalance = false,\n",
       "    boost_from_average = true,\n",
       "    use_missing = true,\n",
       "    feature_pre_filter = true,\n",
       "    alpha = 0.9,\n",
       "    metric = [\"l2\"],\n",
       "    metric_freq = 1,\n",
       "    is_training_metric = false,\n",
       "    ndcg_at = [1, 2, 3, 4, 5],\n",
       "    num_machines = 1,\n",
       "    num_threads = 0,\n",
       "    local_listen_port = 12400,\n",
       "    time_out = 120,\n",
       "    machine_list_file = \"\",\n",
       "    save_binary = false,\n",
       "    device_type = \"cpu\",\n",
       "    force_col_wise = false,\n",
       "    force_row_wise = false,\n",
       "    truncate_booster = true)"
      ]
     },
     "execution_count": 24,
     "metadata": {},
     "output_type": "execute_result"
    }
   ],
   "source": [
    "lgb = LGBMRegressor() # initialised a model with default params"
   ]
  },
  {
   "cell_type": "code",
   "execution_count": 26,
   "id": "4506271c",
   "metadata": {},
   "outputs": [
    {
     "data": {
      "text/plain": [
       "Machine{LGBMRegressor,…} trained 0 times; caches data\n",
       "  model: LightGBM.MLJInterface.LGBMRegressor\n",
       "  args: \n",
       "    1:\tSource @864 ⏎ `Table{AbstractVector{Continuous}}`\n",
       "    2:\tSource @955 ⏎ `AbstractVector{Continuous}`\n"
      ]
     },
     "execution_count": 26,
     "metadata": {},
     "output_type": "execute_result"
    }
   ],
   "source": [
    "lgbm = machine(lgb, features[train, :], targets[train, 1])"
   ]
  },
  {
   "cell_type": "markdown",
   "id": "042e841c",
   "metadata": {},
   "source": [
    "dataset is small enough and the lower and upper sets the tree to have certain number of leaves"
   ]
  },
  {
   "cell_type": "code",
   "execution_count": 28,
   "id": "a96695ac",
   "metadata": {},
   "outputs": [
    {
     "name": "stderr",
     "output_type": "stream",
     "text": [
      "┌ Info: Training Machine{DeterministicTunedModel{Grid,…},…}.\n",
      "└ @ MLJBase C:\\Users\\jeffr\\.julia\\packages\\MLJBase\\MuLnJ\\src\\machines.jl:464\n",
      "┌ Info: Attempting to evaluate 50 models.\n",
      "└ @ MLJTuning C:\\Users\\jeffr\\.julia\\packages\\MLJTuning\\Al9yX\\src\\tuned_models.jl:680\n",
      "\u001b[33mEvaluating over 50 metamodels: 100%[=========================] Time: 0:00:01\u001b[39m\n"
     ]
    },
    {
     "data": {
      "text/plain": [
       "(parameter_name = \"min_data_in_leaf\",\n",
       " parameter_scale = :linear,\n",
       " parameter_values = [1, 2, 3, 4, 5, 6, 7, 8, 9, 10  …  41, 42, 43, 44, 45, 46, 47, 48, 49, 50],\n",
       " measurements = [5.046397182749027, 4.894906775016428, 5.036494961076708, 4.91722565066497, 4.965231353911535, 4.91988133069174, 4.989963717159022, 5.045542111490891, 5.063992355795521, 5.164420810710274  …  5.795483619318088, 5.845329781439866, 5.860645094702287, 5.89061089135083, 5.945250635474689, 5.951491159558157, 6.0104727398558575, 6.035821243109054, 6.0325028816031745, 6.080498920104094],)"
      ]
     },
     "execution_count": 28,
     "metadata": {},
     "output_type": "execute_result"
    }
   ],
   "source": [
    "leaf_range = range(lgb, :min_data_in_leaf, lower = 1, upper = 50)\n",
    "\n",
    "curve = learning_curve!(lgbm, \n",
    "                        resampling=CV(nfolds = 5),\n",
    "                        range = leaf_range, \n",
    "                        resolution = 50, \n",
    "                        measure = rms)"
   ]
  },
  {
   "cell_type": "code",
   "execution_count": 30,
   "id": "effa917e",
   "metadata": {},
   "outputs": [
    {
     "data": {
      "image/png": "[encoded data removed]",
      "text/plain": [
       "Figure(PyObject <Figure size 800x600 with 1 Axes>)"
      ]
     },
     "metadata": {},
     "output_type": "display_data"
    }
   ],
   "source": [
    "figure(figsize=(8,6))\n",
    "plot(curve.parameter_values, curve.measurements)\n",
    "xlabel(\"Min data in leaf\", fontsize = 14)\n",
    "ylabel(\"RMSE\", fontsize = 14)\n",
    "savefig(\"./plots/4.8.3.png\")"
   ]
  },
  {
   "cell_type": "markdown",
   "id": "18575c37",
   "metadata": {},
   "source": [
    "It does not seem like there is a huge risk for overfitting, and lower is better for this parameter.\n",
    "\n",
    "Using the learning curves above we can select some small-ish ranges to jointly search for the best combinations of these prameters via cross validation."
   ]
  },
  {
   "cell_type": "code",
   "execution_count": 31,
   "id": "6a545546",
   "metadata": {},
   "outputs": [
    {
     "name": "stderr",
     "output_type": "stream",
     "text": [
      "┌ Info: Training Machine{DeterministicTunedModel{Grid,…},…}.\n",
      "└ @ MLJBase C:\\Users\\jeffr\\.julia\\packages\\MLJBase\\MuLnJ\\src\\machines.jl:464\n",
      "┌ Info: Attempting to evaluate 125 models.\n",
      "└ @ MLJTuning C:\\Users\\jeffr\\.julia\\packages\\MLJTuning\\Al9yX\\src\\tuned_models.jl:680\n",
      "\u001b[33mEvaluating over 125 metamodels: 100%[=========================] Time: 0:00:23\u001b[39m\n"
     ]
    }
   ],
   "source": [
    "r1 = range(lgb, :num_iterations, lower = 50, upper = 100)\n",
    "r2 = range(lgb, :min_data_in_leaf, lower = 2, upper = 10)\n",
    "r3 = range(lgb, :learning_rate, lower = 1e-1, upper = 1e0)\n",
    "tm = TunedModel(model=lgb,\n",
    "                tuning = Grid(resolution=5),\n",
    "                resampling=CV(rng = StableRNG(123)),\n",
    "                ranges = [r1, r2, r3],\n",
    "                measures = rms)\n",
    "mtm = machine(tm, features, targets)\n",
    "fit!(mtm, rows = train);\n"
   ]
  },
  {
   "cell_type": "markdown",
   "id": "3b24a308",
   "metadata": {},
   "source": [
    "Let's see what the cross validation best model parameters turned out to be?"
   ]
  },
  {
   "cell_type": "code",
   "execution_count": 32,
   "id": "c625a4f2",
   "metadata": {},
   "outputs": [
    {
     "name": "stdout",
     "output_type": "stream",
     "text": [
      "best_model.learning_rate = 0.325\n",
      "best_model.min_data_in_leaf = 8\n",
      "best_model.num_iterations = 100\n"
     ]
    },
    {
     "data": {
      "text/plain": [
       "100"
      ]
     },
     "execution_count": 32,
     "metadata": {},
     "output_type": "execute_result"
    }
   ],
   "source": [
    "best_model = fitted_params(mtm).best_model\n",
    "@show best_model.learning_rate\n",
    "@show best_model.min_data_in_leaf\n",
    "@show best_model.num_iterations"
   ]
  },
  {
   "cell_type": "markdown",
   "id": "97b07632",
   "metadata": {},
   "source": [
    "Great, and now let's predict using the held out data."
   ]
  },
  {
   "cell_type": "code",
   "execution_count": 33,
   "id": "76d8c2bb",
   "metadata": {},
   "outputs": [
    {
     "name": "stdout",
     "output_type": "stream",
     "text": [
      "rms_score = 3.669\n"
     ]
    },
    {
     "data": {
      "text/plain": [
       "3.669"
      ]
     },
     "execution_count": 33,
     "metadata": {},
     "output_type": "execute_result"
    }
   ],
   "source": [
    "predictions = MLJ.predict(mtm, rows = test)\n",
    "rms_score = round(rms(predictions, targets[test, 1]), sigdigits = 4)\n",
    "\n",
    "@show rms_score"
   ]
  }
 ],
 "metadata": {
  "hide_input": false,
  "kernelspec": {
   "display_name": "Julia 1.7.3",
   "language": "julia",
   "name": "julia-1.7"
  },
  "language_info": {
   "file_extension": ".jl",
   "mimetype": "application/julia",
   "name": "julia",
   "version": "1.7.3"
  }
 },
 "nbformat": 4,
 "nbformat_minor": 5
}
