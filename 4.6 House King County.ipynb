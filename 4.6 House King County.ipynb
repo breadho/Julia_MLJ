{
 "cells": [
  {
   "cell_type": "markdown",
   "id": "790ca9c8",
   "metadata": {},
   "source": [
    "# End to end examples"
   ]
  },
  {
   "cell_type": "markdown",
   "id": "7a575ff0",
   "metadata": {},
   "source": [
    "## House King County\n",
    "\n",
    "> https://mlr-org.com/gallery/2020-01-30-house-prices-in-king-county/"
   ]
  },
  {
   "cell_type": "code",
   "execution_count": 1,
   "id": "aaed4726",
   "metadata": {},
   "outputs": [
    {
     "name": "stderr",
     "output_type": "stream",
     "text": [
      "\u001b[32m\u001b[1m  Activating\u001b[22m\u001b[39m project at `D:\\JULIA\\6_ML_with_Julia\\EX-housekingcounty`\n"
     ]
    }
   ],
   "source": [
    "using Pkg ; Pkg.activate(\"D:/JULIA/6_ML_with_Julia/EX-housekingcounty\"); Pkg.instantiate()"
   ]
  },
  {
   "cell_type": "markdown",
   "id": "dc77e2d0",
   "metadata": {},
   "source": [
    "> Getting started\n",
    "> 1. Loading and preparing the data\n",
    "> 2. Basic data visualisation\n",
    "\n",
    "> Fitting a first model\n",
    "> 1. Random forest model\n",
    "> 2. GBM"
   ]
  },
  {
   "cell_type": "markdown",
   "id": "546d9b83",
   "metadata": {},
   "source": [
    "### Getting started\n",
    "\n",
    "---"
   ]
  },
  {
   "cell_type": "markdown",
   "id": "43bba381",
   "metadata": {},
   "source": [
    "### Loading and preparing the data"
   ]
  },
  {
   "cell_type": "code",
   "execution_count": 2,
   "id": "f62e5afd",
   "metadata": {},
   "outputs": [
    {
     "data": {
      "text/html": [
       "<div class=\"data-frame\"><p>21 rows × 7 columns (omitted printing of 1 columns)</p><table class=\"data-frame\"><thead><tr><th></th><th>variable</th><th>mean</th><th>min</th><th>median</th><th>max</th><th>nmissing</th></tr><tr><th></th><th title=\"Symbol\">Symbol</th><th title=\"Union{Nothing, Float64}\">Union…</th><th title=\"Any\">Any</th><th title=\"Union{Nothing, Float64}\">Union…</th><th title=\"Any\">Any</th><th title=\"Int64\">Int64</th></tr></thead><tbody><tr><th>1</th><td>id</td><td>4.5803e9</td><td>1000102</td><td>3.90493e9</td><td>9900000190</td><td>0</td></tr><tr><th>2</th><td>date</td><td></td><td>20140502T000000</td><td></td><td>20150527T000000</td><td>0</td></tr><tr><th>3</th><td>price</td><td>5.40088e5</td><td>75000.0</td><td>450000.0</td><td>7.7e6</td><td>0</td></tr><tr><th>4</th><td>bedrooms</td><td>3.37084</td><td>0</td><td>3.0</td><td>33</td><td>0</td></tr><tr><th>5</th><td>bathrooms</td><td>2.11476</td><td>0.0</td><td>2.25</td><td>8.0</td><td>0</td></tr><tr><th>6</th><td>sqft_living</td><td>2079.9</td><td>290</td><td>1910.0</td><td>13540</td><td>0</td></tr><tr><th>7</th><td>sqft_lot</td><td>15107.0</td><td>520</td><td>7618.0</td><td>1651359</td><td>0</td></tr><tr><th>8</th><td>floors</td><td>1.49431</td><td>1.0</td><td>1.5</td><td>3.5</td><td>0</td></tr><tr><th>9</th><td>waterfront</td><td>0.00754176</td><td>0</td><td>0.0</td><td>1</td><td>0</td></tr><tr><th>10</th><td>view</td><td>0.234303</td><td>0</td><td>0.0</td><td>4</td><td>0</td></tr><tr><th>11</th><td>condition</td><td>3.40943</td><td>1</td><td>3.0</td><td>5</td><td>0</td></tr><tr><th>12</th><td>grade</td><td>7.65687</td><td>1</td><td>7.0</td><td>13</td><td>0</td></tr><tr><th>13</th><td>sqft_above</td><td>1788.39</td><td>290</td><td>1560.0</td><td>9410</td><td>0</td></tr><tr><th>14</th><td>sqft_basement</td><td>291.509</td><td>0</td><td>0.0</td><td>4820</td><td>0</td></tr><tr><th>15</th><td>yr_built</td><td>1971.01</td><td>1900</td><td>1975.0</td><td>2015</td><td>0</td></tr><tr><th>16</th><td>yr_renovated</td><td>84.4023</td><td>0</td><td>0.0</td><td>2015</td><td>0</td></tr><tr><th>17</th><td>zipcode</td><td>98077.9</td><td>98001</td><td>98065.0</td><td>98199</td><td>0</td></tr><tr><th>18</th><td>lat</td><td>47.5601</td><td>47.1559</td><td>47.5718</td><td>47.7776</td><td>0</td></tr><tr><th>19</th><td>long</td><td>-122.214</td><td>-122.519</td><td>-122.23</td><td>-121.315</td><td>0</td></tr><tr><th>20</th><td>sqft_living15</td><td>1986.55</td><td>399</td><td>1840.0</td><td>6210</td><td>0</td></tr><tr><th>21</th><td>sqft_lot15</td><td>12768.5</td><td>651</td><td>7620.0</td><td>871200</td><td>0</td></tr></tbody></table></div>"
      ],
      "text/latex": [
       "\\begin{tabular}{r|ccccccc}\n",
       "\t& variable & mean & min & median & max & nmissing & \\\\\n",
       "\t\\hline\n",
       "\t& Symbol & Union… & Any & Union… & Any & Int64 & \\\\\n",
       "\t\\hline\n",
       "\t1 & id & 4.5803e9 & 1000102 & 3.90493e9 & 9900000190 & 0 & $\\dots$ \\\\\n",
       "\t2 & date &  & 20140502T000000 &  & 20150527T000000 & 0 & $\\dots$ \\\\\n",
       "\t3 & price & 5.40088e5 & 75000.0 & 450000.0 & 7.7e6 & 0 & $\\dots$ \\\\\n",
       "\t4 & bedrooms & 3.37084 & 0 & 3.0 & 33 & 0 & $\\dots$ \\\\\n",
       "\t5 & bathrooms & 2.11476 & 0.0 & 2.25 & 8.0 & 0 & $\\dots$ \\\\\n",
       "\t6 & sqft\\_living & 2079.9 & 290 & 1910.0 & 13540 & 0 & $\\dots$ \\\\\n",
       "\t7 & sqft\\_lot & 15107.0 & 520 & 7618.0 & 1651359 & 0 & $\\dots$ \\\\\n",
       "\t8 & floors & 1.49431 & 1.0 & 1.5 & 3.5 & 0 & $\\dots$ \\\\\n",
       "\t9 & waterfront & 0.00754176 & 0 & 0.0 & 1 & 0 & $\\dots$ \\\\\n",
       "\t10 & view & 0.234303 & 0 & 0.0 & 4 & 0 & $\\dots$ \\\\\n",
       "\t11 & condition & 3.40943 & 1 & 3.0 & 5 & 0 & $\\dots$ \\\\\n",
       "\t12 & grade & 7.65687 & 1 & 7.0 & 13 & 0 & $\\dots$ \\\\\n",
       "\t13 & sqft\\_above & 1788.39 & 290 & 1560.0 & 9410 & 0 & $\\dots$ \\\\\n",
       "\t14 & sqft\\_basement & 291.509 & 0 & 0.0 & 4820 & 0 & $\\dots$ \\\\\n",
       "\t15 & yr\\_built & 1971.01 & 1900 & 1975.0 & 2015 & 0 & $\\dots$ \\\\\n",
       "\t16 & yr\\_renovated & 84.4023 & 0 & 0.0 & 2015 & 0 & $\\dots$ \\\\\n",
       "\t17 & zipcode & 98077.9 & 98001 & 98065.0 & 98199 & 0 & $\\dots$ \\\\\n",
       "\t18 & lat & 47.5601 & 47.1559 & 47.5718 & 47.7776 & 0 & $\\dots$ \\\\\n",
       "\t19 & long & -122.214 & -122.519 & -122.23 & -121.315 & 0 & $\\dots$ \\\\\n",
       "\t20 & sqft\\_living15 & 1986.55 & 399 & 1840.0 & 6210 & 0 & $\\dots$ \\\\\n",
       "\t21 & sqft\\_lot15 & 12768.5 & 651 & 7620.0 & 871200 & 0 & $\\dots$ \\\\\n",
       "\\end{tabular}\n"
      ],
      "text/plain": [
       "\u001b[1m21×7 DataFrame\u001b[0m\n",
       "\u001b[1m Row \u001b[0m│\u001b[1m variable      \u001b[0m\u001b[1m mean       \u001b[0m\u001b[1m min             \u001b[0m\u001b[1m median    \u001b[0m\u001b[1m max             \u001b[0m\u001b[1m\u001b[0m ⋯\n",
       "\u001b[1m     \u001b[0m│\u001b[90m Symbol        \u001b[0m\u001b[90m Union…     \u001b[0m\u001b[90m Any             \u001b[0m\u001b[90m Union…    \u001b[0m\u001b[90m Any             \u001b[0m\u001b[90m\u001b[0m ⋯\n",
       "─────┼──────────────────────────────────────────────────────────────────────────\n",
       "   1 │ id             4.5803e9    1000102          3.90493e9  9900000190       ⋯\n",
       "   2 │ date          \u001b[90m            \u001b[0m 20140502T000000 \u001b[90m           \u001b[0m 20150527T000000\n",
       "   3 │ price          5.40088e5   75000.0          450000.0   7.7e6\n",
       "   4 │ bedrooms       3.37084     0                3.0        33\n",
       "   5 │ bathrooms      2.11476     0.0              2.25       8.0              ⋯\n",
       "   6 │ sqft_living    2079.9      290              1910.0     13540\n",
       "   7 │ sqft_lot       15107.0     520              7618.0     1651359\n",
       "   8 │ floors         1.49431     1.0              1.5        3.5\n",
       "   9 │ waterfront     0.00754176  0                0.0        1                ⋯\n",
       "  10 │ view           0.234303    0                0.0        4\n",
       "  11 │ condition      3.40943     1                3.0        5\n",
       "  12 │ grade          7.65687     1                7.0        13\n",
       "  13 │ sqft_above     1788.39     290              1560.0     9410             ⋯\n",
       "  14 │ sqft_basement  291.509     0                0.0        4820\n",
       "  15 │ yr_built       1971.01     1900             1975.0     2015\n",
       "  16 │ yr_renovated   84.4023     0                0.0        2015\n",
       "  17 │ zipcode        98077.9     98001            98065.0    98199            ⋯\n",
       "  18 │ lat            47.5601     47.1559          47.5718    47.7776\n",
       "  19 │ long           -122.214    -122.519         -122.23    -121.315\n",
       "  20 │ sqft_living15  1986.55     399              1840.0     6210\n",
       "  21 │ sqft_lot15     12768.5     651              7620.0     871200           ⋯\n",
       "\u001b[36m                                                               2 columns omitted\u001b[0m"
      ]
     },
     "execution_count": 2,
     "metadata": {},
     "output_type": "execute_result"
    }
   ],
   "source": [
    "using MLJ\n",
    "using PrettyPrinting\n",
    "import DataFrames: DataFrame, select!, Not, describe\n",
    "import Statistics\n",
    "using Dates\n",
    "using PyPlot\n",
    "using UrlDownload\n",
    "\n",
    "df = DataFrame(urldownload(\"https://raw.githubusercontent.com/tlienart/DataScienceTutorialsData.jl/master/data/kc_housing.csv\", true))\n",
    "describe(df)"
   ]
  },
  {
   "cell_type": "markdown",
   "id": "88be2d5a",
   "metadata": {},
   "source": [
    "We drop unrelated columns"
   ]
  },
  {
   "cell_type": "code",
   "execution_count": 3,
   "id": "716d451b",
   "metadata": {},
   "outputs": [
    {
     "data": {
      "text/plain": [
       "┌───────────────┬────────────┬─────────┐\n",
       "│\u001b[22m names         \u001b[0m│\u001b[22m scitypes   \u001b[0m│\u001b[22m types   \u001b[0m│\n",
       "├───────────────┼────────────┼─────────┤\n",
       "│ price         │ Continuous │ Float64 │\n",
       "│ bedrooms      │ Count      │ Int64   │\n",
       "│ bathrooms     │ Continuous │ Float64 │\n",
       "│ sqft_living   │ Count      │ Int64   │\n",
       "│ sqft_lot      │ Count      │ Int64   │\n",
       "│ floors        │ Continuous │ Float64 │\n",
       "│ waterfront    │ Count      │ Int64   │\n",
       "│ view          │ Count      │ Int64   │\n",
       "│ condition     │ Count      │ Int64   │\n",
       "│ grade         │ Count      │ Int64   │\n",
       "│ sqft_above    │ Count      │ Int64   │\n",
       "│ sqft_basement │ Count      │ Int64   │\n",
       "│ yr_built      │ Count      │ Int64   │\n",
       "│ yr_renovated  │ Count      │ Int64   │\n",
       "│ zipcode       │ Count      │ Int64   │\n",
       "│ lat           │ Continuous │ Float64 │\n",
       "│ long          │ Continuous │ Float64 │\n",
       "│ sqft_living15 │ Count      │ Int64   │\n",
       "│ sqft_lot15    │ Count      │ Int64   │\n",
       "└───────────────┴────────────┴─────────┘\n"
      ]
     },
     "execution_count": 3,
     "metadata": {},
     "output_type": "execute_result"
    }
   ],
   "source": [
    "select!(df, Not([:id, :date]))\n",
    "schema(df)"
   ]
  },
  {
   "cell_type": "markdown",
   "id": "5e6a77c4",
   "metadata": {},
   "source": [
    "Afterwards, we convert the zip code to an unordered factor (Multiclass), we also create two binary features isrenovated and has_basement derived from yr_renovated and sqft_basement:"
   ]
  },
  {
   "cell_type": "code",
   "execution_count": 4,
   "id": "0ee57798",
   "metadata": {},
   "outputs": [
    {
     "data": {
      "text/plain": [
       "21613-element BitVector:\n",
       " 0\n",
       " 1\n",
       " 0\n",
       " 1\n",
       " 0\n",
       " 1\n",
       " 0\n",
       " 0\n",
       " 1\n",
       " 0\n",
       " 1\n",
       " 1\n",
       " 0\n",
       " ⋮\n",
       " 0\n",
       " 0\n",
       " 0\n",
       " 0\n",
       " 0\n",
       " 1\n",
       " 1\n",
       " 0\n",
       " 0\n",
       " 0\n",
       " 0\n",
       " 0"
      ]
     },
     "execution_count": 4,
     "metadata": {},
     "output_type": "execute_result"
    }
   ],
   "source": [
    "coerce!(df, :zipcode => Multiclass)\n",
    "df.isrenovated = @. !iszero(df.yr_renovated)\n",
    "df.has_basement = @. !iszero(df.sqft_basement)"
   ]
  },
  {
   "cell_type": "code",
   "execution_count": 5,
   "id": "0202dd39",
   "metadata": {},
   "outputs": [
    {
     "data": {
      "text/plain": [
       "┌───────────────┬────────────────┬─────────────────────────────────┐\n",
       "│\u001b[22m names         \u001b[0m│\u001b[22m scitypes       \u001b[0m│\u001b[22m types                           \u001b[0m│\n",
       "├───────────────┼────────────────┼─────────────────────────────────┤\n",
       "│ price         │ Continuous     │ Float64                         │\n",
       "│ bedrooms      │ Count          │ Int64                           │\n",
       "│ bathrooms     │ Continuous     │ Float64                         │\n",
       "│ sqft_living   │ Count          │ Int64                           │\n",
       "│ sqft_lot      │ Count          │ Int64                           │\n",
       "│ floors        │ Continuous     │ Float64                         │\n",
       "│ waterfront    │ Count          │ Int64                           │\n",
       "│ view          │ Count          │ Int64                           │\n",
       "│ condition     │ Count          │ Int64                           │\n",
       "│ grade         │ Count          │ Int64                           │\n",
       "│ sqft_above    │ Count          │ Int64                           │\n",
       "│ sqft_basement │ Count          │ Int64                           │\n",
       "│ yr_built      │ Count          │ Int64                           │\n",
       "│ yr_renovated  │ Count          │ Int64                           │\n",
       "│ zipcode       │ Multiclass{70} │ CategoricalValue{Int64, UInt32} │\n",
       "│ lat           │ Continuous     │ Float64                         │\n",
       "│ long          │ Continuous     │ Float64                         │\n",
       "│ sqft_living15 │ Count          │ Int64                           │\n",
       "│ sqft_lot15    │ Count          │ Int64                           │\n",
       "│ isrenovated   │ Count          │ Bool                            │\n",
       "│ has_basement  │ Count          │ Bool                            │\n",
       "└───────────────┴────────────────┴─────────────────────────────────┘\n"
      ]
     },
     "execution_count": 5,
     "metadata": {},
     "output_type": "execute_result"
    }
   ],
   "source": [
    "schema(df)"
   ]
  },
  {
   "cell_type": "markdown",
   "id": "423d8a58",
   "metadata": {},
   "source": [
    "These created variables should be treated as OrderedFactor,"
   ]
  },
  {
   "cell_type": "code",
   "execution_count": 6,
   "id": "3acdd065",
   "metadata": {},
   "outputs": [],
   "source": [
    "coerce!(df, :isrenovated => OrderedFactor, :has_basement => OrderedFactor);"
   ]
  },
  {
   "cell_type": "markdown",
   "id": "453729f3",
   "metadata": {},
   "source": [
    "The feature `waterfron`t is currently encoded as a string, but it's really just a boolean:"
   ]
  },
  {
   "cell_type": "code",
   "execution_count": 7,
   "id": "d96c7380",
   "metadata": {},
   "outputs": [
    {
     "data": {
      "text/plain": [
       "2-element Vector{Int64}:\n",
       " 0\n",
       " 1"
      ]
     },
     "execution_count": 7,
     "metadata": {},
     "output_type": "execute_result"
    }
   ],
   "source": [
    "unique(df.waterfront)"
   ]
  },
  {
   "cell_type": "markdown",
   "id": "8aaf0577",
   "metadata": {},
   "source": [
    "So let's recode it"
   ]
  },
  {
   "cell_type": "code",
   "execution_count": 8,
   "id": "9a6fc8f8",
   "metadata": {},
   "outputs": [],
   "source": [
    "df.waterfront = (df.waterfront .!=\"FALSE\")\n",
    "coerce!(df, :waterfront => OrderedFactor);"
   ]
  },
  {
   "cell_type": "code",
   "execution_count": 10,
   "id": "ad2ffcc2",
   "metadata": {},
   "outputs": [
    {
     "data": {
      "text/plain": [
       "┌───────────────┬──────────────────┬─────────────────────────────────┐\n",
       "│\u001b[22m names         \u001b[0m│\u001b[22m scitypes         \u001b[0m│\u001b[22m types                           \u001b[0m│\n",
       "├───────────────┼──────────────────┼─────────────────────────────────┤\n",
       "│ price         │ Continuous       │ Float64                         │\n",
       "│ bedrooms      │ Count            │ Int64                           │\n",
       "│ bathrooms     │ Continuous       │ Float64                         │\n",
       "│ sqft_living   │ Count            │ Int64                           │\n",
       "│ sqft_lot      │ Count            │ Int64                           │\n",
       "│ floors        │ Continuous       │ Float64                         │\n",
       "│ waterfront    │ OrderedFactor{1} │ CategoricalValue{Bool, UInt32}  │\n",
       "│ view          │ Count            │ Int64                           │\n",
       "│ condition     │ Count            │ Int64                           │\n",
       "│ grade         │ Count            │ Int64                           │\n",
       "│ sqft_above    │ Count            │ Int64                           │\n",
       "│ sqft_basement │ Count            │ Int64                           │\n",
       "│ yr_built      │ Count            │ Int64                           │\n",
       "│ yr_renovated  │ Count            │ Int64                           │\n",
       "│ zipcode       │ Multiclass{70}   │ CategoricalValue{Int64, UInt32} │\n",
       "│ lat           │ Continuous       │ Float64                         │\n",
       "│ long          │ Continuous       │ Float64                         │\n",
       "│ sqft_living15 │ Count            │ Int64                           │\n",
       "│ sqft_lot15    │ Count            │ Int64                           │\n",
       "│ isrenovated   │ OrderedFactor{2} │ CategoricalValue{Bool, UInt32}  │\n",
       "│ has_basement  │ OrderedFactor{2} │ CategoricalValue{Bool, UInt32}  │\n",
       "└───────────────┴──────────────────┴─────────────────────────────────┘\n"
      ]
     },
     "execution_count": 10,
     "metadata": {},
     "output_type": "execute_result"
    }
   ],
   "source": [
    "schema(df)"
   ]
  },
  {
   "cell_type": "markdown",
   "id": "30969df2",
   "metadata": {},
   "source": [
    "For a number of the remaining features which are treated as `Count` there are few unique values in which case it might make more sense to recode them as OrderedFactor, this can be done with `autotype`:"
   ]
  },
  {
   "cell_type": "code",
   "execution_count": 11,
   "id": "2df33963",
   "metadata": {},
   "outputs": [
    {
     "data": {
      "text/plain": [
       "┌───────────────┬───────────────────┬───────────────────────────────────┐\n",
       "│\u001b[22m names         \u001b[0m│\u001b[22m scitypes          \u001b[0m│\u001b[22m types                             \u001b[0m│\n",
       "├───────────────┼───────────────────┼───────────────────────────────────┤\n",
       "│ price         │ Continuous        │ Float64                           │\n",
       "│ bedrooms      │ OrderedFactor{13} │ CategoricalValue{Int64, UInt32}   │\n",
       "│ bathrooms     │ OrderedFactor{30} │ CategoricalValue{Float64, UInt32} │\n",
       "│ sqft_living   │ Count             │ Int64                             │\n",
       "│ sqft_lot      │ Count             │ Int64                             │\n",
       "│ floors        │ OrderedFactor{6}  │ CategoricalValue{Float64, UInt32} │\n",
       "│ waterfront    │ OrderedFactor{1}  │ CategoricalValue{Bool, UInt32}    │\n",
       "│ view          │ OrderedFactor{5}  │ CategoricalValue{Int64, UInt32}   │\n",
       "│ condition     │ OrderedFactor{5}  │ CategoricalValue{Int64, UInt32}   │\n",
       "│ grade         │ OrderedFactor{12} │ CategoricalValue{Int64, UInt32}   │\n",
       "│ sqft_above    │ Count             │ Int64                             │\n",
       "│ sqft_basement │ Count             │ Int64                             │\n",
       "│ yr_built      │ Count             │ Int64                             │\n",
       "│ yr_renovated  │ OrderedFactor{70} │ CategoricalValue{Int64, UInt32}   │\n",
       "│ zipcode       │ Multiclass{70}    │ CategoricalValue{Int64, UInt32}   │\n",
       "│ lat           │ Continuous        │ Float64                           │\n",
       "│ long          │ Continuous        │ Float64                           │\n",
       "│ sqft_living15 │ Count             │ Int64                             │\n",
       "│ sqft_lot15    │ Count             │ Int64                             │\n",
       "│ isrenovated   │ OrderedFactor{2}  │ CategoricalValue{Bool, UInt32}    │\n",
       "│ has_basement  │ OrderedFactor{2}  │ CategoricalValue{Bool, UInt32}    │\n",
       "└───────────────┴───────────────────┴───────────────────────────────────┘\n"
      ]
     },
     "execution_count": 11,
     "metadata": {},
     "output_type": "execute_result"
    }
   ],
   "source": [
    "coerce!(df, autotype(df, :few_to_finite))\n",
    "schema(df)"
   ]
  },
  {
   "cell_type": "markdown",
   "id": "fad38c7e",
   "metadata": {},
   "source": [
    "Let's also rescale the column `price` to be 1000s the dollars:"
   ]
  },
  {
   "cell_type": "code",
   "execution_count": 13,
   "id": "4a640bd2",
   "metadata": {},
   "outputs": [],
   "source": [
    "df.price = df.price ./ 1000;"
   ]
  },
  {
   "cell_type": "markdown",
   "id": "069e2095",
   "metadata": {},
   "source": [
    "For simplicity let's just drop a few additional columns that don't seem to matter much:"
   ]
  },
  {
   "cell_type": "code",
   "execution_count": 14,
   "id": "c9572efe",
   "metadata": {},
   "outputs": [],
   "source": [
    "select!(df, Not([:yr_renovated, :sqft_basement, :zipcode]));"
   ]
  },
  {
   "cell_type": "markdown",
   "id": "07517ab1",
   "metadata": {},
   "source": [
    "### Basic data visualisation"
   ]
  },
  {
   "cell_type": "markdown",
   "id": "25ee6b9b",
   "metadata": {},
   "source": [
    "Let's plot a basic histogram of the prices to get an idea for the distribution:"
   ]
  },
  {
   "cell_type": "code",
   "execution_count": 16,
   "id": "1a2998dc",
   "metadata": {},
   "outputs": [
    {
     "data": {
      "image/png": "[encoded data removed]",
      "text/plain": [
       "Figure(PyObject <Figure size 800x600 with 1 Axes>)"
      ]
     },
     "metadata": {},
     "output_type": "display_data"
    }
   ],
   "source": [
    "plt.figure(figsize = (8,6))\n",
    "plt.hist(df.price, color = \"blue\", edgecolor = \"white\", bins=50, density = true, alpha = 0.5)\n",
    "plt.xlabel(\"Price\", fontsize = 14)\n",
    "plt.ylabel(\"Frequency\", fontsize = 14)\n",
    "savefig(\"./plots/4.6.1.png\")"
   ]
  },
  {
   "cell_type": "markdown",
   "id": "71238c4d",
   "metadata": {},
   "source": [
    "Let's see if there's a difference between renovated and unrenovated flats:"
   ]
  },
  {
   "cell_type": "code",
   "execution_count": 17,
   "id": "a37bb715",
   "metadata": {},
   "outputs": [
    {
     "data": {
      "image/png": "[encoded data removed]",
      "text/plain": [
       "Figure(PyObject <Figure size 800x600 with 1 Axes>)"
      ]
     },
     "metadata": {},
     "output_type": "display_data"
    }
   ],
   "source": [
    "plt.figure(figsize=(8,6))\n",
    "plt.hist(df.price[df.isrenovated .== true], color = \"blue\", density=true, \n",
    "        edgecolor = \"white\", bins = 50, label = \"renovated\", alpha = 0.5)\n",
    "plt.hist(df.price[df.isrenovated .== false], color = \"red\", density = true,\n",
    "        edgecolor = \"white\", bins = 50, label = \"unrenovated\", alpha = 0.5)\n",
    "plt.xlabel(\"Price\", fontsize = 14)\n",
    "plt.ylabel(\"Frequency\", fontsize = 14)\n",
    "plt.legend(fontsize = 12)\n",
    "savefig(\"./plots/4.6.2.png\")"
   ]
  },
  {
   "cell_type": "markdown",
   "id": "5f5058e9",
   "metadata": {},
   "source": [
    "We can observe that renovated flats seem to achieve higher sales values, and this might thus be a relevant feature.\n",
    "\n",
    "Likewise, this could be done to verify that `condition`, `waterfront` etc are important features."
   ]
  },
  {
   "cell_type": "markdown",
   "id": "78db6d57",
   "metadata": {},
   "source": [
    "### Fitting a first model\n",
    "\n",
    "---"
   ]
  },
  {
   "cell_type": "code",
   "execution_count": 19,
   "id": "a60d9beb",
   "metadata": {},
   "outputs": [
    {
     "name": "stdout",
     "output_type": "stream",
     "text": [
      "import MLJDecisionTreeInterface ✔"
     ]
    },
    {
     "name": "stderr",
     "output_type": "stream",
     "text": [
      "┌ Info: For silent loading, specify `verbosity=0`. \n",
      "└ @ Main C:\\Users\\jeffr\\.julia\\packages\\MLJModels\\tMgLW\\src\\loading.jl:168\n"
     ]
    },
    {
     "name": "stdout",
     "output_type": "stream",
     "text": [
      "\n"
     ]
    },
    {
     "data": {
      "text/plain": [
       "([20388, 12132, 8870, 14461, 13025, 5446, 16753, 1028, 2583, 21485  …  15174, 7564, 3237, 8924, 19348, 11333, 16320, 21245, 8848, 16496], [6769, 15022, 2162, 6993, 7712, 13989, 18130, 3744, 20210, 18819  …  13967, 6209, 4581, 10476, 18052, 10550, 20320, 12354, 4103, 997])"
      ]
     },
     "execution_count": 19,
     "metadata": {},
     "output_type": "execute_result"
    }
   ],
   "source": [
    "DTR = @load DecisionTreeRegressor pkg=DecisionTree\n",
    "\n",
    "y, X = unpack(df, ==(:price))\n",
    "train, test = partition(collect(eachindex(y)), 0.7, shuffle=true, rng=5)"
   ]
  },
  {
   "cell_type": "code",
   "execution_count": 20,
   "id": "94f32e56",
   "metadata": {},
   "outputs": [
    {
     "data": {
      "text/plain": [
       "Machine{DecisionTreeRegressor,…} trained 0 times; caches data\n",
       "  model: MLJDecisionTreeInterface.DecisionTreeRegressor\n",
       "  args: \n",
       "    1:\tSource @406 ⏎ `Table{Union{AbstractVector{Continuous}, AbstractVector{Count}, AbstractVector{OrderedFactor{30}}, AbstractVector{OrderedFactor{13}}, AbstractVector{OrderedFactor{6}}, AbstractVector{OrderedFactor{1}}, AbstractVector{OrderedFactor{12}}, AbstractVector{OrderedFactor{5}}, AbstractVector{OrderedFactor{2}}}}`\n",
       "    2:\tSource @536 ⏎ `AbstractVector{Continuous}`\n"
      ]
     },
     "execution_count": 20,
     "metadata": {},
     "output_type": "execute_result"
    }
   ],
   "source": [
    "tree = machine(DTR(), X, y)"
   ]
  },
  {
   "cell_type": "code",
   "execution_count": 21,
   "id": "f7fd770d",
   "metadata": {},
   "outputs": [
    {
     "name": "stderr",
     "output_type": "stream",
     "text": [
      "┌ Info: Training Machine{DecisionTreeRegressor,…}.\n",
      "└ @ MLJBase C:\\Users\\jeffr\\.julia\\packages\\MLJBase\\MuLnJ\\src\\machines.jl:464\n"
     ]
    },
    {
     "data": {
      "text/plain": [
       "Machine{DecisionTreeRegressor,…} trained 1 time; caches data\n",
       "  model: MLJDecisionTreeInterface.DecisionTreeRegressor\n",
       "  args: \n",
       "    1:\tSource @406 ⏎ `Table{Union{AbstractVector{Continuous}, AbstractVector{Count}, AbstractVector{OrderedFactor{30}}, AbstractVector{OrderedFactor{13}}, AbstractVector{OrderedFactor{6}}, AbstractVector{OrderedFactor{1}}, AbstractVector{OrderedFactor{12}}, AbstractVector{OrderedFactor{5}}, AbstractVector{OrderedFactor{2}}}}`\n",
       "    2:\tSource @536 ⏎ `AbstractVector{Continuous}`\n"
      ]
     },
     "execution_count": 21,
     "metadata": {},
     "output_type": "execute_result"
    }
   ],
   "source": [
    "fit!(tree, rows = train)"
   ]
  },
  {
   "cell_type": "markdown",
   "id": "d9ff9802",
   "metadata": {},
   "source": [
    "Let's see how it does"
   ]
  },
  {
   "cell_type": "code",
   "execution_count": 22,
   "id": "abce5517",
   "metadata": {},
   "outputs": [
    {
     "data": {
      "text/plain": [
       "179.62279406715433"
      ]
     },
     "execution_count": 22,
     "metadata": {},
     "output_type": "execute_result"
    }
   ],
   "source": [
    "rms(y[test], MLJ.predict(tree, rows = test))"
   ]
  },
  {
   "cell_type": "markdown",
   "id": "a87fe313",
   "metadata": {},
   "source": [
    "Let's try to do better."
   ]
  },
  {
   "cell_type": "markdown",
   "id": "666ed711",
   "metadata": {},
   "source": [
    "### Random forest model"
   ]
  },
  {
   "cell_type": "markdown",
   "id": "955d8709",
   "metadata": {},
   "source": [
    "We might be able to improve upon the RMSE using more powerful learners."
   ]
  },
  {
   "cell_type": "code",
   "execution_count": 23,
   "id": "ea7d1330",
   "metadata": {},
   "outputs": [
    {
     "name": "stdout",
     "output_type": "stream",
     "text": [
      "import MLJScikitLearnInterface"
     ]
    },
    {
     "name": "stderr",
     "output_type": "stream",
     "text": [
      "┌ Info: For silent loading, specify `verbosity=0`. \n",
      "└ @ Main C:\\Users\\jeffr\\.julia\\packages\\MLJModels\\tMgLW\\src\\loading.jl:168\n"
     ]
    },
    {
     "name": "stdout",
     "output_type": "stream",
     "text": [
      " ✔\n"
     ]
    },
    {
     "data": {
      "text/plain": [
       "MLJScikitLearnInterface.RandomForestRegressor"
      ]
     },
     "execution_count": 23,
     "metadata": {},
     "output_type": "execute_result"
    }
   ],
   "source": [
    "RFR = @load RandomForestRegressor pkg = ScikitLearn"
   ]
  },
  {
   "cell_type": "markdown",
   "id": "73fdbbed",
   "metadata": {},
   "source": [
    "That model only accepts input in the form of `Count` and so we have to coerce all `Finite` types into `Count`:"
   ]
  },
  {
   "cell_type": "code",
   "execution_count": 24,
   "id": "4838ed16",
   "metadata": {},
   "outputs": [],
   "source": [
    "coerce!(X, Finite => Count);"
   ]
  },
  {
   "cell_type": "markdown",
   "id": "9121dc46",
   "metadata": {},
   "source": [
    "Now we can fit"
   ]
  },
  {
   "cell_type": "code",
   "execution_count": 25,
   "id": "d8e96ea8",
   "metadata": {},
   "outputs": [
    {
     "name": "stderr",
     "output_type": "stream",
     "text": [
      "┌ Info: Training Machine{RandomForestRegressor,…}.\n",
      "└ @ MLJBase C:\\Users\\jeffr\\.julia\\packages\\MLJBase\\MuLnJ\\src\\machines.jl:464\n",
      "C:\\Users\\jeffr\\.julia\\conda\\3\\lib\\site-packages\\sklearn\\ensemble\\_forest.py:400: FutureWarning: Criterion 'mse' was deprecated in v1.0 and will be removed in version 1.2. Use `criterion='squared_error'` which is equivalent.\n",
      "  warn(\n",
      "C:\\Users\\jeffr\\.julia\\conda\\3\\lib\\site-packages\\sklearn\\ensemble\\_forest.py:416: FutureWarning: `max_features='auto'` has been deprecated in 1.1 and will be removed in 1.3. To keep the past behaviour, explicitly set `max_features=1.0` or remove this parameter as it is also the default value for RandomForestRegressors and ExtraTreesRegressors.\n",
      "  warn(\n"
     ]
    },
    {
     "data": {
      "text/plain": [
       "136.05056190268132"
      ]
     },
     "execution_count": 25,
     "metadata": {},
     "output_type": "execute_result"
    }
   ],
   "source": [
    "rf_mdl = RFR()\n",
    "rf = machine(rf_mdl, X, y)\n",
    "fit!(rf, rows = train)\n",
    "\n",
    "rms(y[test], MLJ.predict(rf, rows = test))"
   ]
  },
  {
   "cell_type": "markdown",
   "id": "c63b2a86",
   "metadata": {},
   "source": [
    "A bit better but it would be best to check this a bit more carefully:"
   ]
  },
  {
   "cell_type": "code",
   "execution_count": 27,
   "id": "62eaa1ac",
   "metadata": {},
   "outputs": [
    {
     "name": "stderr",
     "output_type": "stream",
     "text": [
      "C:\\Users\\jeffr\\.julia\\conda\\3\\lib\\site-packages\\sklearn\\ensemble\\_forest.py:400: FutureWarning: Criterion 'mse' was deprecated in v1.0 and will be removed in version 1.2. Use `criterion='squared_error'` which is equivalent.\r\n",
      "  warn(\r\n",
      "C:\\Users\\jeffr\\.julia\\conda\\3\\lib\\site-packages\\sklearn\\ensemble\\_forest.py:416: FutureWarning: `max_features='auto'` has been deprecated in 1.1 and will be removed in 1.3. To keep the past behaviour, explicitly set `max_features=1.0` or remove this parameter as it is also the default value for RandomForestRegressors and ExtraTreesRegressors.\r\n",
      "  warn(\r\n",
      "C:\\Users\\jeffr\\.julia\\conda\\3\\lib\\site-packages\\sklearn\\utils\\deprecation.py:103: FutureWarning: Attribute `n_features_` was deprecated in version 1.0 and will be removed in 1.2. Use `n_features_in_` instead.\r\n",
      "  warnings.warn(msg, category=FutureWarning)\r\n",
      "C:\\Users\\jeffr\\.julia\\conda\\3\\lib\\site-packages\\sklearn\\ensemble\\_forest.py:400: FutureWarning: Criterion 'mse' was deprecated in v1.0 and will be removed in version 1.2. Use `criterion='squared_error'` which is equivalent.\r\n",
      "  warn(\r\n",
      "C:\\Users\\jeffr\\.julia\\conda\\3\\lib\\site-packages\\sklearn\\ensemble\\_forest.py:416: FutureWarning: `max_features='auto'` has been deprecated in 1.1 and will be removed in 1.3. To keep the past behaviour, explicitly set `max_features=1.0` or remove this parameter as it is also the default value for RandomForestRegressors and ExtraTreesRegressors.\r\n",
      "  warn(\r\n",
      "C:\\Users\\jeffr\\.julia\\conda\\3\\lib\\site-packages\\sklearn\\utils\\deprecation.py:103: FutureWarning: Attribute `n_features_` was deprecated in version 1.0 and will be removed in 1.2. Use `n_features_in_` instead.\r\n",
      "  warnings.warn(msg, category=FutureWarning)\r\n",
      "C:\\Users\\jeffr\\.julia\\conda\\3\\lib\\site-packages\\sklearn\\ensemble\\_forest.py:400: FutureWarning: Criterion 'mse' was deprecated in v1.0 and will be removed in version 1.2. Use `criterion='squared_error'` which is equivalent.\r\n",
      "  warn(\r\n",
      "C:\\Users\\jeffr\\.julia\\conda\\3\\lib\\site-packages\\sklearn\\ensemble\\_forest.py:416: FutureWarning: `max_features='auto'` has been deprecated in 1.1 and will be removed in 1.3. To keep the past behaviour, explicitly set `max_features=1.0` or remove this parameter as it is also the default value for RandomForestRegressors and ExtraTreesRegressors.\r\n",
      "  warn(\r\n",
      "C:\\Users\\jeffr\\.julia\\conda\\3\\lib\\site-packages\\sklearn\\utils\\deprecation.py:103: FutureWarning: Attribute `n_features_` was deprecated in version 1.0 and will be removed in 1.2. Use `n_features_in_` instead.\r\n",
      "  warnings.warn(msg, category=FutureWarning)\r\n",
      "C:\\Users\\jeffr\\.julia\\conda\\3\\lib\\site-packages\\sklearn\\ensemble\\_forest.py:400: FutureWarning: Criterion 'mse' was deprecated in v1.0 and will be removed in version 1.2. Use `criterion='squared_error'` which is equivalent.\r\n",
      "  warn(\r\n",
      "C:\\Users\\jeffr\\.julia\\conda\\3\\lib\\site-packages\\sklearn\\ensemble\\_forest.py:416: FutureWarning: `max_features='auto'` has been deprecated in 1.1 and will be removed in 1.3. To keep the past behaviour, explicitly set `max_features=1.0` or remove this parameter as it is also the default value for RandomForestRegressors and ExtraTreesRegressors.\r\n",
      "  warn(\r\n",
      "C:\\Users\\jeffr\\.julia\\conda\\3\\lib\\site-packages\\sklearn\\utils\\deprecation.py:103: FutureWarning: Attribute `n_features_` was deprecated in version 1.0 and will be removed in 1.2. Use `n_features_in_` instead.\r\n",
      "  warnings.warn(msg, category=FutureWarning)\r\n",
      "C:\\Users\\jeffr\\.julia\\conda\\3\\lib\\site-packages\\sklearn\\ensemble\\_forest.py:400: FutureWarning: Criterion 'mse' was deprecated in v1.0 and will be removed in version 1.2. Use `criterion='squared_error'` which is equivalent.\r\n",
      "  warn(\r\n",
      "C:\\Users\\jeffr\\.julia\\conda\\3\\lib\\site-packages\\sklearn\\ensemble\\_forest.py:416: FutureWarning: `max_features='auto'` has been deprecated in 1.1 and will be removed in 1.3. To keep the past behaviour, explicitly set `max_features=1.0` or remove this parameter as it is also the default value for RandomForestRegressors and ExtraTreesRegressors.\r\n",
      "  warn(\r\n",
      "C:\\Users\\jeffr\\.julia\\conda\\3\\lib\\site-packages\\sklearn\\utils\\deprecation.py:103: FutureWarning: Attribute `n_features_` was deprecated in version 1.0 and will be removed in 1.2. Use `n_features_in_` instead.\r\n",
      "  warnings.warn(msg, category=FutureWarning)\r\n",
      "C:\\Users\\jeffr\\.julia\\conda\\3\\lib\\site-packages\\sklearn\\ensemble\\_forest.py:400: FutureWarning: Criterion 'mse' was deprecated in v1.0 and will be removed in version 1.2. Use `criterion='squared_error'` which is equivalent.\r\n",
      "  warn(\r\n",
      "C:\\Users\\jeffr\\.julia\\conda\\3\\lib\\site-packages\\sklearn\\ensemble\\_forest.py:416: FutureWarning: `max_features='auto'` has been deprecated in 1.1 and will be removed in 1.3. To keep the past behaviour, explicitly set `max_features=1.0` or remove this parameter as it is also the default value for RandomForestRegressors and ExtraTreesRegressors.\r\n",
      "  warn(\r\n",
      "C:\\Users\\jeffr\\.julia\\conda\\3\\lib\\site-packages\\sklearn\\utils\\deprecation.py:103: FutureWarning: Attribute `n_features_` was deprecated in version 1.0 and will be removed in 1.2. Use `n_features_in_` instead.\r\n",
      "  warnings.warn(msg, category=FutureWarning)\r\n"
     ]
    },
    {
     "data": {
      "text/plain": [
       "PerformanceEvaluation object with these fields:\n",
       "  measure, measurement, operation, per_fold,\n",
       "  per_observation, fitted_params_per_fold,\n",
       "  report_per_fold, train_test_pairs\n",
       "Extract:\n",
       "┌────────────────────────┬─────────────┬───────────┬────────────────────────────\n",
       "│\u001b[22m measure                \u001b[0m│\u001b[22m measurement \u001b[0m│\u001b[22m operation \u001b[0m│\u001b[22m per_fold                 \u001b[0m ⋯\n",
       "├────────────────────────┼─────────────┼───────────┼────────────────────────────\n",
       "│ RootMeanSquaredError() │ 133.0       │ predict   │ [136.0, 122.0, 135.0, 143 ⋯\n",
       "└────────────────────────┴─────────────┴───────────┴────────────────────────────\n",
       "\u001b[36m                                                                1 column omitted\u001b[0m\n"
      ]
     },
     "execution_count": 27,
     "metadata": {},
     "output_type": "execute_result"
    }
   ],
   "source": [
    "cv3 = CV(; nfolds = 3)\n",
    "res = evaluate(rf_mdl, X, y, \n",
    "                resampling = CV(shuffle = true), \n",
    "                measure = rms,\n",
    "                verbosity=0)"
   ]
  },
  {
   "cell_type": "markdown",
   "id": "d2afc05a",
   "metadata": {},
   "source": [
    "### GBM"
   ]
  },
  {
   "cell_type": "markdown",
   "id": "d8a0ed88",
   "metadata": {},
   "source": [
    "Let's try a different kind of model: Gradient Boosted Decision Trees from the package xgboost and we'll try to tune it too."
   ]
  },
  {
   "cell_type": "code",
   "execution_count": 28,
   "id": "be57d614",
   "metadata": {},
   "outputs": [
    {
     "name": "stderr",
     "output_type": "stream",
     "text": [
      "┌ Info: For silent loading, specify `verbosity=0`. \n",
      "└ @ Main C:\\Users\\jeffr\\.julia\\packages\\MLJModels\\tMgLW\\src\\loading.jl:168\n"
     ]
    },
    {
     "name": "stdout",
     "output_type": "stream",
     "text": [
      "import MLJXGBoostInterface"
     ]
    },
    {
     "name": "stderr",
     "output_type": "stream",
     "text": [
      "┌ Info: Precompiling MLJXGBoostInterface [54119dfa-1dab-4055-a167-80440f4f7a91]\n",
      "└ @ Base loading.jl:1423\n"
     ]
    },
    {
     "name": "stdout",
     "output_type": "stream",
     "text": [
      " ✔\n"
     ]
    },
    {
     "data": {
      "text/plain": [
       "MLJXGBoostInterface.XGBoostRegressor"
      ]
     },
     "execution_count": 28,
     "metadata": {},
     "output_type": "execute_result"
    }
   ],
   "source": [
    "XGBR = @load XGBoostRegressor"
   ]
  },
  {
   "cell_type": "markdown",
   "id": "f351ae11",
   "metadata": {},
   "source": [
    "It expects a `Table(Continuous)` input so we need to coerce `X` again:"
   ]
  },
  {
   "cell_type": "code",
   "execution_count": 29,
   "id": "c3da5638",
   "metadata": {},
   "outputs": [
    {
     "name": "stderr",
     "output_type": "stream",
     "text": [
      "┌ Info: Training Machine{XGBoostRegressor,…}.\n",
      "└ @ MLJBase C:\\Users\\jeffr\\.julia\\packages\\MLJBase\\MuLnJ\\src\\machines.jl:464\n",
      "[1]\ttrain-rmse:473.111572\n",
      "[2]\ttrain-rmse:350.285614\n",
      "[3]\ttrain-rmse:265.503052\n",
      "[4]\ttrain-rmse:208.657257\n",
      "[5]\ttrain-rmse:170.213760\n",
      "[6]\ttrain-rmse:145.523315\n",
      "[7]\ttrain-rmse:130.098495\n",
      "[8]\ttrain-rmse:119.091690\n",
      "[9]\ttrain-rmse:111.952690\n",
      "[10]\ttrain-rmse:106.143631\n",
      "[11]\ttrain-rmse:102.771286\n",
      "[12]\ttrain-rmse:100.355171\n",
      "[13]\ttrain-rmse:97.779922\n",
      "[14]\ttrain-rmse:95.792801\n",
      "[15]\ttrain-rmse:94.666229\n",
      "[16]\ttrain-rmse:92.975121\n",
      "[17]\ttrain-rmse:91.769394\n",
      "[18]\ttrain-rmse:90.871758\n",
      "[19]\ttrain-rmse:90.187813\n",
      "[20]\ttrain-rmse:88.994667\n",
      "[21]\ttrain-rmse:88.244354\n",
      "[22]\ttrain-rmse:87.721588\n",
      "[23]\ttrain-rmse:86.377625\n",
      "[24]\ttrain-rmse:85.511894\n",
      "[25]\ttrain-rmse:84.802544\n",
      "[26]\ttrain-rmse:82.886734\n",
      "[27]\ttrain-rmse:82.143959\n",
      "[28]\ttrain-rmse:81.660629\n",
      "[29]\ttrain-rmse:80.735031\n",
      "[30]\ttrain-rmse:79.906212\n",
      "[31]\ttrain-rmse:79.602722\n",
      "[32]\ttrain-rmse:79.059151\n",
      "[33]\ttrain-rmse:78.195908\n",
      "[34]\ttrain-rmse:77.852654\n",
      "[35]\ttrain-rmse:77.058601\n",
      "[36]\ttrain-rmse:76.592064\n",
      "[37]\ttrain-rmse:76.170372\n",
      "[38]\ttrain-rmse:75.729080\n",
      "[39]\ttrain-rmse:75.101387\n",
      "[40]\ttrain-rmse:74.619377\n",
      "[41]\ttrain-rmse:74.092407\n",
      "[42]\ttrain-rmse:73.650452\n",
      "[43]\ttrain-rmse:73.202675\n",
      "[44]\ttrain-rmse:72.561020\n",
      "[45]\ttrain-rmse:72.225883\n",
      "[46]\ttrain-rmse:72.009575\n",
      "[47]\ttrain-rmse:71.517502\n",
      "[48]\ttrain-rmse:71.123894\n",
      "[49]\ttrain-rmse:70.779167\n",
      "[50]\ttrain-rmse:70.467865\n",
      "[51]\ttrain-rmse:70.167336\n",
      "[52]\ttrain-rmse:69.878159\n",
      "[53]\ttrain-rmse:69.574677\n",
      "[54]\ttrain-rmse:69.146591\n",
      "[55]\ttrain-rmse:68.686234\n",
      "[56]\ttrain-rmse:67.879028\n",
      "[57]\ttrain-rmse:67.708931\n",
      "[58]\ttrain-rmse:67.576469\n",
      "[59]\ttrain-rmse:67.197433\n",
      "[60]\ttrain-rmse:67.004555\n",
      "[61]\ttrain-rmse:66.469673\n",
      "[62]\ttrain-rmse:66.397781\n",
      "[63]\ttrain-rmse:65.872261\n",
      "[64]\ttrain-rmse:65.688164\n",
      "[65]\ttrain-rmse:65.508324\n",
      "[66]\ttrain-rmse:65.279991\n",
      "[67]\ttrain-rmse:65.023590\n",
      "[68]\ttrain-rmse:64.581505\n",
      "[69]\ttrain-rmse:64.271042\n",
      "[70]\ttrain-rmse:64.160301\n",
      "[71]\ttrain-rmse:63.878338\n",
      "[72]\ttrain-rmse:63.132690\n",
      "[73]\ttrain-rmse:62.723221\n",
      "[74]\ttrain-rmse:62.289402\n",
      "[75]\ttrain-rmse:62.244564\n",
      "[76]\ttrain-rmse:61.880775\n",
      "[77]\ttrain-rmse:61.445774\n",
      "[78]\ttrain-rmse:60.947819\n",
      "[79]\ttrain-rmse:60.644981\n",
      "[80]\ttrain-rmse:60.541149\n",
      "[81]\ttrain-rmse:60.340050\n",
      "[82]\ttrain-rmse:60.094856\n",
      "[83]\ttrain-rmse:59.903858\n",
      "[84]\ttrain-rmse:59.727978\n",
      "[85]\ttrain-rmse:59.253376\n",
      "[86]\ttrain-rmse:58.946426\n",
      "[87]\ttrain-rmse:58.865128\n",
      "[88]\ttrain-rmse:58.762978\n",
      "[89]\ttrain-rmse:58.449440\n",
      "[90]\ttrain-rmse:58.146034\n",
      "[91]\ttrain-rmse:57.797401\n",
      "[92]\ttrain-rmse:57.502392\n",
      "[93]\ttrain-rmse:57.119049\n",
      "[94]\ttrain-rmse:57.018669\n",
      "[95]\ttrain-rmse:56.823181\n",
      "[96]\ttrain-rmse:56.649849\n",
      "[97]\ttrain-rmse:56.234489\n",
      "[98]\ttrain-rmse:55.649788\n",
      "[99]\ttrain-rmse:55.603260\n",
      "[100]\ttrain-rmse:55.315331\n"
     ]
    },
    {
     "data": {
      "text/plain": [
       "137.35137858698184"
      ]
     },
     "execution_count": 29,
     "metadata": {},
     "output_type": "execute_result"
    }
   ],
   "source": [
    "coerce!(X, Count => Continuous)\n",
    "\n",
    "xgb = XGBR()\n",
    "xgbm = machine(xgb, X, y)\n",
    "fit!(xgbm, rows = train)\n",
    "\n",
    "rms(y[test], MLJ.predict(xgbm, rows = test))"
   ]
  },
  {
   "cell_type": "markdown",
   "id": "3470c2ea",
   "metadata": {},
   "source": [
    "Let's try to tune it, first we define ranges for a number of useful parameters:"
   ]
  },
  {
   "cell_type": "code",
   "execution_count": 30,
   "id": "2ee86c9b",
   "metadata": {},
   "outputs": [],
   "source": [
    "r1 = range(xgb, :max_depth, lower = 3, upper = 10)\n",
    "r2 = range(xgb, :num_round, lower = 1, upper = 25);"
   ]
  },
  {
   "cell_type": "markdown",
   "id": "dfb60471",
   "metadata": {},
   "source": [
    "And now we tune, we use a very coarse resolution because we use so many ranges, ```2^7``` is already some 128 models..."
   ]
  },
  {
   "cell_type": "code",
   "execution_count": 32,
   "id": "c70555f3",
   "metadata": {},
   "outputs": [
    {
     "data": {
      "text/plain": [
       "DeterministicTunedModel(\n",
       "    model = XGBoostRegressor(\n",
       "            num_round = 100,\n",
       "            booster = \"gbtree\",\n",
       "            disable_default_eval_metric = 0,\n",
       "            eta = 0.3,\n",
       "            gamma = 0.0,\n",
       "            max_depth = 6,\n",
       "            min_child_weight = 1.0,\n",
       "            max_delta_step = 0.0,\n",
       "            subsample = 1.0,\n",
       "            colsample_bytree = 1.0,\n",
       "            colsample_bylevel = 1.0,\n",
       "            lambda = 1.0,\n",
       "            alpha = 0.0,\n",
       "            tree_method = \"auto\",\n",
       "            sketch_eps = 0.03,\n",
       "            scale_pos_weight = 1.0,\n",
       "            updater = \"auto\",\n",
       "            refresh_leaf = 1,\n",
       "            process_type = \"default\",\n",
       "            grow_policy = \"depthwise\",\n",
       "            max_leaves = 0,\n",
       "            max_bin = 256,\n",
       "            predictor = \"cpu_predictor\",\n",
       "            sample_type = \"uniform\",\n",
       "            normalize_type = \"tree\",\n",
       "            rate_drop = 0.0,\n",
       "            one_drop = 0,\n",
       "            skip_drop = 0.0,\n",
       "            feature_selector = \"cyclic\",\n",
       "            top_k = 0,\n",
       "            tweedie_variance_power = 1.5,\n",
       "            objective = \"reg:squarederror\",\n",
       "            base_score = 0.5,\n",
       "            eval_metric = \"rmse\",\n",
       "            seed = 0,\n",
       "            nthread = 1),\n",
       "    tuning = Grid(\n",
       "            goal = nothing,\n",
       "            resolution = 7,\n",
       "            shuffle = true,\n",
       "            rng = Random._GLOBAL_RNG()),\n",
       "    resampling = CV(\n",
       "            nfolds = 6,\n",
       "            shuffle = true,\n",
       "            rng = Random.MersenneTwister(11)),\n",
       "    measure = RootMeanSquaredError(),\n",
       "    weights = nothing,\n",
       "    operation = nothing,\n",
       "    range = MLJBase.NumericRange{Int64, MLJBase.Bounded, Symbol}[NumericRange(3 ≤ max_depth ≤ 10; origin=6.5, unit=3.5), NumericRange(1 ≤ num_round ≤ 25; origin=13.0, unit=12.0)],\n",
       "    selection_heuristic = MLJTuning.NaiveSelection(nothing),\n",
       "    train_best = true,\n",
       "    repeats = 1,\n",
       "    n = nothing,\n",
       "    acceleration = CPU1{Nothing}(nothing),\n",
       "    acceleration_resampling = CPU1{Nothing}(nothing),\n",
       "    check_measure = true,\n",
       "    cache = true)"
      ]
     },
     "execution_count": 32,
     "metadata": {},
     "output_type": "execute_result"
    }
   ],
   "source": [
    "tm = TunedModel(model = xgb, \n",
    "                tuning=Grid(resolution=7), \n",
    "                resampling = CV(rng=11), \n",
    "                ranges = [r1, r2], \n",
    "                measure = rms)"
   ]
  },
  {
   "cell_type": "code",
   "execution_count": 33,
   "id": "d5aafe32",
   "metadata": {},
   "outputs": [
    {
     "name": "stderr",
     "output_type": "stream",
     "text": [
      "┌ Info: Training Machine{DeterministicTunedModel{Grid,…},…}.\n",
      "└ @ MLJBase C:\\Users\\jeffr\\.julia\\packages\\MLJBase\\MuLnJ\\src\\machines.jl:464\n",
      "┌ Info: Attempting to evaluate 49 models.\n",
      "└ @ MLJTuning C:\\Users\\jeffr\\.julia\\packages\\MLJTuning\\Al9yX\\src\\tuned_models.jl:680\n",
      "\u001b[33mEvaluating over 49 metamodels: 100%[=========================] Time: 0:00:49\u001b[39m\n"
     ]
    },
    {
     "data": {
      "text/plain": [
       "Machine{DeterministicTunedModel{Grid,…},…} trained 1 time; caches data\n",
       "  model: MLJTuning.DeterministicTunedModel{Grid, MLJXGBoostInterface.XGBoostRegressor}\n",
       "  args: \n",
       "    1:\tSource @038 ⏎ `Table{AbstractVector{Continuous}}`\n",
       "    2:\tSource @579 ⏎ `AbstractVector{Continuous}`\n"
      ]
     },
     "execution_count": 33,
     "metadata": {},
     "output_type": "execute_result"
    }
   ],
   "source": [
    "mtm = machine(tm, X, y)\n",
    "fit!(mtm, rows = train)"
   ]
  },
  {
   "cell_type": "code",
   "execution_count": 34,
   "id": "b259e825",
   "metadata": {},
   "outputs": [
    {
     "data": {
      "text/plain": [
       "145.8097421015522"
      ]
     },
     "execution_count": 34,
     "metadata": {},
     "output_type": "execute_result"
    }
   ],
   "source": [
    "rms(y[test], MLJ.predict(mtm, rows = test))"
   ]
  }
 ],
 "metadata": {
  "hide_input": false,
  "kernelspec": {
   "display_name": "Julia 1.7.3",
   "language": "julia",
   "name": "julia-1.7"
  },
  "language_info": {
   "file_extension": ".jl",
   "mimetype": "application/julia",
   "name": "julia",
   "version": "1.7.3"
  }
 },
 "nbformat": 4,
 "nbformat_minor": 5
}
