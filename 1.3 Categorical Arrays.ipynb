{
 "cells": [
  {
   "cell_type": "markdown",
   "id": "76c25509",
   "metadata": {},
   "source": [
    "# Data basics"
   ]
  },
  {
   "cell_type": "markdown",
   "id": "2851d92d",
   "metadata": {},
   "source": [
    "## Categorical Arrays"
   ]
  },
  {
   "cell_type": "markdown",
   "id": "7a84d3a8",
   "metadata": {},
   "source": [
    "> Defining a categorical vector <br>\n",
    "> Working with categoricals <br>\n",
    "> 1. Ordered categoricals\n",
    "> 2. Missing values"
   ]
  },
  {
   "cell_type": "markdown",
   "id": "e8ee8d3a",
   "metadata": {},
   "source": [
    "### Defining a categorical vector"
   ]
  },
  {
   "cell_type": "code",
   "execution_count": 1,
   "id": "6857487a",
   "metadata": {},
   "outputs": [
    {
     "name": "stderr",
     "output_type": "stream",
     "text": [
      "\u001b[32m\u001b[1m  Activating\u001b[22m\u001b[39m project at `D:\\JULIA\\6_ML_with_Julia\\D0-categorical`\n"
     ]
    }
   ],
   "source": [
    "using Pkg; Pkg.activate(\"D:/JULIA/6_ML_with_Julia/D0-categorical\"); Pkg.instantiate()"
   ]
  },
  {
   "cell_type": "code",
   "execution_count": 2,
   "id": "22dec7db",
   "metadata": {},
   "outputs": [],
   "source": [
    "using CategoricalArrays"
   ]
  },
  {
   "cell_type": "code",
   "execution_count": 3,
   "id": "0945a968",
   "metadata": {},
   "outputs": [
    {
     "data": {
      "text/plain": [
       "6-element CategoricalArray{String,1,UInt32}:\n",
       " \"AA\"\n",
       " \"BB\"\n",
       " \"CC\"\n",
       " \"AA\"\n",
       " \"BB\"\n",
       " \"CC\""
      ]
     },
     "execution_count": 3,
     "metadata": {},
     "output_type": "execute_result"
    }
   ],
   "source": [
    "v = categorical([\"AA\", \"BB\", \"CC\", \"AA\", \"BB\", \"CC\"])"
   ]
  },
  {
   "cell_type": "markdown",
   "id": "46cbf3f2",
   "metadata": {},
   "source": [
    "This declares a categorical vector, i.e. a Vector whose entries are expected to represent a group or category. You can retrieve the group labels using ```levels```:"
   ]
  },
  {
   "cell_type": "code",
   "execution_count": 4,
   "id": "73d782b1",
   "metadata": {},
   "outputs": [
    {
     "data": {
      "text/plain": [
       "3-element Vector{String}:\n",
       " \"AA\"\n",
       " \"BB\"\n",
       " \"CC\""
      ]
     },
     "execution_count": 4,
     "metadata": {},
     "output_type": "execute_result"
    }
   ],
   "source": [
    "levels(v)"
   ]
  },
  {
   "cell_type": "markdown",
   "id": "5adf8641",
   "metadata": {},
   "source": [
    "which, by default, returns the labels in lexicographic order. (사전식 순서)"
   ]
  },
  {
   "cell_type": "markdown",
   "id": "25c28638",
   "metadata": {},
   "source": [
    "### Working with categoricals"
   ]
  },
  {
   "cell_type": "markdown",
   "id": "caf9ff40",
   "metadata": {},
   "source": [
    "#### Ordered categoricals"
   ]
  },
  {
   "cell_type": "markdown",
   "id": "82d57ddc",
   "metadata": {},
   "source": [
    "You can specify that categories are ordered by specifying ```ordered=true```, the order then follows that of the levels. If you wish to change that order, you need to use the ```levels!``` function. Let's see two examples."
   ]
  },
  {
   "cell_type": "code",
   "execution_count": 5,
   "id": "6e540e24",
   "metadata": {},
   "outputs": [
    {
     "data": {
      "text/plain": [
       "9-element CategoricalArray{Int64,1,UInt32}:\n",
       " 1\n",
       " 2\n",
       " 3\n",
       " 1\n",
       " 2\n",
       " 3\n",
       " 1\n",
       " 2\n",
       " 3"
      ]
     },
     "execution_count": 5,
     "metadata": {},
     "output_type": "execute_result"
    }
   ],
   "source": [
    "v = categorical([1, 2, 3, 1, 2, 3, 1, 2, 3], ordered = true)"
   ]
  },
  {
   "cell_type": "code",
   "execution_count": 6,
   "id": "88fac2c8",
   "metadata": {},
   "outputs": [
    {
     "data": {
      "text/plain": [
       "3-element Vector{Int64}:\n",
       " 1\n",
       " 2\n",
       " 3"
      ]
     },
     "execution_count": 6,
     "metadata": {},
     "output_type": "execute_result"
    }
   ],
   "source": [
    "levels(v)"
   ]
  },
  {
   "cell_type": "markdown",
   "id": "ca77384f",
   "metadata": {},
   "source": [
    "Here the lexicographic order matches what we want so no need to change it, since we've specified that the categories are ordered we can do:"
   ]
  },
  {
   "cell_type": "code",
   "execution_count": 7,
   "id": "f8bf8eb3",
   "metadata": {},
   "outputs": [
    {
     "data": {
      "text/plain": [
       "true"
      ]
     },
     "execution_count": 7,
     "metadata": {},
     "output_type": "execute_result"
    }
   ],
   "source": [
    "v[1] < v[2]"
   ]
  },
  {
   "cell_type": "code",
   "execution_count": 14,
   "id": "72ab0ed8",
   "metadata": {},
   "outputs": [
    {
     "data": {
      "text/plain": [
       "6-element CategoricalArray{String,1,UInt32}:\n",
       " \"high\"\n",
       " \"med\"\n",
       " \"low\"\n",
       " \"high\"\n",
       " \"med\"\n",
       " \"low\""
      ]
     },
     "execution_count": 14,
     "metadata": {},
     "output_type": "execute_result"
    }
   ],
   "source": [
    "v = categorical([\"high\", \"med\", \"low\", \"high\", \"med\", \"low\"], ordered = true)"
   ]
  },
  {
   "cell_type": "code",
   "execution_count": 9,
   "id": "f5426c20",
   "metadata": {},
   "outputs": [
    {
     "data": {
      "text/plain": [
       "3-element Vector{String}:\n",
       " \"high\"\n",
       " \"low\"\n",
       " \"med\""
      ]
     },
     "execution_count": 9,
     "metadata": {},
     "output_type": "execute_result"
    }
   ],
   "source": [
    "levels(v)"
   ]
  },
  {
   "cell_type": "markdown",
   "id": "9b681f41",
   "metadata": {},
   "source": [
    "The levels follow the lexicographic order which is not what we want:"
   ]
  },
  {
   "cell_type": "code",
   "execution_count": 15,
   "id": "8b42ef43",
   "metadata": {},
   "outputs": [
    {
     "data": {
      "text/plain": [
       "6-element CategoricalArray{String,1,UInt32}:\n",
       " \"high\"\n",
       " \"med\"\n",
       " \"low\"\n",
       " \"high\"\n",
       " \"med\"\n",
       " \"low\""
      ]
     },
     "execution_count": 15,
     "metadata": {},
     "output_type": "execute_result"
    }
   ],
   "source": [
    "levels!(v, [\"low\", \"med\", \"high\"])"
   ]
  },
  {
   "cell_type": "code",
   "execution_count": 17,
   "id": "24551448",
   "metadata": {},
   "outputs": [
    {
     "data": {
      "text/plain": [
       "3-element Vector{String}:\n",
       " \"low\"\n",
       " \"med\"\n",
       " \"high\""
      ]
     },
     "execution_count": 17,
     "metadata": {},
     "output_type": "execute_result"
    }
   ],
   "source": [
    "levels(v)"
   ]
  },
  {
   "cell_type": "code",
   "execution_count": 16,
   "id": "65af52c6",
   "metadata": {},
   "outputs": [
    {
     "data": {
      "text/plain": [
       "false"
      ]
     },
     "execution_count": 16,
     "metadata": {},
     "output_type": "execute_result"
    }
   ],
   "source": [
    "v[1] < v[2]"
   ]
  },
  {
   "cell_type": "markdown",
   "id": "0593d571",
   "metadata": {},
   "source": [
    "### Missing values"
   ]
  },
  {
   "cell_type": "markdown",
   "id": "6824a540",
   "metadata": {},
   "source": [
    "You can also have a categorical vector with missing values:"
   ]
  },
  {
   "cell_type": "code",
   "execution_count": 12,
   "id": "30eeb703",
   "metadata": {},
   "outputs": [],
   "source": [
    "v = categorical([\"AA\", \"BB\", missing, \"AA\", \"BB\", \"CC\"]);"
   ]
  },
  {
   "cell_type": "markdown",
   "id": "ebfa23b4",
   "metadata": {},
   "source": [
    "that doesn't change the levels:"
   ]
  },
  {
   "cell_type": "code",
   "execution_count": 13,
   "id": "2f5eb172",
   "metadata": {},
   "outputs": [
    {
     "data": {
      "text/plain": [
       "3-element Vector{String}:\n",
       " \"AA\"\n",
       " \"BB\"\n",
       " \"CC\""
      ]
     },
     "execution_count": 13,
     "metadata": {},
     "output_type": "execute_result"
    }
   ],
   "source": [
    "levels(v)"
   ]
  }
 ],
 "metadata": {
  "hide_input": false,
  "kernelspec": {
   "display_name": "Julia 1.7.3",
   "language": "julia",
   "name": "julia-1.7"
  },
  "language_info": {
   "file_extension": ".jl",
   "mimetype": "application/julia",
   "name": "julia",
   "version": "1.7.3"
  }
 },
 "nbformat": 4,
 "nbformat_minor": 5
}
