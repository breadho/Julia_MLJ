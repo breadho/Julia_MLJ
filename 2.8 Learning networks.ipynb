{
 "cells": [
  {
   "cell_type": "markdown",
   "id": "ec3cccfb",
   "metadata": {},
   "source": [
    "# Getting started"
   ]
  },
  {
   "cell_type": "markdown",
   "id": "122ea699",
   "metadata": {},
   "source": [
    "## Learning networks(1)\n",
    "\n",
    "> https://juliaai.github.io/DataScienceTutorials.jl/getting-started/learning-networks/\n",
    "> <br> (project folder) https://raw.githubusercontent.com/juliaai/DataScienceTutorials.jl/gh-pages/__generated/A-learning-networks.tar.gz"
   ]
  },
  {
   "cell_type": "code",
   "execution_count": 1,
   "id": "186c36bd",
   "metadata": {},
   "outputs": [
    {
     "name": "stderr",
     "output_type": "stream",
     "text": [
      "\u001b[32m\u001b[1m  Activating\u001b[22m\u001b[39m project at `D:\\JULIA\\6_ML_with_Julia\\A-learning-networks`\n"
     ]
    }
   ],
   "source": [
    "using Pkg; Pkg.activate(\"D:/JULIA/6_ML_with_Julia/A-learning-networks\"); Pkg.instantiate()"
   ]
  },
  {
   "cell_type": "markdown",
   "id": "5d3f7349",
   "metadata": {},
   "source": [
    "> Preliminary steps <br>\n",
    "> Defining a learning network\n",
    "> 1. Sources and nodes\n",
    "> 2. Modifying hyperparameters"
   ]
  },
  {
   "cell_type": "markdown",
   "id": "24f7d3ae",
   "metadata": {},
   "source": [
    "### Preliminary steps\n",
    "\n",
    "---"
   ]
  },
  {
   "cell_type": "markdown",
   "id": "a1de74dc",
   "metadata": {},
   "source": [
    "Let's generate a ```DataFrame``` with some dummy regression data, let's  also load the good old ridge regressor."
   ]
  },
  {
   "cell_type": "code",
   "execution_count": 2,
   "id": "ac27d5d2",
   "metadata": {},
   "outputs": [
    {
     "name": "stderr",
     "output_type": "stream",
     "text": [
      "┌ Info: For silent loading, specify `verbosity=0`. \n",
      "└ @ Main C:\\Users\\jeffr\\.julia\\packages\\MLJModels\\tMgLW\\src\\loading.jl:168\n"
     ]
    },
    {
     "name": "stdout",
     "output_type": "stream",
     "text": [
      "import MLJMultivariateStatsInterface ✔\n"
     ]
    },
    {
     "data": {
      "text/plain": [
       "MLJMultivariateStatsInterface.RidgeRegressor"
      ]
     },
     "execution_count": 2,
     "metadata": {},
     "output_type": "execute_result"
    }
   ],
   "source": [
    "using MLJ, StableRNGs\n",
    "import DataFrames\n",
    "Ridge = @load RidgeRegressor pkg = MultivariateStats"
   ]
  },
  {
   "cell_type": "code",
   "execution_count": 3,
   "id": "a91ea496",
   "metadata": {},
   "outputs": [
    {
     "data": {
      "text/plain": [
       "300-element Vector{Float64}:\n",
       " 0.7989768524813763\n",
       " 0.25551474166617105\n",
       " 2.0625710215755886\n",
       " 0.5122281643109177\n",
       " 0.1443917495388283\n",
       " 0.11813879976181635\n",
       " 0.44907730616054214\n",
       " 0.44296882087669526\n",
       " 1.2573760732039552\n",
       " 0.960949506473049\n",
       " 0.08631117949081181\n",
       " 0.5170659064112336\n",
       " 0.22987789068338135\n",
       " ⋮\n",
       " 0.22611734270859704\n",
       " 0.10449289882428948\n",
       " 0.5548012493987347\n",
       " 1.0427930206469724\n",
       " 0.3552638788719311\n",
       " 0.684735167384825\n",
       " 0.33419361690888305\n",
       " 0.22963034143307637\n",
       " 0.15806411334270462\n",
       " 0.8097083052020333\n",
       " 0.40011919768268533\n",
       " 0.635678448957407"
      ]
     },
     "execution_count": 3,
     "metadata": {},
     "output_type": "execute_result"
    }
   ],
   "source": [
    "rng = StableRNG(551234) # for reproducibility\n",
    "\n",
    "x1 = rand(rng, 300)\n",
    "x2 = rand(rng, 300)\n",
    "x3 = rand(rng, 300)\n",
    "\n",
    "y = exp.(x1 - x2 -2x3 + 0.1*rand(rng,300))"
   ]
  },
  {
   "cell_type": "code",
   "execution_count": 4,
   "id": "292001c5",
   "metadata": {},
   "outputs": [
    {
     "name": "stdout",
     "output_type": "stream",
     "text": [
      "┌────────────┬────────────┬────────────┐\n",
      "│\u001b[1m x1         \u001b[0m│\u001b[1m x2         \u001b[0m│\u001b[1m x3         \u001b[0m│\n",
      "│\u001b[90m Float64    \u001b[0m│\u001b[90m Float64    \u001b[0m│\u001b[90m Float64    \u001b[0m│\n",
      "│\u001b[90m Continuous \u001b[0m│\u001b[90m Continuous \u001b[0m│\u001b[90m Continuous \u001b[0m│\n",
      "├────────────┼────────────┼────────────┤\n",
      "│ 0.984002   │ 0.771482   │ 0.232099   │\n",
      "│ 0.891795   │ 0.747399   │ 0.770914   │\n",
      "│ 0.806395   │ 0.0182751  │ 0.0721645  │\n",
      "└────────────┴────────────┴────────────┘\n"
     ]
    }
   ],
   "source": [
    "X = DataFrames.DataFrame(x1 = x1, x2 = x2, x3 = x3)\n",
    "first(X, 3) |> pretty"
   ]
  },
  {
   "cell_type": "markdown",
   "id": "b7bac989",
   "metadata": {},
   "source": [
    "Let's also prepare the train and test split which will be useul later on."
   ]
  },
  {
   "cell_type": "code",
   "execution_count": 5,
   "id": "4ff2b425",
   "metadata": {},
   "outputs": [],
   "source": [
    "test, train = partition(eachindex(y), 0.8);"
   ]
  },
  {
   "cell_type": "markdown",
   "id": "9e550fcf",
   "metadata": {},
   "source": [
    "### Defining a learning network\n",
    "\n",
    "---"
   ]
  },
  {
   "cell_type": "markdown",
   "id": "4b371d4c",
   "metadata": {},
   "source": [
    "In MLJ, a learning network is a directed acylclic graph (DAG) whose nodes apply trained or untrained operations such as a ```predict``` or ```transform``` (trained) or ```+```, ```vcat``` etc. (untrained). Learning networks can be seen as pipelines on steroids.\n",
    "\n",
    "![image.png](pictures/DAG.png)"
   ]
  },
  {
   "cell_type": "markdown",
   "id": "62531f5f",
   "metadata": {},
   "source": [
    "It corresponds to a fairly standard regression workflow: the data is standardized, the target is transformed using a Box-Cox transformation, a ridge regression is applied and the result is converted back by inverting the transform.\n",
    "\n",
    "**Note** : actually this DAG is simple enough that it could also have been done with a pipeline."
   ]
  },
  {
   "cell_type": "markdown",
   "id": "a61199c7",
   "metadata": {},
   "source": [
    "### Sources and nodes"
   ]
  },
  {
   "cell_type": "markdown",
   "id": "70391604",
   "metadata": {},
   "source": [
    "In MLJ a learning network starts at **source** nodes and flows through nodes (```X``` and ```y```) defining operations/transformations (```W```, ```z```, $\\hat{z}$, $\\hat{y}$). To define the source nodes, use the ```source``` function, you should specify whether it's a target:"
   ]
  },
  {
   "cell_type": "code",
   "execution_count": 6,
   "id": "76663a0d",
   "metadata": {},
   "outputs": [
    {
     "data": {
      "text/plain": [
       "Source @717 ⏎ `AbstractVector{Continuous}`"
      ]
     },
     "execution_count": 6,
     "metadata": {},
     "output_type": "execute_result"
    }
   ],
   "source": [
    "Xs = source(X)\n",
    "ys = source(y)"
   ]
  },
  {
   "cell_type": "markdown",
   "id": "ccf83e8a",
   "metadata": {},
   "source": [
    "To define an \"trained-operation\" node, you must simply create a machine wrapping a model and another node(the data) and indicate which operation should be performed (e.g. ```transform```):"
   ]
  },
  {
   "cell_type": "code",
   "execution_count": 7,
   "id": "1cc966d6",
   "metadata": {},
   "outputs": [
    {
     "data": {
      "text/plain": [
       "Node{Machine{Standardizer,…}}\n",
       "  args:\n",
       "    1:\tSource @239\n",
       "  formula:\n",
       "    transform(\n",
       "        \u001b[0m\u001b[1mMachine{Standardizer,…}\u001b[22m, \n",
       "        Source @239)"
      ]
     },
     "execution_count": 7,
     "metadata": {},
     "output_type": "execute_result"
    }
   ],
   "source": [
    "stand = machine(Standardizer(), Xs)\n",
    "W = transform(stand, Xs)"
   ]
  },
  {
   "cell_type": "markdown",
   "id": "f220c745",
   "metadata": {},
   "source": [
    "You can ```fit!``` a trained-operation node at any point, MLJ will fit whatever it needs that is upstream of that node. In this case, there is just a source node upstream of ```W``` so fitting ```W``` will just fit the standardizer:"
   ]
  },
  {
   "cell_type": "code",
   "execution_count": 8,
   "id": "9f407233",
   "metadata": {},
   "outputs": [
    {
     "name": "stderr",
     "output_type": "stream",
     "text": [
      "┌ Info: Training Machine{Standardizer,…}.\n",
      "└ @ MLJBase C:\\Users\\jeffr\\.julia\\packages\\MLJBase\\MuLnJ\\src\\machines.jl:464\n"
     ]
    },
    {
     "data": {
      "text/plain": [
       "Node{Machine{Standardizer,…}}\n",
       "  args:\n",
       "    1:\tSource @239\n",
       "  formula:\n",
       "    transform(\n",
       "        \u001b[0m\u001b[1mMachine{Standardizer,…}\u001b[22m, \n",
       "        Source @239)"
      ]
     },
     "execution_count": 8,
     "metadata": {},
     "output_type": "execute_result"
    }
   ],
   "source": [
    "# fit the standardizer\n",
    "\n",
    "fit!(W, rows = train)"
   ]
  },
  {
   "cell_type": "markdown",
   "id": "832845b2",
   "metadata": {},
   "source": [
    "If you want to get the transformed data, you can then call the node speciying on which part of the data the operation should be performed:"
   ]
  },
  {
   "cell_type": "code",
   "execution_count": 9,
   "id": "d8ec0d05",
   "metadata": {},
   "outputs": [
    {
     "data": {
      "text/html": [
       "<div class=\"data-frame\"><p>300 rows × 3 columns</p><table class=\"data-frame\"><thead><tr><th></th><th>x1</th><th>x2</th><th>x3</th></tr><tr><th></th><th title=\"Float64\">Float64</th><th title=\"Float64\">Float64</th><th title=\"Float64\">Float64</th></tr></thead><tbody><tr><th>1</th><td>1.45878</td><td>1.1752</td><td>-0.93074</td></tr><tr><th>2</th><td>1.14634</td><td>1.08675</td><td>0.926941</td></tr><tr><th>3</th><td>0.856967</td><td>-1.59115</td><td>-1.48215</td></tr><tr><th>4</th><td>-1.06436</td><td>-1.5056</td><td>-0.234452</td></tr><tr><th>5</th><td>-0.977492</td><td>1.14465</td><td>0.819002</td></tr><tr><th>6</th><td>-0.374852</td><td>0.89315</td><td>1.62356</td></tr><tr><th>7</th><td>-1.32187</td><td>1.93078</td><td>-1.64073</td></tr><tr><th>8</th><td>-1.71146</td><td>1.21606</td><td>-1.47321</td></tr><tr><th>9</th><td>-0.266556</td><td>-1.39119</td><td>-1.34372</td></tr><tr><th>10</th><td>1.15833</td><td>1.27126</td><td>-1.33944</td></tr><tr><th>11</th><td>-1.68887</td><td>0.933726</td><td>1.51832</td></tr><tr><th>12</th><td>-0.370893</td><td>1.36139</td><td>-1.14458</td></tr><tr><th>13</th><td>-0.86585</td><td>-0.545501</td><td>0.855674</td></tr><tr><th>14</th><td>-0.949222</td><td>-0.276641</td><td>-0.152652</td></tr><tr><th>15</th><td>1.05983</td><td>-1.50615</td><td>-1.18882</td></tr><tr><th>16</th><td>0.630219</td><td>-1.03483</td><td>0.756601</td></tr><tr><th>17</th><td>-0.466992</td><td>-0.829283</td><td>-0.669633</td></tr><tr><th>18</th><td>-0.0472012</td><td>-1.31569</td><td>1.66791</td></tr><tr><th>19</th><td>1.18124</td><td>1.78322</td><td>1.33433</td></tr><tr><th>20</th><td>-1.5271</td><td>0.803672</td><td>-0.957797</td></tr><tr><th>21</th><td>-1.27369</td><td>0.817051</td><td>0.664507</td></tr><tr><th>22</th><td>1.14433</td><td>0.771426</td><td>1.31952</td></tr><tr><th>23</th><td>-0.130662</td><td>0.462413</td><td>1.6095</td></tr><tr><th>24</th><td>-0.447538</td><td>1.73133</td><td>0.207538</td></tr><tr><th>25</th><td>-1.09227</td><td>-1.30052</td><td>-0.921057</td></tr><tr><th>26</th><td>0.937951</td><td>0.511431</td><td>-1.55457</td></tr><tr><th>27</th><td>0.756247</td><td>-0.540421</td><td>0.803693</td></tr><tr><th>28</th><td>-1.36774</td><td>1.38503</td><td>0.963643</td></tr><tr><th>29</th><td>1.12237</td><td>-1.2492</td><td>-1.03661</td></tr><tr><th>30</th><td>-0.303538</td><td>-0.635892</td><td>1.21937</td></tr><tr><th>&vellip;</th><td>&vellip;</td><td>&vellip;</td><td>&vellip;</td></tr></tbody></table></div>"
      ],
      "text/latex": [
       "\\begin{tabular}{r|ccc}\n",
       "\t& x1 & x2 & x3\\\\\n",
       "\t\\hline\n",
       "\t& Float64 & Float64 & Float64\\\\\n",
       "\t\\hline\n",
       "\t1 & 1.45878 & 1.1752 & -0.93074 \\\\\n",
       "\t2 & 1.14634 & 1.08675 & 0.926941 \\\\\n",
       "\t3 & 0.856967 & -1.59115 & -1.48215 \\\\\n",
       "\t4 & -1.06436 & -1.5056 & -0.234452 \\\\\n",
       "\t5 & -0.977492 & 1.14465 & 0.819002 \\\\\n",
       "\t6 & -0.374852 & 0.89315 & 1.62356 \\\\\n",
       "\t7 & -1.32187 & 1.93078 & -1.64073 \\\\\n",
       "\t8 & -1.71146 & 1.21606 & -1.47321 \\\\\n",
       "\t9 & -0.266556 & -1.39119 & -1.34372 \\\\\n",
       "\t10 & 1.15833 & 1.27126 & -1.33944 \\\\\n",
       "\t11 & -1.68887 & 0.933726 & 1.51832 \\\\\n",
       "\t12 & -0.370893 & 1.36139 & -1.14458 \\\\\n",
       "\t13 & -0.86585 & -0.545501 & 0.855674 \\\\\n",
       "\t14 & -0.949222 & -0.276641 & -0.152652 \\\\\n",
       "\t15 & 1.05983 & -1.50615 & -1.18882 \\\\\n",
       "\t16 & 0.630219 & -1.03483 & 0.756601 \\\\\n",
       "\t17 & -0.466992 & -0.829283 & -0.669633 \\\\\n",
       "\t18 & -0.0472012 & -1.31569 & 1.66791 \\\\\n",
       "\t19 & 1.18124 & 1.78322 & 1.33433 \\\\\n",
       "\t20 & -1.5271 & 0.803672 & -0.957797 \\\\\n",
       "\t21 & -1.27369 & 0.817051 & 0.664507 \\\\\n",
       "\t22 & 1.14433 & 0.771426 & 1.31952 \\\\\n",
       "\t23 & -0.130662 & 0.462413 & 1.6095 \\\\\n",
       "\t24 & -0.447538 & 1.73133 & 0.207538 \\\\\n",
       "\t25 & -1.09227 & -1.30052 & -0.921057 \\\\\n",
       "\t26 & 0.937951 & 0.511431 & -1.55457 \\\\\n",
       "\t27 & 0.756247 & -0.540421 & 0.803693 \\\\\n",
       "\t28 & -1.36774 & 1.38503 & 0.963643 \\\\\n",
       "\t29 & 1.12237 & -1.2492 & -1.03661 \\\\\n",
       "\t30 & -0.303538 & -0.635892 & 1.21937 \\\\\n",
       "\t$\\dots$ & $\\dots$ & $\\dots$ & $\\dots$ \\\\\n",
       "\\end{tabular}\n"
      ],
      "text/plain": [
       "\u001b[1m300×3 DataFrame\u001b[0m\n",
       "\u001b[1m Row \u001b[0m│\u001b[1m x1        \u001b[0m\u001b[1m x2         \u001b[0m\u001b[1m x3        \u001b[0m\n",
       "\u001b[1m     \u001b[0m│\u001b[90m Float64   \u001b[0m\u001b[90m Float64    \u001b[0m\u001b[90m Float64   \u001b[0m\n",
       "─────┼──────────────────────────────────\n",
       "   1 │  1.45878    1.1752     -0.93074\n",
       "   2 │  1.14634    1.08675     0.926941\n",
       "   3 │  0.856967  -1.59115    -1.48215\n",
       "   4 │ -1.06436   -1.5056     -0.234452\n",
       "   5 │ -0.977492   1.14465     0.819002\n",
       "   6 │ -0.374852   0.89315     1.62356\n",
       "   7 │ -1.32187    1.93078    -1.64073\n",
       "   8 │ -1.71146    1.21606    -1.47321\n",
       "   9 │ -0.266556  -1.39119    -1.34372\n",
       "  10 │  1.15833    1.27126    -1.33944\n",
       "  11 │ -1.68887    0.933726    1.51832\n",
       "  ⋮  │     ⋮          ⋮           ⋮\n",
       " 291 │  0.963869  -1.08866     0.589795\n",
       " 292 │ -0.353167  -1.13469    -1.24733\n",
       " 293 │ -0.804251  -0.870163    0.240254\n",
       " 294 │  0.623682   0.576393   -0.782959\n",
       " 295 │  1.45106   -0.802754    1.51973\n",
       " 296 │  1.18587   -0.173335    1.66906\n",
       " 297 │ -0.936623  -0.547148    1.41376\n",
       " 298 │ -0.16259   -0.768219   -0.866023\n",
       " 299 │ -1.15469   -0.478262   -0.177293\n",
       " 300 │ -0.645712   0.366396   -1.25524\n",
       "\u001b[36m                        279 rows omitted\u001b[0m"
      ]
     },
     "execution_count": 9,
     "metadata": {},
     "output_type": "execute_result"
    }
   ],
   "source": [
    "W()             # transforms all data"
   ]
  },
  {
   "cell_type": "code",
   "execution_count": 10,
   "id": "41f9248b",
   "metadata": {},
   "outputs": [
    {
     "data": {
      "text/html": [
       "<div class=\"data-frame\"><p>240 rows × 3 columns</p><table class=\"data-frame\"><thead><tr><th></th><th>x1</th><th>x2</th><th>x3</th></tr><tr><th></th><th title=\"Float64\">Float64</th><th title=\"Float64\">Float64</th><th title=\"Float64\">Float64</th></tr></thead><tbody><tr><th>1</th><td>1.45878</td><td>1.1752</td><td>-0.93074</td></tr><tr><th>2</th><td>1.14634</td><td>1.08675</td><td>0.926941</td></tr><tr><th>3</th><td>0.856967</td><td>-1.59115</td><td>-1.48215</td></tr><tr><th>4</th><td>-1.06436</td><td>-1.5056</td><td>-0.234452</td></tr><tr><th>5</th><td>-0.977492</td><td>1.14465</td><td>0.819002</td></tr><tr><th>6</th><td>-0.374852</td><td>0.89315</td><td>1.62356</td></tr><tr><th>7</th><td>-1.32187</td><td>1.93078</td><td>-1.64073</td></tr><tr><th>8</th><td>-1.71146</td><td>1.21606</td><td>-1.47321</td></tr><tr><th>9</th><td>-0.266556</td><td>-1.39119</td><td>-1.34372</td></tr><tr><th>10</th><td>1.15833</td><td>1.27126</td><td>-1.33944</td></tr><tr><th>11</th><td>-1.68887</td><td>0.933726</td><td>1.51832</td></tr><tr><th>12</th><td>-0.370893</td><td>1.36139</td><td>-1.14458</td></tr><tr><th>13</th><td>-0.86585</td><td>-0.545501</td><td>0.855674</td></tr><tr><th>14</th><td>-0.949222</td><td>-0.276641</td><td>-0.152652</td></tr><tr><th>15</th><td>1.05983</td><td>-1.50615</td><td>-1.18882</td></tr><tr><th>16</th><td>0.630219</td><td>-1.03483</td><td>0.756601</td></tr><tr><th>17</th><td>-0.466992</td><td>-0.829283</td><td>-0.669633</td></tr><tr><th>18</th><td>-0.0472012</td><td>-1.31569</td><td>1.66791</td></tr><tr><th>19</th><td>1.18124</td><td>1.78322</td><td>1.33433</td></tr><tr><th>20</th><td>-1.5271</td><td>0.803672</td><td>-0.957797</td></tr><tr><th>21</th><td>-1.27369</td><td>0.817051</td><td>0.664507</td></tr><tr><th>22</th><td>1.14433</td><td>0.771426</td><td>1.31952</td></tr><tr><th>23</th><td>-0.130662</td><td>0.462413</td><td>1.6095</td></tr><tr><th>24</th><td>-0.447538</td><td>1.73133</td><td>0.207538</td></tr><tr><th>25</th><td>-1.09227</td><td>-1.30052</td><td>-0.921057</td></tr><tr><th>26</th><td>0.937951</td><td>0.511431</td><td>-1.55457</td></tr><tr><th>27</th><td>0.756247</td><td>-0.540421</td><td>0.803693</td></tr><tr><th>28</th><td>-1.36774</td><td>1.38503</td><td>0.963643</td></tr><tr><th>29</th><td>1.12237</td><td>-1.2492</td><td>-1.03661</td></tr><tr><th>30</th><td>-0.303538</td><td>-0.635892</td><td>1.21937</td></tr><tr><th>&vellip;</th><td>&vellip;</td><td>&vellip;</td><td>&vellip;</td></tr></tbody></table></div>"
      ],
      "text/latex": [
       "\\begin{tabular}{r|ccc}\n",
       "\t& x1 & x2 & x3\\\\\n",
       "\t\\hline\n",
       "\t& Float64 & Float64 & Float64\\\\\n",
       "\t\\hline\n",
       "\t1 & 1.45878 & 1.1752 & -0.93074 \\\\\n",
       "\t2 & 1.14634 & 1.08675 & 0.926941 \\\\\n",
       "\t3 & 0.856967 & -1.59115 & -1.48215 \\\\\n",
       "\t4 & -1.06436 & -1.5056 & -0.234452 \\\\\n",
       "\t5 & -0.977492 & 1.14465 & 0.819002 \\\\\n",
       "\t6 & -0.374852 & 0.89315 & 1.62356 \\\\\n",
       "\t7 & -1.32187 & 1.93078 & -1.64073 \\\\\n",
       "\t8 & -1.71146 & 1.21606 & -1.47321 \\\\\n",
       "\t9 & -0.266556 & -1.39119 & -1.34372 \\\\\n",
       "\t10 & 1.15833 & 1.27126 & -1.33944 \\\\\n",
       "\t11 & -1.68887 & 0.933726 & 1.51832 \\\\\n",
       "\t12 & -0.370893 & 1.36139 & -1.14458 \\\\\n",
       "\t13 & -0.86585 & -0.545501 & 0.855674 \\\\\n",
       "\t14 & -0.949222 & -0.276641 & -0.152652 \\\\\n",
       "\t15 & 1.05983 & -1.50615 & -1.18882 \\\\\n",
       "\t16 & 0.630219 & -1.03483 & 0.756601 \\\\\n",
       "\t17 & -0.466992 & -0.829283 & -0.669633 \\\\\n",
       "\t18 & -0.0472012 & -1.31569 & 1.66791 \\\\\n",
       "\t19 & 1.18124 & 1.78322 & 1.33433 \\\\\n",
       "\t20 & -1.5271 & 0.803672 & -0.957797 \\\\\n",
       "\t21 & -1.27369 & 0.817051 & 0.664507 \\\\\n",
       "\t22 & 1.14433 & 0.771426 & 1.31952 \\\\\n",
       "\t23 & -0.130662 & 0.462413 & 1.6095 \\\\\n",
       "\t24 & -0.447538 & 1.73133 & 0.207538 \\\\\n",
       "\t25 & -1.09227 & -1.30052 & -0.921057 \\\\\n",
       "\t26 & 0.937951 & 0.511431 & -1.55457 \\\\\n",
       "\t27 & 0.756247 & -0.540421 & 0.803693 \\\\\n",
       "\t28 & -1.36774 & 1.38503 & 0.963643 \\\\\n",
       "\t29 & 1.12237 & -1.2492 & -1.03661 \\\\\n",
       "\t30 & -0.303538 & -0.635892 & 1.21937 \\\\\n",
       "\t$\\dots$ & $\\dots$ & $\\dots$ & $\\dots$ \\\\\n",
       "\\end{tabular}\n"
      ],
      "text/plain": [
       "\u001b[1m240×3 DataFrame\u001b[0m\n",
       "\u001b[1m Row \u001b[0m│\u001b[1m x1         \u001b[0m\u001b[1m x2        \u001b[0m\u001b[1m x3         \u001b[0m\n",
       "\u001b[1m     \u001b[0m│\u001b[90m Float64    \u001b[0m\u001b[90m Float64   \u001b[0m\u001b[90m Float64    \u001b[0m\n",
       "─────┼───────────────────────────────────\n",
       "   1 │  1.45878     1.1752    -0.93074\n",
       "   2 │  1.14634     1.08675    0.926941\n",
       "   3 │  0.856967   -1.59115   -1.48215\n",
       "   4 │ -1.06436    -1.5056    -0.234452\n",
       "   5 │ -0.977492    1.14465    0.819002\n",
       "   6 │ -0.374852    0.89315    1.62356\n",
       "   7 │ -1.32187     1.93078   -1.64073\n",
       "   8 │ -1.71146     1.21606   -1.47321\n",
       "   9 │ -0.266556   -1.39119   -1.34372\n",
       "  10 │  1.15833     1.27126   -1.33944\n",
       "  11 │ -1.68887     0.933726   1.51832\n",
       "  ⋮  │     ⋮           ⋮          ⋮\n",
       " 231 │  0.483394   -0.682006   1.54696\n",
       " 232 │ -1.03332    -1.36756   -0.342246\n",
       " 233 │  1.40751    -0.579343  -0.255225\n",
       " 234 │  1.38749     1.15981    0.0536179\n",
       " 235 │ -1.273       0.501536  -0.34578\n",
       " 236 │ -0.30832     1.03613   -1.19118\n",
       " 237 │ -1.55296    -0.47286    0.654371\n",
       " 238 │  0.0442054  -1.47166    0.870425\n",
       " 239 │ -1.1963      0.801307   1.04767\n",
       " 240 │  0.731151   -1.46742   -0.21978\n",
       "\u001b[36m                         219 rows omitted\u001b[0m"
      ]
     },
     "execution_count": 10,
     "metadata": {},
     "output_type": "execute_result"
    }
   ],
   "source": [
    "W(rows=test, )  # transforms only test data"
   ]
  },
  {
   "cell_type": "code",
   "execution_count": 11,
   "id": "3d2f3de0",
   "metadata": {},
   "outputs": [
    {
     "data": {
      "text/html": [
       "<div class=\"data-frame\"><p>2 rows × 3 columns</p><table class=\"data-frame\"><thead><tr><th></th><th>x1</th><th>x2</th><th>x3</th></tr><tr><th></th><th title=\"Float64\">Float64</th><th title=\"Float64\">Float64</th><th title=\"Float64\">Float64</th></tr></thead><tbody><tr><th>1</th><td>0.856967</td><td>-1.59115</td><td>-1.48215</td></tr><tr><th>2</th><td>-1.06436</td><td>-1.5056</td><td>-0.234452</td></tr></tbody></table></div>"
      ],
      "text/latex": [
       "\\begin{tabular}{r|ccc}\n",
       "\t& x1 & x2 & x3\\\\\n",
       "\t\\hline\n",
       "\t& Float64 & Float64 & Float64\\\\\n",
       "\t\\hline\n",
       "\t1 & 0.856967 & -1.59115 & -1.48215 \\\\\n",
       "\t2 & -1.06436 & -1.5056 & -0.234452 \\\\\n",
       "\\end{tabular}\n"
      ],
      "text/plain": [
       "\u001b[1m2×3 DataFrame\u001b[0m\n",
       "\u001b[1m Row \u001b[0m│\u001b[1m x1        \u001b[0m\u001b[1m x2       \u001b[0m\u001b[1m x3        \u001b[0m\n",
       "\u001b[1m     \u001b[0m│\u001b[90m Float64   \u001b[0m\u001b[90m Float64  \u001b[0m\u001b[90m Float64   \u001b[0m\n",
       "─────┼────────────────────────────────\n",
       "   1 │  0.856967  -1.59115  -1.48215\n",
       "   2 │ -1.06436   -1.5056   -0.234452"
      ]
     },
     "execution_count": 11,
     "metadata": {},
     "output_type": "execute_result"
    }
   ],
   "source": [
    "W(X[3:4, :])    # transforms specific data"
   ]
  },
  {
   "cell_type": "markdown",
   "id": "98749a0c",
   "metadata": {},
   "source": [
    "Let's now define the other nodes:"
   ]
  },
  {
   "cell_type": "code",
   "execution_count": 12,
   "id": "345f9b22",
   "metadata": {},
   "outputs": [
    {
     "data": {
      "text/plain": [
       "Node{Machine{UnivariateBoxCoxTransformer,…}}\n",
       "  args:\n",
       "    1:\tSource @717\n",
       "  formula:\n",
       "    transform(\n",
       "        \u001b[0m\u001b[1mMachine{UnivariateBoxCoxTransformer,…}\u001b[22m, \n",
       "        Source @717)"
      ]
     },
     "execution_count": 12,
     "metadata": {},
     "output_type": "execute_result"
    }
   ],
   "source": [
    "box_model = UnivariateBoxCoxTransformer()\n",
    "box = machine(box_model, ys)\n",
    "z = transform(box, ys)"
   ]
  },
  {
   "cell_type": "code",
   "execution_count": 13,
   "id": "b447611d",
   "metadata": {},
   "outputs": [
    {
     "data": {
      "text/plain": [
       "Node{Machine{UnivariateBoxCoxTransformer,…}}\n",
       "  args:\n",
       "    1:\tNode{Machine{RidgeRegressor,…}}\n",
       "  formula:\n",
       "    inverse_transform(\n",
       "        \u001b[0m\u001b[1mMachine{UnivariateBoxCoxTransformer,…}\u001b[22m, \n",
       "        predict(\n",
       "            \u001b[0m\u001b[1mMachine{RidgeRegressor,…}\u001b[22m, \n",
       "            transform(\n",
       "                \u001b[0m\u001b[1mMachine{Standardizer,…}\u001b[22m, \n",
       "                Source @239)))"
      ]
     },
     "execution_count": 13,
     "metadata": {},
     "output_type": "execute_result"
    }
   ],
   "source": [
    "ridge_model = Ridge(lambda = 0.1)\n",
    "ridge = machine(ridge_model, W, z)\n",
    "ẑ = predict(ridge, W)\n",
    "ŷ = inverse_transform(box, ẑ)"
   ]
  },
  {
   "cell_type": "markdown",
   "id": "ce8e1025",
   "metadata": {},
   "source": [
    "Note that we have not yet done any training, but if we now call ```fit!``` on ```ŷ```, it will fit all nodes upstream of ```ŷ``` that need to be re-trained:"
   ]
  },
  {
   "cell_type": "code",
   "execution_count": 14,
   "id": "6c41b594",
   "metadata": {},
   "outputs": [
    {
     "name": "stderr",
     "output_type": "stream",
     "text": [
      "┌ Info: Training Machine{UnivariateBoxCoxTransformer,…}.\n",
      "└ @ MLJBase C:\\Users\\jeffr\\.julia\\packages\\MLJBase\\MuLnJ\\src\\machines.jl:464\n",
      "┌ Info: Not retraining Machine{Standardizer,…}. Use `force=true` to force.\n",
      "└ @ MLJBase C:\\Users\\jeffr\\.julia\\packages\\MLJBase\\MuLnJ\\src\\machines.jl:467\n",
      "┌ Info: Training Machine{RidgeRegressor,…}.\n",
      "└ @ MLJBase C:\\Users\\jeffr\\.julia\\packages\\MLJBase\\MuLnJ\\src\\machines.jl:464\n"
     ]
    }
   ],
   "source": [
    "fit!(ŷ, rows = train);"
   ]
  },
  {
   "cell_type": "markdown",
   "id": "b29e5d90",
   "metadata": {},
   "source": [
    "Now that ```ŷ``` has been fitted, you can apply the full graph on test data (or any compatible data). For instance, let's get the ```rms``` between the ground truth and the predicted values:"
   ]
  },
  {
   "cell_type": "code",
   "execution_count": 15,
   "id": "1eb2510b",
   "metadata": {},
   "outputs": [
    {
     "data": {
      "text/plain": [
       "0.03360496363407844"
      ]
     },
     "execution_count": 15,
     "metadata": {},
     "output_type": "execute_result"
    }
   ],
   "source": [
    "rms(y[test], ŷ(rows = test))"
   ]
  },
  {
   "cell_type": "markdown",
   "id": "f90902f5",
   "metadata": {},
   "source": [
    "### Modifying hyperparameters"
   ]
  },
  {
   "cell_type": "markdown",
   "id": "5880e8b3",
   "metadata": {},
   "source": [
    "Hyperparameters can be accessed using the dot syntax as usual. Let's modify the regularisation parameter of the ridge regression:"
   ]
  },
  {
   "cell_type": "code",
   "execution_count": 16,
   "id": "3492e176",
   "metadata": {},
   "outputs": [],
   "source": [
    "ridge_model.lambda = 5.0;"
   ]
  },
  {
   "cell_type": "markdown",
   "id": "d0de154f",
   "metadata": {},
   "source": [
    "Since the node ```ẑ``` corresponds to a machine that wraps ridge_model, that node has effectively changed and will be retrained:"
   ]
  },
  {
   "cell_type": "code",
   "execution_count": 17,
   "id": "2a362f18",
   "metadata": {},
   "outputs": [
    {
     "name": "stderr",
     "output_type": "stream",
     "text": [
      "┌ Info: Not retraining Machine{UnivariateBoxCoxTransformer,…}. Use `force=true` to force.\n",
      "└ @ MLJBase C:\\Users\\jeffr\\.julia\\packages\\MLJBase\\MuLnJ\\src\\machines.jl:467\n",
      "┌ Info: Not retraining Machine{Standardizer,…}. Use `force=true` to force.\n",
      "└ @ MLJBase C:\\Users\\jeffr\\.julia\\packages\\MLJBase\\MuLnJ\\src\\machines.jl:467\n",
      "┌ Info: Updating Machine{RidgeRegressor,…}.\n",
      "└ @ MLJBase C:\\Users\\jeffr\\.julia\\packages\\MLJBase\\MuLnJ\\src\\machines.jl:465\n"
     ]
    },
    {
     "data": {
      "text/plain": [
       "Node{Machine{UnivariateBoxCoxTransformer,…}}\n",
       "  args:\n",
       "    1:\tNode{Machine{RidgeRegressor,…}}\n",
       "  formula:\n",
       "    inverse_transform(\n",
       "        \u001b[0m\u001b[1mMachine{UnivariateBoxCoxTransformer,…}\u001b[22m, \n",
       "        predict(\n",
       "            \u001b[0m\u001b[1mMachine{RidgeRegressor,…}\u001b[22m, \n",
       "            transform(\n",
       "                \u001b[0m\u001b[1mMachine{Standardizer,…}\u001b[22m, \n",
       "                Source @239)))"
      ]
     },
     "execution_count": 17,
     "metadata": {},
     "output_type": "execute_result"
    }
   ],
   "source": [
    "fit!(ŷ, rows=train)"
   ]
  },
  {
   "cell_type": "code",
   "execution_count": 18,
   "id": "43003c26",
   "metadata": {},
   "outputs": [
    {
     "data": {
      "text/plain": [
       "0.03834272597361206"
      ]
     },
     "execution_count": 18,
     "metadata": {},
     "output_type": "execute_result"
    }
   ],
   "source": [
    "rms(y[test], ŷ(rows=test))"
   ]
  }
 ],
 "metadata": {
  "hide_input": false,
  "kernelspec": {
   "display_name": "Julia 1.7.3",
   "language": "julia",
   "name": "julia-1.7"
  },
  "language_info": {
   "file_extension": ".jl",
   "mimetype": "application/julia",
   "name": "julia",
   "version": "1.7.3"
  }
 },
 "nbformat": 4,
 "nbformat_minor": 5
}
