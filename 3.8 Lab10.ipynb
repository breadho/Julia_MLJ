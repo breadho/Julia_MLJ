{
 "cells": [
  {
   "cell_type": "markdown",
   "id": "1c1e8d6e",
   "metadata": {},
   "source": [
    "# Intro to Stats Learning"
   ]
  },
  {
   "cell_type": "markdown",
   "id": "770688b0",
   "metadata": {},
   "source": [
    "## Lab 10 - PCA and Clustering"
   ]
  },
  {
   "cell_type": "markdown",
   "id": "7c4fa63d",
   "metadata": {},
   "source": [
    "> https://juliaai.github.io/DataScienceTutorials.jl/isl/lab-10/\n",
    "> (project folder) https://raw.githubusercontent.com/juliaai/DataScienceTutorials.jl/gh-pages/__generated/ISL-lab-10.tar.gz"
   ]
  },
  {
   "cell_type": "code",
   "execution_count": 1,
   "id": "2091a8f1",
   "metadata": {},
   "outputs": [
    {
     "name": "stderr",
     "output_type": "stream",
     "text": [
      "\u001b[32m\u001b[1m  Activating\u001b[22m\u001b[39m project at `D:\\JULIA\\6_ML_with_Julia\\ISL-lab-10`\n"
     ]
    }
   ],
   "source": [
    "using Pkg; Pkg.activate(\"D:/JULIA/6_ML_with_Julia/ISL-lab-10\"); Pkg.instantiate()"
   ]
  },
  {
   "cell_type": "markdown",
   "id": "795e8e77",
   "metadata": {},
   "source": [
    "> Getting started <br>\n",
    "> PCA pipeline<br>\n",
    "> More interesting data...<br>\n",
    "> 1. PCA pipeline\n",
    "> 2. Clustering"
   ]
  },
  {
   "cell_type": "markdown",
   "id": "5ca95aea",
   "metadata": {},
   "source": [
    "### Getting started \n",
    "---\n"
   ]
  },
  {
   "cell_type": "code",
   "execution_count": 2,
   "id": "301ae77d",
   "metadata": {},
   "outputs": [
    {
     "data": {
      "text/plain": [
       "5-element Vector{String}:\n",
       " \"State\"\n",
       " \"Murder\"\n",
       " \"Assault\"\n",
       " \"UrbanPop\"\n",
       " \"Rape\""
      ]
     },
     "execution_count": 2,
     "metadata": {},
     "output_type": "execute_result"
    }
   ],
   "source": [
    "using MLJ\n",
    "import RDatasets: dataset\n",
    "import DataFrames: DataFrame, select, Not, describe\n",
    "using Random\n",
    "\n",
    "data = dataset(\"datasets\", \"USArrests\")\n",
    "names(data)"
   ]
  },
  {
   "cell_type": "markdown",
   "id": "f074036d",
   "metadata": {},
   "source": [
    "Let's have a look at the mean and standard deviation of each feature:"
   ]
  },
  {
   "cell_type": "code",
   "execution_count": 3,
   "id": "ffd5a72a",
   "metadata": {},
   "outputs": [
    {
     "data": {
      "text/html": [
       "<div class=\"data-frame\"><p>5 rows × 3 columns</p><table class=\"data-frame\"><thead><tr><th></th><th>variable</th><th>mean</th><th>std</th></tr><tr><th></th><th title=\"Symbol\">Symbol</th><th title=\"Union{Nothing, Float64}\">Union…</th><th title=\"Union{Nothing, Float64}\">Union…</th></tr></thead><tbody><tr><th>1</th><td>State</td><td></td><td></td></tr><tr><th>2</th><td>Murder</td><td>7.788</td><td>4.35551</td></tr><tr><th>3</th><td>Assault</td><td>170.76</td><td>83.3377</td></tr><tr><th>4</th><td>UrbanPop</td><td>65.54</td><td>14.4748</td></tr><tr><th>5</th><td>Rape</td><td>21.232</td><td>9.36638</td></tr></tbody></table></div>"
      ],
      "text/latex": [
       "\\begin{tabular}{r|ccc}\n",
       "\t& variable & mean & std\\\\\n",
       "\t\\hline\n",
       "\t& Symbol & Union… & Union…\\\\\n",
       "\t\\hline\n",
       "\t1 & State &  &  \\\\\n",
       "\t2 & Murder & 7.788 & 4.35551 \\\\\n",
       "\t3 & Assault & 170.76 & 83.3377 \\\\\n",
       "\t4 & UrbanPop & 65.54 & 14.4748 \\\\\n",
       "\t5 & Rape & 21.232 & 9.36638 \\\\\n",
       "\\end{tabular}\n"
      ],
      "text/plain": [
       "\u001b[1m5×3 DataFrame\u001b[0m\n",
       "\u001b[1m Row \u001b[0m│\u001b[1m variable \u001b[0m\u001b[1m mean   \u001b[0m\u001b[1m std     \u001b[0m\n",
       "\u001b[1m     \u001b[0m│\u001b[90m Symbol   \u001b[0m\u001b[90m Union… \u001b[0m\u001b[90m Union…  \u001b[0m\n",
       "─────┼───────────────────────────\n",
       "   1 │ State    \u001b[90m        \u001b[0m\u001b[90m         \u001b[0m\n",
       "   2 │ Murder    7.788   4.35551\n",
       "   3 │ Assault   170.76  83.3377\n",
       "   4 │ UrbanPop  65.54   14.4748\n",
       "   5 │ Rape      21.232  9.36638"
      ]
     },
     "execution_count": 3,
     "metadata": {},
     "output_type": "execute_result"
    }
   ],
   "source": [
    "describe(data, :mean, :std)"
   ]
  },
  {
   "cell_type": "markdown",
   "id": "452d4486",
   "metadata": {},
   "source": [
    "Let's extract the numerical component and coerce"
   ]
  },
  {
   "cell_type": "code",
   "execution_count": 4,
   "id": "930ecf57",
   "metadata": {},
   "outputs": [
    {
     "data": {
      "text/html": [
       "<div class=\"data-frame\"><p>50 rows × 4 columns</p><table class=\"data-frame\"><thead><tr><th></th><th>Murder</th><th>Assault</th><th>UrbanPop</th><th>Rape</th></tr><tr><th></th><th title=\"Float64\">Float64</th><th title=\"Float64\">Float64</th><th title=\"Float64\">Float64</th><th title=\"Float64\">Float64</th></tr></thead><tbody><tr><th>1</th><td>13.2</td><td>236.0</td><td>58.0</td><td>21.2</td></tr><tr><th>2</th><td>10.0</td><td>263.0</td><td>48.0</td><td>44.5</td></tr><tr><th>3</th><td>8.1</td><td>294.0</td><td>80.0</td><td>31.0</td></tr><tr><th>4</th><td>8.8</td><td>190.0</td><td>50.0</td><td>19.5</td></tr><tr><th>5</th><td>9.0</td><td>276.0</td><td>91.0</td><td>40.6</td></tr><tr><th>6</th><td>7.9</td><td>204.0</td><td>78.0</td><td>38.7</td></tr><tr><th>7</th><td>3.3</td><td>110.0</td><td>77.0</td><td>11.1</td></tr><tr><th>8</th><td>5.9</td><td>238.0</td><td>72.0</td><td>15.8</td></tr><tr><th>9</th><td>15.4</td><td>335.0</td><td>80.0</td><td>31.9</td></tr><tr><th>10</th><td>17.4</td><td>211.0</td><td>60.0</td><td>25.8</td></tr><tr><th>11</th><td>5.3</td><td>46.0</td><td>83.0</td><td>20.2</td></tr><tr><th>12</th><td>2.6</td><td>120.0</td><td>54.0</td><td>14.2</td></tr><tr><th>13</th><td>10.4</td><td>249.0</td><td>83.0</td><td>24.0</td></tr><tr><th>14</th><td>7.2</td><td>113.0</td><td>65.0</td><td>21.0</td></tr><tr><th>15</th><td>2.2</td><td>56.0</td><td>57.0</td><td>11.3</td></tr><tr><th>16</th><td>6.0</td><td>115.0</td><td>66.0</td><td>18.0</td></tr><tr><th>17</th><td>9.7</td><td>109.0</td><td>52.0</td><td>16.3</td></tr><tr><th>18</th><td>15.4</td><td>249.0</td><td>66.0</td><td>22.2</td></tr><tr><th>19</th><td>2.1</td><td>83.0</td><td>51.0</td><td>7.8</td></tr><tr><th>20</th><td>11.3</td><td>300.0</td><td>67.0</td><td>27.8</td></tr><tr><th>21</th><td>4.4</td><td>149.0</td><td>85.0</td><td>16.3</td></tr><tr><th>22</th><td>12.1</td><td>255.0</td><td>74.0</td><td>35.1</td></tr><tr><th>23</th><td>2.7</td><td>72.0</td><td>66.0</td><td>14.9</td></tr><tr><th>24</th><td>16.1</td><td>259.0</td><td>44.0</td><td>17.1</td></tr><tr><th>25</th><td>9.0</td><td>178.0</td><td>70.0</td><td>28.2</td></tr><tr><th>26</th><td>6.0</td><td>109.0</td><td>53.0</td><td>16.4</td></tr><tr><th>27</th><td>4.3</td><td>102.0</td><td>62.0</td><td>16.5</td></tr><tr><th>28</th><td>12.2</td><td>252.0</td><td>81.0</td><td>46.0</td></tr><tr><th>29</th><td>2.1</td><td>57.0</td><td>56.0</td><td>9.5</td></tr><tr><th>30</th><td>7.4</td><td>159.0</td><td>89.0</td><td>18.8</td></tr><tr><th>&vellip;</th><td>&vellip;</td><td>&vellip;</td><td>&vellip;</td><td>&vellip;</td></tr></tbody></table></div>"
      ],
      "text/latex": [
       "\\begin{tabular}{r|cccc}\n",
       "\t& Murder & Assault & UrbanPop & Rape\\\\\n",
       "\t\\hline\n",
       "\t& Float64 & Float64 & Float64 & Float64\\\\\n",
       "\t\\hline\n",
       "\t1 & 13.2 & 236.0 & 58.0 & 21.2 \\\\\n",
       "\t2 & 10.0 & 263.0 & 48.0 & 44.5 \\\\\n",
       "\t3 & 8.1 & 294.0 & 80.0 & 31.0 \\\\\n",
       "\t4 & 8.8 & 190.0 & 50.0 & 19.5 \\\\\n",
       "\t5 & 9.0 & 276.0 & 91.0 & 40.6 \\\\\n",
       "\t6 & 7.9 & 204.0 & 78.0 & 38.7 \\\\\n",
       "\t7 & 3.3 & 110.0 & 77.0 & 11.1 \\\\\n",
       "\t8 & 5.9 & 238.0 & 72.0 & 15.8 \\\\\n",
       "\t9 & 15.4 & 335.0 & 80.0 & 31.9 \\\\\n",
       "\t10 & 17.4 & 211.0 & 60.0 & 25.8 \\\\\n",
       "\t11 & 5.3 & 46.0 & 83.0 & 20.2 \\\\\n",
       "\t12 & 2.6 & 120.0 & 54.0 & 14.2 \\\\\n",
       "\t13 & 10.4 & 249.0 & 83.0 & 24.0 \\\\\n",
       "\t14 & 7.2 & 113.0 & 65.0 & 21.0 \\\\\n",
       "\t15 & 2.2 & 56.0 & 57.0 & 11.3 \\\\\n",
       "\t16 & 6.0 & 115.0 & 66.0 & 18.0 \\\\\n",
       "\t17 & 9.7 & 109.0 & 52.0 & 16.3 \\\\\n",
       "\t18 & 15.4 & 249.0 & 66.0 & 22.2 \\\\\n",
       "\t19 & 2.1 & 83.0 & 51.0 & 7.8 \\\\\n",
       "\t20 & 11.3 & 300.0 & 67.0 & 27.8 \\\\\n",
       "\t21 & 4.4 & 149.0 & 85.0 & 16.3 \\\\\n",
       "\t22 & 12.1 & 255.0 & 74.0 & 35.1 \\\\\n",
       "\t23 & 2.7 & 72.0 & 66.0 & 14.9 \\\\\n",
       "\t24 & 16.1 & 259.0 & 44.0 & 17.1 \\\\\n",
       "\t25 & 9.0 & 178.0 & 70.0 & 28.2 \\\\\n",
       "\t26 & 6.0 & 109.0 & 53.0 & 16.4 \\\\\n",
       "\t27 & 4.3 & 102.0 & 62.0 & 16.5 \\\\\n",
       "\t28 & 12.2 & 252.0 & 81.0 & 46.0 \\\\\n",
       "\t29 & 2.1 & 57.0 & 56.0 & 9.5 \\\\\n",
       "\t30 & 7.4 & 159.0 & 89.0 & 18.8 \\\\\n",
       "\t$\\dots$ & $\\dots$ & $\\dots$ & $\\dots$ & $\\dots$ \\\\\n",
       "\\end{tabular}\n"
      ],
      "text/plain": [
       "\u001b[1m50×4 DataFrame\u001b[0m\n",
       "\u001b[1m Row \u001b[0m│\u001b[1m Murder  \u001b[0m\u001b[1m Assault \u001b[0m\u001b[1m UrbanPop \u001b[0m\u001b[1m Rape    \u001b[0m\n",
       "\u001b[1m     \u001b[0m│\u001b[90m Float64 \u001b[0m\u001b[90m Float64 \u001b[0m\u001b[90m Float64  \u001b[0m\u001b[90m Float64 \u001b[0m\n",
       "─────┼─────────────────────────────────────\n",
       "   1 │    13.2    236.0      58.0     21.2\n",
       "   2 │    10.0    263.0      48.0     44.5\n",
       "   3 │     8.1    294.0      80.0     31.0\n",
       "   4 │     8.8    190.0      50.0     19.5\n",
       "   5 │     9.0    276.0      91.0     40.6\n",
       "   6 │     7.9    204.0      78.0     38.7\n",
       "   7 │     3.3    110.0      77.0     11.1\n",
       "   8 │     5.9    238.0      72.0     15.8\n",
       "   9 │    15.4    335.0      80.0     31.9\n",
       "  10 │    17.4    211.0      60.0     25.8\n",
       "  11 │     5.3     46.0      83.0     20.2\n",
       "  ⋮  │    ⋮        ⋮        ⋮         ⋮\n",
       "  41 │     3.8     86.0      45.0     12.8\n",
       "  42 │    13.2    188.0      59.0     26.9\n",
       "  43 │    12.7    201.0      80.0     25.5\n",
       "  44 │     3.2    120.0      80.0     22.9\n",
       "  45 │     2.2     48.0      32.0     11.2\n",
       "  46 │     8.5    156.0      63.0     20.7\n",
       "  47 │     4.0    145.0      73.0     26.2\n",
       "  48 │     5.7     81.0      39.0      9.3\n",
       "  49 │     2.6     53.0      66.0     10.8\n",
       "  50 │     6.8    161.0      60.0     15.6\n",
       "\u001b[36m                            29 rows omitted\u001b[0m"
      ]
     },
     "execution_count": 4,
     "metadata": {},
     "output_type": "execute_result"
    }
   ],
   "source": [
    "X = select(data, Not(:State))\n",
    "X = coerce(X, :UrbanPop => Continuous, :Assault => Continuous)"
   ]
  },
  {
   "cell_type": "code",
   "execution_count": 5,
   "id": "9803c696",
   "metadata": {},
   "outputs": [
    {
     "data": {
      "text/plain": [
       "┌──────────┬────────────┬─────────┐\n",
       "│\u001b[22m names    \u001b[0m│\u001b[22m scitypes   \u001b[0m│\u001b[22m types   \u001b[0m│\n",
       "├──────────┼────────────┼─────────┤\n",
       "│ Murder   │ Continuous │ Float64 │\n",
       "│ Assault  │ Continuous │ Float64 │\n",
       "│ UrbanPop │ Continuous │ Float64 │\n",
       "│ Rape     │ Continuous │ Float64 │\n",
       "└──────────┴────────────┴─────────┘\n"
      ]
     },
     "execution_count": 5,
     "metadata": {},
     "output_type": "execute_result"
    }
   ],
   "source": [
    "schema(X)"
   ]
  },
  {
   "cell_type": "markdown",
   "id": "c8c15b28",
   "metadata": {},
   "source": [
    "### PCA pipeline\n",
    "\n",
    "---\n"
   ]
  },
  {
   "cell_type": "markdown",
   "id": "f4288897",
   "metadata": {},
   "source": [
    "PCA is usually best done after standardization but we won't do it here:"
   ]
  },
  {
   "cell_type": "code",
   "execution_count": 6,
   "id": "f11bc200",
   "metadata": {},
   "outputs": [
    {
     "name": "stderr",
     "output_type": "stream",
     "text": [
      "┌ Info: For silent loading, specify `verbosity=0`. \n",
      "└ @ Main C:\\Users\\jeffr\\.julia\\packages\\MLJModels\\tMgLW\\src\\loading.jl:168\n"
     ]
    },
    {
     "name": "stdout",
     "output_type": "stream",
     "text": [
      "import MLJMultivariateStatsInterface ✔\n"
     ]
    },
    {
     "name": "stderr",
     "output_type": "stream",
     "text": [
      "┌ Info: Training Machine{PCA,…}.\n",
      "└ @ MLJBase C:\\Users\\jeffr\\.julia\\packages\\MLJBase\\MuLnJ\\src\\machines.jl:464\n"
     ]
    }
   ],
   "source": [
    "PCA = @load PCA pkg=MultivariateStats\n",
    "\n",
    "pca_mdl = PCA(pratio = 1)\n",
    "pca = machine(pca_mdl, X)\n",
    "fit!(pca)\n",
    "\n",
    "PCA\n",
    "W = MLJ.transform(pca, X);"
   ]
  },
  {
   "cell_type": "markdown",
   "id": "67e3305d",
   "metadata": {},
   "source": [
    "W is the PCA'd data; here we've used default settings for PCA and it has recovered 2 components:"
   ]
  },
  {
   "cell_type": "code",
   "execution_count": 7,
   "id": "7d41f048",
   "metadata": {},
   "outputs": [
    {
     "data": {
      "text/plain": [
       "┌───────┬────────────┬─────────┐\n",
       "│\u001b[22m names \u001b[0m│\u001b[22m scitypes   \u001b[0m│\u001b[22m types   \u001b[0m│\n",
       "├───────┼────────────┼─────────┤\n",
       "│ x1    │ Continuous │ Float64 │\n",
       "│ x2    │ Continuous │ Float64 │\n",
       "│ x3    │ Continuous │ Float64 │\n",
       "│ x4    │ Continuous │ Float64 │\n",
       "└───────┴────────────┴─────────┘\n"
      ]
     },
     "execution_count": 7,
     "metadata": {},
     "output_type": "execute_result"
    }
   ],
   "source": [
    "schema(W)"
   ]
  },
  {
   "cell_type": "code",
   "execution_count": 8,
   "id": "c4c139ec",
   "metadata": {},
   "outputs": [
    {
     "data": {
      "text/plain": [
       "(:x1, :x2, :x3, :x4)"
      ]
     },
     "execution_count": 8,
     "metadata": {},
     "output_type": "execute_result"
    }
   ],
   "source": [
    "schema(W).names"
   ]
  },
  {
   "cell_type": "markdown",
   "id": "c5bc037c",
   "metadata": {},
   "source": [
    "Let's inspect the fit:"
   ]
  },
  {
   "cell_type": "code",
   "execution_count": 9,
   "id": "6bd653c4",
   "metadata": {},
   "outputs": [
    {
     "data": {
      "text/plain": [
       "4-element Vector{Float64}:\n",
       " 0.9655342205668823\n",
       " 0.9933515571990573\n",
       " 0.9991510921213993\n",
       " 1.0"
      ]
     },
     "execution_count": 9,
     "metadata": {},
     "output_type": "execute_result"
    }
   ],
   "source": [
    "r = report(pca)\n",
    "cumsum(r.principalvars ./ r.tvar)"
   ]
  },
  {
   "cell_type": "markdown",
   "id": "b94d4edd",
   "metadata": {},
   "source": [
    "In the second line we look at the explained variance with 1 then 2 PCA features and it seems that with 2 we almost completely recover all of the variance."
   ]
  },
  {
   "cell_type": "markdown",
   "id": "75c489bf",
   "metadata": {},
   "source": [
    "### More interesting data...\n",
    "\n",
    "---\n"
   ]
  },
  {
   "cell_type": "markdown",
   "id": "7654fad3",
   "metadata": {},
   "source": [
    "Instead of just playing with toy data, let's load the orange juice data and extract only the columns corresponding to price data:"
   ]
  },
  {
   "cell_type": "code",
   "execution_count": 10,
   "id": "dc0b1cd3",
   "metadata": {},
   "outputs": [
    {
     "data": {
      "text/html": [
       "<div class=\"data-frame\"><p>5 rows × 18 columns (omitted printing of 10 columns)</p><table class=\"data-frame\"><thead><tr><th></th><th>Purchase</th><th>WeekofPurchase</th><th>StoreID</th><th>PriceCH</th><th>PriceMM</th><th>DiscCH</th><th>DiscMM</th><th>SpecialCH</th></tr><tr><th></th><th title=\"CategoricalArrays.CategoricalValue{String, UInt8}\">Cat…</th><th title=\"Float64\">Float64</th><th title=\"Float64\">Float64</th><th title=\"Float64\">Float64</th><th title=\"Float64\">Float64</th><th title=\"Float64\">Float64</th><th title=\"Float64\">Float64</th><th title=\"Float64\">Float64</th></tr></thead><tbody><tr><th>1</th><td>CH</td><td>237.0</td><td>1.0</td><td>1.75</td><td>1.99</td><td>0.0</td><td>0.0</td><td>0.0</td></tr><tr><th>2</th><td>CH</td><td>239.0</td><td>1.0</td><td>1.75</td><td>1.99</td><td>0.0</td><td>0.3</td><td>0.0</td></tr><tr><th>3</th><td>CH</td><td>245.0</td><td>1.0</td><td>1.86</td><td>2.09</td><td>0.17</td><td>0.0</td><td>0.0</td></tr><tr><th>4</th><td>MM</td><td>227.0</td><td>1.0</td><td>1.69</td><td>1.69</td><td>0.0</td><td>0.0</td><td>0.0</td></tr><tr><th>5</th><td>CH</td><td>228.0</td><td>7.0</td><td>1.69</td><td>1.69</td><td>0.0</td><td>0.0</td><td>0.0</td></tr></tbody></table></div>"
      ],
      "text/latex": [
       "\\begin{tabular}{r|ccccccccc}\n",
       "\t& Purchase & WeekofPurchase & StoreID & PriceCH & PriceMM & DiscCH & DiscMM & SpecialCH & \\\\\n",
       "\t\\hline\n",
       "\t& Cat… & Float64 & Float64 & Float64 & Float64 & Float64 & Float64 & Float64 & \\\\\n",
       "\t\\hline\n",
       "\t1 & CH & 237.0 & 1.0 & 1.75 & 1.99 & 0.0 & 0.0 & 0.0 & $\\dots$ \\\\\n",
       "\t2 & CH & 239.0 & 1.0 & 1.75 & 1.99 & 0.0 & 0.3 & 0.0 & $\\dots$ \\\\\n",
       "\t3 & CH & 245.0 & 1.0 & 1.86 & 2.09 & 0.17 & 0.0 & 0.0 & $\\dots$ \\\\\n",
       "\t4 & MM & 227.0 & 1.0 & 1.69 & 1.69 & 0.0 & 0.0 & 0.0 & $\\dots$ \\\\\n",
       "\t5 & CH & 228.0 & 7.0 & 1.69 & 1.69 & 0.0 & 0.0 & 0.0 & $\\dots$ \\\\\n",
       "\\end{tabular}\n"
      ],
      "text/plain": [
       "\u001b[1m5×18 DataFrame\u001b[0m\n",
       "\u001b[1m Row \u001b[0m│\u001b[1m Purchase \u001b[0m\u001b[1m WeekofPurchase \u001b[0m\u001b[1m StoreID \u001b[0m\u001b[1m PriceCH \u001b[0m\u001b[1m PriceMM \u001b[0m\u001b[1m DiscCH  \u001b[0m\u001b[1m DiscMM  \u001b[0m\u001b[1m \u001b[0m ⋯\n",
       "\u001b[1m     \u001b[0m│\u001b[90m Cat…     \u001b[0m\u001b[90m Float64        \u001b[0m\u001b[90m Float64 \u001b[0m\u001b[90m Float64 \u001b[0m\u001b[90m Float64 \u001b[0m\u001b[90m Float64 \u001b[0m\u001b[90m Float64 \u001b[0m\u001b[90m \u001b[0m ⋯\n",
       "─────┼──────────────────────────────────────────────────────────────────────────\n",
       "   1 │ CH                 237.0      1.0     1.75     1.99     0.0       0.0   ⋯\n",
       "   2 │ CH                 239.0      1.0     1.75     1.99     0.0       0.3\n",
       "   3 │ CH                 245.0      1.0     1.86     2.09     0.17      0.0\n",
       "   4 │ MM                 227.0      1.0     1.69     1.69     0.0       0.0\n",
       "   5 │ CH                 228.0      7.0     1.69     1.69     0.0       0.0   ⋯\n",
       "\u001b[36m                                                              11 columns omitted\u001b[0m"
      ]
     },
     "execution_count": 10,
     "metadata": {},
     "output_type": "execute_result"
    }
   ],
   "source": [
    "data = dataset(\"ISLR\", \"OJ\")\n",
    "\n",
    "first(data, 5)"
   ]
  },
  {
   "cell_type": "code",
   "execution_count": 11,
   "id": "138f2646",
   "metadata": {},
   "outputs": [],
   "source": [
    "feature_names=[:PriceCH, :PriceMM, :DiscCH, :DiscMM, :SalePriceMM, :SalePriceCH, :PriceDiff, :PctDiscMM, :PctDiscCH]\n",
    "\n",
    "X =  select(data, feature_names);"
   ]
  },
  {
   "cell_type": "markdown",
   "id": "07a1f845",
   "metadata": {},
   "source": [
    "### PCA pipeline"
   ]
  },
  {
   "cell_type": "code",
   "execution_count": 12,
   "id": "e85b8234",
   "metadata": {},
   "outputs": [
    {
     "name": "stderr",
     "output_type": "stream",
     "text": [
      "┌ Info: Training Machine{UnsupervisedPipeline{NamedTuple{,…},…},…}.\n",
      "└ @ MLJBase C:\\Users\\jeffr\\.julia\\packages\\MLJBase\\MuLnJ\\src\\machines.jl:464\n",
      "┌ Info: Training Machine{Standardizer,…}.\n",
      "└ @ MLJBase C:\\Users\\jeffr\\.julia\\packages\\MLJBase\\MuLnJ\\src\\machines.jl:464\n",
      "┌ Info: Training Machine{PCA,…}.\n",
      "└ @ MLJBase C:\\Users\\jeffr\\.julia\\packages\\MLJBase\\MuLnJ\\src\\machines.jl:464\n"
     ]
    },
    {
     "data": {
      "text/plain": [
       "6-element Vector{String}:\n",
       " \"x1\"\n",
       " \"x2\"\n",
       " \"x3\"\n",
       " \"x4\"\n",
       " \"x5\"\n",
       " \"x6\""
      ]
     },
     "execution_count": 12,
     "metadata": {},
     "output_type": "execute_result"
    }
   ],
   "source": [
    "Random.seed!(1515)\n",
    "\n",
    "SPCA = Pipeline(Standardizer(), PCA(pratio = 1-1e-4))\n",
    "\n",
    "spca = machine(SPCA, X)\n",
    "fit!(spca)\n",
    "W = MLJ.transform(spca, X)\n",
    "names(W)"
   ]
  },
  {
   "cell_type": "markdown",
   "id": "1f2af89b",
   "metadata": {},
   "source": [
    "What kind of variance can we explain?"
   ]
  },
  {
   "cell_type": "code",
   "execution_count": 13,
   "id": "1448f2a0",
   "metadata": {},
   "outputs": [
    {
     "data": {
      "text/plain": [
       "6-element Vector{Float64}:\n",
       " 0.41746967484847325\n",
       " 0.7233074812209769\n",
       " 0.9436456234171873\n",
       " 0.9997505816044252\n",
       " 0.9998956501446641\n",
       " 1.0"
      ]
     },
     "execution_count": 13,
     "metadata": {},
     "output_type": "execute_result"
    }
   ],
   "source": [
    "rpca = collect(values(report(spca).report_given_machine))[2]\n",
    "cs = cumsum(rpca.principalvars ./ rpca.tvar)"
   ]
  },
  {
   "cell_type": "markdown",
   "id": "1d649897",
   "metadata": {},
   "source": [
    "Let's visualise this"
   ]
  },
  {
   "cell_type": "code",
   "execution_count": 14,
   "id": "3c6290b8",
   "metadata": {},
   "outputs": [
    {
     "name": "stderr",
     "output_type": "stream",
     "text": [
      "┌ Warning: `vendor()` is deprecated, use `BLAS.get_config()` and inspect the output instead\n",
      "│   caller = npyinitialize() at numpy.jl:67\n",
      "└ @ PyCall C:\\Users\\jeffr\\.julia\\packages\\PyCall\\L0fLP\\src\\numpy.jl:67\n"
     ]
    },
    {
     "data": {
      "image/png": "[encoded data removed]",
      "text/plain": [
       "Figure(PyObject <Figure size 800x600 with 1 Axes>)"
      ]
     },
     "metadata": {},
     "output_type": "display_data"
    }
   ],
   "source": [
    "using PyPlot\n",
    "\n",
    "figure(figsize = (8, 6))\n",
    "\n",
    "PyPlot.bar(1:length(cs), cs)\n",
    "plot(1:length(cs), cs, color = \"red\", marker= \"o\")\n",
    "\n",
    "xlabel(\"Number of PCA features\", fontsize = 14)\n",
    "ylabel(\"Ratio of explained variance\", fontsize = 14)\n",
    "\n",
    "savefig(\"./plots/3.8.1.png\")"
   ]
  },
  {
   "cell_type": "markdown",
   "id": "c799bfc1",
   "metadata": {},
   "source": [
    "So 4 PCA features are enough to recover most of the variance."
   ]
  },
  {
   "cell_type": "markdown",
   "id": "6d29621b",
   "metadata": {},
   "source": [
    "### Clustering"
   ]
  },
  {
   "cell_type": "code",
   "execution_count": 15,
   "id": "2b17e567",
   "metadata": {},
   "outputs": [
    {
     "name": "stderr",
     "output_type": "stream",
     "text": [
      "┌ Info: For silent loading, specify `verbosity=0`. \n",
      "└ @ Main C:\\Users\\jeffr\\.julia\\packages\\MLJModels\\tMgLW\\src\\loading.jl:168\n"
     ]
    },
    {
     "name": "stdout",
     "output_type": "stream",
     "text": [
      "import MLJClusteringInterface ✔\n"
     ]
    },
    {
     "data": {
      "text/plain": [
       "UnsupervisedPipeline(\n",
       "    standardizer = Standardizer(\n",
       "            features = Symbol[],\n",
       "            ignore = false,\n",
       "            ordered_factor = false,\n",
       "            count = false),\n",
       "    pca = PCA(\n",
       "            maxoutdim = 0,\n",
       "            method = :auto,\n",
       "            pratio = 0.99,\n",
       "            mean = nothing),\n",
       "    k_means = KMeans(\n",
       "            k = 3,\n",
       "            metric = Distances.SqEuclidean(0.0)),\n",
       "    cache = true)"
      ]
     },
     "execution_count": 15,
     "metadata": {},
     "output_type": "execute_result"
    }
   ],
   "source": [
    "Random.seed!(1515)\n",
    "\n",
    "KMeans = @load KMeans pkg=Clustering\n",
    "\n",
    "SPCA2 = Pipeline(Standardizer(),\n",
    "                 PCA(),\n",
    "                 KMeans(k = 3))"
   ]
  },
  {
   "cell_type": "code",
   "execution_count": 16,
   "id": "0861d5c9",
   "metadata": {},
   "outputs": [
    {
     "name": "stderr",
     "output_type": "stream",
     "text": [
      "┌ Info: Training Machine{UnsupervisedPipeline{NamedTuple{,…},…},…}.\n",
      "└ @ MLJBase C:\\Users\\jeffr\\.julia\\packages\\MLJBase\\MuLnJ\\src\\machines.jl:464\n",
      "┌ Info: Training Machine{Standardizer,…}.\n",
      "└ @ MLJBase C:\\Users\\jeffr\\.julia\\packages\\MLJBase\\MuLnJ\\src\\machines.jl:464\n",
      "┌ Info: Training Machine{PCA,…}.\n",
      "└ @ MLJBase C:\\Users\\jeffr\\.julia\\packages\\MLJBase\\MuLnJ\\src\\machines.jl:464\n",
      "┌ Info: Training Machine{KMeans,…}.\n",
      "└ @ MLJBase C:\\Users\\jeffr\\.julia\\packages\\MLJBase\\MuLnJ\\src\\machines.jl:464\n"
     ]
    },
    {
     "data": {
      "text/plain": [
       "Machine{UnsupervisedPipeline{NamedTuple{,…},…},…} trained 1 time; caches data\n",
       "  model: MLJBase.UnsupervisedPipeline{NamedTuple{(:standardizer, :pca, :k_means), Tuple{Unsupervised, Unsupervised, Unsupervised}}, MLJModelInterface.predict}\n",
       "  args: \n",
       "    1:\tSource @172 ⏎ `Table{AbstractVector{Continuous}}`\n"
      ]
     },
     "execution_count": 16,
     "metadata": {},
     "output_type": "execute_result"
    }
   ],
   "source": [
    "spca2 = machine(SPCA2, X)\n",
    "fit!(spca2)"
   ]
  },
  {
   "cell_type": "code",
   "execution_count": 17,
   "id": "7bd20ccd",
   "metadata": {},
   "outputs": [],
   "source": [
    "assignments = collect(values(report(spca2).report_given_machine))[3].assignments\n",
    "mask1 = assignments .== 1\n",
    "mask2 = assignments .== 2\n",
    "mask3 = assignments .== 3;"
   ]
  },
  {
   "cell_type": "markdown",
   "id": "4395a94b",
   "metadata": {},
   "source": [
    "Now we can try visualising this"
   ]
  },
  {
   "cell_type": "code",
   "execution_count": 18,
   "id": "073e22cf",
   "metadata": {},
   "outputs": [
    {
     "data": {
      "image/png": "[encoded data removed]",
      "text/plain": [
       "Figure(PyObject <Figure size 800x600 with 1 Axes>)"
      ]
     },
     "metadata": {},
     "output_type": "display_data"
    }
   ],
   "source": [
    "using PyPlot\n",
    "\n",
    "figure(figsize = (8, 6))\n",
    "for (m, c) in zip((mask1, mask2, mask3), (\"red\", \"green\", \"blue\"))\n",
    "    plot(W[m, 1], W[m, 2], ls=\"none\", marker=\".\", markersize = 10, color = c)\n",
    "end \n",
    "\n",
    "xlabel(\"PCA-1\", fontsize = 13)\n",
    "ylabel(\"PCA-2\", fontsize = 14)\n",
    "legend([\"Group 1\", \"Group 2\", \"Group 3\"], fontsize = 13)\n",
    "\n",
    "savefig(\"./plots/3.8.2.png\")"
   ]
  }
 ],
 "metadata": {
  "hide_input": false,
  "kernelspec": {
   "display_name": "Julia 1.7.3",
   "language": "julia",
   "name": "julia-1.7"
  },
  "language_info": {
   "file_extension": ".jl",
   "mimetype": "application/julia",
   "name": "julia",
   "version": "1.7.3"
  }
 },
 "nbformat": 4,
 "nbformat_minor": 5
}
