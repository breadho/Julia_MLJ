{
 "cells": [
  {
   "cell_type": "markdown",
   "id": "96ccb08e",
   "metadata": {},
   "source": [
    "# Getting started"
   ]
  },
  {
   "cell_type": "markdown",
   "id": "82818b3e",
   "metadata": {},
   "source": [
    "## Learning networks(2)\n",
    "\n",
    "---"
   ]
  },
  {
   "cell_type": "markdown",
   "id": "ded683bf",
   "metadata": {},
   "source": [
    "> https://juliaai.github.io/DataScienceTutorials.jl/getting-started/learning-networks-2/\n",
    "> <br> (project folder) https://raw.githubusercontent.com/juliaai/DataScienceTutorials.jl/gh-pages/__generated/A-learning-networks-2.tar.gz"
   ]
  },
  {
   "cell_type": "markdown",
   "id": "94e83e80",
   "metadata": {},
   "source": [
    "> Preliminary steps <br>\n",
    "> Using the @from_network macro <br>\n",
    "> Defining a model from scratch"
   ]
  },
  {
   "cell_type": "code",
   "execution_count": 1,
   "id": "bc9a6f3c",
   "metadata": {},
   "outputs": [
    {
     "name": "stderr",
     "output_type": "stream",
     "text": [
      "\u001b[32m\u001b[1m  Activating\u001b[22m\u001b[39m project at `D:\\JULIA\\6_ML_with_Julia\\A-learning-networks-2`\n"
     ]
    }
   ],
   "source": [
    "using Pkg; Pkg.activate(\"D:/JULIA/6_ML_with_Julia/A-learning-networks-2\"); Pkg.instantiate()"
   ]
  },
  {
   "cell_type": "markdown",
   "id": "a61af524",
   "metadata": {},
   "source": [
    "### Preliminary steps\n",
    "\n",
    "---"
   ]
  },
  {
   "cell_type": "markdown",
   "id": "ec45e969",
   "metadata": {},
   "source": [
    "Let's start as with the previous tutorial:"
   ]
  },
  {
   "cell_type": "code",
   "execution_count": 2,
   "id": "90720769",
   "metadata": {},
   "outputs": [
    {
     "name": "stderr",
     "output_type": "stream",
     "text": [
      "┌ Info: For silent loading, specify `verbosity=0`. \n",
      "└ @ Main C:\\Users\\jeffr\\.julia\\packages\\MLJModels\\tMgLW\\src\\loading.jl:168\n"
     ]
    },
    {
     "name": "stdout",
     "output_type": "stream",
     "text": [
      "import MLJMultivariateStatsInterface ✔\n"
     ]
    },
    {
     "data": {
      "text/plain": [
       "MLJMultivariateStatsInterface.RidgeRegressor"
      ]
     },
     "execution_count": 2,
     "metadata": {},
     "output_type": "execute_result"
    }
   ],
   "source": [
    "using MLJ\n",
    "using StableRNGs\n",
    "import DataFrames: DataFrame\n",
    "Ridge = @load RidgeRegressor pkg=MultivariateStats"
   ]
  },
  {
   "cell_type": "code",
   "execution_count": 3,
   "id": "47dfcabb",
   "metadata": {},
   "outputs": [],
   "source": [
    "rng = StableRNG(6616) # for reproducibility\n",
    "x1 = rand(rng, 300)\n",
    "x2 = rand(rng, 300)\n",
    "x3 = rand(rng, 300)\n",
    "y = exp.(x1 - x2 -2x3 + 0.1*rand(rng, 300))\n",
    "X = DataFrame(x1 = x1, x2 = x2, x3 = x3)\n",
    "\n",
    "test, train = partition(eachindex(y), 0.8);"
   ]
  },
  {
   "cell_type": "markdown",
   "id": "1e50bf43",
   "metadata": {},
   "source": [
    "In this tutorial we will show how to generate a model from a network; there are two approaches:\n",
    "\n",
    "* using the ```@from_network``` macro\n",
    "\n",
    "* writing the model in full\n",
    "\n",
    "the first approach should usually be the one considered as it's simpler.\n",
    "\n",
    "Generating a model from a network allows subsequent composition of that network with other tasks and tuning of that network."
   ]
  },
  {
   "cell_type": "markdown",
   "id": "dec28c04",
   "metadata": {},
   "source": [
    "### Using the @from_network macro\n",
    "\n",
    "---"
   ]
  },
  {
   "cell_type": "markdown",
   "id": "0373e9b2",
   "metadata": {},
   "source": [
    "Let's define a simple network"
   ]
  },
  {
   "cell_type": "code",
   "execution_count": 4,
   "id": "3ec9e893",
   "metadata": {},
   "outputs": [
    {
     "data": {
      "text/plain": [
       "Source @193 ⏎ `AbstractVector{Continuous}`"
      ]
     },
     "execution_count": 4,
     "metadata": {},
     "output_type": "execute_result"
    }
   ],
   "source": [
    "# input layer\n",
    "\n",
    "Xs = source(X)\n",
    "ys = source(y)"
   ]
  },
  {
   "cell_type": "code",
   "execution_count": 5,
   "id": "6831404d",
   "metadata": {},
   "outputs": [
    {
     "data": {
      "text/plain": [
       "Node{Machine{UnivariateBoxCoxTransformer,…}}\n",
       "  args:\n",
       "    1:\tSource @193\n",
       "  formula:\n",
       "    transform(\n",
       "        \u001b[0m\u001b[1mMachine{UnivariateBoxCoxTransformer,…}\u001b[22m, \n",
       "        Source @193)"
      ]
     },
     "execution_count": 5,
     "metadata": {},
     "output_type": "execute_result"
    }
   ],
   "source": [
    "# First layer\n",
    "\n",
    "std_model = Standardizer()\n",
    "stand = machine(std_model, Xs)\n",
    "W = transform(stand, Xs)\n",
    "\n",
    "box_model = UnivariateBoxCoxTransformer()\n",
    "box_mach = machine(box_model, ys)\n",
    "z = transform(box_mach, ys)"
   ]
  },
  {
   "cell_type": "code",
   "execution_count": 6,
   "id": "4e1e0fda",
   "metadata": {},
   "outputs": [
    {
     "data": {
      "text/plain": [
       "Node{Machine{RidgeRegressor,…}}\n",
       "  args:\n",
       "    1:\tNode{Machine{Standardizer,…}}\n",
       "  formula:\n",
       "    predict(\n",
       "        \u001b[0m\u001b[1mMachine{RidgeRegressor,…}\u001b[22m, \n",
       "        transform(\n",
       "            \u001b[0m\u001b[1mMachine{Standardizer,…}\u001b[22m, \n",
       "            Source @767))"
      ]
     },
     "execution_count": 6,
     "metadata": {},
     "output_type": "execute_result"
    }
   ],
   "source": [
    "# Second layer\n",
    "\n",
    "ridge_model = Ridge(lambda = 0.1)\n",
    "ridge = machine(ridge_model, W, z)\n",
    "ẑ = predict(ridge, W)"
   ]
  },
  {
   "cell_type": "code",
   "execution_count": 7,
   "id": "0e757671",
   "metadata": {},
   "outputs": [
    {
     "data": {
      "text/plain": [
       "Node{Machine{UnivariateBoxCoxTransformer,…}}\n",
       "  args:\n",
       "    1:\tNode{Machine{RidgeRegressor,…}}\n",
       "  formula:\n",
       "    inverse_transform(\n",
       "        \u001b[0m\u001b[1mMachine{UnivariateBoxCoxTransformer,…}\u001b[22m, \n",
       "        predict(\n",
       "            \u001b[0m\u001b[1mMachine{RidgeRegressor,…}\u001b[22m, \n",
       "            transform(\n",
       "                \u001b[0m\u001b[1mMachine{Standardizer,…}\u001b[22m, \n",
       "                Source @767)))"
      ]
     },
     "execution_count": 7,
     "metadata": {},
     "output_type": "execute_result"
    }
   ],
   "source": [
    "# Output\n",
    "\n",
    "ŷ = inverse_transform(box_mach, ẑ)"
   ]
  },
  {
   "cell_type": "markdown",
   "id": "65decbbc",
   "metadata": {},
   "source": [
    "No fitting has been done thus far, we have just defined a sequence of operations."
   ]
  },
  {
   "cell_type": "markdown",
   "id": "3db39a48",
   "metadata": {},
   "source": [
    "As we show next, a learning network needs to be exported to create a new stand-alone model type. Instances of that type can be bound with data in a machine, which can then be evaluated, for example. Somewhat paradoxically, one can wrap a learning network in a certain kind of machine, called a learning network machine, before exporting it, and in fact, the export process actually requires us to do so. Since a composite model type does not yet exist, one constructs the machine using a \"surrogate\" model, whose name indicates the ultimate model supertype (Deterministic, Probabilistic, Unsupervised or Static). This surrogate model has no fields."
   ]
  },
  {
   "cell_type": "code",
   "execution_count": 8,
   "id": "58cf9828",
   "metadata": {},
   "outputs": [
    {
     "name": "stderr",
     "output_type": "stream",
     "text": [
      "┌ Info: Training Machine{UnivariateBoxCoxTransformer,…}.\n",
      "└ @ MLJBase C:\\Users\\jeffr\\.julia\\packages\\MLJBase\\MuLnJ\\src\\machines.jl:464\n",
      "┌ Info: Training Machine{Standardizer,…}.\n",
      "└ @ MLJBase C:\\Users\\jeffr\\.julia\\packages\\MLJBase\\MuLnJ\\src\\machines.jl:464\n",
      "┌ Info: Training Machine{RidgeRegressor,…}.\n",
      "└ @ MLJBase C:\\Users\\jeffr\\.julia\\packages\\MLJBase\\MuLnJ\\src\\machines.jl:464\n"
     ]
    },
    {
     "data": {
      "text/plain": [
       "5-element Vector{Float64}:\n",
       " 0.22207406272038532\n",
       " 0.11459881408622064\n",
       " 0.5637023411242004\n",
       " 0.6208523052884072\n",
       " 0.36914116568152006"
      ]
     },
     "execution_count": 8,
     "metadata": {},
     "output_type": "execute_result"
    }
   ],
   "source": [
    "surrogate = Deterministic()\n",
    "mach = machine(surrogate, Xs, ys; predict = ŷ)\n",
    "\n",
    "fit!(mach)\n",
    "predict(mach, X[test[1:5], :])"
   ]
  },
  {
   "cell_type": "markdown",
   "id": "c81da9b8",
   "metadata": {},
   "source": [
    "To form a model out of that network is easy using the ```@from_network``` macro."
   ]
  },
  {
   "cell_type": "markdown",
   "id": "a3e5e997",
   "metadata": {},
   "source": [
    "Having defined a learning network machine, mach, as above, the following code defines a new model subtype WrappedRegressor <: Supervised with a single field regressor"
   ]
  },
  {
   "cell_type": "code",
   "execution_count": 9,
   "id": "1ba0aa98",
   "metadata": {},
   "outputs": [],
   "source": [
    "@from_network mach begin\n",
    "    mutable struct CompositeModel\n",
    "        regressor = ridge_model\n",
    "    end\n",
    "end"
   ]
  },
  {
   "cell_type": "markdown",
   "id": "92b2304a",
   "metadata": {},
   "source": [
    "The macro defines a constructor CompositeModel and attributes a name to the different models; the ordering / connection between the nodes is inferred from ```ŷ``` via the ```<= ŷ```.\n",
    "\n",
    "**Note** : had the model been probabilistic (e.g. ```RidgeClassifier```) you would have needed to add ```is_probabilistic=true``` at the end."
   ]
  },
  {
   "cell_type": "code",
   "execution_count": 10,
   "id": "703fb044",
   "metadata": {},
   "outputs": [
    {
     "data": {
      "text/plain": [
       "0.0136"
      ]
     },
     "execution_count": 10,
     "metadata": {},
     "output_type": "execute_result"
    }
   ],
   "source": [
    "cm = machine(CompositeModel(), X, y)\n",
    "res = evaluate!(cm, resampling = Holdout(fraction_train = 0.8, rng = 51), measure = rms)\n",
    "round(res.measurement[1], sigdigits = 3)"
   ]
  },
  {
   "cell_type": "markdown",
   "id": "899a8afb",
   "metadata": {},
   "source": [
    "### Defining a model from scratch\n",
    "\n",
    "---"
   ]
  },
  {
   "cell_type": "markdown",
   "id": "6f6247e9",
   "metadata": {},
   "source": [
    "An alternative to the **```@from_network```**, is to fully define a new model with its ```fit``` method:"
   ]
  },
  {
   "cell_type": "code",
   "execution_count": 11,
   "id": "74aac695",
   "metadata": {},
   "outputs": [
    {
     "data": {
      "text/plain": [
       "0.0212"
      ]
     },
     "execution_count": 11,
     "metadata": {},
     "output_type": "execute_result"
    }
   ],
   "source": [
    "mutable struct CompositeModel2 <: DeterministicComposite\n",
    "    std_model::Standardizer\n",
    "    box_model::UnivariateBoxCoxTransformer\n",
    "    ridge_model::Ridge\n",
    "end\n",
    "\n",
    "function MLJ.fit(m::CompositeModel2, verbosity::Int, X, y)\n",
    "    Xs = source(X)\n",
    "    ys = source(y)\n",
    "    W = MLJ.transform(machine(m.std_model, Xs), Xs)\n",
    "    box = machine(m.box_model, ys)\n",
    "    z = MLJ.transform(box, ys)\n",
    "    ẑ = predict(machine(m.ridge_model, W, z), W)\n",
    "    ŷ = inverse_transform(box , ẑ)\n",
    "    mach = machine(Deterministic(), Xs, ys; predict = ŷ)\n",
    "    return!(mach, m, verbosity - 1)\n",
    "end\n",
    "\n",
    "mdl = CompositeModel2(Standardizer(), UnivariateBoxCoxTransformer(), Ridge(lambda = 0.1))\n",
    "cm = machine(mdl, X, y)\n",
    "res = evaluate!(cm, resampling = Holdout(fraction_train = 0.8), measure = rms)\n",
    "round(res.measurement[1], sigdigits = 3)"
   ]
  },
  {
   "cell_type": "markdown",
   "id": "8e1b24c3",
   "metadata": {},
   "source": [
    "Either way you now have a constructor to a model which can be used as a stand-alone object, tuned and composed as you would with any basic model."
   ]
  }
 ],
 "metadata": {
  "hide_input": false,
  "kernelspec": {
   "display_name": "Julia 1.7.3",
   "language": "julia",
   "name": "julia-1.7"
  },
  "language_info": {
   "file_extension": ".jl",
   "mimetype": "application/julia",
   "name": "julia",
   "version": "1.7.3"
  }
 },
 "nbformat": 4,
 "nbformat_minor": 5
}
