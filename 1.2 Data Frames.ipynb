{
 "cells": [
  {
   "cell_type": "markdown",
   "id": "65295959",
   "metadata": {},
   "source": [
    "# Data Basics"
   ]
  },
  {
   "cell_type": "markdown",
   "id": "fa8d21f2",
   "metadata": {},
   "source": [
    "## Manipulating a DataFrame"
   ]
  },
  {
   "cell_type": "markdown",
   "id": "2e1518b4",
   "metadata": {},
   "source": [
    "To ensure code in this tutorial runs as shown, download the tutorial project folder and follow these instructions.\n",
    "If you have questions or suggestions about this tutorial, please open an issue here.\n",
    "\n",
    "> Basics\n",
    "> - Accessing data\n",
    "> - Describing the data\n",
    "> - Converting the data\n",
    "> - Adding columns\n",
    "> - Missing values\n",
    "\n",
    "> Split-Apply-Combine\n",
    "> - groupby\n",
    "> - combine\n",
    "> - combine with groupby\n",
    "\n",
    "This tutorial is loosely adapted from this pandas tutorial as well as the DataFrames.jl documentation. It is by no means meant to be a complete introduction, rather, it focuses on some key functionalities that are particularly useful in a classical machine learning context."
   ]
  },
  {
   "cell_type": "code",
   "execution_count": 1,
   "id": "95347362",
   "metadata": {},
   "outputs": [
    {
     "name": "stderr",
     "output_type": "stream",
     "text": [
      "\u001b[32m\u001b[1m  Activating\u001b[22m\u001b[39m project at `D:\\JULIA\\6_ML_with_Julia\\D0-dataframe`\n"
     ]
    }
   ],
   "source": [
    "using Pkg; Pkg.activate(\"D:/JULIA/6_ML_with_Julia/D0-dataframe\"); Pkg.instantiate()"
   ]
  },
  {
   "cell_type": "markdown",
   "id": "da438cf5",
   "metadata": {},
   "source": [
    "### Basics"
   ]
  },
  {
   "cell_type": "code",
   "execution_count": 2,
   "id": "7a2c5b21",
   "metadata": {},
   "outputs": [],
   "source": [
    "using RDatasets"
   ]
  },
  {
   "cell_type": "code",
   "execution_count": 3,
   "id": "9f4ae747",
   "metadata": {},
   "outputs": [],
   "source": [
    "using DataFrames"
   ]
  },
  {
   "cell_type": "code",
   "execution_count": 4,
   "id": "8db9eaa0",
   "metadata": {},
   "outputs": [
    {
     "data": {
      "text/html": [
       "<div class=\"data-frame\"><p>506 rows × 14 columns (omitted printing of 4 columns)</p><table class=\"data-frame\"><thead><tr><th></th><th>Crim</th><th>Zn</th><th>Indus</th><th>Chas</th><th>NOx</th><th>Rm</th><th>Age</th><th>Dis</th><th>Rad</th><th>Tax</th></tr><tr><th></th><th title=\"Float64\">Float64</th><th title=\"Float64\">Float64</th><th title=\"Float64\">Float64</th><th title=\"Int64\">Int64</th><th title=\"Float64\">Float64</th><th title=\"Float64\">Float64</th><th title=\"Float64\">Float64</th><th title=\"Float64\">Float64</th><th title=\"Int64\">Int64</th><th title=\"Int64\">Int64</th></tr></thead><tbody><tr><th>1</th><td>0.00632</td><td>18.0</td><td>2.31</td><td>0</td><td>0.538</td><td>6.575</td><td>65.2</td><td>4.09</td><td>1</td><td>296</td></tr><tr><th>2</th><td>0.02731</td><td>0.0</td><td>7.07</td><td>0</td><td>0.469</td><td>6.421</td><td>78.9</td><td>4.9671</td><td>2</td><td>242</td></tr><tr><th>3</th><td>0.02729</td><td>0.0</td><td>7.07</td><td>0</td><td>0.469</td><td>7.185</td><td>61.1</td><td>4.9671</td><td>2</td><td>242</td></tr><tr><th>4</th><td>0.03237</td><td>0.0</td><td>2.18</td><td>0</td><td>0.458</td><td>6.998</td><td>45.8</td><td>6.0622</td><td>3</td><td>222</td></tr><tr><th>5</th><td>0.06905</td><td>0.0</td><td>2.18</td><td>0</td><td>0.458</td><td>7.147</td><td>54.2</td><td>6.0622</td><td>3</td><td>222</td></tr><tr><th>6</th><td>0.02985</td><td>0.0</td><td>2.18</td><td>0</td><td>0.458</td><td>6.43</td><td>58.7</td><td>6.0622</td><td>3</td><td>222</td></tr><tr><th>7</th><td>0.08829</td><td>12.5</td><td>7.87</td><td>0</td><td>0.524</td><td>6.012</td><td>66.6</td><td>5.5605</td><td>5</td><td>311</td></tr><tr><th>8</th><td>0.14455</td><td>12.5</td><td>7.87</td><td>0</td><td>0.524</td><td>6.172</td><td>96.1</td><td>5.9505</td><td>5</td><td>311</td></tr><tr><th>9</th><td>0.21124</td><td>12.5</td><td>7.87</td><td>0</td><td>0.524</td><td>5.631</td><td>100.0</td><td>6.0821</td><td>5</td><td>311</td></tr><tr><th>10</th><td>0.17004</td><td>12.5</td><td>7.87</td><td>0</td><td>0.524</td><td>6.004</td><td>85.9</td><td>6.5921</td><td>5</td><td>311</td></tr><tr><th>11</th><td>0.22489</td><td>12.5</td><td>7.87</td><td>0</td><td>0.524</td><td>6.377</td><td>94.3</td><td>6.3467</td><td>5</td><td>311</td></tr><tr><th>12</th><td>0.11747</td><td>12.5</td><td>7.87</td><td>0</td><td>0.524</td><td>6.009</td><td>82.9</td><td>6.2267</td><td>5</td><td>311</td></tr><tr><th>13</th><td>0.09378</td><td>12.5</td><td>7.87</td><td>0</td><td>0.524</td><td>5.889</td><td>39.0</td><td>5.4509</td><td>5</td><td>311</td></tr><tr><th>14</th><td>0.62976</td><td>0.0</td><td>8.14</td><td>0</td><td>0.538</td><td>5.949</td><td>61.8</td><td>4.7075</td><td>4</td><td>307</td></tr><tr><th>15</th><td>0.63796</td><td>0.0</td><td>8.14</td><td>0</td><td>0.538</td><td>6.096</td><td>84.5</td><td>4.4619</td><td>4</td><td>307</td></tr><tr><th>16</th><td>0.62739</td><td>0.0</td><td>8.14</td><td>0</td><td>0.538</td><td>5.834</td><td>56.5</td><td>4.4986</td><td>4</td><td>307</td></tr><tr><th>17</th><td>1.05393</td><td>0.0</td><td>8.14</td><td>0</td><td>0.538</td><td>5.935</td><td>29.3</td><td>4.4986</td><td>4</td><td>307</td></tr><tr><th>18</th><td>0.7842</td><td>0.0</td><td>8.14</td><td>0</td><td>0.538</td><td>5.99</td><td>81.7</td><td>4.2579</td><td>4</td><td>307</td></tr><tr><th>19</th><td>0.80271</td><td>0.0</td><td>8.14</td><td>0</td><td>0.538</td><td>5.456</td><td>36.6</td><td>3.7965</td><td>4</td><td>307</td></tr><tr><th>20</th><td>0.7258</td><td>0.0</td><td>8.14</td><td>0</td><td>0.538</td><td>5.727</td><td>69.5</td><td>3.7965</td><td>4</td><td>307</td></tr><tr><th>21</th><td>1.25179</td><td>0.0</td><td>8.14</td><td>0</td><td>0.538</td><td>5.57</td><td>98.1</td><td>3.7979</td><td>4</td><td>307</td></tr><tr><th>22</th><td>0.85204</td><td>0.0</td><td>8.14</td><td>0</td><td>0.538</td><td>5.965</td><td>89.2</td><td>4.0123</td><td>4</td><td>307</td></tr><tr><th>23</th><td>1.23247</td><td>0.0</td><td>8.14</td><td>0</td><td>0.538</td><td>6.142</td><td>91.7</td><td>3.9769</td><td>4</td><td>307</td></tr><tr><th>24</th><td>0.98843</td><td>0.0</td><td>8.14</td><td>0</td><td>0.538</td><td>5.813</td><td>100.0</td><td>4.0952</td><td>4</td><td>307</td></tr><tr><th>25</th><td>0.75026</td><td>0.0</td><td>8.14</td><td>0</td><td>0.538</td><td>5.924</td><td>94.1</td><td>4.3996</td><td>4</td><td>307</td></tr><tr><th>26</th><td>0.84054</td><td>0.0</td><td>8.14</td><td>0</td><td>0.538</td><td>5.599</td><td>85.7</td><td>4.4546</td><td>4</td><td>307</td></tr><tr><th>27</th><td>0.67191</td><td>0.0</td><td>8.14</td><td>0</td><td>0.538</td><td>5.813</td><td>90.3</td><td>4.682</td><td>4</td><td>307</td></tr><tr><th>28</th><td>0.95577</td><td>0.0</td><td>8.14</td><td>0</td><td>0.538</td><td>6.047</td><td>88.8</td><td>4.4534</td><td>4</td><td>307</td></tr><tr><th>29</th><td>0.77299</td><td>0.0</td><td>8.14</td><td>0</td><td>0.538</td><td>6.495</td><td>94.4</td><td>4.4547</td><td>4</td><td>307</td></tr><tr><th>30</th><td>1.00245</td><td>0.0</td><td>8.14</td><td>0</td><td>0.538</td><td>6.674</td><td>87.3</td><td>4.239</td><td>4</td><td>307</td></tr><tr><th>&vellip;</th><td>&vellip;</td><td>&vellip;</td><td>&vellip;</td><td>&vellip;</td><td>&vellip;</td><td>&vellip;</td><td>&vellip;</td><td>&vellip;</td><td>&vellip;</td><td>&vellip;</td></tr></tbody></table></div>"
      ],
      "text/latex": [
       "\\begin{tabular}{r|ccccccccccc}\n",
       "\t& Crim & Zn & Indus & Chas & NOx & Rm & Age & Dis & Rad & Tax & \\\\\n",
       "\t\\hline\n",
       "\t& Float64 & Float64 & Float64 & Int64 & Float64 & Float64 & Float64 & Float64 & Int64 & Int64 & \\\\\n",
       "\t\\hline\n",
       "\t1 & 0.00632 & 18.0 & 2.31 & 0 & 0.538 & 6.575 & 65.2 & 4.09 & 1 & 296 & $\\dots$ \\\\\n",
       "\t2 & 0.02731 & 0.0 & 7.07 & 0 & 0.469 & 6.421 & 78.9 & 4.9671 & 2 & 242 & $\\dots$ \\\\\n",
       "\t3 & 0.02729 & 0.0 & 7.07 & 0 & 0.469 & 7.185 & 61.1 & 4.9671 & 2 & 242 & $\\dots$ \\\\\n",
       "\t4 & 0.03237 & 0.0 & 2.18 & 0 & 0.458 & 6.998 & 45.8 & 6.0622 & 3 & 222 & $\\dots$ \\\\\n",
       "\t5 & 0.06905 & 0.0 & 2.18 & 0 & 0.458 & 7.147 & 54.2 & 6.0622 & 3 & 222 & $\\dots$ \\\\\n",
       "\t6 & 0.02985 & 0.0 & 2.18 & 0 & 0.458 & 6.43 & 58.7 & 6.0622 & 3 & 222 & $\\dots$ \\\\\n",
       "\t7 & 0.08829 & 12.5 & 7.87 & 0 & 0.524 & 6.012 & 66.6 & 5.5605 & 5 & 311 & $\\dots$ \\\\\n",
       "\t8 & 0.14455 & 12.5 & 7.87 & 0 & 0.524 & 6.172 & 96.1 & 5.9505 & 5 & 311 & $\\dots$ \\\\\n",
       "\t9 & 0.21124 & 12.5 & 7.87 & 0 & 0.524 & 5.631 & 100.0 & 6.0821 & 5 & 311 & $\\dots$ \\\\\n",
       "\t10 & 0.17004 & 12.5 & 7.87 & 0 & 0.524 & 6.004 & 85.9 & 6.5921 & 5 & 311 & $\\dots$ \\\\\n",
       "\t11 & 0.22489 & 12.5 & 7.87 & 0 & 0.524 & 6.377 & 94.3 & 6.3467 & 5 & 311 & $\\dots$ \\\\\n",
       "\t12 & 0.11747 & 12.5 & 7.87 & 0 & 0.524 & 6.009 & 82.9 & 6.2267 & 5 & 311 & $\\dots$ \\\\\n",
       "\t13 & 0.09378 & 12.5 & 7.87 & 0 & 0.524 & 5.889 & 39.0 & 5.4509 & 5 & 311 & $\\dots$ \\\\\n",
       "\t14 & 0.62976 & 0.0 & 8.14 & 0 & 0.538 & 5.949 & 61.8 & 4.7075 & 4 & 307 & $\\dots$ \\\\\n",
       "\t15 & 0.63796 & 0.0 & 8.14 & 0 & 0.538 & 6.096 & 84.5 & 4.4619 & 4 & 307 & $\\dots$ \\\\\n",
       "\t16 & 0.62739 & 0.0 & 8.14 & 0 & 0.538 & 5.834 & 56.5 & 4.4986 & 4 & 307 & $\\dots$ \\\\\n",
       "\t17 & 1.05393 & 0.0 & 8.14 & 0 & 0.538 & 5.935 & 29.3 & 4.4986 & 4 & 307 & $\\dots$ \\\\\n",
       "\t18 & 0.7842 & 0.0 & 8.14 & 0 & 0.538 & 5.99 & 81.7 & 4.2579 & 4 & 307 & $\\dots$ \\\\\n",
       "\t19 & 0.80271 & 0.0 & 8.14 & 0 & 0.538 & 5.456 & 36.6 & 3.7965 & 4 & 307 & $\\dots$ \\\\\n",
       "\t20 & 0.7258 & 0.0 & 8.14 & 0 & 0.538 & 5.727 & 69.5 & 3.7965 & 4 & 307 & $\\dots$ \\\\\n",
       "\t21 & 1.25179 & 0.0 & 8.14 & 0 & 0.538 & 5.57 & 98.1 & 3.7979 & 4 & 307 & $\\dots$ \\\\\n",
       "\t22 & 0.85204 & 0.0 & 8.14 & 0 & 0.538 & 5.965 & 89.2 & 4.0123 & 4 & 307 & $\\dots$ \\\\\n",
       "\t23 & 1.23247 & 0.0 & 8.14 & 0 & 0.538 & 6.142 & 91.7 & 3.9769 & 4 & 307 & $\\dots$ \\\\\n",
       "\t24 & 0.98843 & 0.0 & 8.14 & 0 & 0.538 & 5.813 & 100.0 & 4.0952 & 4 & 307 & $\\dots$ \\\\\n",
       "\t25 & 0.75026 & 0.0 & 8.14 & 0 & 0.538 & 5.924 & 94.1 & 4.3996 & 4 & 307 & $\\dots$ \\\\\n",
       "\t26 & 0.84054 & 0.0 & 8.14 & 0 & 0.538 & 5.599 & 85.7 & 4.4546 & 4 & 307 & $\\dots$ \\\\\n",
       "\t27 & 0.67191 & 0.0 & 8.14 & 0 & 0.538 & 5.813 & 90.3 & 4.682 & 4 & 307 & $\\dots$ \\\\\n",
       "\t28 & 0.95577 & 0.0 & 8.14 & 0 & 0.538 & 6.047 & 88.8 & 4.4534 & 4 & 307 & $\\dots$ \\\\\n",
       "\t29 & 0.77299 & 0.0 & 8.14 & 0 & 0.538 & 6.495 & 94.4 & 4.4547 & 4 & 307 & $\\dots$ \\\\\n",
       "\t30 & 1.00245 & 0.0 & 8.14 & 0 & 0.538 & 6.674 & 87.3 & 4.239 & 4 & 307 & $\\dots$ \\\\\n",
       "\t$\\dots$ & $\\dots$ & $\\dots$ & $\\dots$ & $\\dots$ & $\\dots$ & $\\dots$ & $\\dots$ & $\\dots$ & $\\dots$ & $\\dots$ &  \\\\\n",
       "\\end{tabular}\n"
      ],
      "text/plain": [
       "\u001b[1m506×14 DataFrame\u001b[0m\n",
       "\u001b[1m Row \u001b[0m│\u001b[1m Crim    \u001b[0m\u001b[1m Zn      \u001b[0m\u001b[1m Indus   \u001b[0m\u001b[1m Chas  \u001b[0m\u001b[1m NOx     \u001b[0m\u001b[1m Rm      \u001b[0m\u001b[1m Age     \u001b[0m\u001b[1m Dis     \u001b[0m\u001b[1m R\u001b[0m ⋯\n",
       "\u001b[1m     \u001b[0m│\u001b[90m Float64 \u001b[0m\u001b[90m Float64 \u001b[0m\u001b[90m Float64 \u001b[0m\u001b[90m Int64 \u001b[0m\u001b[90m Float64 \u001b[0m\u001b[90m Float64 \u001b[0m\u001b[90m Float64 \u001b[0m\u001b[90m Float64 \u001b[0m\u001b[90m I\u001b[0m ⋯\n",
       "─────┼──────────────────────────────────────────────────────────────────────────\n",
       "   1 │ 0.00632     18.0     2.31      0    0.538    6.575     65.2   4.09      ⋯\n",
       "   2 │ 0.02731      0.0     7.07      0    0.469    6.421     78.9   4.9671\n",
       "   3 │ 0.02729      0.0     7.07      0    0.469    7.185     61.1   4.9671\n",
       "   4 │ 0.03237      0.0     2.18      0    0.458    6.998     45.8   6.0622\n",
       "   5 │ 0.06905      0.0     2.18      0    0.458    7.147     54.2   6.0622    ⋯\n",
       "   6 │ 0.02985      0.0     2.18      0    0.458    6.43      58.7   6.0622\n",
       "   7 │ 0.08829     12.5     7.87      0    0.524    6.012     66.6   5.5605\n",
       "   8 │ 0.14455     12.5     7.87      0    0.524    6.172     96.1   5.9505\n",
       "   9 │ 0.21124     12.5     7.87      0    0.524    5.631    100.0   6.0821    ⋯\n",
       "  10 │ 0.17004     12.5     7.87      0    0.524    6.004     85.9   6.5921\n",
       "  11 │ 0.22489     12.5     7.87      0    0.524    6.377     94.3   6.3467\n",
       "  ⋮  │    ⋮        ⋮        ⋮       ⋮       ⋮        ⋮        ⋮        ⋮       ⋱\n",
       " 497 │ 0.2896       0.0     9.69      0    0.585    5.39      72.9   2.7986\n",
       " 498 │ 0.26838      0.0     9.69      0    0.585    5.794     70.6   2.8927    ⋯\n",
       " 499 │ 0.23912      0.0     9.69      0    0.585    6.019     65.3   2.4091\n",
       " 500 │ 0.17783      0.0     9.69      0    0.585    5.569     73.5   2.3999\n",
       " 501 │ 0.22438      0.0     9.69      0    0.585    6.027     79.7   2.4982\n",
       " 502 │ 0.06263      0.0    11.93      0    0.573    6.593     69.1   2.4786    ⋯\n",
       " 503 │ 0.04527      0.0    11.93      0    0.573    6.12      76.7   2.2875\n",
       " 504 │ 0.06076      0.0    11.93      0    0.573    6.976     91.0   2.1675\n",
       " 505 │ 0.10959      0.0    11.93      0    0.573    6.794     89.3   2.3889\n",
       " 506 │ 0.04741      0.0    11.93      0    0.573    6.03      80.8   2.505     ⋯\n",
       "\u001b[36m                                                  6 columns and 485 rows omitted\u001b[0m"
      ]
     },
     "execution_count": 4,
     "metadata": {},
     "output_type": "execute_result"
    }
   ],
   "source": [
    "boston = dataset(\"MASS\", \"Boston\")"
   ]
  },
  {
   "cell_type": "code",
   "execution_count": 5,
   "id": "2d0d3d07",
   "metadata": {},
   "outputs": [
    {
     "data": {
      "text/plain": [
       "DataFrame"
      ]
     },
     "execution_count": 5,
     "metadata": {},
     "output_type": "execute_result"
    }
   ],
   "source": [
    "typeof(boston)"
   ]
  },
  {
   "cell_type": "markdown",
   "id": "6b679423",
   "metadata": {},
   "source": [
    "### Accessing data"
   ]
  },
  {
   "cell_type": "markdown",
   "id": "2bb4df53",
   "metadata": {},
   "source": [
    "Intuitively a DataFrame is just a wrapper around a number of columns, each of which is a ```Vector``` of some type with a name\""
   ]
  },
  {
   "cell_type": "code",
   "execution_count": 6,
   "id": "59f5f1b0",
   "metadata": {},
   "outputs": [
    {
     "data": {
      "text/plain": [
       "14-element Vector{String}:\n",
       " \"Crim\"\n",
       " \"Zn\"\n",
       " \"Indus\"\n",
       " \"Chas\"\n",
       " \"NOx\"\n",
       " \"Rm\"\n",
       " \"Age\"\n",
       " \"Dis\"\n",
       " \"Rad\"\n",
       " \"Tax\"\n",
       " \"PTRatio\"\n",
       " \"Black\"\n",
       " \"LStat\"\n",
       " \"MedV\""
      ]
     },
     "execution_count": 6,
     "metadata": {},
     "output_type": "execute_result"
    }
   ],
   "source": [
    "names(boston)"
   ]
  },
  {
   "cell_type": "markdown",
   "id": "cfbb36d3",
   "metadata": {},
   "source": [
    "You can view the ```first``` few rows using first and specifying a number of rows:"
   ]
  },
  {
   "cell_type": "code",
   "execution_count": 7,
   "id": "4ff4012f",
   "metadata": {},
   "outputs": [
    {
     "data": {
      "text/html": [
       "<div class=\"data-frame\"><p>4 rows × 14 columns (omitted printing of 4 columns)</p><table class=\"data-frame\"><thead><tr><th></th><th>Crim</th><th>Zn</th><th>Indus</th><th>Chas</th><th>NOx</th><th>Rm</th><th>Age</th><th>Dis</th><th>Rad</th><th>Tax</th></tr><tr><th></th><th title=\"Float64\">Float64</th><th title=\"Float64\">Float64</th><th title=\"Float64\">Float64</th><th title=\"Int64\">Int64</th><th title=\"Float64\">Float64</th><th title=\"Float64\">Float64</th><th title=\"Float64\">Float64</th><th title=\"Float64\">Float64</th><th title=\"Int64\">Int64</th><th title=\"Int64\">Int64</th></tr></thead><tbody><tr><th>1</th><td>0.00632</td><td>18.0</td><td>2.31</td><td>0</td><td>0.538</td><td>6.575</td><td>65.2</td><td>4.09</td><td>1</td><td>296</td></tr><tr><th>2</th><td>0.02731</td><td>0.0</td><td>7.07</td><td>0</td><td>0.469</td><td>6.421</td><td>78.9</td><td>4.9671</td><td>2</td><td>242</td></tr><tr><th>3</th><td>0.02729</td><td>0.0</td><td>7.07</td><td>0</td><td>0.469</td><td>7.185</td><td>61.1</td><td>4.9671</td><td>2</td><td>242</td></tr><tr><th>4</th><td>0.03237</td><td>0.0</td><td>2.18</td><td>0</td><td>0.458</td><td>6.998</td><td>45.8</td><td>6.0622</td><td>3</td><td>222</td></tr></tbody></table></div>"
      ],
      "text/latex": [
       "\\begin{tabular}{r|ccccccccccc}\n",
       "\t& Crim & Zn & Indus & Chas & NOx & Rm & Age & Dis & Rad & Tax & \\\\\n",
       "\t\\hline\n",
       "\t& Float64 & Float64 & Float64 & Int64 & Float64 & Float64 & Float64 & Float64 & Int64 & Int64 & \\\\\n",
       "\t\\hline\n",
       "\t1 & 0.00632 & 18.0 & 2.31 & 0 & 0.538 & 6.575 & 65.2 & 4.09 & 1 & 296 & $\\dots$ \\\\\n",
       "\t2 & 0.02731 & 0.0 & 7.07 & 0 & 0.469 & 6.421 & 78.9 & 4.9671 & 2 & 242 & $\\dots$ \\\\\n",
       "\t3 & 0.02729 & 0.0 & 7.07 & 0 & 0.469 & 7.185 & 61.1 & 4.9671 & 2 & 242 & $\\dots$ \\\\\n",
       "\t4 & 0.03237 & 0.0 & 2.18 & 0 & 0.458 & 6.998 & 45.8 & 6.0622 & 3 & 222 & $\\dots$ \\\\\n",
       "\\end{tabular}\n"
      ],
      "text/plain": [
       "\u001b[1m4×14 DataFrame\u001b[0m\n",
       "\u001b[1m Row \u001b[0m│\u001b[1m Crim    \u001b[0m\u001b[1m Zn      \u001b[0m\u001b[1m Indus   \u001b[0m\u001b[1m Chas  \u001b[0m\u001b[1m NOx     \u001b[0m\u001b[1m Rm      \u001b[0m\u001b[1m Age     \u001b[0m\u001b[1m Dis     \u001b[0m\u001b[1m R\u001b[0m ⋯\n",
       "\u001b[1m     \u001b[0m│\u001b[90m Float64 \u001b[0m\u001b[90m Float64 \u001b[0m\u001b[90m Float64 \u001b[0m\u001b[90m Int64 \u001b[0m\u001b[90m Float64 \u001b[0m\u001b[90m Float64 \u001b[0m\u001b[90m Float64 \u001b[0m\u001b[90m Float64 \u001b[0m\u001b[90m I\u001b[0m ⋯\n",
       "─────┼──────────────────────────────────────────────────────────────────────────\n",
       "   1 │ 0.00632     18.0     2.31      0    0.538    6.575     65.2   4.09      ⋯\n",
       "   2 │ 0.02731      0.0     7.07      0    0.469    6.421     78.9   4.9671\n",
       "   3 │ 0.02729      0.0     7.07      0    0.469    7.185     61.1   4.9671\n",
       "   4 │ 0.03237      0.0     2.18      0    0.458    6.998     45.8   6.0622\n",
       "\u001b[36m                                                               6 columns omitted\u001b[0m"
      ]
     },
     "execution_count": 7,
     "metadata": {},
     "output_type": "execute_result"
    }
   ],
   "source": [
    "first(boston, 4)"
   ]
  },
  {
   "cell_type": "markdown",
   "id": "fedba1f9",
   "metadata": {},
   "source": [
    "You can access one of those columns easily using ```.colname```, this returns a vector that you can access like any Julia vector:"
   ]
  },
  {
   "cell_type": "code",
   "execution_count": 8,
   "id": "19aeb037",
   "metadata": {},
   "outputs": [
    {
     "data": {
      "text/plain": [
       "5-element Vector{Float64}:\n",
       " 0.00632\n",
       " 0.02731\n",
       " 0.02729\n",
       " 0.03237\n",
       " 0.06905"
      ]
     },
     "execution_count": 8,
     "metadata": {},
     "output_type": "execute_result"
    }
   ],
   "source": [
    "boston.Crim[1:5]"
   ]
  },
  {
   "cell_type": "markdown",
   "id": "c368934b",
   "metadata": {},
   "source": [
    "You can also just access the dataframe as you would a big matrix:"
   ]
  },
  {
   "cell_type": "code",
   "execution_count": 9,
   "id": "90fb6cae",
   "metadata": {},
   "outputs": [
    {
     "data": {
      "text/plain": [
       "0.469"
      ]
     },
     "execution_count": 9,
     "metadata": {},
     "output_type": "execute_result"
    }
   ],
   "source": [
    "boston[3, 5]"
   ]
  },
  {
   "cell_type": "markdown",
   "id": "f5fda7bb",
   "metadata": {},
   "source": [
    "or specifying a range of rows/columns:"
   ]
  },
  {
   "cell_type": "code",
   "execution_count": 10,
   "id": "036543ab",
   "metadata": {},
   "outputs": [
    {
     "data": {
      "text/html": [
       "<div class=\"data-frame\"><p>5 rows × 2 columns</p><table class=\"data-frame\"><thead><tr><th></th><th>Crim</th><th>Zn</th></tr><tr><th></th><th title=\"Float64\">Float64</th><th title=\"Float64\">Float64</th></tr></thead><tbody><tr><th>1</th><td>0.00632</td><td>18.0</td></tr><tr><th>2</th><td>0.02731</td><td>0.0</td></tr><tr><th>3</th><td>0.02729</td><td>0.0</td></tr><tr><th>4</th><td>0.03237</td><td>0.0</td></tr><tr><th>5</th><td>0.06905</td><td>0.0</td></tr></tbody></table></div>"
      ],
      "text/latex": [
       "\\begin{tabular}{r|cc}\n",
       "\t& Crim & Zn\\\\\n",
       "\t\\hline\n",
       "\t& Float64 & Float64\\\\\n",
       "\t\\hline\n",
       "\t1 & 0.00632 & 18.0 \\\\\n",
       "\t2 & 0.02731 & 0.0 \\\\\n",
       "\t3 & 0.02729 & 0.0 \\\\\n",
       "\t4 & 0.03237 & 0.0 \\\\\n",
       "\t5 & 0.06905 & 0.0 \\\\\n",
       "\\end{tabular}\n"
      ],
      "text/plain": [
       "\u001b[1m5×2 DataFrame\u001b[0m\n",
       "\u001b[1m Row \u001b[0m│\u001b[1m Crim    \u001b[0m\u001b[1m Zn      \u001b[0m\n",
       "\u001b[1m     \u001b[0m│\u001b[90m Float64 \u001b[0m\u001b[90m Float64 \u001b[0m\n",
       "─────┼──────────────────\n",
       "   1 │ 0.00632     18.0\n",
       "   2 │ 0.02731      0.0\n",
       "   3 │ 0.02729      0.0\n",
       "   4 │ 0.03237      0.0\n",
       "   5 │ 0.06905      0.0"
      ]
     },
     "execution_count": 10,
     "metadata": {},
     "output_type": "execute_result"
    }
   ],
   "source": [
    "boston[1:5, [:Crim, :Zn]]"
   ]
  },
  {
   "cell_type": "markdown",
   "id": "0bd933a7",
   "metadata": {},
   "source": [
    "or, similarly,"
   ]
  },
  {
   "cell_type": "code",
   "execution_count": 11,
   "id": "52ae5937",
   "metadata": {},
   "outputs": [
    {
     "data": {
      "text/html": [
       "<div class=\"data-frame\"><p>5 rows × 2 columns</p><table class=\"data-frame\"><thead><tr><th></th><th>Crim</th><th>Zn</th></tr><tr><th></th><th title=\"Float64\">Float64</th><th title=\"Float64\">Float64</th></tr></thead><tbody><tr><th>1</th><td>0.00632</td><td>18.0</td></tr><tr><th>2</th><td>0.02731</td><td>0.0</td></tr><tr><th>3</th><td>0.02729</td><td>0.0</td></tr><tr><th>4</th><td>0.03237</td><td>0.0</td></tr><tr><th>5</th><td>0.06905</td><td>0.0</td></tr></tbody></table></div>"
      ],
      "text/latex": [
       "\\begin{tabular}{r|cc}\n",
       "\t& Crim & Zn\\\\\n",
       "\t\\hline\n",
       "\t& Float64 & Float64\\\\\n",
       "\t\\hline\n",
       "\t1 & 0.00632 & 18.0 \\\\\n",
       "\t2 & 0.02731 & 0.0 \\\\\n",
       "\t3 & 0.02729 & 0.0 \\\\\n",
       "\t4 & 0.03237 & 0.0 \\\\\n",
       "\t5 & 0.06905 & 0.0 \\\\\n",
       "\\end{tabular}\n"
      ],
      "text/plain": [
       "\u001b[1m5×2 DataFrame\u001b[0m\n",
       "\u001b[1m Row \u001b[0m│\u001b[1m Crim    \u001b[0m\u001b[1m Zn      \u001b[0m\n",
       "\u001b[1m     \u001b[0m│\u001b[90m Float64 \u001b[0m\u001b[90m Float64 \u001b[0m\n",
       "─────┼──────────────────\n",
       "   1 │ 0.00632     18.0\n",
       "   2 │ 0.02731      0.0\n",
       "   3 │ 0.02729      0.0\n",
       "   4 │ 0.03237      0.0\n",
       "   5 │ 0.06905      0.0"
      ]
     },
     "execution_count": 11,
     "metadata": {},
     "output_type": "execute_result"
    }
   ],
   "source": [
    "boston[1:5, 1:2]"
   ]
  },
  {
   "cell_type": "markdown",
   "id": "0dc011a9",
   "metadata": {},
   "source": [
    "The ```select``` function is very convenient to get sub dataframes of interest:"
   ]
  },
  {
   "cell_type": "code",
   "execution_count": 12,
   "id": "4a66214d",
   "metadata": {},
   "outputs": [
    {
     "data": {
      "text/html": [
       "<div class=\"data-frame\"><p>2 rows × 3 columns</p><table class=\"data-frame\"><thead><tr><th></th><th>Crim</th><th>Zn</th><th>Indus</th></tr><tr><th></th><th title=\"Float64\">Float64</th><th title=\"Float64\">Float64</th><th title=\"Float64\">Float64</th></tr></thead><tbody><tr><th>1</th><td>0.00632</td><td>18.0</td><td>2.31</td></tr><tr><th>2</th><td>0.02731</td><td>0.0</td><td>7.07</td></tr></tbody></table></div>"
      ],
      "text/latex": [
       "\\begin{tabular}{r|ccc}\n",
       "\t& Crim & Zn & Indus\\\\\n",
       "\t\\hline\n",
       "\t& Float64 & Float64 & Float64\\\\\n",
       "\t\\hline\n",
       "\t1 & 0.00632 & 18.0 & 2.31 \\\\\n",
       "\t2 & 0.02731 & 0.0 & 7.07 \\\\\n",
       "\\end{tabular}\n"
      ],
      "text/plain": [
       "\u001b[1m2×3 DataFrame\u001b[0m\n",
       "\u001b[1m Row \u001b[0m│\u001b[1m Crim    \u001b[0m\u001b[1m Zn      \u001b[0m\u001b[1m Indus   \u001b[0m\n",
       "\u001b[1m     \u001b[0m│\u001b[90m Float64 \u001b[0m\u001b[90m Float64 \u001b[0m\u001b[90m Float64 \u001b[0m\n",
       "─────┼───────────────────────────\n",
       "   1 │ 0.00632     18.0     2.31\n",
       "   2 │ 0.02731      0.0     7.07"
      ]
     },
     "execution_count": 12,
     "metadata": {},
     "output_type": "execute_result"
    }
   ],
   "source": [
    "b1 = select(boston, [:Crim, :Zn, :Indus])\n",
    "first(b1, 2)"
   ]
  },
  {
   "cell_type": "markdown",
   "id": "de99d3d6",
   "metadata": {},
   "source": [
    "The ```Not``` syntax is also very useful:"
   ]
  },
  {
   "cell_type": "code",
   "execution_count": 13,
   "id": "09dc15d7",
   "metadata": {},
   "outputs": [
    {
     "data": {
      "text/html": [
       "<div class=\"data-frame\"><p>2 rows × 13 columns (omitted printing of 3 columns)</p><table class=\"data-frame\"><thead><tr><th></th><th>Crim</th><th>Zn</th><th>Indus</th><th>Chas</th><th>Rm</th><th>Age</th><th>Dis</th><th>Rad</th><th>Tax</th><th>PTRatio</th></tr><tr><th></th><th title=\"Float64\">Float64</th><th title=\"Float64\">Float64</th><th title=\"Float64\">Float64</th><th title=\"Int64\">Int64</th><th title=\"Float64\">Float64</th><th title=\"Float64\">Float64</th><th title=\"Float64\">Float64</th><th title=\"Int64\">Int64</th><th title=\"Int64\">Int64</th><th title=\"Float64\">Float64</th></tr></thead><tbody><tr><th>1</th><td>0.00632</td><td>18.0</td><td>2.31</td><td>0</td><td>6.575</td><td>65.2</td><td>4.09</td><td>1</td><td>296</td><td>15.3</td></tr><tr><th>2</th><td>0.02731</td><td>0.0</td><td>7.07</td><td>0</td><td>6.421</td><td>78.9</td><td>4.9671</td><td>2</td><td>242</td><td>17.8</td></tr></tbody></table></div>"
      ],
      "text/latex": [
       "\\begin{tabular}{r|ccccccccccc}\n",
       "\t& Crim & Zn & Indus & Chas & Rm & Age & Dis & Rad & Tax & PTRatio & \\\\\n",
       "\t\\hline\n",
       "\t& Float64 & Float64 & Float64 & Int64 & Float64 & Float64 & Float64 & Int64 & Int64 & Float64 & \\\\\n",
       "\t\\hline\n",
       "\t1 & 0.00632 & 18.0 & 2.31 & 0 & 6.575 & 65.2 & 4.09 & 1 & 296 & 15.3 & $\\dots$ \\\\\n",
       "\t2 & 0.02731 & 0.0 & 7.07 & 0 & 6.421 & 78.9 & 4.9671 & 2 & 242 & 17.8 & $\\dots$ \\\\\n",
       "\\end{tabular}\n"
      ],
      "text/plain": [
       "\u001b[1m2×13 DataFrame\u001b[0m\n",
       "\u001b[1m Row \u001b[0m│\u001b[1m Crim    \u001b[0m\u001b[1m Zn      \u001b[0m\u001b[1m Indus   \u001b[0m\u001b[1m Chas  \u001b[0m\u001b[1m Rm      \u001b[0m\u001b[1m Age     \u001b[0m\u001b[1m Dis     \u001b[0m\u001b[1m Rad   \u001b[0m\u001b[1m Tax\u001b[0m ⋯\n",
       "\u001b[1m     \u001b[0m│\u001b[90m Float64 \u001b[0m\u001b[90m Float64 \u001b[0m\u001b[90m Float64 \u001b[0m\u001b[90m Int64 \u001b[0m\u001b[90m Float64 \u001b[0m\u001b[90m Float64 \u001b[0m\u001b[90m Float64 \u001b[0m\u001b[90m Int64 \u001b[0m\u001b[90m Int\u001b[0m ⋯\n",
       "─────┼──────────────────────────────────────────────────────────────────────────\n",
       "   1 │ 0.00632     18.0     2.31      0    6.575     65.2   4.09        1    2 ⋯\n",
       "   2 │ 0.02731      0.0     7.07      0    6.421     78.9   4.9671      2    2\n",
       "\u001b[36m                                                               5 columns omitted\u001b[0m"
      ]
     },
     "execution_count": 13,
     "metadata": {},
     "output_type": "execute_result"
    }
   ],
   "source": [
    "b2 = select(boston, Not(:NOx))\n",
    "first(b2, 2)"
   ]
  },
  {
   "cell_type": "markdown",
   "id": "baa99194",
   "metadata": {},
   "source": [
    "Finally, if you would like to drop columns, you can use ```select!``` which will mutate the dataframe in place:"
   ]
  },
  {
   "cell_type": "code",
   "execution_count": 14,
   "id": "713af525",
   "metadata": {},
   "outputs": [
    {
     "data": {
      "text/html": [
       "<div class=\"data-frame\"><p>2 rows × 2 columns</p><table class=\"data-frame\"><thead><tr><th></th><th>Zn</th><th>Indus</th></tr><tr><th></th><th title=\"Float64\">Float64</th><th title=\"Float64\">Float64</th></tr></thead><tbody><tr><th>1</th><td>18.0</td><td>2.31</td></tr><tr><th>2</th><td>0.0</td><td>7.07</td></tr></tbody></table></div>"
      ],
      "text/latex": [
       "\\begin{tabular}{r|cc}\n",
       "\t& Zn & Indus\\\\\n",
       "\t\\hline\n",
       "\t& Float64 & Float64\\\\\n",
       "\t\\hline\n",
       "\t1 & 18.0 & 2.31 \\\\\n",
       "\t2 & 0.0 & 7.07 \\\\\n",
       "\\end{tabular}\n"
      ],
      "text/plain": [
       "\u001b[1m2×2 DataFrame\u001b[0m\n",
       "\u001b[1m Row \u001b[0m│\u001b[1m Zn      \u001b[0m\u001b[1m Indus   \u001b[0m\n",
       "\u001b[1m     \u001b[0m│\u001b[90m Float64 \u001b[0m\u001b[90m Float64 \u001b[0m\n",
       "─────┼──────────────────\n",
       "   1 │    18.0     2.31\n",
       "   2 │     0.0     7.07"
      ]
     },
     "execution_count": 14,
     "metadata": {},
     "output_type": "execute_result"
    }
   ],
   "source": [
    "select!(b1, Not(:Crim))\n",
    "first(b1, 2)"
   ]
  },
  {
   "cell_type": "markdown",
   "id": "1c1fbf7f",
   "metadata": {},
   "source": [
    "### Describing the data"
   ]
  },
  {
   "cell_type": "markdown",
   "id": "1c6fb396",
   "metadata": {},
   "source": [
    "```StatsBase``` offers a convenient ```describe``` function which you can use on a DataFrame to get an overview of the data:"
   ]
  },
  {
   "cell_type": "code",
   "execution_count": 15,
   "id": "238f9a9e",
   "metadata": {},
   "outputs": [
    {
     "data": {
      "text/html": [
       "<div class=\"data-frame\"><p>14 rows × 7 columns</p><table class=\"data-frame\"><thead><tr><th></th><th>variable</th><th>mean</th><th>min</th><th>median</th><th>max</th><th>nmissing</th><th>eltype</th></tr><tr><th></th><th title=\"Symbol\">Symbol</th><th title=\"Float64\">Float64</th><th title=\"Real\">Real</th><th title=\"Float64\">Float64</th><th title=\"Real\">Real</th><th title=\"Int64\">Int64</th><th title=\"DataType\">DataType</th></tr></thead><tbody><tr><th>1</th><td>Crim</td><td>3.61352</td><td>0.00632</td><td>0.25651</td><td>88.9762</td><td>0</td><td>Float64</td></tr><tr><th>2</th><td>Zn</td><td>11.3636</td><td>0.0</td><td>0.0</td><td>100.0</td><td>0</td><td>Float64</td></tr><tr><th>3</th><td>Indus</td><td>11.1368</td><td>0.46</td><td>9.69</td><td>27.74</td><td>0</td><td>Float64</td></tr><tr><th>4</th><td>Chas</td><td>0.06917</td><td>0</td><td>0.0</td><td>1</td><td>0</td><td>Int64</td></tr><tr><th>5</th><td>NOx</td><td>0.554695</td><td>0.385</td><td>0.538</td><td>0.871</td><td>0</td><td>Float64</td></tr><tr><th>6</th><td>Rm</td><td>6.28463</td><td>3.561</td><td>6.2085</td><td>8.78</td><td>0</td><td>Float64</td></tr><tr><th>7</th><td>Age</td><td>68.5749</td><td>2.9</td><td>77.5</td><td>100.0</td><td>0</td><td>Float64</td></tr><tr><th>8</th><td>Dis</td><td>3.79504</td><td>1.1296</td><td>3.20745</td><td>12.1265</td><td>0</td><td>Float64</td></tr><tr><th>9</th><td>Rad</td><td>9.54941</td><td>1</td><td>5.0</td><td>24</td><td>0</td><td>Int64</td></tr><tr><th>10</th><td>Tax</td><td>408.237</td><td>187</td><td>330.0</td><td>711</td><td>0</td><td>Int64</td></tr><tr><th>11</th><td>PTRatio</td><td>18.4555</td><td>12.6</td><td>19.05</td><td>22.0</td><td>0</td><td>Float64</td></tr><tr><th>12</th><td>Black</td><td>356.674</td><td>0.32</td><td>391.44</td><td>396.9</td><td>0</td><td>Float64</td></tr><tr><th>13</th><td>LStat</td><td>12.6531</td><td>1.73</td><td>11.36</td><td>37.97</td><td>0</td><td>Float64</td></tr><tr><th>14</th><td>MedV</td><td>22.5328</td><td>5.0</td><td>21.2</td><td>50.0</td><td>0</td><td>Float64</td></tr></tbody></table></div>"
      ],
      "text/latex": [
       "\\begin{tabular}{r|ccccccc}\n",
       "\t& variable & mean & min & median & max & nmissing & eltype\\\\\n",
       "\t\\hline\n",
       "\t& Symbol & Float64 & Real & Float64 & Real & Int64 & DataType\\\\\n",
       "\t\\hline\n",
       "\t1 & Crim & 3.61352 & 0.00632 & 0.25651 & 88.9762 & 0 & Float64 \\\\\n",
       "\t2 & Zn & 11.3636 & 0.0 & 0.0 & 100.0 & 0 & Float64 \\\\\n",
       "\t3 & Indus & 11.1368 & 0.46 & 9.69 & 27.74 & 0 & Float64 \\\\\n",
       "\t4 & Chas & 0.06917 & 0 & 0.0 & 1 & 0 & Int64 \\\\\n",
       "\t5 & NOx & 0.554695 & 0.385 & 0.538 & 0.871 & 0 & Float64 \\\\\n",
       "\t6 & Rm & 6.28463 & 3.561 & 6.2085 & 8.78 & 0 & Float64 \\\\\n",
       "\t7 & Age & 68.5749 & 2.9 & 77.5 & 100.0 & 0 & Float64 \\\\\n",
       "\t8 & Dis & 3.79504 & 1.1296 & 3.20745 & 12.1265 & 0 & Float64 \\\\\n",
       "\t9 & Rad & 9.54941 & 1 & 5.0 & 24 & 0 & Int64 \\\\\n",
       "\t10 & Tax & 408.237 & 187 & 330.0 & 711 & 0 & Int64 \\\\\n",
       "\t11 & PTRatio & 18.4555 & 12.6 & 19.05 & 22.0 & 0 & Float64 \\\\\n",
       "\t12 & Black & 356.674 & 0.32 & 391.44 & 396.9 & 0 & Float64 \\\\\n",
       "\t13 & LStat & 12.6531 & 1.73 & 11.36 & 37.97 & 0 & Float64 \\\\\n",
       "\t14 & MedV & 22.5328 & 5.0 & 21.2 & 50.0 & 0 & Float64 \\\\\n",
       "\\end{tabular}\n"
      ],
      "text/plain": [
       "\u001b[1m14×7 DataFrame\u001b[0m\n",
       "\u001b[1m Row \u001b[0m│\u001b[1m variable \u001b[0m\u001b[1m mean       \u001b[0m\u001b[1m min       \u001b[0m\u001b[1m median    \u001b[0m\u001b[1m max      \u001b[0m\u001b[1m nmissing \u001b[0m\u001b[1m eltype \u001b[0m ⋯\n",
       "\u001b[1m     \u001b[0m│\u001b[90m Symbol   \u001b[0m\u001b[90m Float64    \u001b[0m\u001b[90m Real      \u001b[0m\u001b[90m Float64   \u001b[0m\u001b[90m Real     \u001b[0m\u001b[90m Int64    \u001b[0m\u001b[90m DataTyp\u001b[0m ⋯\n",
       "─────┼──────────────────────────────────────────────────────────────────────────\n",
       "   1 │ Crim        3.61352     0.00632    0.25651   88.9762         0  Float64 ⋯\n",
       "   2 │ Zn         11.3636      0.0        0.0      100.0            0  Float64\n",
       "   3 │ Indus      11.1368      0.46       9.69      27.74           0  Float64\n",
       "   4 │ Chas        0.06917     0          0.0        1              0  Int64\n",
       "   5 │ NOx         0.554695    0.385      0.538      0.871          0  Float64 ⋯\n",
       "   6 │ Rm          6.28463     3.561      6.2085     8.78           0  Float64\n",
       "   7 │ Age        68.5749      2.9       77.5      100.0            0  Float64\n",
       "   8 │ Dis         3.79504     1.1296     3.20745   12.1265         0  Float64\n",
       "   9 │ Rad         9.54941     1          5.0       24              0  Int64   ⋯\n",
       "  10 │ Tax       408.237     187        330.0      711              0  Int64\n",
       "  11 │ PTRatio    18.4555     12.6       19.05      22.0            0  Float64\n",
       "  12 │ Black     356.674       0.32     391.44     396.9            0  Float64\n",
       "  13 │ LStat      12.6531      1.73      11.36      37.97           0  Float64 ⋯\n",
       "  14 │ MedV       22.5328      5.0       21.2       50.0            0  Float64\n",
       "\u001b[36m                                                                1 column omitted\u001b[0m"
      ]
     },
     "execution_count": 15,
     "metadata": {},
     "output_type": "execute_result"
    }
   ],
   "source": [
    "using StatsBase\n",
    "describe(boston)"
   ]
  },
  {
   "cell_type": "code",
   "execution_count": 16,
   "id": "6b6a62c5",
   "metadata": {},
   "outputs": [
    {
     "data": {
      "text/html": [
       "<div class=\"data-frame\"><p>14 rows × 6 columns</p><table class=\"data-frame\"><thead><tr><th></th><th>variable</th><th>min</th><th>max</th><th>mean</th><th>median</th><th>std</th></tr><tr><th></th><th title=\"Symbol\">Symbol</th><th title=\"Real\">Real</th><th title=\"Real\">Real</th><th title=\"Float64\">Float64</th><th title=\"Float64\">Float64</th><th title=\"Float64\">Float64</th></tr></thead><tbody><tr><th>1</th><td>Crim</td><td>0.00632</td><td>88.9762</td><td>3.61352</td><td>0.25651</td><td>8.60155</td></tr><tr><th>2</th><td>Zn</td><td>0.0</td><td>100.0</td><td>11.3636</td><td>0.0</td><td>23.3225</td></tr><tr><th>3</th><td>Indus</td><td>0.46</td><td>27.74</td><td>11.1368</td><td>9.69</td><td>6.86035</td></tr><tr><th>4</th><td>Chas</td><td>0</td><td>1</td><td>0.06917</td><td>0.0</td><td>0.253994</td></tr><tr><th>5</th><td>NOx</td><td>0.385</td><td>0.871</td><td>0.554695</td><td>0.538</td><td>0.115878</td></tr><tr><th>6</th><td>Rm</td><td>3.561</td><td>8.78</td><td>6.28463</td><td>6.2085</td><td>0.702617</td></tr><tr><th>7</th><td>Age</td><td>2.9</td><td>100.0</td><td>68.5749</td><td>77.5</td><td>28.1489</td></tr><tr><th>8</th><td>Dis</td><td>1.1296</td><td>12.1265</td><td>3.79504</td><td>3.20745</td><td>2.10571</td></tr><tr><th>9</th><td>Rad</td><td>1</td><td>24</td><td>9.54941</td><td>5.0</td><td>8.70726</td></tr><tr><th>10</th><td>Tax</td><td>187</td><td>711</td><td>408.237</td><td>330.0</td><td>168.537</td></tr><tr><th>11</th><td>PTRatio</td><td>12.6</td><td>22.0</td><td>18.4555</td><td>19.05</td><td>2.16495</td></tr><tr><th>12</th><td>Black</td><td>0.32</td><td>396.9</td><td>356.674</td><td>391.44</td><td>91.2949</td></tr><tr><th>13</th><td>LStat</td><td>1.73</td><td>37.97</td><td>12.6531</td><td>11.36</td><td>7.14106</td></tr><tr><th>14</th><td>MedV</td><td>5.0</td><td>50.0</td><td>22.5328</td><td>21.2</td><td>9.1971</td></tr></tbody></table></div>"
      ],
      "text/latex": [
       "\\begin{tabular}{r|cccccc}\n",
       "\t& variable & min & max & mean & median & std\\\\\n",
       "\t\\hline\n",
       "\t& Symbol & Real & Real & Float64 & Float64 & Float64\\\\\n",
       "\t\\hline\n",
       "\t1 & Crim & 0.00632 & 88.9762 & 3.61352 & 0.25651 & 8.60155 \\\\\n",
       "\t2 & Zn & 0.0 & 100.0 & 11.3636 & 0.0 & 23.3225 \\\\\n",
       "\t3 & Indus & 0.46 & 27.74 & 11.1368 & 9.69 & 6.86035 \\\\\n",
       "\t4 & Chas & 0 & 1 & 0.06917 & 0.0 & 0.253994 \\\\\n",
       "\t5 & NOx & 0.385 & 0.871 & 0.554695 & 0.538 & 0.115878 \\\\\n",
       "\t6 & Rm & 3.561 & 8.78 & 6.28463 & 6.2085 & 0.702617 \\\\\n",
       "\t7 & Age & 2.9 & 100.0 & 68.5749 & 77.5 & 28.1489 \\\\\n",
       "\t8 & Dis & 1.1296 & 12.1265 & 3.79504 & 3.20745 & 2.10571 \\\\\n",
       "\t9 & Rad & 1 & 24 & 9.54941 & 5.0 & 8.70726 \\\\\n",
       "\t10 & Tax & 187 & 711 & 408.237 & 330.0 & 168.537 \\\\\n",
       "\t11 & PTRatio & 12.6 & 22.0 & 18.4555 & 19.05 & 2.16495 \\\\\n",
       "\t12 & Black & 0.32 & 396.9 & 356.674 & 391.44 & 91.2949 \\\\\n",
       "\t13 & LStat & 1.73 & 37.97 & 12.6531 & 11.36 & 7.14106 \\\\\n",
       "\t14 & MedV & 5.0 & 50.0 & 22.5328 & 21.2 & 9.1971 \\\\\n",
       "\\end{tabular}\n"
      ],
      "text/plain": [
       "\u001b[1m14×6 DataFrame\u001b[0m\n",
       "\u001b[1m Row \u001b[0m│\u001b[1m variable \u001b[0m\u001b[1m min       \u001b[0m\u001b[1m max      \u001b[0m\u001b[1m mean       \u001b[0m\u001b[1m median    \u001b[0m\u001b[1m std        \u001b[0m\n",
       "\u001b[1m     \u001b[0m│\u001b[90m Symbol   \u001b[0m\u001b[90m Real      \u001b[0m\u001b[90m Real     \u001b[0m\u001b[90m Float64    \u001b[0m\u001b[90m Float64   \u001b[0m\u001b[90m Float64    \u001b[0m\n",
       "─────┼──────────────────────────────────────────────────────────────────\n",
       "   1 │ Crim        0.00632   88.9762    3.61352     0.25651    8.60155\n",
       "   2 │ Zn          0.0      100.0      11.3636      0.0       23.3225\n",
       "   3 │ Indus       0.46      27.74     11.1368      9.69       6.86035\n",
       "   4 │ Chas        0          1         0.06917     0.0        0.253994\n",
       "   5 │ NOx         0.385      0.871     0.554695    0.538      0.115878\n",
       "   6 │ Rm          3.561      8.78      6.28463     6.2085     0.702617\n",
       "   7 │ Age         2.9      100.0      68.5749     77.5       28.1489\n",
       "   8 │ Dis         1.1296    12.1265    3.79504     3.20745    2.10571\n",
       "   9 │ Rad         1         24         9.54941     5.0        8.70726\n",
       "  10 │ Tax       187        711       408.237     330.0      168.537\n",
       "  11 │ PTRatio    12.6       22.0      18.4555     19.05       2.16495\n",
       "  12 │ Black       0.32     396.9     356.674     391.44      91.2949\n",
       "  13 │ LStat       1.73      37.97     12.6531     11.36       7.14106\n",
       "  14 │ MedV        5.0       50.0      22.5328     21.2        9.1971"
      ]
     },
     "execution_count": 16,
     "metadata": {},
     "output_type": "execute_result"
    }
   ],
   "source": [
    "describe(boston, :min, :max, :mean, :median, :std)"
   ]
  },
  {
   "cell_type": "markdown",
   "id": "a8abc3c3",
   "metadata": {},
   "source": [
    "You can pass a number of symbols to the ```describe``` function to indicate which statistics to compute for each feature:\n",
    "\n",
    "- ```mean```, ```std```, ```min```, ```max```, ```median```, ```first```, ```last``` are all fairly self explanatory\n",
    "\n",
    "- ```q25```, ```q75``` are respectively for the 25th and 75th percentile,\n",
    "\n",
    "- ```eltype```, ```nunique```, ```nmissing``` can also be used"
   ]
  },
  {
   "cell_type": "code",
   "execution_count": 17,
   "id": "65fccc0d",
   "metadata": {},
   "outputs": [
    {
     "data": {
      "text/html": [
       "<div class=\"data-frame\"><p>14 rows × 9 columns</p><table class=\"data-frame\"><thead><tr><th></th><th>variable</th><th>min</th><th>max</th><th>mean</th><th>median</th><th>std</th><th>eltype</th><th>nunique</th><th>nmissing</th></tr><tr><th></th><th title=\"Symbol\">Symbol</th><th title=\"Real\">Real</th><th title=\"Real\">Real</th><th title=\"Float64\">Float64</th><th title=\"Float64\">Float64</th><th title=\"Float64\">Float64</th><th title=\"DataType\">DataType</th><th title=\"Nothing\">Nothing</th><th title=\"Int64\">Int64</th></tr></thead><tbody><tr><th>1</th><td>Crim</td><td>0.00632</td><td>88.9762</td><td>3.61352</td><td>0.25651</td><td>8.60155</td><td>Float64</td><td></td><td>0</td></tr><tr><th>2</th><td>Zn</td><td>0.0</td><td>100.0</td><td>11.3636</td><td>0.0</td><td>23.3225</td><td>Float64</td><td></td><td>0</td></tr><tr><th>3</th><td>Indus</td><td>0.46</td><td>27.74</td><td>11.1368</td><td>9.69</td><td>6.86035</td><td>Float64</td><td></td><td>0</td></tr><tr><th>4</th><td>Chas</td><td>0</td><td>1</td><td>0.06917</td><td>0.0</td><td>0.253994</td><td>Int64</td><td></td><td>0</td></tr><tr><th>5</th><td>NOx</td><td>0.385</td><td>0.871</td><td>0.554695</td><td>0.538</td><td>0.115878</td><td>Float64</td><td></td><td>0</td></tr><tr><th>6</th><td>Rm</td><td>3.561</td><td>8.78</td><td>6.28463</td><td>6.2085</td><td>0.702617</td><td>Float64</td><td></td><td>0</td></tr><tr><th>7</th><td>Age</td><td>2.9</td><td>100.0</td><td>68.5749</td><td>77.5</td><td>28.1489</td><td>Float64</td><td></td><td>0</td></tr><tr><th>8</th><td>Dis</td><td>1.1296</td><td>12.1265</td><td>3.79504</td><td>3.20745</td><td>2.10571</td><td>Float64</td><td></td><td>0</td></tr><tr><th>9</th><td>Rad</td><td>1</td><td>24</td><td>9.54941</td><td>5.0</td><td>8.70726</td><td>Int64</td><td></td><td>0</td></tr><tr><th>10</th><td>Tax</td><td>187</td><td>711</td><td>408.237</td><td>330.0</td><td>168.537</td><td>Int64</td><td></td><td>0</td></tr><tr><th>11</th><td>PTRatio</td><td>12.6</td><td>22.0</td><td>18.4555</td><td>19.05</td><td>2.16495</td><td>Float64</td><td></td><td>0</td></tr><tr><th>12</th><td>Black</td><td>0.32</td><td>396.9</td><td>356.674</td><td>391.44</td><td>91.2949</td><td>Float64</td><td></td><td>0</td></tr><tr><th>13</th><td>LStat</td><td>1.73</td><td>37.97</td><td>12.6531</td><td>11.36</td><td>7.14106</td><td>Float64</td><td></td><td>0</td></tr><tr><th>14</th><td>MedV</td><td>5.0</td><td>50.0</td><td>22.5328</td><td>21.2</td><td>9.1971</td><td>Float64</td><td></td><td>0</td></tr></tbody></table></div>"
      ],
      "text/latex": [
       "\\begin{tabular}{r|ccccccccc}\n",
       "\t& variable & min & max & mean & median & std & eltype & nunique & nmissing\\\\\n",
       "\t\\hline\n",
       "\t& Symbol & Real & Real & Float64 & Float64 & Float64 & DataType & Nothing & Int64\\\\\n",
       "\t\\hline\n",
       "\t1 & Crim & 0.00632 & 88.9762 & 3.61352 & 0.25651 & 8.60155 & Float64 &  & 0 \\\\\n",
       "\t2 & Zn & 0.0 & 100.0 & 11.3636 & 0.0 & 23.3225 & Float64 &  & 0 \\\\\n",
       "\t3 & Indus & 0.46 & 27.74 & 11.1368 & 9.69 & 6.86035 & Float64 &  & 0 \\\\\n",
       "\t4 & Chas & 0 & 1 & 0.06917 & 0.0 & 0.253994 & Int64 &  & 0 \\\\\n",
       "\t5 & NOx & 0.385 & 0.871 & 0.554695 & 0.538 & 0.115878 & Float64 &  & 0 \\\\\n",
       "\t6 & Rm & 3.561 & 8.78 & 6.28463 & 6.2085 & 0.702617 & Float64 &  & 0 \\\\\n",
       "\t7 & Age & 2.9 & 100.0 & 68.5749 & 77.5 & 28.1489 & Float64 &  & 0 \\\\\n",
       "\t8 & Dis & 1.1296 & 12.1265 & 3.79504 & 3.20745 & 2.10571 & Float64 &  & 0 \\\\\n",
       "\t9 & Rad & 1 & 24 & 9.54941 & 5.0 & 8.70726 & Int64 &  & 0 \\\\\n",
       "\t10 & Tax & 187 & 711 & 408.237 & 330.0 & 168.537 & Int64 &  & 0 \\\\\n",
       "\t11 & PTRatio & 12.6 & 22.0 & 18.4555 & 19.05 & 2.16495 & Float64 &  & 0 \\\\\n",
       "\t12 & Black & 0.32 & 396.9 & 356.674 & 391.44 & 91.2949 & Float64 &  & 0 \\\\\n",
       "\t13 & LStat & 1.73 & 37.97 & 12.6531 & 11.36 & 7.14106 & Float64 &  & 0 \\\\\n",
       "\t14 & MedV & 5.0 & 50.0 & 22.5328 & 21.2 & 9.1971 & Float64 &  & 0 \\\\\n",
       "\\end{tabular}\n"
      ],
      "text/plain": [
       "\u001b[1m14×9 DataFrame\u001b[0m\n",
       "\u001b[1m Row \u001b[0m│\u001b[1m variable \u001b[0m\u001b[1m min       \u001b[0m\u001b[1m max      \u001b[0m\u001b[1m mean       \u001b[0m\u001b[1m median    \u001b[0m\u001b[1m std        \u001b[0m\u001b[1m eltyp\u001b[0m ⋯\n",
       "\u001b[1m     \u001b[0m│\u001b[90m Symbol   \u001b[0m\u001b[90m Real      \u001b[0m\u001b[90m Real     \u001b[0m\u001b[90m Float64    \u001b[0m\u001b[90m Float64   \u001b[0m\u001b[90m Float64    \u001b[0m\u001b[90m DataT\u001b[0m ⋯\n",
       "─────┼──────────────────────────────────────────────────────────────────────────\n",
       "   1 │ Crim        0.00632   88.9762    3.61352     0.25651    8.60155   Float ⋯\n",
       "   2 │ Zn          0.0      100.0      11.3636      0.0       23.3225    Float\n",
       "   3 │ Indus       0.46      27.74     11.1368      9.69       6.86035   Float\n",
       "   4 │ Chas        0          1         0.06917     0.0        0.253994  Int64\n",
       "   5 │ NOx         0.385      0.871     0.554695    0.538      0.115878  Float ⋯\n",
       "   6 │ Rm          3.561      8.78      6.28463     6.2085     0.702617  Float\n",
       "   7 │ Age         2.9      100.0      68.5749     77.5       28.1489    Float\n",
       "   8 │ Dis         1.1296    12.1265    3.79504     3.20745    2.10571   Float\n",
       "   9 │ Rad         1         24         9.54941     5.0        8.70726   Int64 ⋯\n",
       "  10 │ Tax       187        711       408.237     330.0      168.537     Int64\n",
       "  11 │ PTRatio    12.6       22.0      18.4555     19.05       2.16495   Float\n",
       "  12 │ Black       0.32     396.9     356.674     391.44      91.2949    Float\n",
       "  13 │ LStat       1.73      37.97     12.6531     11.36       7.14106   Float ⋯\n",
       "  14 │ MedV        5.0       50.0      22.5328     21.2        9.1971    Float\n",
       "\u001b[36m                                                               3 columns omitted\u001b[0m"
      ]
     },
     "execution_count": 17,
     "metadata": {},
     "output_type": "execute_result"
    }
   ],
   "source": [
    "describe(boston, :min, :max, :mean, :median, :std, :eltype, :nunique, :nmissing)"
   ]
  },
  {
   "cell_type": "code",
   "execution_count": 18,
   "id": "a57d66dc",
   "metadata": {},
   "outputs": [
    {
     "data": {
      "text/html": [
       "<div class=\"data-frame\"><p>14 rows × 3 columns</p><table class=\"data-frame\"><thead><tr><th></th><th>variable</th><th>q25</th><th>q75</th></tr><tr><th></th><th title=\"Symbol\">Symbol</th><th title=\"Float64\">Float64</th><th title=\"Float64\">Float64</th></tr></thead><tbody><tr><th>1</th><td>Crim</td><td>0.082045</td><td>3.67708</td></tr><tr><th>2</th><td>Zn</td><td>0.0</td><td>12.5</td></tr><tr><th>3</th><td>Indus</td><td>5.19</td><td>18.1</td></tr><tr><th>4</th><td>Chas</td><td>0.0</td><td>0.0</td></tr><tr><th>5</th><td>NOx</td><td>0.449</td><td>0.624</td></tr><tr><th>6</th><td>Rm</td><td>5.8855</td><td>6.6235</td></tr><tr><th>7</th><td>Age</td><td>45.025</td><td>94.075</td></tr><tr><th>8</th><td>Dis</td><td>2.10018</td><td>5.18843</td></tr><tr><th>9</th><td>Rad</td><td>4.0</td><td>24.0</td></tr><tr><th>10</th><td>Tax</td><td>279.0</td><td>666.0</td></tr><tr><th>11</th><td>PTRatio</td><td>17.4</td><td>20.2</td></tr><tr><th>12</th><td>Black</td><td>375.377</td><td>396.225</td></tr><tr><th>13</th><td>LStat</td><td>6.95</td><td>16.955</td></tr><tr><th>14</th><td>MedV</td><td>17.025</td><td>25.0</td></tr></tbody></table></div>"
      ],
      "text/latex": [
       "\\begin{tabular}{r|ccc}\n",
       "\t& variable & q25 & q75\\\\\n",
       "\t\\hline\n",
       "\t& Symbol & Float64 & Float64\\\\\n",
       "\t\\hline\n",
       "\t1 & Crim & 0.082045 & 3.67708 \\\\\n",
       "\t2 & Zn & 0.0 & 12.5 \\\\\n",
       "\t3 & Indus & 5.19 & 18.1 \\\\\n",
       "\t4 & Chas & 0.0 & 0.0 \\\\\n",
       "\t5 & NOx & 0.449 & 0.624 \\\\\n",
       "\t6 & Rm & 5.8855 & 6.6235 \\\\\n",
       "\t7 & Age & 45.025 & 94.075 \\\\\n",
       "\t8 & Dis & 2.10018 & 5.18843 \\\\\n",
       "\t9 & Rad & 4.0 & 24.0 \\\\\n",
       "\t10 & Tax & 279.0 & 666.0 \\\\\n",
       "\t11 & PTRatio & 17.4 & 20.2 \\\\\n",
       "\t12 & Black & 375.377 & 396.225 \\\\\n",
       "\t13 & LStat & 6.95 & 16.955 \\\\\n",
       "\t14 & MedV & 17.025 & 25.0 \\\\\n",
       "\\end{tabular}\n"
      ],
      "text/plain": [
       "\u001b[1m14×3 DataFrame\u001b[0m\n",
       "\u001b[1m Row \u001b[0m│\u001b[1m variable \u001b[0m\u001b[1m q25        \u001b[0m\u001b[1m q75       \u001b[0m\n",
       "\u001b[1m     \u001b[0m│\u001b[90m Symbol   \u001b[0m\u001b[90m Float64    \u001b[0m\u001b[90m Float64   \u001b[0m\n",
       "─────┼─────────────────────────────────\n",
       "   1 │ Crim        0.082045    3.67708\n",
       "   2 │ Zn          0.0        12.5\n",
       "   3 │ Indus       5.19       18.1\n",
       "   4 │ Chas        0.0         0.0\n",
       "   5 │ NOx         0.449       0.624\n",
       "   6 │ Rm          5.8855      6.6235\n",
       "   7 │ Age        45.025      94.075\n",
       "   8 │ Dis         2.10018     5.18843\n",
       "   9 │ Rad         4.0        24.0\n",
       "  10 │ Tax       279.0       666.0\n",
       "  11 │ PTRatio    17.4        20.2\n",
       "  12 │ Black     375.377     396.225\n",
       "  13 │ LStat       6.95       16.955\n",
       "  14 │ MedV       17.025      25.0"
      ]
     },
     "execution_count": 18,
     "metadata": {},
     "output_type": "execute_result"
    }
   ],
   "source": [
    "describe(boston, :q25, :q75)"
   ]
  },
  {
   "cell_type": "markdown",
   "id": "c4894879",
   "metadata": {},
   "source": [
    "You can also pass your custom function with a pair **```name => function```** for instance:"
   ]
  },
  {
   "cell_type": "code",
   "execution_count": 19,
   "id": "cc270562",
   "metadata": {},
   "outputs": [
    {
     "ename": "LoadError",
     "evalue": "UndefVarError: durl not defined",
     "output_type": "error",
     "traceback": [
      "UndefVarError: durl not defined",
      "",
      "Stacktrace:",
      " [1] top-level scope",
      "   @ :0",
      " [2] eval",
      "   @ .\\boot.jl:373 [inlined]",
      " [3] include_string(mapexpr::typeof(REPL.softscope), mod::Module, code::String, filename::String)",
      "   @ Base .\\loading.jl:1196"
     ]
    }
   ],
   "source": [
    "foo(x) = sum(abs.(x)) / length(x)\n",
    "d = describe(boston, :mean, :median, foo => :foo)\n",
    "first(d, 14)\n",
    "durl"
   ]
  },
  {
   "cell_type": "markdown",
   "id": "78578830",
   "metadata": {},
   "source": [
    "The ```describe``` function returns a derived object with one row per feature and one column per required statistic.\n",
    "\n",
    "Further to ```StatsBase```, ```Statistics``` offers a range of useful functions for data analysis."
   ]
  },
  {
   "cell_type": "code",
   "execution_count": 20,
   "id": "d8a49745",
   "metadata": {},
   "outputs": [
    {
     "ename": "LoadError",
     "evalue": "ArgumentError: Package Matr not found in current path:\n- Run `import Pkg; Pkg.add(\"Matr\")` to install the Matr package.\n",
     "output_type": "error",
     "traceback": [
      "ArgumentError: Package Matr not found in current path:\n- Run `import Pkg; Pkg.add(\"Matr\")` to install the Matr package.\n",
      "",
      "Stacktrace:",
      " [1] require(into::Module, mod::Symbol)",
      "   @ Base .\\loading.jl:967",
      " [2] eval",
      "   @ .\\boot.jl:373 [inlined]",
      " [3] include_string(mapexpr::typeof(REPL.softscope), mod::Module, code::String, filename::String)",
      "   @ Base .\\loading.jl:1196"
     ]
    }
   ],
   "source": [
    "using Matr"
   ]
  },
  {
   "cell_type": "markdown",
   "id": "cef8cab9",
   "metadata": {},
   "source": [
    "### Converting the data"
   ]
  },
  {
   "cell_type": "markdown",
   "id": "0d6d8780",
   "metadata": {},
   "source": [
    "If you want to get the content of the dataframe as one big matrix, use ```convert:```"
   ]
  },
  {
   "cell_type": "code",
   "execution_count": 21,
   "id": "0ed6c5fe",
   "metadata": {},
   "outputs": [
    {
     "data": {
      "text/plain": [
       "3×3 Matrix{Float64}:\n",
       " 0.00632  18.0  2.31\n",
       " 0.02731   0.0  7.07\n",
       " 0.02729   0.0  7.07"
      ]
     },
     "execution_count": 21,
     "metadata": {},
     "output_type": "execute_result"
    }
   ],
   "source": [
    "mat = Matrix(boston)\n",
    "mat[1:3, 1:3]"
   ]
  },
  {
   "cell_type": "markdown",
   "id": "8ed209d4",
   "metadata": {},
   "source": [
    "### Adding columns"
   ]
  },
  {
   "cell_type": "markdown",
   "id": "55f812cf",
   "metadata": {},
   "source": [
    "Adding a column to a dataframe is very easy:"
   ]
  },
  {
   "cell_type": "code",
   "execution_count": 22,
   "id": "dad0f472",
   "metadata": {},
   "outputs": [],
   "source": [
    "boston.Crim_x_Zn = boston.Crim .* boston.Zn;"
   ]
  },
  {
   "cell_type": "code",
   "execution_count": 23,
   "id": "643e06cd",
   "metadata": {},
   "outputs": [
    {
     "data": {
      "text/html": [
       "<div class=\"data-frame\"><p>3 rows × 6 columns</p><table class=\"data-frame\"><thead><tr><th></th><th>Tax</th><th>PTRatio</th><th>Black</th><th>LStat</th><th>MedV</th><th>Crim_x_Zn</th></tr><tr><th></th><th title=\"Int64\">Int64</th><th title=\"Float64\">Float64</th><th title=\"Float64\">Float64</th><th title=\"Float64\">Float64</th><th title=\"Float64\">Float64</th><th title=\"Float64\">Float64</th></tr></thead><tbody><tr><th>1</th><td>296</td><td>15.3</td><td>396.9</td><td>4.98</td><td>24.0</td><td>0.11376</td></tr><tr><th>2</th><td>242</td><td>17.8</td><td>396.9</td><td>9.14</td><td>21.6</td><td>0.0</td></tr><tr><th>3</th><td>242</td><td>17.8</td><td>392.83</td><td>4.03</td><td>34.7</td><td>0.0</td></tr></tbody></table></div>"
      ],
      "text/latex": [
       "\\begin{tabular}{r|cccccc}\n",
       "\t& Tax & PTRatio & Black & LStat & MedV & Crim\\_x\\_Zn\\\\\n",
       "\t\\hline\n",
       "\t& Int64 & Float64 & Float64 & Float64 & Float64 & Float64\\\\\n",
       "\t\\hline\n",
       "\t1 & 296 & 15.3 & 396.9 & 4.98 & 24.0 & 0.11376 \\\\\n",
       "\t2 & 242 & 17.8 & 396.9 & 9.14 & 21.6 & 0.0 \\\\\n",
       "\t3 & 242 & 17.8 & 392.83 & 4.03 & 34.7 & 0.0 \\\\\n",
       "\\end{tabular}\n"
      ],
      "text/plain": [
       "\u001b[1m3×6 DataFrame\u001b[0m\n",
       "\u001b[1m Row \u001b[0m│\u001b[1m Tax   \u001b[0m\u001b[1m PTRatio \u001b[0m\u001b[1m Black   \u001b[0m\u001b[1m LStat   \u001b[0m\u001b[1m MedV    \u001b[0m\u001b[1m Crim_x_Zn \u001b[0m\n",
       "\u001b[1m     \u001b[0m│\u001b[90m Int64 \u001b[0m\u001b[90m Float64 \u001b[0m\u001b[90m Float64 \u001b[0m\u001b[90m Float64 \u001b[0m\u001b[90m Float64 \u001b[0m\u001b[90m Float64   \u001b[0m\n",
       "─────┼──────────────────────────────────────────────────────\n",
       "   1 │   296     15.3   396.9      4.98     24.0    0.11376\n",
       "   2 │   242     17.8   396.9      9.14     21.6    0.0\n",
       "   3 │   242     17.8   392.83     4.03     34.7    0.0"
      ]
     },
     "execution_count": 23,
     "metadata": {},
     "output_type": "execute_result"
    }
   ],
   "source": [
    "boston[1:3, 10:15]"
   ]
  },
  {
   "cell_type": "markdown",
   "id": "b0ef5b52",
   "metadata": {},
   "source": [
    "that's it! Remember also that you can drop columns or make subselections with ```select``` and ```select!```."
   ]
  },
  {
   "cell_type": "markdown",
   "id": "2d7da117",
   "metadata": {},
   "source": [
    "### Missing values"
   ]
  },
  {
   "cell_type": "markdown",
   "id": "31e7df37",
   "metadata": {},
   "source": [
    "Let's load a dataset with missing values"
   ]
  },
  {
   "cell_type": "code",
   "execution_count": 24,
   "id": "ad47b8f2",
   "metadata": {},
   "outputs": [
    {
     "data": {
      "text/html": [
       "<div class=\"data-frame\"><p>6 rows × 19 columns (omitted printing of 9 columns)</p><table class=\"data-frame\"><thead><tr><th></th><th>ID</th><th>Type</th><th>Gender</th><th>Age</th><th>AAO</th><th>AAD</th><th>UPDRS</th><th>MAOAI2</th><th>AI2Code</th><th>MAOBI2</th></tr><tr><th></th><th title=\"InlineStrings.String15\">String15</th><th title=\"Int64\">Int64</th><th title=\"Int64\">Int64</th><th title=\"Union{Missing, Int64}\">Int64?</th><th title=\"Union{Missing, Int64}\">Int64?</th><th title=\"Union{Missing, Int64}\">Int64?</th><th title=\"Union{Missing, Int64}\">Int64?</th><th title=\"InlineStrings.String7\">String7</th><th title=\"InlineStrings.String7\">String7</th><th title=\"InlineStrings.String7\">String7</th></tr></thead><tbody><tr><th>1</th><td>2341.00</td><td>0</td><td>0</td><td>69</td><td><em>missing</em></td><td><em>missing</em></td><td><em>missing</em></td><td>116</td><td>7</td><td>179</td></tr><tr><th>2</th><td>2342.00</td><td>0</td><td>0</td><td><em>missing</em></td><td><em>missing</em></td><td><em>missing</em></td><td><em>missing</em></td><td>122</td><td>10</td><td>179</td></tr><tr><th>3</th><td>2343.00</td><td>0</td><td>0</td><td><em>missing</em></td><td><em>missing</em></td><td><em>missing</em></td><td><em>missing</em></td><td>112</td><td>5</td><td>175</td></tr><tr><th>4</th><td>2344.00</td><td>0</td><td>0</td><td><em>missing</em></td><td><em>missing</em></td><td><em>missing</em></td><td><em>missing</em></td><td>114</td><td>6</td><td>179</td></tr><tr><th>5</th><td>2345.00</td><td>0</td><td>1</td><td><em>missing</em></td><td><em>missing</em></td><td><em>missing</em></td><td><em>missing</em></td><td>112/112</td><td>5/5</td><td>181/181</td></tr><tr><th>6</th><td>2346.00</td><td>0</td><td>1</td><td><em>missing</em></td><td><em>missing</em></td><td><em>missing</em></td><td><em>missing</em></td><td>112/114</td><td>5/6</td><td>181/181</td></tr></tbody></table></div>"
      ],
      "text/latex": [
       "\\begin{tabular}{r|ccccccccccc}\n",
       "\t& ID & Type & Gender & Age & AAO & AAD & UPDRS & MAOAI2 & AI2Code & MAOBI2 & \\\\\n",
       "\t\\hline\n",
       "\t& String15 & Int64 & Int64 & Int64? & Int64? & Int64? & Int64? & String7 & String7 & String7 & \\\\\n",
       "\t\\hline\n",
       "\t1 & 2341.00 & 0 & 0 & 69 & \\emph{missing} & \\emph{missing} & \\emph{missing} & 116 & 7 & 179 & $\\dots$ \\\\\n",
       "\t2 & 2342.00 & 0 & 0 & \\emph{missing} & \\emph{missing} & \\emph{missing} & \\emph{missing} & 122 & 10 & 179 & $\\dots$ \\\\\n",
       "\t3 & 2343.00 & 0 & 0 & \\emph{missing} & \\emph{missing} & \\emph{missing} & \\emph{missing} & 112 & 5 & 175 & $\\dots$ \\\\\n",
       "\t4 & 2344.00 & 0 & 0 & \\emph{missing} & \\emph{missing} & \\emph{missing} & \\emph{missing} & 114 & 6 & 179 & $\\dots$ \\\\\n",
       "\t5 & 2345.00 & 0 & 1 & \\emph{missing} & \\emph{missing} & \\emph{missing} & \\emph{missing} & 112/112 & 5/5 & 181/181 & $\\dots$ \\\\\n",
       "\t6 & 2346.00 & 0 & 1 & \\emph{missing} & \\emph{missing} & \\emph{missing} & \\emph{missing} & 112/114 & 5/6 & 181/181 & $\\dots$ \\\\\n",
       "\\end{tabular}\n"
      ],
      "text/plain": [
       "\u001b[1m6×19 DataFrame\u001b[0m\n",
       "\u001b[1m Row \u001b[0m│\u001b[1m ID       \u001b[0m\u001b[1m Type  \u001b[0m\u001b[1m Gender \u001b[0m\u001b[1m Age     \u001b[0m\u001b[1m AAO     \u001b[0m\u001b[1m AAD     \u001b[0m\u001b[1m UPDRS   \u001b[0m\u001b[1m MAOAI2  \u001b[0m\u001b[1m A\u001b[0m ⋯\n",
       "\u001b[1m     \u001b[0m│\u001b[90m String15 \u001b[0m\u001b[90m Int64 \u001b[0m\u001b[90m Int64  \u001b[0m\u001b[90m Int64?  \u001b[0m\u001b[90m Int64?  \u001b[0m\u001b[90m Int64?  \u001b[0m\u001b[90m Int64?  \u001b[0m\u001b[90m String7 \u001b[0m\u001b[90m S\u001b[0m ⋯\n",
       "─────┼──────────────────────────────────────────────────────────────────────────\n",
       "   1 │ 2341.00       0       0       69 \u001b[90m missing \u001b[0m\u001b[90m missing \u001b[0m\u001b[90m missing \u001b[0m 116      7 ⋯\n",
       "   2 │ 2342.00       0       0 \u001b[90m missing \u001b[0m\u001b[90m missing \u001b[0m\u001b[90m missing \u001b[0m\u001b[90m missing \u001b[0m 122      1\n",
       "   3 │ 2343.00       0       0 \u001b[90m missing \u001b[0m\u001b[90m missing \u001b[0m\u001b[90m missing \u001b[0m\u001b[90m missing \u001b[0m 112      5\n",
       "   4 │ 2344.00       0       0 \u001b[90m missing \u001b[0m\u001b[90m missing \u001b[0m\u001b[90m missing \u001b[0m\u001b[90m missing \u001b[0m 114      6\n",
       "   5 │ 2345.00       0       1 \u001b[90m missing \u001b[0m\u001b[90m missing \u001b[0m\u001b[90m missing \u001b[0m\u001b[90m missing \u001b[0m 112/112  5 ⋯\n",
       "   6 │ 2346.00       0       1 \u001b[90m missing \u001b[0m\u001b[90m missing \u001b[0m\u001b[90m missing \u001b[0m\u001b[90m missing \u001b[0m 112/114  5\n",
       "\u001b[36m                                                              11 columns omitted\u001b[0m"
      ]
     },
     "execution_count": 24,
     "metadata": {},
     "output_type": "execute_result"
    }
   ],
   "source": [
    "mao = dataset(\"gap\", \"mao\");\n",
    "first(mao, 6)"
   ]
  },
  {
   "cell_type": "code",
   "execution_count": 25,
   "id": "b34600b5",
   "metadata": {},
   "outputs": [
    {
     "data": {
      "text/html": [
       "<div class=\"data-frame\"><p>19 rows × 2 columns</p><table class=\"data-frame\"><thead><tr><th></th><th>variable</th><th>nmissing</th></tr><tr><th></th><th title=\"Symbol\">Symbol</th><th title=\"Int64\">Int64</th></tr></thead><tbody><tr><th>1</th><td>ID</td><td>0</td></tr><tr><th>2</th><td>Type</td><td>0</td></tr><tr><th>3</th><td>Gender</td><td>0</td></tr><tr><th>4</th><td>Age</td><td>188</td></tr><tr><th>5</th><td>AAO</td><td>296</td></tr><tr><th>6</th><td>AAD</td><td>295</td></tr><tr><th>7</th><td>UPDRS</td><td>301</td></tr><tr><th>8</th><td>MAOAI2</td><td>0</td></tr><tr><th>9</th><td>AI2Code</td><td>0</td></tr><tr><th>10</th><td>MAOBI2</td><td>0</td></tr><tr><th>11</th><td>BI2Code</td><td>0</td></tr><tr><th>12</th><td>GTBEX3</td><td>0</td></tr><tr><th>13</th><td>BEX3Code</td><td>0</td></tr><tr><th>14</th><td>MAOAVNTR</td><td>46</td></tr><tr><th>15</th><td>VNTRCode</td><td>46</td></tr><tr><th>16</th><td>VNTRCod2</td><td>46</td></tr><tr><th>17</th><td>MAOA31</td><td>36</td></tr><tr><th>18</th><td>MAO31COD</td><td>36</td></tr><tr><th>19</th><td>MAO31CO2</td><td>36</td></tr></tbody></table></div>"
      ],
      "text/latex": [
       "\\begin{tabular}{r|cc}\n",
       "\t& variable & nmissing\\\\\n",
       "\t\\hline\n",
       "\t& Symbol & Int64\\\\\n",
       "\t\\hline\n",
       "\t1 & ID & 0 \\\\\n",
       "\t2 & Type & 0 \\\\\n",
       "\t3 & Gender & 0 \\\\\n",
       "\t4 & Age & 188 \\\\\n",
       "\t5 & AAO & 296 \\\\\n",
       "\t6 & AAD & 295 \\\\\n",
       "\t7 & UPDRS & 301 \\\\\n",
       "\t8 & MAOAI2 & 0 \\\\\n",
       "\t9 & AI2Code & 0 \\\\\n",
       "\t10 & MAOBI2 & 0 \\\\\n",
       "\t11 & BI2Code & 0 \\\\\n",
       "\t12 & GTBEX3 & 0 \\\\\n",
       "\t13 & BEX3Code & 0 \\\\\n",
       "\t14 & MAOAVNTR & 46 \\\\\n",
       "\t15 & VNTRCode & 46 \\\\\n",
       "\t16 & VNTRCod2 & 46 \\\\\n",
       "\t17 & MAOA31 & 36 \\\\\n",
       "\t18 & MAO31COD & 36 \\\\\n",
       "\t19 & MAO31CO2 & 36 \\\\\n",
       "\\end{tabular}\n"
      ],
      "text/plain": [
       "\u001b[1m19×2 DataFrame\u001b[0m\n",
       "\u001b[1m Row \u001b[0m│\u001b[1m variable \u001b[0m\u001b[1m nmissing \u001b[0m\n",
       "\u001b[1m     \u001b[0m│\u001b[90m Symbol   \u001b[0m\u001b[90m Int64    \u001b[0m\n",
       "─────┼────────────────────\n",
       "   1 │ ID               0\n",
       "   2 │ Type             0\n",
       "   3 │ Gender           0\n",
       "   4 │ Age            188\n",
       "   5 │ AAO            296\n",
       "   6 │ AAD            295\n",
       "   7 │ UPDRS          301\n",
       "   8 │ MAOAI2           0\n",
       "   9 │ AI2Code          0\n",
       "  10 │ MAOBI2           0\n",
       "  11 │ BI2Code          0\n",
       "  12 │ GTBEX3           0\n",
       "  13 │ BEX3Code         0\n",
       "  14 │ MAOAVNTR        46\n",
       "  15 │ VNTRCode        46\n",
       "  16 │ VNTRCod2        46\n",
       "  17 │ MAOA31          36\n",
       "  18 │ MAO31COD        36\n",
       "  19 │ MAO31CO2        36"
      ]
     },
     "execution_count": 25,
     "metadata": {},
     "output_type": "execute_result"
    }
   ],
   "source": [
    "describe(mao, :nmissing)"
   ]
  },
  {
   "cell_type": "markdown",
   "id": "ee36327b",
   "metadata": {},
   "source": [
    "akisLots of missing values... If you wanted to compute simple functions on columns, they may just return ```missing```:"
   ]
  },
  {
   "cell_type": "code",
   "execution_count": 26,
   "id": "b51f1cb3",
   "metadata": {},
   "outputs": [
    {
     "data": {
      "text/plain": [
       "missing"
      ]
     },
     "execution_count": 26,
     "metadata": {},
     "output_type": "execute_result"
    }
   ],
   "source": [
    "std(mao.Age)"
   ]
  },
  {
   "cell_type": "markdown",
   "id": "38a06f71",
   "metadata": {},
   "source": [
    "The ```skipmissing``` function can help counter this easily:"
   ]
  },
  {
   "cell_type": "code",
   "execution_count": 27,
   "id": "0b7b4ce7",
   "metadata": {},
   "outputs": [
    {
     "data": {
      "text/plain": [
       "11.551715894987558"
      ]
     },
     "execution_count": 27,
     "metadata": {},
     "output_type": "execute_result"
    }
   ],
   "source": [
    "std(skipmissing(mao.Age))"
   ]
  },
  {
   "cell_type": "markdown",
   "id": "733d1eca",
   "metadata": {},
   "source": [
    "### Split-Apply-Combine"
   ]
  },
  {
   "cell_type": "markdown",
   "id": "22f78650",
   "metadata": {},
   "source": [
    "This is a shorter version of the DataFrames.jl tutorial.\n",
    "\n",
    "> **(tutorial)** https://dataframes.juliadata.org/latest/man/split_apply_combine/"
   ]
  },
  {
   "cell_type": "code",
   "execution_count": 28,
   "id": "a8b69934",
   "metadata": {
    "scrolled": true
   },
   "outputs": [
    {
     "data": {
      "text/html": [
       "<div class=\"data-frame\"><p>3 rows × 5 columns</p><table class=\"data-frame\"><thead><tr><th></th><th>SepalLength</th><th>SepalWidth</th><th>PetalLength</th><th>PetalWidth</th><th>Species</th></tr><tr><th></th><th title=\"Float64\">Float64</th><th title=\"Float64\">Float64</th><th title=\"Float64\">Float64</th><th title=\"Float64\">Float64</th><th title=\"CategoricalArrays.CategoricalValue{String, UInt8}\">Cat…</th></tr></thead><tbody><tr><th>1</th><td>5.1</td><td>3.5</td><td>1.4</td><td>0.2</td><td>setosa</td></tr><tr><th>2</th><td>4.9</td><td>3.0</td><td>1.4</td><td>0.2</td><td>setosa</td></tr><tr><th>3</th><td>4.7</td><td>3.2</td><td>1.3</td><td>0.2</td><td>setosa</td></tr></tbody></table></div>"
      ],
      "text/latex": [
       "\\begin{tabular}{r|ccccc}\n",
       "\t& SepalLength & SepalWidth & PetalLength & PetalWidth & Species\\\\\n",
       "\t\\hline\n",
       "\t& Float64 & Float64 & Float64 & Float64 & Cat…\\\\\n",
       "\t\\hline\n",
       "\t1 & 5.1 & 3.5 & 1.4 & 0.2 & setosa \\\\\n",
       "\t2 & 4.9 & 3.0 & 1.4 & 0.2 & setosa \\\\\n",
       "\t3 & 4.7 & 3.2 & 1.3 & 0.2 & setosa \\\\\n",
       "\\end{tabular}\n"
      ],
      "text/plain": [
       "\u001b[1m3×5 DataFrame\u001b[0m\n",
       "\u001b[1m Row \u001b[0m│\u001b[1m SepalLength \u001b[0m\u001b[1m SepalWidth \u001b[0m\u001b[1m PetalLength \u001b[0m\u001b[1m PetalWidth \u001b[0m\u001b[1m Species \u001b[0m\n",
       "\u001b[1m     \u001b[0m│\u001b[90m Float64     \u001b[0m\u001b[90m Float64    \u001b[0m\u001b[90m Float64     \u001b[0m\u001b[90m Float64    \u001b[0m\u001b[90m Cat…    \u001b[0m\n",
       "─────┼───────────────────────────────────────────────────────────\n",
       "   1 │         5.1         3.5          1.4         0.2  setosa\n",
       "   2 │         4.9         3.0          1.4         0.2  setosa\n",
       "   3 │         4.7         3.2          1.3         0.2  setosa"
      ]
     },
     "execution_count": 28,
     "metadata": {},
     "output_type": "execute_result"
    }
   ],
   "source": [
    "iris = dataset(\"datasets\", \"iris\")\n",
    "first(iris, 3)"
   ]
  },
  {
   "cell_type": "markdown",
   "id": "674e3c03",
   "metadata": {},
   "source": [
    "#### groupby"
   ]
  },
  {
   "cell_type": "markdown",
   "id": "aa8d8c3b",
   "metadata": {},
   "source": [
    "The ```groupby``` function allows to form \"sub-dataframes\" corresponding to groups of rows. This can be very convenient to run specific analyses for specific groups without copying the data.\n",
    "\n",
    "The basic usage is ```groupby(df, cols)``` where ```cols``` specifies one or several columns to use for the grouping.\n",
    "\n",
    "Consider a simple example: in ```iris``` there is a ```Species``` column with 3 species:"
   ]
  },
  {
   "cell_type": "code",
   "execution_count": 29,
   "id": "f3ee857c",
   "metadata": {},
   "outputs": [
    {
     "data": {
      "text/plain": [
       "3-element Vector{String}:\n",
       " \"setosa\"\n",
       " \"versicolor\"\n",
       " \"virginica\""
      ]
     },
     "execution_count": 29,
     "metadata": {},
     "output_type": "execute_result"
    }
   ],
   "source": [
    "unique(iris.Species)"
   ]
  },
  {
   "cell_type": "markdown",
   "id": "4c034c40",
   "metadata": {},
   "source": [
    "We can form views for each of these:"
   ]
  },
  {
   "cell_type": "code",
   "execution_count": 30,
   "id": "03e01044",
   "metadata": {},
   "outputs": [],
   "source": [
    "gdf = groupby(iris, :Species);"
   ]
  },
  {
   "cell_type": "markdown",
   "id": "0af5638d",
   "metadata": {},
   "source": [
    "The ```gdf``` object now corresponds to **views** of the original dataframe for each of the 3 species; the first species is ```\"setosa\"``` with:"
   ]
  },
  {
   "cell_type": "code",
   "execution_count": 31,
   "id": "c684eaaa",
   "metadata": {},
   "outputs": [
    {
     "data": {
      "text/html": [
       "<div class=\"data-frame\"><p>5 rows × 4 columns</p><table class=\"data-frame\"><thead><tr><th></th><th>variable</th><th>min</th><th>mean</th><th>max</th></tr><tr><th></th><th title=\"Symbol\">Symbol</th><th title=\"Any\">Any</th><th title=\"Union{Nothing, Float64}\">Union…</th><th title=\"Any\">Any</th></tr></thead><tbody><tr><th>1</th><td>SepalLength</td><td>4.3</td><td>5.006</td><td>5.8</td></tr><tr><th>2</th><td>SepalWidth</td><td>2.3</td><td>3.428</td><td>4.4</td></tr><tr><th>3</th><td>PetalLength</td><td>1.0</td><td>1.462</td><td>1.9</td></tr><tr><th>4</th><td>PetalWidth</td><td>0.1</td><td>0.246</td><td>0.6</td></tr><tr><th>5</th><td>Species</td><td>setosa</td><td></td><td>setosa</td></tr></tbody></table></div>"
      ],
      "text/latex": [
       "\\begin{tabular}{r|cccc}\n",
       "\t& variable & min & mean & max\\\\\n",
       "\t\\hline\n",
       "\t& Symbol & Any & Union… & Any\\\\\n",
       "\t\\hline\n",
       "\t1 & SepalLength & 4.3 & 5.006 & 5.8 \\\\\n",
       "\t2 & SepalWidth & 2.3 & 3.428 & 4.4 \\\\\n",
       "\t3 & PetalLength & 1.0 & 1.462 & 1.9 \\\\\n",
       "\t4 & PetalWidth & 0.1 & 0.246 & 0.6 \\\\\n",
       "\t5 & Species & setosa &  & setosa \\\\\n",
       "\\end{tabular}\n"
      ],
      "text/plain": [
       "\u001b[1m5×4 DataFrame\u001b[0m\n",
       "\u001b[1m Row \u001b[0m│\u001b[1m variable    \u001b[0m\u001b[1m min    \u001b[0m\u001b[1m mean   \u001b[0m\u001b[1m max    \u001b[0m\n",
       "\u001b[1m     \u001b[0m│\u001b[90m Symbol      \u001b[0m\u001b[90m Any    \u001b[0m\u001b[90m Union… \u001b[0m\u001b[90m Any    \u001b[0m\n",
       "─────┼─────────────────────────────────────\n",
       "   1 │ SepalLength  4.3     5.006   5.8\n",
       "   2 │ SepalWidth   2.3     3.428   4.4\n",
       "   3 │ PetalLength  1.0     1.462   1.9\n",
       "   4 │ PetalWidth   0.1     0.246   0.6\n",
       "   5 │ Species      setosa \u001b[90m        \u001b[0m setosa"
      ]
     },
     "execution_count": 31,
     "metadata": {},
     "output_type": "execute_result"
    }
   ],
   "source": [
    "subdf_setosa = gdf[1]\n",
    "describe(subdf_setosa, :min, :mean, :max)"
   ]
  },
  {
   "cell_type": "code",
   "execution_count": 32,
   "id": "7506294f",
   "metadata": {},
   "outputs": [
    {
     "data": {
      "text/html": [
       "<div class=\"data-frame\"><p>5 rows × 4 columns</p><table class=\"data-frame\"><thead><tr><th></th><th>variable</th><th>min</th><th>mean</th><th>max</th></tr><tr><th></th><th title=\"Symbol\">Symbol</th><th title=\"Any\">Any</th><th title=\"Union{Nothing, Float64}\">Union…</th><th title=\"Any\">Any</th></tr></thead><tbody><tr><th>1</th><td>SepalLength</td><td>4.3</td><td>5.006</td><td>5.8</td></tr><tr><th>2</th><td>SepalWidth</td><td>2.3</td><td>3.428</td><td>4.4</td></tr><tr><th>3</th><td>PetalLength</td><td>1.0</td><td>1.462</td><td>1.9</td></tr><tr><th>4</th><td>PetalWidth</td><td>0.1</td><td>0.246</td><td>0.6</td></tr><tr><th>5</th><td>Species</td><td>setosa</td><td></td><td>setosa</td></tr></tbody></table></div>"
      ],
      "text/latex": [
       "\\begin{tabular}{r|cccc}\n",
       "\t& variable & min & mean & max\\\\\n",
       "\t\\hline\n",
       "\t& Symbol & Any & Union… & Any\\\\\n",
       "\t\\hline\n",
       "\t1 & SepalLength & 4.3 & 5.006 & 5.8 \\\\\n",
       "\t2 & SepalWidth & 2.3 & 3.428 & 4.4 \\\\\n",
       "\t3 & PetalLength & 1.0 & 1.462 & 1.9 \\\\\n",
       "\t4 & PetalWidth & 0.1 & 0.246 & 0.6 \\\\\n",
       "\t5 & Species & setosa &  & setosa \\\\\n",
       "\\end{tabular}\n"
      ],
      "text/plain": [
       "\u001b[1m5×4 DataFrame\u001b[0m\n",
       "\u001b[1m Row \u001b[0m│\u001b[1m variable    \u001b[0m\u001b[1m min    \u001b[0m\u001b[1m mean   \u001b[0m\u001b[1m max    \u001b[0m\n",
       "\u001b[1m     \u001b[0m│\u001b[90m Symbol      \u001b[0m\u001b[90m Any    \u001b[0m\u001b[90m Union… \u001b[0m\u001b[90m Any    \u001b[0m\n",
       "─────┼─────────────────────────────────────\n",
       "   1 │ SepalLength  4.3     5.006   5.8\n",
       "   2 │ SepalWidth   2.3     3.428   4.4\n",
       "   3 │ PetalLength  1.0     1.462   1.9\n",
       "   4 │ PetalWidth   0.1     0.246   0.6\n",
       "   5 │ Species      setosa \u001b[90m        \u001b[0m setosa"
      ]
     },
     "execution_count": 32,
     "metadata": {},
     "output_type": "execute_result"
    }
   ],
   "source": [
    "describe(gdf[1], :min, :mean, :max)"
   ]
  },
  {
   "cell_type": "code",
   "execution_count": 33,
   "id": "59ebebeb",
   "metadata": {},
   "outputs": [
    {
     "data": {
      "text/html": [
       "<div class=\"data-frame\"><p>5 rows × 4 columns</p><table class=\"data-frame\"><thead><tr><th></th><th>variable</th><th>min</th><th>mean</th><th>max</th></tr><tr><th></th><th title=\"Symbol\">Symbol</th><th title=\"Any\">Any</th><th title=\"Union{Nothing, Float64}\">Union…</th><th title=\"Any\">Any</th></tr></thead><tbody><tr><th>1</th><td>SepalLength</td><td>4.9</td><td>5.936</td><td>7.0</td></tr><tr><th>2</th><td>SepalWidth</td><td>2.0</td><td>2.77</td><td>3.4</td></tr><tr><th>3</th><td>PetalLength</td><td>3.0</td><td>4.26</td><td>5.1</td></tr><tr><th>4</th><td>PetalWidth</td><td>1.0</td><td>1.326</td><td>1.8</td></tr><tr><th>5</th><td>Species</td><td>versicolor</td><td></td><td>versicolor</td></tr></tbody></table></div>"
      ],
      "text/latex": [
       "\\begin{tabular}{r|cccc}\n",
       "\t& variable & min & mean & max\\\\\n",
       "\t\\hline\n",
       "\t& Symbol & Any & Union… & Any\\\\\n",
       "\t\\hline\n",
       "\t1 & SepalLength & 4.9 & 5.936 & 7.0 \\\\\n",
       "\t2 & SepalWidth & 2.0 & 2.77 & 3.4 \\\\\n",
       "\t3 & PetalLength & 3.0 & 4.26 & 5.1 \\\\\n",
       "\t4 & PetalWidth & 1.0 & 1.326 & 1.8 \\\\\n",
       "\t5 & Species & versicolor &  & versicolor \\\\\n",
       "\\end{tabular}\n"
      ],
      "text/plain": [
       "\u001b[1m5×4 DataFrame\u001b[0m\n",
       "\u001b[1m Row \u001b[0m│\u001b[1m variable    \u001b[0m\u001b[1m min        \u001b[0m\u001b[1m mean   \u001b[0m\u001b[1m max        \u001b[0m\n",
       "\u001b[1m     \u001b[0m│\u001b[90m Symbol      \u001b[0m\u001b[90m Any        \u001b[0m\u001b[90m Union… \u001b[0m\u001b[90m Any        \u001b[0m\n",
       "─────┼─────────────────────────────────────────────\n",
       "   1 │ SepalLength  4.9         5.936   7.0\n",
       "   2 │ SepalWidth   2.0         2.77    3.4\n",
       "   3 │ PetalLength  3.0         4.26    5.1\n",
       "   4 │ PetalWidth   1.0         1.326   1.8\n",
       "   5 │ Species      versicolor \u001b[90m        \u001b[0m versicolor"
      ]
     },
     "execution_count": 33,
     "metadata": {},
     "output_type": "execute_result"
    }
   ],
   "source": [
    "describe(gdf[2], :min, :mean, :max)"
   ]
  },
  {
   "cell_type": "code",
   "execution_count": 34,
   "id": "43486dc0",
   "metadata": {},
   "outputs": [
    {
     "data": {
      "text/html": [
       "<div class=\"data-frame\"><p>5 rows × 4 columns</p><table class=\"data-frame\"><thead><tr><th></th><th>variable</th><th>min</th><th>mean</th><th>max</th></tr><tr><th></th><th title=\"Symbol\">Symbol</th><th title=\"Any\">Any</th><th title=\"Union{Nothing, Float64}\">Union…</th><th title=\"Any\">Any</th></tr></thead><tbody><tr><th>1</th><td>SepalLength</td><td>4.9</td><td>6.588</td><td>7.9</td></tr><tr><th>2</th><td>SepalWidth</td><td>2.2</td><td>2.974</td><td>3.8</td></tr><tr><th>3</th><td>PetalLength</td><td>4.5</td><td>5.552</td><td>6.9</td></tr><tr><th>4</th><td>PetalWidth</td><td>1.4</td><td>2.026</td><td>2.5</td></tr><tr><th>5</th><td>Species</td><td>virginica</td><td></td><td>virginica</td></tr></tbody></table></div>"
      ],
      "text/latex": [
       "\\begin{tabular}{r|cccc}\n",
       "\t& variable & min & mean & max\\\\\n",
       "\t\\hline\n",
       "\t& Symbol & Any & Union… & Any\\\\\n",
       "\t\\hline\n",
       "\t1 & SepalLength & 4.9 & 6.588 & 7.9 \\\\\n",
       "\t2 & SepalWidth & 2.2 & 2.974 & 3.8 \\\\\n",
       "\t3 & PetalLength & 4.5 & 5.552 & 6.9 \\\\\n",
       "\t4 & PetalWidth & 1.4 & 2.026 & 2.5 \\\\\n",
       "\t5 & Species & virginica &  & virginica \\\\\n",
       "\\end{tabular}\n"
      ],
      "text/plain": [
       "\u001b[1m5×4 DataFrame\u001b[0m\n",
       "\u001b[1m Row \u001b[0m│\u001b[1m variable    \u001b[0m\u001b[1m min       \u001b[0m\u001b[1m mean   \u001b[0m\u001b[1m max       \u001b[0m\n",
       "\u001b[1m     \u001b[0m│\u001b[90m Symbol      \u001b[0m\u001b[90m Any       \u001b[0m\u001b[90m Union… \u001b[0m\u001b[90m Any       \u001b[0m\n",
       "─────┼───────────────────────────────────────────\n",
       "   1 │ SepalLength  4.9        6.588   7.9\n",
       "   2 │ SepalWidth   2.2        2.974   3.8\n",
       "   3 │ PetalLength  4.5        5.552   6.9\n",
       "   4 │ PetalWidth   1.4        2.026   2.5\n",
       "   5 │ Species      virginica \u001b[90m        \u001b[0m virginica"
      ]
     },
     "execution_count": 34,
     "metadata": {},
     "output_type": "execute_result"
    }
   ],
   "source": [
    "describe(gdf[3], :min, :mean, :max)"
   ]
  },
  {
   "cell_type": "markdown",
   "id": "4935a1af",
   "metadata": {},
   "source": [
    "#### Combine"
   ]
  },
  {
   "cell_type": "markdown",
   "id": "8ab344cc",
   "metadata": {},
   "source": [
    "The ```combine``` function allows to derive a new dataframe out of transformations of an existing one. Here's an example taken from the official doc (see ```?combine```):"
   ]
  },
  {
   "cell_type": "code",
   "execution_count": 35,
   "id": "6ca9c756",
   "metadata": {},
   "outputs": [
    {
     "data": {
      "text/html": [
       "<div class=\"data-frame\"><p>1 rows × 2 columns</p><table class=\"data-frame\"><thead><tr><th></th><th>a_sum</th><th>nrow</th></tr><tr><th></th><th title=\"Int64\">Int64</th><th title=\"Int64\">Int64</th></tr></thead><tbody><tr><th>1</th><td>6</td><td>3</td></tr></tbody></table></div>"
      ],
      "text/latex": [
       "\\begin{tabular}{r|cc}\n",
       "\t& a\\_sum & nrow\\\\\n",
       "\t\\hline\n",
       "\t& Int64 & Int64\\\\\n",
       "\t\\hline\n",
       "\t1 & 6 & 3 \\\\\n",
       "\\end{tabular}\n"
      ],
      "text/plain": [
       "\u001b[1m1×2 DataFrame\u001b[0m\n",
       "\u001b[1m Row \u001b[0m│\u001b[1m a_sum \u001b[0m\u001b[1m nrow  \u001b[0m\n",
       "\u001b[1m     \u001b[0m│\u001b[90m Int64 \u001b[0m\u001b[90m Int64 \u001b[0m\n",
       "─────┼──────────────\n",
       "   1 │     6      3"
      ]
     },
     "execution_count": 35,
     "metadata": {},
     "output_type": "execute_result"
    }
   ],
   "source": [
    "df = DataFrame(a=1:3, b=4:6)\n",
    "combine(df, :a => sum, nrow)"
   ]
  },
  {
   "cell_type": "markdown",
   "id": "1a0abc8b",
   "metadata": {},
   "source": [
    "what happened here is that the derived DataFrame has two columns obtained respectively by (1) computing the sum of the first column and (2) applying the ```nrow``` function on the ```df```.\n",
    "\n",
    "The transformation can produce one or several values, ```combine``` will try to concatenate these columns as it can, for instance:"
   ]
  },
  {
   "cell_type": "code",
   "execution_count": 36,
   "id": "887905a0",
   "metadata": {},
   "outputs": [
    {
     "data": {
      "text/html": [
       "<div class=\"data-frame\"><p>2 rows × 2 columns</p><table class=\"data-frame\"><thead><tr><th></th><th>a_maximum</th><th>b_foo</th></tr><tr><th></th><th title=\"Int64\">Int64</th><th title=\"Int64\">Int64</th></tr></thead><tbody><tr><th>1</th><td>3</td><td>4</td></tr><tr><th>2</th><td>3</td><td>5</td></tr></tbody></table></div>"
      ],
      "text/latex": [
       "\\begin{tabular}{r|cc}\n",
       "\t& a\\_maximum & b\\_foo\\\\\n",
       "\t\\hline\n",
       "\t& Int64 & Int64\\\\\n",
       "\t\\hline\n",
       "\t1 & 3 & 4 \\\\\n",
       "\t2 & 3 & 5 \\\\\n",
       "\\end{tabular}\n"
      ],
      "text/plain": [
       "\u001b[1m2×2 DataFrame\u001b[0m\n",
       "\u001b[1m Row \u001b[0m│\u001b[1m a_maximum \u001b[0m\u001b[1m b_foo \u001b[0m\n",
       "\u001b[1m     \u001b[0m│\u001b[90m Int64     \u001b[0m\u001b[90m Int64 \u001b[0m\n",
       "─────┼──────────────────\n",
       "   1 │         3      4\n",
       "   2 │         3      5"
      ]
     },
     "execution_count": 36,
     "metadata": {},
     "output_type": "execute_result"
    }
   ],
   "source": [
    "foo(v) = v[1:2]\n",
    "combine(df, :a => maximum, :b => foo)"
   ]
  },
  {
   "cell_type": "markdown",
   "id": "c89652cc",
   "metadata": {},
   "source": [
    "here the maximum value of ```a``` is copied twice so that the two columns have the same number of rows."
   ]
  },
  {
   "cell_type": "code",
   "execution_count": 37,
   "id": "cede91eb",
   "metadata": {},
   "outputs": [
    {
     "data": {
      "text/html": [
       "<div class=\"data-frame\"><p>2 rows × 2 columns</p><table class=\"data-frame\"><thead><tr><th></th><th>a_foo</th><th>b_bar</th></tr><tr><th></th><th title=\"Int64\">Int64</th><th title=\"Int64\">Int64</th></tr></thead><tbody><tr><th>1</th><td>1</td><td>5</td></tr><tr><th>2</th><td>2</td><td>6</td></tr></tbody></table></div>"
      ],
      "text/latex": [
       "\\begin{tabular}{r|cc}\n",
       "\t& a\\_foo & b\\_bar\\\\\n",
       "\t\\hline\n",
       "\t& Int64 & Int64\\\\\n",
       "\t\\hline\n",
       "\t1 & 1 & 5 \\\\\n",
       "\t2 & 2 & 6 \\\\\n",
       "\\end{tabular}\n"
      ],
      "text/plain": [
       "\u001b[1m2×2 DataFrame\u001b[0m\n",
       "\u001b[1m Row \u001b[0m│\u001b[1m a_foo \u001b[0m\u001b[1m b_bar \u001b[0m\n",
       "\u001b[1m     \u001b[0m│\u001b[90m Int64 \u001b[0m\u001b[90m Int64 \u001b[0m\n",
       "─────┼──────────────\n",
       "   1 │     1      5\n",
       "   2 │     2      6"
      ]
     },
     "execution_count": 37,
     "metadata": {},
     "output_type": "execute_result"
    }
   ],
   "source": [
    "bar(v) = v[end-1:end]\n",
    "combine(df, :a => foo, :b => bar)"
   ]
  },
  {
   "cell_type": "markdown",
   "id": "919991f2",
   "metadata": {},
   "source": [
    "#### Combine with groupby"
   ]
  },
  {
   "cell_type": "markdown",
   "id": "a5d9332c",
   "metadata": {},
   "source": [
    "Combining ```groupby``` with ```combine``` is very useful. For instance you might want to compute statistics across groups for different variables:"
   ]
  },
  {
   "cell_type": "code",
   "execution_count": 38,
   "id": "6c79f4ad",
   "metadata": {},
   "outputs": [
    {
     "data": {
      "text/html": [
       "<div class=\"data-frame\"><p>3 rows × 2 columns</p><table class=\"data-frame\"><thead><tr><th></th><th>Species</th><th>PetalLength_mean</th></tr><tr><th></th><th title=\"CategoricalArrays.CategoricalValue{String, UInt8}\">Cat…</th><th title=\"Float64\">Float64</th></tr></thead><tbody><tr><th>1</th><td>setosa</td><td>1.462</td></tr><tr><th>2</th><td>versicolor</td><td>4.26</td></tr><tr><th>3</th><td>virginica</td><td>5.552</td></tr></tbody></table></div>"
      ],
      "text/latex": [
       "\\begin{tabular}{r|cc}\n",
       "\t& Species & PetalLength\\_mean\\\\\n",
       "\t\\hline\n",
       "\t& Cat… & Float64\\\\\n",
       "\t\\hline\n",
       "\t1 & setosa & 1.462 \\\\\n",
       "\t2 & versicolor & 4.26 \\\\\n",
       "\t3 & virginica & 5.552 \\\\\n",
       "\\end{tabular}\n"
      ],
      "text/plain": [
       "\u001b[1m3×2 DataFrame\u001b[0m\n",
       "\u001b[1m Row \u001b[0m│\u001b[1m Species    \u001b[0m\u001b[1m PetalLength_mean \u001b[0m\n",
       "\u001b[1m     \u001b[0m│\u001b[90m Cat…       \u001b[0m\u001b[90m Float64          \u001b[0m\n",
       "─────┼──────────────────────────────\n",
       "   1 │ setosa                 1.462\n",
       "   2 │ versicolor             4.26\n",
       "   3 │ virginica              5.552"
      ]
     },
     "execution_count": 38,
     "metadata": {},
     "output_type": "execute_result"
    }
   ],
   "source": [
    "combine(groupby(iris, :Species), :PetalLength => mean)"
   ]
  },
  {
   "cell_type": "markdown",
   "id": "a8156beb",
   "metadata": {},
   "source": [
    "let's decompose that:\n",
    "\n",
    "1. the ```groupby(iris, :Species)``` creates groups using the ```:Species``` column (which has values ```setosa```, ```versicolor```, ```virginica```)\n",
    "\n",
    "2. the ```combine``` creates a derived dataframe by applying the ```mean``` function to the ```:PetalLength``` column\n",
    "\n",
    "since there are three groups, we get one column (mean of ```PetalLength```) and three rows (one per group)."
   ]
  },
  {
   "cell_type": "markdown",
   "id": "0d436a01",
   "metadata": {},
   "source": [
    "You can do this for several columns/statistics at the time and give new column names to the results:"
   ]
  },
  {
   "cell_type": "code",
   "execution_count": 39,
   "id": "e8706146",
   "metadata": {},
   "outputs": [
    {
     "data": {
      "text/html": [
       "<div class=\"data-frame\"><p>3 rows × 3 columns</p><table class=\"data-frame\"><thead><tr><th></th><th>Species</th><th>MPL</th><th>SPL</th></tr><tr><th></th><th title=\"CategoricalArrays.CategoricalValue{String, UInt8}\">Cat…</th><th title=\"Float64\">Float64</th><th title=\"Float64\">Float64</th></tr></thead><tbody><tr><th>1</th><td>setosa</td><td>1.462</td><td>0.173664</td></tr><tr><th>2</th><td>versicolor</td><td>4.26</td><td>0.469911</td></tr><tr><th>3</th><td>virginica</td><td>5.552</td><td>0.551895</td></tr></tbody></table></div>"
      ],
      "text/latex": [
       "\\begin{tabular}{r|ccc}\n",
       "\t& Species & MPL & SPL\\\\\n",
       "\t\\hline\n",
       "\t& Cat… & Float64 & Float64\\\\\n",
       "\t\\hline\n",
       "\t1 & setosa & 1.462 & 0.173664 \\\\\n",
       "\t2 & versicolor & 4.26 & 0.469911 \\\\\n",
       "\t3 & virginica & 5.552 & 0.551895 \\\\\n",
       "\\end{tabular}\n"
      ],
      "text/plain": [
       "\u001b[1m3×3 DataFrame\u001b[0m\n",
       "\u001b[1m Row \u001b[0m│\u001b[1m Species    \u001b[0m\u001b[1m MPL     \u001b[0m\u001b[1m SPL      \u001b[0m\n",
       "\u001b[1m     \u001b[0m│\u001b[90m Cat…       \u001b[0m\u001b[90m Float64 \u001b[0m\u001b[90m Float64  \u001b[0m\n",
       "─────┼───────────────────────────────\n",
       "   1 │ setosa        1.462  0.173664\n",
       "   2 │ versicolor    4.26   0.469911\n",
       "   3 │ virginica     5.552  0.551895"
      ]
     },
     "execution_count": 39,
     "metadata": {},
     "output_type": "execute_result"
    }
   ],
   "source": [
    "gdf = groupby(iris, :Species)\n",
    "combine(gdf, :PetalLength => mean => :MPL , :PetalLength => std => :SPL)"
   ]
  },
  {
   "cell_type": "markdown",
   "id": "405857e7",
   "metadata": {},
   "source": [
    "so here we assign the names ```:MPL``` and ```:SPL``` to the derived columns. If you want to apply something on all columns apart from the grouping one, using ```names``` and ```Not``` comes in handy:"
   ]
  },
  {
   "cell_type": "code",
   "execution_count": 40,
   "id": "63196bda",
   "metadata": {},
   "outputs": [
    {
     "data": {
      "text/html": [
       "<div class=\"data-frame\"><p>3 rows × 5 columns</p><table class=\"data-frame\"><thead><tr><th></th><th>Species</th><th>SepalLength_std</th><th>SepalWidth_std</th><th>PetalLength_std</th><th>PetalWidth_std</th></tr><tr><th></th><th title=\"CategoricalArrays.CategoricalValue{String, UInt8}\">Cat…</th><th title=\"Float64\">Float64</th><th title=\"Float64\">Float64</th><th title=\"Float64\">Float64</th><th title=\"Float64\">Float64</th></tr></thead><tbody><tr><th>1</th><td>setosa</td><td>0.35249</td><td>0.379064</td><td>0.173664</td><td>0.105386</td></tr><tr><th>2</th><td>versicolor</td><td>0.516171</td><td>0.313798</td><td>0.469911</td><td>0.197753</td></tr><tr><th>3</th><td>virginica</td><td>0.63588</td><td>0.322497</td><td>0.551895</td><td>0.27465</td></tr></tbody></table></div>"
      ],
      "text/latex": [
       "\\begin{tabular}{r|ccccc}\n",
       "\t& Species & SepalLength\\_std & SepalWidth\\_std & PetalLength\\_std & PetalWidth\\_std\\\\\n",
       "\t\\hline\n",
       "\t& Cat… & Float64 & Float64 & Float64 & Float64\\\\\n",
       "\t\\hline\n",
       "\t1 & setosa & 0.35249 & 0.379064 & 0.173664 & 0.105386 \\\\\n",
       "\t2 & versicolor & 0.516171 & 0.313798 & 0.469911 & 0.197753 \\\\\n",
       "\t3 & virginica & 0.63588 & 0.322497 & 0.551895 & 0.27465 \\\\\n",
       "\\end{tabular}\n"
      ],
      "text/plain": [
       "\u001b[1m3×5 DataFrame\u001b[0m\n",
       "\u001b[1m Row \u001b[0m│\u001b[1m Species    \u001b[0m\u001b[1m SepalLength_std \u001b[0m\u001b[1m SepalWidth_std \u001b[0m\u001b[1m PetalLength_std \u001b[0m\u001b[1m PetalWidt\u001b[0m ⋯\n",
       "\u001b[1m     \u001b[0m│\u001b[90m Cat…       \u001b[0m\u001b[90m Float64         \u001b[0m\u001b[90m Float64        \u001b[0m\u001b[90m Float64         \u001b[0m\u001b[90m Float64  \u001b[0m ⋯\n",
       "─────┼──────────────────────────────────────────────────────────────────────────\n",
       "   1 │ setosa             0.35249         0.379064         0.173664        0.1 ⋯\n",
       "   2 │ versicolor         0.516171        0.313798         0.469911        0.1\n",
       "   3 │ virginica          0.63588         0.322497         0.551895        0.2\n",
       "\u001b[36m                                                                1 column omitted\u001b[0m"
      ]
     },
     "execution_count": 40,
     "metadata": {},
     "output_type": "execute_result"
    }
   ],
   "source": [
    "combine(gdf, names(iris, Not(:Species)) .=> std)"
   ]
  },
  {
   "cell_type": "code",
   "execution_count": 41,
   "id": "c4de9c31",
   "metadata": {},
   "outputs": [
    {
     "data": {
      "text/plain": [
       "4-element Vector{String}:\n",
       " \"SepalLength\"\n",
       " \"SepalWidth\"\n",
       " \"PetalLength\"\n",
       " \"PetalWidth\""
      ]
     },
     "execution_count": 41,
     "metadata": {},
     "output_type": "execute_result"
    }
   ],
   "source": [
    "dunames(iris, Not(:Species))"
   ]
  },
  {
   "cell_type": "markdown",
   "id": "9e4b4a23",
   "metadata": {},
   "source": [
    "and note the use of ```.``` in ```.=>``` to indicate that we broadcast the function over each column."
   ]
  },
  {
   "cell_type": "markdown",
   "id": "2bf0c69e",
   "metadata": {},
   "source": [
    "**Vectorized \"dot\" operators**"
   ]
  },
  {
   "cell_type": "code",
   "execution_count": 42,
   "id": "b02c397d",
   "metadata": {},
   "outputs": [
    {
     "data": {
      "text/plain": [
       "3-element Vector{Int64}:\n",
       "  1\n",
       "  8\n",
       " 27"
      ]
     },
     "execution_count": 42,
     "metadata": {},
     "output_type": "execute_result"
    }
   ],
   "source": [
    "[1,2,3] .^ 3"
   ]
  },
  {
   "cell_type": "markdown",
   "id": "5be947b7",
   "metadata": {},
   "source": [
    "**Broadcasting**\n",
    "\n",
    "It is sometimes useful to perform element-by-element binary operations on arrays of different sizes, such as adding a vector to each column of a matrix. An inefficient way to do this would be to replicate the vector to the size of the matrix:"
   ]
  },
  {
   "cell_type": "code",
   "execution_count": 43,
   "id": "eaaa274b",
   "metadata": {},
   "outputs": [
    {
     "data": {
      "text/plain": [
       "([2, 4, 6], [5, 7, 9])"
      ]
     },
     "execution_count": 43,
     "metadata": {},
     "output_type": "execute_result"
    }
   ],
   "source": [
    "([1, 2, 3], [4, 5, 6]) .+ ([1, 2, 3],)"
   ]
  },
  {
   "cell_type": "code",
   "execution_count": 44,
   "id": "971b712e",
   "metadata": {},
   "outputs": [
    {
     "data": {
      "text/plain": [
       "([2, 4, 6], [5, 7, 9])"
      ]
     },
     "execution_count": 44,
     "metadata": {},
     "output_type": "execute_result"
    }
   ],
   "source": [
    "([1, 2, 3], [4, 5, 6]) .+ tuple([1, 2, 3])"
   ]
  },
  {
   "cell_type": "code",
   "execution_count": 45,
   "id": "0d99cbed",
   "metadata": {},
   "outputs": [],
   "source": [
    "a = rand(2,1); A = rand(2,3);"
   ]
  },
  {
   "cell_type": "code",
   "execution_count": 46,
   "id": "ecd411f9",
   "metadata": {},
   "outputs": [
    {
     "data": {
      "text/plain": [
       "2×1 Matrix{Float64}:\n",
       " 0.7535372436091669\n",
       " 0.500019517814421"
      ]
     },
     "execution_count": 46,
     "metadata": {},
     "output_type": "execute_result"
    }
   ],
   "source": [
    "a"
   ]
  },
  {
   "cell_type": "code",
   "execution_count": 47,
   "id": "114afa44",
   "metadata": {},
   "outputs": [
    {
     "data": {
      "text/plain": [
       "2×3 Matrix{Float64}:\n",
       " 0.408887   0.13851   0.948664\n",
       " 0.0682758  0.818699  0.374016"
      ]
     },
     "execution_count": 47,
     "metadata": {},
     "output_type": "execute_result"
    }
   ],
   "source": [
    "A"
   ]
  },
  {
   "cell_type": "code",
   "execution_count": 48,
   "id": "547fe3da",
   "metadata": {},
   "outputs": [
    {
     "data": {
      "text/plain": [
       "2×3 Matrix{Float64}:\n",
       " 1.16242   0.892047  1.7022\n",
       " 0.568295  1.31872   0.874035"
      ]
     },
     "execution_count": 48,
     "metadata": {},
     "output_type": "execute_result"
    }
   ],
   "source": [
    "repeat(a,1,3) + A"
   ]
  },
  {
   "cell_type": "code",
   "execution_count": 49,
   "id": "12ae49fe",
   "metadata": {},
   "outputs": [
    {
     "data": {
      "text/plain": [
       "2×3 Matrix{Float64}:\n",
       " 1.16242   0.892047  1.7022\n",
       " 0.568295  1.31872   0.874035"
      ]
     },
     "execution_count": 49,
     "metadata": {},
     "output_type": "execute_result"
    }
   ],
   "source": [
    "broadcast(+, a, A)"
   ]
  },
  {
   "cell_type": "markdown",
   "id": "8b16d038",
   "metadata": {},
   "source": [
    "Dotted operators such as ```.+``` and ```.*``` are equivalent to ```broadcast``` calls (except that they fuse, as described above). There is also a ```broadcast!``` function to specify an explicit destination (which can also be accessed in a fusing fashion by .= assignment). In fact, ```f.(args...)``` is equivalent to ```broadcast(f, args...)```, providing a convenient syntax to broadcast any function (dot syntax). Nested \"dot calls\" ```f.(...)``` (including calls to ```.+``` etcetera) automatically fuse into a single ```broadcast``` call.\n",
    "\n",
    "Additionally, ```broadcast``` is not limited to arrays (see the function documentation); it also handles scalars, tuples and other collections. By default, only some argument types are considered scalars, including (but not limited to) ```Numbers```, ```Strings```, ```Symbols```, ```Types```, ```Functions``` and some common singletons like missing and nothing. All other arguments are iterated over or indexed into elementwise."
   ]
  },
  {
   "cell_type": "code",
   "execution_count": 50,
   "id": "2c639d06",
   "metadata": {},
   "outputs": [
    {
     "data": {
      "text/html": [
       "<div class=\"data-frame\"><p>3 rows × 2 columns</p><table class=\"data-frame\"><thead><tr><th></th><th>Species</th><th>PetalLength_mean</th></tr><tr><th></th><th title=\"CategoricalArrays.CategoricalValue{String, UInt8}\">Cat…</th><th title=\"Float64\">Float64</th></tr></thead><tbody><tr><th>1</th><td>setosa</td><td>1.462</td></tr><tr><th>2</th><td>versicolor</td><td>4.26</td></tr><tr><th>3</th><td>virginica</td><td>5.552</td></tr></tbody></table></div>"
      ],
      "text/latex": [
       "\\begin{tabular}{r|cc}\n",
       "\t& Species & PetalLength\\_mean\\\\\n",
       "\t\\hline\n",
       "\t& Cat… & Float64\\\\\n",
       "\t\\hline\n",
       "\t1 & setosa & 1.462 \\\\\n",
       "\t2 & versicolor & 4.26 \\\\\n",
       "\t3 & virginica & 5.552 \\\\\n",
       "\\end{tabular}\n"
      ],
      "text/plain": [
       "\u001b[1m3×2 DataFrame\u001b[0m\n",
       "\u001b[1m Row \u001b[0m│\u001b[1m Species    \u001b[0m\u001b[1m PetalLength_mean \u001b[0m\n",
       "\u001b[1m     \u001b[0m│\u001b[90m Cat…       \u001b[0m\u001b[90m Float64          \u001b[0m\n",
       "─────┼──────────────────────────────\n",
       "   1 │ setosa                 1.462\n",
       "   2 │ versicolor             4.26\n",
       "   3 │ virginica              5.552"
      ]
     },
     "execution_count": 50,
     "metadata": {},
     "output_type": "execute_result"
    }
   ],
   "source": [
    "combine(gdf, :PetalLength => mean)"
   ]
  },
  {
   "cell_type": "code",
   "execution_count": 51,
   "id": "cb179fba",
   "metadata": {},
   "outputs": [
    {
     "data": {
      "text/html": [
       "<div class=\"data-frame\"><p>3 rows × 3 columns</p><table class=\"data-frame\"><thead><tr><th></th><th>Species</th><th>nrow</th><th>mean</th></tr><tr><th></th><th title=\"CategoricalArrays.CategoricalValue{String, UInt8}\">Cat…</th><th title=\"Int64\">Int64</th><th title=\"Float64\">Float64</th></tr></thead><tbody><tr><th>1</th><td>setosa</td><td>50</td><td>1.462</td></tr><tr><th>2</th><td>versicolor</td><td>50</td><td>4.26</td></tr><tr><th>3</th><td>virginica</td><td>50</td><td>5.552</td></tr></tbody></table></div>"
      ],
      "text/latex": [
       "\\begin{tabular}{r|ccc}\n",
       "\t& Species & nrow & mean\\\\\n",
       "\t\\hline\n",
       "\t& Cat… & Int64 & Float64\\\\\n",
       "\t\\hline\n",
       "\t1 & setosa & 50 & 1.462 \\\\\n",
       "\t2 & versicolor & 50 & 4.26 \\\\\n",
       "\t3 & virginica & 50 & 5.552 \\\\\n",
       "\\end{tabular}\n"
      ],
      "text/plain": [
       "\u001b[1m3×3 DataFrame\u001b[0m\n",
       "\u001b[1m Row \u001b[0m│\u001b[1m Species    \u001b[0m\u001b[1m nrow  \u001b[0m\u001b[1m mean    \u001b[0m\n",
       "\u001b[1m     \u001b[0m│\u001b[90m Cat…       \u001b[0m\u001b[90m Int64 \u001b[0m\u001b[90m Float64 \u001b[0m\n",
       "─────┼────────────────────────────\n",
       "   1 │ setosa         50    1.462\n",
       "   2 │ versicolor     50    4.26\n",
       "   3 │ virginica      50    5.552"
      ]
     },
     "execution_count": 51,
     "metadata": {},
     "output_type": "execute_result"
    }
   ],
   "source": [
    "combine(gdf, nrow, :PetalLength => mean => :mean)"
   ]
  },
  {
   "cell_type": "code",
   "execution_count": 52,
   "id": "b5fea88d",
   "metadata": {},
   "outputs": [
    {
     "data": {
      "text/html": [
       "<div class=\"data-frame\"><p>3 rows × 3 columns</p><table class=\"data-frame\"><thead><tr><th></th><th>Species</th><th>a</th><th>b</th></tr><tr><th></th><th title=\"CategoricalArrays.CategoricalValue{String, UInt8}\">Cat…</th><th title=\"Float64\">Float64</th><th title=\"Float64\">Float64</th></tr></thead><tbody><tr><th>1</th><td>setosa</td><td>0.29205</td><td>73.1</td></tr><tr><th>2</th><td>versicolor</td><td>0.717655</td><td>213.0</td></tr><tr><th>3</th><td>virginica</td><td>0.842744</td><td>277.6</td></tr></tbody></table></div>"
      ],
      "text/latex": [
       "\\begin{tabular}{r|ccc}\n",
       "\t& Species & a & b\\\\\n",
       "\t\\hline\n",
       "\t& Cat… & Float64 & Float64\\\\\n",
       "\t\\hline\n",
       "\t1 & setosa & 0.29205 & 73.1 \\\\\n",
       "\t2 & versicolor & 0.717655 & 213.0 \\\\\n",
       "\t3 & virginica & 0.842744 & 277.6 \\\\\n",
       "\\end{tabular}\n"
      ],
      "text/plain": [
       "\u001b[1m3×3 DataFrame\u001b[0m\n",
       "\u001b[1m Row \u001b[0m│\u001b[1m Species    \u001b[0m\u001b[1m a        \u001b[0m\u001b[1m b       \u001b[0m\n",
       "\u001b[1m     \u001b[0m│\u001b[90m Cat…       \u001b[0m\u001b[90m Float64  \u001b[0m\u001b[90m Float64 \u001b[0m\n",
       "─────┼───────────────────────────────\n",
       "   1 │ setosa      0.29205      73.1\n",
       "   2 │ versicolor  0.717655    213.0\n",
       "   3 │ virginica   0.842744    277.6"
      ]
     },
     "execution_count": 52,
     "metadata": {},
     "output_type": "execute_result"
    }
   ],
   "source": [
    "combine(gdf, [:PetalLength, :SepalLength] => ((p, s) -> (a=mean(p)/mean(s), b=sum(p))) => AsTable) \n",
    "# multiple columns are passed as arguments"
   ]
  },
  {
   "cell_type": "code",
   "execution_count": 53,
   "id": "569f57f5",
   "metadata": {},
   "outputs": [
    {
     "data": {
      "text/html": [
       "<div class=\"data-frame\"><p>3 rows × 2 columns</p><table class=\"data-frame\"><thead><tr><th></th><th>Species</th><th>PetalLength_SepalLength_function</th></tr><tr><th></th><th title=\"CategoricalArrays.CategoricalValue{String, UInt8}\">Cat…</th><th title=\"Float64\">Float64</th></tr></thead><tbody><tr><th>1</th><td>setosa</td><td>0.492678</td></tr><tr><th>2</th><td>versicolor</td><td>0.910378</td></tr><tr><th>3</th><td>virginica</td><td>0.867923</td></tr></tbody></table></div>"
      ],
      "text/latex": [
       "\\begin{tabular}{r|cc}\n",
       "\t& Species & PetalLength\\_SepalLength\\_function\\\\\n",
       "\t\\hline\n",
       "\t& Cat… & Float64\\\\\n",
       "\t\\hline\n",
       "\t1 & setosa & 0.492678 \\\\\n",
       "\t2 & versicolor & 0.910378 \\\\\n",
       "\t3 & virginica & 0.867923 \\\\\n",
       "\\end{tabular}\n"
      ],
      "text/plain": [
       "\u001b[1m3×2 DataFrame\u001b[0m\n",
       "\u001b[1m Row \u001b[0m│\u001b[1m Species    \u001b[0m\u001b[1m PetalLength_SepalLength_function \u001b[0m\n",
       "\u001b[1m     \u001b[0m│\u001b[90m Cat…       \u001b[0m\u001b[90m Float64                          \u001b[0m\n",
       "─────┼──────────────────────────────────────────────\n",
       "   1 │ setosa                              0.492678\n",
       "   2 │ versicolor                          0.910378\n",
       "   3 │ virginica                           0.867923"
      ]
     },
     "execution_count": 53,
     "metadata": {},
     "output_type": "execute_result"
    }
   ],
   "source": [
    "combine(gdf, AsTable([:PetalLength, :SepalLength]) => x -> std(x.PetalLength) / std(x.SepalLength)) # passing a NamedTuple"
   ]
  },
  {
   "cell_type": "code",
   "execution_count": 54,
   "id": "a1050467",
   "metadata": {},
   "outputs": [
    {
     "data": {
      "text/html": [
       "<div class=\"data-frame\"><p>3 rows × 2 columns</p><table class=\"data-frame\"><thead><tr><th></th><th>Species</th><th>x1</th></tr><tr><th></th><th title=\"CategoricalArrays.CategoricalValue{String, UInt8}\">Cat…</th><th title=\"Float64\">Float64</th></tr></thead><tbody><tr><th>1</th><td>setosa</td><td>0.492678</td></tr><tr><th>2</th><td>versicolor</td><td>0.910378</td></tr><tr><th>3</th><td>virginica</td><td>0.867923</td></tr></tbody></table></div>"
      ],
      "text/latex": [
       "\\begin{tabular}{r|cc}\n",
       "\t& Species & x1\\\\\n",
       "\t\\hline\n",
       "\t& Cat… & Float64\\\\\n",
       "\t\\hline\n",
       "\t1 & setosa & 0.492678 \\\\\n",
       "\t2 & versicolor & 0.910378 \\\\\n",
       "\t3 & virginica & 0.867923 \\\\\n",
       "\\end{tabular}\n"
      ],
      "text/plain": [
       "\u001b[1m3×2 DataFrame\u001b[0m\n",
       "\u001b[1m Row \u001b[0m│\u001b[1m Species    \u001b[0m\u001b[1m x1       \u001b[0m\n",
       "\u001b[1m     \u001b[0m│\u001b[90m Cat…       \u001b[0m\u001b[90m Float64  \u001b[0m\n",
       "─────┼──────────────────────\n",
       "   1 │ setosa      0.492678\n",
       "   2 │ versicolor  0.910378\n",
       "   3 │ virginica   0.867923"
      ]
     },
     "execution_count": 54,
     "metadata": {},
     "output_type": "execute_result"
    }
   ],
   "source": [
    "combine(x -> std(x.PetalLength) / std(x.SepalLength), gdf) # passing a SubDataFrame"
   ]
  },
  {
   "cell_type": "code",
   "execution_count": 55,
   "id": "4e7e06f6",
   "metadata": {},
   "outputs": [
    {
     "data": {
      "text/html": [
       "<div class=\"data-frame\"><p>3 rows × 3 columns</p><table class=\"data-frame\"><thead><tr><th></th><th>Species</th><th>SepalLength_SepalWidth_cor</th><th>nrow</th></tr><tr><th></th><th title=\"CategoricalArrays.CategoricalValue{String, UInt8}\">Cat…</th><th title=\"Float64\">Float64</th><th title=\"Int64\">Int64</th></tr></thead><tbody><tr><th>1</th><td>setosa</td><td>0.742547</td><td>50</td></tr><tr><th>2</th><td>versicolor</td><td>0.525911</td><td>50</td></tr><tr><th>3</th><td>virginica</td><td>0.457228</td><td>50</td></tr></tbody></table></div>"
      ],
      "text/latex": [
       "\\begin{tabular}{r|ccc}\n",
       "\t& Species & SepalLength\\_SepalWidth\\_cor & nrow\\\\\n",
       "\t\\hline\n",
       "\t& Cat… & Float64 & Int64\\\\\n",
       "\t\\hline\n",
       "\t1 & setosa & 0.742547 & 50 \\\\\n",
       "\t2 & versicolor & 0.525911 & 50 \\\\\n",
       "\t3 & virginica & 0.457228 & 50 \\\\\n",
       "\\end{tabular}\n"
      ],
      "text/plain": [
       "\u001b[1m3×3 DataFrame\u001b[0m\n",
       "\u001b[1m Row \u001b[0m│\u001b[1m Species    \u001b[0m\u001b[1m SepalLength_SepalWidth_cor \u001b[0m\u001b[1m nrow  \u001b[0m\n",
       "\u001b[1m     \u001b[0m│\u001b[90m Cat…       \u001b[0m\u001b[90m Float64                    \u001b[0m\u001b[90m Int64 \u001b[0m\n",
       "─────┼───────────────────────────────────────────────\n",
       "   1 │ setosa                        0.742547     50\n",
       "   2 │ versicolor                    0.525911     50\n",
       "   3 │ virginica                     0.457228     50"
      ]
     },
     "execution_count": 55,
     "metadata": {},
     "output_type": "execute_result"
    }
   ],
   "source": [
    "combine(gdf, 1:2 => cor, nrow)"
   ]
  },
  {
   "cell_type": "code",
   "execution_count": 56,
   "id": "dc7bd1cd",
   "metadata": {},
   "outputs": [
    {
     "data": {
      "text/html": [
       "<div class=\"data-frame\"><p>3 rows × 3 columns</p><table class=\"data-frame\"><thead><tr><th></th><th>Species</th><th>min</th><th>max</th></tr><tr><th></th><th title=\"CategoricalArrays.CategoricalValue{String, UInt8}\">Cat…</th><th title=\"Float64\">Float64</th><th title=\"Float64\">Float64</th></tr></thead><tbody><tr><th>1</th><td>setosa</td><td>1.0</td><td>1.9</td></tr><tr><th>2</th><td>versicolor</td><td>3.0</td><td>5.1</td></tr><tr><th>3</th><td>virginica</td><td>4.5</td><td>6.9</td></tr></tbody></table></div>"
      ],
      "text/latex": [
       "\\begin{tabular}{r|ccc}\n",
       "\t& Species & min & max\\\\\n",
       "\t\\hline\n",
       "\t& Cat… & Float64 & Float64\\\\\n",
       "\t\\hline\n",
       "\t1 & setosa & 1.0 & 1.9 \\\\\n",
       "\t2 & versicolor & 3.0 & 5.1 \\\\\n",
       "\t3 & virginica & 4.5 & 6.9 \\\\\n",
       "\\end{tabular}\n"
      ],
      "text/plain": [
       "\u001b[1m3×3 DataFrame\u001b[0m\n",
       "\u001b[1m Row \u001b[0m│\u001b[1m Species    \u001b[0m\u001b[1m min     \u001b[0m\u001b[1m max     \u001b[0m\n",
       "\u001b[1m     \u001b[0m│\u001b[90m Cat…       \u001b[0m\u001b[90m Float64 \u001b[0m\u001b[90m Float64 \u001b[0m\n",
       "─────┼──────────────────────────────\n",
       "   1 │ setosa          1.0      1.9\n",
       "   2 │ versicolor      3.0      5.1\n",
       "   3 │ virginica       4.5      6.9"
      ]
     },
     "execution_count": 56,
     "metadata": {},
     "output_type": "execute_result"
    }
   ],
   "source": [
    "combine(gdf, :PetalLength => (x -> [extrema(x)]) => [:min, :max])"
   ]
  }
 ],
 "metadata": {
  "hide_input": false,
  "kernelspec": {
   "display_name": "Julia 1.7.3",
   "language": "julia",
   "name": "julia-1.7"
  },
  "language_info": {
   "file_extension": ".jl",
   "mimetype": "application/julia",
   "name": "julia",
   "version": "1.7.3"
  }
 },
 "nbformat": 4,
 "nbformat_minor": 5
}
