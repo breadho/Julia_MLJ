{
 "cells": [
  {
   "cell_type": "markdown",
   "id": "5138c8b3",
   "metadata": {},
   "source": [
    "# Getting started"
   ]
  },
  {
   "cell_type": "markdown",
   "id": "c2ac2c66",
   "metadata": {},
   "source": [
    "## Composing models\n",
    "\n",
    "> https://juliaai.github.io/DataScienceTutorials.jl/getting-started/composing-models/\n",
    "> <br> (project folder) https://raw.githubusercontent.com/juliaai/DataScienceTutorials.jl/gh-pages/__generated/A-composing-models.tar.gz"
   ]
  },
  {
   "cell_type": "code",
   "execution_count": 1,
   "id": "0173bb8b",
   "metadata": {},
   "outputs": [
    {
     "name": "stderr",
     "output_type": "stream",
     "text": [
      "\u001b[32m\u001b[1m  Activating\u001b[22m\u001b[39m project at `D:\\JULIA\\6_ML_with_Julia\\A-composing-models`\n"
     ]
    }
   ],
   "source": [
    "using Pkg ; Pkg.activate(\"D:/JULIA/6_ML_with_Julia/A-composing-models\"); Pkg.instantiate()"
   ]
  },
  {
   "cell_type": "markdown",
   "id": "e490ef89",
   "metadata": {},
   "source": [
    "> Generating dummy data <br>\n",
    "> Declaring a pipeline"
   ]
  },
  {
   "cell_type": "markdown",
   "id": "78326718",
   "metadata": {},
   "source": [
    "### Generating dummy data\n",
    "\n",
    "---"
   ]
  },
  {
   "cell_type": "markdown",
   "id": "3a4a2617",
   "metadata": {},
   "source": [
    "Let's start by generating some dummy data with both numerical values and categorical values:"
   ]
  },
  {
   "cell_type": "code",
   "execution_count": 2,
   "id": "c7af9182",
   "metadata": {},
   "outputs": [
    {
     "name": "stderr",
     "output_type": "stream",
     "text": [
      "┌ Info: For silent loading, specify `verbosity=0`. \n",
      "└ @ Main C:\\Users\\jeffr\\.julia\\packages\\MLJModels\\tMgLW\\src\\loading.jl:168\n"
     ]
    },
    {
     "name": "stdout",
     "output_type": "stream",
     "text": [
      "import NearestNeighborModels ✔\n"
     ]
    },
    {
     "data": {
      "text/plain": [
       "5-element Vector{Int64}:\n",
       " 178\n",
       " 194\n",
       " 165\n",
       " 173\n",
       " 168"
      ]
     },
     "execution_count": 2,
     "metadata": {},
     "output_type": "execute_result"
    }
   ],
   "source": [
    "using MLJ\n",
    "using PrettyPrinting\n",
    "\n",
    "KNNRegressor = @load KNNRegressor\n",
    "\n",
    "# input\n",
    "X = (age = [23, 45, 34, 25, 67],\n",
    "     gender = categorical(['m', 'm', 'f', 'm', 'f']))\n",
    "\n",
    "# target\n",
    "height = [178, 194, 165, 173, 168]"
   ]
  },
  {
   "cell_type": "markdown",
   "id": "a0605c51",
   "metadata": {},
   "source": [
    "Note that the scientific type of ```age``` is ```Count``` here:"
   ]
  },
  {
   "cell_type": "code",
   "execution_count": 3,
   "id": "573ca1cb",
   "metadata": {},
   "outputs": [
    {
     "data": {
      "text/plain": [
       "AbstractVector{Count} (alias for AbstractArray{Count, 1})"
      ]
     },
     "execution_count": 3,
     "metadata": {},
     "output_type": "execute_result"
    }
   ],
   "source": [
    "scitype(X.age)"
   ]
  },
  {
   "cell_type": "code",
   "execution_count": 4,
   "id": "fc5ddcee",
   "metadata": {},
   "outputs": [
    {
     "data": {
      "text/plain": [
       "┌────────┬───────────────┬────────────────────────────────┐\n",
       "│\u001b[22m names  \u001b[0m│\u001b[22m scitypes      \u001b[0m│\u001b[22m types                          \u001b[0m│\n",
       "├────────┼───────────────┼────────────────────────────────┤\n",
       "│ age    │ Count         │ Int64                          │\n",
       "│ gender │ Multiclass{2} │ CategoricalValue{Char, UInt32} │\n",
       "└────────┴───────────────┴────────────────────────────────┘\n"
      ]
     },
     "execution_count": 4,
     "metadata": {},
     "output_type": "execute_result"
    }
   ],
   "source": [
    "schema(X)"
   ]
  },
  {
   "cell_type": "markdown",
   "id": "fc9d3b50",
   "metadata": {},
   "source": [
    "We will want to coerce that to ```Continuous``` so that it can be given to a regressor that expects such values."
   ]
  },
  {
   "cell_type": "markdown",
   "id": "50aa49d2",
   "metadata": {},
   "source": [
    "### Declaring a pipeline\n",
    "\n",
    "---"
   ]
  },
  {
   "cell_type": "markdown",
   "id": "72402929",
   "metadata": {},
   "source": [
    "A typical workflow for such data is to one-hot-encode the categorical data and then apply some regression model on the data. Let's say that we want to apply the following steps:\n",
    "\n",
    "1. One hot encode the categorical features in  ```X```\n",
    "\n",
    "2. Standardize the target variable (```:height```)\n",
    "\n",
    "3. Train a KNN regression model on the one hot encoded data and the Standardized target."
   ]
  },
  {
   "cell_type": "markdown",
   "id": "ab098b8e",
   "metadata": {},
   "source": [
    "The ```Pipeline``` constructor helps you define such a simple (non-branching) pipeline of steps to be applied in order:"
   ]
  },
  {
   "cell_type": "code",
   "execution_count": 5,
   "id": "e60ade84",
   "metadata": {},
   "outputs": [
    {
     "data": {
      "text/plain": [
       "DeterministicPipeline(\n",
       "    coercer = var\"#1#2\"(),\n",
       "    one_hot_encoder = OneHotEncoder(\n",
       "            features = Symbol[],\n",
       "            drop_last = false,\n",
       "            ordered_factor = true,\n",
       "            ignore = false),\n",
       "    transformed_target_model = TransformedTargetModelDeterministic(\n",
       "            model = KNNRegressor,\n",
       "            target = UnivariateStandardizer,\n",
       "            inverse = nothing,\n",
       "            cache = true),\n",
       "    cache = true)"
      ]
     },
     "execution_count": 5,
     "metadata": {},
     "output_type": "execute_result"
    }
   ],
   "source": [
    "pipe = Pipeline(\n",
    "    coercer = X -> coerce(X, :age => Continuous),\n",
    "    one_hot_encoder = OneHotEncoder(), \n",
    "    transformed_target_model = TransformedTargetModel(\n",
    "        model = KNNRegressor(K = 3);\n",
    "        target = UnivariateStandardizer()\n",
    "        )\n",
    ")"
   ]
  },
  {
   "cell_type": "markdown",
   "id": "24a5e611",
   "metadata": {},
   "source": [
    "Note the coercion of the ```:age``` variable to Continuous since ```KNNRegressor``` expects ```Continuous``` input. Note also the ```TransformedTargetModel``` which allows one to learn a transformation (in this cas Standardization) of the target variable to be passed to the ```KNNRegressor```."
   ]
  },
  {
   "cell_type": "markdown",
   "id": "ff338520",
   "metadata": {},
   "source": [
    "Hyperparameters of this pipeline can be accessed (and set) using dot syntax:"
   ]
  },
  {
   "cell_type": "code",
   "execution_count": 6,
   "id": "1e955b3e",
   "metadata": {},
   "outputs": [
    {
     "data": {
      "text/plain": [
       "2"
      ]
     },
     "execution_count": 6,
     "metadata": {},
     "output_type": "execute_result"
    }
   ],
   "source": [
    "pipe.transformed_target_model.model.K = 2"
   ]
  },
  {
   "cell_type": "code",
   "execution_count": 7,
   "id": "c79d4088",
   "metadata": {},
   "outputs": [],
   "source": [
    "pipe.one_hot_encoder.drop_last = true;"
   ]
  },
  {
   "cell_type": "markdown",
   "id": "5ad7e5c1",
   "metadata": {},
   "source": [
    "Evaluation for a pipe can be done with the ```evaluate!``` method; implicitly it will construct machines that will contain the fitted parameters etc:"
   ]
  },
  {
   "cell_type": "code",
   "execution_count": 8,
   "id": "eeba9d94",
   "metadata": {},
   "outputs": [
    {
     "name": "stderr",
     "output_type": "stream",
     "text": [
      "┌ Warning: The scitype of `y`, in `machine(model, X, y, ...)` is incompatible with `model=DeterministicPipeline{NamedTuple{,…},…}`:\n",
      "│ scitype(y) = AbstractVector{Count}\n",
      "│ target_scitype(model) = AbstractVector{Continuous}.\n",
      "└ @ MLJBase C:\\Users\\jeffr\\.julia\\packages\\MLJBase\\MuLnJ\\src\\machines.jl:140\n"
     ]
    },
    {
     "name": "stdout",
     "output_type": "stream",
     "text": [
      "PerformanceEvaluation(11.5,)"
     ]
    }
   ],
   "source": [
    "evaluate(pipe, X, height, resampling = Holdout(), measure = rms) |> pprint"
   ]
  }
 ],
 "metadata": {
  "hide_input": false,
  "kernelspec": {
   "display_name": "Julia 1.7.3",
   "language": "julia",
   "name": "julia-1.7"
  },
  "language_info": {
   "file_extension": ".jl",
   "mimetype": "application/julia",
   "name": "julia",
   "version": "1.7.3"
  }
 },
 "nbformat": 4,
 "nbformat_minor": 5
}
