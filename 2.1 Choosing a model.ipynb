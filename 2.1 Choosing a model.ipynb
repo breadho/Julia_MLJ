{
 "cells": [
  {
   "cell_type": "markdown",
   "id": "eaa588cd",
   "metadata": {},
   "source": [
    "# Getting started"
   ]
  },
  {
   "cell_type": "markdown",
   "id": "ce3df649",
   "metadata": {},
   "source": [
    "## Choosing and evaluating a model"
   ]
  },
  {
   "cell_type": "code",
   "execution_count": 1,
   "id": "70a73a5a",
   "metadata": {},
   "outputs": [
    {
     "name": "stderr",
     "output_type": "stream",
     "text": [
      "\u001b[32m\u001b[1m  Activating\u001b[22m\u001b[39m project at `D:\\JULIA\\6_ML_with_Julia\\A-model-choice`\n"
     ]
    }
   ],
   "source": [
    "using Pkg; Pkg.activate(\"D:/JULIA/6_ML_with_Julia/A-model-choice\"); Pkg.instantiate()"
   ]
  },
  {
   "cell_type": "markdown",
   "id": "94f1fa09",
   "metadata": {},
   "source": [
    "> Data and its interpretation\n",
    "> * Machine type and scientific type\n",
    "> * Unpacking data\n",
    "\n",
    "> Choosing a model\n",
    "> * Model search\n",
    "> * Loading a model"
   ]
  },
  {
   "cell_type": "markdown",
   "id": "9820d923",
   "metadata": {},
   "source": [
    "### Data and its interpretation"
   ]
  },
  {
   "cell_type": "markdown",
   "id": "efb087ca",
   "metadata": {},
   "source": [
    "### Machine type and scientific type"
   ]
  },
  {
   "cell_type": "code",
   "execution_count": 2,
   "id": "fc8556a7",
   "metadata": {},
   "outputs": [
    {
     "name": "stdout",
     "output_type": "stream",
     "text": [
      "┌─────────────┬────────────┬─────────────┬────────────┬─────────────────────────────────┐\n",
      "│\u001b[1m SepalLength \u001b[0m│\u001b[1m SepalWidth \u001b[0m│\u001b[1m PetalLength \u001b[0m│\u001b[1m PetalWidth \u001b[0m│\u001b[1m Species                         \u001b[0m│\n",
      "│\u001b[90m Float64     \u001b[0m│\u001b[90m Float64    \u001b[0m│\u001b[90m Float64     \u001b[0m│\u001b[90m Float64    \u001b[0m│\u001b[90m CategoricalValue{String, UInt8} \u001b[0m│\n",
      "│\u001b[90m Continuous  \u001b[0m│\u001b[90m Continuous \u001b[0m│\u001b[90m Continuous  \u001b[0m│\u001b[90m Continuous \u001b[0m│\u001b[90m Multiclass{3}                   \u001b[0m│\n",
      "├─────────────┼────────────┼─────────────┼────────────┼─────────────────────────────────┤\n",
      "│ 5.1         │ 3.5        │ 1.4         │ 0.2        │ setosa                          │\n",
      "│ 4.9         │ 3.0        │ 1.4         │ 0.2        │ setosa                          │\n",
      "│ 4.7         │ 3.2        │ 1.3         │ 0.2        │ setosa                          │\n",
      "└─────────────┴────────────┴─────────────┴────────────┴─────────────────────────────────┘\n"
     ]
    }
   ],
   "source": [
    "using RDatasets\n",
    "using MLJ\n",
    "\n",
    "iris = dataset(\"datasets\", \"iris\")\n",
    "\n",
    "first(iris, 3) |> pretty"
   ]
  },
  {
   "cell_type": "markdown",
   "id": "19150413",
   "metadata": {},
   "source": [
    "Observe that below each column name there are two types given: the first one is the machine type and the second one is the scientific type.\n",
    "\n",
    "* **machine type**: is the Julia type the data is currently encoded as, for instance ```Float64```,\n",
    "\n",
    "* **scientific type**: is a type corresponding to how the data should be interpreted, for instance ```Multiclass{3}```.\n",
    "\n",
    "If you want to specify a different scientific type than the one inferred, you can do so by using the function ```coerce``` along with pairs of column names and scientific types:"
   ]
  },
  {
   "cell_type": "code",
   "execution_count": 3,
   "id": "4c670aee",
   "metadata": {},
   "outputs": [
    {
     "name": "stdout",
     "output_type": "stream",
     "text": [
      "┌─────────────┬───────────────────────────────────┐\n",
      "│\u001b[1m PetalLength \u001b[0m│\u001b[1m PetalWidth                        \u001b[0m│\n",
      "│\u001b[90m Float64     \u001b[0m│\u001b[90m CategoricalValue{Float64, UInt32} \u001b[0m│\n",
      "│\u001b[90m Continuous  \u001b[0m│\u001b[90m OrderedFactor{22}                 \u001b[0m│\n",
      "├─────────────┼───────────────────────────────────┤\n",
      "│ 1.4         │ 0.2                               │\n",
      "└─────────────┴───────────────────────────────────┘\n"
     ]
    }
   ],
   "source": [
    "iris2 = coerce(iris, :PetalWidth => OrderedFactor)\n",
    "first(iris2[:, [:PetalLength, :PetalWidth]], 1) |> pretty"
   ]
  },
  {
   "cell_type": "markdown",
   "id": "dbb89941",
   "metadata": {},
   "source": [
    "### Unpacking data"
   ]
  },
  {
   "cell_type": "markdown",
   "id": "97afd1ee",
   "metadata": {},
   "source": [
    "The function ```unpack``` helps specify the target and the input for a regression or classification task"
   ]
  },
  {
   "cell_type": "code",
   "execution_count": 4,
   "id": "483780c1",
   "metadata": {},
   "outputs": [
    {
     "name": "stdout",
     "output_type": "stream",
     "text": [
      "┌─────────────┬────────────┬─────────────┬────────────┐\n",
      "│\u001b[1m SepalLength \u001b[0m│\u001b[1m SepalWidth \u001b[0m│\u001b[1m PetalLength \u001b[0m│\u001b[1m PetalWidth \u001b[0m│\n",
      "│\u001b[90m Float64     \u001b[0m│\u001b[90m Float64    \u001b[0m│\u001b[90m Float64     \u001b[0m│\u001b[90m Float64    \u001b[0m│\n",
      "│\u001b[90m Continuous  \u001b[0m│\u001b[90m Continuous \u001b[0m│\u001b[90m Continuous  \u001b[0m│\u001b[90m Continuous \u001b[0m│\n",
      "├─────────────┼────────────┼─────────────┼────────────┤\n",
      "│ 5.1         │ 3.5        │ 1.4         │ 0.2        │\n",
      "└─────────────┴────────────┴─────────────┴────────────┘\n"
     ]
    }
   ],
   "source": [
    "y, X = unpack(iris, ==(:Species))\n",
    "first(X, 1) |> pretty"
   ]
  },
  {
   "cell_type": "markdown",
   "id": "16a03a49",
   "metadata": {},
   "source": [
    "The two arguments after the dataframes should be understood as functions over column names specifying the target and the input data respectively. Let's look in more details at what we used here:\n",
    "\n",
    "* **```==(:Species)```** is a shorthand to specify that the target should be the column with name equal to **```:Species```**,\n",
    "\n",
    "* **```colname -> true```** indicates that every other column is to be taken as input\n",
    "\n",
    "Let's try another one:"
   ]
  },
  {
   "cell_type": "code",
   "execution_count": 5,
   "id": "7f367eab",
   "metadata": {},
   "outputs": [
    {
     "name": "stdout",
     "output_type": "stream",
     "text": [
      "┌─────────────┬────────────┬────────────┐\n",
      "│\u001b[1m SepalLength \u001b[0m│\u001b[1m SepalWidth \u001b[0m│\u001b[1m PetalWidth \u001b[0m│\n",
      "│\u001b[90m Float64     \u001b[0m│\u001b[90m Float64    \u001b[0m│\u001b[90m Float64    \u001b[0m│\n",
      "│\u001b[90m Continuous  \u001b[0m│\u001b[90m Continuous \u001b[0m│\u001b[90m Continuous \u001b[0m│\n",
      "├─────────────┼────────────┼────────────┤\n",
      "│ 5.1         │ 3.5        │ 0.2        │\n",
      "└─────────────┴────────────┴────────────┘\n"
     ]
    }
   ],
   "source": [
    "y, X = unpack(iris, ==(:Species), !=(:PetalLength))\n",
    "first(X, 1) |> pretty"
   ]
  },
  {
   "cell_type": "markdown",
   "id": "def55f20",
   "metadata": {},
   "source": [
    "You can also use the shorthand ```@load_iris``` for such common examples:"
   ]
  },
  {
   "cell_type": "code",
   "execution_count": 6,
   "id": "b4099086",
   "metadata": {},
   "outputs": [],
   "source": [
    "X, y = @load_iris;"
   ]
  },
  {
   "cell_type": "markdown",
   "id": "8e8d9956",
   "metadata": {},
   "source": [
    "### Choosing a model"
   ]
  },
  {
   "cell_type": "markdown",
   "id": "a32ae79d",
   "metadata": {},
   "source": [
    "---\n",
    "### Model search"
   ]
  },
  {
   "cell_type": "markdown",
   "id": "1f4ee3f2",
   "metadata": {},
   "source": [
    "In MLJ, a model is a struct storing the _hyperparameters_ of the learning algorithm indicated by the struct name (and only that).\n",
    "\n",
    "A number of models are available in **MLJ**, usually thanks to external packages interfacing with MLJ (see also ```MLJModels.jl```). In order to see which ones are appropriate for the data you have and its scientific interpretation, you can use the function ```models``` along with the function ```matching```; let us look specifically at models which support a probabilistic output:"
   ]
  },
  {
   "cell_type": "code",
   "execution_count": 7,
   "id": "ab2a13f1",
   "metadata": {},
   "outputs": [
    {
     "name": "stdout",
     "output_type": "stream",
     "text": [
      "AdaBoostClassifier            (ScikitLearn)\n",
      "AdaBoostStumpClassifier       (DecisionTree)\n",
      "BaggingClassifier             (ScikitLearn)\n",
      "BayesianLDA                   (MultivariateStats)\n",
      "BayesianLDA                   (ScikitLearn)\n",
      "BayesianQDA                   (ScikitLearn)\n",
      "BayesianSubspaceLDA           (MultivariateStats)\n",
      "ConstantClassifier            (MLJModels)\n",
      "DecisionTreeClassifier        (BetaML)\n",
      "DecisionTreeClassifier        (DecisionTree)\n",
      "DummyClassifier               (ScikitLearn)\n",
      "EvoTreeClassifier             (EvoTrees)\n",
      "ExtraTreesClassifier          (ScikitLearn)\n",
      "GaussianNBClassifier          (NaiveBayes)\n",
      "GaussianNBClassifier          (ScikitLearn)\n",
      "GaussianProcessClassifier     (ScikitLearn)\n",
      "GradientBoostingClassifier    (ScikitLearn)\n",
      "KNNClassifier                 (NearestNeighborModels)\n",
      "KNeighborsClassifier          (ScikitLearn)\n",
      "KernelPerceptronClassifier    (BetaML)\n",
      "LDA                           (MultivariateStats)\n",
      "LGBMClassifier                (LightGBM)\n",
      "LogisticCVClassifier          (ScikitLearn)\n",
      "LogisticClassifier            (MLJLinearModels)\n",
      "LogisticClassifier            (ScikitLearn)\n",
      "MultinomialClassifier         (MLJLinearModels)\n",
      "NeuralNetworkClassifier       (MLJFlux)\n",
      "PegasosClassifier             (BetaML)\n",
      "PerceptronClassifier          (BetaML)\n",
      "ProbabilisticSGDClassifier    (ScikitLearn)\n",
      "RandomForestClassifier        (BetaML)\n",
      "RandomForestClassifier        (DecisionTree)\n",
      "RandomForestClassifier        (ScikitLearn)\n",
      "SubspaceLDA                   (MultivariateStats)\n",
      "XGBoostClassifier             (XGBoost)\n"
     ]
    }
   ],
   "source": [
    "for m in models(matching(X, y))\n",
    "    if m.prediction_type == :probabilistic\n",
    "        println(rpad(m.name, 30), \"($(m.package_name))\")\n",
    "    end\n",
    "end"
   ]
  },
  {
   "cell_type": "markdown",
   "id": "9055af9d",
   "metadata": {},
   "source": [
    "### Loading a model"
   ]
  },
  {
   "cell_type": "markdown",
   "id": "238c247e",
   "metadata": {},
   "source": [
    "Most models are implemented outside of the MLJ ecosystem; you therefore have to load models using the **```@load```** command."
   ]
  },
  {
   "cell_type": "markdown",
   "id": "22ca8145",
   "metadata": {},
   "source": [
    "**Note**: you must have the package from which the model is loaded available in your environment (in this case ```DecisionTree.jl```) otherwise MLJ will not be able to load the model.\n",
    "\n",
    "For instance, let's say you want to fit a K-Nearest Neighbours classifier:"
   ]
  },
  {
   "cell_type": "code",
   "execution_count": 8,
   "id": "28510267",
   "metadata": {},
   "outputs": [
    {
     "name": "stderr",
     "output_type": "stream",
     "text": [
      "┌ Info: For silent loading, specify `verbosity=0`. \n",
      "└ @ Main C:\\Users\\jeffr\\.julia\\packages\\MLJModels\\tMgLW\\src\\loading.jl:168\n"
     ]
    },
    {
     "name": "stdout",
     "output_type": "stream",
     "text": [
      "import MLJScikitLearnInterface ✔\n"
     ]
    },
    {
     "data": {
      "text/plain": [
       "MLJScikitLearnInterface.KNeighborsClassifier"
      ]
     },
     "execution_count": 8,
     "metadata": {},
     "output_type": "execute_result"
    }
   ],
   "source": [
    "knc = @load KNeighborsClassifier"
   ]
  },
  {
   "cell_type": "markdown",
   "id": "2e2d7855",
   "metadata": {},
   "source": [
    "In some cases, there may be several packages offering the same model, for instance ```LinearRegressor``` is offered by both ```GLM.jl``` and ```ScikitLearn.jl``` so you will need to specify the package you would like to use by adding ```pkg=\"ThePackage\"``` in the load command:"
   ]
  },
  {
   "cell_type": "code",
   "execution_count": 9,
   "id": "8fba400f",
   "metadata": {},
   "outputs": [
    {
     "name": "stdout",
     "output_type": "stream",
     "text": [
      "import MLJGLMInterface"
     ]
    },
    {
     "name": "stderr",
     "output_type": "stream",
     "text": [
      "┌ Info: For silent loading, specify `verbosity=0`. \n",
      "└ @ Main C:\\Users\\jeffr\\.julia\\packages\\MLJModels\\tMgLW\\src\\loading.jl:168\n"
     ]
    },
    {
     "name": "stdout",
     "output_type": "stream",
     "text": [
      " ✔\n"
     ]
    },
    {
     "data": {
      "text/plain": [
       "MLJGLMInterface.LinearRegressor"
      ]
     },
     "execution_count": 9,
     "metadata": {},
     "output_type": "execute_result"
    }
   ],
   "source": [
    "linreg = @load LinearRegressor pkg = GLM"
   ]
  }
 ],
 "metadata": {
  "hide_input": false,
  "kernelspec": {
   "display_name": "Julia 1.7.3",
   "language": "julia",
   "name": "julia-1.7"
  },
  "language_info": {
   "file_extension": ".jl",
   "mimetype": "application/julia",
   "name": "julia",
   "version": "1.7.3"
  }
 },
 "nbformat": 4,
 "nbformat_minor": 5
}
