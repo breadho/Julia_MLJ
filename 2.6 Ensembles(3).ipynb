{
 "cells": [
  {
   "cell_type": "markdown",
   "id": "27d89b08",
   "metadata": {},
   "source": [
    "# Getting started"
   ]
  },
  {
   "cell_type": "markdown",
   "id": "8d41dcc3",
   "metadata": {},
   "source": [
    "## Ensembles(3)"
   ]
  },
  {
   "cell_type": "markdown",
   "id": "2b601da6",
   "metadata": {},
   "source": [
    "### Ensemble models - extended tutorial\n",
    "\n",
    "---\n",
    "\n",
    "> https://juliaai.github.io/DataScienceTutorials.jl/getting-started/ensembles-3/\n",
    "> <br> (project folder) https://raw.githubusercontent.com/juliaai/DataScienceTutorials.jl/gh-pages/__generated/A-ensembles-3.tar.gz"
   ]
  },
  {
   "cell_type": "markdown",
   "id": "33318a27",
   "metadata": {},
   "source": [
    "> Definition of composite model type <br>\n",
    "> Application to data\n"
   ]
  },
  {
   "cell_type": "code",
   "execution_count": 1,
   "id": "a48a29c9",
   "metadata": {},
   "outputs": [
    {
     "name": "stderr",
     "output_type": "stream",
     "text": [
      "\u001b[32m\u001b[1m  Activating\u001b[22m\u001b[39m project at `D:\\JULIA\\6_ML_with_Julia\\A-ensembles-3`\n"
     ]
    }
   ],
   "source": [
    "using Pkg; Pkg.activate(\"D:/JULIA/6_ML_with_Julia/A-ensembles-3\"); Pkg.instantiate()"
   ]
  },
  {
   "cell_type": "markdown",
   "id": "0a597cac",
   "metadata": {},
   "source": [
    "### Simple example of a homogeneous ensemble using learning networks\n",
    "\n",
    "---"
   ]
  },
  {
   "cell_type": "markdown",
   "id": "580cd344",
   "metadata": {},
   "source": [
    "In this simple example, no bagging is used, so every atomic model gets the same learned parameters, unless the atomic model training algorithm has randomness, eg, DecisionTree with random subsampling of features at nodes.\n",
    "\n",
    "Note that MLJ has a built in model wrapper called ```EnsembleModel``` for creating bagged ensembles with a few lines of code."
   ]
  },
  {
   "cell_type": "markdown",
   "id": "e281b621",
   "metadata": {},
   "source": [
    "### Definition of composite model type\n",
    "\n",
    "---"
   ]
  },
  {
   "cell_type": "code",
   "execution_count": 2,
   "id": "b0487e58",
   "metadata": {},
   "outputs": [],
   "source": [
    "using MLJ\n",
    "using PyPlot\n",
    "import Statistics"
   ]
  },
  {
   "cell_type": "markdown",
   "id": "38ca2012",
   "metadata": {},
   "source": [
    "Defining the learning network (composite model spec):"
   ]
  },
  {
   "cell_type": "code",
   "execution_count": 3,
   "id": "144c3962",
   "metadata": {},
   "outputs": [
    {
     "name": "stdout",
     "output_type": "stream",
     "text": [
      "import MLJDecisionTreeInterface ✔\n"
     ]
    },
    {
     "name": "stderr",
     "output_type": "stream",
     "text": [
      "┌ Info: For silent loading, specify `verbosity=0`. \n",
      "└ @ Main C:\\Users\\jeffr\\.julia\\packages\\MLJModels\\tMgLW\\src\\loading.jl:168\n"
     ]
    },
    {
     "data": {
      "text/plain": [
       "Base.Generator{UnitRange{Int64}, var\"#1#2\"}(var\"#1#2\"(), 1:100)"
      ]
     },
     "execution_count": 3,
     "metadata": {},
     "output_type": "execute_result"
    }
   ],
   "source": [
    "Xs = source()\n",
    "ys = source()\n",
    "\n",
    "DecisionTreeRegressor = @load DecisionTreeRegressor pkg = DecisionTree\n",
    "atom = DecisionTreeRegressor()\n",
    "\n",
    "machines = (machine(atom, Xs, ys) for i in 1:100)"
   ]
  },
  {
   "cell_type": "markdown",
   "id": "428dad82",
   "metadata": {},
   "source": [
    "Overloading ```mean``` for nodes:"
   ]
  },
  {
   "cell_type": "code",
   "execution_count": 4,
   "id": "138ee970",
   "metadata": {},
   "outputs": [],
   "source": [
    "Statistics.mean(v...) = mean(v)\n",
    "Statistics.mean(v::AbstractVector{<:AbstractNode}) = node(mean, v...)\n",
    "\n",
    "yhat = mean([predict(m, Xs) for m in machines]);"
   ]
  },
  {
   "cell_type": "code",
   "execution_count": 12,
   "id": "e6ca2c2b",
   "metadata": {},
   "outputs": [
    {
     "data": {
      "text/plain": [
       "Node{Nothing}\n",
       "  args:\n",
       "    1:\tNode{Machine{DecisionTreeRegressor,…}}\n",
       "    2:\tNode{Machine{DecisionTreeRegressor,…}}\n",
       "    3:\tNode{Machine{DecisionTreeRegressor,…}}\n",
       "    4:\tNode{Machine{DecisionTreeRegressor,…}}\n",
       "    5:\tNode{Machine{DecisionTreeRegressor,…}}\n",
       "    6:\tNode{Machine{DecisionTreeRegressor,…}}\n",
       "    7:\tNode{Machine{DecisionTreeRegressor,…}}\n",
       "    8:\tNode{Machine{DecisionTreeRegressor,…}}\n",
       "    9:\tNode{Machine{DecisionTreeRegressor,…}}\n",
       "    10:\tNode{Machine{DecisionTreeRegressor,…}}\n",
       "    11:\tNode{Machine{DecisionTreeRegressor,…}}\n",
       "    12:\tNode{Machine{DecisionTreeRegressor,…}}\n",
       "    13:\tNode{Machine{DecisionTreeRegressor,…}}\n",
       "    14:\tNode{Machine{DecisionTreeRegressor,…}}\n",
       "    15:\tNode{Machine{DecisionTreeRegressor,…}}\n",
       "    16:\tNode{Machine{DecisionTreeRegressor,…}}\n",
       "    17:\tNode{Machine{DecisionTreeRegressor,…}}\n",
       "    18:\tNode{Machine{DecisionTreeRegressor,…}}\n",
       "    19:\tNode{Machine{DecisionTreeRegressor,…}}\n",
       "    20:\tNode{Machine{DecisionTreeRegressor,…}}\n",
       "    21:\tNode{Machine{DecisionTreeRegressor,…}}\n",
       "    22:\tNode{Machine{DecisionTreeRegressor,…}}\n",
       "    23:\tNode{Machine{DecisionTreeRegressor,…}}\n",
       "    24:\tNode{Machine{DecisionTreeRegressor,…}}\n",
       "    25:\tNode{Machine{DecisionTreeRegressor,…}}\n",
       "    26:\tNode{Machine{DecisionTreeRegressor,…}}\n",
       "    27:\tNode{Machine{DecisionTreeRegressor,…}}\n",
       "    28:\tNode{Machine{DecisionTreeRegressor,…}}\n",
       "    29:\tNode{Machine{DecisionTreeRegressor,…}}\n",
       "    30:\tNode{Machine{DecisionTreeRegressor,…}}\n",
       "    31:\tNode{Machine{DecisionTreeRegressor,…}}\n",
       "    32:\tNode{Machine{DecisionTreeRegressor,…}}\n",
       "    33:\tNode{Machine{DecisionTreeRegressor,…}}\n",
       "    34:\tNode{Machine{DecisionTreeRegressor,…}}\n",
       "    35:\tNode{Machine{DecisionTreeRegressor,…}}\n",
       "    36:\tNode{Machine{DecisionTreeRegressor,…}}\n",
       "    37:\tNode{Machine{DecisionTreeRegressor,…}}\n",
       "    38:\tNode{Machine{DecisionTreeRegressor,…}}\n",
       "    39:\tNode{Machine{DecisionTreeRegressor,…}}\n",
       "    40:\tNode{Machine{DecisionTreeRegressor,…}}\n",
       "    41:\tNode{Machine{DecisionTreeRegressor,…}}\n",
       "    42:\tNode{Machine{DecisionTreeRegressor,…}}\n",
       "    43:\tNode{Machine{DecisionTreeRegressor,…}}\n",
       "    44:\tNode{Machine{DecisionTreeRegressor,…}}\n",
       "    45:\tNode{Machine{DecisionTreeRegressor,…}}\n",
       "    46:\tNode{Machine{DecisionTreeRegressor,…}}\n",
       "    47:\tNode{Machine{DecisionTreeRegressor,…}}\n",
       "    48:\tNode{Machine{DecisionTreeRegressor,…}}\n",
       "    49:\tNode{Machine{DecisionTreeRegressor,…}}\n",
       "    50:\tNode{Machine{DecisionTreeRegressor,…}}\n",
       "    51:\tNode{Machine{DecisionTreeRegressor,…}}\n",
       "    52:\tNode{Machine{DecisionTreeRegressor,…}}\n",
       "    53:\tNode{Machine{DecisionTreeRegressor,…}}\n",
       "    54:\tNode{Machine{DecisionTreeRegressor,…}}\n",
       "    55:\tNode{Machine{DecisionTreeRegressor,…}}\n",
       "    56:\tNode{Machine{DecisionTreeRegressor,…}}\n",
       "    57:\tNode{Machine{DecisionTreeRegressor,…}}\n",
       "    58:\tNode{Machine{DecisionTreeRegressor,…}}\n",
       "    59:\tNode{Machine{DecisionTreeRegressor,…}}\n",
       "    60:\tNode{Machine{DecisionTreeRegressor,…}}\n",
       "    61:\tNode{Machine{DecisionTreeRegressor,…}}\n",
       "    62:\tNode{Machine{DecisionTreeRegressor,…}}\n",
       "    63:\tNode{Machine{DecisionTreeRegressor,…}}\n",
       "    64:\tNode{Machine{DecisionTreeRegressor,…}}\n",
       "    65:\tNode{Machine{DecisionTreeRegressor,…}}\n",
       "    66:\tNode{Machine{DecisionTreeRegressor,…}}\n",
       "    67:\tNode{Machine{DecisionTreeRegressor,…}}\n",
       "    68:\tNode{Machine{DecisionTreeRegressor,…}}\n",
       "    69:\tNode{Machine{DecisionTreeRegressor,…}}\n",
       "    70:\tNode{Machine{DecisionTreeRegressor,…}}\n",
       "    71:\tNode{Machine{DecisionTreeRegressor,…}}\n",
       "    72:\tNode{Machine{DecisionTreeRegressor,…}}\n",
       "    73:\tNode{Machine{DecisionTreeRegressor,…}}\n",
       "    74:\tNode{Machine{DecisionTreeRegressor,…}}\n",
       "    75:\tNode{Machine{DecisionTreeRegressor,…}}\n",
       "    76:\tNode{Machine{DecisionTreeRegressor,…}}\n",
       "    77:\tNode{Machine{DecisionTreeRegressor,…}}\n",
       "    78:\tNode{Machine{DecisionTreeRegressor,…}}\n",
       "    79:\tNode{Machine{DecisionTreeRegressor,…}}\n",
       "    80:\tNode{Machine{DecisionTreeRegressor,…}}\n",
       "    81:\tNode{Machine{DecisionTreeRegressor,…}}\n",
       "    82:\tNode{Machine{DecisionTreeRegressor,…}}\n",
       "    83:\tNode{Machine{DecisionTreeRegressor,…}}\n",
       "    84:\tNode{Machine{DecisionTreeRegressor,…}}\n",
       "    85:\tNode{Machine{DecisionTreeRegressor,…}}\n",
       "    86:\tNode{Machine{DecisionTreeRegressor,…}}\n",
       "    87:\tNode{Machine{DecisionTreeRegressor,…}}\n",
       "    88:\tNode{Machine{DecisionTreeRegressor,…}}\n",
       "    89:\tNode{Machine{DecisionTreeRegressor,…}}\n",
       "    90:\tNode{Machine{DecisionTreeRegressor,…}}\n",
       "    91:\tNode{Machine{DecisionTreeRegressor,…}}\n",
       "    92:\tNode{Machine{DecisionTreeRegressor,…}}\n",
       "    93:\tNode{Machine{DecisionTreeRegressor,…}}\n",
       "    94:\tNode{Machine{DecisionTreeRegressor,…}}\n",
       "    95:\tNode{Machine{DecisionTreeRegressor,…}}\n",
       "    96:\tNode{Machine{DecisionTreeRegressor,…}}\n",
       "    97:\tNode{Machine{DecisionTreeRegressor,…}}\n",
       "    98:\tNode{Machine{DecisionTreeRegressor,…}}\n",
       "    99:\tNode{Machine{DecisionTreeRegressor,…}}\n",
       "    100:\tNode{Machine{DecisionTreeRegressor,…}}\n",
       "  formula:\n",
       "    mean(\n",
       "        predict(\n",
       "            \u001b[0m\u001b[1mMachine{DecisionTreeRegressor,…}\u001b[22m, \n",
       "            Source @400),\n",
       "        predict(\n",
       "            \u001b[0m\u001b[1mMachine{DecisionTreeRegressor,…}\u001b[22m, \n",
       "            Source @400),\n",
       "        predict(\n",
       "            \u001b[0m\u001b[1mMachine{DecisionTreeRegressor,…}\u001b[22m, \n",
       "            Source @400),\n",
       "        predict(\n",
       "            \u001b[0m\u001b[1mMachine{DecisionTreeRegressor,…}\u001b[22m, \n",
       "            Source @400),\n",
       "        predict(\n",
       "            \u001b[0m\u001b[1mMachine{DecisionTreeRegressor,…}\u001b[22m, \n",
       "            Source @400),\n",
       "        predict(\n",
       "            \u001b[0m\u001b[1mMachine{DecisionTreeRegressor,…}\u001b[22m, \n",
       "            Source @400),\n",
       "        predict(\n",
       "            \u001b[0m\u001b[1mMachine{DecisionTreeRegressor,…}\u001b[22m, \n",
       "            Source @400),\n",
       "        predict(\n",
       "            \u001b[0m\u001b[1mMachine{DecisionTreeRegressor,…}\u001b[22m, \n",
       "            Source @400),\n",
       "        predict(\n",
       "            \u001b[0m\u001b[1mMachine{DecisionTreeRegressor,…}\u001b[22m, \n",
       "            Source @400),\n",
       "        predict(\n",
       "            \u001b[0m\u001b[1mMachine{DecisionTreeRegressor,…}\u001b[22m, \n",
       "            Source @400),\n",
       "        predict(\n",
       "            \u001b[0m\u001b[1mMachine{DecisionTreeRegressor,…}\u001b[22m, \n",
       "            Source @400),\n",
       "        predict(\n",
       "            \u001b[0m\u001b[1mMachine{DecisionTreeRegressor,…}\u001b[22m, \n",
       "            Source @400),\n",
       "        predict(\n",
       "            \u001b[0m\u001b[1mMachine{DecisionTreeRegressor,…}\u001b[22m, \n",
       "            Source @400),\n",
       "        predict(\n",
       "            \u001b[0m\u001b[1mMachine{DecisionTreeRegressor,…}\u001b[22m, \n",
       "            Source @400),\n",
       "        predict(\n",
       "            \u001b[0m\u001b[1mMachine{DecisionTreeRegressor,…}\u001b[22m, \n",
       "            Source @400),\n",
       "        predict(\n",
       "            \u001b[0m\u001b[1mMachine{DecisionTreeRegressor,…}\u001b[22m, \n",
       "            Source @400),\n",
       "        predict(\n",
       "            \u001b[0m\u001b[1mMachine{DecisionTreeRegressor,…}\u001b[22m, \n",
       "            Source @400),\n",
       "        predict(\n",
       "            \u001b[0m\u001b[1mMachine{DecisionTreeRegressor,…}\u001b[22m, \n",
       "            Source @400),\n",
       "        predict(\n",
       "            \u001b[0m\u001b[1mMachine{DecisionTreeRegressor,…}\u001b[22m, \n",
       "            Source @400),\n",
       "        predict(\n",
       "            \u001b[0m\u001b[1mMachine{DecisionTreeRegressor,…}\u001b[22m, \n",
       "            Source @400),\n",
       "        predict(\n",
       "            \u001b[0m\u001b[1mMachine{DecisionTreeRegressor,…}\u001b[22m, \n",
       "            Source @400),\n",
       "        predict(\n",
       "            \u001b[0m\u001b[1mMachine{DecisionTreeRegressor,…}\u001b[22m, \n",
       "            Source @400),\n",
       "        predict(\n",
       "            \u001b[0m\u001b[1mMachine{DecisionTreeRegressor,…}\u001b[22m, \n",
       "            Source @400),\n",
       "        predict(\n",
       "            \u001b[0m\u001b[1mMachine{DecisionTreeRegressor,…}\u001b[22m, \n",
       "            Source @400),\n",
       "        predict(\n",
       "            \u001b[0m\u001b[1mMachine{DecisionTreeRegressor,…}\u001b[22m, \n",
       "            Source @400),\n",
       "        predict(\n",
       "            \u001b[0m\u001b[1mMachine{DecisionTreeRegressor,…}\u001b[22m, \n",
       "            Source @400),\n",
       "        predict(\n",
       "            \u001b[0m\u001b[1mMachine{DecisionTreeRegressor,…}\u001b[22m, \n",
       "            Source @400),\n",
       "        predict(\n",
       "            \u001b[0m\u001b[1mMachine{DecisionTreeRegressor,…}\u001b[22m, \n",
       "            Source @400),\n",
       "        predict(\n",
       "            \u001b[0m\u001b[1mMachine{DecisionTreeRegressor,…}\u001b[22m, \n",
       "            Source @400),\n",
       "        predict(\n",
       "            \u001b[0m\u001b[1mMachine{DecisionTreeRegressor,…}\u001b[22m, \n",
       "            Source @400),\n",
       "        predict(\n",
       "            \u001b[0m\u001b[1mMachine{DecisionTreeRegressor,…}\u001b[22m, \n",
       "            Source @400),\n",
       "        predict(\n",
       "            \u001b[0m\u001b[1mMachine{DecisionTreeRegressor,…}\u001b[22m, \n",
       "            Source @400),\n",
       "        predict(\n",
       "            \u001b[0m\u001b[1mMachine{DecisionTreeRegressor,…}\u001b[22m, \n",
       "            Source @400),\n",
       "        predict(\n",
       "            \u001b[0m\u001b[1mMachine{DecisionTreeRegressor,…}\u001b[22m, \n",
       "            Source @400),\n",
       "        predict(\n",
       "            \u001b[0m\u001b[1mMachine{DecisionTreeRegressor,…}\u001b[22m, \n",
       "            Source @400),\n",
       "        predict(\n",
       "            \u001b[0m\u001b[1mMachine{DecisionTreeRegressor,…}\u001b[22m, \n",
       "            Source @400),\n",
       "        predict(\n",
       "            \u001b[0m\u001b[1mMachine{DecisionTreeRegressor,…}\u001b[22m, \n",
       "            Source @400),\n",
       "        predict(\n",
       "            \u001b[0m\u001b[1mMachine{DecisionTreeRegressor,…}\u001b[22m, \n",
       "            Source @400),\n",
       "        predict(\n",
       "            \u001b[0m\u001b[1mMachine{DecisionTreeRegressor,…}\u001b[22m, \n",
       "            Source @400),\n",
       "        predict(\n",
       "            \u001b[0m\u001b[1mMachine{DecisionTreeRegressor,…}\u001b[22m, \n",
       "            Source @400),\n",
       "        predict(\n",
       "            \u001b[0m\u001b[1mMachine{DecisionTreeRegressor,…}\u001b[22m, \n",
       "            Source @400),\n",
       "        predict(\n",
       "            \u001b[0m\u001b[1mMachine{DecisionTreeRegressor,…}\u001b[22m, \n",
       "            Source @400),\n",
       "        predict(\n",
       "            \u001b[0m\u001b[1mMachine{DecisionTreeRegressor,…}\u001b[22m, \n",
       "            Source @400),\n",
       "        predict(\n",
       "            \u001b[0m\u001b[1mMachine{DecisionTreeRegressor,…}\u001b[22m, \n",
       "            Source @400),\n",
       "        predict(\n",
       "            \u001b[0m\u001b[1mMachine{DecisionTreeRegressor,…}\u001b[22m, \n",
       "            Source @400),\n",
       "        predict(\n",
       "            \u001b[0m\u001b[1mMachine{DecisionTreeRegressor,…}\u001b[22m, \n",
       "            Source @400),\n",
       "        predict(\n",
       "            \u001b[0m\u001b[1mMachine{DecisionTreeRegressor,…}\u001b[22m, \n",
       "            Source @400),\n",
       "        predict(\n",
       "            \u001b[0m\u001b[1mMachine{DecisionTreeRegressor,…}\u001b[22m, \n",
       "            Source @400),\n",
       "        predict(\n",
       "            \u001b[0m\u001b[1mMachine{DecisionTreeRegressor,…}\u001b[22m, \n",
       "            Source @400),\n",
       "        predict(\n",
       "            \u001b[0m\u001b[1mMachine{DecisionTreeRegressor,…}\u001b[22m, \n",
       "            Source @400),\n",
       "        predict(\n",
       "            \u001b[0m\u001b[1mMachine{DecisionTreeRegressor,…}\u001b[22m, \n",
       "            Source @400),\n",
       "        predict(\n",
       "            \u001b[0m\u001b[1mMachine{DecisionTreeRegressor,…}\u001b[22m, \n",
       "            Source @400),\n",
       "        predict(\n",
       "            \u001b[0m\u001b[1mMachine{DecisionTreeRegressor,…}\u001b[22m, \n",
       "            Source @400),\n",
       "        predict(\n",
       "            \u001b[0m\u001b[1mMachine{DecisionTreeRegressor,…}\u001b[22m, \n",
       "            Source @400),\n",
       "        predict(\n",
       "            \u001b[0m\u001b[1mMachine{DecisionTreeRegressor,…}\u001b[22m, \n",
       "            Source @400),\n",
       "        predict(\n",
       "            \u001b[0m\u001b[1mMachine{DecisionTreeRegressor,…}\u001b[22m, \n",
       "            Source @400),\n",
       "        predict(\n",
       "            \u001b[0m\u001b[1mMachine{DecisionTreeRegressor,…}\u001b[22m, \n",
       "            Source @400),\n",
       "        predict(\n",
       "            \u001b[0m\u001b[1mMachine{DecisionTreeRegressor,…}\u001b[22m, \n",
       "            Source @400),\n",
       "        predict(\n",
       "            \u001b[0m\u001b[1mMachine{DecisionTreeRegressor,…}\u001b[22m, \n",
       "            Source @400),\n",
       "        predict(\n",
       "            \u001b[0m\u001b[1mMachine{DecisionTreeRegressor,…}\u001b[22m, \n",
       "            Source @400),\n",
       "        predict(\n",
       "            \u001b[0m\u001b[1mMachine{DecisionTreeRegressor,…}\u001b[22m, \n",
       "            Source @400),\n",
       "        predict(\n",
       "            \u001b[0m\u001b[1mMachine{DecisionTreeRegressor,…}\u001b[22m, \n",
       "            Source @400),\n",
       "        predict(\n",
       "            \u001b[0m\u001b[1mMachine{DecisionTreeRegressor,…}\u001b[22m, \n",
       "            Source @400),\n",
       "        predict(\n",
       "            \u001b[0m\u001b[1mMachine{DecisionTreeRegressor,…}\u001b[22m, \n",
       "            Source @400),\n",
       "        predict(\n",
       "            \u001b[0m\u001b[1mMachine{DecisionTreeRegressor,…}\u001b[22m, \n",
       "            Source @400),\n",
       "        predict(\n",
       "            \u001b[0m\u001b[1mMachine{DecisionTreeRegressor,…}\u001b[22m, \n",
       "            Source @400),\n",
       "        predict(\n",
       "            \u001b[0m\u001b[1mMachine{DecisionTreeRegressor,…}\u001b[22m, \n",
       "            Source @400),\n",
       "        predict(\n",
       "            \u001b[0m\u001b[1mMachine{DecisionTreeRegressor,…}\u001b[22m, \n",
       "            Source @400),\n",
       "        predict(\n",
       "            \u001b[0m\u001b[1mMachine{DecisionTreeRegressor,…}\u001b[22m, \n",
       "            Source @400),\n",
       "        predict(\n",
       "            \u001b[0m\u001b[1mMachine{DecisionTreeRegressor,…}\u001b[22m, \n",
       "            Source @400),\n",
       "        predict(\n",
       "            \u001b[0m\u001b[1mMachine{DecisionTreeRegressor,…}\u001b[22m, \n",
       "            Source @400),\n",
       "        predict(\n",
       "            \u001b[0m\u001b[1mMachine{DecisionTreeRegressor,…}\u001b[22m, \n",
       "            Source @400),\n",
       "        predict(\n",
       "            \u001b[0m\u001b[1mMachine{DecisionTreeRegressor,…}\u001b[22m, \n",
       "            Source @400),\n",
       "        predict(\n",
       "            \u001b[0m\u001b[1mMachine{DecisionTreeRegressor,…}\u001b[22m, \n",
       "            Source @400),\n",
       "        predict(\n",
       "            \u001b[0m\u001b[1mMachine{DecisionTreeRegressor,…}\u001b[22m, \n",
       "            Source @400),\n",
       "        predict(\n",
       "            \u001b[0m\u001b[1mMachine{DecisionTreeRegressor,…}\u001b[22m, \n",
       "            Source @400),\n",
       "        predict(\n",
       "            \u001b[0m\u001b[1mMachine{DecisionTreeRegressor,…}\u001b[22m, \n",
       "            Source @400),\n",
       "        predict(\n",
       "            \u001b[0m\u001b[1mMachine{DecisionTreeRegressor,…}\u001b[22m, \n",
       "            Source @400),\n",
       "        predict(\n",
       "            \u001b[0m\u001b[1mMachine{DecisionTreeRegressor,…}\u001b[22m, \n",
       "            Source @400),\n",
       "        predict(\n",
       "            \u001b[0m\u001b[1mMachine{DecisionTreeRegressor,…}\u001b[22m, \n",
       "            Source @400),\n",
       "        predict(\n",
       "            \u001b[0m\u001b[1mMachine{DecisionTreeRegressor,…}\u001b[22m, \n",
       "            Source @400),\n",
       "        predict(\n",
       "            \u001b[0m\u001b[1mMachine{DecisionTreeRegressor,…}\u001b[22m, \n",
       "            Source @400),\n",
       "        predict(\n",
       "            \u001b[0m\u001b[1mMachine{DecisionTreeRegressor,…}\u001b[22m, \n",
       "            Source @400),\n",
       "        predict(\n",
       "            \u001b[0m\u001b[1mMachine{DecisionTreeRegressor,…}\u001b[22m, \n",
       "            Source @400),\n",
       "        predict(\n",
       "            \u001b[0m\u001b[1mMachine{DecisionTreeRegressor,…}\u001b[22m, \n",
       "            Source @400),\n",
       "        predict(\n",
       "            \u001b[0m\u001b[1mMachine{DecisionTreeRegressor,…}\u001b[22m, \n",
       "            Source @400),\n",
       "        predict(\n",
       "            \u001b[0m\u001b[1mMachine{DecisionTreeRegressor,…}\u001b[22m, \n",
       "            Source @400),\n",
       "        predict(\n",
       "            \u001b[0m\u001b[1mMachine{DecisionTreeRegressor,…}\u001b[22m, \n",
       "            Source @400),\n",
       "        predict(\n",
       "            \u001b[0m\u001b[1mMachine{DecisionTreeRegressor,…}\u001b[22m, \n",
       "            Source @400),\n",
       "        predict(\n",
       "            \u001b[0m\u001b[1mMachine{DecisionTreeRegressor,…}\u001b[22m, \n",
       "            Source @400),\n",
       "        predict(\n",
       "            \u001b[0m\u001b[1mMachine{DecisionTreeRegressor,…}\u001b[22m, \n",
       "            Source @400),\n",
       "        predict(\n",
       "            \u001b[0m\u001b[1mMachine{DecisionTreeRegressor,…}\u001b[22m, \n",
       "            Source @400),\n",
       "        predict(\n",
       "            \u001b[0m\u001b[1mMachine{DecisionTreeRegressor,…}\u001b[22m, \n",
       "            Source @400),\n",
       "        predict(\n",
       "            \u001b[0m\u001b[1mMachine{DecisionTreeRegressor,…}\u001b[22m, \n",
       "            Source @400),\n",
       "        predict(\n",
       "            \u001b[0m\u001b[1mMachine{DecisionTreeRegressor,…}\u001b[22m, \n",
       "            Source @400),\n",
       "        predict(\n",
       "            \u001b[0m\u001b[1mMachine{DecisionTreeRegressor,…}\u001b[22m, \n",
       "            Source @400),\n",
       "        predict(\n",
       "            \u001b[0m\u001b[1mMachine{DecisionTreeRegressor,…}\u001b[22m, \n",
       "            Source @400),\n",
       "        predict(\n",
       "            \u001b[0m\u001b[1mMachine{DecisionTreeRegressor,…}\u001b[22m, \n",
       "            Source @400),\n",
       "        predict(\n",
       "            \u001b[0m\u001b[1mMachine{DecisionTreeRegressor,…}\u001b[22m, \n",
       "            Source @400),\n",
       "        predict(\n",
       "            \u001b[0m\u001b[1mMachine{DecisionTreeRegressor,…}\u001b[22m, \n",
       "            Source @400))"
      ]
     },
     "execution_count": 12,
     "metadata": {},
     "output_type": "execute_result"
    }
   ],
   "source": [
    "yhat"
   ]
  },
  {
   "cell_type": "markdown",
   "id": "da81c00e",
   "metadata": {},
   "source": [
    "Defining the new composite model type and instance:"
   ]
  },
  {
   "cell_type": "code",
   "execution_count": 5,
   "id": "9453bf4a",
   "metadata": {},
   "outputs": [
    {
     "data": {
      "text/plain": [
       "Machine{DeterministicSurrogate,…} trained 0 times; does not cache data\n",
       "  model: DeterministicSurrogate\n",
       "  args: \n",
       "    1:\tSource @400 ⏎ `Nothing`\n",
       "    2:\tSource @782 ⏎ `Nothing`\n"
      ]
     },
     "execution_count": 5,
     "metadata": {},
     "output_type": "execute_result"
    }
   ],
   "source": [
    "surrogate = Deterministic()\n",
    "mach = machine(surrogate, Xs, ys; predict = yhat)"
   ]
  },
  {
   "cell_type": "code",
   "execution_count": 6,
   "id": "d23b3233",
   "metadata": {},
   "outputs": [
    {
     "data": {
      "text/plain": [
       "OneHundredModels(\n",
       "    atom = DecisionTreeRegressor(\n",
       "            max_depth = -1,\n",
       "            min_samples_leaf = 5,\n",
       "            min_samples_split = 2,\n",
       "            min_purity_increase = 0.0,\n",
       "            n_subfeatures = 0,\n",
       "            post_prune = false,\n",
       "            merge_purity_threshold = 1.0,\n",
       "            rng = Random._GLOBAL_RNG()))"
      ]
     },
     "execution_count": 6,
     "metadata": {},
     "output_type": "execute_result"
    }
   ],
   "source": [
    "@from_network mach begin\n",
    "    mutable struct OneHundredModels\n",
    "        atom = atom\n",
    "    end\n",
    "end\n",
    "\n",
    "one_hundred_models = OneHundredModels()"
   ]
  },
  {
   "cell_type": "markdown",
   "id": "ea3decfe",
   "metadata": {},
   "source": [
    "### Application to data\n",
    "---"
   ]
  },
  {
   "cell_type": "code",
   "execution_count": 7,
   "id": "39a2823f",
   "metadata": {},
   "outputs": [],
   "source": [
    "X, y = @load_boston;"
   ]
  },
  {
   "cell_type": "markdown",
   "id": "96339e04",
   "metadata": {},
   "source": [
    "tune regularization parameter for a single tree:"
   ]
  },
  {
   "cell_type": "code",
   "execution_count": 8,
   "id": "582b8d20",
   "metadata": {},
   "outputs": [
    {
     "data": {
      "text/plain": [
       "Machine{DecisionTreeRegressor,…} trained 0 times; caches data\n",
       "  model: MLJDecisionTreeInterface.DecisionTreeRegressor\n",
       "  args: \n",
       "    1:\tSource @993 ⏎ `Table{AbstractVector{Continuous}}`\n",
       "    2:\tSource @007 ⏎ `AbstractVector{Continuous}`\n"
      ]
     },
     "execution_count": 8,
     "metadata": {},
     "output_type": "execute_result"
    }
   ],
   "source": [
    "r = range(atom,\n",
    "          :min_samples_split,\n",
    "          lower = 2, \n",
    "          upper = 100, \n",
    "          scale = :log)\n",
    "\n",
    "mach = machine(atom, X, y)"
   ]
  },
  {
   "cell_type": "code",
   "execution_count": 9,
   "id": "c44802ca",
   "metadata": {},
   "outputs": [
    {
     "name": "stderr",
     "output_type": "stream",
     "text": [
      "┌ Warning: `vendor()` is deprecated, use `BLAS.get_config()` and inspect the output instead\n",
      "│   caller = npyinitialize() at numpy.jl:67\n",
      "└ @ PyCall C:\\Users\\jeffr\\.julia\\packages\\PyCall\\L0fLP\\src\\numpy.jl:67\n"
     ]
    },
    {
     "data": {
      "image/png": "[encoded data removed]",
      "text/plain": [
       "Figure(PyObject <Figure size 640x480 with 1 Axes>)"
      ]
     },
     "metadata": {},
     "output_type": "display_data"
    }
   ],
   "source": [
    "figure()\n",
    "curve = learning_curve!(mach, \n",
    "                        range = r,\n",
    "                        measure = mav, \n",
    "                        resampling = CV(nfolds = 9),\n",
    "                        verbosity = 0)\n",
    "\n",
    "plot(curve.parameter_values, curve.measurements)\n",
    "xlabel(curve.parameter_name)\n",
    "savefig(\"./plots/2.6.1.png\")"
   ]
  },
  {
   "cell_type": "markdown",
   "id": "b859ee26",
   "metadata": {},
   "source": [
    "tune regularization parameter for all trees in ensemble simultaneously:"
   ]
  },
  {
   "cell_type": "code",
   "execution_count": 10,
   "id": "186e87f1",
   "metadata": {},
   "outputs": [
    {
     "data": {
      "image/png": "[encoded data removed]",
      "text/plain": [
       "Figure(PyObject <Figure size 640x480 with 1 Axes>)"
      ]
     },
     "metadata": {},
     "output_type": "display_data"
    }
   ],
   "source": [
    "r = range(one_hundred_models,\n",
    "          :(atom.min_samples_split),\n",
    "          lower = 2, \n",
    "          upper = 100,\n",
    "          scale =:log)\n",
    "\n",
    "mach = machine(one_hundred_models, X, y)\n",
    "\n",
    "figure()\n",
    "curve = learning_curve!(mach, \n",
    "                        range = r,\n",
    "                        measure = mav,\n",
    "                        resampling = CV(nfolds = 9),\n",
    "                        verbosity = 0)\n",
    "\n",
    "plot(curve.parameter_values, curve.measurements)\n",
    "xlabel(curve.parameter_name)\n",
    "savefig(\"./plots/2.6.2.png\")"
   ]
  }
 ],
 "metadata": {
  "hide_input": false,
  "kernelspec": {
   "display_name": "Julia 1.7.3",
   "language": "julia",
   "name": "julia-1.7"
  },
  "language_info": {
   "file_extension": ".jl",
   "mimetype": "application/julia",
   "name": "julia",
   "version": "1.7.3"
  }
 },
 "nbformat": 4,
 "nbformat_minor": 5
}
