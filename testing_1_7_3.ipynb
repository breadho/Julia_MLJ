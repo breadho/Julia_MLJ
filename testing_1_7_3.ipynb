{
 "cells": [
  {
   "cell_type": "markdown",
   "id": "1d2d63a6-d27f-4ae9-9be3-b8e8c50ffe6f",
   "metadata": {},
   "source": [
    "# Machine learning with MLJ"
   ]
  },
  {
   "cell_type": "markdown",
   "id": "c350dbd7-096b-4ef0-9218-2dfc49218996",
   "metadata": {},
   "source": [
    "> https://juliaai.github.io/DataScienceTutorials.jl/"
   ]
  },
  {
   "cell_type": "markdown",
   "id": "c856effd-9f7f-4c8d-a446-82e449935a8d",
   "metadata": {},
   "source": [
    "# 1. 환경 설정"
   ]
  },
  {
   "cell_type": "markdown",
   "id": "d3ba3806-809f-40ec-a325-c5ce8d457aa1",
   "metadata": {},
   "source": [
    "* 알맞은 버전의 "
   ]
  },
  {
   "cell_type": "code",
   "execution_count": 1,
   "id": "0ab7e1eb-69f6-49ed-93b7-7b151411c858",
   "metadata": {},
   "outputs": [
    {
     "data": {
      "text/plain": [
       "\"D:\\\\JULIA\\\\6_ML_with_Julia\""
      ]
     },
     "execution_count": 1,
     "metadata": {},
     "output_type": "execute_result"
    }
   ],
   "source": [
    "pwd()"
   ]
  },
  {
   "cell_type": "code",
   "execution_count": 2,
   "id": "b4706e7e-75d3-4810-b30f-ac24b8136141",
   "metadata": {},
   "outputs": [
    {
     "name": "stdout",
     "output_type": "stream",
     "text": [
      "Julia Version 1.7.3\n",
      "Commit 742b9abb4d (2022-05-06 12:58 UTC)\n",
      "Platform Info:\n",
      "  OS: Windows (x86_64-w64-mingw32)\n",
      "  CPU: 12th Gen Intel(R) Core(TM) i7-1260P\n",
      "  WORD_SIZE: 64\n",
      "  LIBM: libopenlibm\n",
      "  LLVM: libLLVM-12.0.1 (ORCJIT, goldmont)\n"
     ]
    }
   ],
   "source": [
    "versioninfo()"
   ]
  },
  {
   "cell_type": "code",
   "execution_count": null,
   "id": "5b5c3f69-79b3-4941-92b6-ebbc5fd716a5",
   "metadata": {},
   "outputs": [],
   "source": []
  },
  {
   "cell_type": "code",
   "execution_count": null,
   "id": "c1fd6dd7-40cc-4440-86bb-e5397610c86d",
   "metadata": {},
   "outputs": [],
   "source": []
  },
  {
   "cell_type": "code",
   "execution_count": null,
   "id": "a5267087-bca7-46cb-84e5-f4307340fe6d",
   "metadata": {},
   "outputs": [],
   "source": []
  },
  {
   "cell_type": "code",
   "execution_count": null,
   "id": "fecf839d-e66d-4355-8831-8073caaf79b9",
   "metadata": {},
   "outputs": [],
   "source": []
  },
  {
   "cell_type": "code",
   "execution_count": null,
   "id": "56a1e882-c17c-46de-83d9-a9e6adb793a3",
   "metadata": {},
   "outputs": [],
   "source": []
  },
  {
   "cell_type": "code",
   "execution_count": null,
   "id": "84efb19f-9e73-4b46-bf51-16ceab18886d",
   "metadata": {},
   "outputs": [],
   "source": []
  },
  {
   "cell_type": "code",
   "execution_count": null,
   "id": "d6926b83-0432-4857-b9bc-db749cc008f1",
   "metadata": {},
   "outputs": [],
   "source": []
  },
  {
   "cell_type": "code",
   "execution_count": null,
   "id": "45719b72-c03f-406e-868d-9d2d20b1e3b3",
   "metadata": {},
   "outputs": [],
   "source": []
  },
  {
   "cell_type": "code",
   "execution_count": null,
   "id": "0622a42b-c849-403d-9a5f-cd0c4c2b9afb",
   "metadata": {},
   "outputs": [],
   "source": []
  },
  {
   "cell_type": "code",
   "execution_count": null,
   "id": "970d4814-506e-4013-bd13-37a3225f831f",
   "metadata": {},
   "outputs": [],
   "source": []
  }
 ],
 "metadata": {
  "kernelspec": {
   "display_name": "Julia 1.7.3",
   "language": "julia",
   "name": "julia-1.7"
  },
  "language_info": {
   "file_extension": ".jl",
   "mimetype": "application/julia",
   "name": "julia",
   "version": "1.7.3"
  }
 },
 "nbformat": 4,
 "nbformat_minor": 5
}
