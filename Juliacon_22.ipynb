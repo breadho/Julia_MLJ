{
 "cells": [
  {
   "cell_type": "markdown",
   "id": "8834b08d-3bdb-484e-89ab-4df3b6e73f1a",
   "metadata": {},
   "source": [
    "# Getting started with Julia and Machine Learning\n",
    "## Anthony Blaom & Samuel\n",
    "### JuliaCon 2022"
   ]
  },
  {
   "cell_type": "markdown",
   "id": "1ade4a82-c8fc-4a81-b558-1f400b9096ac",
   "metadata": {},
   "source": [
    "## 1. Basic Julia"
   ]
  },
  {
   "cell_type": "code",
   "execution_count": 1,
   "id": "4241a102-17d2-4a18-b672-9aa08ee2d105",
   "metadata": {},
   "outputs": [
    {
     "data": {
      "text/plain": [
       "\"D:\\\\JULIA\\\\6. ML_with_Julia\""
      ]
     },
     "execution_count": 1,
     "metadata": {},
     "output_type": "execute_result"
    }
   ],
   "source": [
    "pwd()"
   ]
  },
  {
   "cell_type": "code",
   "execution_count": 5,
   "id": "32ce797a-a3f7-4557-beaa-8f88ba1285e8",
   "metadata": {},
   "outputs": [
    {
     "name": "stdout",
     "output_type": "stream",
     "text": [
      "Julia Version 1.8.0\n",
      "Commit 5544a0fab7 (2022-08-17 13:38 UTC)\n",
      "Platform Info:\n",
      "  OS: Windows (x86_64-w64-mingw32)\n",
      "  CPU: 16 × 12th Gen Intel(R) Core(TM) i7-1260P\n",
      "  WORD_SIZE: 64\n",
      "  LIBM: libopenlibm\n",
      "  LLVM: libLLVM-13.0.1 (ORCJIT, goldmont)\n",
      "  Threads: 1 on 16 virtual cores\n"
     ]
    }
   ],
   "source": [
    "versioninfo()"
   ]
  },
  {
   "cell_type": "code",
   "execution_count": 7,
   "id": "07183a4a-6d11-443f-899b-b8e3e69c4462",
   "metadata": {},
   "outputs": [
    {
     "data": {
      "text/plain": [
       "11"
      ]
     },
     "execution_count": 7,
     "metadata": {},
     "output_type": "execute_result"
    }
   ],
   "source": [
    "# calculate\n",
    "5 + 6 "
   ]
  },
  {
   "cell_type": "code",
   "execution_count": 8,
   "id": "552a2b12-8b53-4e9c-a3a3-3372ba06a2fd",
   "metadata": {},
   "outputs": [
    {
     "data": {
      "text/plain": [
       "3.3166247903554"
      ]
     },
     "execution_count": 8,
     "metadata": {},
     "output_type": "execute_result"
    }
   ],
   "source": [
    "sqrt(5 + 6)"
   ]
  },
  {
   "cell_type": "code",
   "execution_count": 9,
   "id": "f981a469-a88b-4d8b-bc68-d904e3bf159c",
   "metadata": {},
   "outputs": [
    {
     "data": {
      "text/plain": [
       "0.0"
      ]
     },
     "execution_count": 9,
     "metadata": {},
     "output_type": "execute_result"
    }
   ],
   "source": [
    "sin(pi)"
   ]
  },
  {
   "cell_type": "code",
   "execution_count": 11,
   "id": "e3f37206-e8b0-40fe-9667-c0162ea7574b",
   "metadata": {},
   "outputs": [
    {
     "name": "stdout",
     "output_type": "stream",
     "text": [
      "search: \u001b[0m\u001b[1ms\u001b[22m\u001b[0m\u001b[1mi\u001b[22m\u001b[0m\u001b[1mn\u001b[22m \u001b[0m\u001b[1ms\u001b[22m\u001b[0m\u001b[1mi\u001b[22m\u001b[0m\u001b[1mn\u001b[22mh \u001b[0m\u001b[1ms\u001b[22m\u001b[0m\u001b[1mi\u001b[22m\u001b[0m\u001b[1mn\u001b[22md \u001b[0m\u001b[1ms\u001b[22m\u001b[0m\u001b[1mi\u001b[22m\u001b[0m\u001b[1mn\u001b[22mc \u001b[0m\u001b[1ms\u001b[22m\u001b[0m\u001b[1mi\u001b[22m\u001b[0m\u001b[1mn\u001b[22mpi \u001b[0m\u001b[1ms\u001b[22m\u001b[0m\u001b[1mi\u001b[22m\u001b[0m\u001b[1mn\u001b[22mcos \u001b[0m\u001b[1ms\u001b[22m\u001b[0m\u001b[1mi\u001b[22m\u001b[0m\u001b[1mn\u001b[22mcosd \u001b[0m\u001b[1ms\u001b[22m\u001b[0m\u001b[1mi\u001b[22m\u001b[0m\u001b[1mn\u001b[22mcospi a\u001b[0m\u001b[1ms\u001b[22m\u001b[0m\u001b[1mi\u001b[22m\u001b[0m\u001b[1mn\u001b[22m u\u001b[0m\u001b[1ms\u001b[22m\u001b[0m\u001b[1mi\u001b[22m\u001b[0m\u001b[1mn\u001b[22mg i\u001b[0m\u001b[1ms\u001b[22m\u001b[0m\u001b[1mi\u001b[22m\u001b[0m\u001b[1mn\u001b[22mf a\u001b[0m\u001b[1ms\u001b[22m\u001b[0m\u001b[1mi\u001b[22m\u001b[0m\u001b[1mn\u001b[22mh\n",
      "\n"
     ]
    },
    {
     "data": {
      "text/latex": [
       "\\begin{verbatim}\n",
       "sin(x)\n",
       "\\end{verbatim}\n",
       "Compute sine of \\texttt{x}, where \\texttt{x} is in radians.\n",
       "\n",
       "See also [\\texttt{sind}], [\\texttt{sinpi}], [\\texttt{sincos}], [\\texttt{cis}].\n",
       "\n",
       "\\rule{\\textwidth}{1pt}\n",
       "\\begin{verbatim}\n",
       "sin(A::AbstractMatrix)\n",
       "\\end{verbatim}\n",
       "Compute the matrix sine of a square matrix \\texttt{A}.\n",
       "\n",
       "If \\texttt{A} is symmetric or Hermitian, its eigendecomposition (\\href{@ref}{\\texttt{eigen}}) is used to compute the sine. Otherwise, the sine is determined by calling \\href{@ref}{\\texttt{exp}}.\n",
       "\n",
       "\\section{Examples}\n",
       "\\begin{verbatim}\n",
       "julia> sin(fill(1.0, (2,2)))\n",
       "2×2 Matrix{Float64}:\n",
       " 0.454649  0.454649\n",
       " 0.454649  0.454649\n",
       "\\end{verbatim}\n"
      ],
      "text/markdown": [
       "```\n",
       "sin(x)\n",
       "```\n",
       "\n",
       "Compute sine of `x`, where `x` is in radians.\n",
       "\n",
       "See also [`sind`], [`sinpi`], [`sincos`], [`cis`].\n",
       "\n",
       "---\n",
       "\n",
       "```\n",
       "sin(A::AbstractMatrix)\n",
       "```\n",
       "\n",
       "Compute the matrix sine of a square matrix `A`.\n",
       "\n",
       "If `A` is symmetric or Hermitian, its eigendecomposition ([`eigen`](@ref)) is used to compute the sine. Otherwise, the sine is determined by calling [`exp`](@ref).\n",
       "\n",
       "# Examples\n",
       "\n",
       "```jldoctest\n",
       "julia> sin(fill(1.0, (2,2)))\n",
       "2×2 Matrix{Float64}:\n",
       " 0.454649  0.454649\n",
       " 0.454649  0.454649\n",
       "```\n"
      ],
      "text/plain": [
       "\u001b[36m  sin(x)\u001b[39m\n",
       "\n",
       "  Compute sine of \u001b[36mx\u001b[39m, where \u001b[36mx\u001b[39m is in radians.\n",
       "\n",
       "  See also [\u001b[36msind\u001b[39m], [\u001b[36msinpi\u001b[39m], [\u001b[36msincos\u001b[39m], [\u001b[36mcis\u001b[39m].\n",
       "\n",
       "  ────────────────────────────────────────────────────────────────────────────\n",
       "\n",
       "\u001b[36m  sin(A::AbstractMatrix)\u001b[39m\n",
       "\n",
       "  Compute the matrix sine of a square matrix \u001b[36mA\u001b[39m.\n",
       "\n",
       "  If \u001b[36mA\u001b[39m is symmetric or Hermitian, its eigendecomposition (\u001b[36meigen\u001b[39m) is used to\n",
       "  compute the sine. Otherwise, the sine is determined by calling \u001b[36mexp\u001b[39m.\n",
       "\n",
       "\u001b[1m  Examples\u001b[22m\n",
       "\u001b[1m  ≡≡≡≡≡≡≡≡≡≡\u001b[22m\n",
       "\n",
       "\u001b[36m  julia> sin(fill(1.0, (2,2)))\u001b[39m\n",
       "\u001b[36m  2×2 Matrix{Float64}:\u001b[39m\n",
       "\u001b[36m   0.454649  0.454649\u001b[39m\n",
       "\u001b[36m   0.454649  0.454649\u001b[39m"
      ]
     },
     "execution_count": 11,
     "metadata": {},
     "output_type": "execute_result"
    }
   ],
   "source": [
    "?sin"
   ]
  },
  {
   "cell_type": "code",
   "execution_count": 12,
   "id": "cd716f07-b34b-47a8-b87c-bf447a86aa65",
   "metadata": {},
   "outputs": [
    {
     "data": {
      "text/plain": [
       "3-element Vector{Int64}:\n",
       " 1\n",
       " 2\n",
       " 3"
      ]
     },
     "execution_count": 12,
     "metadata": {},
     "output_type": "execute_result"
    }
   ],
   "source": [
    "v = [ 1, 2, 3]"
   ]
  },
  {
   "cell_type": "code",
   "execution_count": 13,
   "id": "38b02239-3b12-472f-b4e6-59b9142f9811",
   "metadata": {},
   "outputs": [
    {
     "data": {
      "text/plain": [
       "3"
      ]
     },
     "execution_count": 13,
     "metadata": {},
     "output_type": "execute_result"
    }
   ],
   "source": [
    "length(v)"
   ]
  },
  {
   "cell_type": "code",
   "execution_count": 15,
   "id": "9fbfc9f2-5126-41b3-918c-fdfccc1faa40",
   "metadata": {},
   "outputs": [
    {
     "data": {
      "text/plain": [
       "2"
      ]
     },
     "execution_count": 15,
     "metadata": {},
     "output_type": "execute_result"
    }
   ],
   "source": [
    "v[2]"
   ]
  },
  {
   "cell_type": "code",
   "execution_count": 16,
   "id": "e4239eaf-bae0-4583-a668-6b77b274dace",
   "metadata": {},
   "outputs": [
    {
     "data": {
      "text/plain": [
       "42"
      ]
     },
     "execution_count": 16,
     "metadata": {},
     "output_type": "execute_result"
    }
   ],
   "source": [
    "v[2] = 42"
   ]
  },
  {
   "cell_type": "code",
   "execution_count": 17,
   "id": "9eec5bf7-242a-485c-ba0d-fe18c4e3477b",
   "metadata": {},
   "outputs": [
    {
     "data": {
      "text/plain": [
       "3-element Vector{Int64}:\n",
       "  1\n",
       " 42\n",
       "  3"
      ]
     },
     "execution_count": 17,
     "metadata": {},
     "output_type": "execute_result"
    }
   ],
   "source": [
    "v"
   ]
  },
  {
   "cell_type": "code",
   "execution_count": 18,
   "id": "7e143c3c-3e16-46dc-a807-da7e204f9d51",
   "metadata": {},
   "outputs": [
    {
     "data": {
      "text/plain": [
       "1×3 Matrix{Int64}:\n",
       " 4  5  6"
      ]
     },
     "execution_count": 18,
     "metadata": {},
     "output_type": "execute_result"
    }
   ],
   "source": [
    "row = [ 4 5 6 ]"
   ]
  },
  {
   "cell_type": "code",
   "execution_count": 19,
   "id": "d09e3f51-b0e1-477d-a45d-55e5c07a8d44",
   "metadata": {},
   "outputs": [
    {
     "data": {
      "text/plain": [
       "3×3 Matrix{Int64}:\n",
       " 1  2  3\n",
       " 4  5  6\n",
       " 7  8  9"
      ]
     },
     "execution_count": 19,
     "metadata": {},
     "output_type": "execute_result"
    }
   ],
   "source": [
    "A = [ 1 2 3 \n",
    "    4 5 6 ; 7 8 9]"
   ]
  },
  {
   "cell_type": "code",
   "execution_count": 20,
   "id": "f2ae7228-d9a8-448d-8ab7-f7822325bd0e",
   "metadata": {},
   "outputs": [
    {
     "data": {
      "text/plain": [
       "6"
      ]
     },
     "execution_count": 20,
     "metadata": {},
     "output_type": "execute_result"
    }
   ],
   "source": [
    "A[2, 3]"
   ]
  },
  {
   "cell_type": "code",
   "execution_count": 22,
   "id": "4d9fa760-5732-4ea4-9cd7-751c8a262851",
   "metadata": {},
   "outputs": [
    {
     "data": {
      "text/plain": [
       "9"
      ]
     },
     "execution_count": 22,
     "metadata": {},
     "output_type": "execute_result"
    }
   ],
   "source": [
    "length(A)"
   ]
  },
  {
   "cell_type": "code",
   "execution_count": 23,
   "id": "30c929f9-9491-4b9b-98df-9089b0995938",
   "metadata": {},
   "outputs": [
    {
     "data": {
      "text/plain": [
       "(3, 3)"
      ]
     },
     "execution_count": 23,
     "metadata": {},
     "output_type": "execute_result"
    }
   ],
   "source": [
    "size(A)"
   ]
  },
  {
   "cell_type": "code",
   "execution_count": 24,
   "id": "a278c8cb-d787-40bb-8e8b-6d1a5a225a0f",
   "metadata": {},
   "outputs": [
    {
     "ename": "LoadError",
     "evalue": "LinearAlgebra.SingularException(3)",
     "output_type": "error",
     "traceback": [
      "LinearAlgebra.SingularException(3)",
      "",
      "Stacktrace:",
      " [1] checknonsingular",
      "   @ C:\\Program Files\\JULIA\\Julia-1.8.0\\share\\julia\\stdlib\\v1.8\\LinearAlgebra\\src\\factorization.jl:19 [inlined]",
      " [2] checknonsingular",
      "   @ C:\\Program Files\\JULIA\\Julia-1.8.0\\share\\julia\\stdlib\\v1.8\\LinearAlgebra\\src\\factorization.jl:21 [inlined]",
      " [3] #lu!#172",
      "   @ C:\\Program Files\\JULIA\\Julia-1.8.0\\share\\julia\\stdlib\\v1.8\\LinearAlgebra\\src\\lu.jl:82 [inlined]",
      " [4] #lu#179",
      "   @ C:\\Program Files\\JULIA\\Julia-1.8.0\\share\\julia\\stdlib\\v1.8\\LinearAlgebra\\src\\lu.jl:279 [inlined]",
      " [5] lu (repeats 2 times)",
      "   @ C:\\Program Files\\JULIA\\Julia-1.8.0\\share\\julia\\stdlib\\v1.8\\LinearAlgebra\\src\\lu.jl:278 [inlined]",
      " [6] inv(A::Matrix{Int64})",
      "   @ LinearAlgebra C:\\Program Files\\JULIA\\Julia-1.8.0\\share\\julia\\stdlib\\v1.8\\LinearAlgebra\\src\\dense.jl:893",
      " [7] top-level scope",
      "   @ In[24]:1",
      " [8] eval",
      "   @ .\\boot.jl:368 [inlined]",
      " [9] include_string(mapexpr::typeof(REPL.softscope), mod::Module, code::String, filename::String)",
      "   @ Base .\\loading.jl:1428"
     ]
    }
   ],
   "source": [
    "inv(A)"
   ]
  },
  {
   "cell_type": "code",
   "execution_count": 25,
   "id": "7c1e5263-646a-4e46-ae6d-0b7af4d8327a",
   "metadata": {},
   "outputs": [
    {
     "data": {
      "text/plain": [
       "3×3 Matrix{Float64}:\n",
       " 0.553643  0.124852  0.378498\n",
       " 0.56792   0.227348  0.380484\n",
       " 0.136927  0.768574  0.798599"
      ]
     },
     "execution_count": 25,
     "metadata": {},
     "output_type": "execute_result"
    }
   ],
   "source": [
    "A = rand(3, 3)"
   ]
  },
  {
   "cell_type": "code",
   "execution_count": 26,
   "id": "2da15df5-e0a8-4f00-8901-2efaa4a77bef",
   "metadata": {},
   "outputs": [
    {
     "data": {
      "text/plain": [
       "3×3 Matrix{Float64}:\n",
       " -2.64457   4.56057  -0.919436\n",
       " -9.57553   9.31004   0.102673\n",
       "  9.66894  -9.74196   1.31103"
      ]
     },
     "execution_count": 26,
     "metadata": {},
     "output_type": "execute_result"
    }
   ],
   "source": [
    "inv(A)"
   ]
  },
  {
   "cell_type": "code",
   "execution_count": 27,
   "id": "1c182c7b-d530-47f0-877b-5e139b34b3b2",
   "metadata": {},
   "outputs": [
    {
     "data": {
      "text/plain": [
       "3×3 adjoint(::Matrix{Float64}) with eltype Float64:\n",
       " 0.553643  0.56792   0.136927\n",
       " 0.124852  0.227348  0.768574\n",
       " 0.378498  0.380484  0.798599"
      ]
     },
     "execution_count": 27,
     "metadata": {},
     "output_type": "execute_result"
    }
   ],
   "source": [
    "A'"
   ]
  },
  {
   "cell_type": "code",
   "execution_count": 28,
   "id": "8c1e94c1-098a-4f6c-9e13-d4b509cb421d",
   "metadata": {},
   "outputs": [],
   "source": [
    "using LinearAlgebra"
   ]
  },
  {
   "cell_type": "code",
   "execution_count": 29,
   "id": "dc56d9b8-ccca-40e2-b391-aadce4d4d2f8",
   "metadata": {},
   "outputs": [
    {
     "data": {
      "text/plain": [
       "SVD{Float64, Float64, Matrix{Float64}, Vector{Float64}}\n",
       "U factor:\n",
       "3×3 Matrix{Float64}:\n",
       " -0.428396  -0.575431  -0.696675\n",
       " -0.475665  -0.511918   0.715321\n",
       " -0.768258   0.637824  -0.0544086\n",
       "singular values:\n",
       "3-element Vector{Float64}:\n",
       " 1.3623544627899684\n",
       " 0.6107571610299938\n",
       " 0.050385059023472074\n",
       "Vt factor:\n",
       "3×3 Matrix{Float64}:\n",
       " -0.449599  -0.552052  -0.702211\n",
       " -0.854638   0.494448   0.158476\n",
       "  0.25972    0.671387  -0.694108"
      ]
     },
     "execution_count": 29,
     "metadata": {},
     "output_type": "execute_result"
    }
   ],
   "source": [
    "svd(A)"
   ]
  },
  {
   "cell_type": "code",
   "execution_count": 30,
   "id": "094102d3-4e5b-4024-b802-acf5f9a72abe",
   "metadata": {},
   "outputs": [
    {
     "data": {
      "text/plain": [
       "3.0"
      ]
     },
     "execution_count": 30,
     "metadata": {},
     "output_type": "execute_result"
    }
   ],
   "source": [
    "sqrt(9)"
   ]
  },
  {
   "cell_type": "code",
   "execution_count": 31,
   "id": "e2617077-5463-4ee5-815e-0b498b09be2b",
   "metadata": {},
   "outputs": [
    {
     "data": {
      "text/plain": [
       "true"
      ]
     },
     "execution_count": 31,
     "metadata": {},
     "output_type": "execute_result"
    }
   ],
   "source": [
    "3 == 3.0"
   ]
  },
  {
   "cell_type": "code",
   "execution_count": 32,
   "id": "09a42123-8261-426d-9b2f-a4d976d337b1",
   "metadata": {},
   "outputs": [
    {
     "data": {
      "text/plain": [
       "false"
      ]
     },
     "execution_count": 32,
     "metadata": {},
     "output_type": "execute_result"
    }
   ],
   "source": [
    "3 === 3.0"
   ]
  },
  {
   "cell_type": "code",
   "execution_count": 33,
   "id": "4a8ce91a-9d7d-4003-a4ca-75065b218894",
   "metadata": {},
   "outputs": [
    {
     "data": {
      "text/plain": [
       "3-element Vector{Int64}:\n",
       " 1\n",
       " 3\n",
       " 5"
      ]
     },
     "execution_count": 33,
     "metadata": {},
     "output_type": "execute_result"
    }
   ],
   "source": [
    "u = [1, 3, 5]"
   ]
  },
  {
   "cell_type": "code",
   "execution_count": 34,
   "id": "9dc254b7-1038-4d12-80a4-c27347c8d4e0",
   "metadata": {},
   "outputs": [
    {
     "data": {
      "text/plain": [
       "3-element Vector{Int64}:\n",
       " 1\n",
       " 3\n",
       " 5"
      ]
     },
     "execution_count": 34,
     "metadata": {},
     "output_type": "execute_result"
    }
   ],
   "source": [
    "w = u"
   ]
  },
  {
   "cell_type": "code",
   "execution_count": 35,
   "id": "644a584a-a107-43ca-980f-c1810d8aaac7",
   "metadata": {},
   "outputs": [
    {
     "data": {
      "text/plain": [
       "42"
      ]
     },
     "execution_count": 35,
     "metadata": {},
     "output_type": "execute_result"
    }
   ],
   "source": [
    "u[2] = 42"
   ]
  },
  {
   "cell_type": "code",
   "execution_count": 36,
   "id": "397b7bb3-1b2e-44e5-b658-52bcbafe338b",
   "metadata": {},
   "outputs": [
    {
     "data": {
      "text/plain": [
       "3-element Vector{Int64}:\n",
       "  1\n",
       " 42\n",
       "  5"
      ]
     },
     "execution_count": 36,
     "metadata": {},
     "output_type": "execute_result"
    }
   ],
   "source": [
    "w"
   ]
  },
  {
   "cell_type": "code",
   "execution_count": 37,
   "id": "ec99072f-9648-4036-8e1f-ef36a54bb339",
   "metadata": {},
   "outputs": [
    {
     "data": {
      "text/plain": [
       "(1, 5.7, \"cat\")"
      ]
     },
     "execution_count": 37,
     "metadata": {},
     "output_type": "execute_result"
    }
   ],
   "source": [
    "t1 = (1, 5.7, \"cat\")"
   ]
  },
  {
   "cell_type": "code",
   "execution_count": 38,
   "id": "7b0dcffa-8ade-406e-b4ed-115b6d010002",
   "metadata": {},
   "outputs": [
    {
     "data": {
      "text/plain": [
       "\"cat\""
      ]
     },
     "execution_count": 38,
     "metadata": {},
     "output_type": "execute_result"
    }
   ],
   "source": [
    "t1[3]"
   ]
  },
  {
   "cell_type": "code",
   "execution_count": 39,
   "id": "56462ba2-7e9d-420f-8737-9d93f8109b8b",
   "metadata": {},
   "outputs": [
    {
     "ename": "LoadError",
     "evalue": "MethodError: no method matching setindex!(::Tuple{Int64, Float64, String}, ::String, ::Int64)",
     "output_type": "error",
     "traceback": [
      "MethodError: no method matching setindex!(::Tuple{Int64, Float64, String}, ::String, ::Int64)",
      "",
      "Stacktrace:",
      " [1] top-level scope",
      "   @ In[39]:1",
      " [2] eval",
      "   @ .\\boot.jl:368 [inlined]",
      " [3] include_string(mapexpr::typeof(REPL.softscope), mod::Module, code::String, filename::String)",
      "   @ Base .\\loading.jl:1428"
     ]
    }
   ],
   "source": [
    "t1[3] = \"dog\""
   ]
  },
  {
   "cell_type": "code",
   "execution_count": 40,
   "id": "cd2a0eef-9876-41b5-bb88-dcfcf617b550",
   "metadata": {},
   "outputs": [
    {
     "data": {
      "text/plain": [
       "(x = 1, y = 5.7, z = \"cat\")"
      ]
     },
     "execution_count": 40,
     "metadata": {},
     "output_type": "execute_result"
    }
   ],
   "source": [
    "t1 = (x = 1, y = 5.7, z = \"cat\")"
   ]
  },
  {
   "cell_type": "code",
   "execution_count": 41,
   "id": "da6646b2-ae79-4ce7-bea6-90b964f96519",
   "metadata": {},
   "outputs": [
    {
     "data": {
      "text/plain": [
       "1"
      ]
     },
     "execution_count": 41,
     "metadata": {},
     "output_type": "execute_result"
    }
   ],
   "source": [
    "t1.x"
   ]
  },
  {
   "cell_type": "code",
   "execution_count": 42,
   "id": "1b3ad692-3d27-4dde-ba42-43280afcf650",
   "metadata": {},
   "outputs": [
    {
     "data": {
      "text/plain": [
       "\"cat\""
      ]
     },
     "execution_count": 42,
     "metadata": {},
     "output_type": "execute_result"
    }
   ],
   "source": [
    "astring = \"cat\""
   ]
  },
  {
   "cell_type": "code",
   "execution_count": 43,
   "id": "884a5cfc-5b2f-4fe6-9ebe-bb228bbdc359",
   "metadata": {},
   "outputs": [
    {
     "data": {
      "text/plain": [
       "'t': ASCII/Unicode U+0074 (category Ll: Letter, lowercase)"
      ]
     },
     "execution_count": 43,
     "metadata": {},
     "output_type": "execute_result"
    }
   ],
   "source": [
    "astring[3]"
   ]
  },
  {
   "cell_type": "code",
   "execution_count": 44,
   "id": "f571f7f7-c5f3-4654-8a92-b418fe5cd31b",
   "metadata": {},
   "outputs": [
    {
     "data": {
      "text/plain": [
       "'c': ASCII/Unicode U+0063 (category Ll: Letter, lowercase)"
      ]
     },
     "execution_count": 44,
     "metadata": {},
     "output_type": "execute_result"
    }
   ],
   "source": [
    "achar = 'c'"
   ]
  },
  {
   "cell_type": "code",
   "execution_count": 45,
   "id": "fa689faf-eb7c-477e-891a-1b6b4b6ab15b",
   "metadata": {},
   "outputs": [
    {
     "data": {
      "text/plain": [
       ":cat"
      ]
     },
     "execution_count": 45,
     "metadata": {},
     "output_type": "execute_result"
    }
   ],
   "source": [
    "asymbol = :cat"
   ]
  },
  {
   "cell_type": "code",
   "execution_count": 46,
   "id": "edf19513-d993-4ac4-afee-4a61bddff484",
   "metadata": {},
   "outputs": [
    {
     "data": {
      "text/plain": [
       "foo (generic function with 1 method)"
      ]
     },
     "execution_count": 46,
     "metadata": {},
     "output_type": "execute_result"
    }
   ],
   "source": [
    "foo(x) = x^2"
   ]
  },
  {
   "cell_type": "code",
   "execution_count": 47,
   "id": "9ac3008d-f497-46e6-ac24-d051fa6777ea",
   "metadata": {},
   "outputs": [
    {
     "data": {
      "text/plain": [
       "9"
      ]
     },
     "execution_count": 47,
     "metadata": {},
     "output_type": "execute_result"
    }
   ],
   "source": [
    "foo(3)"
   ]
  },
  {
   "cell_type": "code",
   "execution_count": 48,
   "id": "b9dd8876-f6f3-4549-858c-b7461fcee24a",
   "metadata": {},
   "outputs": [
    {
     "data": {
      "text/plain": [
       "#1 (generic function with 1 method)"
      ]
     },
     "execution_count": 48,
     "metadata": {},
     "output_type": "execute_result"
    }
   ],
   "source": [
    "x -> x^2"
   ]
  },
  {
   "cell_type": "code",
   "execution_count": 49,
   "id": "a9bf68d2-e647-4296-80ff-f5549c2e5ca0",
   "metadata": {},
   "outputs": [
    {
     "data": {
      "text/plain": [
       "9"
      ]
     },
     "execution_count": 49,
     "metadata": {},
     "output_type": "execute_result"
    }
   ],
   "source": [
    "3 |> foo"
   ]
  },
  {
   "cell_type": "code",
   "execution_count": 50,
   "id": "7c43c994-5dac-4e0c-a51d-e6754081ee61",
   "metadata": {},
   "outputs": [
    {
     "data": {
      "text/plain": [
       "9"
      ]
     },
     "execution_count": 50,
     "metadata": {},
     "output_type": "execute_result"
    }
   ],
   "source": [
    "3 |> x -> x^2"
   ]
  },
  {
   "cell_type": "code",
   "execution_count": 51,
   "id": "20fe7bf2-8c4c-4f78-908c-8eb583fb6175",
   "metadata": {},
   "outputs": [
    {
     "data": {
      "text/plain": [
       "81"
      ]
     },
     "execution_count": 51,
     "metadata": {},
     "output_type": "execute_result"
    }
   ],
   "source": [
    "3 |> x -> x^2 |> foo"
   ]
  },
  {
   "cell_type": "code",
   "execution_count": 52,
   "id": "e142ffb8-07b8-43c3-978f-6563839bfba2",
   "metadata": {},
   "outputs": [
    {
     "data": {
      "text/plain": [
       "foo2 (generic function with 1 method)"
      ]
     },
     "execution_count": 52,
     "metadata": {},
     "output_type": "execute_result"
    }
   ],
   "source": [
    "function foo2(x)\n",
    "    x = x^3\n",
    "    y = x\n",
    "    w = y\n",
    "    return w\n",
    "end"
   ]
  },
  {
   "cell_type": "code",
   "execution_count": 53,
   "id": "2f3b60a3-6d21-4d4c-8f32-4035d92df0dc",
   "metadata": {},
   "outputs": [
    {
     "data": {
      "text/plain": [
       "8"
      ]
     },
     "execution_count": 53,
     "metadata": {},
     "output_type": "execute_result"
    }
   ],
   "source": [
    "foo2(2)"
   ]
  },
  {
   "cell_type": "code",
   "execution_count": 54,
   "id": "0733dec0-c247-482b-8ba9-dcd973b7a587",
   "metadata": {},
   "outputs": [
    {
     "data": {
      "text/plain": [
       "Any[]"
      ]
     },
     "execution_count": 54,
     "metadata": {},
     "output_type": "execute_result"
    }
   ],
   "source": [
    "squares = [] "
   ]
  },
  {
   "cell_type": "code",
   "execution_count": 55,
   "id": "80167287-bbde-4dd6-a46d-9a4494817987",
   "metadata": {},
   "outputs": [],
   "source": [
    "for x in 1:10\n",
    "    push!(squares, x^2)\n",
    "end"
   ]
  },
  {
   "cell_type": "code",
   "execution_count": 56,
   "id": "275d7156-de5c-4573-b457-16347c379c18",
   "metadata": {},
   "outputs": [
    {
     "data": {
      "text/plain": [
       "10-element Vector{Any}:\n",
       "   1\n",
       "   4\n",
       "   9\n",
       "  16\n",
       "  25\n",
       "  36\n",
       "  49\n",
       "  64\n",
       "  81\n",
       " 100"
      ]
     },
     "execution_count": 56,
     "metadata": {},
     "output_type": "execute_result"
    }
   ],
   "source": [
    "squares"
   ]
  },
  {
   "cell_type": "code",
   "execution_count": 57,
   "id": "19d29456-047f-4699-b66a-e2a99f31336c",
   "metadata": {},
   "outputs": [
    {
     "data": {
      "text/plain": [
       "10-element Vector{Int64}:\n",
       "   1\n",
       "   4\n",
       "   9\n",
       "  16\n",
       "  25\n",
       "  36\n",
       "  49\n",
       "  64\n",
       "  81\n",
       " 100"
      ]
     },
     "execution_count": 57,
     "metadata": {},
     "output_type": "execute_result"
    }
   ],
   "source": [
    "[x^2 for x in 1:10]"
   ]
  },
  {
   "cell_type": "code",
   "execution_count": 58,
   "id": "2e6aa7bc-5990-4df8-8858-dfd982560485",
   "metadata": {},
   "outputs": [
    {
     "data": {
      "text/plain": [
       "10-element Vector{Int64}:\n",
       "   1\n",
       "   4\n",
       "   9\n",
       "  16\n",
       "  25\n",
       "  36\n",
       "  49\n",
       "  64\n",
       "  81\n",
       " 100"
      ]
     },
     "execution_count": 58,
     "metadata": {},
     "output_type": "execute_result"
    }
   ],
   "source": [
    "map(x -> x^2, 1:10)"
   ]
  },
  {
   "cell_type": "code",
   "execution_count": 62,
   "id": "9bad031a-caa1-4131-86d3-81e1c54bb2ef",
   "metadata": {},
   "outputs": [
    {
     "data": {
      "text/plain": [
       "10-element Vector{Int64}:\n",
       "   1\n",
       "   4\n",
       "   9\n",
       "  16\n",
       "  25\n",
       "  36\n",
       "  49\n",
       "  64\n",
       "  81\n",
       " 100"
      ]
     },
     "execution_count": 62,
     "metadata": {},
     "output_type": "execute_result"
    }
   ],
   "source": [
    "(1:10).^2 # perfom operation with element-wise"
   ]
  },
  {
   "cell_type": "code",
   "execution_count": 63,
   "id": "759ffa9a-4544-4676-b4ae-495c550dd252",
   "metadata": {},
   "outputs": [
    {
     "data": {
      "text/plain": [
       "0.6685834289323005"
      ]
     },
     "execution_count": 63,
     "metadata": {},
     "output_type": "execute_result"
    }
   ],
   "source": [
    "rand()"
   ]
  },
  {
   "cell_type": "code",
   "execution_count": 64,
   "id": "6afcb9a4-c772-4079-a884-1fcbeed65f57",
   "metadata": {},
   "outputs": [
    {
     "data": {
      "text/plain": [
       "3×4 Matrix{Float64}:\n",
       " 0.273885  0.385241   0.792252  0.28639\n",
       " 0.64432   0.0197783  0.353029  0.190647\n",
       " 0.667554  0.0166292  0.464048  0.57507"
      ]
     },
     "execution_count": 64,
     "metadata": {},
     "output_type": "execute_result"
    }
   ],
   "source": [
    "rand(3, 4)"
   ]
  },
  {
   "cell_type": "code",
   "execution_count": 65,
   "id": "be67b609-356f-4628-a57f-80ddc9d3386e",
   "metadata": {},
   "outputs": [
    {
     "data": {
      "text/plain": [
       "3×4 Matrix{Float64}:\n",
       " 0.133879  -1.59311   -0.697165  0.275738\n",
       " 0.709255  -1.38227   -0.969661  0.0198106\n",
       " 2.27803    0.778215   0.271902  0.507985"
      ]
     },
     "execution_count": 65,
     "metadata": {},
     "output_type": "execute_result"
    }
   ],
   "source": [
    "randn(3, 4)"
   ]
  },
  {
   "cell_type": "code",
   "execution_count": 66,
   "id": "88b6cbb5-f10d-415b-9b47-135f65d90cc0",
   "metadata": {},
   "outputs": [
    {
     "data": {
      "text/plain": [
       "3-element Vector{Float64}:\n",
       " 0.15991680699954947\n",
       " 0.45374438324573463\n",
       " 0.9646323061998026"
      ]
     },
     "execution_count": 66,
     "metadata": {},
     "output_type": "execute_result"
    }
   ],
   "source": [
    "rand(3)"
   ]
  },
  {
   "cell_type": "code",
   "execution_count": 68,
   "id": "d1b6df12-918e-42f0-ae0c-c92a28f2d932",
   "metadata": {},
   "outputs": [
    {
     "data": {
      "text/plain": [
       "10-element Vector{Char}:\n",
       " 'c': ASCII/Unicode U+0063 (category Ll: Letter, lowercase)\n",
       " 'a': ASCII/Unicode U+0061 (category Ll: Letter, lowercase)\n",
       " 'c': ASCII/Unicode U+0063 (category Ll: Letter, lowercase)\n",
       " 'a': ASCII/Unicode U+0061 (category Ll: Letter, lowercase)\n",
       " 'c': ASCII/Unicode U+0063 (category Ll: Letter, lowercase)\n",
       " 'c': ASCII/Unicode U+0063 (category Ll: Letter, lowercase)\n",
       " 'a': ASCII/Unicode U+0061 (category Ll: Letter, lowercase)\n",
       " 'c': ASCII/Unicode U+0063 (category Ll: Letter, lowercase)\n",
       " 'b': ASCII/Unicode U+0062 (category Ll: Letter, lowercase)\n",
       " 'a': ASCII/Unicode U+0061 (category Ll: Letter, lowercase)"
      ]
     },
     "execution_count": 68,
     "metadata": {},
     "output_type": "execute_result"
    }
   ],
   "source": [
    "rand(['a', 'b', 'c'], 10)"
   ]
  },
  {
   "cell_type": "code",
   "execution_count": 69,
   "id": "f677e21e-51c4-497a-8240-27689bcfa3a7",
   "metadata": {},
   "outputs": [
    {
     "data": {
      "text/plain": [
       "10-element Vector{Char}:\n",
       " '중': Unicode U+C911 (category Lo: Letter, other)\n",
       " '중': Unicode U+C911 (category Lo: Letter, other)\n",
       " '멀': Unicode U+BA40 (category Lo: Letter, other)\n",
       " '멀': Unicode U+BA40 (category Lo: Letter, other)\n",
       " '멀': Unicode U+BA40 (category Lo: Letter, other)\n",
       " '중': Unicode U+C911 (category Lo: Letter, other)\n",
       " '중': Unicode U+C911 (category Lo: Letter, other)\n",
       " '가': Unicode U+AC00 (category Lo: Letter, other)\n",
       " '중': Unicode U+C911 (category Lo: Letter, other)\n",
       " '중': Unicode U+C911 (category Lo: Letter, other)"
      ]
     },
     "execution_count": 69,
     "metadata": {},
     "output_type": "execute_result"
    }
   ],
   "source": [
    "rand(['멀', '가', '중'], 10)"
   ]
  },
  {
   "cell_type": "code",
   "execution_count": 70,
   "id": "776a6a3c-2741-407f-87ee-9c2bac224e6a",
   "metadata": {},
   "outputs": [],
   "source": [
    "using Statistics"
   ]
  },
  {
   "cell_type": "code",
   "execution_count": 71,
   "id": "786e075c-7d7d-4f5f-b524-a48a6069ed39",
   "metadata": {},
   "outputs": [
    {
     "data": {
      "text/plain": [
       "0.4935803308082482"
      ]
     },
     "execution_count": 71,
     "metadata": {},
     "output_type": "execute_result"
    }
   ],
   "source": [
    "mean(rand(100))"
   ]
  },
  {
   "cell_type": "markdown",
   "id": "584634da-04b3-42da-970b-f058d58cafee",
   "metadata": {},
   "source": [
    "**Q&A** \n",
    " - push vs append\n",
    " \n",
    "     - push는 element, append는 vector 단위로 입력함"
   ]
  },
  {
   "cell_type": "code",
   "execution_count": null,
   "id": "872177a0-74e8-4e86-b387-57a18dc4db9b",
   "metadata": {},
   "outputs": [],
   "source": []
  },
  {
   "cell_type": "code",
   "execution_count": null,
   "id": "eca7eb42-d044-463a-bff8-2ff91cf05d56",
   "metadata": {},
   "outputs": [],
   "source": []
  },
  {
   "cell_type": "code",
   "execution_count": null,
   "id": "4683627c-a374-4700-ab1b-9fe570f0cb9a",
   "metadata": {},
   "outputs": [],
   "source": []
  },
  {
   "cell_type": "code",
   "execution_count": null,
   "id": "4593f0ee-a123-4d8d-b556-ffa5d094c550",
   "metadata": {},
   "outputs": [],
   "source": []
  },
  {
   "cell_type": "code",
   "execution_count": null,
   "id": "5f98e209-f949-44cb-bc01-7b7b9c357f39",
   "metadata": {},
   "outputs": [],
   "source": []
  },
  {
   "cell_type": "code",
   "execution_count": null,
   "id": "bbfac5e6-25d4-4459-961e-525b91caf949",
   "metadata": {},
   "outputs": [],
   "source": []
  },
  {
   "cell_type": "code",
   "execution_count": null,
   "id": "251dcaa4-a465-403e-9f2e-00b43a7b420b",
   "metadata": {},
   "outputs": [],
   "source": []
  },
  {
   "cell_type": "code",
   "execution_count": null,
   "id": "75f168bb-c1b6-4371-ba80-30cf82f37f7f",
   "metadata": {},
   "outputs": [],
   "source": []
  },
  {
   "cell_type": "code",
   "execution_count": null,
   "id": "86164b5a-0467-4076-876c-9362f81d382e",
   "metadata": {},
   "outputs": [],
   "source": []
  },
  {
   "cell_type": "code",
   "execution_count": null,
   "id": "71ab3645-afb6-4272-9be6-a5e7652c4e94",
   "metadata": {},
   "outputs": [],
   "source": []
  },
  {
   "cell_type": "code",
   "execution_count": null,
   "id": "094286a6-2440-4249-9749-1589d2241e14",
   "metadata": {},
   "outputs": [],
   "source": []
  },
  {
   "cell_type": "code",
   "execution_count": null,
   "id": "e3f3fe04-90c3-44ae-b6db-85b979fd8290",
   "metadata": {},
   "outputs": [],
   "source": []
  },
  {
   "cell_type": "code",
   "execution_count": null,
   "id": "fc22cca5-6f72-49ce-991f-302d866374cc",
   "metadata": {},
   "outputs": [],
   "source": []
  },
  {
   "cell_type": "code",
   "execution_count": null,
   "id": "ffc613ad-88f0-472b-9c2a-296ec71674b1",
   "metadata": {},
   "outputs": [],
   "source": []
  },
  {
   "cell_type": "code",
   "execution_count": null,
   "id": "865a4d1b-b866-4b6f-aa30-9863b3506bbe",
   "metadata": {},
   "outputs": [],
   "source": []
  },
  {
   "cell_type": "code",
   "execution_count": null,
   "id": "263d5d67-d50a-4e67-a251-583bea11c358",
   "metadata": {},
   "outputs": [],
   "source": []
  },
  {
   "cell_type": "code",
   "execution_count": null,
   "id": "898f3e85-1ea3-4a0c-a56f-f8fb17b49181",
   "metadata": {},
   "outputs": [],
   "source": []
  },
  {
   "cell_type": "code",
   "execution_count": null,
   "id": "43bf2439-26c4-408f-929b-f09193fda7ac",
   "metadata": {},
   "outputs": [],
   "source": []
  }
 ],
 "metadata": {
  "kernelspec": {
   "display_name": "Julia 1.8.0",
   "language": "julia",
   "name": "julia-1.8"
  },
  "language_info": {
   "file_extension": ".jl",
   "mimetype": "application/julia",
   "name": "julia",
   "version": "1.8.0"
  }
 },
 "nbformat": 4,
 "nbformat_minor": 5
}
