{
 "cells": [
  {
   "cell_type": "markdown",
   "id": "50e68ac6",
   "metadata": {},
   "source": [
    "# Getting Started"
   ]
  },
  {
   "cell_type": "markdown",
   "id": "efae3d44",
   "metadata": {},
   "source": [
    "## Ensemble models (2)\n",
    "\n",
    "> (tutorial) https://juliaai.github.io/DataScienceTutorials.jl/getting-started/ensembles-2/\n",
    "> <br> (projcet folder) https://raw.githubusercontent.com/juliaai/DataScienceTutorials.jl/gh-pages/__generated/A-ensembles-2.tar.gz"
   ]
  },
  {
   "cell_type": "code",
   "execution_count": 1,
   "id": "a1e3394c",
   "metadata": {},
   "outputs": [
    {
     "name": "stderr",
     "output_type": "stream",
     "text": [
      "\u001b[32m\u001b[1m  Activating\u001b[22m\u001b[39m project at `D:\\JULIA\\6_ML_with_Julia\\A-ensembles-2`\n"
     ]
    }
   ],
   "source": [
    "using Pkg; Pkg.activate(\"D:/JULIA/6_ML_with_Julia/A-ensembles-2\"); Pkg.instantiate()"
   ]
  },
  {
   "cell_type": "markdown",
   "id": "0aa3a382",
   "metadata": {},
   "source": [
    "> Prelims <br>\n",
    "> Random forest\n",
    "> 1. Tuning\n",
    "> 2. Reporting"
   ]
  },
  {
   "cell_type": "markdown",
   "id": "5ef86b88",
   "metadata": {},
   "source": [
    "### Prelims\n",
    "\n",
    "---"
   ]
  },
  {
   "cell_type": "markdown",
   "id": "ea11894e",
   "metadata": {},
   "source": [
    "This tutorial builds upon the previous ensemble tutorial with a **home-made Random Forest regressor** on the \"boston\" dataset."
   ]
  },
  {
   "cell_type": "code",
   "execution_count": 2,
   "id": "1120512f",
   "metadata": {},
   "outputs": [
    {
     "name": "stdout",
     "output_type": "stream",
     "text": [
      "Summary Stats:\n",
      "Length:         506\n",
      "Missing Count:  0\n",
      "Mean:           22.532806\n",
      "Minimum:        5.000000\n",
      "1st Quartile:   17.025000\n",
      "Median:         21.200000\n",
      "3rd Quartile:   25.000000\n",
      "Maximum:        50.000000\n",
      "Type:           Float64\n"
     ]
    }
   ],
   "source": [
    "using MLJ\n",
    "using PyPlot\n",
    "using PrettyPrinting\n",
    "using StableRNGs\n",
    "import DataFrames: DataFrame, describe\n",
    "\n",
    "X, y = @load_boston\n",
    "sch = schema(X)\n",
    "p = length(sch.names)\n",
    "describe(y) # From DataFrames"
   ]
  },
  {
   "cell_type": "markdown",
   "id": "9cc8fe8e",
   "metadata": {},
   "source": [
    "Let's load the decision tree regressor"
   ]
  },
  {
   "cell_type": "code",
   "execution_count": 3,
   "id": "3168c39a",
   "metadata": {},
   "outputs": [
    {
     "name": "stdout",
     "output_type": "stream",
     "text": [
      "import MLJDecisionTreeInterface ✔\n"
     ]
    },
    {
     "name": "stderr",
     "output_type": "stream",
     "text": [
      "┌ Info: For silent loading, specify `verbosity=0`. \n",
      "└ @ Main C:\\Users\\jeffr\\.julia\\packages\\MLJModels\\tMgLW\\src\\loading.jl:168\n"
     ]
    },
    {
     "data": {
      "text/plain": [
       "MLJDecisionTreeInterface.DecisionTreeRegressor"
      ]
     },
     "execution_count": 3,
     "metadata": {},
     "output_type": "execute_result"
    }
   ],
   "source": [
    "DecisionTreeRegressor = @load DecisionTreeRegressor pkg = DecisionTree"
   ]
  },
  {
   "cell_type": "markdown",
   "id": "d5397f3e",
   "metadata": {},
   "source": [
    "Let's first check the performances of just a single Decision Tree Regressor (DTR for shot):"
   ]
  },
  {
   "cell_type": "code",
   "execution_count": 4,
   "id": "eb80258e",
   "metadata": {},
   "outputs": [
    {
     "data": {
      "text/plain": [
       "PerformanceEvaluation object with these fields:\n",
       "  measure, measurement, operation, per_fold,\n",
       "  per_observation, fitted_params_per_fold,\n",
       "  report_per_fold, train_test_pairs\n",
       "Extract:\n",
       "┌───────────────────────────────────────────────────┬─────────────┬─────────────\n",
       "│\u001b[22m measure                                           \u001b[0m│\u001b[22m measurement \u001b[0m│\u001b[22m operation \u001b[0m ⋯\n",
       "├───────────────────────────────────────────────────┼─────────────┼─────────────\n",
       "│ RootMeanSquaredError()                            │ 7.05        │ predict    ⋯\n",
       "│ RootMeanSquaredLogProportionalError(offset = 1.0) │ 0.327       │ predict    ⋯\n",
       "└───────────────────────────────────────────────────┴─────────────┴─────────────\n",
       "\u001b[36m                                                                1 column omitted\u001b[0m\n"
      ]
     },
     "execution_count": 4,
     "metadata": {},
     "output_type": "execute_result"
    }
   ],
   "source": [
    "tree = machine(DecisionTreeRegressor(), X, y)\n",
    "e = evaluate!(tree, resampling = Holdout(fraction_train = 0.8), measure = [rms, rmslp1])\n",
    "e"
   ]
  },
  {
   "cell_type": "markdown",
   "id": "ca3cbfbe",
   "metadata": {},
   "source": [
    "Note that multiple measures can be reported simultaneously."
   ]
  },
  {
   "cell_type": "markdown",
   "id": "6e85a9f7",
   "metadata": {},
   "source": [
    "### Random forest\n",
    "\n",
    "---"
   ]
  },
  {
   "cell_type": "markdown",
   "id": "48954728",
   "metadata": {},
   "source": [
    "Let's create an ensemble of DTR and fix the number of subfeatures to 3 for now."
   ]
  },
  {
   "cell_type": "code",
   "execution_count": 5,
   "id": "1e9e2765",
   "metadata": {},
   "outputs": [
    {
     "data": {
      "text/plain": [
       "3"
      ]
     },
     "execution_count": 5,
     "metadata": {},
     "output_type": "execute_result"
    }
   ],
   "source": [
    "forest = EnsembleModel(model = DecisionTreeRegressor())\n",
    "forest.model.n_subfeatures = 3"
   ]
  },
  {
   "cell_type": "markdown",
   "id": "839331c8",
   "metadata": {},
   "source": [
    "(Nota Bene: we could have fixed ```n_subfeatures``` in the DTR constructors too)."
   ]
  },
  {
   "cell_type": "markdown",
   "id": "64378494",
   "metadata": {},
   "source": [
    "To get an idea of how many trees are needed, we can follow the evaluation of the error (say the ```rms```) for an increasing number of tree over several sampling round."
   ]
  },
  {
   "cell_type": "code",
   "execution_count": 6,
   "id": "68b0eb72",
   "metadata": {},
   "outputs": [
    {
     "name": "stderr",
     "output_type": "stream",
     "text": [
      "┌ Info: Training Machine{DeterministicTunedModel{Grid,…},…}.\n",
      "└ @ MLJBase C:\\Users\\jeffr\\.julia\\packages\\MLJBase\\MuLnJ\\src\\machines.jl:464\n",
      "┌ Info: Attempting to evaluate 30 models.\n",
      "└ @ MLJTuning C:\\Users\\jeffr\\.julia\\packages\\MLJTuning\\Al9yX\\src\\tuned_models.jl:680\n",
      "\u001b[33mEvaluating over 30 metamodels: 100%[=========================] Time: 0:00:20\u001b[39m\n"
     ]
    },
    {
     "data": {
      "text/plain": [
       "(parameter_name = \"n\",\n",
       " parameter_scale = :linear,\n",
       " parameter_values = [10, 44, 78, 112, 147, 181, 215, 249, 283, 317  …  693, 727, 761, 795, 829, 863, 898, 932, 966, 1000],\n",
       " measurements = [3.3415585467177604, 3.0965990239920864, 3.0904102919885448, 3.1204995519316134, 3.1359716181984005, 3.1454382664588465, 3.1158230496511816, 3.1001639206786407, 3.102237185310257, 3.098269300659861  …  3.0540776134038157, 3.0475941834202547, 3.0461048370218133, 3.0438702110593634, 3.041516871191065, 3.042017618230169, 3.0458905162517844, 3.0501713697389037, 3.0497463894574137, 3.047772615469327],)"
      ]
     },
     "execution_count": 6,
     "metadata": {},
     "output_type": "execute_result"
    }
   ],
   "source": [
    "rng = StableRNG(5123) # for reporducibility\n",
    "m = machine(forest, X, y)\n",
    "r = range(forest, :n, lower = 10, upper = 1000)\n",
    "curves = learning_curve!(m, \n",
    "                        resampling = Holdout(fraction_train = 0.8, rng = rng),\n",
    "                        range = r, \n",
    "                        measure = rms)"
   ]
  },
  {
   "cell_type": "markdown",
   "id": "891aae45",
   "metadata": {},
   "source": [
    "let's plot the curves"
   ]
  },
  {
   "cell_type": "code",
   "execution_count": 7,
   "id": "6fb18eb1",
   "metadata": {},
   "outputs": [
    {
     "name": "stderr",
     "output_type": "stream",
     "text": [
      "┌ Warning: `vendor()` is deprecated, use `BLAS.get_config()` and inspect the output instead\n",
      "│   caller = npyinitialize() at numpy.jl:67\n",
      "└ @ PyCall C:\\Users\\jeffr\\.julia\\packages\\PyCall\\L0fLP\\src\\numpy.jl:67\n"
     ]
    },
    {
     "data": {
      "image/png": "[encoded data removed]",
      "text/plain": [
       "Figure(PyObject <Figure size 800x600 with 1 Axes>)"
      ]
     },
     "metadata": {},
     "output_type": "display_data"
    }
   ],
   "source": [
    "figure(figsize = (8, 6))\n",
    "plot(curves.parameter_values, curves.measurements)\n",
    "ylabel(\"Root Mean Square error\", fontsize = 16)\n",
    "xlabel(\"Number of trees\", fontsize = 16)\n",
    "xticks([10, 100, 250, 500, 750, 1000], fontsize = 14)\n",
    "yticks(fontsize =  14)\n",
    "savefig(\"./plots/2.5.1.png\")"
   ]
  },
  {
   "cell_type": "markdown",
   "id": "4cba3a93",
   "metadata": {},
   "source": [
    "Let's go for 150  trees"
   ]
  },
  {
   "cell_type": "code",
   "execution_count": 8,
   "id": "80f16199",
   "metadata": {},
   "outputs": [],
   "source": [
    "forest.n = 150;"
   ]
  },
  {
   "cell_type": "markdown",
   "id": "1c56387d",
   "metadata": {},
   "source": [
    "### Tunig"
   ]
  },
  {
   "cell_type": "markdown",
   "id": "270bcfbe",
   "metadata": {},
   "source": [
    "As ```forest``` is a composite model, it has nested hyperparameters;"
   ]
  },
  {
   "cell_type": "code",
   "execution_count": 9,
   "id": "e297b05c",
   "metadata": {},
   "outputs": [
    {
     "name": "stdout",
     "output_type": "stream",
     "text": [
      "(model = (max_depth = -1,\n",
      "          min_samples_leaf = 5,\n",
      "          min_samples_split = 2,\n",
      "          min_purity_increase = 0.0,\n",
      "          n_subfeatures = 3,\n",
      "          post_prune = false,\n",
      "          merge_purity_threshold = 1.0,\n",
      "          rng = Random._GLOBAL_RNG()),\n",
      " atomic_weights = [],\n",
      " bagging_fraction = 0.8,\n",
      " rng = Random._GLOBAL_RNG(),\n",
      " n = 150,\n",
      " acceleration = CPU1{Nothing}(nothing),\n",
      " out_of_bag_measure = [])"
     ]
    }
   ],
   "source": [
    "params(forest) |> pprint"
   ]
  },
  {
   "cell_type": "markdown",
   "id": "720c3622",
   "metadata": {},
   "source": [
    "Let's define a range for the number of subfeatures and for the bagging fractions:"
   ]
  },
  {
   "cell_type": "code",
   "execution_count": 10,
   "id": "9d2f64c3",
   "metadata": {},
   "outputs": [
    {
     "data": {
      "text/plain": [
       "NumericRange(0.4 ≤ bagging_fraction ≤ 1.0; origin=0.7, unit=0.3)"
      ]
     },
     "execution_count": 10,
     "metadata": {},
     "output_type": "execute_result"
    }
   ],
   "source": [
    "r_sf = range(forest, :(model.n_subfeatures), lower = 1, upper = 12)\n",
    "r_bf = range(forest, :bagging_fraction, lower = 0.4, upper = 1.0)"
   ]
  },
  {
   "cell_type": "markdown",
   "id": "94f03699",
   "metadata": {},
   "source": [
    "And build a tuned model as usual that we fit on a 80/20 split. We use a low-resolution grid here to make this tutorial faster but you could of course use a finer grid."
   ]
  },
  {
   "cell_type": "code",
   "execution_count": 11,
   "id": "bdab9fed",
   "metadata": {},
   "outputs": [
    {
     "data": {
      "text/plain": [
       "PerformanceEvaluation object with these fields:\n",
       "  measure, measurement, operation, per_fold,\n",
       "  per_observation, fitted_params_per_fold,\n",
       "  report_per_fold, train_test_pairs\n",
       "Extract:\n",
       "┌───────────────────────────────────────────────────┬─────────────┬─────────────\n",
       "│\u001b[22m measure                                           \u001b[0m│\u001b[22m measurement \u001b[0m│\u001b[22m operation \u001b[0m ⋯\n",
       "├───────────────────────────────────────────────────┼─────────────┼─────────────\n",
       "│ RootMeanSquaredError()                            │ 3.97        │ predict    ⋯\n",
       "│ RootMeanSquaredLogProportionalError(offset = 1.0) │ 0.253       │ predict    ⋯\n",
       "└───────────────────────────────────────────────────┴─────────────┴─────────────\n",
       "\u001b[36m                                                                1 column omitted\u001b[0m\n"
      ]
     },
     "execution_count": 11,
     "metadata": {},
     "output_type": "execute_result"
    }
   ],
   "source": [
    "tuned_forest = TunedModel(model = forest, \n",
    "                          tuning = Grid(resolution = 3),\n",
    "                          resampling = CV(nfolds = 6, rng = StableRNG(32)),\n",
    "                          ranges = [r_sf, r_bf],\n",
    "                          measure = rms)\n",
    "\n",
    "m = machine(tuned_forest, X, y)\n",
    "e = evaluate!(m, \n",
    "              resampling = Holdout(fraction_train = 0.8),\n",
    "              measure = [rms, rmslp1])\n",
    "e"
   ]
  },
  {
   "cell_type": "code",
   "execution_count": 12,
   "id": "89f06bd1",
   "metadata": {},
   "outputs": [
    {
     "data": {
      "text/plain": [
       "DeterministicEnsembleModel(\n",
       "    model = DecisionTreeRegressor(\n",
       "            max_depth = -1,\n",
       "            min_samples_leaf = 5,\n",
       "            min_samples_split = 2,\n",
       "            min_purity_increase = 0.0,\n",
       "            n_subfeatures = 6,\n",
       "            post_prune = false,\n",
       "            merge_purity_threshold = 1.0,\n",
       "            rng = Random._GLOBAL_RNG()),\n",
       "    atomic_weights = Float64[],\n",
       "    bagging_fraction = 1.0,\n",
       "    rng = Random._GLOBAL_RNG(),\n",
       "    n = 150,\n",
       "    acceleration = CPU1{Nothing}(nothing),\n",
       "    out_of_bag_measure = Any[])"
      ]
     },
     "execution_count": 12,
     "metadata": {},
     "output_type": "execute_result"
    }
   ],
   "source": [
    "best_forest = fitted_params(m).best_model"
   ]
  },
  {
   "cell_type": "markdown",
   "id": "5fdc2bf0",
   "metadata": {},
   "source": [
    "### Reporting"
   ]
  },
  {
   "cell_type": "markdown",
   "id": "896c9a64",
   "metadata": {},
   "source": [
    "Again, you could show a 2D heatmap of the hyperparameters"
   ]
  },
  {
   "cell_type": "code",
   "execution_count": 13,
   "id": "1243d912",
   "metadata": {},
   "outputs": [
    {
     "data": {
      "image/png": "[encoded data removed]",
      "text/plain": [
       "Figure(PyObject <Figure size 800x600 with 1 Axes>)"
      ]
     },
     "metadata": {},
     "output_type": "display_data"
    }
   ],
   "source": [
    "r = report(m)\n",
    "\n",
    "figure(figsize=(8,6))\n",
    "\n",
    "res = r.plotting\n",
    "\n",
    "vals_sf = res.parameter_values[:, 1]\n",
    "vals_bf = res.parameter_values[:, 2]\n",
    "\n",
    "tricontourf(vals_sf, vals_bf, res.measurements)\n",
    "xticks(1:3:12, fontsize = 12)\n",
    "xlabel(\"Number of sub-features\", fontsize = 14)\n",
    "yticks(0.4:0.2:1, fontsize = 12)\n",
    "ylabel(\"Bagging fraction\", fontsize = 14)\n",
    "savefig(\"./plots/2.5.2.png\")"
   ]
  },
  {
   "cell_type": "markdown",
   "id": "e12fded2",
   "metadata": {},
   "source": [
    "Even though we've only done a very rough search, it seems that around 7 sub-features and a bagging fraction of around ```0.75``` work well."
   ]
  },
  {
   "cell_type": "markdown",
   "id": "99a7528a",
   "metadata": {},
   "source": [
    "Now that the machine ```m``` is trained, you can use it for predictions (implicitly, this will use the best model). For instance we could look at predictions on the whole dataset:"
   ]
  },
  {
   "cell_type": "code",
   "execution_count": 14,
   "id": "b1576556",
   "metadata": {},
   "outputs": [
    {
     "data": {
      "text/plain": [
       "1.0"
      ]
     },
     "execution_count": 14,
     "metadata": {},
     "output_type": "execute_result"
    }
   ],
   "source": [
    "best_forest.bagging_fraction"
   ]
  },
  {
   "cell_type": "code",
   "execution_count": 15,
   "id": "56cbe4f2",
   "metadata": {},
   "outputs": [
    {
     "data": {
      "text/plain": [
       "6"
      ]
     },
     "execution_count": 15,
     "metadata": {},
     "output_type": "execute_result"
    }
   ],
   "source": [
    "best_forest.model.n_subfeatures"
   ]
  },
  {
   "cell_type": "code",
   "execution_count": 16,
   "id": "1f486ec5",
   "metadata": {},
   "outputs": [
    {
     "name": "stdout",
     "output_type": "stream",
     "text": [
      "rms(ŷ, y) = 2.3912899953185565\n"
     ]
    },
    {
     "data": {
      "text/plain": [
       "2.3912899953185565"
      ]
     },
     "execution_count": 16,
     "metadata": {},
     "output_type": "execute_result"
    }
   ],
   "source": [
    "ŷ = predict(m, X)\n",
    "@show rms(ŷ, y)"
   ]
  }
 ],
 "metadata": {
  "hide_input": false,
  "kernelspec": {
   "display_name": "Julia 1.7.3",
   "language": "julia",
   "name": "julia-1.7"
  },
  "language_info": {
   "file_extension": ".jl",
   "mimetype": "application/julia",
   "name": "julia",
   "version": "1.7.3"
  }
 },
 "nbformat": 4,
 "nbformat_minor": 5
}
