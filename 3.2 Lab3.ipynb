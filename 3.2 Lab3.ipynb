{
 "cells": [
  {
   "cell_type": "markdown",
   "id": "f6ebc216",
   "metadata": {},
   "source": [
    "# Intro to Stats Learning"
   ]
  },
  {
   "cell_type": "markdown",
   "id": "3fc7e1a5",
   "metadata": {},
   "source": [
    "## Lab 3 - Linear Regression"
   ]
  },
  {
   "cell_type": "code",
   "execution_count": 1,
   "id": "4df38561",
   "metadata": {},
   "outputs": [
    {
     "name": "stderr",
     "output_type": "stream",
     "text": [
      "\u001b[32m\u001b[1m  Activating\u001b[22m\u001b[39m project at `D:\\JULIA\\6_ML_with_Julia\\ISL-lab-3`\n"
     ]
    }
   ],
   "source": [
    "using Pkg; Pkg.activate(\"D:/JULIA/6_ML_with_Julia/ISL-lab-3\"); Pkg.instantiate()"
   ]
  },
  {
   "cell_type": "markdown",
   "id": "4ff30c1e",
   "metadata": {},
   "source": [
    "> Simple linear regression\n",
    "> <br> Interaction and transformation"
   ]
  },
  {
   "cell_type": "markdown",
   "id": "3c95a035",
   "metadata": {},
   "source": [
    "### Simple linear regression\n",
    "\n",
    "---"
   ]
  },
  {
   "cell_type": "markdown",
   "id": "bed61c1d",
   "metadata": {},
   "source": [
    "```MLJ``` essentially serves as a unified path to many existing Julia packages each of which provides their own functionalities and models, with their own conventions.\n",
    "\n",
    "The simple linear regression demonstrates this. Several packages offer it (beyond just using the backslash operator): here we will use ```MLJLinearModels``` but we could also have used GLM, ```ScikitLearn``` etc.\n",
    "\n",
    "To load the model from a given package use ```@load ModelName pkg=PackageName```"
   ]
  },
  {
   "cell_type": "code",
   "execution_count": 2,
   "id": "d9315f3d",
   "metadata": {},
   "outputs": [
    {
     "name": "stderr",
     "output_type": "stream",
     "text": [
      "┌ Info: For silent loading, specify `verbosity=0`. \n",
      "└ @ Main C:\\Users\\jeffr\\.julia\\packages\\MLJModels\\tMgLW\\src\\loading.jl:168\n"
     ]
    },
    {
     "name": "stdout",
     "output_type": "stream",
     "text": [
      "import MLJLinearModels ✔\n"
     ]
    },
    {
     "data": {
      "text/plain": [
       "MLJLinearModels.LinearRegressor"
      ]
     },
     "execution_count": 2,
     "metadata": {},
     "output_type": "execute_result"
    }
   ],
   "source": [
    "using MLJ\n",
    "\n",
    "LinearRegressor = @load LinearRegressor pkg=MLJLinearModels"
   ]
  },
  {
   "cell_type": "markdown",
   "id": "f5aad2cf",
   "metadata": {},
   "source": [
    "Note: in orderto be able to load this, you **must** have the relevant package in your environment, if you don't, you can always add it(```using Pkg; Pkg.add(\"MLJLinearModels\")```).\n",
    "\n",
    "Let's load the boston data set\n",
    "\n",
    "```R\n",
    "Housing Values in Suburbs of Boston\n",
    "Description\n",
    "The Boston data frame has 506 rows and 14 columns.\n",
    "\n",
    "Usage\n",
    "Boston\n",
    "Format\n",
    "This data frame contains the following columns:\n",
    "\n",
    "crim\n",
    "per capita crime rate by town.\n",
    "\n",
    "zn\n",
    "proportion of residential land zoned for lots over 25,000 sq.ft.\n",
    "\n",
    "indus\n",
    "proportion of non-retail business acres per town.\n",
    "\n",
    "chas\n",
    "Charles River dummy variable (= 1 if tract bounds river; 0 otherwise).\n",
    "\n",
    "nox\n",
    "nitrogen oxides concentration (parts per 10 million).\n",
    "\n",
    "rm\n",
    "average number of rooms per dwelling.\n",
    "\n",
    "age\n",
    "proportion of owner-occupied units built prior to 1940.\n",
    "\n",
    "dis\n",
    "weighted mean of distances to five Boston employment centres.\n",
    "\n",
    "rad\n",
    "index of accessibility to radial highways.\n",
    "\n",
    "tax\n",
    "full-value property-tax rate per $10,000.\n",
    "\n",
    "ptratio\n",
    "pupil-teacher ratio by town.\n",
    "\n",
    "black\n",
    "1000(Bk - 0.63)^21000(Bk−0.63) \n",
    "2\n",
    "  where BkBk is the proportion of blacks by town.\n",
    "\n",
    "lstat\n",
    "lower status of the population (percent).\n",
    "\n",
    "medv\n",
    "median value of owner-occupied homes in $1000s.\n",
    "```"
   ]
  },
  {
   "cell_type": "code",
   "execution_count": 3,
   "id": "96a99606",
   "metadata": {},
   "outputs": [
    {
     "data": {
      "text/html": [
       "<div class=\"data-frame\"><p>3 rows × 14 columns (omitted printing of 4 columns)</p><table class=\"data-frame\"><thead><tr><th></th><th>Crim</th><th>Zn</th><th>Indus</th><th>Chas</th><th>NOx</th><th>Rm</th><th>Age</th><th>Dis</th><th>Rad</th><th>Tax</th></tr><tr><th></th><th title=\"Float64\">Float64</th><th title=\"Float64\">Float64</th><th title=\"Float64\">Float64</th><th title=\"Int64\">Int64</th><th title=\"Float64\">Float64</th><th title=\"Float64\">Float64</th><th title=\"Float64\">Float64</th><th title=\"Float64\">Float64</th><th title=\"Int64\">Int64</th><th title=\"Int64\">Int64</th></tr></thead><tbody><tr><th>1</th><td>0.00632</td><td>18.0</td><td>2.31</td><td>0</td><td>0.538</td><td>6.575</td><td>65.2</td><td>4.09</td><td>1</td><td>296</td></tr><tr><th>2</th><td>0.02731</td><td>0.0</td><td>7.07</td><td>0</td><td>0.469</td><td>6.421</td><td>78.9</td><td>4.9671</td><td>2</td><td>242</td></tr><tr><th>3</th><td>0.02729</td><td>0.0</td><td>7.07</td><td>0</td><td>0.469</td><td>7.185</td><td>61.1</td><td>4.9671</td><td>2</td><td>242</td></tr></tbody></table></div>"
      ],
      "text/latex": [
       "\\begin{tabular}{r|ccccccccccc}\n",
       "\t& Crim & Zn & Indus & Chas & NOx & Rm & Age & Dis & Rad & Tax & \\\\\n",
       "\t\\hline\n",
       "\t& Float64 & Float64 & Float64 & Int64 & Float64 & Float64 & Float64 & Float64 & Int64 & Int64 & \\\\\n",
       "\t\\hline\n",
       "\t1 & 0.00632 & 18.0 & 2.31 & 0 & 0.538 & 6.575 & 65.2 & 4.09 & 1 & 296 & $\\dots$ \\\\\n",
       "\t2 & 0.02731 & 0.0 & 7.07 & 0 & 0.469 & 6.421 & 78.9 & 4.9671 & 2 & 242 & $\\dots$ \\\\\n",
       "\t3 & 0.02729 & 0.0 & 7.07 & 0 & 0.469 & 7.185 & 61.1 & 4.9671 & 2 & 242 & $\\dots$ \\\\\n",
       "\\end{tabular}\n"
      ],
      "text/plain": [
       "\u001b[1m3×14 DataFrame\u001b[0m\n",
       "\u001b[1m Row \u001b[0m│\u001b[1m Crim    \u001b[0m\u001b[1m Zn      \u001b[0m\u001b[1m Indus   \u001b[0m\u001b[1m Chas  \u001b[0m\u001b[1m NOx     \u001b[0m\u001b[1m Rm      \u001b[0m\u001b[1m Age     \u001b[0m\u001b[1m Dis     \u001b[0m\u001b[1m R\u001b[0m ⋯\n",
       "\u001b[1m     \u001b[0m│\u001b[90m Float64 \u001b[0m\u001b[90m Float64 \u001b[0m\u001b[90m Float64 \u001b[0m\u001b[90m Int64 \u001b[0m\u001b[90m Float64 \u001b[0m\u001b[90m Float64 \u001b[0m\u001b[90m Float64 \u001b[0m\u001b[90m Float64 \u001b[0m\u001b[90m I\u001b[0m ⋯\n",
       "─────┼──────────────────────────────────────────────────────────────────────────\n",
       "   1 │ 0.00632     18.0     2.31      0    0.538    6.575     65.2   4.09      ⋯\n",
       "   2 │ 0.02731      0.0     7.07      0    0.469    6.421     78.9   4.9671\n",
       "   3 │ 0.02729      0.0     7.07      0    0.469    7.185     61.1   4.9671\n",
       "\u001b[36m                                                               6 columns omitted\u001b[0m"
      ]
     },
     "execution_count": 3,
     "metadata": {},
     "output_type": "execute_result"
    }
   ],
   "source": [
    "import RDatasets: dataset\n",
    "import DataFrames: describe, select, Not, rename!\n",
    "boston = dataset(\"MASS\", \"Boston\")\n",
    "first(boston, 3)"
   ]
  },
  {
   "cell_type": "markdown",
   "id": "bac8515c",
   "metadata": {},
   "source": [
    "Let's get a feel for the data"
   ]
  },
  {
   "cell_type": "code",
   "execution_count": 4,
   "id": "fed70e70",
   "metadata": {},
   "outputs": [
    {
     "data": {
      "text/html": [
       "<div class=\"data-frame\"><p>14 rows × 4 columns</p><table class=\"data-frame\"><thead><tr><th></th><th>variable</th><th>mean</th><th>std</th><th>eltype</th></tr><tr><th></th><th title=\"Symbol\">Symbol</th><th title=\"Float64\">Float64</th><th title=\"Float64\">Float64</th><th title=\"DataType\">DataType</th></tr></thead><tbody><tr><th>1</th><td>Crim</td><td>3.61352</td><td>8.60155</td><td>Float64</td></tr><tr><th>2</th><td>Zn</td><td>11.3636</td><td>23.3225</td><td>Float64</td></tr><tr><th>3</th><td>Indus</td><td>11.1368</td><td>6.86035</td><td>Float64</td></tr><tr><th>4</th><td>Chas</td><td>0.06917</td><td>0.253994</td><td>Int64</td></tr><tr><th>5</th><td>NOx</td><td>0.554695</td><td>0.115878</td><td>Float64</td></tr><tr><th>6</th><td>Rm</td><td>6.28463</td><td>0.702617</td><td>Float64</td></tr><tr><th>7</th><td>Age</td><td>68.5749</td><td>28.1489</td><td>Float64</td></tr><tr><th>8</th><td>Dis</td><td>3.79504</td><td>2.10571</td><td>Float64</td></tr><tr><th>9</th><td>Rad</td><td>9.54941</td><td>8.70726</td><td>Int64</td></tr><tr><th>10</th><td>Tax</td><td>408.237</td><td>168.537</td><td>Int64</td></tr><tr><th>11</th><td>PTRatio</td><td>18.4555</td><td>2.16495</td><td>Float64</td></tr><tr><th>12</th><td>Black</td><td>356.674</td><td>91.2949</td><td>Float64</td></tr><tr><th>13</th><td>LStat</td><td>12.6531</td><td>7.14106</td><td>Float64</td></tr><tr><th>14</th><td>MedV</td><td>22.5328</td><td>9.1971</td><td>Float64</td></tr></tbody></table></div>"
      ],
      "text/latex": [
       "\\begin{tabular}{r|cccc}\n",
       "\t& variable & mean & std & eltype\\\\\n",
       "\t\\hline\n",
       "\t& Symbol & Float64 & Float64 & DataType\\\\\n",
       "\t\\hline\n",
       "\t1 & Crim & 3.61352 & 8.60155 & Float64 \\\\\n",
       "\t2 & Zn & 11.3636 & 23.3225 & Float64 \\\\\n",
       "\t3 & Indus & 11.1368 & 6.86035 & Float64 \\\\\n",
       "\t4 & Chas & 0.06917 & 0.253994 & Int64 \\\\\n",
       "\t5 & NOx & 0.554695 & 0.115878 & Float64 \\\\\n",
       "\t6 & Rm & 6.28463 & 0.702617 & Float64 \\\\\n",
       "\t7 & Age & 68.5749 & 28.1489 & Float64 \\\\\n",
       "\t8 & Dis & 3.79504 & 2.10571 & Float64 \\\\\n",
       "\t9 & Rad & 9.54941 & 8.70726 & Int64 \\\\\n",
       "\t10 & Tax & 408.237 & 168.537 & Int64 \\\\\n",
       "\t11 & PTRatio & 18.4555 & 2.16495 & Float64 \\\\\n",
       "\t12 & Black & 356.674 & 91.2949 & Float64 \\\\\n",
       "\t13 & LStat & 12.6531 & 7.14106 & Float64 \\\\\n",
       "\t14 & MedV & 22.5328 & 9.1971 & Float64 \\\\\n",
       "\\end{tabular}\n"
      ],
      "text/plain": [
       "\u001b[1m14×4 DataFrame\u001b[0m\n",
       "\u001b[1m Row \u001b[0m│\u001b[1m variable \u001b[0m\u001b[1m mean       \u001b[0m\u001b[1m std        \u001b[0m\u001b[1m eltype   \u001b[0m\n",
       "\u001b[1m     \u001b[0m│\u001b[90m Symbol   \u001b[0m\u001b[90m Float64    \u001b[0m\u001b[90m Float64    \u001b[0m\u001b[90m DataType \u001b[0m\n",
       "─────┼────────────────────────────────────────────\n",
       "   1 │ Crim        3.61352     8.60155   Float64\n",
       "   2 │ Zn         11.3636     23.3225    Float64\n",
       "   3 │ Indus      11.1368      6.86035   Float64\n",
       "   4 │ Chas        0.06917     0.253994  Int64\n",
       "   5 │ NOx         0.554695    0.115878  Float64\n",
       "   6 │ Rm          6.28463     0.702617  Float64\n",
       "   7 │ Age        68.5749     28.1489    Float64\n",
       "   8 │ Dis         3.79504     2.10571   Float64\n",
       "   9 │ Rad         9.54941     8.70726   Int64\n",
       "  10 │ Tax       408.237     168.537     Int64\n",
       "  11 │ PTRatio    18.4555      2.16495   Float64\n",
       "  12 │ Black     356.674      91.2949    Float64\n",
       "  13 │ LStat      12.6531      7.14106   Float64\n",
       "  14 │ MedV       22.5328      9.1971    Float64"
      ]
     },
     "execution_count": 4,
     "metadata": {},
     "output_type": "execute_result"
    }
   ],
   "source": [
    "describe(boston, :mean, :std, :eltype)"
   ]
  },
  {
   "cell_type": "markdown",
   "id": "7371f402",
   "metadata": {},
   "source": [
    "So there's no missing value and most variables are encoded as floating point numbers. In MLJ it's important to specify the interpretation of the features (should it be considered as a Continuous feature, as a Count, ...?), see also this tutorial section on scientific types.\n",
    "\n",
    "Here we will just interpret the integer features as continuous as we will just use a basic linear regression:"
   ]
  },
  {
   "cell_type": "code",
   "execution_count": 5,
   "id": "768c093d",
   "metadata": {},
   "outputs": [],
   "source": [
    "data = coerce(boston, autotype(boston, :discrete_to_continuous));"
   ]
  },
  {
   "cell_type": "code",
   "execution_count": 6,
   "id": "30374b59",
   "metadata": {},
   "outputs": [
    {
     "data": {
      "text/html": [
       "<div class=\"data-frame\"><p>14 rows × 7 columns</p><table class=\"data-frame\"><thead><tr><th></th><th>variable</th><th>mean</th><th>min</th><th>median</th><th>max</th><th>nmissing</th><th>eltype</th></tr><tr><th></th><th title=\"Symbol\">Symbol</th><th title=\"Float64\">Float64</th><th title=\"Float64\">Float64</th><th title=\"Float64\">Float64</th><th title=\"Float64\">Float64</th><th title=\"Int64\">Int64</th><th title=\"DataType\">DataType</th></tr></thead><tbody><tr><th>1</th><td>Crim</td><td>3.61352</td><td>0.00632</td><td>0.25651</td><td>88.9762</td><td>0</td><td>Float64</td></tr><tr><th>2</th><td>Zn</td><td>11.3636</td><td>0.0</td><td>0.0</td><td>100.0</td><td>0</td><td>Float64</td></tr><tr><th>3</th><td>Indus</td><td>11.1368</td><td>0.46</td><td>9.69</td><td>27.74</td><td>0</td><td>Float64</td></tr><tr><th>4</th><td>Chas</td><td>0.06917</td><td>0.0</td><td>0.0</td><td>1.0</td><td>0</td><td>Float64</td></tr><tr><th>5</th><td>NOx</td><td>0.554695</td><td>0.385</td><td>0.538</td><td>0.871</td><td>0</td><td>Float64</td></tr><tr><th>6</th><td>Rm</td><td>6.28463</td><td>3.561</td><td>6.2085</td><td>8.78</td><td>0</td><td>Float64</td></tr><tr><th>7</th><td>Age</td><td>68.5749</td><td>2.9</td><td>77.5</td><td>100.0</td><td>0</td><td>Float64</td></tr><tr><th>8</th><td>Dis</td><td>3.79504</td><td>1.1296</td><td>3.20745</td><td>12.1265</td><td>0</td><td>Float64</td></tr><tr><th>9</th><td>Rad</td><td>9.54941</td><td>1.0</td><td>5.0</td><td>24.0</td><td>0</td><td>Float64</td></tr><tr><th>10</th><td>Tax</td><td>408.237</td><td>187.0</td><td>330.0</td><td>711.0</td><td>0</td><td>Float64</td></tr><tr><th>11</th><td>PTRatio</td><td>18.4555</td><td>12.6</td><td>19.05</td><td>22.0</td><td>0</td><td>Float64</td></tr><tr><th>12</th><td>Black</td><td>356.674</td><td>0.32</td><td>391.44</td><td>396.9</td><td>0</td><td>Float64</td></tr><tr><th>13</th><td>LStat</td><td>12.6531</td><td>1.73</td><td>11.36</td><td>37.97</td><td>0</td><td>Float64</td></tr><tr><th>14</th><td>MedV</td><td>22.5328</td><td>5.0</td><td>21.2</td><td>50.0</td><td>0</td><td>Float64</td></tr></tbody></table></div>"
      ],
      "text/latex": [
       "\\begin{tabular}{r|ccccccc}\n",
       "\t& variable & mean & min & median & max & nmissing & eltype\\\\\n",
       "\t\\hline\n",
       "\t& Symbol & Float64 & Float64 & Float64 & Float64 & Int64 & DataType\\\\\n",
       "\t\\hline\n",
       "\t1 & Crim & 3.61352 & 0.00632 & 0.25651 & 88.9762 & 0 & Float64 \\\\\n",
       "\t2 & Zn & 11.3636 & 0.0 & 0.0 & 100.0 & 0 & Float64 \\\\\n",
       "\t3 & Indus & 11.1368 & 0.46 & 9.69 & 27.74 & 0 & Float64 \\\\\n",
       "\t4 & Chas & 0.06917 & 0.0 & 0.0 & 1.0 & 0 & Float64 \\\\\n",
       "\t5 & NOx & 0.554695 & 0.385 & 0.538 & 0.871 & 0 & Float64 \\\\\n",
       "\t6 & Rm & 6.28463 & 3.561 & 6.2085 & 8.78 & 0 & Float64 \\\\\n",
       "\t7 & Age & 68.5749 & 2.9 & 77.5 & 100.0 & 0 & Float64 \\\\\n",
       "\t8 & Dis & 3.79504 & 1.1296 & 3.20745 & 12.1265 & 0 & Float64 \\\\\n",
       "\t9 & Rad & 9.54941 & 1.0 & 5.0 & 24.0 & 0 & Float64 \\\\\n",
       "\t10 & Tax & 408.237 & 187.0 & 330.0 & 711.0 & 0 & Float64 \\\\\n",
       "\t11 & PTRatio & 18.4555 & 12.6 & 19.05 & 22.0 & 0 & Float64 \\\\\n",
       "\t12 & Black & 356.674 & 0.32 & 391.44 & 396.9 & 0 & Float64 \\\\\n",
       "\t13 & LStat & 12.6531 & 1.73 & 11.36 & 37.97 & 0 & Float64 \\\\\n",
       "\t14 & MedV & 22.5328 & 5.0 & 21.2 & 50.0 & 0 & Float64 \\\\\n",
       "\\end{tabular}\n"
      ],
      "text/plain": [
       "\u001b[1m14×7 DataFrame\u001b[0m\n",
       "\u001b[1m Row \u001b[0m│\u001b[1m variable \u001b[0m\u001b[1m mean       \u001b[0m\u001b[1m min       \u001b[0m\u001b[1m median    \u001b[0m\u001b[1m max      \u001b[0m\u001b[1m nmissing \u001b[0m\u001b[1m eltype \u001b[0m ⋯\n",
       "\u001b[1m     \u001b[0m│\u001b[90m Symbol   \u001b[0m\u001b[90m Float64    \u001b[0m\u001b[90m Float64   \u001b[0m\u001b[90m Float64   \u001b[0m\u001b[90m Float64  \u001b[0m\u001b[90m Int64    \u001b[0m\u001b[90m DataTyp\u001b[0m ⋯\n",
       "─────┼──────────────────────────────────────────────────────────────────────────\n",
       "   1 │ Crim        3.61352     0.00632    0.25651   88.9762         0  Float64 ⋯\n",
       "   2 │ Zn         11.3636      0.0        0.0      100.0            0  Float64\n",
       "   3 │ Indus      11.1368      0.46       9.69      27.74           0  Float64\n",
       "   4 │ Chas        0.06917     0.0        0.0        1.0            0  Float64\n",
       "   5 │ NOx         0.554695    0.385      0.538      0.871          0  Float64 ⋯\n",
       "   6 │ Rm          6.28463     3.561      6.2085     8.78           0  Float64\n",
       "   7 │ Age        68.5749      2.9       77.5      100.0            0  Float64\n",
       "   8 │ Dis         3.79504     1.1296     3.20745   12.1265         0  Float64\n",
       "   9 │ Rad         9.54941     1.0        5.0       24.0            0  Float64 ⋯\n",
       "  10 │ Tax       408.237     187.0      330.0      711.0            0  Float64\n",
       "  11 │ PTRatio    18.4555     12.6       19.05      22.0            0  Float64\n",
       "  12 │ Black     356.674       0.32     391.44     396.9            0  Float64\n",
       "  13 │ LStat      12.6531      1.73      11.36      37.97           0  Float64 ⋯\n",
       "  14 │ MedV       22.5328      5.0       21.2       50.0            0  Float64\n",
       "\u001b[36m                                                                1 column omitted\u001b[0m"
      ]
     },
     "execution_count": 6,
     "metadata": {},
     "output_type": "execute_result"
    }
   ],
   "source": [
    "describe(data)"
   ]
  },
  {
   "cell_type": "code",
   "execution_count": 7,
   "id": "7f3f1fc5",
   "metadata": {},
   "outputs": [
    {
     "data": {
      "text/plain": [
       "┌─────────┬────────────┬─────────┐\n",
       "│\u001b[22m names   \u001b[0m│\u001b[22m scitypes   \u001b[0m│\u001b[22m types   \u001b[0m│\n",
       "├─────────┼────────────┼─────────┤\n",
       "│ Crim    │ Continuous │ Float64 │\n",
       "│ Zn      │ Continuous │ Float64 │\n",
       "│ Indus   │ Continuous │ Float64 │\n",
       "│ Chas    │ Continuous │ Float64 │\n",
       "│ NOx     │ Continuous │ Float64 │\n",
       "│ Rm      │ Continuous │ Float64 │\n",
       "│ Age     │ Continuous │ Float64 │\n",
       "│ Dis     │ Continuous │ Float64 │\n",
       "│ Rad     │ Continuous │ Float64 │\n",
       "│ Tax     │ Continuous │ Float64 │\n",
       "│ PTRatio │ Continuous │ Float64 │\n",
       "│ Black   │ Continuous │ Float64 │\n",
       "│ LStat   │ Continuous │ Float64 │\n",
       "│ MedV    │ Continuous │ Float64 │\n",
       "└─────────┴────────────┴─────────┘\n"
      ]
     },
     "execution_count": 7,
     "metadata": {},
     "output_type": "execute_result"
    }
   ],
   "source": [
    "schema(data)"
   ]
  },
  {
   "cell_type": "markdown",
   "id": "bb9c982e",
   "metadata": {},
   "source": [
    "Let's also extract the target variable (```MedV```):"
   ]
  },
  {
   "cell_type": "code",
   "execution_count": 8,
   "id": "05d92452",
   "metadata": {},
   "outputs": [],
   "source": [
    "y = data.MedV\n",
    "X = select(data, Not(:MedV));"
   ]
  },
  {
   "cell_type": "markdown",
   "id": "974fa218",
   "metadata": {},
   "source": [
    "Let's declare a simple multivariate linear regression model:"
   ]
  },
  {
   "cell_type": "code",
   "execution_count": 9,
   "id": "68a31954",
   "metadata": {},
   "outputs": [
    {
     "data": {
      "text/plain": [
       "LinearRegressor(\n",
       "    fit_intercept = true,\n",
       "    solver = nothing)"
      ]
     },
     "execution_count": 9,
     "metadata": {},
     "output_type": "execute_result"
    }
   ],
   "source": [
    "mdl = LinearRegressor()"
   ]
  },
  {
   "cell_type": "markdown",
   "id": "dcbaf8eb",
   "metadata": {},
   "source": [
    "First let's do a very simple univariate regression, in order to fit it on the data, we need to wrap it in a machine which, in MLJ, is the composition of a model and data to apply the model on:"
   ]
  },
  {
   "cell_type": "code",
   "execution_count": 10,
   "id": "82e9c60a",
   "metadata": {},
   "outputs": [
    {
     "data": {
      "text/plain": [
       "Machine{LinearRegressor,…} trained 0 times; caches data\n",
       "  model: MLJLinearModels.LinearRegressor\n",
       "  args: \n",
       "    1:\tSource @713 ⏎ `Table{AbstractVector{Continuous}}`\n",
       "    2:\tSource @533 ⏎ `AbstractVector{Continuous}`\n"
      ]
     },
     "execution_count": 10,
     "metadata": {},
     "output_type": "execute_result"
    }
   ],
   "source": [
    "X_uni = select(X, :LStat) # only a single feature\n",
    "mach_uni = machine(mdl, X_uni, y)"
   ]
  },
  {
   "cell_type": "markdown",
   "id": "c0599206",
   "metadata": {},
   "source": [
    "Fitting the model using ```Fit!``` function"
   ]
  },
  {
   "cell_type": "code",
   "execution_count": 11,
   "id": "992b8b17",
   "metadata": {},
   "outputs": [
    {
     "name": "stderr",
     "output_type": "stream",
     "text": [
      "┌ Info: Training Machine{LinearRegressor,…}.\n",
      "└ @ MLJBase C:\\Users\\jeffr\\.julia\\packages\\MLJBase\\MuLnJ\\src\\machines.jl:464\n"
     ]
    },
    {
     "data": {
      "text/plain": [
       "Machine{LinearRegressor,…} trained 1 time; caches data\n",
       "  model: MLJLinearModels.LinearRegressor\n",
       "  args: \n",
       "    1:\tSource @713 ⏎ `Table{AbstractVector{Continuous}}`\n",
       "    2:\tSource @533 ⏎ `AbstractVector{Continuous}`\n"
      ]
     },
     "execution_count": 11,
     "metadata": {},
     "output_type": "execute_result"
    }
   ],
   "source": [
    "fit!(mach_uni)"
   ]
  },
  {
   "cell_type": "markdown",
   "id": "66cfb28a",
   "metadata": {},
   "source": [
    "You can then retrieve the fitted parameters using ```fitted_params```:"
   ]
  },
  {
   "cell_type": "code",
   "execution_count": 12,
   "id": "d3b08472",
   "metadata": {},
   "outputs": [
    {
     "data": {
      "text/plain": [
       "(coefs = [:LStat => -0.9500493537579906],\n",
       " intercept = 34.553840879383095,)"
      ]
     },
     "execution_count": 12,
     "metadata": {},
     "output_type": "execute_result"
    }
   ],
   "source": [
    "fp = fitted_params(mach_uni)"
   ]
  },
  {
   "cell_type": "code",
   "execution_count": 13,
   "id": "49df10b4",
   "metadata": {},
   "outputs": [
    {
     "name": "stdout",
     "output_type": "stream",
     "text": [
      "fp.coefs = [:LStat => -0.9500493537579906]\n",
      "fp.intercept = 34.553840879383095\n"
     ]
    }
   ],
   "source": [
    "@show fp.coefs\n",
    "@show fp.intercept;"
   ]
  },
  {
   "cell_type": "markdown",
   "id": "b45fe77e",
   "metadata": {},
   "source": [
    "You can also visualize this"
   ]
  },
  {
   "cell_type": "code",
   "execution_count": 14,
   "id": "6bf4db39",
   "metadata": {},
   "outputs": [
    {
     "name": "stderr",
     "output_type": "stream",
     "text": [
      "┌ Warning: `vendor()` is deprecated, use `BLAS.get_config()` and inspect the output instead\n",
      "│   caller = npyinitialize() at numpy.jl:67\n",
      "└ @ PyCall C:\\Users\\jeffr\\.julia\\packages\\PyCall\\L0fLP\\src\\numpy.jl:67\n"
     ]
    },
    {
     "data": {
      "image/png": "[encoded data removed]",
      "text/plain": [
       "Figure(PyObject <Figure size 800x600 with 1 Axes>)"
      ]
     },
     "metadata": {},
     "output_type": "display_data"
    }
   ],
   "source": [
    "using PyPlot\n",
    "\n",
    "figure(figsize=(8, 6))\n",
    "plot(X.LStat, y, ls = \"none\", marker = \"o\")\n",
    "Xnew = (LStat = collect(range(extrema(X.LStat)..., length = 100 )), )\n",
    "plot(Xnew.LStat, MLJ.predict(mach_uni, Xnew))\n",
    "savefig(\"./plots/3.2.1.png\")"
   ]
  },
  {
   "cell_type": "markdown",
   "id": "ff195f18",
   "metadata": {},
   "source": [
    "The multivariate case is very similar"
   ]
  },
  {
   "cell_type": "code",
   "execution_count": 15,
   "id": "1701ecbe",
   "metadata": {},
   "outputs": [
    {
     "name": "stderr",
     "output_type": "stream",
     "text": [
      "┌ Info: Training Machine{LinearRegressor,…}.\n",
      "└ @ MLJBase C:\\Users\\jeffr\\.julia\\packages\\MLJBase\\MuLnJ\\src\\machines.jl:464\n"
     ]
    },
    {
     "data": {
      "text/plain": [
       "(coefs = [:Crim => -0.10801135783679668, :Zn => 0.04642045836688126, :Indus => 0.02055862636707102, :Chas => 2.686733819344888, :NOx => -17.766611228300157, :Rm => 3.809865206809212, :Age => 0.0006922246403444266, :Dis => -1.4755668456002555, :Rad => 0.306049478985174, :Tax => -0.01233459391657447, :PTRatio => -0.9527472317072884, :Black => 0.009311683273793812, :LStat => -0.5247583778554896],\n",
       " intercept = 36.45948838508996,)"
      ]
     },
     "execution_count": 15,
     "metadata": {},
     "output_type": "execute_result"
    }
   ],
   "source": [
    "mach = machine(mdl, X, y)\n",
    "fit!(mach)\n",
    "\n",
    "fp = fitted_params(mach)"
   ]
  },
  {
   "cell_type": "code",
   "execution_count": 16,
   "id": "4ec58285",
   "metadata": {},
   "outputs": [
    {
     "name": "stdout",
     "output_type": "stream",
     "text": [
      "Crim     : -0.108\n",
      "Zn       : 0.0464\n",
      "Indus    : 0.0206\n",
      "Chas     : 2.69\n",
      "NOx      : -17.8\n",
      "Rm       : 3.81\n",
      "Age      : 0.000692\n",
      "Dis      : -1.48\n",
      "Rad      : 0.306\n",
      "Tax      : -0.0123\n",
      "PTRatio  : -0.953\n",
      "Black    : 0.00931\n",
      "LStat    : -0.525\n",
      "Intercept: 36.5\n"
     ]
    }
   ],
   "source": [
    "coefs = fp.coefs\n",
    "intercept = fp.intercept\n",
    "for (name, val) in coefs\n",
    "    println(\"$(rpad(name, 9)): $(round(val, sigdigits = 3))\")\n",
    "end \n",
    "println(\"Intercept: $(round(intercept, sigdigits = 3))\")"
   ]
  },
  {
   "cell_type": "code",
   "execution_count": 17,
   "id": "74e9fa29",
   "metadata": {},
   "outputs": [
    {
     "data": {
      "text/plain": [
       "\"     March\""
      ]
     },
     "execution_count": 17,
     "metadata": {},
     "output_type": "execute_result"
    }
   ],
   "source": [
    "lpad(\"March\", 10)"
   ]
  },
  {
   "cell_type": "code",
   "execution_count": 18,
   "id": "efd3d45c",
   "metadata": {},
   "outputs": [
    {
     "data": {
      "text/plain": [
       "\"March               \""
      ]
     },
     "execution_count": 18,
     "metadata": {},
     "output_type": "execute_result"
    }
   ],
   "source": [
    "rpad(\"March\", 20)"
   ]
  },
  {
   "cell_type": "markdown",
   "id": "d317faab",
   "metadata": {},
   "source": [
    "You can use the ```machine``` in order to predict values as well and, for instance, compute the root mean squared error:"
   ]
  },
  {
   "cell_type": "code",
   "execution_count": 19,
   "id": "f188d53f",
   "metadata": {},
   "outputs": [
    {
     "data": {
      "text/plain": [
       "4.679"
      ]
     },
     "execution_count": 19,
     "metadata": {},
     "output_type": "execute_result"
    }
   ],
   "source": [
    "ŷ = MLJ.predict(mach, X)\n",
    "round(rms(ŷ, y), sigdigits = 4)"
   ]
  },
  {
   "cell_type": "markdown",
   "id": "4e474d5f",
   "metadata": {},
   "source": [
    "Let's see what the residuals look like"
   ]
  },
  {
   "cell_type": "code",
   "execution_count": 20,
   "id": "4b2f9297",
   "metadata": {},
   "outputs": [
    {
     "data": {
      "image/png": "[encoded data removed]",
      "text/plain": [
       "Figure(PyObject <Figure size 800x600 with 1 Axes>)"
      ]
     },
     "metadata": {},
     "output_type": "display_data"
    }
   ],
   "source": [
    "figure(figsize=(8,6))\n",
    "res = ŷ .- y\n",
    "stem(res)\n",
    "savefig(\"./plots/3.2.2.png\")"
   ]
  },
  {
   "cell_type": "markdown",
   "id": "8e25a8d7",
   "metadata": {},
   "source": [
    "> (stem plot) https://winston.readthedocs.io/en/latest/fun/stem.html"
   ]
  },
  {
   "cell_type": "markdown",
   "id": "61ce6fc0",
   "metadata": {},
   "source": [
    "Maybe that a histogram is more appropriate here"
   ]
  },
  {
   "cell_type": "code",
   "execution_count": 21,
   "id": "fe837480",
   "metadata": {},
   "outputs": [
    {
     "data": {
      "image/png": "[encoded data removed]",
      "text/plain": [
       "Figure(PyObject <Figure size 800x600 with 1 Axes>)"
      ]
     },
     "metadata": {},
     "output_type": "display_data"
    }
   ],
   "source": [
    "figure(figsize = (8,6))\n",
    "hist(res, density = true)\n",
    "savefig(\"./plots/3.2.3.png\")"
   ]
  },
  {
   "cell_type": "markdown",
   "id": "3a4e9626",
   "metadata": {},
   "source": [
    "### Interaction and transformation\n",
    "\n",
    "---"
   ]
  },
  {
   "cell_type": "markdown",
   "id": "a6f3edf8",
   "metadata": {},
   "source": [
    "Let's say we want to also consider an interaction term of ```lstat``` and ```age``` taken together. To do this, just create a new dataframe with an additional column corresponding to the interaction term:"
   ]
  },
  {
   "cell_type": "code",
   "execution_count": 22,
   "id": "56820f1f",
   "metadata": {},
   "outputs": [
    {
     "data": {
      "text/html": [
       "<div class=\"data-frame\"><p>506 rows × 14 columns (omitted printing of 5 columns)</p><table class=\"data-frame\"><thead><tr><th></th><th>Crim</th><th>Zn</th><th>Indus</th><th>Chas</th><th>NOx</th><th>Rm</th><th>Age</th><th>Dis</th><th>Rad</th></tr><tr><th></th><th title=\"Float64\">Float64</th><th title=\"Float64\">Float64</th><th title=\"Float64\">Float64</th><th title=\"Float64\">Float64</th><th title=\"Float64\">Float64</th><th title=\"Float64\">Float64</th><th title=\"Float64\">Float64</th><th title=\"Float64\">Float64</th><th title=\"Float64\">Float64</th></tr></thead><tbody><tr><th>1</th><td>0.00632</td><td>18.0</td><td>2.31</td><td>0.0</td><td>0.538</td><td>6.575</td><td>65.2</td><td>4.09</td><td>1.0</td></tr><tr><th>2</th><td>0.02731</td><td>0.0</td><td>7.07</td><td>0.0</td><td>0.469</td><td>6.421</td><td>78.9</td><td>4.9671</td><td>2.0</td></tr><tr><th>3</th><td>0.02729</td><td>0.0</td><td>7.07</td><td>0.0</td><td>0.469</td><td>7.185</td><td>61.1</td><td>4.9671</td><td>2.0</td></tr><tr><th>4</th><td>0.03237</td><td>0.0</td><td>2.18</td><td>0.0</td><td>0.458</td><td>6.998</td><td>45.8</td><td>6.0622</td><td>3.0</td></tr><tr><th>5</th><td>0.06905</td><td>0.0</td><td>2.18</td><td>0.0</td><td>0.458</td><td>7.147</td><td>54.2</td><td>6.0622</td><td>3.0</td></tr><tr><th>6</th><td>0.02985</td><td>0.0</td><td>2.18</td><td>0.0</td><td>0.458</td><td>6.43</td><td>58.7</td><td>6.0622</td><td>3.0</td></tr><tr><th>7</th><td>0.08829</td><td>12.5</td><td>7.87</td><td>0.0</td><td>0.524</td><td>6.012</td><td>66.6</td><td>5.5605</td><td>5.0</td></tr><tr><th>8</th><td>0.14455</td><td>12.5</td><td>7.87</td><td>0.0</td><td>0.524</td><td>6.172</td><td>96.1</td><td>5.9505</td><td>5.0</td></tr><tr><th>9</th><td>0.21124</td><td>12.5</td><td>7.87</td><td>0.0</td><td>0.524</td><td>5.631</td><td>100.0</td><td>6.0821</td><td>5.0</td></tr><tr><th>10</th><td>0.17004</td><td>12.5</td><td>7.87</td><td>0.0</td><td>0.524</td><td>6.004</td><td>85.9</td><td>6.5921</td><td>5.0</td></tr><tr><th>11</th><td>0.22489</td><td>12.5</td><td>7.87</td><td>0.0</td><td>0.524</td><td>6.377</td><td>94.3</td><td>6.3467</td><td>5.0</td></tr><tr><th>12</th><td>0.11747</td><td>12.5</td><td>7.87</td><td>0.0</td><td>0.524</td><td>6.009</td><td>82.9</td><td>6.2267</td><td>5.0</td></tr><tr><th>13</th><td>0.09378</td><td>12.5</td><td>7.87</td><td>0.0</td><td>0.524</td><td>5.889</td><td>39.0</td><td>5.4509</td><td>5.0</td></tr><tr><th>14</th><td>0.62976</td><td>0.0</td><td>8.14</td><td>0.0</td><td>0.538</td><td>5.949</td><td>61.8</td><td>4.7075</td><td>4.0</td></tr><tr><th>15</th><td>0.63796</td><td>0.0</td><td>8.14</td><td>0.0</td><td>0.538</td><td>6.096</td><td>84.5</td><td>4.4619</td><td>4.0</td></tr><tr><th>16</th><td>0.62739</td><td>0.0</td><td>8.14</td><td>0.0</td><td>0.538</td><td>5.834</td><td>56.5</td><td>4.4986</td><td>4.0</td></tr><tr><th>17</th><td>1.05393</td><td>0.0</td><td>8.14</td><td>0.0</td><td>0.538</td><td>5.935</td><td>29.3</td><td>4.4986</td><td>4.0</td></tr><tr><th>18</th><td>0.7842</td><td>0.0</td><td>8.14</td><td>0.0</td><td>0.538</td><td>5.99</td><td>81.7</td><td>4.2579</td><td>4.0</td></tr><tr><th>19</th><td>0.80271</td><td>0.0</td><td>8.14</td><td>0.0</td><td>0.538</td><td>5.456</td><td>36.6</td><td>3.7965</td><td>4.0</td></tr><tr><th>20</th><td>0.7258</td><td>0.0</td><td>8.14</td><td>0.0</td><td>0.538</td><td>5.727</td><td>69.5</td><td>3.7965</td><td>4.0</td></tr><tr><th>21</th><td>1.25179</td><td>0.0</td><td>8.14</td><td>0.0</td><td>0.538</td><td>5.57</td><td>98.1</td><td>3.7979</td><td>4.0</td></tr><tr><th>22</th><td>0.85204</td><td>0.0</td><td>8.14</td><td>0.0</td><td>0.538</td><td>5.965</td><td>89.2</td><td>4.0123</td><td>4.0</td></tr><tr><th>23</th><td>1.23247</td><td>0.0</td><td>8.14</td><td>0.0</td><td>0.538</td><td>6.142</td><td>91.7</td><td>3.9769</td><td>4.0</td></tr><tr><th>24</th><td>0.98843</td><td>0.0</td><td>8.14</td><td>0.0</td><td>0.538</td><td>5.813</td><td>100.0</td><td>4.0952</td><td>4.0</td></tr><tr><th>25</th><td>0.75026</td><td>0.0</td><td>8.14</td><td>0.0</td><td>0.538</td><td>5.924</td><td>94.1</td><td>4.3996</td><td>4.0</td></tr><tr><th>26</th><td>0.84054</td><td>0.0</td><td>8.14</td><td>0.0</td><td>0.538</td><td>5.599</td><td>85.7</td><td>4.4546</td><td>4.0</td></tr><tr><th>27</th><td>0.67191</td><td>0.0</td><td>8.14</td><td>0.0</td><td>0.538</td><td>5.813</td><td>90.3</td><td>4.682</td><td>4.0</td></tr><tr><th>28</th><td>0.95577</td><td>0.0</td><td>8.14</td><td>0.0</td><td>0.538</td><td>6.047</td><td>88.8</td><td>4.4534</td><td>4.0</td></tr><tr><th>29</th><td>0.77299</td><td>0.0</td><td>8.14</td><td>0.0</td><td>0.538</td><td>6.495</td><td>94.4</td><td>4.4547</td><td>4.0</td></tr><tr><th>30</th><td>1.00245</td><td>0.0</td><td>8.14</td><td>0.0</td><td>0.538</td><td>6.674</td><td>87.3</td><td>4.239</td><td>4.0</td></tr><tr><th>&vellip;</th><td>&vellip;</td><td>&vellip;</td><td>&vellip;</td><td>&vellip;</td><td>&vellip;</td><td>&vellip;</td><td>&vellip;</td><td>&vellip;</td><td>&vellip;</td></tr></tbody></table></div>"
      ],
      "text/latex": [
       "\\begin{tabular}{r|cccccccccc}\n",
       "\t& Crim & Zn & Indus & Chas & NOx & Rm & Age & Dis & Rad & \\\\\n",
       "\t\\hline\n",
       "\t& Float64 & Float64 & Float64 & Float64 & Float64 & Float64 & Float64 & Float64 & Float64 & \\\\\n",
       "\t\\hline\n",
       "\t1 & 0.00632 & 18.0 & 2.31 & 0.0 & 0.538 & 6.575 & 65.2 & 4.09 & 1.0 & $\\dots$ \\\\\n",
       "\t2 & 0.02731 & 0.0 & 7.07 & 0.0 & 0.469 & 6.421 & 78.9 & 4.9671 & 2.0 & $\\dots$ \\\\\n",
       "\t3 & 0.02729 & 0.0 & 7.07 & 0.0 & 0.469 & 7.185 & 61.1 & 4.9671 & 2.0 & $\\dots$ \\\\\n",
       "\t4 & 0.03237 & 0.0 & 2.18 & 0.0 & 0.458 & 6.998 & 45.8 & 6.0622 & 3.0 & $\\dots$ \\\\\n",
       "\t5 & 0.06905 & 0.0 & 2.18 & 0.0 & 0.458 & 7.147 & 54.2 & 6.0622 & 3.0 & $\\dots$ \\\\\n",
       "\t6 & 0.02985 & 0.0 & 2.18 & 0.0 & 0.458 & 6.43 & 58.7 & 6.0622 & 3.0 & $\\dots$ \\\\\n",
       "\t7 & 0.08829 & 12.5 & 7.87 & 0.0 & 0.524 & 6.012 & 66.6 & 5.5605 & 5.0 & $\\dots$ \\\\\n",
       "\t8 & 0.14455 & 12.5 & 7.87 & 0.0 & 0.524 & 6.172 & 96.1 & 5.9505 & 5.0 & $\\dots$ \\\\\n",
       "\t9 & 0.21124 & 12.5 & 7.87 & 0.0 & 0.524 & 5.631 & 100.0 & 6.0821 & 5.0 & $\\dots$ \\\\\n",
       "\t10 & 0.17004 & 12.5 & 7.87 & 0.0 & 0.524 & 6.004 & 85.9 & 6.5921 & 5.0 & $\\dots$ \\\\\n",
       "\t11 & 0.22489 & 12.5 & 7.87 & 0.0 & 0.524 & 6.377 & 94.3 & 6.3467 & 5.0 & $\\dots$ \\\\\n",
       "\t12 & 0.11747 & 12.5 & 7.87 & 0.0 & 0.524 & 6.009 & 82.9 & 6.2267 & 5.0 & $\\dots$ \\\\\n",
       "\t13 & 0.09378 & 12.5 & 7.87 & 0.0 & 0.524 & 5.889 & 39.0 & 5.4509 & 5.0 & $\\dots$ \\\\\n",
       "\t14 & 0.62976 & 0.0 & 8.14 & 0.0 & 0.538 & 5.949 & 61.8 & 4.7075 & 4.0 & $\\dots$ \\\\\n",
       "\t15 & 0.63796 & 0.0 & 8.14 & 0.0 & 0.538 & 6.096 & 84.5 & 4.4619 & 4.0 & $\\dots$ \\\\\n",
       "\t16 & 0.62739 & 0.0 & 8.14 & 0.0 & 0.538 & 5.834 & 56.5 & 4.4986 & 4.0 & $\\dots$ \\\\\n",
       "\t17 & 1.05393 & 0.0 & 8.14 & 0.0 & 0.538 & 5.935 & 29.3 & 4.4986 & 4.0 & $\\dots$ \\\\\n",
       "\t18 & 0.7842 & 0.0 & 8.14 & 0.0 & 0.538 & 5.99 & 81.7 & 4.2579 & 4.0 & $\\dots$ \\\\\n",
       "\t19 & 0.80271 & 0.0 & 8.14 & 0.0 & 0.538 & 5.456 & 36.6 & 3.7965 & 4.0 & $\\dots$ \\\\\n",
       "\t20 & 0.7258 & 0.0 & 8.14 & 0.0 & 0.538 & 5.727 & 69.5 & 3.7965 & 4.0 & $\\dots$ \\\\\n",
       "\t21 & 1.25179 & 0.0 & 8.14 & 0.0 & 0.538 & 5.57 & 98.1 & 3.7979 & 4.0 & $\\dots$ \\\\\n",
       "\t22 & 0.85204 & 0.0 & 8.14 & 0.0 & 0.538 & 5.965 & 89.2 & 4.0123 & 4.0 & $\\dots$ \\\\\n",
       "\t23 & 1.23247 & 0.0 & 8.14 & 0.0 & 0.538 & 6.142 & 91.7 & 3.9769 & 4.0 & $\\dots$ \\\\\n",
       "\t24 & 0.98843 & 0.0 & 8.14 & 0.0 & 0.538 & 5.813 & 100.0 & 4.0952 & 4.0 & $\\dots$ \\\\\n",
       "\t25 & 0.75026 & 0.0 & 8.14 & 0.0 & 0.538 & 5.924 & 94.1 & 4.3996 & 4.0 & $\\dots$ \\\\\n",
       "\t26 & 0.84054 & 0.0 & 8.14 & 0.0 & 0.538 & 5.599 & 85.7 & 4.4546 & 4.0 & $\\dots$ \\\\\n",
       "\t27 & 0.67191 & 0.0 & 8.14 & 0.0 & 0.538 & 5.813 & 90.3 & 4.682 & 4.0 & $\\dots$ \\\\\n",
       "\t28 & 0.95577 & 0.0 & 8.14 & 0.0 & 0.538 & 6.047 & 88.8 & 4.4534 & 4.0 & $\\dots$ \\\\\n",
       "\t29 & 0.77299 & 0.0 & 8.14 & 0.0 & 0.538 & 6.495 & 94.4 & 4.4547 & 4.0 & $\\dots$ \\\\\n",
       "\t30 & 1.00245 & 0.0 & 8.14 & 0.0 & 0.538 & 6.674 & 87.3 & 4.239 & 4.0 & $\\dots$ \\\\\n",
       "\t$\\dots$ & $\\dots$ & $\\dots$ & $\\dots$ & $\\dots$ & $\\dots$ & $\\dots$ & $\\dots$ & $\\dots$ & $\\dots$ &  \\\\\n",
       "\\end{tabular}\n"
      ],
      "text/plain": [
       "\u001b[1m506×14 DataFrame\u001b[0m\n",
       "\u001b[1m Row \u001b[0m│\u001b[1m Crim    \u001b[0m\u001b[1m Zn      \u001b[0m\u001b[1m Indus   \u001b[0m\u001b[1m Chas    \u001b[0m\u001b[1m NOx     \u001b[0m\u001b[1m Rm      \u001b[0m\u001b[1m Age     \u001b[0m\u001b[1m Dis     \u001b[0m\u001b[1m\u001b[0m ⋯\n",
       "\u001b[1m     \u001b[0m│\u001b[90m Float64 \u001b[0m\u001b[90m Float64 \u001b[0m\u001b[90m Float64 \u001b[0m\u001b[90m Float64 \u001b[0m\u001b[90m Float64 \u001b[0m\u001b[90m Float64 \u001b[0m\u001b[90m Float64 \u001b[0m\u001b[90m Float64 \u001b[0m\u001b[90m\u001b[0m ⋯\n",
       "─────┼──────────────────────────────────────────────────────────────────────────\n",
       "   1 │ 0.00632     18.0     2.31      0.0    0.538    6.575     65.2   4.09    ⋯\n",
       "   2 │ 0.02731      0.0     7.07      0.0    0.469    6.421     78.9   4.9671\n",
       "   3 │ 0.02729      0.0     7.07      0.0    0.469    7.185     61.1   4.9671\n",
       "   4 │ 0.03237      0.0     2.18      0.0    0.458    6.998     45.8   6.0622\n",
       "   5 │ 0.06905      0.0     2.18      0.0    0.458    7.147     54.2   6.0622  ⋯\n",
       "   6 │ 0.02985      0.0     2.18      0.0    0.458    6.43      58.7   6.0622\n",
       "   7 │ 0.08829     12.5     7.87      0.0    0.524    6.012     66.6   5.5605\n",
       "   8 │ 0.14455     12.5     7.87      0.0    0.524    6.172     96.1   5.9505\n",
       "   9 │ 0.21124     12.5     7.87      0.0    0.524    5.631    100.0   6.0821  ⋯\n",
       "  10 │ 0.17004     12.5     7.87      0.0    0.524    6.004     85.9   6.5921\n",
       "  11 │ 0.22489     12.5     7.87      0.0    0.524    6.377     94.3   6.3467\n",
       "  ⋮  │    ⋮        ⋮        ⋮        ⋮        ⋮        ⋮        ⋮        ⋮     ⋱\n",
       " 497 │ 0.2896       0.0     9.69      0.0    0.585    5.39      72.9   2.7986\n",
       " 498 │ 0.26838      0.0     9.69      0.0    0.585    5.794     70.6   2.8927  ⋯\n",
       " 499 │ 0.23912      0.0     9.69      0.0    0.585    6.019     65.3   2.4091\n",
       " 500 │ 0.17783      0.0     9.69      0.0    0.585    5.569     73.5   2.3999\n",
       " 501 │ 0.22438      0.0     9.69      0.0    0.585    6.027     79.7   2.4982\n",
       " 502 │ 0.06263      0.0    11.93      0.0    0.573    6.593     69.1   2.4786  ⋯\n",
       " 503 │ 0.04527      0.0    11.93      0.0    0.573    6.12      76.7   2.2875\n",
       " 504 │ 0.06076      0.0    11.93      0.0    0.573    6.976     91.0   2.1675\n",
       " 505 │ 0.10959      0.0    11.93      0.0    0.573    6.794     89.3   2.3889\n",
       " 506 │ 0.04741      0.0    11.93      0.0    0.573    6.03      80.8   2.505   ⋯\n",
       "\u001b[36m                                                  6 columns and 485 rows omitted\u001b[0m"
      ]
     },
     "execution_count": 22,
     "metadata": {},
     "output_type": "execute_result"
    }
   ],
   "source": [
    "X2 = hcat(X, X.LStat .* X.Age)"
   ]
  },
  {
   "cell_type": "code",
   "execution_count": 23,
   "id": "44347d83",
   "metadata": {},
   "outputs": [
    {
     "data": {
      "text/plain": [
       "14-element Vector{String}:\n",
       " \"Crim\"\n",
       " \"Zn\"\n",
       " \"Indus\"\n",
       " \"Chas\"\n",
       " \"NOx\"\n",
       " \"Rm\"\n",
       " \"Age\"\n",
       " \"Dis\"\n",
       " \"Rad\"\n",
       " \"Tax\"\n",
       " \"PTRatio\"\n",
       " \"Black\"\n",
       " \"LStat\"\n",
       " \"x1\""
      ]
     },
     "execution_count": 23,
     "metadata": {},
     "output_type": "execute_result"
    }
   ],
   "source": [
    "names(X2)"
   ]
  },
  {
   "cell_type": "markdown",
   "id": "a0bcb718",
   "metadata": {},
   "source": [
    "새로운 컬럼이 x1으로 생성됨 -> 이름 변경 \n",
    "\n",
    "So here we have a DataFrame with one extra column corresponding to the elementwise products between :LStat and Age. DataFrame gives this a default name (:x1) which we can change:"
   ]
  },
  {
   "cell_type": "code",
   "execution_count": 24,
   "id": "e9cfdb8a",
   "metadata": {},
   "outputs": [],
   "source": [
    "rename!(X2, :x1 => :interaction);"
   ]
  },
  {
   "cell_type": "code",
   "execution_count": 25,
   "id": "f55e2c5c",
   "metadata": {},
   "outputs": [
    {
     "data": {
      "text/plain": [
       "14-element Vector{String}:\n",
       " \"Crim\"\n",
       " \"Zn\"\n",
       " \"Indus\"\n",
       " \"Chas\"\n",
       " \"NOx\"\n",
       " \"Rm\"\n",
       " \"Age\"\n",
       " \"Dis\"\n",
       " \"Rad\"\n",
       " \"Tax\"\n",
       " \"PTRatio\"\n",
       " \"Black\"\n",
       " \"LStat\"\n",
       " \"interaction\""
      ]
     },
     "execution_count": 25,
     "metadata": {},
     "output_type": "execute_result"
    }
   ],
   "source": [
    "names(X2)"
   ]
  },
  {
   "cell_type": "markdown",
   "id": "c8875165",
   "metadata": {},
   "source": [
    "Ok cool, now let's try the linear regression again"
   ]
  },
  {
   "cell_type": "code",
   "execution_count": 26,
   "id": "816c8d65",
   "metadata": {},
   "outputs": [
    {
     "name": "stderr",
     "output_type": "stream",
     "text": [
      "┌ Info: Training Machine{LinearRegressor,…}.\n",
      "└ @ MLJBase C:\\Users\\jeffr\\.julia\\packages\\MLJBase\\MuLnJ\\src\\machines.jl:464\n"
     ]
    },
    {
     "data": {
      "text/plain": [
       "4.676"
      ]
     },
     "execution_count": 26,
     "metadata": {},
     "output_type": "execute_result"
    }
   ],
   "source": [
    "mach = machine(mdl, X2, y)\n",
    "fit!(mach)\n",
    "ŷ = MLJ.predict(mach, X2)\n",
    "round(rms(ŷ, y), sigdigits = 4)"
   ]
  },
  {
   "cell_type": "markdown",
   "id": "69c27a00",
   "metadata": {},
   "source": [
    "We get slightly better results but nothing spectacular.\n",
    "\n",
    "Let's get back to the lab where they consider regressing the target variable on ```lstat``` and ```lstat^2```; again, it's essentially a case of defining the right DataFrame:"
   ]
  },
  {
   "cell_type": "code",
   "execution_count": 27,
   "id": "2f98f6e1",
   "metadata": {},
   "outputs": [
    {
     "name": "stderr",
     "output_type": "stream",
     "text": [
      "┌ Info: Training Machine{LinearRegressor,…}.\n",
      "└ @ MLJBase C:\\Users\\jeffr\\.julia\\packages\\MLJBase\\MuLnJ\\src\\machines.jl:464\n"
     ]
    },
    {
     "data": {
      "text/plain": [
       "5.507"
      ]
     },
     "execution_count": 27,
     "metadata": {},
     "output_type": "execute_result"
    }
   ],
   "source": [
    "X3 = hcat(X.LStat, X.LStat.^2) |> MLJ.table\n",
    "mach = machine(mdl, X3, y)\n",
    "fit!(mach)\n",
    "ŷ = MLJ.predict(mach, X3)\n",
    "round(rms(ŷ, y), sigdigits = 4)"
   ]
  },
  {
   "cell_type": "markdown",
   "id": "f66449f8",
   "metadata": {},
   "source": [
    "which again, we can visualise:"
   ]
  },
  {
   "cell_type": "code",
   "execution_count": 28,
   "id": "7c2ad2f9",
   "metadata": {},
   "outputs": [
    {
     "data": {
      "image/png": "[encoded data removed]",
      "text/plain": [
       "Figure(PyObject <Figure size 800x600 with 1 Axes>)"
      ]
     },
     "metadata": {},
     "output_type": "display_data"
    }
   ],
   "source": [
    "Xnew = (LStat = Xnew.LStat, LStat2 = Xnew.LStat.^2)\n",
    "\n",
    "figure(figsize = (8, 6))\n",
    "plot(X.LStat, y, ls = \"none\", marker = \"o\")\n",
    "plot(Xnew.LStat, MLJ.predict(mach, Xnew))\n",
    "savefig(\"./plots/3.2.4.png\")"
   ]
  },
  {
   "cell_type": "code",
   "execution_count": 29,
   "id": "553bcfba",
   "metadata": {},
   "outputs": [
    {
     "data": {
      "text/plain": [
       "100-element Vector{Float64}:\n",
       "  1.73\n",
       "  2.096060606060606\n",
       "  2.462121212121212\n",
       "  2.828181818181818\n",
       "  3.1942424242424243\n",
       "  3.5603030303030305\n",
       "  3.9263636363636363\n",
       "  4.292424242424242\n",
       "  4.658484848484848\n",
       "  5.024545454545454\n",
       "  5.390606060606061\n",
       "  5.756666666666667\n",
       "  6.122727272727273\n",
       "  ⋮\n",
       " 33.943333333333335\n",
       " 34.30939393939394\n",
       " 34.67545454545454\n",
       " 35.04151515151515\n",
       " 35.407575757575756\n",
       " 35.77363636363636\n",
       " 36.13969696969697\n",
       " 36.50575757575758\n",
       " 36.871818181818185\n",
       " 37.237878787878785\n",
       " 37.60393939393939\n",
       " 37.97"
      ]
     },
     "execution_count": 29,
     "metadata": {},
     "output_type": "execute_result"
    }
   ],
   "source": [
    "Xnew.LStat"
   ]
  },
  {
   "cell_type": "code",
   "execution_count": 30,
   "id": "e1b8c04c",
   "metadata": {},
   "outputs": [
    {
     "data": {
      "text/plain": [
       "100-element Vector{Float64}:\n",
       "  1.73\n",
       "  2.096060606060606\n",
       "  2.462121212121212\n",
       "  2.828181818181818\n",
       "  3.1942424242424243\n",
       "  3.5603030303030305\n",
       "  3.9263636363636363\n",
       "  4.292424242424242\n",
       "  4.658484848484848\n",
       "  5.024545454545454\n",
       "  5.390606060606061\n",
       "  5.756666666666667\n",
       "  6.122727272727273\n",
       "  ⋮\n",
       " 33.943333333333335\n",
       " 34.30939393939394\n",
       " 34.67545454545454\n",
       " 35.04151515151515\n",
       " 35.407575757575756\n",
       " 35.77363636363636\n",
       " 36.13969696969697\n",
       " 36.50575757575758\n",
       " 36.871818181818185\n",
       " 37.237878787878785\n",
       " 37.60393939393939\n",
       " 37.97"
      ]
     },
     "execution_count": 30,
     "metadata": {},
     "output_type": "execute_result"
    }
   ],
   "source": [
    "collect(range(extrema(X.LStat)..., length = 100 ))"
   ]
  },
  {
   "cell_type": "code",
   "execution_count": 31,
   "id": "669eabc5",
   "metadata": {},
   "outputs": [
    {
     "data": {
      "text/plain": [
       "(1.73, 37.97)"
      ]
     },
     "execution_count": 31,
     "metadata": {},
     "output_type": "execute_result"
    }
   ],
   "source": [
    "extrema(X.LStat)"
   ]
  },
  {
   "cell_type": "code",
   "execution_count": 32,
   "id": "d9eb5521",
   "metadata": {},
   "outputs": [
    {
     "data": {
      "text/plain": [
       "1.73:0.3660606060606061:37.97"
      ]
     },
     "execution_count": 32,
     "metadata": {},
     "output_type": "execute_result"
    }
   ],
   "source": [
    "range(extrema(X.LStat)..., length = 100 )"
   ]
  }
 ],
 "metadata": {
  "hide_input": false,
  "kernelspec": {
   "display_name": "Julia 1.7.3",
   "language": "julia",
   "name": "julia-1.7"
  },
  "language_info": {
   "file_extension": ".jl",
   "mimetype": "application/julia",
   "name": "julia",
   "version": "1.7.3"
  }
 },
 "nbformat": 4,
 "nbformat_minor": 5
}
