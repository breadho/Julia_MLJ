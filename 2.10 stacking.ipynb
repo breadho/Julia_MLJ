{
 "cells": [
  {
   "cell_type": "markdown",
   "id": "d5cbd091",
   "metadata": {},
   "source": [
    "# Getting started"
   ]
  },
  {
   "cell_type": "markdown",
   "id": "5e102881",
   "metadata": {},
   "source": [
    "## Stacking"
   ]
  },
  {
   "cell_type": "markdown",
   "id": "d22eb3c1",
   "metadata": {},
   "source": [
    "> https://juliaai.github.io/DataScienceTutorials.jl/getting-started/stacking/\n",
    "> <br> **(project folder)** https://raw.githubusercontent.com/juliaai/DataScienceTutorials.jl/gh-pages/__generated/A-stacking.tar.gz"
   ]
  },
  {
   "cell_type": "code",
   "execution_count": 1,
   "id": "e6651339",
   "metadata": {},
   "outputs": [
    {
     "name": "stderr",
     "output_type": "stream",
     "text": [
      "\u001b[32m\u001b[1m  Activating\u001b[22m\u001b[39m project at `D:\\JULIA\\6_ML_with_Julia\\A-stacking`\n"
     ]
    }
   ],
   "source": [
    "using Pkg ; Pkg.activate(\"D:/JULIA/6_ML_with_Julia/A-stacking\"); Pkg.instantiate()"
   ]
  },
  {
   "cell_type": "markdown",
   "id": "90cc0d11",
   "metadata": {},
   "source": [
    "> Basic stacking using out-of-sample base learner predictions\n",
    "> 1. Warm-up exercise: Define a model type to average predictions\n",
    "> Stacking proper\n",
    "> 1. Helper functions:\n",
    "> 2. Choose some test data (optional) and some component models (defaults for the composite model):\n",
    "> 3. Define the training nodes\n",
    "> 4. Define nodes still needed for prediction\n",
    ">\n",
    "> Export the learning network as a new model type <br>\n",
    "> Applying MyTwoModelStack to some data"
   ]
  },
  {
   "cell_type": "markdown",
   "id": "f1538348",
   "metadata": {},
   "source": [
    "In stacking one blends the predictions of different regressors or classifiers to gain, in some cases, better performance than naive averaging or majority vote.\n",
    "\n",
    "For routine stacking tasks the MLJ user should use the ```Stack``` model documented here. In this tutorial we build a two-model stack as an MLJ learning network, which we export as a new stand-alone composite model type ```MyTwoStack```. The objective of this tutorial is to: (i) Explain with julia code how stacking works; and (ii) Give an advanced demonstration of MLJ's composite model interface.\n",
    "\n",
    "As we shall see, as a new stand-alone model type, we can apply the usual meta-algorithms, such as performance evaluation and tuning, to ```MyTwoStack```."
   ]
  },
  {
   "cell_type": "markdown",
   "id": "17b27f38",
   "metadata": {},
   "source": [
    "### Basic stacking using out-of-sample base learner predictions\n",
    "\n",
    "---"
   ]
  },
  {
   "cell_type": "markdown",
   "id": "018ee49b",
   "metadata": {},
   "source": [
    "A rather general stacking protocol was first described in a 1992 paper by David Wolpert. For a generic introduction to the basic two-layer stack described here, see this blog post of Burak Himmetoglu.\n",
    "\n",
    "A basic stack consists of a number of base learners (two, in this illustration) and a single adjudicating model.\n",
    "\n",
    "When a stacked model is called to make a prediction, the individual predictions of the base learners are made the columns of an input table for the adjudicating model, which then outputs the final prediction. However, it is crucial to understand that the flow of data during training is not the same.\n",
    "\n",
    "The base model predictions used to train the adjudicating model are not the predictions of the base learners fitted to all the training data. Rather, to prevent the adjudicator giving too much weight to the base learners with low training error, the input data is first split into a number of folds (as in cross-validation), a base learner is trained on each fold complement individually, and corresponding predictions on the folds are spliced together to form a full-length prediction called the out-of-sample prediction.\n",
    "\n",
    "For illustrative purposes we use just three folds. Each base learner will get three separate machines, for training on each fold complement, and a fourth machine, trained on all the supplied data, for use in the prediction flow.\n",
    "\n",
    "We build the learning network with dummy data at the source nodes, so the reader inspects the workings of the network as it is built (by calling ```fit!``` on nodes, and by calling the nodes themselves). As usual, this data is not seen by the exported composite model type, and the component models we choose are just default values for the hyperparameters of the composite model."
   ]
  },
  {
   "cell_type": "code",
   "execution_count": 2,
   "id": "72ba2072",
   "metadata": {},
   "outputs": [],
   "source": [
    "using MLJ\n",
    "using PyPlot\n",
    "using StableRNGs"
   ]
  },
  {
   "cell_type": "markdown",
   "id": "95ce81e9",
   "metadata": {},
   "source": [
    "Some models we will use:"
   ]
  },
  {
   "cell_type": "code",
   "execution_count": 3,
   "id": "d686413e",
   "metadata": {},
   "outputs": [
    {
     "name": "stderr",
     "output_type": "stream",
     "text": [
      "┌ Info: For silent loading, specify `verbosity=0`. \n",
      "└ @ Main C:\\Users\\jeffr\\.julia\\packages\\MLJModels\\tMgLW\\src\\loading.jl:168\n"
     ]
    },
    {
     "name": "stdout",
     "output_type": "stream",
     "text": [
      "import MLJLinearModels ✔\n"
     ]
    },
    {
     "name": "stderr",
     "output_type": "stream",
     "text": [
      "┌ Info: For silent loading, specify `verbosity=0`. \n",
      "└ @ Main C:\\Users\\jeffr\\.julia\\packages\\MLJModels\\tMgLW\\src\\loading.jl:168\n"
     ]
    },
    {
     "name": "stdout",
     "output_type": "stream",
     "text": [
      "import NearestNeighborModels ✔\n"
     ]
    },
    {
     "name": "stderr",
     "output_type": "stream",
     "text": [
      "┌ Info: For silent loading, specify `verbosity=0`. \n",
      "└ @ Main C:\\Users\\jeffr\\.julia\\packages\\MLJModels\\tMgLW\\src\\loading.jl:168\n"
     ]
    },
    {
     "name": "stdout",
     "output_type": "stream",
     "text": [
      "import EvoTrees ✔\n",
      "import MLJDecisionTreeInterface ✔"
     ]
    },
    {
     "name": "stderr",
     "output_type": "stream",
     "text": [
      "┌ Info: For silent loading, specify `verbosity=0`. \n",
      "└ @ Main C:\\Users\\jeffr\\.julia\\packages\\MLJModels\\tMgLW\\src\\loading.jl:168\n"
     ]
    },
    {
     "name": "stdout",
     "output_type": "stream",
     "text": [
      "\n"
     ]
    },
    {
     "name": "stderr",
     "output_type": "stream",
     "text": [
      "┌ Info: For silent loading, specify `verbosity=0`. \n",
      "└ @ Main C:\\Users\\jeffr\\.julia\\packages\\MLJModels\\tMgLW\\src\\loading.jl:168\n"
     ]
    },
    {
     "name": "stdout",
     "output_type": "stream",
     "text": [
      "import MLJScikitLearnInterface ✔\n"
     ]
    },
    {
     "data": {
      "text/plain": [
       "SVMRegressor(\n",
       "    kernel = \"rbf\",\n",
       "    degree = 3,\n",
       "    gamma = \"auto\",\n",
       "    coef0 = 0.0,\n",
       "    tol = 0.001,\n",
       "    C = 1.0,\n",
       "    epsilon = 0.1,\n",
       "    shrinking = true,\n",
       "    cache_size = 200,\n",
       "    max_iter = -1)"
      ]
     },
     "execution_count": 3,
     "metadata": {},
     "output_type": "execute_result"
    }
   ],
   "source": [
    "linear = (@load LinearRegressor pkg=MLJLinearModels)()\n",
    "knn = (@load KNNRegressor)()\n",
    "\n",
    "tree_booster = (@load EvoTreeRegressor)()\n",
    "forest = (@load RandomForestRegressor pkg = DecisionTree)()\n",
    "svm = (@load SVMRegressor)()"
   ]
  },
  {
   "cell_type": "markdown",
   "id": "53700e91",
   "metadata": {},
   "source": [
    "### Warm-up exercise: Define a model type to average predictions\n",
    "---"
   ]
  },
  {
   "cell_type": "markdown",
   "id": "b84c4e2e",
   "metadata": {},
   "source": [
    "Let's define a composite model type ```MyAverageTwo``` that averages the predictions of two deterministic regressors. Here's the learning network:"
   ]
  },
  {
   "cell_type": "code",
   "execution_count": 4,
   "id": "8e9109f2",
   "metadata": {},
   "outputs": [
    {
     "data": {
      "text/plain": [
       "Node{Nothing}\n",
       "  args:\n",
       "    1:\tNode{Nothing}\n",
       "    2:\tNode{Nothing}\n",
       "  formula:\n",
       "    +(\n",
       "        #100(\n",
       "            predict(\n",
       "                \u001b[0m\u001b[1mMachine{LinearRegressor,…}\u001b[22m, \n",
       "                Source @545)),\n",
       "        #100(\n",
       "            predict(\n",
       "                \u001b[0m\u001b[1mMachine{KNNRegressor,…}\u001b[22m, \n",
       "                Source @545)))"
      ]
     },
     "execution_count": 4,
     "metadata": {},
     "output_type": "execute_result"
    }
   ],
   "source": [
    "X = source()\n",
    "y = source()\n",
    "\n",
    "model1 = linear\n",
    "model2 = knn\n",
    "\n",
    "m1 = machine(model1, X, y)\n",
    "y1 = predict(m1, X)\n",
    "\n",
    "m2 = machine(model2, X, y)\n",
    "y2 = predict(m2, X)\n",
    "\n",
    "yhat = 0.5*y1 + 0.5*y2"
   ]
  },
  {
   "cell_type": "markdown",
   "id": "3451e9be",
   "metadata": {},
   "source": [
    "In preparation for export, we wrap the learning network in a learning network machine, which specifies what the source nodes are, and which node is for prediction. As our exported model will make point-predictions (as opposed to probabilistic ones), we use a ```Deterministic``` \"surrogate\" model:"
   ]
  },
  {
   "cell_type": "code",
   "execution_count": 5,
   "id": "911de42b",
   "metadata": {},
   "outputs": [
    {
     "data": {
      "text/plain": [
       "Machine{DeterministicSurrogate,…} trained 0 times; does not cache data\n",
       "  model: DeterministicSurrogate\n",
       "  args: \n",
       "    1:\tSource @545 ⏎ `Nothing`\n",
       "    2:\tSource @590 ⏎ `Nothing`\n"
      ]
     },
     "execution_count": 5,
     "metadata": {},
     "output_type": "execute_result"
    }
   ],
   "source": [
    "mach = machine(Deterministic(), X, y; predict = yhat)"
   ]
  },
  {
   "cell_type": "markdown",
   "id": "28eb1ad1",
   "metadata": {},
   "source": [
    "Note that we cannot actually fit this machine because we chose not to wrap our source nodes ```X``` and ```y``` in data."
   ]
  },
  {
   "cell_type": "markdown",
   "id": "4323d5bc",
   "metadata": {},
   "source": [
    "Here's the macro call that \"exports\" the learning network as a new composite model ```MyAverageTwo```:"
   ]
  },
  {
   "cell_type": "code",
   "execution_count": 6,
   "id": "1c572d13",
   "metadata": {},
   "outputs": [],
   "source": [
    "@from_network mach begin \n",
    "    mutable struct MyAverageTwo\n",
    "        regressor1 = model1\n",
    "        regressor2 = model2\n",
    "    end\n",
    "end"
   ]
  },
  {
   "cell_type": "markdown",
   "id": "459d93f8",
   "metadata": {},
   "source": [
    "Note that, unlike a normal struct definition, the defaults ```model1``` and ```model2``` must be specified, and they must refer to model instances in the learning network.\n",
    "\n",
    "We can now create an instance of the new type:"
   ]
  },
  {
   "cell_type": "code",
   "execution_count": 7,
   "id": "22566781",
   "metadata": {},
   "outputs": [
    {
     "data": {
      "text/plain": [
       "MyAverageTwo(\n",
       "    regressor1 = LinearRegressor(\n",
       "            fit_intercept = true,\n",
       "            solver = nothing),\n",
       "    regressor2 = KNNRegressor(\n",
       "            K = 5,\n",
       "            algorithm = :kdtree,\n",
       "            metric = Distances.Euclidean(0.0),\n",
       "            leafsize = 10,\n",
       "            reorder = true,\n",
       "            weights = NearestNeighborModels.Uniform()))"
      ]
     },
     "execution_count": 7,
     "metadata": {},
     "output_type": "execute_result"
    }
   ],
   "source": [
    "average_two = MyAverageTwo()"
   ]
  },
  {
   "cell_type": "markdown",
   "id": "886f893e",
   "metadata": {},
   "source": [
    "Evaluating this average model on the Boston data set, and comparing with the base model predictions:"
   ]
  },
  {
   "cell_type": "code",
   "execution_count": 8,
   "id": "6a7cd5ab",
   "metadata": {},
   "outputs": [
    {
     "name": "stdout",
     "output_type": "stream",
     "text": [
      "LinearRegressor = 4.8635 ± 0.34864\n",
      "KNNRegressor = 6.2243 ± 0.44292\n",
      "MyAverageTwo = 4.8523 ± 0.36264\n"
     ]
    }
   ],
   "source": [
    "function print_performance(model, data...)\n",
    "    e = evaluate(model, data...;\n",
    "                resampling=CV(rng=StableRNG(1234), nfolds = 8),\n",
    "                measure = rms,\n",
    "                verbosity = 0)\n",
    "    μ= round(e.measurement[1], sigdigits = 5)\n",
    "    ste = round(std(e.per_fold[1])/sqrt(8), digits = 5)\n",
    "    println(\"$model = $μ ± $(2*ste)\")\n",
    "end;\n",
    "\n",
    "X, y = @load_boston\n",
    "\n",
    "print_performance(linear, X, y)\n",
    "print_performance(knn, X, y)\n",
    "print_performance(average_two, X, y)"
   ]
  },
  {
   "cell_type": "markdown",
   "id": "524b34e5",
   "metadata": {},
   "source": [
    "### Stacking proper\n",
    "---"
   ]
  },
  {
   "cell_type": "markdown",
   "id": "bd0d74b7",
   "metadata": {},
   "source": [
    "### Helper functions:\n",
    "\n",
    "To generate folds for generating out-of-sample predictions, we define"
   ]
  },
  {
   "cell_type": "code",
   "execution_count": 9,
   "id": "a5b6584e",
   "metadata": {},
   "outputs": [],
   "source": [
    "folds(data, nfolds) = partition(1:nrows(data), (1/nfolds for i in 1:(nfolds-1))...);"
   ]
  },
  {
   "cell_type": "markdown",
   "id": "4ff1ec39",
   "metadata": {},
   "source": [
    "For example, we have:"
   ]
  },
  {
   "cell_type": "code",
   "execution_count": 10,
   "id": "a7329a29",
   "metadata": {},
   "outputs": [
    {
     "data": {
      "text/plain": [
       "([1, 2, 3], [4, 5, 6], [7, 8, 9, 10])"
      ]
     },
     "execution_count": 10,
     "metadata": {},
     "output_type": "execute_result"
    }
   ],
   "source": [
    "f = folds(1:10, 3)"
   ]
  },
  {
   "cell_type": "markdown",
   "id": "89475bb2",
   "metadata": {},
   "source": [
    "It will also be convenient to use the MLJ method ```restrict(X, f, i)``` that restricts data ```X``` to the ```i```th element (fold) of ```f```, and ```corestrict(X, f, i)``` that restricts to the corresponding fold complement (the concatenation of all but the ```i```th fold).\n",
    "\n",
    "For example, we have:"
   ]
  },
  {
   "cell_type": "code",
   "execution_count": 11,
   "id": "bf7b1900",
   "metadata": {},
   "outputs": [
    {
     "data": {
      "text/plain": [
       "7-element Vector{String}:\n",
       " \"1\"\n",
       " \"2\"\n",
       " \"3\"\n",
       " \"7\"\n",
       " \"8\"\n",
       " \"9\"\n",
       " \"10\""
      ]
     },
     "execution_count": 11,
     "metadata": {},
     "output_type": "execute_result"
    }
   ],
   "source": [
    "corestrict(string.(1:10), f, 2)"
   ]
  },
  {
   "cell_type": "markdown",
   "id": "75278b17",
   "metadata": {},
   "source": [
    "### Choose some data (optional) and some component models (defaults for the composite model):"
   ]
  },
  {
   "cell_type": "code",
   "execution_count": 12,
   "id": "ab069518",
   "metadata": {},
   "outputs": [
    {
     "name": "stderr",
     "output_type": "stream",
     "text": [
      "┌ Warning: `vendor()` is deprecated, use `BLAS.get_config()` and inspect the output instead\n",
      "│   caller = npyinitialize() at numpy.jl:67\n",
      "└ @ PyCall C:\\Users\\jeffr\\.julia\\packages\\PyCall\\L0fLP\\src\\numpy.jl:67\n"
     ]
    },
    {
     "data": {
      "image/png": "[encoded data removed]",
      "text/plain": [
       "Figure(PyObject <Figure size 800x600 with 1 Axes>)"
      ]
     },
     "metadata": {},
     "output_type": "display_data"
    }
   ],
   "source": [
    "figure(figsize = (8,6))\n",
    "steps(x) = x < -3/2 ? -1 : (x < 3/2 ? 0 : 1)\n",
    "x = Float64[-4, -1, 2, -3, 0, 3, -2, 1, 4]\n",
    "Xraw = (x = x, )\n",
    "yraw = steps.(x);\n",
    "\n",
    "idxsort = sortperm(x)\n",
    "xsort = x[idxsort]\n",
    "ysort = yraw[idxsort]\n",
    "step(xsort, ysort, label = \"truth\", where = \"mid\")\n",
    "plot(x, yraw, ls = \"none\", marker = \"o\", label = \"data\")\n",
    "xlim(-4.5, 4.5)\n",
    "legend()\n",
    "\n",
    "savefig(\"./plots/2.10.1.png\")"
   ]
  },
  {
   "cell_type": "markdown",
   "id": "bd1599d8",
   "metadata": {},
   "source": [
    "Some models to stack (which we can change later):"
   ]
  },
  {
   "cell_type": "code",
   "execution_count": 13,
   "id": "f85406dd",
   "metadata": {},
   "outputs": [
    {
     "data": {
      "text/plain": [
       "KNNRegressor(\n",
       "    K = 5,\n",
       "    algorithm = :kdtree,\n",
       "    metric = Distances.Euclidean(0.0),\n",
       "    leafsize = 10,\n",
       "    reorder = true,\n",
       "    weights = NearestNeighborModels.Uniform())"
      ]
     },
     "execution_count": 13,
     "metadata": {},
     "output_type": "execute_result"
    }
   ],
   "source": [
    "model1 = linear\n",
    "model2 = knn"
   ]
  },
  {
   "cell_type": "markdown",
   "id": "bffb1714",
   "metadata": {},
   "source": [
    "The adjudicating model:"
   ]
  },
  {
   "cell_type": "code",
   "execution_count": 14,
   "id": "cd992e79",
   "metadata": {},
   "outputs": [
    {
     "data": {
      "text/plain": [
       "LinearRegressor(\n",
       "    fit_intercept = true,\n",
       "    solver = nothing)"
      ]
     },
     "execution_count": 14,
     "metadata": {},
     "output_type": "execute_result"
    }
   ],
   "source": [
    "judge = linear"
   ]
  },
  {
   "cell_type": "markdown",
   "id": "ecce7b97",
   "metadata": {},
   "source": [
    "### Define the training nodes"
   ]
  },
  {
   "cell_type": "markdown",
   "id": "ccc25b4a",
   "metadata": {},
   "source": [
    "Let's instantiate some input and target source nodes for the learning network, wrapping the play data defined above in source nodes:"
   ]
  },
  {
   "cell_type": "code",
   "execution_count": 15,
   "id": "04779827",
   "metadata": {},
   "outputs": [
    {
     "data": {
      "text/plain": [
       "Source @253 ⏎ `AbstractVector{Count}`"
      ]
     },
     "execution_count": 15,
     "metadata": {},
     "output_type": "execute_result"
    }
   ],
   "source": [
    "X = source(Xraw)\n",
    "y = source(yraw)"
   ]
  },
  {
   "cell_type": "markdown",
   "id": "53a4826f",
   "metadata": {},
   "source": [
    "Our first internal node will represent the three folds (vectors of row indices) for creating the out-of-sample predictions. We would like to define ```f = folds(X, 3)``` but this will not work because X is not a table, just a node representing a table. We could fix this by using the ```@node macro```:"
   ]
  },
  {
   "cell_type": "code",
   "execution_count": 16,
   "id": "d4b3d6f2",
   "metadata": {},
   "outputs": [
    {
     "data": {
      "text/plain": [
       "Node{Nothing}\n",
       "  args:\n",
       "    1:\tSource @120\n",
       "  formula:\n",
       "    #10(\n",
       "        Source @120)"
      ]
     },
     "execution_count": 16,
     "metadata": {},
     "output_type": "execute_result"
    }
   ],
   "source": [
    "f = @node folds(X, 3)# data type을 맞춰주기 위해 node macro로 변환"
   ]
  },
  {
   "cell_type": "markdown",
   "id": "b1604da6",
   "metadata": {},
   "source": [
    "Now ```f``` is itself a node, and so callable:"
   ]
  },
  {
   "cell_type": "code",
   "execution_count": 17,
   "id": "9b325299",
   "metadata": {},
   "outputs": [
    {
     "data": {
      "text/plain": [
       "([1, 2, 3], [4, 5, 6], [7, 8, 9])"
      ]
     },
     "execution_count": 17,
     "metadata": {},
     "output_type": "execute_result"
    }
   ],
   "source": [
    "f()"
   ]
  },
  {
   "cell_type": "markdown",
   "id": "49cc272e",
   "metadata": {},
   "source": [
    "However, we can also just overload ```folds``` to work on nodes, using the ```node``` function:"
   ]
  },
  {
   "cell_type": "code",
   "execution_count": 18,
   "id": "856d2125",
   "metadata": {},
   "outputs": [
    {
     "data": {
      "text/plain": [
       "([1, 2, 3], [4, 5, 6], [7, 8, 9])"
      ]
     },
     "execution_count": 18,
     "metadata": {},
     "output_type": "execute_result"
    }
   ],
   "source": [
    "folds(X::AbstractNode, nfolds) = node(XX -> folds(XX, nfolds), X)\n",
    "f = folds(X, 3)\n",
    "f()"
   ]
  },
  {
   "cell_type": "markdown",
   "id": "dcb7ba23",
   "metadata": {},
   "source": [
    "In the case of ```restrict``` and ```corestrict```, which also don't operate on nodes, method overloading will save us writing ```@node``` all the time:"
   ]
  },
  {
   "cell_type": "code",
   "execution_count": 19,
   "id": "b435258e",
   "metadata": {},
   "outputs": [],
   "source": [
    "MLJ.restrict(X::AbstractNode, f::AbstractNode, i) = node((XX, ff) -> restrict(XX, ff, i), X, f);\n",
    "MLJ.corestrict(X::AbstractNode, f::AbstractNode, i) = node((XX, ff) -> corestrict(XX, ff, i), X, f);"
   ]
  },
  {
   "cell_type": "markdown",
   "id": "fe0d6300",
   "metadata": {},
   "source": [
    "We are now ready to define machines for training ```model1``` on each fold-complement:"
   ]
  },
  {
   "cell_type": "code",
   "execution_count": 20,
   "id": "dea217d5",
   "metadata": {},
   "outputs": [
    {
     "data": {
      "text/plain": [
       "Machine{LinearRegressor,…} trained 0 times; caches data\n",
       "  model: MLJLinearModels.LinearRegressor\n",
       "  args: \n",
       "    1:\tNode{Nothing}\n",
       "    2:\tNode{Nothing}\n"
      ]
     },
     "execution_count": 20,
     "metadata": {},
     "output_type": "execute_result"
    }
   ],
   "source": [
    "m11 = machine(model1, corestrict(X, f, 1), corestrict(y, f, 1))\n",
    "m12 = machine(model1, corestrict(X, f, 2), corestrict(y, f, 2))\n",
    "m13 = machine(model1, corestrict(X, f, 3), corestrict(y, f, 3))"
   ]
  },
  {
   "cell_type": "markdown",
   "id": "70a86162",
   "metadata": {},
   "source": [
    "Define each out-of-sample prediction of ```model1```:"
   ]
  },
  {
   "cell_type": "code",
   "execution_count": 21,
   "id": "81423a16",
   "metadata": {},
   "outputs": [],
   "source": [
    "y11 = predict(m11, restrict(X, f, 1));\n",
    "y12 = predict(m12, restrict(X, f, 2));\n",
    "y13 = predict(m13, restrict(X, f, 3));"
   ]
  },
  {
   "cell_type": "markdown",
   "id": "da4851f3",
   "metadata": {},
   "source": [
    "Splice together the out-of-sample predictions for model1:"
   ]
  },
  {
   "cell_type": "code",
   "execution_count": 22,
   "id": "f57bc3ae",
   "metadata": {},
   "outputs": [],
   "source": [
    "y1_oos = vcat(y11, y12, y13);"
   ]
  },
  {
   "cell_type": "markdown",
   "id": "57393eb3",
   "metadata": {},
   "source": [
    "Note there is no need to overload the ```vcat``` function to work on nodes; it does so out of the box, as does ```hcat``` and basic arithmetic operations.\n",
    "\n",
    "Since our source nodes are wrapping data, we can optionally check our network so far, by calling fitting and calling ```y1_oos```:"
   ]
  },
  {
   "cell_type": "code",
   "execution_count": 23,
   "id": "5d9f2a43",
   "metadata": {},
   "outputs": [
    {
     "data": {
      "image/png": "[encoded data removed]",
      "text/plain": [
       "Figure(PyObject <Figure size 800x600 with 1 Axes>)"
      ]
     },
     "metadata": {},
     "output_type": "display_data"
    }
   ],
   "source": [
    "fit!(y1_oos, verbosity = 0)\n",
    "figure(figsize = (8,6))\n",
    "step(xsort, ysort, label = \"truth\", where=\"mid\")\n",
    "plot(x, y1_oos(), ls=\"none\", marker = \"o\", label = \"linear oos\")\n",
    "legend()\n",
    "\n",
    "savefig(\"./plots/2.10.2.png\")"
   ]
  },
  {
   "cell_type": "markdown",
   "id": "f7e0acfd",
   "metadata": {},
   "source": [
    "We now repeat the procedure for the other model:"
   ]
  },
  {
   "cell_type": "code",
   "execution_count": 24,
   "id": "44d78a10",
   "metadata": {},
   "outputs": [],
   "source": [
    "m21 = machine(model2, corestrict(X, f, 1), corestrict(y, f, 1))\n",
    "m22 = machine(model2, corestrict(X, f, 2), corestrict(y, f, 2))\n",
    "m23 = machine(model2, corestrict(X, f, 3), corestrict(y, f, 3))\n",
    "\n",
    "y21 = predict(m21, restrict(X, f, 1));\n",
    "y22 = predict(m21, restrict(X, f, 2));\n",
    "y23 = predict(m21, restrict(X, f, 3));"
   ]
  },
  {
   "cell_type": "markdown",
   "id": "58c89a39",
   "metadata": {},
   "source": [
    "And testing the knn out-of-sample prediction:"
   ]
  },
  {
   "cell_type": "code",
   "execution_count": 25,
   "id": "33fd951e",
   "metadata": {},
   "outputs": [
    {
     "data": {
      "text/plain": [
       "Node{Nothing}\n",
       "  args:\n",
       "    1:\tNode{Machine{KNNRegressor,…}}\n",
       "    2:\tNode{Machine{KNNRegressor,…}}\n",
       "    3:\tNode{Machine{KNNRegressor,…}}\n",
       "  formula:\n",
       "    vcat(\n",
       "        predict(\n",
       "            \u001b[0m\u001b[1mMachine{KNNRegressor,…}\u001b[22m, \n",
       "            #14(\n",
       "                Source @120,\n",
       "                #12(\n",
       "                    Source @120))),\n",
       "        predict(\n",
       "            \u001b[0m\u001b[1mMachine{KNNRegressor,…}\u001b[22m, \n",
       "            #14(\n",
       "                Source @120,\n",
       "                #12(\n",
       "                    Source @120))),\n",
       "        predict(\n",
       "            \u001b[0m\u001b[1mMachine{KNNRegressor,…}\u001b[22m, \n",
       "            #14(\n",
       "                Source @120,\n",
       "                #12(\n",
       "                    Source @120))))"
      ]
     },
     "execution_count": 25,
     "metadata": {},
     "output_type": "execute_result"
    }
   ],
   "source": [
    "y2_oos = vcat(y21, y22, y23);\n",
    "fit!(y2_oos, verbosity = 0)"
   ]
  },
  {
   "cell_type": "code",
   "execution_count": 26,
   "id": "1578e007",
   "metadata": {},
   "outputs": [
    {
     "data": {
      "image/png": "[encoded data removed]",
      "text/plain": [
       "Figure(PyObject <Figure size 800x600 with 1 Axes>)"
      ]
     },
     "metadata": {},
     "output_type": "display_data"
    }
   ],
   "source": [
    "figure(figsize = (8,6))\n",
    "step(xsort, ysort, label = \"truth\", where = \"mid\")\n",
    "plot(x, y2_oos(), ls=\"none\", marker=\"o\", label = \"knn_oos\")\n",
    "legend()\n",
    "\n",
    "savefig(\"./plots/2.10.3.png\")"
   ]
  },
  {
   "cell_type": "markdown",
   "id": "38ef36f3",
   "metadata": {},
   "source": [
    "Now that we have the out-of-sample base learner predictions, we are ready to merge them into the adjudicator's input table and construct the machine for training the adjudicator:"
   ]
  },
  {
   "cell_type": "code",
   "execution_count": 27,
   "id": "07ea3e47",
   "metadata": {},
   "outputs": [
    {
     "data": {
      "text/plain": [
       "Machine{LinearRegressor,…} trained 0 times; caches data\n",
       "  model: MLJLinearModels.LinearRegressor\n",
       "  args: \n",
       "    1:\tNode{Nothing}\n",
       "    2:\tSource @253 ⏎ `AbstractVector{Count}`\n"
      ]
     },
     "execution_count": 27,
     "metadata": {},
     "output_type": "execute_result"
    }
   ],
   "source": [
    "X_oos = MLJ.table(hcat(y1_oos, y2_oos))\n",
    "m_judge = machine(judge, X_oos, y)"
   ]
  },
  {
   "cell_type": "markdown",
   "id": "caaa5d6f",
   "metadata": {},
   "source": [
    "Are we done with constructing machines? Well, not quite. Recall that when we use the stack to make predictions on new data, we will be feeding the adjudicator ordinary predictions of the base learners (rather than out-of-sample predictions). But so far, we have only defined machines to train the base learners on fold complements, not on the full data, which we do now:"
   ]
  },
  {
   "cell_type": "code",
   "execution_count": 28,
   "id": "fac56ef8",
   "metadata": {},
   "outputs": [
    {
     "data": {
      "text/plain": [
       "Machine{KNNRegressor,…} trained 0 times; caches data\n",
       "  model: NearestNeighborModels.KNNRegressor\n",
       "  args: \n",
       "    1:\tSource @120 ⏎ `Table{AbstractVector{Continuous}}`\n",
       "    2:\tSource @253 ⏎ `AbstractVector{Count}`\n"
      ]
     },
     "execution_count": 28,
     "metadata": {},
     "output_type": "execute_result"
    }
   ],
   "source": [
    "m1 = machine(model1, X, y)\n",
    "m2 = machine(model2, X, y)"
   ]
  },
  {
   "cell_type": "markdown",
   "id": "69a76391",
   "metadata": {},
   "source": [
    "### Define nodes still needed for prediction\n",
    "\n",
    "---\n",
    "\n",
    "To obtain the final prediction, ```yhat```, we get the base learner predictions, based on training with all data, and feed them to the adjudicator:"
   ]
  },
  {
   "cell_type": "code",
   "execution_count": 29,
   "id": "8a9e5889",
   "metadata": {},
   "outputs": [
    {
     "data": {
      "text/plain": [
       "Node{Machine{LinearRegressor,…}}\n",
       "  args:\n",
       "    1:\tNode{Nothing}\n",
       "  formula:\n",
       "    predict(\n",
       "        \u001b[0m\u001b[1mMachine{LinearRegressor,…}\u001b[22m, \n",
       "        table(\n",
       "            hcat(\n",
       "                predict(\n",
       "                    \u001b[0m\u001b[1mMachine{LinearRegressor,…}\u001b[22m, \n",
       "                    Source @120),\n",
       "                predict(\n",
       "                    \u001b[0m\u001b[1mMachine{KNNRegressor,…}\u001b[22m, \n",
       "                    Source @120))))"
      ]
     },
     "execution_count": 29,
     "metadata": {},
     "output_type": "execute_result"
    }
   ],
   "source": [
    "y1 = predict(m1, X);\n",
    "y2 = predict(m2, X);\n",
    "X_judge = MLJ.table(hcat(y1, y2))\n",
    "yhat = predict(m_judge, X_judge)"
   ]
  },
  {
   "cell_type": "markdown",
   "id": "82c27f51",
   "metadata": {},
   "source": [
    "Let's check the final prediction node can be fit and called:"
   ]
  },
  {
   "cell_type": "code",
   "execution_count": 30,
   "id": "90773708",
   "metadata": {},
   "outputs": [
    {
     "data": {
      "image/png": "[encoded data removed]",
      "text/plain": [
       "Figure(PyObject <Figure size 800x600 with 1 Axes>)"
      ]
     },
     "metadata": {},
     "output_type": "display_data"
    }
   ],
   "source": [
    "fit!(yhat, verbosity = 0)\n",
    "\n",
    "figure(figsize = (8, 6))\n",
    "step(xsort, ysort, label = \"truth\", where = \"mid\")\n",
    "plot(x, yhat(), ls = \"none\", marker = \"o\", label = \"yhat\")\n",
    "legend()\n",
    "\n",
    "savefig(\"./plots/2.10.4.png\")"
   ]
  },
  {
   "cell_type": "markdown",
   "id": "9aabd870",
   "metadata": {},
   "source": [
    "Although of little statistical significance here, we note that stacking gives a lower training error than naive averaging:"
   ]
  },
  {
   "cell_type": "code",
   "execution_count": 31,
   "id": "7fd7d9da",
   "metadata": {},
   "outputs": [
    {
     "name": "stdout",
     "output_type": "stream",
     "text": [
      "e1 = 0.2581988897471611\n",
      "e2 = 0.3771236166328254\n",
      "emean = 0.2808716591058786\n",
      "estack = 0.33739082156363265\n"
     ]
    }
   ],
   "source": [
    "e1 = rms(y1(), y())\n",
    "e2 = rms(y2(), y())\n",
    "emean = rms(0.5*y1() + 0.5*y2(), y())\n",
    "estack = rms(yhat(), y())\n",
    "@show e1 e2 emean estack;"
   ]
  },
  {
   "cell_type": "markdown",
   "id": "f94bace1",
   "metadata": {},
   "source": [
    "### Export the learning network as a new model type\n",
    "\n",
    "---"
   ]
  },
  {
   "cell_type": "markdown",
   "id": "bf0971f6",
   "metadata": {},
   "source": [
    "The learning network (less the data wrapped in the source nodes) amounts to a specification of a new composite model type for two-model stacks, trained with three-fold resampling of base model predictions. Let's create the new type ```MyTwoModelStack```, in the same way we exported the network for model averaging:"
   ]
  },
  {
   "cell_type": "code",
   "execution_count": 32,
   "id": "87b5f935",
   "metadata": {},
   "outputs": [
    {
     "data": {
      "text/plain": [
       "MyTwoModelStack(\n",
       "    regressor1 = LinearRegressor(\n",
       "            fit_intercept = true,\n",
       "            solver = nothing),\n",
       "    regressor2 = KNNRegressor(\n",
       "            K = 5,\n",
       "            algorithm = :kdtree,\n",
       "            metric = Distances.Euclidean(0.0),\n",
       "            leafsize = 10,\n",
       "            reorder = true,\n",
       "            weights = NearestNeighborModels.Uniform()),\n",
       "    judge = LinearRegressor(\n",
       "            fit_intercept = true,\n",
       "            solver = nothing))"
      ]
     },
     "execution_count": 32,
     "metadata": {},
     "output_type": "execute_result"
    }
   ],
   "source": [
    "@from_network machine(Deterministic(), X, y; predict = yhat) begin\n",
    "    mutable struct MyTwoModelStack\n",
    "        regressor1 = model1\n",
    "        regressor2 = model2\n",
    "        judge = judge\n",
    "    end\n",
    "end\n",
    "\n",
    "my_two_model_stack = MyTwoModelStack()"
   ]
  },
  {
   "cell_type": "markdown",
   "id": "923d0eab",
   "metadata": {},
   "source": [
    "And this completes the definition of our re-usable stacking model type."
   ]
  },
  {
   "cell_type": "markdown",
   "id": "929ca87a",
   "metadata": {},
   "source": [
    "### Applying ```MyTowModelStack``` to some data\n",
    "\n",
    "---"
   ]
  },
  {
   "cell_type": "markdown",
   "id": "69d26f01",
   "metadata": {},
   "source": [
    "Without undertaking any hyperparameter optimization, we evaluate the performance of a tree boosting algorithm and a support vector machine on a synthetic data set. As adjudicator, we'll use a random forest.\n",
    "\n",
    "We use a synthetic set to give an example where stacking is effective but the data is not too large. (As synthetic data is based on perturbations to linear models, we are deliberately avoiding linear models in stacking illustration.)\n",
    "\n",
    "(주: 데이터를 regression 모델을 이용해 만들었으므로 regression 모델을 피한다.)"
   ]
  },
  {
   "cell_type": "code",
   "execution_count": 33,
   "id": "861aa300",
   "metadata": {},
   "outputs": [],
   "source": [
    "X, y = make_regression(1000, 20; sparse = 0.75, noise = 0.1, rng = 123);"
   ]
  },
  {
   "cell_type": "markdown",
   "id": "fa662604",
   "metadata": {},
   "source": [
    "### Define the stack and compare performance"
   ]
  },
  {
   "cell_type": "code",
   "execution_count": 34,
   "id": "b2bf900a",
   "metadata": {},
   "outputs": [
    {
     "data": {
      "text/plain": [
       "MyTwoModelStack(\n",
       "    regressor1 = EvoTreeRegressor(\n",
       "            loss = EvoTrees.Linear(),\n",
       "            nrounds = 10,\n",
       "            λ = 0.0,\n",
       "            γ = 0.0,\n",
       "            η = 0.1,\n",
       "            max_depth = 5,\n",
       "            min_weight = 1.0,\n",
       "            rowsample = 1.0,\n",
       "            colsample = 1.0,\n",
       "            nbins = 64,\n",
       "            α = 0.5,\n",
       "            metric = :mse,\n",
       "            rng = Random.MersenneTwister(123),\n",
       "            device = \"cpu\"),\n",
       "    regressor2 = SVMRegressor(\n",
       "            kernel = \"rbf\",\n",
       "            degree = 3,\n",
       "            gamma = \"auto\",\n",
       "            coef0 = 0.0,\n",
       "            tol = 0.001,\n",
       "            C = 1.0,\n",
       "            epsilon = 0.1,\n",
       "            shrinking = true,\n",
       "            cache_size = 200,\n",
       "            max_iter = -1),\n",
       "    judge = RandomForestRegressor(\n",
       "            max_depth = -1,\n",
       "            min_samples_leaf = 1,\n",
       "            min_samples_split = 2,\n",
       "            min_purity_increase = 0.0,\n",
       "            n_subfeatures = -1,\n",
       "            n_trees = 10,\n",
       "            sampling_fraction = 0.7,\n",
       "            pdf_smoothing = 0.0,\n",
       "            rng = Random._GLOBAL_RNG()))"
      ]
     },
     "execution_count": 34,
     "metadata": {},
     "output_type": "execute_result"
    }
   ],
   "source": [
    "avg = MyAverageTwo(regressor1 = tree_booster, regressor2 = svm)\n",
    "stack = MyTwoModelStack(regressor1 = tree_booster, regressor2 = svm, judge = forest)"
   ]
  },
  {
   "cell_type": "code",
   "execution_count": 35,
   "id": "a59fdf89",
   "metadata": {},
   "outputs": [
    {
     "name": "stdout",
     "output_type": "stream",
     "text": [
      "EvoTreeRegressor{Float64,…} = 1.9206 ± 0.04474\n",
      "SVMRegressor = 0.93596 ± 0.06682\n",
      "RandomForestRegressor = 1.7005 ± 0.0615\n",
      "MyAverageTwo = 1.3106 ± 0.0655\n",
      "MyTwoModelStack = 0.87009 ± 0.04614\n"
     ]
    }
   ],
   "source": [
    "all_models = [tree_booster, svm, forest, avg, stack];\n",
    "\n",
    "for model in all_models\n",
    "    print_performance(model, X, y)\n",
    "end"
   ]
  },
  {
   "cell_type": "markdown",
   "id": "e4f11d0b",
   "metadata": {},
   "source": [
    "### Tuning a stack"
   ]
  },
  {
   "cell_type": "markdown",
   "id": "a6b4facb",
   "metadata": {},
   "source": [
    "A standard abuse of good data hygiene is to optimize stack component models separately and then tune the adjudicating model hyperparameters (using the same resampling of the data) with the base learners fixed. Although more computationally expensive, better generalization might be expected by applying tuning to the stack as a whole, either simultaneously, or in in cheaper sequential steps. Since our stack is a stand-alone model, this is readily implemented.\n",
    "\n",
    "As a proof of concept, let's see how to tune one of the base model hyperparameters, based on performance of the stack as a whole:"
   ]
  },
  {
   "cell_type": "code",
   "execution_count": 36,
   "id": "727fb758",
   "metadata": {},
   "outputs": [
    {
     "data": {
      "text/plain": [
       "DeterministicTunedModel(\n",
       "    model = MyTwoModelStack(\n",
       "            regressor1 = EvoTreeRegressor{Float64,…},\n",
       "            regressor2 = SVMRegressor,\n",
       "            judge = RandomForestRegressor),\n",
       "    tuning = Grid(\n",
       "            goal = nothing,\n",
       "            resolution = 10,\n",
       "            shuffle = false,\n",
       "            rng = Random._GLOBAL_RNG()),\n",
       "    resampling = Holdout(\n",
       "            fraction_train = 0.7,\n",
       "            shuffle = false,\n",
       "            rng = Random._GLOBAL_RNG()),\n",
       "    measure = RootMeanSquaredError(),\n",
       "    weights = nothing,\n",
       "    operation = nothing,\n",
       "    range = NumericRange(0.01 ≤ regressor2.C ≤ 10.0; origin=5.005, unit=4.995) on log scale,\n",
       "    selection_heuristic = MLJTuning.NaiveSelection(nothing),\n",
       "    train_best = true,\n",
       "    repeats = 1,\n",
       "    n = nothing,\n",
       "    acceleration = CPU1{Nothing}(nothing),\n",
       "    acceleration_resampling = CPU1{Nothing}(nothing),\n",
       "    check_measure = true,\n",
       "    cache = true)"
      ]
     },
     "execution_count": 36,
     "metadata": {},
     "output_type": "execute_result"
    }
   ],
   "source": [
    "r = range(stack, :(regressor2.C), lower = 0.01, upper = 10, scale = :log)\n",
    "tuned_stack = TunedModel(model = stack,\n",
    "                        ranges = r,\n",
    "                        tuning = Grid(shuffle = false), \n",
    "                        measure = rms, \n",
    "                        resampling = Holdout())"
   ]
  },
  {
   "cell_type": "code",
   "execution_count": 37,
   "id": "ca580c20",
   "metadata": {},
   "outputs": [
    {
     "data": {
      "text/plain": [
       "10.000000000000002"
      ]
     },
     "execution_count": 37,
     "metadata": {},
     "output_type": "execute_result"
    }
   ],
   "source": [
    "mach = fit!(machine(tuned_stack, X, y), verbosity = 0)\n",
    "best_stack = fitted_params(mach).best_model\n",
    "best_stack.regressor2.C"
   ]
  },
  {
   "cell_type": "markdown",
   "id": "144376d2",
   "metadata": {},
   "source": [
    "Let's evaluate the best stack using the same data resampling used to the evaluate the various untuned models earlier (now we are neglecting data hygiene!):"
   ]
  },
  {
   "cell_type": "code",
   "execution_count": 38,
   "id": "70e2f1b7",
   "metadata": {},
   "outputs": [
    {
     "name": "stdout",
     "output_type": "stream",
     "text": [
      "MyTwoModelStack = 0.823 ± 0.05852\n"
     ]
    }
   ],
   "source": [
    "print_performance(best_stack, X, y)"
   ]
  }
 ],
 "metadata": {
  "hide_input": false,
  "kernelspec": {
   "display_name": "Julia 1.7.3",
   "language": "julia",
   "name": "julia-1.7"
  },
  "language_info": {
   "file_extension": ".jl",
   "mimetype": "application/julia",
   "name": "julia",
   "version": "1.7.3"
  }
 },
 "nbformat": 4,
 "nbformat_minor": 5
}
