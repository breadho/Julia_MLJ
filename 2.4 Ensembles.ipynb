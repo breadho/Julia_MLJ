{
 "cells": [
  {
   "cell_type": "markdown",
   "id": "9adb11d2",
   "metadata": {},
   "source": [
    "# Getting started"
   ]
  },
  {
   "cell_type": "markdown",
   "id": "1d3588db",
   "metadata": {},
   "source": [
    "## Ensembles"
   ]
  },
  {
   "cell_type": "markdown",
   "id": "1700256c",
   "metadata": {},
   "source": [
    "### Ensemble models\n",
    "\n",
    "---"
   ]
  },
  {
   "cell_type": "code",
   "execution_count": 1,
   "id": "500894aa",
   "metadata": {},
   "outputs": [
    {
     "name": "stderr",
     "output_type": "stream",
     "text": [
      "\u001b[32m\u001b[1m  Activating\u001b[22m\u001b[39m project at `D:\\JULIA\\6_ML_with_Julia\\A-ensembles`\n"
     ]
    }
   ],
   "source": [
    "using Pkg; Pkg.activate(\"D:/JULIA/6_ML_with_Julia/A-ensembles\"); Pkg.instantiate()"
   ]
  },
  {
   "cell_type": "markdown",
   "id": "81f12fb1",
   "metadata": {},
   "source": [
    "> Preliminary steps <br>\n",
    "> Homogenous ensembles\n",
    "> 1. Training and testing an ensemble\n",
    "> 2. Systematic tuning\n",
    "> 3. Reporting results"
   ]
  },
  {
   "cell_type": "markdown",
   "id": "8a48e386",
   "metadata": {},
   "source": [
    "### Preliminary steps\n",
    "\n",
    "---"
   ]
  },
  {
   "cell_type": "markdown",
   "id": "3a27e185",
   "metadata": {},
   "source": [
    "Let's start by loading the relevant packages and generating some dummy data."
   ]
  },
  {
   "cell_type": "code",
   "execution_count": 2,
   "id": "53dfa036",
   "metadata": {},
   "outputs": [
    {
     "data": {
      "text/plain": [
       "300×3 Matrix{Float64}:\n",
       " 0.941503    0.721724   0.328143\n",
       " 0.423794    0.0423568  0.449126\n",
       " 0.181315    0.767096   0.252239\n",
       " 0.788659    0.21882    0.318666\n",
       " 0.473444    0.531495   0.275985\n",
       " 0.85171     0.18371    0.640187\n",
       " 0.141996    0.934331   0.0338421\n",
       " 0.577308    0.0924971  0.771955\n",
       " 0.0199241   0.700031   0.101959\n",
       " 0.900477    0.246024   0.387603\n",
       " 0.444832    0.509509   0.342469\n",
       " 0.270885    0.468182   0.14166\n",
       " 0.923804    0.513764   0.00783605\n",
       " ⋮                      \n",
       " 0.548699    0.736581   0.747059\n",
       " 0.579349    0.204345   0.111636\n",
       " 0.654865    0.275287   0.3275\n",
       " 0.590148    0.0713853  0.0290355\n",
       " 0.256165    0.596071   0.483203\n",
       " 0.00996852  0.722794   0.402213\n",
       " 0.843964    0.378416   0.542911\n",
       " 0.602174    0.321716   0.350327\n",
       " 0.1297      0.0684328  0.90622\n",
       " 0.821579    0.873053   0.0278195\n",
       " 0.498559    0.278562   0.657468\n",
       " 0.130187    0.0339702  0.152995"
      ]
     },
     "execution_count": 2,
     "metadata": {},
     "output_type": "execute_result"
    }
   ],
   "source": [
    "using MLJ\n",
    "import DataFrames: DataFrame\n",
    "using PrettyPrinting\n",
    "using StableRNGs\n",
    "\n",
    "rng = StableRNG(512)\n",
    "Xraw = rand(rng, 300, 3)"
   ]
  },
  {
   "cell_type": "code",
   "execution_count": 3,
   "id": "316f5e5b",
   "metadata": {},
   "outputs": [
    {
     "data": {
      "text/html": [
       "<div class=\"data-frame\"><p>300 rows × 3 columns</p><table class=\"data-frame\"><thead><tr><th></th><th>x1</th><th>x2</th><th>x3</th></tr><tr><th></th><th title=\"Float64\">Float64</th><th title=\"Float64\">Float64</th><th title=\"Float64\">Float64</th></tr></thead><tbody><tr><th>1</th><td>0.941503</td><td>0.721724</td><td>0.328143</td></tr><tr><th>2</th><td>0.423794</td><td>0.0423568</td><td>0.449126</td></tr><tr><th>3</th><td>0.181315</td><td>0.767096</td><td>0.252239</td></tr><tr><th>4</th><td>0.788659</td><td>0.21882</td><td>0.318666</td></tr><tr><th>5</th><td>0.473444</td><td>0.531495</td><td>0.275985</td></tr><tr><th>6</th><td>0.85171</td><td>0.18371</td><td>0.640187</td></tr><tr><th>7</th><td>0.141996</td><td>0.934331</td><td>0.0338421</td></tr><tr><th>8</th><td>0.577308</td><td>0.0924971</td><td>0.771955</td></tr><tr><th>9</th><td>0.0199241</td><td>0.700031</td><td>0.101959</td></tr><tr><th>10</th><td>0.900477</td><td>0.246024</td><td>0.387603</td></tr><tr><th>11</th><td>0.444832</td><td>0.509509</td><td>0.342469</td></tr><tr><th>12</th><td>0.270885</td><td>0.468182</td><td>0.14166</td></tr><tr><th>13</th><td>0.923804</td><td>0.513764</td><td>0.00783605</td></tr><tr><th>14</th><td>0.566092</td><td>0.278403</td><td>0.437598</td></tr><tr><th>15</th><td>0.21738</td><td>0.689007</td><td>0.792485</td></tr><tr><th>16</th><td>0.119568</td><td>0.106847</td><td>0.867327</td></tr><tr><th>17</th><td>0.309909</td><td>0.544893</td><td>0.78023</td></tr><tr><th>18</th><td>0.522973</td><td>0.866231</td><td>0.915766</td></tr><tr><th>19</th><td>0.676244</td><td>0.244311</td><td>0.687744</td></tr><tr><th>20</th><td>0.228623</td><td>0.662187</td><td>0.683439</td></tr><tr><th>21</th><td>0.661572</td><td>0.333306</td><td>0.888429</td></tr><tr><th>22</th><td>0.72702</td><td>0.460473</td><td>0.983203</td></tr><tr><th>23</th><td>0.563238</td><td>0.796309</td><td>0.143221</td></tr><tr><th>24</th><td>0.592001</td><td>0.917558</td><td>0.0612437</td></tr><tr><th>25</th><td>0.307474</td><td>0.0193238</td><td>0.757352</td></tr><tr><th>26</th><td>0.317974</td><td>0.825805</td><td>0.701205</td></tr><tr><th>27</th><td>0.151955</td><td>0.601601</td><td>0.765188</td></tr><tr><th>28</th><td>0.283758</td><td>0.0506675</td><td>0.731006</td></tr><tr><th>29</th><td>0.57322</td><td>0.893604</td><td>0.494212</td></tr><tr><th>30</th><td>0.756946</td><td>0.858834</td><td>0.141673</td></tr><tr><th>&vellip;</th><td>&vellip;</td><td>&vellip;</td><td>&vellip;</td></tr></tbody></table></div>"
      ],
      "text/latex": [
       "\\begin{tabular}{r|ccc}\n",
       "\t& x1 & x2 & x3\\\\\n",
       "\t\\hline\n",
       "\t& Float64 & Float64 & Float64\\\\\n",
       "\t\\hline\n",
       "\t1 & 0.941503 & 0.721724 & 0.328143 \\\\\n",
       "\t2 & 0.423794 & 0.0423568 & 0.449126 \\\\\n",
       "\t3 & 0.181315 & 0.767096 & 0.252239 \\\\\n",
       "\t4 & 0.788659 & 0.21882 & 0.318666 \\\\\n",
       "\t5 & 0.473444 & 0.531495 & 0.275985 \\\\\n",
       "\t6 & 0.85171 & 0.18371 & 0.640187 \\\\\n",
       "\t7 & 0.141996 & 0.934331 & 0.0338421 \\\\\n",
       "\t8 & 0.577308 & 0.0924971 & 0.771955 \\\\\n",
       "\t9 & 0.0199241 & 0.700031 & 0.101959 \\\\\n",
       "\t10 & 0.900477 & 0.246024 & 0.387603 \\\\\n",
       "\t11 & 0.444832 & 0.509509 & 0.342469 \\\\\n",
       "\t12 & 0.270885 & 0.468182 & 0.14166 \\\\\n",
       "\t13 & 0.923804 & 0.513764 & 0.00783605 \\\\\n",
       "\t14 & 0.566092 & 0.278403 & 0.437598 \\\\\n",
       "\t15 & 0.21738 & 0.689007 & 0.792485 \\\\\n",
       "\t16 & 0.119568 & 0.106847 & 0.867327 \\\\\n",
       "\t17 & 0.309909 & 0.544893 & 0.78023 \\\\\n",
       "\t18 & 0.522973 & 0.866231 & 0.915766 \\\\\n",
       "\t19 & 0.676244 & 0.244311 & 0.687744 \\\\\n",
       "\t20 & 0.228623 & 0.662187 & 0.683439 \\\\\n",
       "\t21 & 0.661572 & 0.333306 & 0.888429 \\\\\n",
       "\t22 & 0.72702 & 0.460473 & 0.983203 \\\\\n",
       "\t23 & 0.563238 & 0.796309 & 0.143221 \\\\\n",
       "\t24 & 0.592001 & 0.917558 & 0.0612437 \\\\\n",
       "\t25 & 0.307474 & 0.0193238 & 0.757352 \\\\\n",
       "\t26 & 0.317974 & 0.825805 & 0.701205 \\\\\n",
       "\t27 & 0.151955 & 0.601601 & 0.765188 \\\\\n",
       "\t28 & 0.283758 & 0.0506675 & 0.731006 \\\\\n",
       "\t29 & 0.57322 & 0.893604 & 0.494212 \\\\\n",
       "\t30 & 0.756946 & 0.858834 & 0.141673 \\\\\n",
       "\t$\\dots$ & $\\dots$ & $\\dots$ & $\\dots$ \\\\\n",
       "\\end{tabular}\n"
      ],
      "text/plain": [
       "\u001b[1m300×3 DataFrame\u001b[0m\n",
       "\u001b[1m Row \u001b[0m│\u001b[1m x1         \u001b[0m\u001b[1m x2        \u001b[0m\u001b[1m x3         \u001b[0m\n",
       "\u001b[1m     \u001b[0m│\u001b[90m Float64    \u001b[0m\u001b[90m Float64   \u001b[0m\u001b[90m Float64    \u001b[0m\n",
       "─────┼───────────────────────────────────\n",
       "   1 │ 0.941503    0.721724   0.328143\n",
       "   2 │ 0.423794    0.0423568  0.449126\n",
       "   3 │ 0.181315    0.767096   0.252239\n",
       "   4 │ 0.788659    0.21882    0.318666\n",
       "   5 │ 0.473444    0.531495   0.275985\n",
       "   6 │ 0.85171     0.18371    0.640187\n",
       "   7 │ 0.141996    0.934331   0.0338421\n",
       "   8 │ 0.577308    0.0924971  0.771955\n",
       "   9 │ 0.0199241   0.700031   0.101959\n",
       "  10 │ 0.900477    0.246024   0.387603\n",
       "  11 │ 0.444832    0.509509   0.342469\n",
       "  ⋮  │     ⋮           ⋮          ⋮\n",
       " 291 │ 0.654865    0.275287   0.3275\n",
       " 292 │ 0.590148    0.0713853  0.0290355\n",
       " 293 │ 0.256165    0.596071   0.483203\n",
       " 294 │ 0.00996852  0.722794   0.402213\n",
       " 295 │ 0.843964    0.378416   0.542911\n",
       " 296 │ 0.602174    0.321716   0.350327\n",
       " 297 │ 0.1297      0.0684328  0.90622\n",
       " 298 │ 0.821579    0.873053   0.0278195\n",
       " 299 │ 0.498559    0.278562   0.657468\n",
       " 300 │ 0.130187    0.0339702  0.152995\n",
       "\u001b[36m                         279 rows omitted\u001b[0m"
      ]
     },
     "execution_count": 3,
     "metadata": {},
     "output_type": "execute_result"
    }
   ],
   "source": [
    "y = exp.(Xraw[:, 1] - Xraw[:, 2] - 2Xraw[:, 3] + 0.1*rand(rng, 300))\n",
    "X = DataFrame(Xraw, :auto)"
   ]
  },
  {
   "cell_type": "code",
   "execution_count": 4,
   "id": "73b9526c",
   "metadata": {},
   "outputs": [
    {
     "data": {
      "text/plain": [
       "([1, 2, 3, 4, 5, 6, 7, 8, 9, 10  …  201, 202, 203, 204, 205, 206, 207, 208, 209, 210], [211, 212, 213, 214, 215, 216, 217, 218, 219, 220  …  291, 292, 293, 294, 295, 296, 297, 298, 299, 300])"
      ]
     },
     "execution_count": 4,
     "metadata": {},
     "output_type": "execute_result"
    }
   ],
   "source": [
    "train,test = partition(eachindex(y), 0.7)"
   ]
  },
  {
   "cell_type": "markdown",
   "id": "d1854c05",
   "metadata": {},
   "source": [
    "Let's also load a simple model:"
   ]
  },
  {
   "cell_type": "code",
   "execution_count": 5,
   "id": "838d6610",
   "metadata": {},
   "outputs": [
    {
     "name": "stderr",
     "output_type": "stream",
     "text": [
      "┌ Info: For silent loading, specify `verbosity=0`. \n",
      "└ @ Main C:\\Users\\jeffr\\.julia\\packages\\MLJModels\\tMgLW\\src\\loading.jl:168\n"
     ]
    },
    {
     "name": "stdout",
     "output_type": "stream",
     "text": [
      "import NearestNeighborModels ✔\n"
     ]
    },
    {
     "data": {
      "text/plain": [
       "KNNRegressor(\n",
       "    K = 10,\n",
       "    algorithm = :kdtree,\n",
       "    metric = Distances.Euclidean(0.0),\n",
       "    leafsize = 10,\n",
       "    reorder = true,\n",
       "    weights = NearestNeighborModels.Uniform())"
      ]
     },
     "execution_count": 5,
     "metadata": {},
     "output_type": "execute_result"
    }
   ],
   "source": [
    "KNNRegressor = @load KNNRegressor\n",
    "knn_model = KNNRegressor(K = 10)"
   ]
  },
  {
   "cell_type": "markdown",
   "id": "85885f36",
   "metadata": {},
   "source": [
    "As before, let's instantiate a macnine that wraps the model and data:"
   ]
  },
  {
   "cell_type": "code",
   "execution_count": 6,
   "id": "da93d780",
   "metadata": {},
   "outputs": [
    {
     "data": {
      "text/plain": [
       "Machine{KNNRegressor,…} trained 0 times; caches data\n",
       "  model: NearestNeighborModels.KNNRegressor\n",
       "  args: \n",
       "    1:\tSource @524 ⏎ `Table{AbstractVector{Continuous}}`\n",
       "    2:\tSource @531 ⏎ `AbstractVector{Continuous}`\n"
      ]
     },
     "execution_count": 6,
     "metadata": {},
     "output_type": "execute_result"
    }
   ],
   "source": [
    "knn = machine(knn_model, X, y)"
   ]
  },
  {
   "cell_type": "markdown",
   "id": "0a484f36",
   "metadata": {},
   "source": [
    "and fit it"
   ]
  },
  {
   "cell_type": "code",
   "execution_count": 7,
   "id": "e7589eaf",
   "metadata": {},
   "outputs": [
    {
     "name": "stderr",
     "output_type": "stream",
     "text": [
      "┌ Info: Training Machine{KNNRegressor,…}.\n",
      "└ @ MLJBase C:\\Users\\jeffr\\.julia\\packages\\MLJBase\\MuLnJ\\src\\machines.jl:464\n"
     ]
    },
    {
     "data": {
      "text/plain": [
       "0.06389980172436367"
      ]
     },
     "execution_count": 7,
     "metadata": {},
     "output_type": "execute_result"
    }
   ],
   "source": [
    "fit!(knn, rows = train)\n",
    "ŷ = predict(knn, X[test, :]) # or use rows = test\n",
    "rms(ŷ, y[test])"
   ]
  },
  {
   "cell_type": "markdown",
   "id": "bbb1faae",
   "metadata": {},
   "source": [
    "The few steps above are equivalent to just calling ```evaluate!```:"
   ]
  },
  {
   "cell_type": "code",
   "execution_count": 8,
   "id": "5ab32eea",
   "metadata": {},
   "outputs": [
    {
     "data": {
      "text/plain": [
       "PerformanceEvaluation object with these fields:\n",
       "  measure, measurement, operation, per_fold,\n",
       "  per_observation, fitted_params_per_fold,\n",
       "  report_per_fold, train_test_pairs\n",
       "Extract:\n",
       "┌────────────────────────┬─────────────┬───────────┬──────────┐\n",
       "│\u001b[22m measure                \u001b[0m│\u001b[22m measurement \u001b[0m│\u001b[22m operation \u001b[0m│\u001b[22m per_fold \u001b[0m│\n",
       "├────────────────────────┼─────────────┼───────────┼──────────┤\n",
       "│ RootMeanSquaredError() │ 0.124       │ predict   │ [0.124]  │\n",
       "└────────────────────────┴─────────────┴───────────┴──────────┘\n"
      ]
     },
     "execution_count": 8,
     "metadata": {},
     "output_type": "execute_result"
    }
   ],
   "source": [
    "evaluate!(knn, resampling = Holdout(fraction_train = 0.7, rng = StableRNG(666)), measure = rms)"
   ]
  },
  {
   "cell_type": "markdown",
   "id": "70873033",
   "metadata": {},
   "source": [
    "### Homogenous ensembles"
   ]
  },
  {
   "cell_type": "markdown",
   "id": "67bfdebb",
   "metadata": {},
   "source": [
    "MLJ offers basic support for ensembling such as ```bagging```. Defining such an ensemble of simple \"atomic\" models is done via the ```EnsemleModel``` construction:"
   ]
  },
  {
   "cell_type": "code",
   "execution_count": 9,
   "id": "4e5f6599",
   "metadata": {},
   "outputs": [
    {
     "data": {
      "text/plain": [
       "DeterministicEnsembleModel(\n",
       "    model = KNNRegressor(\n",
       "            K = 10,\n",
       "            algorithm = :kdtree,\n",
       "            metric = Distances.Euclidean(0.0),\n",
       "            leafsize = 10,\n",
       "            reorder = true,\n",
       "            weights = NearestNeighborModels.Uniform()),\n",
       "    atomic_weights = Float64[],\n",
       "    bagging_fraction = 0.8,\n",
       "    rng = Random._GLOBAL_RNG(),\n",
       "    n = 20,\n",
       "    acceleration = CPU1{Nothing}(nothing),\n",
       "    out_of_bag_measure = Any[])"
      ]
     },
     "execution_count": 9,
     "metadata": {},
     "output_type": "execute_result"
    }
   ],
   "source": [
    "ensemble_model = EnsembleModel(model = knn_model, n = 20)"
   ]
  },
  {
   "cell_type": "markdown",
   "id": "f941b79e",
   "metadata": {},
   "source": [
    "where the ```n=20``` indicates how many models are presents in the ensemble."
   ]
  },
  {
   "cell_type": "markdown",
   "id": "68cdbe68",
   "metadata": {},
   "source": [
    "### Training and testing an ensemble"
   ]
  },
  {
   "cell_type": "markdown",
   "id": "132b9d94",
   "metadata": {},
   "source": [
    "Now that we've instantiated an ensemble, it can be trained and tested the same as any other model:"
   ]
  },
  {
   "cell_type": "code",
   "execution_count": 10,
   "id": "667142a4",
   "metadata": {},
   "outputs": [
    {
     "data": {
      "text/plain": [
       "Machine{DeterministicEnsembleModel{KNNRegressor},…} trained 0 times; caches data\n",
       "  model: MLJEnsembles.DeterministicEnsembleModel{NearestNeighborModels.KNNRegressor}\n",
       "  args: \n",
       "    1:\tSource @054 ⏎ `Table{AbstractVector{Continuous}}`\n",
       "    2:\tSource @264 ⏎ `AbstractVector{Continuous}`\n"
      ]
     },
     "execution_count": 10,
     "metadata": {},
     "output_type": "execute_result"
    }
   ],
   "source": [
    "ensemble = machine(ensemble_model, X, y)"
   ]
  },
  {
   "cell_type": "code",
   "execution_count": 11,
   "id": "8d0efc7c",
   "metadata": {},
   "outputs": [
    {
     "name": "stderr",
     "output_type": "stream",
     "text": [
      "\u001b[33mEvaluating over 6 folds: 100%[=========================] Time: 0:00:00\u001b[39m\n"
     ]
    },
    {
     "data": {
      "text/plain": [
       "PerformanceEvaluation object with these fields:\n",
       "  measure, measurement, operation, per_fold,\n",
       "  per_observation, fitted_params_per_fold,\n",
       "  report_per_fold, train_test_pairs\n",
       "Extract:\n",
       "┌────────────────────────┬─────────────┬───────────┬────────────────────────────\n",
       "│\u001b[22m measure                \u001b[0m│\u001b[22m measurement \u001b[0m│\u001b[22m operation \u001b[0m│\u001b[22m per_fold                 \u001b[0m ⋯\n",
       "├────────────────────────┼─────────────┼───────────┼────────────────────────────\n",
       "│ RootMeanSquaredError() │ 0.0855      │ predict   │ [0.0927, 0.111, 0.0747, 0 ⋯\n",
       "└────────────────────────┴─────────────┴───────────┴────────────────────────────\n",
       "\u001b[36m                                                                1 column omitted\u001b[0m\n"
      ]
     },
     "execution_count": 11,
     "metadata": {},
     "output_type": "execute_result"
    }
   ],
   "source": [
    "estimates = evaluate!(ensemble, resampling = CV())\n",
    "estimates"
   ]
  },
  {
   "cell_type": "markdown",
   "id": "c4c009ce",
   "metadata": {},
   "source": [
    "here the implicit measure is the ```rms``` (default for regressions). The ```measurement``` is the mean taken over the folds:"
   ]
  },
  {
   "cell_type": "code",
   "execution_count": 12,
   "id": "1ab6d2b3",
   "metadata": {},
   "outputs": [
    {
     "name": "stdout",
     "output_type": "stream",
     "text": [
      "estimates.measurement[1] = 0.08549444941634217\n"
     ]
    },
    {
     "data": {
      "text/plain": [
       "0.08549444941634217"
      ]
     },
     "execution_count": 12,
     "metadata": {},
     "output_type": "execute_result"
    }
   ],
   "source": [
    "@show estimates.measurement[1]"
   ]
  },
  {
   "cell_type": "code",
   "execution_count": 13,
   "id": "c1c3be99",
   "metadata": {},
   "outputs": [
    {
     "name": "stdout",
     "output_type": "stream",
     "text": [
      "mean(estimates.per_fold[1]) = "
     ]
    },
    {
     "data": {
      "text/plain": [
       "0.08407706743881495"
      ]
     },
     "execution_count": 13,
     "metadata": {},
     "output_type": "execute_result"
    },
    {
     "name": "stdout",
     "output_type": "stream",
     "text": [
      "0.08407706743881495\n"
     ]
    }
   ],
   "source": [
    "@show mean(estimates.per_fold[1])"
   ]
  },
  {
   "cell_type": "code",
   "execution_count": 14,
   "id": "29704897",
   "metadata": {},
   "outputs": [
    {
     "name": "stdout",
     "output_type": "stream",
     "text": [
      "estimates.per_fold = [[0.09273655266765406, 0.11050584019210129, 0.07471507989124739, 0.09092921743027396, 0.06649490544635518, 0.06908080900525779]]\n"
     ]
    },
    {
     "data": {
      "text/plain": [
       "1-element Vector{Vector{Float64}}:\n",
       " [0.09273655266765406, 0.11050584019210129, 0.07471507989124739, 0.09092921743027396, 0.06649490544635518, 0.06908080900525779]"
      ]
     },
     "execution_count": 14,
     "metadata": {},
     "output_type": "execute_result"
    }
   ],
   "source": [
    "@show estimates.per_fold"
   ]
  },
  {
   "cell_type": "markdown",
   "id": "b92ae1c3",
   "metadata": {},
   "source": [
    "Note that multiple measurements can be specified jointly. Here only on measurement is (implicitly) specified but we still have to select the corresponding results (whence the ```[1]``` for both the ```measurement``` and ```per_fold```)."
   ]
  },
  {
   "cell_type": "markdown",
   "id": "5b9a433f",
   "metadata": {},
   "source": [
    "### Systematic tuning"
   ]
  },
  {
   "cell_type": "markdown",
   "id": "eeabdd57",
   "metadata": {},
   "source": [
    "Let's simultaneously tune the ensemble's ```bagging_fraction``` and the K-Nearest neighbour hyperparameter ```K```. Since one of our models is a field of the other, we have nested hyperparameters:"
   ]
  },
  {
   "cell_type": "code",
   "execution_count": 15,
   "id": "95a4475b",
   "metadata": {},
   "outputs": [
    {
     "name": "stdout",
     "output_type": "stream",
     "text": [
      "(model = (K = 10,\n",
      "          algorithm = :kdtree,\n",
      "          metric = Distances.Euclidean(0.0),\n",
      "          leafsize = 10,\n",
      "          reorder = true,\n",
      "          weights = NearestNeighborModels.Uniform()),\n",
      " atomic_weights = [],\n",
      " bagging_fraction = 0.8,\n",
      " rng = Random._GLOBAL_RNG(),\n",
      " n = 20,\n",
      " acceleration = CPU1{Nothing}(nothing),\n",
      " out_of_bag_measure = [])"
     ]
    }
   ],
   "source": [
    "params(ensemble_model) |> pprint"
   ]
  },
  {
   "cell_type": "markdown",
   "id": "7aad96d0",
   "metadata": {},
   "source": [
    "To define a tunning grid, we construct ranges for the two parameters and collate these ranges:"
   ]
  },
  {
   "cell_type": "code",
   "execution_count": 16,
   "id": "00be3a36",
   "metadata": {},
   "outputs": [
    {
     "data": {
      "text/plain": [
       "NumericRange(1 ≤ model.K ≤ 20; origin=10.5, unit=9.5)"
      ]
     },
     "execution_count": 16,
     "metadata": {},
     "output_type": "execute_result"
    }
   ],
   "source": [
    "B_range = range(ensemble_model, :bagging_fraction, lower = 0.5, upper = 1.0)\n",
    "K_range = range(ensemble_model, :(model.K), lower = 1, upper = 20)"
   ]
  },
  {
   "cell_type": "markdown",
   "id": "34c39319",
   "metadata": {},
   "source": [
    "the scale for a tunning grid is linear by default but can be specified to ```:log10``` for logarithmic ranges. Now we have to define a ```Tunemodel``` and fit it:"
   ]
  },
  {
   "cell_type": "code",
   "execution_count": 17,
   "id": "4ba278cd",
   "metadata": {},
   "outputs": [
    {
     "name": "stderr",
     "output_type": "stream",
     "text": [
      "┌ Info: No measure specified. Setting measure=RootMeanSquaredError(). \n",
      "└ @ MLJTuning C:\\Users\\jeffr\\.julia\\packages\\MLJTuning\\Al9yX\\src\\tuned_models.jl:308\n",
      "┌ Info: Training Machine{DeterministicTunedModel{Grid,…},…}.\n",
      "└ @ MLJBase C:\\Users\\jeffr\\.julia\\packages\\MLJBase\\MuLnJ\\src\\machines.jl:464\n",
      "┌ Info: Attempting to evaluate 100 models.\n",
      "└ @ MLJTuning C:\\Users\\jeffr\\.julia\\packages\\MLJTuning\\Al9yX\\src\\tuned_models.jl:680\n",
      "\u001b[33mEvaluating over 100 metamodels: 100%[=========================] Time: 0:00:01\u001b[39m\n"
     ]
    }
   ],
   "source": [
    "tm = TunedModel(model = ensemble_model, \n",
    "                tuning = Grid(resolution = 10), # 10x10 grid\n",
    "                resampling = Holdout(fraction_train = 0.8, rng = StableRNG(42)),\n",
    "                ranges = [B_range, K_range])\n",
    "\n",
    "tuned_ensemble = machine(tm, X, y)\n",
    "fit!(tuned_ensemble, rows = train);"
   ]
  },
  {
   "cell_type": "markdown",
   "id": "90dd977a",
   "metadata": {},
   "source": [
    "Note the ```rng = 42``` seeds the random number generator for reproducibility of this example."
   ]
  },
  {
   "cell_type": "markdown",
   "id": "bf3daa62",
   "metadata": {},
   "source": [
    "### Reporting results"
   ]
  },
  {
   "cell_type": "markdown",
   "id": "fccc0939",
   "metadata": {},
   "source": [
    "The best model can be accessed like so:"
   ]
  },
  {
   "cell_type": "code",
   "execution_count": null,
   "id": "05e87b10",
   "metadata": {},
   "outputs": [],
   "source": [
    "best_ensemble = fitted_params(tuned_ensemble).best_model"
   ]
  },
  {
   "cell_type": "code",
   "execution_count": 19,
   "id": "e071a280",
   "metadata": {},
   "outputs": [
    {
     "name": "stdout",
     "output_type": "stream",
     "text": [
      "best_ensemble.model.K = 3\n"
     ]
    },
    {
     "data": {
      "text/plain": [
       "3"
      ]
     },
     "execution_count": 19,
     "metadata": {},
     "output_type": "execute_result"
    }
   ],
   "source": [
    "@show best_ensemble.model.K"
   ]
  },
  {
   "cell_type": "code",
   "execution_count": 20,
   "id": "c00ff44b",
   "metadata": {},
   "outputs": [
    {
     "name": "stdout",
     "output_type": "stream",
     "text": [
      "best_ensemble.bagging_fraction = 0.6666666666666666\n"
     ]
    },
    {
     "data": {
      "text/plain": [
       "0.6666666666666666"
      ]
     },
     "execution_count": 20,
     "metadata": {},
     "output_type": "execute_result"
    }
   ],
   "source": [
    "@show best_ensemble.bagging_fraction"
   ]
  },
  {
   "cell_type": "markdown",
   "id": "e8bfb487",
   "metadata": {},
   "source": [
    "The ```report``` method gives more detailed information on the tuning process:"
   ]
  },
  {
   "cell_type": "code",
   "execution_count": 21,
   "id": "0fd7d39d",
   "metadata": {},
   "outputs": [],
   "source": [
    "r = report(tuned_ensemble);"
   ]
  },
  {
   "cell_type": "markdown",
   "id": "5fdf310e",
   "metadata": {},
   "source": [
    "For instance, ```r.measurements``` are the measurements for all pairs of hyperparameters which you could visualise nicely:"
   ]
  },
  {
   "cell_type": "code",
   "execution_count": 22,
   "id": "de214482",
   "metadata": {},
   "outputs": [
    {
     "name": "stderr",
     "output_type": "stream",
     "text": [
      "┌ Warning: `vendor()` is deprecated, use `BLAS.get_config()` and inspect the output instead\n",
      "│   caller = npyinitialize() at numpy.jl:67\n",
      "└ @ PyCall C:\\Users\\jeffr\\.julia\\packages\\PyCall\\L0fLP\\src\\numpy.jl:67\n"
     ]
    },
    {
     "data": {
      "image/png": "[encoded data removed]",
      "text/plain": [
       "Figure(PyObject <Figure size 800x600 with 1 Axes>)"
      ]
     },
     "metadata": {},
     "output_type": "display_data"
    }
   ],
   "source": [
    "using PyPlot\n",
    "\n",
    "fig = figure(figsize = (8,6))\n",
    "vk\n",
    "res = r.plotting\n",
    "vals_b = res.parameter_values[:, 1]\n",
    "vals_k = res.parameter_values[:, 2]\n",
    "\n",
    "tricontourf(vals_b, vals_k, res.measurements)\n",
    "xticks(0.5:0.1:1, fontsize = 14)\n",
    "xlabel(\"Bagging fraction\", fontsize = 14)\n",
    "yticks([1, 5, 10, 15, 20], fontsize = 12)\n",
    "ylabel(\"Number of neighbors - K\", fontsize = 14)\n",
    "savefig(\"./plots/2.4.1.png\")"
   ]
  },
  {
   "cell_type": "markdown",
   "id": "f645c8e9",
   "metadata": {},
   "source": [
    "Finally you can always just evaluate the model by reporting ```rms``` on the test set:"
   ]
  },
  {
   "cell_type": "code",
   "execution_count": 23,
   "id": "05268bd4",
   "metadata": {},
   "outputs": [
    {
     "name": "stdout",
     "output_type": "stream",
     "text": [
      "rms(ŷ, y[test]) = 0.05476447843703387\n"
     ]
    },
    {
     "data": {
      "text/plain": [
       "0.05476447843703387"
      ]
     },
     "execution_count": 23,
     "metadata": {},
     "output_type": "execute_result"
    }
   ],
   "source": [
    "ŷ = predict(tuned_ensemble, rows = test)\n",
    "@show rms(ŷ, y[test])"
   ]
  }
 ],
 "metadata": {
  "hide_input": false,
  "kernelspec": {
   "display_name": "Julia 1.7.3",
   "language": "julia",
   "name": "julia-1.7"
  },
  "language_info": {
   "file_extension": ".jl",
   "mimetype": "application/julia",
   "name": "julia",
   "version": "1.7.3"
  }
 },
 "nbformat": 4,
 "nbformat_minor": 5
}
