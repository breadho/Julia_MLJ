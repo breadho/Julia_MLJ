{
 "cells": [
  {
   "cell_type": "markdown",
   "id": "f1e42f1d",
   "metadata": {},
   "source": [
    "# Getting started"
   ]
  },
  {
   "cell_type": "markdown",
   "id": "3c56af80",
   "metadata": {},
   "source": [
    "## Model tuning"
   ]
  },
  {
   "cell_type": "code",
   "execution_count": 1,
   "id": "daa4090a",
   "metadata": {},
   "outputs": [
    {
     "name": "stderr",
     "output_type": "stream",
     "text": [
      "\u001b[32m\u001b[1m  Activating\u001b[22m\u001b[39m project at `D:\\JULIA\\6_ML_with_Julia\\A-model-tuning`\n"
     ]
    }
   ],
   "source": [
    "using Pkg; Pkg.activate(\"D:/JULIA/6_ML_with_Julia/A-model-tuning\"); Pkg.instantiate()"
   ]
  },
  {
   "cell_type": "markdown",
   "id": "7d15c245",
   "metadata": {},
   "source": [
    "> Tuning a single hyperparameter\n",
    "> 1. Specifying a range of value\n",
    "> 2. Fitting and inspecting a tuned model\n",
    "\n",
    "> Tuning nested hyperparameters"
   ]
  },
  {
   "cell_type": "markdown",
   "id": "215e003d",
   "metadata": {},
   "source": [
    "### Tuning a single hyperparameter"
   ]
  },
  {
   "cell_type": "markdown",
   "id": "02fca5e1",
   "metadata": {},
   "source": [
    "In MLJ, tuning is implemented as a model wrapper. After wrapping a model in a tuning strategy (e.g. cross-validation) and binding the wrapped model to data in a machine, fitting the machine initiates a search for optimal model hyperparameters.\n",
    "\n",
    "Let's use a decision tree classifier and tune the maximum depth of the tree. As usual, start by loading data and the model"
   ]
  },
  {
   "cell_type": "code",
   "execution_count": 2,
   "id": "574717f6",
   "metadata": {},
   "outputs": [
    {
     "name": "stderr",
     "output_type": "stream",
     "text": [
      "┌ Info: For silent loading, specify `verbosity=0`. \n",
      "└ @ Main C:\\Users\\jeffr\\.julia\\packages\\MLJModels\\tMgLW\\src\\loading.jl:168\n"
     ]
    },
    {
     "name": "stdout",
     "output_type": "stream",
     "text": [
      "import MLJDecisionTreeInterface ✔\n"
     ]
    },
    {
     "data": {
      "text/plain": [
       "MLJDecisionTreeInterface.DecisionTreeClassifier"
      ]
     },
     "execution_count": 2,
     "metadata": {},
     "output_type": "execute_result"
    }
   ],
   "source": [
    "using MLJ\n",
    "using PrettyPrinting\n",
    "X, y = @load_iris\n",
    "DecisionTreeClassifier = @load DecisionTreeClassifier pkg=DecisionTree"
   ]
  },
  {
   "cell_type": "markdown",
   "id": "1f4dc8ee",
   "metadata": {},
   "source": [
    "### Specifying a range of value"
   ]
  },
  {
   "cell_type": "markdown",
   "id": "23d7ee19",
   "metadata": {},
   "source": [
    "To specify a range of value, you can use the ```range``` function:"
   ]
  },
  {
   "cell_type": "code",
   "execution_count": 3,
   "id": "43fc1311",
   "metadata": {},
   "outputs": [
    {
     "data": {
      "text/plain": [
       "NumericRange(1 ≤ max_depth ≤ 5; origin=3.0, unit=2.0)"
      ]
     },
     "execution_count": 3,
     "metadata": {},
     "output_type": "execute_result"
    }
   ],
   "source": [
    "dtc = DecisionTreeClassifier()\n",
    "r = range(dtc, :max_depth, lower = 1, upper = 5)"
   ]
  },
  {
   "cell_type": "markdown",
   "id": "5aad2b73",
   "metadata": {},
   "source": [
    "As you can see, the range function takes a model (```dtc```), a symbol for the hyperparameter of interest (```:max_depth```) and indication of how to samples values. For hyperparameters of type ```<:Real```, you should specify a range of values as done above. For hyperparameters of other type (e.g. ```Symbol```), you should use the ```values=...``` keyword.\n",
    "\n",
    "Once a range of values has been defined, you can then wrap the model in a ```TunedModel``` specifying the tuning strategy."
   ]
  },
  {
   "cell_type": "code",
   "execution_count": 4,
   "id": "f3bea254",
   "metadata": {},
   "outputs": [
    {
     "data": {
      "text/plain": [
       "ProbabilisticTunedModel(\n",
       "    model = DecisionTreeClassifier(\n",
       "            max_depth = -1,\n",
       "            min_samples_leaf = 1,\n",
       "            min_samples_split = 2,\n",
       "            min_purity_increase = 0.0,\n",
       "            n_subfeatures = 0,\n",
       "            post_prune = false,\n",
       "            merge_purity_threshold = 1.0,\n",
       "            pdf_smoothing = 0.0,\n",
       "            display_depth = 5,\n",
       "            rng = Random._GLOBAL_RNG()),\n",
       "    tuning = Grid(\n",
       "            goal = nothing,\n",
       "            resolution = 10,\n",
       "            shuffle = true,\n",
       "            rng = Random._GLOBAL_RNG()),\n",
       "    resampling = Holdout(\n",
       "            fraction_train = 0.7,\n",
       "            shuffle = false,\n",
       "            rng = Random._GLOBAL_RNG()),\n",
       "    measure = LogLoss(tol = 2.220446049250313e-16),\n",
       "    weights = nothing,\n",
       "    operation = nothing,\n",
       "    range = MLJBase.NumericRange{Int64, MLJBase.Bounded, Symbol}[NumericRange(1 ≤ max_depth ≤ 5; origin=3.0, unit=2.0)],\n",
       "    selection_heuristic = MLJTuning.NaiveSelection(nothing),\n",
       "    train_best = true,\n",
       "    repeats = 1,\n",
       "    n = nothing,\n",
       "    acceleration = CPU1{Nothing}(nothing),\n",
       "    acceleration_resampling = CPU1{Nothing}(nothing),\n",
       "    check_measure = true,\n",
       "    cache = true)"
      ]
     },
     "execution_count": 4,
     "metadata": {},
     "output_type": "execute_result"
    }
   ],
   "source": [
    "tm = TunedModel(model = dtc, ranges = [r, ], measure = cross_entropy)"
   ]
  },
  {
   "cell_type": "markdown",
   "id": "8bb52b0a",
   "metadata": {},
   "source": [
    "Note that \"wrapping a model in a tuning strategy\" as above means creating a new \"self-tuning\" version of the model, ```tuned_model = TunedModel(model=...)```, in which further key-word arguments specify:\n",
    "\n",
    "1. the algorithm (a.k.a., tuning strategy) for searching the hyper-parameter space of the model (e.g., ```tuning = Random(rng=123)``` or ```tuning = Grid(goal=100)```).\n",
    "\n",
    "2. the resampling strategy, used to evaluate performance for each value of the hyper-parameters (e.g., ```resampling=CV(nfolds=9, rng=123)``` or ```resampling=Holdout(fraction_train=0.7)```).\n",
    "\n",
    "3. the measure (or measures) on which to base performance evaluations (and for reporting purposes) (e.g., ```measure = rms``` or ```measures = [rms, mae]```).\n",
    "\n",
    "4. the range, usually describing the \"space\" of hyperparameters to be searched (but more generally whatever extra information is required to complete the search specification, e.g., initial values in gradient-descent optimization).\n",
    "\n",
    "For more options do ```?TunedModel```."
   ]
  },
  {
   "cell_type": "markdown",
   "id": "9bf3f902",
   "metadata": {},
   "source": [
    "### Fitting and inspecting a tuned model"
   ]
  },
  {
   "cell_type": "markdown",
   "id": "70fe3f5a",
   "metadata": {},
   "source": [
    "To fit a tuned model, you can use the usual syntax:"
   ]
  },
  {
   "cell_type": "code",
   "execution_count": 5,
   "id": "0082ee1c",
   "metadata": {},
   "outputs": [
    {
     "data": {
      "text/plain": [
       "Machine{ProbabilisticTunedModel{Grid,…},…} trained 0 times; caches data\n",
       "  model: MLJTuning.ProbabilisticTunedModel{Grid, MLJDecisionTreeInterface.DecisionTreeClassifier}\n",
       "  args: \n",
       "    1:\tSource @166 ⏎ `Table{AbstractVector{Continuous}}`\n",
       "    2:\tSource @953 ⏎ `AbstractVector{Multiclass{3}}`\n"
      ]
     },
     "execution_count": 5,
     "metadata": {},
     "output_type": "execute_result"
    }
   ],
   "source": [
    "m = machine(tm, X, y)"
   ]
  },
  {
   "cell_type": "code",
   "execution_count": 6,
   "id": "890e38db",
   "metadata": {},
   "outputs": [
    {
     "name": "stderr",
     "output_type": "stream",
     "text": [
      "┌ Info: Training Machine{ProbabilisticTunedModel{Grid,…},…}.\n",
      "└ @ MLJBase C:\\Users\\jeffr\\.julia\\packages\\MLJBase\\MuLnJ\\src\\machines.jl:464\n",
      "┌ Info: Attempting to evaluate 5 models.\n",
      "└ @ MLJTuning C:\\Users\\jeffr\\.julia\\packages\\MLJTuning\\Al9yX\\src\\tuned_models.jl:680\n",
      "\u001b[33mEvaluating over 5 metamodels: 100%[=========================] Time: 0:00:06\u001b[39m\n"
     ]
    },
    {
     "data": {
      "text/plain": [
       "Machine{ProbabilisticTunedModel{Grid,…},…} trained 1 time; caches data\n",
       "  model: MLJTuning.ProbabilisticTunedModel{Grid, MLJDecisionTreeInterface.DecisionTreeClassifier}\n",
       "  args: \n",
       "    1:\tSource @166 ⏎ `Table{AbstractVector{Continuous}}`\n",
       "    2:\tSource @953 ⏎ `AbstractVector{Multiclass{3}}`\n"
      ]
     },
     "execution_count": 6,
     "metadata": {},
     "output_type": "execute_result"
    }
   ],
   "source": [
    "fit!(m)"
   ]
  },
  {
   "cell_type": "markdown",
   "id": "22533838",
   "metadata": {},
   "source": [
    "In order to inspect the best model, you can use the function ```fitted_params``` on the machine and inspect the ```best_model``` field:"
   ]
  },
  {
   "cell_type": "code",
   "execution_count": 7,
   "id": "446d05ad",
   "metadata": {},
   "outputs": [
    {
     "data": {
      "text/plain": [
       "DecisionTreeClassifier(\n",
       "    max_depth = 1,\n",
       "    min_samples_leaf = 1,\n",
       "    min_samples_split = 2,\n",
       "    min_purity_increase = 0.0,\n",
       "    n_subfeatures = 0,\n",
       "    post_prune = false,\n",
       "    merge_purity_threshold = 1.0,\n",
       "    pdf_smoothing = 0.0,\n",
       "    display_depth = 5,\n",
       "    rng = Random._GLOBAL_RNG())"
      ]
     },
     "execution_count": 7,
     "metadata": {},
     "output_type": "execute_result"
    }
   ],
   "source": [
    "fitted_params(m).best_model"
   ]
  },
  {
   "cell_type": "code",
   "execution_count": 8,
   "id": "47fa1ce9",
   "metadata": {},
   "outputs": [
    {
     "data": {
      "text/plain": [
       "1"
      ]
     },
     "execution_count": 8,
     "metadata": {},
     "output_type": "execute_result"
    }
   ],
   "source": [
    "fitted_params(m).best_model.max_depth"
   ]
  },
  {
   "cell_type": "markdown",
   "id": "0c34faf0",
   "metadata": {},
   "source": [
    "Note that here we have tuned a probabilistic model and consequently used a probabilistic measure for the tuning. We could also have decided we only cared about the mode and the misclassification rate, to do this, just use ```operation=predict_mode``` in the tuned model:"
   ]
  },
  {
   "cell_type": "code",
   "execution_count": 9,
   "id": "91420398",
   "metadata": {},
   "outputs": [
    {
     "name": "stderr",
     "output_type": "stream",
     "text": [
      "┌ Info: Training Machine{ProbabilisticTunedModel{Grid,…},…}.\n",
      "└ @ MLJBase C:\\Users\\jeffr\\.julia\\packages\\MLJBase\\MuLnJ\\src\\machines.jl:464\n",
      "┌ Info: Attempting to evaluate 5 models.\n",
      "└ @ MLJTuning C:\\Users\\jeffr\\.julia\\packages\\MLJTuning\\Al9yX\\src\\tuned_models.jl:680\n",
      "\u001b[33mEvaluating over 5 metamodels: 100%[=========================] Time: 0:00:00\u001b[39m\n"
     ]
    },
    {
     "data": {
      "text/plain": [
       "DecisionTreeClassifier(\n",
       "    max_depth = 2,\n",
       "    min_samples_leaf = 1,\n",
       "    min_samples_split = 2,\n",
       "    min_purity_increase = 0.0,\n",
       "    n_subfeatures = 0,\n",
       "    post_prune = false,\n",
       "    merge_purity_threshold = 1.0,\n",
       "    pdf_smoothing = 0.0,\n",
       "    display_depth = 5,\n",
       "    rng = Random._GLOBAL_RNG())"
      ]
     },
     "execution_count": 9,
     "metadata": {},
     "output_type": "execute_result"
    }
   ],
   "source": [
    "tm = TunedModel(model = dtc,\n",
    "                ranges = r, \n",
    "                operation = predict_mode, \n",
    "                measure = misclassification_rate)\n",
    "m = machine(tm, X, y)\n",
    "fit!(m)\n",
    "fitted_params(m).best_model"
   ]
  },
  {
   "cell_type": "code",
   "execution_count": 10,
   "id": "b048e94b",
   "metadata": {},
   "outputs": [
    {
     "data": {
      "text/plain": [
       "2"
      ]
     },
     "execution_count": 10,
     "metadata": {},
     "output_type": "execute_result"
    }
   ],
   "source": [
    "fitted_params(m).best_model.max_depth"
   ]
  },
  {
   "cell_type": "code",
   "execution_count": 11,
   "id": "808a4928",
   "metadata": {},
   "outputs": [
    {
     "data": {
      "text/plain": [
       "(best_model = DecisionTreeClassifier,\n",
       " best_history_entry = (model = DecisionTreeClassifier,\n",
       "                       measure = [MisclassificationRate()],\n",
       "                       measurement = [0.1111111111111111],\n",
       "                       per_fold = [[0.1111111111111111]],),\n",
       " history = NamedTuple{(:model, :measure, :measurement, :per_fold), Tuple{MLJDecisionTreeInterface.DecisionTreeClassifier, Vector{MisclassificationRate}, Vector{Float64}, Vector{Vector{Float64}}}}[(model = DecisionTreeClassifier, measure = [MisclassificationRate()], measurement = [0.1111111111111111], per_fold = [[0.1111111111111111]]), (model = DecisionTreeClassifier, measure = [MisclassificationRate()], measurement = [0.2222222222222222], per_fold = [[0.2222222222222222]]), (model = DecisionTreeClassifier, measure = [MisclassificationRate()], measurement = [0.26666666666666666], per_fold = [[0.26666666666666666]]), (model = DecisionTreeClassifier, measure = [MisclassificationRate()], measurement = [1.0], per_fold = [[1.0]]), (model = DecisionTreeClassifier, measure = [MisclassificationRate()], measurement = [0.26666666666666666], per_fold = [[0.26666666666666666]])],\n",
       " best_report = (classes_seen = CategoricalArrays.CategoricalValue{String, UInt32}[\"setosa\", \"versicolor\", \"virginica\"],\n",
       "                print_tree = TreePrinter object (call with display depth),),\n",
       " plotting = (parameter_names = [\"max_depth\"],\n",
       "             parameter_scales = [:linear],\n",
       "             parameter_values = Any[2; 4; … ; 1; 3;;],\n",
       "             measurements = [0.1111111111111111, 0.2222222222222222, 0.26666666666666666, 1.0, 0.26666666666666666],),)"
      ]
     },
     "execution_count": 11,
     "metadata": {},
     "output_type": "execute_result"
    }
   ],
   "source": [
    "r = report(m)"
   ]
  },
  {
   "cell_type": "code",
   "execution_count": 12,
   "id": "11e77f60",
   "metadata": {},
   "outputs": [
    {
     "data": {
      "text/plain": [
       "0.1111111111111111"
      ]
     },
     "execution_count": 12,
     "metadata": {},
     "output_type": "execute_result"
    }
   ],
   "source": [
    "r.best_history_entry.measurement[1]"
   ]
  },
  {
   "cell_type": "markdown",
   "id": "8b9911e9",
   "metadata": {},
   "source": [
    "Anyone wants plots? of course:"
   ]
  },
  {
   "cell_type": "code",
   "execution_count": 13,
   "id": "1e77e8bc",
   "metadata": {},
   "outputs": [
    {
     "name": "stderr",
     "output_type": "stream",
     "text": [
      "┌ Warning: `vendor()` is deprecated, use `BLAS.get_config()` and inspect the output instead\n",
      "│   caller = npyinitialize() at numpy.jl:67\n",
      "└ @ PyCall C:\\Users\\jeffr\\.julia\\packages\\PyCall\\L0fLP\\src\\numpy.jl:67\n"
     ]
    },
    {
     "data": {
      "image/png": "[encoded data removed]",
      "text/plain": [
       "Figure(PyObject <Figure size 800x600 with 1 Axes>)"
      ]
     },
     "metadata": {},
     "output_type": "display_data"
    }
   ],
   "source": [
    "using PyPlot\n",
    "figure(figsize = (8, 6))\n",
    "res = r.plotting  # contains all you need for plotting\n",
    "plot(res.parameter_values, res.measurements, ls = \"none\", marker = \"o\")\n",
    "\n",
    "xticks(1:5, fontsize = 12)\n",
    "yticks(fontsize = 12)\n",
    "xlabel(\"Maximum depth\", fontsize = 14)\n",
    "ylabel(\"Misclassification rate\", fontsize = 14)\n",
    "ylim([0, 1])\n",
    "savefig(\"./plots/2.3.1.png\")"
   ]
  },
  {
   "cell_type": "markdown",
   "id": "2f664765",
   "metadata": {},
   "source": [
    "### Tuning nested hyperparameters"
   ]
  },
  {
   "cell_type": "markdown",
   "id": "96e82a01",
   "metadata": {},
   "source": [
    "Let's generate simple dummy regression data"
   ]
  },
  {
   "cell_type": "code",
   "execution_count": 14,
   "id": "e6346879",
   "metadata": {},
   "outputs": [],
   "source": [
    "X = (x1 = rand(100), x2 = rand(100), x3 = rand(100))\n",
    "y = 2X.x1 - X.x2 + 0.05*randn(100);"
   ]
  },
  {
   "cell_type": "markdown",
   "id": "a6809b33",
   "metadata": {},
   "source": [
    "Let's then build a simple ensemble model with decision tree regressors:"
   ]
  },
  {
   "cell_type": "code",
   "execution_count": 15,
   "id": "082ba423",
   "metadata": {},
   "outputs": [
    {
     "name": "stdout",
     "output_type": "stream",
     "text": [
      "import MLJDecisionTreeInterface"
     ]
    },
    {
     "name": "stderr",
     "output_type": "stream",
     "text": [
      "┌ Info: For silent loading, specify `verbosity=0`. \n",
      "└ @ Main C:\\Users\\jeffr\\.julia\\packages\\MLJModels\\tMgLW\\src\\loading.jl:168\n"
     ]
    },
    {
     "name": "stdout",
     "output_type": "stream",
     "text": [
      " ✔\n"
     ]
    },
    {
     "data": {
      "text/plain": [
       "DeterministicEnsembleModel(\n",
       "    model = DecisionTreeRegressor(\n",
       "            max_depth = -1,\n",
       "            min_samples_leaf = 5,\n",
       "            min_samples_split = 2,\n",
       "            min_purity_increase = 0.0,\n",
       "            n_subfeatures = 0,\n",
       "            post_prune = false,\n",
       "            merge_purity_threshold = 1.0,\n",
       "            rng = Random._GLOBAL_RNG()),\n",
       "    atomic_weights = Float64[],\n",
       "    bagging_fraction = 0.8,\n",
       "    rng = Random._GLOBAL_RNG(),\n",
       "    n = 100,\n",
       "    acceleration = CPU1{Nothing}(nothing),\n",
       "    out_of_bag_measure = Any[])"
      ]
     },
     "execution_count": 15,
     "metadata": {},
     "output_type": "execute_result"
    }
   ],
   "source": [
    "DecisionTreeRegressor = @load DecisionTreeRegressor pkg=DecisionTree\n",
    "forest = EnsembleModel(model = DecisionTreeRegressor())"
   ]
  },
  {
   "cell_type": "markdown",
   "id": "128e00ec",
   "metadata": {},
   "source": [
    "Such a model has nested hyperparameters in that the ensemble has hyperparameters (e.g. the ```:bagging_fraction```) and the atom has hyperparameters (e.g. ```:n_subfeatures``` or ```:max_depth```). You can see this by inspecting the parameters using ```params```:"
   ]
  },
  {
   "cell_type": "code",
   "execution_count": 16,
   "id": "4b40e159",
   "metadata": {},
   "outputs": [
    {
     "name": "stdout",
     "output_type": "stream",
     "text": [
      "(model = (max_depth = -1,\n",
      "          min_samples_leaf = 5,\n",
      "          min_samples_split = 2,\n",
      "          min_purity_increase = 0.0,\n",
      "          n_subfeatures = 0,\n",
      "          post_prune = false,\n",
      "          merge_purity_threshold = 1.0,\n",
      "          rng = Random._GLOBAL_RNG()),\n",
      " atomic_weights = [],\n",
      " bagging_fraction = 0.8,\n",
      " rng = Random._GLOBAL_RNG(),\n",
      " n = 100,\n",
      " acceleration = CPU1{Nothing}(nothing),\n",
      " out_of_bag_measure = [])"
     ]
    }
   ],
   "source": [
    "params(forest) |> pprint"
   ]
  },
  {
   "cell_type": "markdown",
   "id": "a723476e",
   "metadata": {},
   "source": [
    "Range for nested hyperparameters are specified using dot syntax, the rest is done in much the same way as before:"
   ]
  },
  {
   "cell_type": "code",
   "execution_count": 17,
   "id": "e2ba9062",
   "metadata": {},
   "outputs": [
    {
     "data": {
      "text/plain": [
       "DeterministicTunedModel(\n",
       "    model = DeterministicEnsembleModel(\n",
       "            model = DecisionTreeRegressor,\n",
       "            atomic_weights = Float64[],\n",
       "            bagging_fraction = 0.8,\n",
       "            rng = Random._GLOBAL_RNG(),\n",
       "            n = 100,\n",
       "            acceleration = CPU1{Nothing}(nothing),\n",
       "            out_of_bag_measure = Any[]),\n",
       "    tuning = Grid(\n",
       "            goal = nothing,\n",
       "            resolution = 12,\n",
       "            shuffle = true,\n",
       "            rng = Random._GLOBAL_RNG()),\n",
       "    resampling = CV(\n",
       "            nfolds = 6,\n",
       "            shuffle = false,\n",
       "            rng = Random._GLOBAL_RNG()),\n",
       "    measure = RootMeanSquaredError(),\n",
       "    weights = nothing,\n",
       "    operation = nothing,\n",
       "    range = MLJBase.NumericRange{T, MLJBase.Bounded, Symbol} where T[NumericRange(1 ≤ model.n_subfeatures ≤ 3; origin=2.0, unit=1.0), NumericRange(0.4 ≤ bagging_fraction ≤ 1.0; origin=0.7, unit=0.3)],\n",
       "    selection_heuristic = MLJTuning.NaiveSelection(nothing),\n",
       "    train_best = true,\n",
       "    repeats = 1,\n",
       "    n = nothing,\n",
       "    acceleration = CPU1{Nothing}(nothing),\n",
       "    acceleration_resampling = CPU1{Nothing}(nothing),\n",
       "    check_measure = true,\n",
       "    cache = true)"
      ]
     },
     "execution_count": 17,
     "metadata": {},
     "output_type": "execute_result"
    }
   ],
   "source": [
    "r1 = range(forest, :(model.n_subfeatures), lower = 1, upper = 3)\n",
    "r2 = range(forest, :bagging_fraction, lower = 0.4, upper = 1.0)\n",
    "tm = TunedModel(model = forest, \n",
    "                tuning = Grid(resolution = 12),\n",
    "                resampling = CV(nfolds = 6),\n",
    "                ranges = [r1, r2],\n",
    "                measure = rms)"
   ]
  },
  {
   "cell_type": "code",
   "execution_count": 18,
   "id": "c64d7a7e",
   "metadata": {},
   "outputs": [
    {
     "data": {
      "text/plain": [
       "Machine{DeterministicTunedModel{Grid,…},…} trained 0 times; caches data\n",
       "  model: MLJTuning.DeterministicTunedModel{Grid, MLJEnsembles.DeterministicEnsembleModel{MLJDecisionTreeInterface.DecisionTreeRegressor}}\n",
       "  args: \n",
       "    1:\tSource @541 ⏎ `Table{AbstractVector{Continuous}}`\n",
       "    2:\tSource @771 ⏎ `AbstractVector{Continuous}`\n"
      ]
     },
     "execution_count": 18,
     "metadata": {},
     "output_type": "execute_result"
    }
   ],
   "source": [
    "m = machine(tm, X, y)"
   ]
  },
  {
   "cell_type": "code",
   "execution_count": 19,
   "id": "b5c7437c",
   "metadata": {},
   "outputs": [
    {
     "name": "stderr",
     "output_type": "stream",
     "text": [
      "┌ Info: Training Machine{DeterministicTunedModel{Grid,…},…}.\n",
      "└ @ MLJBase C:\\Users\\jeffr\\.julia\\packages\\MLJBase\\MuLnJ\\src\\machines.jl:464\n",
      "┌ Info: Attempting to evaluate 36 models.\n",
      "└ @ MLJTuning C:\\Users\\jeffr\\.julia\\packages\\MLJTuning\\Al9yX\\src\\tuned_models.jl:680\n",
      "\u001b[33mEvaluating over 36 metamodels: 100%[=========================] Time: 0:00:03\u001b[39m\n"
     ]
    },
    {
     "data": {
      "text/plain": [
       "Machine{DeterministicTunedModel{Grid,…},…} trained 1 time; caches data\n",
       "  model: MLJTuning.DeterministicTunedModel{Grid, MLJEnsembles.DeterministicEnsembleModel{MLJDecisionTreeInterface.DecisionTreeRegressor}}\n",
       "  args: \n",
       "    1:\tSource @541 ⏎ `Table{AbstractVector{Continuous}}`\n",
       "    2:\tSource @771 ⏎ `AbstractVector{Continuous}`\n"
      ]
     },
     "execution_count": 19,
     "metadata": {},
     "output_type": "execute_result"
    }
   ],
   "source": [
    "fit!(m)"
   ]
  },
  {
   "cell_type": "markdown",
   "id": "6dd0c016",
   "metadata": {},
   "source": [
    "A useful function to inspect a model after fitting it is the ```report``` function which collects information on the model and the tuning, for instance you can use it to recover the best measurement:"
   ]
  },
  {
   "cell_type": "code",
   "execution_count": 20,
   "id": "8359bb66",
   "metadata": {},
   "outputs": [
    {
     "data": {
      "text/plain": [
       "0.1868492251495128"
      ]
     },
     "execution_count": 20,
     "metadata": {},
     "output_type": "execute_result"
    }
   ],
   "source": [
    "r = report(m);\n",
    "r.best_history_entry.measurement[1]"
   ]
  },
  {
   "cell_type": "code",
   "execution_count": 21,
   "id": "82613729",
   "metadata": {},
   "outputs": [
    {
     "data": {
      "text/plain": [
       "36-element Vector{Any}:\n",
       " 2\n",
       " 3\n",
       " 1\n",
       " 2\n",
       " 1\n",
       " 3\n",
       " 3\n",
       " 3\n",
       " 2\n",
       " 1\n",
       " 1\n",
       " 2\n",
       " 1\n",
       " ⋮\n",
       " 3\n",
       " 1\n",
       " 2\n",
       " 1\n",
       " 3\n",
       " 1\n",
       " 2\n",
       " 3\n",
       " 1\n",
       " 2\n",
       " 3\n",
       " 2"
      ]
     },
     "execution_count": 21,
     "metadata": {},
     "output_type": "execute_result"
    }
   ],
   "source": [
    "r.plotting.parameter_values[:,1]"
   ]
  },
  {
   "cell_type": "markdown",
   "id": "dbd0a689",
   "metadata": {},
   "source": [
    "Let's visualise this"
   ]
  },
  {
   "cell_type": "code",
   "execution_count": 22,
   "id": "7d13074b",
   "metadata": {},
   "outputs": [
    {
     "data": {
      "image/png": "[encoded data removed]",
      "text/plain": [
       "Figure(PyObject <Figure size 800x600 with 1 Axes>)"
      ]
     },
     "metadata": {},
     "output_type": "display_data"
    }
   ],
   "source": [
    "figure(figsize=(8,6))\n",
    "\n",
    "res = r.plotting\n",
    "\n",
    "vals_sf = res.parameter_values[:, 1]\n",
    "vals_bf = res.parameter_values[:, 2]\n",
    "\n",
    "tricontourf(vals_sf, vals_bf, res.measurements)\n",
    "xlabel(\"Number of sub-features\", fontsize=14)\n",
    "ylabel(\"Bagging fraction\", fontsize=14)\n",
    "xticks([1, 2, 3], fontsize=12)\n",
    "yticks(fontsize=12)\n",
    "savefig(\"./plots/2.3.2.png\")"
   ]
  },
  {
   "cell_type": "code",
   "execution_count": 24,
   "id": "33b0f8ac",
   "metadata": {},
   "outputs": [
    {
     "data": {
      "text/plain": [
       "36-element Vector{Float64}:\n",
       " 1.8797008359892016\n",
       " 2.2228104525543797\n",
       " 3.2706935418519127\n",
       " 1.8721914949685856\n",
       " 2.7232066167348012\n",
       " 1.868492251495128\n",
       " 1.9568501986121878\n",
       " 1.9347908883935607\n",
       " 2.299877631892534\n",
       " 3.22052997122921\n",
       " 2.892601045225227\n",
       " 2.049730977629894\n",
       " 3.072117731428052\n",
       " ⋮\n",
       " 1.9313215020372108\n",
       " 2.779908081460941\n",
       " 1.9711048020557698\n",
       " 3.42104486013987\n",
       " 2.023967681949732\n",
       " 2.762290519406064\n",
       " 2.4862538565205154\n",
       " 1.8884985725713577\n",
       " 3.062971818557498\n",
       " 1.9658500850086016\n",
       " 1.8897342542769282\n",
       " 2.340497302601842"
      ]
     },
     "execution_count": 24,
     "metadata": {},
     "output_type": "execute_result"
    }
   ],
   "source": [
    "res.measurements * 10"
   ]
  },
  {
   "cell_type": "code",
   "execution_count": 52,
   "id": "4165d420",
   "metadata": {},
   "outputs": [
    {
     "data": {
      "text/plain": [
       "2-element Vector{Any}:\n",
       " 1\n",
       " 0.45454545454545453"
      ]
     },
     "execution_count": 52,
     "metadata": {},
     "output_type": "execute_result"
    }
   ],
   "source": [
    "res.parameter_values[10, :]"
   ]
  },
  {
   "cell_type": "code",
   "execution_count": 53,
   "id": "8d67693a",
   "metadata": {},
   "outputs": [
    {
     "data": {
      "text/plain": [
       "0.322052997122921"
      ]
     },
     "execution_count": 53,
     "metadata": {},
     "output_type": "execute_result"
    }
   ],
   "source": [
    "res.measurements[10]"
   ]
  },
  {
   "cell_type": "code",
   "execution_count": 47,
   "id": "178628c0",
   "metadata": {},
   "outputs": [
    {
     "data": {
      "text/plain": [
       "2-element Vector{Any}:\n",
       " 3\n",
       " 0.6727272727272727"
      ]
     },
     "execution_count": 47,
     "metadata": {},
     "output_type": "execute_result"
    }
   ],
   "source": [
    "res.parameter_values[7, :]"
   ]
  },
  {
   "cell_type": "code",
   "execution_count": 48,
   "id": "7d03725c",
   "metadata": {},
   "outputs": [
    {
     "data": {
      "text/plain": [
       "0.19568501986121878"
      ]
     },
     "execution_count": 48,
     "metadata": {},
     "output_type": "execute_result"
    }
   ],
   "source": [
    "res.measurements[7]"
   ]
  }
 ],
 "metadata": {
  "hide_input": false,
  "kernelspec": {
   "display_name": "Julia 1.7.3",
   "language": "julia",
   "name": "julia-1.7"
  },
  "language_info": {
   "file_extension": ".jl",
   "mimetype": "application/julia",
   "name": "julia",
   "version": "1.7.3"
  }
 },
 "nbformat": 4,
 "nbformat_minor": 5
}
