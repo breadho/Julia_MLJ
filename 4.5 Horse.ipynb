{
 "cells": [
  {
   "cell_type": "markdown",
   "id": "3f307e30",
   "metadata": {},
   "source": [
    "# End to end examples"
   ]
  },
  {
   "cell_type": "markdown",
   "id": "f11558e6",
   "metadata": {},
   "source": [
    "## Horse colic data"
   ]
  },
  {
   "cell_type": "code",
   "execution_count": 1,
   "id": "c4e08859",
   "metadata": {},
   "outputs": [
    {
     "name": "stderr",
     "output_type": "stream",
     "text": [
      "\u001b[32m\u001b[1m  Activating\u001b[22m\u001b[39m project at `D:\\JULIA\\6_ML_with_Julia\\EX-horse`\n"
     ]
    }
   ],
   "source": [
    "using Pkg; Pkg.activate(\"D:/JULIA/6_ML_with_Julia/EX-horse\"); Pkg.instantiate()"
   ]
  },
  {
   "cell_type": "markdown",
   "id": "fed494f2",
   "metadata": {},
   "source": [
    "> Initial data processing\n",
    "> 1. Getting the data\n",
    "> 2. Inspecting columns\n",
    "> 3. Dealing with missing values\n",
    "\n",
    "> A baseline model <br>\n",
    "> Trying another model"
   ]
  },
  {
   "cell_type": "markdown",
   "id": "bfe5dc49",
   "metadata": {},
   "source": [
    "### Initial data processing\n",
    "---"
   ]
  },
  {
   "cell_type": "markdown",
   "id": "1e5bcefd",
   "metadata": {},
   "source": [
    "In this example, we consider the UCI \"horse colic\" dataset\n",
    "\n",
    "This is a reasonably messy classification problem with missing values etc and so some work should be expected in the feature processing."
   ]
  },
  {
   "cell_type": "markdown",
   "id": "cf4375c6",
   "metadata": {},
   "source": [
    "### Getting the data\n",
    "\n",
    "\n",
    "The data is pre-split in training and testing and we will keep it as such"
   ]
  },
  {
   "cell_type": "code",
   "execution_count": 2,
   "id": "723abc2a",
   "metadata": {},
   "outputs": [
    {
     "data": {
      "text/plain": [
       "28-element Vector{String}:\n",
       " \"surgery\"\n",
       " \"age\"\n",
       " \"hospital_number\"\n",
       " \"rectal_temperature\"\n",
       " \"pulse\"\n",
       " \"respiratory_rate\"\n",
       " \"temperature_extremities\"\n",
       " \"peripheral_pulse\"\n",
       " \"mucous_membranes\"\n",
       " \"capillary_refill_time\"\n",
       " \"pain\"\n",
       " \"peristalsis\"\n",
       " \"abdominal_distension\"\n",
       " ⋮\n",
       " \"feces\"\n",
       " \"abdomen\"\n",
       " \"packed_cell_volume\"\n",
       " \"total_protein\"\n",
       " \"abdomcentesis_appearance\"\n",
       " \"abdomcentesis_total_protein\"\n",
       " \"outcome\"\n",
       " \"surgical_lesion\"\n",
       " \"lesion_1\"\n",
       " \"lesion_2\"\n",
       " \"lesion_3\"\n",
       " \"cp_data\""
      ]
     },
     "execution_count": 2,
     "metadata": {},
     "output_type": "execute_result"
    }
   ],
   "source": [
    "using MLJ\n",
    "using HTTP\n",
    "using CSV\n",
    "import DataFrames: DataFrame, select!, Not\n",
    "req1 = HTTP.get(\"http://archive.ics.uci.edu/ml/machine-learning-databases/horse-colic/horse-colic.data\")\n",
    "req2 = HTTP.get(\"http://archive.ics.uci.edu/ml/machine-learning-databases/horse-colic/horse-colic.test\")\n",
    "header = [\"surgery\", \"age\", \"hospital_number\",\n",
    "    \"rectal_temperature\", \"pulse\",\n",
    "    \"respiratory_rate\", \"temperature_extremities\",\n",
    "    \"peripheral_pulse\", \"mucous_membranes\",\n",
    "    \"capillary_refill_time\", \"pain\",\n",
    "    \"peristalsis\", \"abdominal_distension\",\n",
    "    \"nasogastric_tube\", \"nasogastric_reflux\",\n",
    "    \"nasogastric_reflux_ph\", \"feces\", \"abdomen\",\n",
    "    \"packed_cell_volume\", \"total_protein\",\n",
    "    \"abdomcentesis_appearance\", \"abdomcentesis_total_protein\",\n",
    "    \"outcome\", \"surgical_lesion\", \"lesion_1\", \"lesion_2\", \"lesion_3\",\n",
    "    \"cp_data\"]"
   ]
  },
  {
   "cell_type": "code",
   "execution_count": 3,
   "id": "f2b54396",
   "metadata": {},
   "outputs": [
    {
     "name": "stdout",
     "output_type": "stream",
     "text": [
      "size(data_train) = (300, 28)\n",
      "size(data_test) = (68, 28)\n"
     ]
    },
    {
     "data": {
      "text/plain": [
       "(68, 28)"
      ]
     },
     "execution_count": 3,
     "metadata": {},
     "output_type": "execute_result"
    }
   ],
   "source": [
    "csv_opts = (header = header, delim = ' ', missingstring = \"?\", ignorerepeated = true)\n",
    "\n",
    "data_train = CSV.read(req1.body, DataFrame; csv_opts...)\n",
    "data_test = CSV.read(req2.body, DataFrame; csv_opts...)\n",
    "@show size(data_train)\n",
    "@show size(data_test)"
   ]
  },
  {
   "cell_type": "markdown",
   "id": "7672f068",
   "metadata": {},
   "source": [
    "### Inspecting columns"
   ]
  },
  {
   "cell_type": "markdown",
   "id": "2a587bfa",
   "metadata": {},
   "source": [
    "To simplify the analysis, we will drop the columns `Lesion *` as they would need specific re-encoding which would distract us a bit."
   ]
  },
  {
   "cell_type": "code",
   "execution_count": 4,
   "id": "be9ea0db",
   "metadata": {},
   "outputs": [
    {
     "data": {
      "text/plain": [
       "12-element Vector{Int64}:\n",
       " 11300\n",
       "  2208\n",
       "     0\n",
       "  2208\n",
       "  4300\n",
       "     0\n",
       "  3124\n",
       "  2208\n",
       "  3205\n",
       "     0\n",
       "  2124\n",
       "  2111"
      ]
     },
     "execution_count": 4,
     "metadata": {},
     "output_type": "execute_result"
    }
   ],
   "source": [
    "data_train[1:12, :lesion_1]"
   ]
  },
  {
   "cell_type": "code",
   "execution_count": 5,
   "id": "1c461b3a",
   "metadata": {},
   "outputs": [
    {
     "data": {
      "text/plain": [
       "12-element Vector{Int64}:\n",
       " 0\n",
       " 0\n",
       " 0\n",
       " 0\n",
       " 0\n",
       " 0\n",
       " 0\n",
       " 0\n",
       " 0\n",
       " 0\n",
       " 0\n",
       " 0"
      ]
     },
     "execution_count": 5,
     "metadata": {},
     "output_type": "execute_result"
    }
   ],
   "source": [
    "data_train[1:12, :lesion_2]"
   ]
  },
  {
   "cell_type": "code",
   "execution_count": 6,
   "id": "da296e2d",
   "metadata": {},
   "outputs": [
    {
     "data": {
      "text/plain": [
       "12-element Vector{Int64}:\n",
       " 0\n",
       " 0\n",
       " 0\n",
       " 0\n",
       " 0\n",
       " 0\n",
       " 0\n",
       " 0\n",
       " 0\n",
       " 0\n",
       " 0\n",
       " 0"
      ]
     },
     "execution_count": 6,
     "metadata": {},
     "output_type": "execute_result"
    }
   ],
   "source": [
    "data_train[1:12, :lesion_3]"
   ]
  },
  {
   "cell_type": "code",
   "execution_count": 7,
   "id": "9dccdf29",
   "metadata": {},
   "outputs": [],
   "source": [
    "unwanted = [:lesion_1, :lesion_2, :lesion_3]\n",
    "data = vcat(data_train, data_test)\n",
    "select!(data, Not(unwanted));"
   ]
  },
  {
   "cell_type": "markdown",
   "id": "acaedeb5",
   "metadata": {},
   "source": [
    "Let's also keep track of the initial train-test split"
   ]
  },
  {
   "cell_type": "code",
   "execution_count": 8,
   "id": "68d4ae29",
   "metadata": {},
   "outputs": [],
   "source": [
    "train = 1:nrows(data_train)\n",
    "test = last(train) .+ (1:nrows(data_test));"
   ]
  },
  {
   "cell_type": "code",
   "execution_count": 9,
   "id": "1e0162c2",
   "metadata": {},
   "outputs": [
    {
     "data": {
      "text/plain": [
       "1:300"
      ]
     },
     "execution_count": 9,
     "metadata": {},
     "output_type": "execute_result"
    }
   ],
   "source": [
    "train"
   ]
  },
  {
   "cell_type": "code",
   "execution_count": 10,
   "id": "f61c15e1",
   "metadata": {},
   "outputs": [
    {
     "data": {
      "text/plain": [
       "301:368"
      ]
     },
     "execution_count": 10,
     "metadata": {},
     "output_type": "execute_result"
    }
   ],
   "source": [
    "test"
   ]
  },
  {
   "cell_type": "markdown",
   "id": "79d3ce89",
   "metadata": {},
   "source": [
    "We know from reading the description that some of these features represent multiclass data; to facilitate the interpretation, we can use `autotype` from `ScientificTypes`. By default, `autotype` will check all columns and suggest a Finite type assuming there are relatively few distinct values in the column. More sophisticated rules can be passed, see ScientificTypes.jl:"
   ]
  },
  {
   "cell_type": "code",
   "execution_count": 11,
   "id": "aebe828f",
   "metadata": {},
   "outputs": [],
   "source": [
    "datac = coerce(data, autotype(data));"
   ]
  },
  {
   "cell_type": "markdown",
   "id": "399571cc",
   "metadata": {},
   "source": [
    "Let's see column by column whether it looks ok now"
   ]
  },
  {
   "cell_type": "code",
   "execution_count": 12,
   "id": "eb3d002c",
   "metadata": {},
   "outputs": [
    {
     "data": {
      "text/plain": [
       "┌─────────────────────────────┬───────────────────────────────────┬─────────────\n",
       "│\u001b[22m names                       \u001b[0m│\u001b[22m scitypes                          \u001b[0m│\u001b[22m types     \u001b[0m ⋯\n",
       "├─────────────────────────────┼───────────────────────────────────┼─────────────\n",
       "│ surgery                     │ Union{Missing, OrderedFactor{2}}  │ Union{Miss ⋯\n",
       "│ age                         │ OrderedFactor{2}                  │ Categorica ⋯\n",
       "│ hospital_number             │ Count                             │ Int64      ⋯\n",
       "│ rectal_temperature          │ Union{Missing, Continuous}        │ Union{Miss ⋯\n",
       "│ pulse                       │ Union{Missing, Count}             │ Union{Miss ⋯\n",
       "│ respiratory_rate            │ Union{Missing, Count}             │ Union{Miss ⋯\n",
       "│ temperature_extremities     │ Union{Missing, OrderedFactor{4}}  │ Union{Miss ⋯\n",
       "│ peripheral_pulse            │ Union{Missing, OrderedFactor{4}}  │ Union{Miss ⋯\n",
       "│ mucous_membranes            │ Union{Missing, OrderedFactor{6}}  │ Union{Miss ⋯\n",
       "│ capillary_refill_time       │ Union{Missing, OrderedFactor{3}}  │ Union{Miss ⋯\n",
       "│ pain                        │ Union{Missing, OrderedFactor{5}}  │ Union{Miss ⋯\n",
       "│ peristalsis                 │ Union{Missing, OrderedFactor{4}}  │ Union{Miss ⋯\n",
       "│ abdominal_distension        │ Union{Missing, OrderedFactor{4}}  │ Union{Miss ⋯\n",
       "│ nasogastric_tube            │ Union{Missing, OrderedFactor{3}}  │ Union{Miss ⋯\n",
       "│ nasogastric_reflux          │ Union{Missing, OrderedFactor{3}}  │ Union{Miss ⋯\n",
       "│ nasogastric_reflux_ph       │ Union{Missing, OrderedFactor{24}} │ Union{Miss ⋯\n",
       "│ feces                       │ Union{Missing, OrderedFactor{4}}  │ Union{Miss ⋯\n",
       "│ abdomen                     │ Union{Missing, OrderedFactor{5}}  │ Union{Miss ⋯\n",
       "│ packed_cell_volume          │ Union{Missing, Continuous}        │ Union{Miss ⋯\n",
       "│ total_protein               │ Union{Missing, Continuous}        │ Union{Miss ⋯\n",
       "│ abdomcentesis_appearance    │ Union{Missing, OrderedFactor{3}}  │ Union{Miss ⋯\n",
       "│ abdomcentesis_total_protein │ Union{Missing, Continuous}        │ Union{Miss ⋯\n",
       "│              ⋮              │                 ⋮                 │            ⋱\n",
       "└─────────────────────────────┴───────────────────────────────────┴─────────────\n",
       "\u001b[36m                                                     1 column and 3 rows omitted\u001b[0m\n"
      ]
     },
     "execution_count": 12,
     "metadata": {},
     "output_type": "execute_result"
    }
   ],
   "source": [
    "sch = schema(datac)"
   ]
  },
  {
   "cell_type": "code",
   "execution_count": 13,
   "id": "7a6c8d10",
   "metadata": {
    "scrolled": false
   },
   "outputs": [
    {
     "name": "stdout",
     "output_type": "stream",
     "text": [
      "surgery                       Union{Missing, OrderedFactor{2}}\n",
      "age                           OrderedFactor{2}\n",
      "hospital_number               Count\n",
      "rectal_temperature            Union{Missing, Continuous}\n",
      "pulse                         Union{Missing, Count}\n",
      "respiratory_rate              Union{Missing, Count}\n",
      "temperature_extremities       Union{Missing, OrderedFactor{4}}\n",
      "peripheral_pulse              Union{Missing, OrderedFactor{4}}\n",
      "mucous_membranes              Union{Missing, OrderedFactor{6}}\n",
      "capillary_refill_time         Union{Missing, OrderedFactor{3}}\n",
      "pain                          Union{Missing, OrderedFactor{5}}\n",
      "peristalsis                   Union{Missing, OrderedFactor{4}}\n",
      "abdominal_distension          Union{Missing, OrderedFactor{4}}\n",
      "nasogastric_tube              Union{Missing, OrderedFactor{3}}\n",
      "nasogastric_reflux            Union{Missing, OrderedFactor{3}}\n",
      "nasogastric_reflux_ph         Union{Missing, OrderedFactor{24}}\n",
      "feces                         Union{Missing, OrderedFactor{4}}\n",
      "abdomen                       Union{Missing, OrderedFactor{5}}\n",
      "packed_cell_volume            Union{Missing, Continuous}\n",
      "total_protein                 Union{Missing, Continuous}\n",
      "abdomcentesis_appearance      Union{Missing, OrderedFactor{3}}\n",
      "abdomcentesis_total_protein   Union{Missing, Continuous}\n",
      "outcome                       Union{Missing, OrderedFactor{3}}\n",
      "surgical_lesion               OrderedFactor{2}\n",
      "cp_data                       OrderedFactor{2}\n"
     ]
    }
   ],
   "source": [
    "for (name, scitype) in zip(sch.names, sch.scitypes)\n",
    "    println(rpad(\"$name\", 30), scitype)\n",
    "end"
   ]
  },
  {
   "cell_type": "markdown",
   "id": "c5d6f0e1",
   "metadata": {},
   "source": [
    "Most columns are now treated as either Multiclass or Ordered, this corresponds to the description of the data. For instance:\n",
    "\n",
    "* `Surgery` is described as `1=yes / 2=no`\n",
    "\n",
    "* `Age` is described as `1=adult / 2=young`\n",
    "\n",
    "Inspecting the rest of the descriptions and the current scientific type, there are a few more things that can be observed:\n",
    "\n",
    "* hospital number is still a count, this means that there are relatively many hospitals and so that's probably not very useful,\n",
    "\n",
    "* pulse and respiratory rate are still as count but the data description suggests that they can be considered as continuous"
   ]
  },
  {
   "cell_type": "markdown",
   "id": "5c667443",
   "metadata": {},
   "source": [
    "> Data Set Information:\n",
    "> \n",
    "> 2 data files:\n",
    "> -- horse-colic.data: 300 training instances\n",
    "> -- horse-colic.test: 68 test instances\n",
    "> \n",
    "> Possible class attributes: 24 (whether lesion is surgical)\n",
    "> -- others include: 23, 25, 26, and 27\n",
    "> \n",
    "> Many Data types: (continuous, discrete, and nominal)\n",
    "> \n",
    "> \n",
    "> Attribute Information:\n",
    "> \n",
    "> 1: surgery?\n",
    "> 1 = Yes, it had surgery\n",
    "> 2 = It was treated without surgery\n",
    "> \n",
    "> 2: Age\n",
    "> 1 = Adult horse\n",
    "> 2 = Young (< 6 months)\n",
    "> \n",
    "> 3: Hospital Number\n",
    "> - numeric id\n",
    "> - the case number assigned to the horse (may not be unique if the horse is treated > 1 time)\n",
    "> \n",
    "> 4: rectal temperature\n",
    "> - linear\n",
    "> - in degrees celsius.\n",
    "> - An elevated temp may occur due to infection.\n",
    "> - temperature may be reduced when the animal is in late shock\n",
    "> - normal temp is 37.8\n",
    "> - this parameter will usually change as the problem progresses, eg. may start out normal, then become elevated because of the lesion, passing back through the normal range as the horse goes into shock\n",
    "> 5: pulse\n",
    "> - linear\n",
    "> - the heart rate in beats per minute\n",
    "> - is a reflection of the heart condition: 30 -40 is normal for adults\n",
    "> - rare to have a lower than normal rate although athletic horses may have a rate of 20-25\n",
    "> - animals with painful lesions or suffering from circulatory shock may have an elevated heart rate\n",
    "> \n",
    "> 6: respiratory rate\n",
    "> - linear\n",
    "> - normal rate is 8 to 10\n",
    "> - usefulness is doubtful due to the great fluctuations\n",
    "> \n",
    "> 7: temperature of extremities\n",
    "> - a subjective indication of peripheral circulation\n",
    "> - possible values:\n",
    "> 1 = Normal\n",
    "> 2 = Warm\n",
    "> 3 = Cool\n",
    "> 4 = Cold\n",
    "> - cool to cold extremities indicate possible shock\n",
    "> - hot extremities should correlate with an elevated rectal temp.\n",
    "> \n",
    "> 8: peripheral pulse\n",
    "> - subjective\n",
    "> - possible values are:\n",
    "> 1 = normal\n",
    "> 2 = increased\n",
    "> 3 = reduced\n",
    "> 4 = absent\n",
    "> - normal or increased p.p. are indicative of adequate circulation while reduced or absent indicate poor perfusion\n",
    "> \n",
    "> 9: mucous membranes\n",
    "> - a subjective measurement of colour\n",
    "> - possible values are:\n",
    "> 1 = normal pink\n",
    "> 2 = bright pink\n",
    "> 3 = pale pink\n",
    "> 4 = pale cyanotic\n",
    "> 5 = bright red / injected\n",
    "> 6 = dark cyanotic\n",
    "> - 1 and 2 probably indicate a normal or slightly increased circulation\n",
    "> - 3 may occur in early shock\n",
    "> - 4 and 6 are indicative of serious circulatory compromise\n",
    "> - 5 is more indicative of a septicemia\n",
    "> \n",
    "> 10: capillary refill time\n",
    "> - a clinical judgement. The longer the refill, the poorer the circulation\n",
    "> - possible values\n",
    "> 1 = < 3 seconds\n",
    "> 2 = >= 3 seconds\n",
    "> \n",
    "> 11: pain - a subjective judgement of the horse's pain level\n",
    "> - possible values:\n",
    "> 1 = alert, no pain\n",
    "> 2 = depressed\n",
    "> 3 = intermittent mild pain\n",
    "> 4 = intermittent severe pain\n",
    "> 5 = continuous severe pain\n",
    "> - should NOT be treated as a ordered or discrete variable!\n",
    "> - In general, the more painful, the more likely it is to require surgery\n",
    "> - prior treatment of pain may mask the pain level to some extent\n",
    "> \n",
    "> 12: peristalsis\n",
    "> - an indication of the activity in the horse's gut. As the gut becomes more distended or the horse becomes more toxic, the activity decreases\n",
    "> - possible values:\n",
    "> 1 = hypermotile\n",
    "> 2 = normal\n",
    "> 3 = hypomotile\n",
    "> 4 = absent\n",
    "> \n",
    "> 13: abdominal distension\n",
    "> - An IMPORTANT parameter.\n",
    "> - possible values\n",
    "> 1 = none\n",
    "> 2 = slight\n",
    "> 3 = moderate\n",
    "> 4 = severe\n",
    "> - an animal with abdominal distension is likely to be painful and have reduced gut motility.\n",
    "> - a horse with severe abdominal distension is likely to require surgery just tio relieve the pressure\n",
    "> \n",
    "> 14: nasogastric tube\n",
    "> - this refers to any gas coming out of the tube\n",
    "> - possible values:\n",
    "> 1 = none\n",
    "> 2 = slight\n",
    "> 3 = significant\n",
    "> - a large gas cap in the stomach is likely to give the horse discomfort\n",
    "> \n",
    "> 15: nasogastric reflux\n",
    "> - possible values\n",
    "> 1 = none\n",
    "> 2 = > 1 liter\n",
    "> 3 = < 1 liter\n",
    "> - the greater amount of reflux, the more likelihood that there is some serious obstruction to the fluid passage from the rest of the intestine\n",
    "> \n",
    "> 16: nasogastric reflux PH\n",
    "> - linear\n",
    "> - scale is from 0 to 14 with 7 being neutral\n",
    "> - normal values are in the 3 to 4 range\n",
    "> \n",
    "> 17: rectal examination - feces\n",
    "> - possible values\n",
    "> 1 = normal\n",
    "> 2 = increased\n",
    "> 3 = decreased\n",
    "> 4 = absent\n",
    "> - absent feces probably indicates an obstruction\n",
    "> \n",
    "> 18: abdomen\n",
    "> - possible values\n",
    "> 1 = normal\n",
    "> 2 = other\n",
    "> 3 = firm feces in the large intestine\n",
    "> 4 = distended small intestine\n",
    "> 5 = distended large intestine\n",
    "> - 3 is probably an obstruction caused by a mechanical impaction and is normally treated medically\n",
    "> - 4 and 5 indicate a surgical lesion\n",
    "> \n",
    "> 19: packed cell volume\n",
    "> - linear\n",
    "> - the # of red cells by volume in the blood\n",
    "> - normal range is 30 to 50. The level rises as the circulation becomes compromised or as the animal becomes dehydrated.\n",
    "> \n",
    "> 20: total protein\n",
    "> - linear\n",
    "> - normal values lie in the 6-7.5 (gms/dL) range\n",
    "> - the higher the value the greater the dehydration\n",
    "> \n",
    "> 21: abdominocentesis appearance\n",
    "> - a needle is put in the horse's abdomen and fluid is obtained from\n",
    "> the abdominal cavity\n",
    "> - possible values:\n",
    "> 1 = clear\n",
    "> 2 = cloudy\n",
    "> 3 = serosanguinous\n",
    "> - normal fluid is clear while cloudy or serosanguinous indicates a compromised gut\n",
    "> \n",
    "> 22: abdomcentesis total protein\n",
    "> - linear\n",
    "> - the higher the level of protein the more likely it is to have a compromised gut. Values are in gms/dL\n",
    "> \n",
    "> 23: outcome\n",
    "> - what eventually happened to the horse?\n",
    "> - possible values:\n",
    "> 1 = lived\n",
    "> 2 = died\n",
    "> 3 = was euthanized\n",
    "> \n",
    "> 24: surgical lesion?\n",
    "> - retrospectively, was the problem (lesion) surgical?\n",
    "> - all cases are either operated upon or autopsied so that this value and the lesion type are always known\n",
    "> - possible values:\n",
    "> 1 = Yes\n",
    "> 2 = No\n",
    "> \n",
    "> 25, 26, 27: type of lesion\n",
    "> - first number is site of lesion\n",
    "> 1 = gastric\n",
    "> 2 = sm intestine\n",
    "> 3 = lg colon\n",
    "> 4 = lg colon and cecum\n",
    "> 5 = cecum\n",
    "> 6 = transverse colon\n",
    "> 7 = retum/descending colon\n",
    "> 8 = uterus\n",
    "> 9 = bladder\n",
    "> 11 = all intestinal sites\n",
    "> 00 = none\n",
    "> - second number is type\n",
    "> 1 = simple\n",
    "> 2 = strangulation\n",
    "> 3 = inflammation\n",
    "> 4 = other\n",
    "> - third number is subtype\n",
    "> 1 = mechanical\n",
    "> 2 = paralytic\n",
    "> 0 = n/a\n",
    "> - fourth number is specific code\n",
    "> 1 = obturation\n",
    "> 2 = intrinsic\n",
    "> 3 = extrinsic\n",
    "> 4 = adynamic\n",
    "> 5 = volvulus/torsion\n",
    "> 6 = intussuption\n",
    "> 7 = thromboembolic\n",
    "> 8 = hernia\n",
    "> 9 = lipoma/slenic incarceration\n",
    "> 10 = displacement\n",
    "> 0 = n/a\n",
    "> 28: cp_data\n",
    "> - is pathology data present for this case?\n",
    "> 1 = Yes\n",
    "> 2 = No\n",
    "> - this variable is of no significance since pathology data is not included or collected for these cases\n",
    "> \n",
    "> "
   ]
  },
  {
   "cell_type": "code",
   "execution_count": 14,
   "id": "4aceae1f",
   "metadata": {},
   "outputs": [
    {
     "data": {
      "text/plain": [
       "346"
      ]
     },
     "execution_count": 14,
     "metadata": {},
     "output_type": "execute_result"
    }
   ],
   "source": [
    "length(unique(datac.hospital_number))"
   ]
  },
  {
   "cell_type": "markdown",
   "id": "176f0f1d",
   "metadata": {},
   "source": [
    "yeah let's drop that"
   ]
  },
  {
   "cell_type": "code",
   "execution_count": 15,
   "id": "c9bce36d",
   "metadata": {},
   "outputs": [],
   "source": [
    "datac = select!(datac, Not(:hospital_number));"
   ]
  },
  {
   "cell_type": "markdown",
   "id": "3b8071e8",
   "metadata": {},
   "source": [
    "let's also coerce the pulse and respiratory rate, in fact we can do that with `autotype` specifying as rule the `discrete_to_continuous`"
   ]
  },
  {
   "cell_type": "code",
   "execution_count": 16,
   "id": "27b2b486",
   "metadata": {},
   "outputs": [],
   "source": [
    "datac = coerce(datac, autotype(datac, rules = (:discrete_to_continuous, )));"
   ]
  },
  {
   "cell_type": "markdown",
   "id": "43219fd9",
   "metadata": {},
   "source": [
    "### Dealing with missing values"
   ]
  },
  {
   "cell_type": "markdown",
   "id": "ac0b3386",
   "metadata": {},
   "source": [
    "There's quite a lot of missing values, in this tutorial we'll be a bit rough in how we deal with them applying the following rules of thumb:\n",
    "\n",
    "* drop the rows where the outcome is unknown\n",
    "\n",
    "* drop columns with more than 20% missing values\n",
    "\n",
    "* simple imputation of whatever's left"
   ]
  },
  {
   "cell_type": "code",
   "execution_count": 17,
   "id": "ff1a7584",
   "metadata": {},
   "outputs": [
    {
     "data": {
      "text/plain": [
       "2-element Vector{Int64}:\n",
       " 133\n",
       " 309"
      ]
     },
     "execution_count": 17,
     "metadata": {},
     "output_type": "execute_result"
    }
   ],
   "source": [
    "missing_outcome = ismissing.(datac.outcome)\n",
    "idx_missing_outcome = missing_outcome |> findall"
   ]
  },
  {
   "cell_type": "markdown",
   "id": "c827546a",
   "metadata": {},
   "source": [
    "Ok there's only two row which is nice, let's remove them from the train/test indices and drop the rows"
   ]
  },
  {
   "cell_type": "code",
   "execution_count": 18,
   "id": "33ed6dab",
   "metadata": {},
   "outputs": [],
   "source": [
    "# train = setdiff!(train |> collect, idx_missing_outcome)\n",
    "# test = setdiff!(test |> collect, idx_missing_outcome)\n",
    "datac = datac[.!missing_outcome, :];"
   ]
  },
  {
   "cell_type": "code",
   "execution_count": 19,
   "id": "bff21472",
   "metadata": {},
   "outputs": [
    {
     "data": {
      "text/html": [
       "<p>DataFrameRow (24 columns)</p><div class=\"data-frame\"><table class=\"data-frame\"><thead><tr><th></th><th>surgery</th><th>age</th><th>rectal_temperature</th><th>pulse</th><th>respiratory_rate</th><th>temperature_extremities</th></tr><tr><th></th><th title=\"Union{Missing, CategoricalArrays.CategoricalValue{Int64, UInt32}}\">Cat…?</th><th title=\"CategoricalArrays.CategoricalValue{Int64, UInt32}\">Cat…</th><th title=\"Union{Missing, Float64}\">Float64?</th><th title=\"Union{Missing, Float64}\">Float64?</th><th title=\"Union{Missing, Float64}\">Float64?</th><th title=\"Union{Missing, CategoricalArrays.CategoricalValue{Int64, UInt32}}\">Cat…?</th></tr></thead><tbody><tr><th>366</th><td>2</td><td>1</td><td>37.6</td><td>88.0</td><td>36.0</td><td>3</td></tr></tbody></table></div>"
      ],
      "text/latex": [
       "\\begin{tabular}{r|ccccccc}\n",
       "\t& surgery & age & rectal\\_temperature & pulse & respiratory\\_rate & temperature\\_extremities & \\\\\n",
       "\t\\hline\n",
       "\t& Cat…? & Cat… & Float64? & Float64? & Float64? & Cat…? & \\\\\n",
       "\t\\hline\n",
       "\t366 & 2 & 1 & 37.6 & 88.0 & 36.0 & 3 & $\\dots$ \\\\\n",
       "\\end{tabular}\n"
      ],
      "text/plain": [
       "\u001b[1mDataFrameRow\u001b[0m\n",
       "\u001b[1m Row \u001b[0m│\u001b[1m surgery \u001b[0m\u001b[1m age  \u001b[0m\u001b[1m rectal_temperature \u001b[0m\u001b[1m pulse    \u001b[0m\u001b[1m respiratory_rate \u001b[0m\u001b[1m temperat\u001b[0m ⋯\n",
       "\u001b[1m     \u001b[0m│\u001b[90m Cat…?   \u001b[0m\u001b[90m Cat… \u001b[0m\u001b[90m Float64?           \u001b[0m\u001b[90m Float64? \u001b[0m\u001b[90m Float64?         \u001b[0m\u001b[90m Cat…?   \u001b[0m ⋯\n",
       "─────┼──────────────────────────────────────────────────────────────────────────\n",
       " 366 │ 2        1                   37.6      88.0              36.0  3        ⋯\n",
       "\u001b[36m                                                              19 columns omitted\u001b[0m"
      ]
     },
     "execution_count": 19,
     "metadata": {},
     "output_type": "execute_result"
    }
   ],
   "source": [
    "datac |> last"
   ]
  },
  {
   "cell_type": "markdown",
   "id": "1505bdb8",
   "metadata": {},
   "source": [
    "Now let's look at how many missings there are per features"
   ]
  },
  {
   "cell_type": "code",
   "execution_count": 20,
   "id": "da8e3e8c",
   "metadata": {},
   "outputs": [
    {
     "name": "stdout",
     "output_type": "stream",
     "text": [
      "surgery                       0.0\n",
      "age                           0.0\n",
      "rectal_temperature            18.9\n",
      "pulse                         7.1\n",
      "respiratory_rate              19.4\n",
      "temperature_extremities       17.5\n",
      "peripheral_pulse              22.7\n",
      "mucous_membranes              13.1\n",
      "capillary_refill_time         10.4\n",
      "pain                          17.2\n",
      "peristalsis                   13.9\n",
      "abdominal_distension          17.5\n",
      "nasogastric_tube              35.5\n",
      "nasogastric_reflux            36.1\n",
      "nasogastric_reflux_ph         81.1\n",
      "feces                         34.7\n",
      "abdomen                       39.1\n",
      "packed_cell_volume            9.84\n",
      "total_protein                 11.5\n",
      "abdomcentesis_appearance      52.7\n",
      "abdomcentesis_total_protein   63.9\n",
      "outcome                       0.0\n",
      "surgical_lesion               0.0\n",
      "cp_data                       0.0\n"
     ]
    }
   ],
   "source": [
    "for name in names(datac)\n",
    "    col = datac[:, name]\n",
    "    ratio_missing = sum(ismissing.(col)) / nrows(datac) *100\n",
    "    println(rpad(name, 30), round(ratio_missing, sigdigits = 3))\n",
    "end"
   ]
  },
  {
   "cell_type": "markdown",
   "id": "e56fb3bf",
   "metadata": {},
   "source": [
    "Let's drop the ones with more than 20% (quite a few!)"
   ]
  },
  {
   "cell_type": "code",
   "execution_count": 21,
   "id": "6fff1ca8",
   "metadata": {},
   "outputs": [],
   "source": [
    "unwanted = [:peripheral_pulse, :nasogastric_tube, :nasogastric_reflux,\n",
    "        :nasogastric_reflux_ph, :feces, :abdomen, :abdomcentesis_appearance, :abdomcentesis_total_protein]\n",
    "select!(datac, Not(unwanted));"
   ]
  },
  {
   "cell_type": "markdown",
   "id": "30d90737",
   "metadata": {},
   "source": [
    "Note that we could have done this better and investigated the nature of the features for which there's a lot of missing values but don't forget that our goal is to showcase MLJ!\n",
    "\n",
    "Let's conclude by filling all missing values and separating the feature matrix from the target"
   ]
  },
  {
   "cell_type": "code",
   "execution_count": 22,
   "id": "8c1429ff",
   "metadata": {},
   "outputs": [
    {
     "name": "stdout",
     "output_type": "stream",
     "text": [
      "import MLJModels"
     ]
    },
    {
     "name": "stderr",
     "output_type": "stream",
     "text": [
      "┌ Info: For silent loading, specify `verbosity=0`. \n",
      "└ @ Main C:\\Users\\jeffr\\.julia\\packages\\MLJModels\\tMgLW\\src\\loading.jl:168\n"
     ]
    },
    {
     "name": "stdout",
     "output_type": "stream",
     "text": [
      " ✔\n"
     ]
    },
    {
     "name": "stderr",
     "output_type": "stream",
     "text": [
      "┌ Info: Training Machine{FillImputer,…}.\n",
      "└ @ MLJBase C:\\Users\\jeffr\\.julia\\packages\\MLJBase\\MuLnJ\\src\\machines.jl:464\n"
     ]
    }
   ],
   "source": [
    "@load FillImputer\n",
    "filler = machine(FillImputer(), datac)\n",
    "fit!(filler)\n",
    "datac = MLJ.transform(filler, datac)\n",
    "\n",
    "y, X = unpack(datac, ==(:outcome), name -> true);\n",
    "X = coerce(X, autotype(X, :discrete_to_continuous));"
   ]
  },
  {
   "cell_type": "markdown",
   "id": "8ac0ffa2",
   "metadata": {},
   "source": [
    "### A baseline model\n",
    "\n",
    "---"
   ]
  },
  {
   "cell_type": "markdown",
   "id": "9d482a18",
   "metadata": {},
   "source": [
    "Let's define a first sensible model and get a baseline, basic steps are:\n",
    "\n",
    "* one-hot-encode the categoricals\n",
    "\n",
    "* feed all this into a classifier"
   ]
  },
  {
   "cell_type": "code",
   "execution_count": 23,
   "id": "fd160262",
   "metadata": {},
   "outputs": [
    {
     "name": "stdout",
     "output_type": "stream",
     "text": [
      "import MLJModels ✔\n",
      "import MLJLinearModels"
     ]
    },
    {
     "name": "stderr",
     "output_type": "stream",
     "text": [
      "┌ Info: For silent loading, specify `verbosity=0`. \n",
      "└ @ Main C:\\Users\\jeffr\\.julia\\packages\\MLJModels\\tMgLW\\src\\loading.jl:168\n",
      "┌ Info: For silent loading, specify `verbosity=0`. \n",
      "└ @ Main C:\\Users\\jeffr\\.julia\\packages\\MLJModels\\tMgLW\\src\\loading.jl:168\n"
     ]
    },
    {
     "name": "stdout",
     "output_type": "stream",
     "text": [
      " ✔\n"
     ]
    },
    {
     "data": {
      "text/plain": [
       "MLJLinearModels.MultinomialClassifier"
      ]
     },
     "execution_count": 23,
     "metadata": {},
     "output_type": "execute_result"
    }
   ],
   "source": [
    "@load OneHotEncoder\n",
    "MultinomialClassifier = @load MultinomialClassifier pkg = \"MLJLinearModels\""
   ]
  },
  {
   "cell_type": "markdown",
   "id": "6f6facf1",
   "metadata": {},
   "source": [
    "Let's have convenient handles over the training data"
   ]
  },
  {
   "cell_type": "code",
   "execution_count": 24,
   "id": "f2461f55",
   "metadata": {},
   "outputs": [
    {
     "data": {
      "text/html": [
       "<div class=\"data-frame\"><p>67 rows × 15 columns (omitted printing of 9 columns)</p><table class=\"data-frame\"><thead><tr><th></th><th>surgery</th><th>age</th><th>rectal_temperature</th><th>pulse</th><th>respiratory_rate</th><th>temperature_extremities</th></tr><tr><th></th><th title=\"CategoricalArrays.CategoricalValue{Int64, UInt32}\">Cat…</th><th title=\"CategoricalArrays.CategoricalValue{Int64, UInt32}\">Cat…</th><th title=\"Float64\">Float64</th><th title=\"Float64\">Float64</th><th title=\"Float64\">Float64</th><th title=\"CategoricalArrays.CategoricalValue{Int64, UInt32}\">Cat…</th></tr></thead><tbody><tr><th>1</th><td>2</td><td>1</td><td>38.5</td><td>54.0</td><td>20.0</td><td>3</td></tr><tr><th>2</th><td>2</td><td>1</td><td>37.6</td><td>48.0</td><td>36.0</td><td>3</td></tr><tr><th>3</th><td>1</td><td>1</td><td>37.7</td><td>44.0</td><td>28.0</td><td>3</td></tr><tr><th>4</th><td>1</td><td>1</td><td>37.0</td><td>56.0</td><td>24.0</td><td>3</td></tr><tr><th>5</th><td>2</td><td>1</td><td>38.0</td><td>42.0</td><td>12.0</td><td>3</td></tr><tr><th>6</th><td>1</td><td>1</td><td>38.1</td><td>60.0</td><td>40.0</td><td>3</td></tr><tr><th>7</th><td>2</td><td>1</td><td>38.4</td><td>80.0</td><td>60.0</td><td>3</td></tr><tr><th>8</th><td>2</td><td>1</td><td>37.8</td><td>48.0</td><td>12.0</td><td>2</td></tr><tr><th>9</th><td>2</td><td>1</td><td>37.9</td><td>45.0</td><td>36.0</td><td>3</td></tr><tr><th>10</th><td>2</td><td>1</td><td>39.0</td><td>84.0</td><td>12.0</td><td>3</td></tr><tr><th>11</th><td>2</td><td>1</td><td>38.2</td><td>60.0</td><td>24.0</td><td>3</td></tr><tr><th>12</th><td>1</td><td>1</td><td>38.1</td><td>140.0</td><td>28.0</td><td>3</td></tr><tr><th>13</th><td>1</td><td>1</td><td>37.9</td><td>120.0</td><td>60.0</td><td>3</td></tr><tr><th>14</th><td>2</td><td>1</td><td>38.0</td><td>72.0</td><td>36.0</td><td>1</td></tr><tr><th>15</th><td>2</td><td>9</td><td>38.0</td><td>92.0</td><td>28.0</td><td>1</td></tr><tr><th>16</th><td>1</td><td>1</td><td>38.3</td><td>66.0</td><td>30.0</td><td>2</td></tr><tr><th>17</th><td>2</td><td>1</td><td>37.5</td><td>48.0</td><td>24.0</td><td>3</td></tr><tr><th>18</th><td>1</td><td>1</td><td>37.5</td><td>88.0</td><td>20.0</td><td>2</td></tr><tr><th>19</th><td>2</td><td>9</td><td>38.1</td><td>150.0</td><td>60.0</td><td>4</td></tr><tr><th>20</th><td>1</td><td>1</td><td>39.7</td><td>100.0</td><td>30.0</td><td>3</td></tr><tr><th>21</th><td>1</td><td>1</td><td>38.3</td><td>80.0</td><td>28.0</td><td>3</td></tr><tr><th>22</th><td>2</td><td>1</td><td>37.5</td><td>40.0</td><td>32.0</td><td>3</td></tr><tr><th>23</th><td>1</td><td>1</td><td>38.4</td><td>84.0</td><td>30.0</td><td>3</td></tr><tr><th>24</th><td>1</td><td>1</td><td>38.1</td><td>84.0</td><td>44.0</td><td>4</td></tr><tr><th>25</th><td>2</td><td>1</td><td>38.7</td><td>52.0</td><td>28.0</td><td>1</td></tr><tr><th>26</th><td>2</td><td>1</td><td>38.1</td><td>44.0</td><td>40.0</td><td>2</td></tr><tr><th>27</th><td>2</td><td>1</td><td>38.4</td><td>52.0</td><td>20.0</td><td>2</td></tr><tr><th>28</th><td>1</td><td>1</td><td>38.2</td><td>60.0</td><td>28.0</td><td>1</td></tr><tr><th>29</th><td>2</td><td>1</td><td>37.7</td><td>40.0</td><td>18.0</td><td>1</td></tr><tr><th>30</th><td>1</td><td>1</td><td>39.1</td><td>60.0</td><td>10.0</td><td>3</td></tr><tr><th>&vellip;</th><td>&vellip;</td><td>&vellip;</td><td>&vellip;</td><td>&vellip;</td><td>&vellip;</td><td>&vellip;</td></tr></tbody></table></div>"
      ],
      "text/latex": [
       "\\begin{tabular}{r|ccccccc}\n",
       "\t& surgery & age & rectal\\_temperature & pulse & respiratory\\_rate & temperature\\_extremities & \\\\\n",
       "\t\\hline\n",
       "\t& Cat… & Cat… & Float64 & Float64 & Float64 & Cat… & \\\\\n",
       "\t\\hline\n",
       "\t1 & 2 & 1 & 38.5 & 54.0 & 20.0 & 3 & $\\dots$ \\\\\n",
       "\t2 & 2 & 1 & 37.6 & 48.0 & 36.0 & 3 & $\\dots$ \\\\\n",
       "\t3 & 1 & 1 & 37.7 & 44.0 & 28.0 & 3 & $\\dots$ \\\\\n",
       "\t4 & 1 & 1 & 37.0 & 56.0 & 24.0 & 3 & $\\dots$ \\\\\n",
       "\t5 & 2 & 1 & 38.0 & 42.0 & 12.0 & 3 & $\\dots$ \\\\\n",
       "\t6 & 1 & 1 & 38.1 & 60.0 & 40.0 & 3 & $\\dots$ \\\\\n",
       "\t7 & 2 & 1 & 38.4 & 80.0 & 60.0 & 3 & $\\dots$ \\\\\n",
       "\t8 & 2 & 1 & 37.8 & 48.0 & 12.0 & 2 & $\\dots$ \\\\\n",
       "\t9 & 2 & 1 & 37.9 & 45.0 & 36.0 & 3 & $\\dots$ \\\\\n",
       "\t10 & 2 & 1 & 39.0 & 84.0 & 12.0 & 3 & $\\dots$ \\\\\n",
       "\t11 & 2 & 1 & 38.2 & 60.0 & 24.0 & 3 & $\\dots$ \\\\\n",
       "\t12 & 1 & 1 & 38.1 & 140.0 & 28.0 & 3 & $\\dots$ \\\\\n",
       "\t13 & 1 & 1 & 37.9 & 120.0 & 60.0 & 3 & $\\dots$ \\\\\n",
       "\t14 & 2 & 1 & 38.0 & 72.0 & 36.0 & 1 & $\\dots$ \\\\\n",
       "\t15 & 2 & 9 & 38.0 & 92.0 & 28.0 & 1 & $\\dots$ \\\\\n",
       "\t16 & 1 & 1 & 38.3 & 66.0 & 30.0 & 2 & $\\dots$ \\\\\n",
       "\t17 & 2 & 1 & 37.5 & 48.0 & 24.0 & 3 & $\\dots$ \\\\\n",
       "\t18 & 1 & 1 & 37.5 & 88.0 & 20.0 & 2 & $\\dots$ \\\\\n",
       "\t19 & 2 & 9 & 38.1 & 150.0 & 60.0 & 4 & $\\dots$ \\\\\n",
       "\t20 & 1 & 1 & 39.7 & 100.0 & 30.0 & 3 & $\\dots$ \\\\\n",
       "\t21 & 1 & 1 & 38.3 & 80.0 & 28.0 & 3 & $\\dots$ \\\\\n",
       "\t22 & 2 & 1 & 37.5 & 40.0 & 32.0 & 3 & $\\dots$ \\\\\n",
       "\t23 & 1 & 1 & 38.4 & 84.0 & 30.0 & 3 & $\\dots$ \\\\\n",
       "\t24 & 1 & 1 & 38.1 & 84.0 & 44.0 & 4 & $\\dots$ \\\\\n",
       "\t25 & 2 & 1 & 38.7 & 52.0 & 28.0 & 1 & $\\dots$ \\\\\n",
       "\t26 & 2 & 1 & 38.1 & 44.0 & 40.0 & 2 & $\\dots$ \\\\\n",
       "\t27 & 2 & 1 & 38.4 & 52.0 & 20.0 & 2 & $\\dots$ \\\\\n",
       "\t28 & 1 & 1 & 38.2 & 60.0 & 28.0 & 1 & $\\dots$ \\\\\n",
       "\t29 & 2 & 1 & 37.7 & 40.0 & 18.0 & 1 & $\\dots$ \\\\\n",
       "\t30 & 1 & 1 & 39.1 & 60.0 & 10.0 & 3 & $\\dots$ \\\\\n",
       "\t$\\dots$ & $\\dots$ & $\\dots$ & $\\dots$ & $\\dots$ & $\\dots$ & $\\dots$ &  \\\\\n",
       "\\end{tabular}\n"
      ],
      "text/plain": [
       "\u001b[1m67×15 DataFrame\u001b[0m\n",
       "\u001b[1m Row \u001b[0m│\u001b[1m surgery \u001b[0m\u001b[1m age  \u001b[0m\u001b[1m rectal_temperature \u001b[0m\u001b[1m pulse   \u001b[0m\u001b[1m respiratory_rate \u001b[0m\u001b[1m temperatu\u001b[0m ⋯\n",
       "\u001b[1m     \u001b[0m│\u001b[90m Cat…    \u001b[0m\u001b[90m Cat… \u001b[0m\u001b[90m Float64            \u001b[0m\u001b[90m Float64 \u001b[0m\u001b[90m Float64          \u001b[0m\u001b[90m Cat…     \u001b[0m ⋯\n",
       "─────┼──────────────────────────────────────────────────────────────────────────\n",
       "   1 │ 2        1                   38.5     54.0              20.0  3         ⋯\n",
       "   2 │ 2        1                   37.6     48.0              36.0  3\n",
       "   3 │ 1        1                   37.7     44.0              28.0  3\n",
       "   4 │ 1        1                   37.0     56.0              24.0  3\n",
       "   5 │ 2        1                   38.0     42.0              12.0  3         ⋯\n",
       "   6 │ 1        1                   38.1     60.0              40.0  3\n",
       "   7 │ 2        1                   38.4     80.0              60.0  3\n",
       "   8 │ 2        1                   37.8     48.0              12.0  2\n",
       "   9 │ 2        1                   37.9     45.0              36.0  3         ⋯\n",
       "  10 │ 2        1                   39.0     84.0              12.0  3\n",
       "  11 │ 2        1                   38.2     60.0              24.0  3\n",
       "  ⋮  │    ⋮      ⋮            ⋮              ⋮            ⋮                    ⋱\n",
       "  58 │ 1        1                   36.6     48.0              16.0  3\n",
       "  59 │ 1        1                   38.5     90.0              28.0  1         ⋯\n",
       "  60 │ 1        1                   38.1     75.0              12.0  1\n",
       "  61 │ 2        1                   38.2     42.0              28.0  3\n",
       "  62 │ 1        9                   38.2     78.0              60.0  4\n",
       "  63 │ 2        1                   38.6     60.0              30.0  1         ⋯\n",
       "  64 │ 2        1                   37.8     42.0              40.0  1\n",
       "  65 │ 1        1                   38.0     60.0              12.0  1\n",
       "  66 │ 2        1                   38.0     42.0              12.0  3\n",
       "  67 │ 2        1                   37.6     88.0              36.0  3         ⋯\n",
       "\u001b[36m                                                  10 columns and 46 rows omitted\u001b[0m"
      ]
     },
     "execution_count": 24,
     "metadata": {},
     "output_type": "execute_result"
    }
   ],
   "source": [
    "Xtrain = X[1:299, :]\n",
    "ytrain = y[1:299];\n",
    "\n",
    "Xtest =  X[300:366, :]\n",
    "ytest =  X[300:366, :]"
   ]
  },
  {
   "cell_type": "markdown",
   "id": "edc9a50e",
   "metadata": {},
   "source": [
    "And let's define a pipeline corresponding to the operations above"
   ]
  },
  {
   "cell_type": "code",
   "execution_count": 25,
   "id": "44a82e68",
   "metadata": {},
   "outputs": [
    {
     "data": {
      "text/plain": [
       "0.859"
      ]
     },
     "execution_count": 25,
     "metadata": {},
     "output_type": "execute_result"
    }
   ],
   "source": [
    "SimplePipe = Pipeline(\n",
    "        OneHotEncoder(), \n",
    "        MultinomialClassifier(),\n",
    "        prediction_type=:probabilistic\n",
    ")\n",
    "\n",
    "mach = machine(SimplePipe, Xtrain, ytrain)\n",
    "\n",
    "res = evaluate!(\n",
    "    mach;\n",
    "    resampling = Holdout(fraction_train = 0.9),\n",
    "    measure=cross_entropy\n",
    ")\n",
    "\n",
    "round(res.measurement[1], sigdigits = 3)"
   ]
  },
  {
   "cell_type": "markdown",
   "id": "0edfd3f5",
   "metadata": {},
   "source": [
    "This is the cross entropy on some held-out 10% of the training set. We can also just for the sake of getting a baseline, see the misclassification on the whole training data:"
   ]
  },
  {
   "cell_type": "code",
   "execution_count": 26,
   "id": "025d2804",
   "metadata": {},
   "outputs": [
    {
     "name": "stdout",
     "output_type": "stream",
     "text": [
      "MNC mcr : 0.298\n"
     ]
    }
   ],
   "source": [
    "mcr = misclassification_rate(predict_mode(mach, Xtrain), ytrain)\n",
    "println(rpad(\"MNC mcr : \", 10), round(mcr, sigdigits = 3))"
   ]
  },
  {
   "cell_type": "markdown",
   "id": "f241a160",
   "metadata": {},
   "source": [
    "That's not bad at all actually. Let's tune it a bit and see if we can get a bit better than that, not much point in going crazy, we might get a few percents but not much more."
   ]
  },
  {
   "cell_type": "code",
   "execution_count": 27,
   "id": "d2e02733",
   "metadata": {},
   "outputs": [
    {
     "name": "stderr",
     "output_type": "stream",
     "text": [
      "┌ Info: Training Machine{ProbabilisticTunedModel{Grid,…},…}.\n",
      "└ @ MLJBase C:\\Users\\jeffr\\.julia\\packages\\MLJBase\\MuLnJ\\src\\machines.jl:464\n",
      "┌ Info: Attempting to evaluate 10 models.\n",
      "└ @ MLJTuning C:\\Users\\jeffr\\.julia\\packages\\MLJTuning\\Al9yX\\src\\tuned_models.jl:680\n",
      "\u001b[33mEvaluating over 10 metamodels: 100%[=========================] Time: 0:00:10\u001b[39m\n"
     ]
    },
    {
     "data": {
      "text/plain": [
       "ProbabilisticPipeline(\n",
       "    one_hot_encoder = OneHotEncoder(\n",
       "            features = Symbol[],\n",
       "            drop_last = false,\n",
       "            ordered_factor = true,\n",
       "            ignore = false),\n",
       "    multinomial_classifier = MultinomialClassifier(\n",
       "            lambda = 0.16681005372000587,\n",
       "            gamma = 0.0,\n",
       "            penalty = :l2,\n",
       "            fit_intercept = true,\n",
       "            penalize_intercept = false,\n",
       "            scale_penalty_with_samples = true,\n",
       "            solver = nothing),\n",
       "    cache = true)"
      ]
     },
     "execution_count": 27,
     "metadata": {},
     "output_type": "execute_result"
    }
   ],
   "source": [
    "model = SimplePipe\n",
    "lambdas = range(model, :(multinomial_classifier.lambda), lower = 1e-3, upper = 100, scale = :log10)\n",
    "tm = TunedModel(model=SimplePipe, ranges = lambdas, measure = cross_entropy)\n",
    "mtm = machine(tm, Xtrain, ytrain)\n",
    "fit!(mtm)\n",
    "best_pipe = fitted_params(mtm).best_model"
   ]
  },
  {
   "cell_type": "markdown",
   "id": "02a19a13",
   "metadata": {},
   "source": [
    "So it looks like it's useful to regularise a fair bit to get a lower cross entropy"
   ]
  },
  {
   "cell_type": "code",
   "execution_count": 28,
   "id": "bd816038",
   "metadata": {},
   "outputs": [
    {
     "data": {
      "text/plain": [
       "0.6351726695229564"
      ]
     },
     "execution_count": 28,
     "metadata": {},
     "output_type": "execute_result"
    }
   ],
   "source": [
    "ŷ = MLJ.predict(mtm, Xtrain)\n",
    "cross_entropy(ŷ, ytrain) |> mean"
   ]
  },
  {
   "cell_type": "markdown",
   "id": "2a8719bc",
   "metadata": {},
   "source": [
    "Interestingly this does not improve our missclassification rate"
   ]
  },
  {
   "cell_type": "code",
   "execution_count": 29,
   "id": "828f7b94",
   "metadata": {},
   "outputs": [
    {
     "name": "stdout",
     "output_type": "stream",
     "text": [
      "MNC mcr:  0.278\n"
     ]
    }
   ],
   "source": [
    "mcr= misclassification_rate(mode.(ŷ), ytrain)\n",
    "println(rpad(\"MNC mcr: \", 10), round(mcr, sigdigits = 3))"
   ]
  },
  {
   "cell_type": "markdown",
   "id": "68782005",
   "metadata": {},
   "source": [
    "We've probably reached the limit of a simple linear model."
   ]
  },
  {
   "cell_type": "markdown",
   "id": "fe01f270",
   "metadata": {},
   "source": [
    "### Trying another model"
   ]
  },
  {
   "cell_type": "markdown",
   "id": "418839dc",
   "metadata": {},
   "source": [
    "There are lots of categoricals, so maybe it's just better to use something that deals well with that like a tree-based classifier."
   ]
  },
  {
   "cell_type": "code",
   "execution_count": 30,
   "id": "1982f843",
   "metadata": {},
   "outputs": [
    {
     "name": "stdout",
     "output_type": "stream",
     "text": [
      "import MLJXGBoostInterface"
     ]
    },
    {
     "name": "stderr",
     "output_type": "stream",
     "text": [
      "┌ Info: For silent loading, specify `verbosity=0`. \n",
      "└ @ Main C:\\Users\\jeffr\\.julia\\packages\\MLJModels\\tMgLW\\src\\loading.jl:168\n"
     ]
    },
    {
     "name": "stdout",
     "output_type": "stream",
     "text": [
      " ✔\n"
     ]
    },
    {
     "name": "stderr",
     "output_type": "stream",
     "text": [
      "┌ Warning: The scitype of `X`, in `machine(model, X, ...)` is incompatible with `model=XGBoostClassifier`:\n",
      "│ scitype(X) = Table{Union{AbstractVector{Continuous}, AbstractVector{OrderedFactor{3}}, AbstractVector{OrderedFactor{4}}, AbstractVector{OrderedFactor{5}}, AbstractVector{OrderedFactor{2}}, AbstractVector{OrderedFactor{6}}}}\n",
      "│ input_scitype(model) = Table{<:AbstractVector{<:Continuous}}.\n",
      "└ @ MLJBase C:\\Users\\jeffr\\.julia\\packages\\MLJBase\\MuLnJ\\src\\machines.jl:133\n",
      "┌ Info: Training Machine{XGBoostClassifier,…}.\n",
      "└ @ MLJBase C:\\Users\\jeffr\\.julia\\packages\\MLJBase\\MuLnJ\\src\\machines.jl:464\n",
      "[1]\ttrain-mlogloss:0.844177\n",
      "[2]\ttrain-mlogloss:0.678176\n",
      "[3]\ttrain-mlogloss:0.564020\n",
      "[4]\ttrain-mlogloss:0.480493\n",
      "[5]\ttrain-mlogloss:0.416099\n",
      "[6]\ttrain-mlogloss:0.364831\n",
      "[7]\ttrain-mlogloss:0.329885\n",
      "[8]\ttrain-mlogloss:0.291539\n",
      "[9]\ttrain-mlogloss:0.263688\n",
      "[10]\ttrain-mlogloss:0.239011\n",
      "[11]\ttrain-mlogloss:0.218542\n",
      "[12]\ttrain-mlogloss:0.197875\n",
      "[13]\ttrain-mlogloss:0.181236\n",
      "[14]\ttrain-mlogloss:0.167084\n",
      "[15]\ttrain-mlogloss:0.153799\n",
      "[16]\ttrain-mlogloss:0.142132\n",
      "[17]\ttrain-mlogloss:0.131621\n",
      "[18]\ttrain-mlogloss:0.123935\n",
      "[19]\ttrain-mlogloss:0.118189\n",
      "[20]\ttrain-mlogloss:0.110720\n",
      "[21]\ttrain-mlogloss:0.104366\n",
      "[22]\ttrain-mlogloss:0.098960\n",
      "[23]\ttrain-mlogloss:0.093498\n",
      "[24]\ttrain-mlogloss:0.089340\n",
      "[25]\ttrain-mlogloss:0.084932\n",
      "[26]\ttrain-mlogloss:0.081296\n",
      "[27]\ttrain-mlogloss:0.078598\n",
      "[28]\ttrain-mlogloss:0.075219\n",
      "[29]\ttrain-mlogloss:0.072170\n",
      "[30]\ttrain-mlogloss:0.069623\n",
      "[31]\ttrain-mlogloss:0.067579\n",
      "[32]\ttrain-mlogloss:0.065355\n",
      "[33]\ttrain-mlogloss:0.062946\n",
      "[34]\ttrain-mlogloss:0.060965\n",
      "[35]\ttrain-mlogloss:0.059158\n",
      "[36]\ttrain-mlogloss:0.057344\n",
      "[37]\ttrain-mlogloss:0.055734\n",
      "[38]\ttrain-mlogloss:0.054400\n",
      "[39]\ttrain-mlogloss:0.053122\n",
      "[40]\ttrain-mlogloss:0.052007\n",
      "[41]\ttrain-mlogloss:0.050900\n",
      "[42]\ttrain-mlogloss:0.049461\n",
      "[43]\ttrain-mlogloss:0.048506\n",
      "[44]\ttrain-mlogloss:0.047429\n",
      "[45]\ttrain-mlogloss:0.046427\n",
      "[46]\ttrain-mlogloss:0.045521\n",
      "[47]\ttrain-mlogloss:0.044453\n",
      "[48]\ttrain-mlogloss:0.043560\n",
      "[49]\ttrain-mlogloss:0.042842\n",
      "[50]\ttrain-mlogloss:0.042005\n",
      "[51]\ttrain-mlogloss:0.041055\n",
      "[52]\ttrain-mlogloss:0.040471\n",
      "[53]\ttrain-mlogloss:0.039727\n",
      "[54]\ttrain-mlogloss:0.038961\n",
      "[55]\ttrain-mlogloss:0.038334\n",
      "[56]\ttrain-mlogloss:0.037822\n",
      "[57]\ttrain-mlogloss:0.037202\n",
      "[58]\ttrain-mlogloss:0.036383\n",
      "[59]\ttrain-mlogloss:0.035691\n",
      "[60]\ttrain-mlogloss:0.035281\n",
      "[61]\ttrain-mlogloss:0.034934\n",
      "[62]\ttrain-mlogloss:0.034479\n",
      "[63]\ttrain-mlogloss:0.034066\n",
      "[64]\ttrain-mlogloss:0.033749\n",
      "[65]\ttrain-mlogloss:0.033409\n",
      "[66]\ttrain-mlogloss:0.033134\n",
      "[67]\ttrain-mlogloss:0.032811\n",
      "[68]\ttrain-mlogloss:0.032523\n",
      "[69]\ttrain-mlogloss:0.032059\n",
      "[70]\ttrain-mlogloss:0.031705\n",
      "[71]\ttrain-mlogloss:0.031441\n",
      "[72]\ttrain-mlogloss:0.031158\n",
      "[73]\ttrain-mlogloss:0.030809\n",
      "[74]\ttrain-mlogloss:0.030601\n",
      "[75]\ttrain-mlogloss:0.030311\n",
      "[76]\ttrain-mlogloss:0.030048\n",
      "[77]\ttrain-mlogloss:0.029829\n",
      "[78]\ttrain-mlogloss:0.029593\n",
      "[79]\ttrain-mlogloss:0.029340\n",
      "[80]\ttrain-mlogloss:0.029095\n",
      "[81]\ttrain-mlogloss:0.028886\n",
      "[82]\ttrain-mlogloss:0.028717\n",
      "[83]\ttrain-mlogloss:0.028548\n",
      "[84]\ttrain-mlogloss:0.028329\n",
      "[85]\ttrain-mlogloss:0.028139\n",
      "[86]\ttrain-mlogloss:0.027980\n",
      "[87]\ttrain-mlogloss:0.027800\n",
      "[88]\ttrain-mlogloss:0.027570\n",
      "[89]\ttrain-mlogloss:0.027267\n",
      "[90]\ttrain-mlogloss:0.027153\n",
      "[91]\ttrain-mlogloss:0.026978\n",
      "[92]\ttrain-mlogloss:0.026789\n",
      "[93]\ttrain-mlogloss:0.026648\n",
      "[94]\ttrain-mlogloss:0.026495\n",
      "[95]\ttrain-mlogloss:0.026337\n",
      "[96]\ttrain-mlogloss:0.026193\n",
      "[97]\ttrain-mlogloss:0.026063\n",
      "[98]\ttrain-mlogloss:0.025962\n",
      "[99]\ttrain-mlogloss:0.025786\n",
      "[100]\ttrain-mlogloss:0.025609\n"
     ]
    },
    {
     "data": {
      "text/plain": [
       "0.02560888f0"
      ]
     },
     "execution_count": 30,
     "metadata": {},
     "output_type": "execute_result"
    }
   ],
   "source": [
    "XGBC = @load XGBoostClassifier\n",
    "dtc = machine(XGBC(), Xtrain, ytrain)\n",
    "fit!(dtc)\n",
    "ŷ = MLJ.predict(dtc, Xtrain)\n",
    "cross_entropy(ŷ, ytrain) |> mean"
   ]
  },
  {
   "cell_type": "markdown",
   "id": "b0b37a0c",
   "metadata": {},
   "source": [
    "So we get a worse cross entropy but...\n",
    "\n"
   ]
  },
  {
   "cell_type": "code",
   "execution_count": 31,
   "id": "3782ccb2",
   "metadata": {},
   "outputs": [
    {
     "data": {
      "text/plain": [
       "0.0033444816053511705"
      ]
     },
     "execution_count": 31,
     "metadata": {},
     "output_type": "execute_result"
    }
   ],
   "source": [
    "misclassification_rate(mode.(ŷ), ytrain)"
   ]
  },
  {
   "cell_type": "markdown",
   "id": "3ebd7c82",
   "metadata": {},
   "source": [
    "a significantly better misclassification rate.\n",
    "\n",
    "We could investigate more, do more tuning etc, but the key points of this tutorial was to show how to handle data with missing values."
   ]
  }
 ],
 "metadata": {
  "hide_input": false,
  "kernelspec": {
   "display_name": "Julia 1.7.3",
   "language": "julia",
   "name": "julia-1.7"
  },
  "language_info": {
   "file_extension": ".jl",
   "mimetype": "application/julia",
   "name": "julia",
   "version": "1.7.3"
  }
 },
 "nbformat": 4,
 "nbformat_minor": 5
}
