{
 "cells": [
  {
   "cell_type": "markdown",
   "id": "a0bfe085",
   "metadata": {},
   "source": [
    "# End to end examples"
   ]
  },
  {
   "cell_type": "markdown",
   "id": "4e558654",
   "metadata": {},
   "source": [
    "## Airfoil"
   ]
  },
  {
   "cell_type": "code",
   "execution_count": 1,
   "id": "26a24195",
   "metadata": {},
   "outputs": [
    {
     "name": "stderr",
     "output_type": "stream",
     "text": [
      "\u001b[32m\u001b[1m  Activating\u001b[22m\u001b[39m project at `D:\\JULIA\\6_ML_with_Julia\\EX-airfoil`\n"
     ]
    }
   ],
   "source": [
    "using Pkg;Pkg.activate(\"D:/JULIA/6_ML_with_Julia/EX-airfoil\") ; Pkg.instantiate()"
   ]
  },
  {
   "cell_type": "markdown",
   "id": "bfa98a89",
   "metadata": {},
   "source": [
    "> Getting started <br>\n",
    "> 1. Loading and preparing the data\n",
    "\n",
    "> DecisionTreeRegressor <br>\n",
    "> RandomForestRegressor <br>\n",
    "> Tuning <br>"
   ]
  },
  {
   "cell_type": "markdown",
   "id": "dcec0c6a",
   "metadata": {},
   "source": [
    "### Getting started\n",
    "\n",
    "---"
   ]
  },
  {
   "cell_type": "markdown",
   "id": "bf052a6f",
   "metadata": {},
   "source": [
    "**Data Description**\n",
    "\n",
    "Airfoil Self-Noise Data Set\n",
    "\n",
    "\n",
    "**Data Set Information:**\n",
    "\n",
    "The NASA data set comprises different size NACA 0012 airfoils at various wind tunnel speeds and angles of attack. The span of the airfoil and the observer position were the same in all of the experiments.\n",
    "\n",
    "\n",
    "**Attribute Information:**\n",
    "\n",
    "This problem has the following inputs:\n",
    "1. Frequency, in Hertzs.\n",
    "2. Angle of attack, in degrees.\n",
    "3. Chord length, in meters.\n",
    "4. Free-stream velocity, in meters per second.\n",
    "5. Suction side displacement thickness, in meters.\n",
    "\n",
    "The only output is:\n",
    "6. Scaled sound pressure level, in decibels.\n",
    "\n",
    "> https://terms.naver.com/entry.naver?docId=1135946&cid=40942&categoryId=32363\n",
    "\n",
    "> 에어포일 또는 날개골이라고도 한다. 또한, 헬리콥터의 회전날개와 프로펠러의 깃의 단면도 익형이라고 한다.<br>\n",
    "> * 비행기의 날개는 기체의 무게를 지지하기 위해 필요한 양력(揚力)을 담당하는 중요한 부분이다. 비행기의 성능은 이 익형의 특성에 의해서 좌우되므로, 그 구조나 강도를 고려하여 설계조건을 가장 만족시킬 수 있는 익형을 채택하는 것이 중요하다.\n",
    "1903년 미국 라이트형제의 최초의 동력비행기, 1908년 파르망의 부아쟁복엽기, 1900년 도버해협을 횡단한 블레리오단엽기의 익형은 마치 새의 날개 단면과 같이 두께가 얇았다. 제1차 세계대전 중의 유명한 익형은 영국에서 1912년에 개발한 RAF-6과 RAF-15이다. 이 익형들은 많은 날개를 실험한 끝에 산출하여 고안된 익형들이며, 이 때부터 차차 이론연구가 시작되어 우수한 익형이 제작되었다. 이 때의 대표적인 익형으로는 독일의 괴팅겐대학에서 제작한 괴팅겐-387(1919)과 미국 클라크의 클라크 Y(22)가 유명하며, 1924년 뭉크의 M-6, M-12와 영국의 크로워드가 새로이 개발한 RAF익형은 얇은 날개이론을 응용한 설계이다. <br>\n",
    ">  * 각국의 연구 중에서 특히 1930년경 미국 항공자문위원회(NACA:NASA의 전신)에서 개발한 NACA 4자리 번호 익형은 조직적으로 시작한 일련의 연구이며, 이 때 이후의 익형연구의 주류를 이루었다. 이 익형에 이어서 5자리 번호 익형과 층류익형(層流翼型) 1시리즈, 6시리즈, 7시리즈 등이 탄생하였다. 현재도 비교적 저속 때의 익형은 NACA 익형이 사용되며, 고아음속용(高亞音速用) 익형에서는 날개면 위의 충격파에 의한 기류의 표면이탈을 가급적 지연시키는 것이 요구된다.<br>\n",
    "대표적인 것은 풍압분포가 익현(翼弦)의 대부분에서 같게 하는 루프톱익형과 날개 앞가장자리 가까이에서 최저압력이 되게 하는 피키(peaky)익형 등이 있다.<br>\n",
    ">  * 그러나 천음속용에는 익형 자체보다는 날개의 평면형에 관한 연구가 중요한데, 예를 들면 날개에 후퇴각(後退角)을 붙여서 조파실속(造波失速)을 방지하여 저항을 줄이거나 또는 삼각형 날개로 평면을 개량하는 수법을 쓰고 있다. 초음속이 되면 익형은 얇은 것이 양호하며, 후퇴익과 삼각익의 평면을 합쳐서 앞가장자리가 예리한 익형 ·렌즈형 ·쐐기형 ·다이아몬드형 익형 등이 사용된다. [네이버 지식백과] 익형 [airfoil, 翼型] (두산백과 두피디아, 두산백과)"
   ]
  },
  {
   "cell_type": "markdown",
   "id": "d5462f6e",
   "metadata": {},
   "source": [
    "### Loading and preparing the data"
   ]
  },
  {
   "cell_type": "code",
   "execution_count": 2,
   "id": "0064b9ba",
   "metadata": {},
   "outputs": [],
   "source": [
    "using MLJ\n",
    "using PrettyPrinting\n",
    "import DataFrames\n",
    "import Statistics\n",
    "using CSV\n",
    "using PyPlot\n",
    "using HTTP\n",
    "using StableRNGs"
   ]
  },
  {
   "cell_type": "code",
   "execution_count": 3,
   "id": "a3a3e322",
   "metadata": {},
   "outputs": [
    {
     "name": "stdout",
     "output_type": "stream",
     "text": [
      "┌───────────┬──────────────┬──────────────┬───────────────┬──────────────┬──────────────┐\n",
      "│\u001b[1m Frequency \u001b[0m│\u001b[1m Attack_Angle \u001b[0m│\u001b[1m Chord+Length \u001b[0m│\u001b[1m Free_Velocity \u001b[0m│\u001b[1m Suction_Side \u001b[0m│\u001b[1m Scaled_Sound \u001b[0m│\n",
      "│\u001b[90m Int64     \u001b[0m│\u001b[90m Float64      \u001b[0m│\u001b[90m Float64      \u001b[0m│\u001b[90m Float64       \u001b[0m│\u001b[90m Float64      \u001b[0m│\u001b[90m Float64      \u001b[0m│\n",
      "│\u001b[90m Count     \u001b[0m│\u001b[90m Continuous   \u001b[0m│\u001b[90m Continuous   \u001b[0m│\u001b[90m Continuous    \u001b[0m│\u001b[90m Continuous   \u001b[0m│\u001b[90m Continuous   \u001b[0m│\n",
      "├───────────┼──────────────┼──────────────┼───────────────┼──────────────┼──────────────┤\n",
      "│ 800.0     │ 0.0          │ 0.3048       │ 71.3          │ 0.00266337   │ 126.201      │\n",
      "│ 1000.0    │ 0.0          │ 0.3048       │ 71.3          │ 0.00266337   │ 125.201      │\n",
      "│ 1250.0    │ 0.0          │ 0.3048       │ 71.3          │ 0.00266337   │ 125.951      │\n",
      "│ 1600.0    │ 0.0          │ 0.3048       │ 71.3          │ 0.00266337   │ 127.591      │\n",
      "│ 2000.0    │ 0.0          │ 0.3048       │ 71.3          │ 0.00266337   │ 127.461      │\n",
      "└───────────┴──────────────┴──────────────┴───────────────┴──────────────┴──────────────┘\n"
     ]
    }
   ],
   "source": [
    "req = HTTP.get(\"https://raw.githubusercontent.com/rupakc/UCI-Data-Analysis/master/Airfoil%20Dataset/airfoil_self_noise.dat\");\n",
    "\n",
    "df = CSV.read(req.body, \n",
    "              DataFrames.DataFrame;\n",
    "              header = [\"Frequency\", \"Attack_Angle\", \"Chord+Length\", \"Free_Velocity\", \"Suction_Side\", \"Scaled_Sound\"]);\n",
    "\n",
    "df[1:5, :] |> pretty"
   ]
  },
  {
   "cell_type": "markdown",
   "id": "23897b1a",
   "metadata": {},
   "source": [
    "inspect the schema:"
   ]
  },
  {
   "cell_type": "markdown",
   "id": "2d46d31d",
   "metadata": {},
   "source": [
    "unpack into the data and labels:"
   ]
  },
  {
   "cell_type": "code",
   "execution_count": 4,
   "id": "3b15ad5f",
   "metadata": {},
   "outputs": [],
   "source": [
    "y, X = unpack(df, ==(:Scaled_Sound));"
   ]
  },
  {
   "cell_type": "markdown",
   "id": "2401f180",
   "metadata": {},
   "source": [
    "Now we Standardize the features using the transformer Standardizer()"
   ]
  },
  {
   "cell_type": "code",
   "execution_count": 5,
   "id": "93fc0626",
   "metadata": {},
   "outputs": [
    {
     "name": "stderr",
     "output_type": "stream",
     "text": [
      "┌ Info: Training Machine{Standardizer,…}.\n",
      "└ @ MLJBase C:\\Users\\jeffr\\.julia\\packages\\MLJBase\\MuLnJ\\src\\machines.jl:464\n"
     ]
    },
    {
     "data": {
      "text/html": [
       "<div class=\"data-frame\"><p>1,503 rows × 5 columns</p><table class=\"data-frame\"><thead><tr><th></th><th>Frequency</th><th>Attack_Angle</th><th>Chord+Length</th><th>Free_Velocity</th><th>Suction_Side</th></tr><tr><th></th><th title=\"Int64\">Int64</th><th title=\"Float64\">Float64</th><th title=\"Float64\">Float64</th><th title=\"Float64\">Float64</th><th title=\"Float64\">Float64</th></tr></thead><tbody><tr><th>1</th><td>800</td><td>-1.14602</td><td>1.7987</td><td>1.3125</td><td>-0.64459</td></tr><tr><th>2</th><td>1000</td><td>-1.14602</td><td>1.7987</td><td>1.3125</td><td>-0.64459</td></tr><tr><th>3</th><td>1250</td><td>-1.14602</td><td>1.7987</td><td>1.3125</td><td>-0.64459</td></tr><tr><th>4</th><td>1600</td><td>-1.14602</td><td>1.7987</td><td>1.3125</td><td>-0.64459</td></tr><tr><th>5</th><td>2000</td><td>-1.14602</td><td>1.7987</td><td>1.3125</td><td>-0.64459</td></tr><tr><th>6</th><td>2500</td><td>-1.14602</td><td>1.7987</td><td>1.3125</td><td>-0.64459</td></tr><tr><th>7</th><td>3150</td><td>-1.14602</td><td>1.7987</td><td>1.3125</td><td>-0.64459</td></tr><tr><th>8</th><td>4000</td><td>-1.14602</td><td>1.7987</td><td>1.3125</td><td>-0.64459</td></tr><tr><th>9</th><td>5000</td><td>-1.14602</td><td>1.7987</td><td>1.3125</td><td>-0.64459</td></tr><tr><th>10</th><td>6300</td><td>-1.14602</td><td>1.7987</td><td>1.3125</td><td>-0.64459</td></tr><tr><th>11</th><td>8000</td><td>-1.14602</td><td>1.7987</td><td>1.3125</td><td>-0.64459</td></tr><tr><th>12</th><td>10000</td><td>-1.14602</td><td>1.7987</td><td>1.3125</td><td>-0.64459</td></tr><tr><th>13</th><td>12500</td><td>-1.14602</td><td>1.7987</td><td>1.3125</td><td>-0.64459</td></tr><tr><th>14</th><td>16000</td><td>-1.14602</td><td>1.7987</td><td>1.3125</td><td>-0.64459</td></tr><tr><th>15</th><td>500</td><td>-1.14602</td><td>1.7987</td><td>0.297908</td><td>-0.631857</td></tr><tr><th>16</th><td>630</td><td>-1.14602</td><td>1.7987</td><td>0.297908</td><td>-0.631857</td></tr><tr><th>17</th><td>800</td><td>-1.14602</td><td>1.7987</td><td>0.297908</td><td>-0.631857</td></tr><tr><th>18</th><td>1000</td><td>-1.14602</td><td>1.7987</td><td>0.297908</td><td>-0.631857</td></tr><tr><th>19</th><td>1250</td><td>-1.14602</td><td>1.7987</td><td>0.297908</td><td>-0.631857</td></tr><tr><th>20</th><td>1600</td><td>-1.14602</td><td>1.7987</td><td>0.297908</td><td>-0.631857</td></tr><tr><th>21</th><td>2000</td><td>-1.14602</td><td>1.7987</td><td>0.297908</td><td>-0.631857</td></tr><tr><th>22</th><td>2500</td><td>-1.14602</td><td>1.7987</td><td>0.297908</td><td>-0.631857</td></tr><tr><th>23</th><td>3150</td><td>-1.14602</td><td>1.7987</td><td>0.297908</td><td>-0.631857</td></tr><tr><th>24</th><td>4000</td><td>-1.14602</td><td>1.7987</td><td>0.297908</td><td>-0.631857</td></tr><tr><th>25</th><td>5000</td><td>-1.14602</td><td>1.7987</td><td>0.297908</td><td>-0.631857</td></tr><tr><th>26</th><td>6300</td><td>-1.14602</td><td>1.7987</td><td>0.297908</td><td>-0.631857</td></tr><tr><th>27</th><td>8000</td><td>-1.14602</td><td>1.7987</td><td>0.297908</td><td>-0.631857</td></tr><tr><th>28</th><td>10000</td><td>-1.14602</td><td>1.7987</td><td>0.297908</td><td>-0.631857</td></tr><tr><th>29</th><td>12500</td><td>-1.14602</td><td>1.7987</td><td>0.297908</td><td>-0.631857</td></tr><tr><th>30</th><td>200</td><td>-1.14602</td><td>1.7987</td><td>-0.723104</td><td>-0.611282</td></tr><tr><th>&vellip;</th><td>&vellip;</td><td>&vellip;</td><td>&vellip;</td><td>&vellip;</td><td>&vellip;</td></tr></tbody></table></div>"
      ],
      "text/latex": [
       "\\begin{tabular}{r|ccccc}\n",
       "\t& Frequency & Attack\\_Angle & Chord+Length & Free\\_Velocity & Suction\\_Side\\\\\n",
       "\t\\hline\n",
       "\t& Int64 & Float64 & Float64 & Float64 & Float64\\\\\n",
       "\t\\hline\n",
       "\t1 & 800 & -1.14602 & 1.7987 & 1.3125 & -0.64459 \\\\\n",
       "\t2 & 1000 & -1.14602 & 1.7987 & 1.3125 & -0.64459 \\\\\n",
       "\t3 & 1250 & -1.14602 & 1.7987 & 1.3125 & -0.64459 \\\\\n",
       "\t4 & 1600 & -1.14602 & 1.7987 & 1.3125 & -0.64459 \\\\\n",
       "\t5 & 2000 & -1.14602 & 1.7987 & 1.3125 & -0.64459 \\\\\n",
       "\t6 & 2500 & -1.14602 & 1.7987 & 1.3125 & -0.64459 \\\\\n",
       "\t7 & 3150 & -1.14602 & 1.7987 & 1.3125 & -0.64459 \\\\\n",
       "\t8 & 4000 & -1.14602 & 1.7987 & 1.3125 & -0.64459 \\\\\n",
       "\t9 & 5000 & -1.14602 & 1.7987 & 1.3125 & -0.64459 \\\\\n",
       "\t10 & 6300 & -1.14602 & 1.7987 & 1.3125 & -0.64459 \\\\\n",
       "\t11 & 8000 & -1.14602 & 1.7987 & 1.3125 & -0.64459 \\\\\n",
       "\t12 & 10000 & -1.14602 & 1.7987 & 1.3125 & -0.64459 \\\\\n",
       "\t13 & 12500 & -1.14602 & 1.7987 & 1.3125 & -0.64459 \\\\\n",
       "\t14 & 16000 & -1.14602 & 1.7987 & 1.3125 & -0.64459 \\\\\n",
       "\t15 & 500 & -1.14602 & 1.7987 & 0.297908 & -0.631857 \\\\\n",
       "\t16 & 630 & -1.14602 & 1.7987 & 0.297908 & -0.631857 \\\\\n",
       "\t17 & 800 & -1.14602 & 1.7987 & 0.297908 & -0.631857 \\\\\n",
       "\t18 & 1000 & -1.14602 & 1.7987 & 0.297908 & -0.631857 \\\\\n",
       "\t19 & 1250 & -1.14602 & 1.7987 & 0.297908 & -0.631857 \\\\\n",
       "\t20 & 1600 & -1.14602 & 1.7987 & 0.297908 & -0.631857 \\\\\n",
       "\t21 & 2000 & -1.14602 & 1.7987 & 0.297908 & -0.631857 \\\\\n",
       "\t22 & 2500 & -1.14602 & 1.7987 & 0.297908 & -0.631857 \\\\\n",
       "\t23 & 3150 & -1.14602 & 1.7987 & 0.297908 & -0.631857 \\\\\n",
       "\t24 & 4000 & -1.14602 & 1.7987 & 0.297908 & -0.631857 \\\\\n",
       "\t25 & 5000 & -1.14602 & 1.7987 & 0.297908 & -0.631857 \\\\\n",
       "\t26 & 6300 & -1.14602 & 1.7987 & 0.297908 & -0.631857 \\\\\n",
       "\t27 & 8000 & -1.14602 & 1.7987 & 0.297908 & -0.631857 \\\\\n",
       "\t28 & 10000 & -1.14602 & 1.7987 & 0.297908 & -0.631857 \\\\\n",
       "\t29 & 12500 & -1.14602 & 1.7987 & 0.297908 & -0.631857 \\\\\n",
       "\t30 & 200 & -1.14602 & 1.7987 & -0.723104 & -0.611282 \\\\\n",
       "\t$\\dots$ & $\\dots$ & $\\dots$ & $\\dots$ & $\\dots$ & $\\dots$ \\\\\n",
       "\\end{tabular}\n"
      ],
      "text/plain": [
       "\u001b[1m1503×5 DataFrame\u001b[0m\n",
       "\u001b[1m  Row \u001b[0m│\u001b[1m Frequency \u001b[0m\u001b[1m Attack_Angle \u001b[0m\u001b[1m Chord+Length \u001b[0m\u001b[1m Free_Velocity \u001b[0m\u001b[1m Suction_Side \u001b[0m\n",
       "\u001b[1m      \u001b[0m│\u001b[90m Int64     \u001b[0m\u001b[90m Float64      \u001b[0m\u001b[90m Float64      \u001b[0m\u001b[90m Float64       \u001b[0m\u001b[90m Float64      \u001b[0m\n",
       "──────┼────────────────────────────────────────────────────────────────────\n",
       "    1 │       800      -1.14602      1.7987         1.3125        -0.64459\n",
       "    2 │      1000      -1.14602      1.7987         1.3125        -0.64459\n",
       "    3 │      1250      -1.14602      1.7987         1.3125        -0.64459\n",
       "    4 │      1600      -1.14602      1.7987         1.3125        -0.64459\n",
       "    5 │      2000      -1.14602      1.7987         1.3125        -0.64459\n",
       "    6 │      2500      -1.14602      1.7987         1.3125        -0.64459\n",
       "    7 │      3150      -1.14602      1.7987         1.3125        -0.64459\n",
       "    8 │      4000      -1.14602      1.7987         1.3125        -0.64459\n",
       "    9 │      5000      -1.14602      1.7987         1.3125        -0.64459\n",
       "   10 │      6300      -1.14602      1.7987         1.3125        -0.64459\n",
       "   11 │      8000      -1.14602      1.7987         1.3125        -0.64459\n",
       "  ⋮   │     ⋮           ⋮             ⋮              ⋮             ⋮\n",
       " 1494 │       800       1.48995     -0.373615      -0.723104       3.17172\n",
       " 1495 │      1000       1.48995     -0.373615      -0.723104       3.17172\n",
       " 1496 │      1250       1.48995     -0.373615      -0.723104       3.17172\n",
       " 1497 │      1600       1.48995     -0.373615      -0.723104       3.17172\n",
       " 1498 │      2000       1.48995     -0.373615      -0.723104       3.17172\n",
       " 1499 │      2500       1.48995     -0.373615      -0.723104       3.17172\n",
       " 1500 │      3150       1.48995     -0.373615      -0.723104       3.17172\n",
       " 1501 │      4000       1.48995     -0.373615      -0.723104       3.17172\n",
       " 1502 │      5000       1.48995     -0.373615      -0.723104       3.17172\n",
       " 1503 │      6300       1.48995     -0.373615      -0.723104       3.17172\n",
       "\u001b[36m                                                          1482 rows omitted\u001b[0m"
      ]
     },
     "execution_count": 5,
     "metadata": {},
     "output_type": "execute_result"
    }
   ],
   "source": [
    "X = MLJ.transform(fit!(machine(Standardizer(), X)), X)"
   ]
  },
  {
   "cell_type": "markdown",
   "id": "4073f1bd",
   "metadata": {},
   "source": [
    "Partition into train and test set"
   ]
  },
  {
   "cell_type": "code",
   "execution_count": 6,
   "id": "e7e3980b",
   "metadata": {},
   "outputs": [],
   "source": [
    "train, test = partition(collect(eachindex(y)), 0.7, shuffle = true, rng = StableRNG(612));"
   ]
  },
  {
   "cell_type": "markdown",
   "id": "82ce256f",
   "metadata": {},
   "source": [
    "Let's first see which models are compatible with the scientific type and machine type of our data"
   ]
  },
  {
   "cell_type": "code",
   "execution_count": 7,
   "id": "d5a2c730",
   "metadata": {},
   "outputs": [
    {
     "name": "stdout",
     "output_type": "stream",
     "text": [
      "Model Name: ConstantRegressor , Package: MLJModels\n",
      "Model Name: DecisionTreeRegressor , Package: BetaML\n",
      "Model Name: DecisionTreeRegressor , Package: DecisionTree\n",
      "Model Name: DeterministicConstantRegressor , Package: MLJModels\n",
      "Model Name: RandomForestRegressor , Package: BetaML\n",
      "Model Name: RandomForestRegressor , Package: DecisionTree\n",
      "Model Name: RandomForestRegressor , Package: ScikitLearn\n"
     ]
    }
   ],
   "source": [
    "for model in models(matching(X, y))\n",
    "    print(\"Model Name: \", model.name, \" , Package: \", model.package_name, \"\\n\")\n",
    "end"
   ]
  },
  {
   "cell_type": "code",
   "execution_count": 8,
   "id": "d6647af4",
   "metadata": {},
   "outputs": [
    {
     "data": {
      "text/plain": [
       "┌───────────────┬────────────┬─────────┐\n",
       "│\u001b[22m names         \u001b[0m│\u001b[22m scitypes   \u001b[0m│\u001b[22m types   \u001b[0m│\n",
       "├───────────────┼────────────┼─────────┤\n",
       "│ Frequency     │ Count      │ Int64   │\n",
       "│ Attack_Angle  │ Continuous │ Float64 │\n",
       "│ Chord+Length  │ Continuous │ Float64 │\n",
       "│ Free_Velocity │ Continuous │ Float64 │\n",
       "│ Suction_Side  │ Continuous │ Float64 │\n",
       "└───────────────┴────────────┴─────────┘\n"
      ]
     },
     "execution_count": 8,
     "metadata": {},
     "output_type": "execute_result"
    }
   ],
   "source": [
    "schema(X)"
   ]
  },
  {
   "cell_type": "markdown",
   "id": "9b979252",
   "metadata": {},
   "source": [
    "Note that if we coerce `X.Frequency` to `Continuous`, many more models are available:"
   ]
  },
  {
   "cell_type": "code",
   "execution_count": 9,
   "id": "5eea42cf",
   "metadata": {},
   "outputs": [
    {
     "data": {
      "text/plain": [
       "┌───────────────┬────────────┬─────────┐\n",
       "│\u001b[22m names         \u001b[0m│\u001b[22m scitypes   \u001b[0m│\u001b[22m types   \u001b[0m│\n",
       "├───────────────┼────────────┼─────────┤\n",
       "│ Frequency     │ Continuous │ Float64 │\n",
       "│ Attack_Angle  │ Continuous │ Float64 │\n",
       "│ Chord+Length  │ Continuous │ Float64 │\n",
       "│ Free_Velocity │ Continuous │ Float64 │\n",
       "│ Suction_Side  │ Continuous │ Float64 │\n",
       "└───────────────┴────────────┴─────────┘\n"
      ]
     },
     "execution_count": 9,
     "metadata": {},
     "output_type": "execute_result"
    }
   ],
   "source": [
    "coerce!(X, :Frequency => Continuous)\n",
    "schema(X)"
   ]
  },
  {
   "cell_type": "code",
   "execution_count": 10,
   "id": "0e7164c3",
   "metadata": {},
   "outputs": [
    {
     "name": "stdout",
     "output_type": "stream",
     "text": [
      "Model Name: ARDRegressor , Package: ScikitLearn\n",
      "Model Name: AdaBoostRegressor , Package: ScikitLearn\n",
      "Model Name: BaggingRegressor , Package: ScikitLearn\n",
      "Model Name: BayesianRidgeRegressor , Package: ScikitLearn\n",
      "Model Name: ConstantRegressor , Package: MLJModels\n",
      "Model Name: DecisionTreeRegressor , Package: BetaML\n",
      "Model Name: DecisionTreeRegressor , Package: DecisionTree\n",
      "Model Name: DeterministicConstantRegressor , Package: MLJModels\n",
      "Model Name: DummyRegressor , Package: ScikitLearn\n",
      "Model Name: ElasticNetCVRegressor , Package: ScikitLearn\n",
      "Model Name: ElasticNetRegressor , Package: MLJLinearModels\n",
      "Model Name: ElasticNetRegressor , Package: ScikitLearn\n",
      "Model Name: EpsilonSVR , Package: LIBSVM\n",
      "Model Name: EvoTreeGaussian , Package: EvoTrees\n",
      "Model Name: EvoTreeRegressor , Package: EvoTrees\n",
      "Model Name: ExtraTreesRegressor , Package: ScikitLearn\n",
      "Model Name: GaussianProcessRegressor , Package: ScikitLearn\n",
      "Model Name: GradientBoostingRegressor , Package: ScikitLearn\n",
      "Model Name: HuberRegressor , Package: MLJLinearModels\n",
      "Model Name: HuberRegressor , Package: ScikitLearn\n",
      "Model Name: KNNRegressor , Package: NearestNeighborModels\n",
      "Model Name: KNeighborsRegressor , Package: ScikitLearn\n",
      "Model Name: KPLSRegressor , Package: PartialLeastSquaresRegressor\n",
      "Model Name: LADRegressor , Package: MLJLinearModels\n",
      "Model Name: LGBMRegressor , Package: LightGBM\n",
      "Model Name: LarsCVRegressor , Package: ScikitLearn\n",
      "Model Name: LarsRegressor , Package: ScikitLearn\n",
      "Model Name: LassoCVRegressor , Package: ScikitLearn\n",
      "Model Name: LassoLarsCVRegressor , Package: ScikitLearn\n",
      "Model Name: LassoLarsICRegressor , Package: ScikitLearn\n",
      "Model Name: LassoLarsRegressor , Package: ScikitLearn\n",
      "Model Name: LassoRegressor , Package: MLJLinearModels\n",
      "Model Name: LassoRegressor , Package: ScikitLearn\n",
      "Model Name: LinearRegressor , Package: GLM\n",
      "Model Name: LinearRegressor , Package: MLJLinearModels\n",
      "Model Name: LinearRegressor , Package: MultivariateStats\n",
      "Model Name: LinearRegressor , Package: ScikitLearn\n",
      "Model Name: NeuralNetworkRegressor , Package: MLJFlux\n",
      "Model Name: NuSVR , Package: LIBSVM\n",
      "Model Name: OrthogonalMatchingPursuitCVRegressor , Package: ScikitLearn\n",
      "Model Name: OrthogonalMatchingPursuitRegressor , Package: ScikitLearn\n",
      "Model Name: PLSRegressor , Package: PartialLeastSquaresRegressor\n",
      "Model Name: PassiveAggressiveRegressor , Package: ScikitLearn\n",
      "Model Name: QuantileRegressor , Package: MLJLinearModels\n",
      "Model Name: RANSACRegressor , Package: ScikitLearn\n",
      "Model Name: RandomForestRegressor , Package: BetaML\n",
      "Model Name: RandomForestRegressor , Package: DecisionTree\n",
      "Model Name: RandomForestRegressor , Package: ScikitLearn\n",
      "Model Name: RidgeCVRegressor , Package: ScikitLearn\n",
      "Model Name: RidgeRegressor , Package: MLJLinearModels\n",
      "Model Name: RidgeRegressor , Package: MultivariateStats\n",
      "Model Name: RidgeRegressor , Package: ScikitLearn\n",
      "Model Name: RobustRegressor , Package: MLJLinearModels\n",
      "Model Name: SGDRegressor , Package: ScikitLearn\n",
      "Model Name: SVMLinearRegressor , Package: ScikitLearn\n",
      "Model Name: SVMNuRegressor , Package: ScikitLearn\n",
      "Model Name: SVMRegressor , Package: ScikitLearn\n",
      "Model Name: TheilSenRegressor , Package: ScikitLearn\n",
      "Model Name: XGBoostRegressor , Package: XGBoost\n"
     ]
    }
   ],
   "source": [
    "for model in models(matching(X, y))\n",
    "    print(\"Model Name: \", model.name, \" , Package: \", model.package_name, \"\\n\")\n",
    "end"
   ]
  },
  {
   "cell_type": "markdown",
   "id": "b614f6e6",
   "metadata": {},
   "source": [
    "### DecisionTreeRegressor\n",
    "\n",
    "---"
   ]
  },
  {
   "cell_type": "markdown",
   "id": "67d506d5",
   "metadata": {},
   "source": [
    "We will first try out DecisionTreeRegressor:"
   ]
  },
  {
   "cell_type": "code",
   "execution_count": 13,
   "id": "5ad82bf4",
   "metadata": {},
   "outputs": [
    {
     "name": "stderr",
     "output_type": "stream",
     "text": [
      "┌ Info: For silent loading, specify `verbosity=0`. \n",
      "└ @ Main C:\\Users\\jeffr\\.julia\\packages\\MLJModels\\tMgLW\\src\\loading.jl:168\n"
     ]
    },
    {
     "name": "stdout",
     "output_type": "stream",
     "text": [
      "import MLJDecisionTreeInterface ✔\n"
     ]
    },
    {
     "data": {
      "text/plain": [
       "Machine{DecisionTreeRegressor,…} trained 0 times; caches data\n",
       "  model: MLJDecisionTreeInterface.DecisionTreeRegressor\n",
       "  args: \n",
       "    1:\tSource @093 ⏎ `Table{AbstractVector{Continuous}}`\n",
       "    2:\tSource @314 ⏎ `AbstractVector{Continuous}`\n"
      ]
     },
     "execution_count": 13,
     "metadata": {},
     "output_type": "execute_result"
    }
   ],
   "source": [
    "DecisionTreeRegressor = @load DecisionTreeRegressor pkg=DecisionTree\n",
    "\n",
    "dcrm = machine(DecisionTreeRegressor(), X, y)"
   ]
  },
  {
   "cell_type": "code",
   "execution_count": 14,
   "id": "98a550ff",
   "metadata": {},
   "outputs": [
    {
     "name": "stderr",
     "output_type": "stream",
     "text": [
      "┌ Info: Training Machine{DecisionTreeRegressor,…}.\n",
      "└ @ MLJBase C:\\Users\\jeffr\\.julia\\packages\\MLJBase\\MuLnJ\\src\\machines.jl:464\n"
     ]
    }
   ],
   "source": [
    "fit!(dcrm, rows = train)\n",
    "pred_dcrm = predict(dcrm, rows = test);"
   ]
  },
  {
   "cell_type": "markdown",
   "id": "605a68db",
   "metadata": {},
   "source": [
    "Now you can call a loss function to assess the performance on test set."
   ]
  },
  {
   "cell_type": "code",
   "execution_count": 15,
   "id": "7e078b1c",
   "metadata": {},
   "outputs": [
    {
     "data": {
      "text/plain": [
       "2.917782781941708"
      ]
     },
     "execution_count": 15,
     "metadata": {},
     "output_type": "execute_result"
    }
   ],
   "source": [
    "rms(pred_dcrm, y[test])"
   ]
  },
  {
   "cell_type": "markdown",
   "id": "2561b238",
   "metadata": {},
   "source": [
    "### RandomForestRegressor\n",
    "\n",
    "---"
   ]
  },
  {
   "cell_type": "markdown",
   "id": "01175945",
   "metadata": {},
   "source": [
    "Now let's try out RandomForestRegressor:"
   ]
  },
  {
   "cell_type": "code",
   "execution_count": 16,
   "id": "54c80d1e",
   "metadata": {},
   "outputs": [
    {
     "name": "stdout",
     "output_type": "stream",
     "text": [
      "import MLJDecisionTreeInterface ✔\n"
     ]
    },
    {
     "name": "stderr",
     "output_type": "stream",
     "text": [
      "┌ Info: For silent loading, specify `verbosity=0`. \n",
      "└ @ Main C:\\Users\\jeffr\\.julia\\packages\\MLJModels\\tMgLW\\src\\loading.jl:168\n"
     ]
    }
   ],
   "source": [
    "RandomForestRegressor = @load RandomForestRegressor pkg = DecisionTree\n",
    "\n",
    "rfr = RandomForestRegressor()\n",
    "\n",
    "rfr_m = machine(rfr, X, y);"
   ]
  },
  {
   "cell_type": "markdown",
   "id": "f79ea79e",
   "metadata": {},
   "source": [
    "Train on the rows corresponding to train"
   ]
  },
  {
   "cell_type": "code",
   "execution_count": 17,
   "id": "e720371d",
   "metadata": {},
   "outputs": [
    {
     "name": "stderr",
     "output_type": "stream",
     "text": [
      "┌ Info: Training Machine{RandomForestRegressor,…}.\n",
      "└ @ MLJBase C:\\Users\\jeffr\\.julia\\packages\\MLJBase\\MuLnJ\\src\\machines.jl:464\n"
     ]
    }
   ],
   "source": [
    "fit!(rfr_m, rows = train);"
   ]
  },
  {
   "cell_type": "markdown",
   "id": "a8898a6c",
   "metadata": {},
   "source": [
    "predict values on the rows corresponding to test"
   ]
  },
  {
   "cell_type": "code",
   "execution_count": 19,
   "id": "2f32563f",
   "metadata": {},
   "outputs": [
    {
     "data": {
      "text/plain": [
       "2.3015726228201645"
      ]
     },
     "execution_count": 19,
     "metadata": {},
     "output_type": "execute_result"
    }
   ],
   "source": [
    "pred_rfr = predict(rfr_m, rows = test)\n",
    "rms(pred_rfr, y[test])"
   ]
  },
  {
   "cell_type": "markdown",
   "id": "96b8a2ee",
   "metadata": {},
   "source": [
    "Unsuprisingly, the RandomForestRegressor does a better job.\n",
    "\n",
    "Can we do even better? Yeah, we can!! We can make use of Model Tuning."
   ]
  },
  {
   "cell_type": "markdown",
   "id": "d6a305b0",
   "metadata": {},
   "source": [
    "### Tuning \n",
    "\n",
    "---"
   ]
  },
  {
   "cell_type": "markdown",
   "id": "86ad89e9",
   "metadata": {},
   "source": [
    "In case you are new to model tuning using MLJ, refer lab5 and model-tuning.\n",
    "\n",
    "Range of values for parameters should be specified to do hyperparameter tuning"
   ]
  },
  {
   "cell_type": "code",
   "execution_count": 20,
   "id": "d3f79260",
   "metadata": {},
   "outputs": [
    {
     "data": {
      "text/plain": [
       "2-element Vector{MLJBase.NumericRange{T, MLJBase.Bounded, Symbol} where T}:\n",
       " NumericRange(9 ≤ n_trees ≤ 15; origin=12.0, unit=3.0)\n",
       " NumericRange(0.6 ≤ sampling_fraction ≤ 0.8; origin=0.7, unit=0.10000000000000003)"
      ]
     },
     "execution_count": 20,
     "metadata": {},
     "output_type": "execute_result"
    }
   ],
   "source": [
    "r_maxD = range(rfr, :n_trees, lower=9, upper=15)\n",
    "r_samF = range(rfr, :sampling_fraction, lower=0.6, upper=0.8)\n",
    "r = [r_maxD, r_samF]"
   ]
  },
  {
   "cell_type": "markdown",
   "id": "306d969d",
   "metadata": {},
   "source": [
    "Now we specify how the tunig should be done. Let's just specify a coarse grid tuning with cross validation and instantiate a tuned model:"
   ]
  },
  {
   "cell_type": "code",
   "execution_count": 22,
   "id": "3343a062",
   "metadata": {},
   "outputs": [],
   "source": [
    "tuning = Grid(resolution = 7)\n",
    "resampling = CV(nfolds = 6)\n",
    "\n",
    "tm = TunedModel(model = rfr, \n",
    "                tuning = tuning,\n",
    "                resampling = resampling, \n",
    "                ranges = r, \n",
    "                measure = rms)\n",
    "\n",
    "rfr_tm = machine(tm, X, y);"
   ]
  },
  {
   "cell_type": "markdown",
   "id": "9cf6d633",
   "metadata": {},
   "source": [
    "train on the rows corresponding to train"
   ]
  },
  {
   "cell_type": "code",
   "execution_count": 23,
   "id": "f89d5bd6",
   "metadata": {},
   "outputs": [
    {
     "name": "stderr",
     "output_type": "stream",
     "text": [
      "┌ Info: Training Machine{DeterministicTunedModel{Grid,…},…}.\n",
      "└ @ MLJBase C:\\Users\\jeffr\\.julia\\packages\\MLJBase\\MuLnJ\\src\\machines.jl:464\n",
      "┌ Info: Attempting to evaluate 49 models.\n",
      "└ @ MLJTuning C:\\Users\\jeffr\\.julia\\packages\\MLJTuning\\Al9yX\\src\\tuned_models.jl:680\n",
      "\u001b[33mEvaluating over 49 metamodels: 100%[=========================] Time: 0:00:03\u001b[39m\n"
     ]
    }
   ],
   "source": [
    "fit!(rfr_tm, rows = train);"
   ]
  },
  {
   "cell_type": "markdown",
   "id": "0eaffd7a",
   "metadata": {},
   "source": [
    "predict values on the rows corresponding to test"
   ]
  },
  {
   "cell_type": "code",
   "execution_count": 24,
   "id": "cea21e04",
   "metadata": {},
   "outputs": [
    {
     "data": {
      "text/plain": [
       "2.2932573402789718"
      ]
     },
     "execution_count": 24,
     "metadata": {},
     "output_type": "execute_result"
    }
   ],
   "source": [
    "pred_rfr_tm = predict(rfr_tm, rows = test);\n",
    "rms(pred_rfr_tm, y[test])"
   ]
  },
  {
   "cell_type": "markdown",
   "id": "cf13e52b",
   "metadata": {},
   "source": [
    "That was great! We have further improved the accuracy\n",
    "\n",
    "Now to retreive best model, You can use"
   ]
  },
  {
   "cell_type": "code",
   "execution_count": 25,
   "id": "fa495f5e",
   "metadata": {},
   "outputs": [
    {
     "data": {
      "text/plain": [
       "RandomForestRegressor(\n",
       "    max_depth = -1,\n",
       "    min_samples_leaf = 1,\n",
       "    min_samples_split = 2,\n",
       "    min_purity_increase = 0.0,\n",
       "    n_subfeatures = -1,\n",
       "    n_trees = 14,\n",
       "    sampling_fraction = 0.8,\n",
       "    pdf_smoothing = 0.0,\n",
       "    rng = Random._GLOBAL_RNG())"
      ]
     },
     "execution_count": 25,
     "metadata": {},
     "output_type": "execute_result"
    }
   ],
   "source": [
    "fitted_params(rfr_tm).bes"
   ]
  },
  {
   "cell_type": "markdown",
   "id": "6efe02bf",
   "metadata": {},
   "source": [
    "Now we can investigate the tuning by using report. Let's plot a heatmap of the measurements:"
   ]
  },
  {
   "cell_type": "code",
   "execution_count": 27,
   "id": "ee147472",
   "metadata": {},
   "outputs": [
    {
     "data": {
      "image/png": "[encoded data removed]",
      "text/plain": [
       "Figure(PyObject <Figure size 800x600 with 1 Axes>)"
      ]
     },
     "metadata": {},
     "output_type": "display_data"
    }
   ],
   "source": [
    "r = report(rfr_tm)\n",
    "res = r.plotting\n",
    "\n",
    "md = res.parameter_values[:, 1]\n",
    "mcw = res.parameter_values[:, 2]\n",
    "\n",
    "figure(figsize = (8, 6))\n",
    "tricontourf(md, mcw, res.measurements)\n",
    "\n",
    "xlabel(\"Number of trees\", fontsize = 14)\n",
    "ylabel(\"Sampling fraction\", fontsize = 14)\n",
    "xticks(9:1:15, fontsize = 12)\n",
    "yticks(fontsize = 12)\n",
    "\n",
    "savefig(\"./plots/4.7.1.png\")"
   ]
  }
 ],
 "metadata": {
  "hide_input": false,
  "kernelspec": {
   "display_name": "Julia 1.7.3",
   "language": "julia",
   "name": "julia-1.7"
  },
  "language_info": {
   "file_extension": ".jl",
   "mimetype": "application/julia",
   "name": "julia",
   "version": "1.7.3"
  }
 },
 "nbformat": 4,
 "nbformat_minor": 5
}
