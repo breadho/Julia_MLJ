{
 "cells": [
  {
   "cell_type": "markdown",
   "id": "3d347444",
   "metadata": {},
   "source": [
    "# Intro to Stats Learning"
   ]
  },
  {
   "cell_type": "markdown",
   "id": "4129f806",
   "metadata": {},
   "source": [
    "## Lab 4"
   ]
  },
  {
   "cell_type": "markdown",
   "id": "baca23e7",
   "metadata": {},
   "source": [
    "### Lab 4 - Logistic Regression, LDA, QDA, KNN"
   ]
  },
  {
   "cell_type": "markdown",
   "id": "bf7a0b5e",
   "metadata": {},
   "source": [
    "> https://juliaai.github.io/DataScienceTutorials.jl/isl/lab-4/\n",
    "> <br> (project folder) https://raw.githubusercontent.com/juliaai/DataScienceTutorials.jl/gh-pages/__generated/ISL-lab-4.tar.gz"
   ]
  },
  {
   "cell_type": "code",
   "execution_count": 1,
   "id": "6030930c",
   "metadata": {},
   "outputs": [
    {
     "name": "stderr",
     "output_type": "stream",
     "text": [
      "\u001b[32m\u001b[1m  Activating\u001b[22m\u001b[39m project at `D:\\JULIA\\6_ML_with_Julia\\ISL-lab-4`\n"
     ]
    }
   ],
   "source": [
    "using Pkg; Pkg.activate(\"D:/JULIA/6_ML_with_Julia/ISL-lab-4\"); Pkg.instantiate()"
   ]
  },
  {
   "cell_type": "markdown",
   "id": "e444a29e",
   "metadata": {},
   "source": [
    "> Stock market data\n",
    "> 1. Logistic Regression\n",
    "> 2. LDA\n",
    "> 3. QDA\n",
    "> 4. KNN\n",
    "> Caravan insurance data\n",
    "> 1. ROC and AUC"
   ]
  },
  {
   "cell_type": "markdown",
   "id": "f66e7c8c",
   "metadata": {},
   "source": [
    "### Stock market data\n",
    "\n",
    "---"
   ]
  },
  {
   "cell_type": "markdown",
   "id": "9d014818",
   "metadata": {},
   "source": [
    "Let's load the usual packages and the data\n",
    "```R\n",
    "S&P Stock Market Data\n",
    "Description\n",
    "Daily percentage returns for the S&P 500 stock index between 2001 and 2005.\n",
    "\n",
    "Usage\n",
    "Smarket\n",
    "Format\n",
    "A data frame with 1250 observations on the following 9 variables.\n",
    "\n",
    "Year\n",
    "The year that the observation was recorded\n",
    "\n",
    "Lag1\n",
    "Percentage return for previous day\n",
    "\n",
    "Lag2\n",
    "Percentage return for 2 days previous\n",
    "\n",
    "Lag3\n",
    "Percentage return for 3 days previous\n",
    "\n",
    "Lag4\n",
    "Percentage return for 4 days previous\n",
    "\n",
    "Lag5\n",
    "Percentage return for 5 days previous\n",
    "\n",
    "Volume\n",
    "Volume of shares traded (number of daily shares traded in billions)\n",
    "\n",
    "Today\n",
    "Percentage return for today\n",
    "\n",
    "Direction\n",
    "A factor with levels Down and Up indicating whether the market had a positive or negative return on a given day\n",
    "```"
   ]
  },
  {
   "cell_type": "code",
   "execution_count": 2,
   "id": "794175c7",
   "metadata": {},
   "outputs": [
    {
     "name": "stdout",
     "output_type": "stream",
     "text": [
      "size(smarket) = (1250, 9)\n",
      "names(smarket) = [\"Year\", \"Lag1\", \"Lag2\", \"Lag3\", \"Lag4\", \"Lag5\", \"Volume\", \"Today\", \"Direction\"]\n"
     ]
    },
    {
     "data": {
      "text/plain": [
       "9-element Vector{String}:\n",
       " \"Year\"\n",
       " \"Lag1\"\n",
       " \"Lag2\"\n",
       " \"Lag3\"\n",
       " \"Lag4\"\n",
       " \"Lag5\"\n",
       " \"Volume\"\n",
       " \"Today\"\n",
       " \"Direction\""
      ]
     },
     "execution_count": 2,
     "metadata": {},
     "output_type": "execute_result"
    }
   ],
   "source": [
    "using MLJ\n",
    "import RDatasets: dataset\n",
    "import DataFrames: DataFrame, describe, select, Not\n",
    "import StatsBase: countmap, cor, var\n",
    "using PrettyPrinting\n",
    "\n",
    "smarket = dataset(\"ISLR\", \"Smarket\")\n",
    "@show size(smarket)\n",
    "@show names(smarket)"
   ]
  },
  {
   "cell_type": "markdown",
   "id": "36eeaa69",
   "metadata": {},
   "source": [
    "Since we often want to only show a few significant digits for the metrics etc, let's introduce a very simple function that does that:"
   ]
  },
  {
   "cell_type": "code",
   "execution_count": 3,
   "id": "5f0a098e",
   "metadata": {},
   "outputs": [
    {
     "data": {
      "text/plain": [
       "3.14"
      ]
     },
     "execution_count": 3,
     "metadata": {},
     "output_type": "execute_result"
    }
   ],
   "source": [
    "r3(x) = round(x, sigdigits = 3)\n",
    "r3(pi)"
   ]
  },
  {
   "cell_type": "markdown",
   "id": "356312e1",
   "metadata": {},
   "source": [
    "Let's get a description too"
   ]
  },
  {
   "cell_type": "code",
   "execution_count": 4,
   "id": "f9dde021",
   "metadata": {},
   "outputs": [
    {
     "data": {
      "text/html": [
       "<div class=\"data-frame\"><p>9 rows × 4 columns</p><table class=\"data-frame\"><thead><tr><th></th><th>variable</th><th>mean</th><th>std</th><th>eltype</th></tr><tr><th></th><th title=\"Symbol\">Symbol</th><th title=\"Union{Nothing, Float64}\">Union…</th><th title=\"Union{Nothing, Float64}\">Union…</th><th title=\"DataType\">DataType</th></tr></thead><tbody><tr><th>1</th><td>Year</td><td>2003.02</td><td>1.40902</td><td>Float64</td></tr><tr><th>2</th><td>Lag1</td><td>0.0038344</td><td>1.1363</td><td>Float64</td></tr><tr><th>3</th><td>Lag2</td><td>0.0039192</td><td>1.13628</td><td>Float64</td></tr><tr><th>4</th><td>Lag3</td><td>0.001716</td><td>1.1387</td><td>Float64</td></tr><tr><th>5</th><td>Lag4</td><td>0.001636</td><td>1.13877</td><td>Float64</td></tr><tr><th>6</th><td>Lag5</td><td>0.0056096</td><td>1.14755</td><td>Float64</td></tr><tr><th>7</th><td>Volume</td><td>1.4783</td><td>0.360357</td><td>Float64</td></tr><tr><th>8</th><td>Today</td><td>0.0031384</td><td>1.13633</td><td>Float64</td></tr><tr><th>9</th><td>Direction</td><td></td><td></td><td>CategoricalValue{String, UInt8}</td></tr></tbody></table></div>"
      ],
      "text/latex": [
       "\\begin{tabular}{r|cccc}\n",
       "\t& variable & mean & std & eltype\\\\\n",
       "\t\\hline\n",
       "\t& Symbol & Union… & Union… & DataType\\\\\n",
       "\t\\hline\n",
       "\t1 & Year & 2003.02 & 1.40902 & Float64 \\\\\n",
       "\t2 & Lag1 & 0.0038344 & 1.1363 & Float64 \\\\\n",
       "\t3 & Lag2 & 0.0039192 & 1.13628 & Float64 \\\\\n",
       "\t4 & Lag3 & 0.001716 & 1.1387 & Float64 \\\\\n",
       "\t5 & Lag4 & 0.001636 & 1.13877 & Float64 \\\\\n",
       "\t6 & Lag5 & 0.0056096 & 1.14755 & Float64 \\\\\n",
       "\t7 & Volume & 1.4783 & 0.360357 & Float64 \\\\\n",
       "\t8 & Today & 0.0031384 & 1.13633 & Float64 \\\\\n",
       "\t9 & Direction &  &  & CategoricalValue\\{String, UInt8\\} \\\\\n",
       "\\end{tabular}\n"
      ],
      "text/plain": [
       "\u001b[1m9×4 DataFrame\u001b[0m\n",
       "\u001b[1m Row \u001b[0m│\u001b[1m variable  \u001b[0m\u001b[1m mean      \u001b[0m\u001b[1m std      \u001b[0m\u001b[1m eltype                          \u001b[0m\n",
       "\u001b[1m     \u001b[0m│\u001b[90m Symbol    \u001b[0m\u001b[90m Union…    \u001b[0m\u001b[90m Union…   \u001b[0m\u001b[90m DataType                        \u001b[0m\n",
       "─────┼─────────────────────────────────────────────────────────────────\n",
       "   1 │ Year       2003.02    1.40902   Float64\n",
       "   2 │ Lag1       0.0038344  1.1363    Float64\n",
       "   3 │ Lag2       0.0039192  1.13628   Float64\n",
       "   4 │ Lag3       0.001716   1.1387    Float64\n",
       "   5 │ Lag4       0.001636   1.13877   Float64\n",
       "   6 │ Lag5       0.0056096  1.14755   Float64\n",
       "   7 │ Volume     1.4783     0.360357  Float64\n",
       "   8 │ Today      0.0031384  1.13633   Float64\n",
       "   9 │ Direction \u001b[90m           \u001b[0m\u001b[90m          \u001b[0m CategoricalValue{String, UInt8}"
      ]
     },
     "execution_count": 4,
     "metadata": {},
     "output_type": "execute_result"
    }
   ],
   "source": [
    "describe(smarket, :mean, :std, :eltype)"
   ]
  },
  {
   "cell_type": "markdown",
   "id": "e9f91aa2",
   "metadata": {},
   "source": [
    "The target variable is ```:Direction```:"
   ]
  },
  {
   "cell_type": "code",
   "execution_count": 5,
   "id": "fc3969b0",
   "metadata": {},
   "outputs": [],
   "source": [
    "y = smarket.Direction\n",
    "X = select(smarket, Not(:Direction));"
   ]
  },
  {
   "cell_type": "markdown",
   "id": "d04eb448",
   "metadata": {},
   "source": [
    "We can compute all the pairwise correlations; we use ```Matrix``` so that the dataframe entries are considered as one matrix of numbers with the same type (otherwise ```cor``` won't work):"
   ]
  },
  {
   "cell_type": "code",
   "execution_count": 6,
   "id": "6fe07e4e",
   "metadata": {},
   "outputs": [
    {
     "data": {
      "text/plain": [
       "8×8 Matrix{Float64}:\n",
       " 1.0         0.0296996    0.0305964    0.0331946   …   0.539006    0.0300952\n",
       " 0.0296996   1.0         -0.0262943   -0.0108034       0.0409099  -0.026155\n",
       " 0.0305964  -0.0262943    1.0         -0.0258967      -0.0433832  -0.01025\n",
       " 0.0331946  -0.0108034   -0.0258967    1.0            -0.0418237  -0.00244765\n",
       " 0.0356887  -0.00298591  -0.0108535   -0.024051       -0.0484142  -0.00689953\n",
       " 0.029788   -0.00567461  -0.00355795  -0.0188083   …  -0.0220023  -0.0348601\n",
       " 0.539006    0.0409099   -0.0433832   -0.0418237       1.0         0.0145918\n",
       " 0.0300952  -0.026155    -0.01025     -0.00244765      0.0145918   1.0"
      ]
     },
     "execution_count": 6,
     "metadata": {},
     "output_type": "execute_result"
    }
   ],
   "source": [
    "cm = X |> Matrix |> cor"
   ]
  },
  {
   "cell_type": "code",
   "execution_count": 7,
   "id": "6c4ecf9c",
   "metadata": {},
   "outputs": [
    {
     "data": {
      "text/plain": [
       "8×8 Matrix{Float64}:\n",
       " 1.0    0.03    0.03    0.03    0.04    0.03    0.5    0.03\n",
       " 0.03   1.0    -0.03   -0.01   -0.003  -0.006   0.04  -0.03\n",
       " 0.03  -0.03    1.0    -0.03   -0.01   -0.004  -0.04  -0.01\n",
       " 0.03  -0.01   -0.03    1.0    -0.02   -0.02   -0.04  -0.002\n",
       " 0.04  -0.003  -0.01   -0.02    1.0    -0.03   -0.05  -0.007\n",
       " 0.03  -0.006  -0.004  -0.02   -0.03    1.0    -0.02  -0.03\n",
       " 0.5    0.04   -0.04   -0.04   -0.05   -0.02    1.0    0.01\n",
       " 0.03  -0.03   -0.01   -0.002  -0.007  -0.03    0.01   1.0"
      ]
     },
     "execution_count": 7,
     "metadata": {},
     "output_type": "execute_result"
    }
   ],
   "source": [
    "round.(cm, sigdigits = 1)"
   ]
  },
  {
   "cell_type": "markdown",
   "id": "71be535f",
   "metadata": {},
   "source": [
    "Let's see what the ```:volume``` feature looks like:"
   ]
  },
  {
   "cell_type": "code",
   "execution_count": 8,
   "id": "bb548adf",
   "metadata": {},
   "outputs": [
    {
     "name": "stderr",
     "output_type": "stream",
     "text": [
      "┌ Warning: `vendor()` is deprecated, use `BLAS.get_config()` and inspect the output instead\n",
      "│   caller = npyinitialize() at numpy.jl:67\n",
      "└ @ PyCall C:\\Users\\jeffr\\.julia\\packages\\PyCall\\L0fLP\\src\\numpy.jl:67\n"
     ]
    },
    {
     "data": {
      "image/png": "[encoded data removed]",
      "text/plain": [
       "Figure(PyObject <Figure size 800x600 with 1 Axes>)"
      ]
     },
     "metadata": {},
     "output_type": "display_data"
    }
   ],
   "source": [
    "using PyPlot\n",
    "figure(figsize=(8,6))\n",
    "plot(X.Volume)\n",
    "xlabel(\"Tick number\", fontsize = 14)\n",
    "ylabel(\"Volume\", fontsize = 14)\n",
    "xticks(fontsize=12)\n",
    "yticks(fontsize=12)\n",
    "savefig(\"./plots/3.3.1.png\")"
   ]
  },
  {
   "cell_type": "markdown",
   "id": "9a90040f",
   "metadata": {},
   "source": [
    "### Logistic Regression"
   ]
  },
  {
   "cell_type": "markdown",
   "id": "b51cb450",
   "metadata": {},
   "source": [
    "We will now try to train models; the target ```:Direction``` has two classes: ```Up``` and ```Down```; it needs to be interpreted as a categorical object, and we will mark it as a ordered factor to specify that 'Up' is positive and 'Down' negative (for the confusion matrix later):"
   ]
  },
  {
   "cell_type": "code",
   "execution_count": 9,
   "id": "1b34c303",
   "metadata": {},
   "outputs": [
    {
     "data": {
      "text/plain": [
       "2-element CategoricalArrays.CategoricalArray{String,1,UInt8}:\n",
       " \"Down\"\n",
       " \"Up\""
      ]
     },
     "execution_count": 9,
     "metadata": {},
     "output_type": "execute_result"
    }
   ],
   "source": [
    "y = coerce(y, OrderedFactor)\n",
    "classes(y[1])"
   ]
  },
  {
   "cell_type": "markdown",
   "id": "f9187066",
   "metadata": {},
   "source": [
    "Note that in this case the default order comes from the lexicographic order which happens to map to our intuition since ```D``` comes before ```U```."
   ]
  },
  {
   "cell_type": "code",
   "execution_count": 10,
   "id": "14b49852",
   "metadata": {},
   "outputs": [
    {
     "data": {
      "image/png": "[encoded data removed]",
      "text/plain": [
       "Figure(PyObject <Figure size 800x600 with 1 Axes>)"
      ]
     },
     "metadata": {},
     "output_type": "display_data"
    }
   ],
   "source": [
    "figure(figsize = (8,6))\n",
    "cm = countmap(y)\n",
    "PyPlot.bar([1, 2], [cm[\"Down\"], cm[\"Up\"]])\n",
    "xticks([1, 2], [\"Down\", \"Up\"], fontsize = 12)\n",
    "yticks(fontsize = 12)\n",
    "ylabel(\"Number of occurences\", fontsize = 14)\n",
    "savefig(\"./plots/3.3.2.png\")"
   ]
  },
  {
   "cell_type": "markdown",
   "id": "970e315a",
   "metadata": {},
   "source": [
    "Seems pretty balanced.\n",
    "\n",
    "Let's now try fitting a simple logistic classifier (aka logistic regression) not using ```:Year``` and ```:Today```:"
   ]
  },
  {
   "cell_type": "code",
   "execution_count": 11,
   "id": "323e60c2",
   "metadata": {},
   "outputs": [
    {
     "name": "stderr",
     "output_type": "stream",
     "text": [
      "┌ Info: For silent loading, specify `verbosity=0`. \n",
      "└ @ Main C:\\Users\\jeffr\\.julia\\packages\\MLJModels\\tMgLW\\src\\loading.jl:168\n"
     ]
    },
    {
     "name": "stdout",
     "output_type": "stream",
     "text": [
      "import MLJLinearModels ✔\n"
     ]
    },
    {
     "data": {
      "text/plain": [
       "Machine{LogisticClassifier,…} trained 0 times; caches data\n",
       "  model: MLJLinearModels.LogisticClassifier\n",
       "  args: \n",
       "    1:\tSource @649 ⏎ `Table{AbstractVector{Continuous}}`\n",
       "    2:\tSource @895 ⏎ `AbstractVector{OrderedFactor{2}}`\n"
      ]
     },
     "execution_count": 11,
     "metadata": {},
     "output_type": "execute_result"
    }
   ],
   "source": [
    "LogisticClassifier = @load LogisticClassifier pkg = MLJLinearModels\n",
    "X2 = select(X, Not([:Year, :Today]))\n",
    "classif = machine(LogisticClassifier(), X2, y)"
   ]
  },
  {
   "cell_type": "markdown",
   "id": "dfaf425e",
   "metadata": {},
   "source": [
    "Let's fit it to the data and try to reproduce the output:"
   ]
  },
  {
   "cell_type": "code",
   "execution_count": 12,
   "id": "6236c14a",
   "metadata": {},
   "outputs": [
    {
     "name": "stderr",
     "output_type": "stream",
     "text": [
      "┌ Info: Training Machine{LogisticClassifier,…}.\n",
      "└ @ MLJBase C:\\Users\\jeffr\\.julia\\packages\\MLJBase\\MuLnJ\\src\\machines.jl:464\n"
     ]
    },
    {
     "data": {
      "text/plain": [
       "3-element CategoricalDistributions.UnivariateFiniteArray{OrderedFactor{2}, String, UInt8, Float64, 1}:\n",
       " UnivariateFinite{OrderedFactor{2}}(Down=>0.482, Up=>0.518)\n",
       " UnivariateFinite{OrderedFactor{2}}(Down=>0.489, Up=>0.511)\n",
       " UnivariateFinite{OrderedFactor{2}}(Down=>0.49, Up=>0.51)"
      ]
     },
     "execution_count": 12,
     "metadata": {},
     "output_type": "execute_result"
    }
   ],
   "source": [
    "fit!(classif)\n",
    "ŷ = MLJ.predict(classif, X2)\n",
    "ŷ[1:3]"
   ]
  },
  {
   "cell_type": "markdown",
   "id": "60fc18ac",
   "metadata": {},
   "source": [
    "Note that here the ŷ are scores. We can recover the average cross-entropy loss:"
   ]
  },
  {
   "cell_type": "code",
   "execution_count": 13,
   "id": "cb1e0d18",
   "metadata": {},
   "outputs": [
    {
     "data": {
      "text/plain": [
       "0.692"
      ]
     },
     "execution_count": 13,
     "metadata": {},
     "output_type": "execute_result"
    }
   ],
   "source": [
    "cross_entropy(ŷ, y) |> mean |> r3"
   ]
  },
  {
   "cell_type": "markdown",
   "id": "5af913a0",
   "metadata": {},
   "source": [
    "in order to recover the class, we could use the mode and compare the misclassification rate:"
   ]
  },
  {
   "cell_type": "code",
   "execution_count": 14,
   "id": "debba866",
   "metadata": {},
   "outputs": [
    {
     "data": {
      "text/plain": [
       "0.482"
      ]
     },
     "execution_count": 14,
     "metadata": {},
     "output_type": "execute_result"
    }
   ],
   "source": [
    "ŷ = predict_mode(classif, X2)\n",
    "misclassification_rate(ŷ, y) |> r3"
   ]
  },
  {
   "cell_type": "markdown",
   "id": "0768e511",
   "metadata": {},
   "source": [
    "Well that's not fantastic...\n",
    "\n",
    "Let's visualise how we're doing building a confusion matrix, first is predicted, second is truth:"
   ]
  },
  {
   "cell_type": "code",
   "execution_count": 15,
   "id": "887f3e7a",
   "metadata": {},
   "outputs": [
    {
     "data": {
      "text/plain": [
       "              ┌───────────────────────────┐\n",
       "              │       Ground Truth        │\n",
       "┌─────────────┼─────────────┬─────────────┤\n",
       "│  Predicted  │    Down     │     Up      │\n",
       "├─────────────┼─────────────┼─────────────┤\n",
       "│    Down     │      4      │      5      │\n",
       "├─────────────┼─────────────┼─────────────┤\n",
       "│     Up      │     598     │     643     │\n",
       "└─────────────┴─────────────┴─────────────┘\n"
      ]
     },
     "execution_count": 15,
     "metadata": {},
     "output_type": "execute_result"
    }
   ],
   "source": [
    "cm = confusion_matrix(ŷ, y)"
   ]
  },
  {
   "cell_type": "markdown",
   "id": "f5e08834",
   "metadata": {},
   "source": [
    "We can then compute the accuracy or precision, etc. easily for instance:"
   ]
  },
  {
   "cell_type": "code",
   "execution_count": 16,
   "id": "486c0373",
   "metadata": {},
   "outputs": [
    {
     "name": "stdout",
     "output_type": "stream",
     "text": [
      "false_positive(cm) = 598\n",
      "accuracy(ŷ, y) |> r3 = 0.518\n",
      "accuracy(cm) |> r3 = 0.518\n"
     ]
    },
    {
     "data": {
      "text/plain": [
       "0.518"
      ]
     },
     "execution_count": 16,
     "metadata": {},
     "output_type": "execute_result"
    }
   ],
   "source": [
    "@show false_positive(cm)\n",
    "@show accuracy(ŷ, y) |> r3\n",
    "@show accuracy(cm) |> r3 # same thing"
   ]
  },
  {
   "cell_type": "code",
   "execution_count": 17,
   "id": "f5acdb41",
   "metadata": {},
   "outputs": [
    {
     "name": "stdout",
     "output_type": "stream",
     "text": [
      "precision(ŷ, y) |> r3 = 0.518\n",
      "recall(ŷ, y) |> r3 = 0.992\n",
      "f1score(ŷ, y) |> r3 = 0.681\n"
     ]
    },
    {
     "data": {
      "text/plain": [
       "0.681"
      ]
     },
     "execution_count": 17,
     "metadata": {},
     "output_type": "execute_result"
    }
   ],
   "source": [
    "@show precision(ŷ, y) |> r3\n",
    "@show recall(ŷ, y) |> r3\n",
    "@show f1score(ŷ, y) |> r3"
   ]
  },
  {
   "cell_type": "markdown",
   "id": "4a59f0c7",
   "metadata": {},
   "source": [
    "Let's now train on the data before 2005 and use it to predict on the rest. Let's find the row indices for which the condition holds"
   ]
  },
  {
   "cell_type": "code",
   "execution_count": 18,
   "id": "88ce0d0a",
   "metadata": {},
   "outputs": [],
   "source": [
    "train = 1:findlast(X.Year .< 2005)\n",
    "test = last(train) + 1:length(y);"
   ]
  },
  {
   "cell_type": "markdown",
   "id": "8508741a",
   "metadata": {},
   "source": [
    "We can now just re-fit the machine that we've already defined just on those rows and predict on the test:"
   ]
  },
  {
   "cell_type": "code",
   "execution_count": 19,
   "id": "1cb901eb",
   "metadata": {},
   "outputs": [
    {
     "name": "stderr",
     "output_type": "stream",
     "text": [
      "┌ Info: Training Machine{LogisticClassifier,…}.\n",
      "└ @ MLJBase C:\\Users\\jeffr\\.julia\\packages\\MLJBase\\MuLnJ\\src\\machines.jl:464\n"
     ]
    },
    {
     "data": {
      "text/plain": [
       "0.563"
      ]
     },
     "execution_count": 19,
     "metadata": {},
     "output_type": "execute_result"
    }
   ],
   "source": [
    "fit!(classif, rows = train)\n",
    "ŷ = predict_mode(classif, rows = test)\n",
    "accuracy(ŷ, y[test]) |> r3"
   ]
  },
  {
   "cell_type": "markdown",
   "id": "c4b98633",
   "metadata": {},
   "source": [
    "Well, that's not very good... Let's retrain a machine using only ```:Lag1``` and ```:Lag2```:"
   ]
  },
  {
   "cell_type": "code",
   "execution_count": 20,
   "id": "3cc6220f",
   "metadata": {},
   "outputs": [
    {
     "name": "stderr",
     "output_type": "stream",
     "text": [
      "┌ Info: Training Machine{LogisticClassifier,…}.\n",
      "└ @ MLJBase C:\\Users\\jeffr\\.julia\\packages\\MLJBase\\MuLnJ\\src\\machines.jl:464\n"
     ]
    },
    {
     "data": {
      "text/plain": [
       "0.56"
      ]
     },
     "execution_count": 20,
     "metadata": {},
     "output_type": "execute_result"
    }
   ],
   "source": [
    "X3 = select(X2, [:Lag1, :Lag2])\n",
    "classif = machine(LogisticClassifier(), X3, y)\n",
    "fit!(classif, rows = train)\n",
    "ŷ = predict_mode(classif, rows = test)\n",
    "accuracy(ŷ, y[test]) |> r3"
   ]
  },
  {
   "cell_type": "markdown",
   "id": "06d95c4f",
   "metadata": {},
   "source": [
    "Interesting... it has higher accuracy than the model with more features! This could be investigated further by increasing the regularisation parameter but we'll leave that aside for now.\n",
    "\n",
    "We can use a trained machine to predict on new data:"
   ]
  },
  {
   "cell_type": "code",
   "execution_count": 21,
   "id": "ca9b8ed9",
   "metadata": {},
   "outputs": [
    {
     "data": {
      "text/plain": [
       "(Lag1 = [1.2, 1.5],\n",
       " Lag2 = [1.1, -0.8],)"
      ]
     },
     "execution_count": 21,
     "metadata": {},
     "output_type": "execute_result"
    }
   ],
   "source": [
    "Xnew = (Lag1 = [1.2, 1.5], Lag2 = [1.1, -0.8])"
   ]
  },
  {
   "cell_type": "code",
   "execution_count": 22,
   "id": "e0471e89",
   "metadata": {},
   "outputs": [
    {
     "name": "stdout",
     "output_type": "stream",
     "text": [
      "UnivariateFinite{OrderedFactor{2}, String, UInt8, Float64}[UnivariateFinite{OrderedFactor{2}}(Down=>0.5, Up=>0.5), UnivariateFinite{OrderedFactor{2}}(Down=>0.495, Up=>0.505)]"
     ]
    }
   ],
   "source": [
    "ŷ = MLJ.predict(classif, Xnew)\n",
    "ŷ |> pprint"
   ]
  },
  {
   "cell_type": "markdown",
   "id": "1c0dfa64",
   "metadata": {},
   "source": [
    "**Note** : when specifying data, we used a simple ```NamedTuple```; we could also have defined a dataframe or any other compatible tabular container. Note also that we retrieved the raw predictions here i.e.: a score for each class; we could have used predict_mode or indeed"
   ]
  },
  {
   "cell_type": "code",
   "execution_count": 23,
   "id": "819bee6a",
   "metadata": {},
   "outputs": [
    {
     "data": {
      "text/plain": [
       "2-element CategoricalArrays.CategoricalArray{String,1,UInt8}:\n",
       " \"Up\"\n",
       " \"Up\""
      ]
     },
     "execution_count": 23,
     "metadata": {},
     "output_type": "execute_result"
    }
   ],
   "source": [
    "mode.(ŷ)"
   ]
  },
  {
   "cell_type": "markdown",
   "id": "05dae0cd",
   "metadata": {},
   "source": [
    "### LDA"
   ]
  },
  {
   "cell_type": "markdown",
   "id": "6f303817",
   "metadata": {},
   "source": [
    "Let's do a similar thing but with a LDA model this time:"
   ]
  },
  {
   "cell_type": "code",
   "execution_count": 24,
   "id": "bb271212",
   "metadata": {},
   "outputs": [
    {
     "name": "stdout",
     "output_type": "stream",
     "text": [
      "import MLJMultivariateStatsInterface"
     ]
    },
    {
     "name": "stderr",
     "output_type": "stream",
     "text": [
      "┌ Info: For silent loading, specify `verbosity=0`. \n",
      "└ @ Main C:\\Users\\jeffr\\.julia\\packages\\MLJModels\\tMgLW\\src\\loading.jl:168\n"
     ]
    },
    {
     "name": "stdout",
     "output_type": "stream",
     "text": [
      " ✔\n"
     ]
    },
    {
     "name": "stderr",
     "output_type": "stream",
     "text": [
      "┌ Info: Training Machine{BayesianLDA,…}.\n",
      "└ @ MLJBase C:\\Users\\jeffr\\.julia\\packages\\MLJBase\\MuLnJ\\src\\machines.jl:464\n"
     ]
    },
    {
     "data": {
      "text/plain": [
       "0.56"
      ]
     },
     "execution_count": 24,
     "metadata": {},
     "output_type": "execute_result"
    }
   ],
   "source": [
    "BayesianLDA = @load BayesianLDA pkg = MultivariateStats\n",
    "\n",
    "classif = machine(BayesianLDA(), X3, y)\n",
    "fit!(classif, rows = train)\n",
    "ŷ = predict_mode(classif, rows = test)\n",
    "\n",
    "accuracy(ŷ, y[test]) |> r3"
   ]
  },
  {
   "cell_type": "markdown",
   "id": "25b34784",
   "metadata": {},
   "source": [
    "Note: ```BayesianLDA``` is LDA using a multivariate normal model for each class with a default prior inferred from the proportions for each class in the training data. You can also use the bare LDA model which does not make these assumptions and allows using a different metric in the transformed space, see the docs for details."
   ]
  },
  {
   "cell_type": "code",
   "execution_count": 25,
   "id": "65279c77",
   "metadata": {},
   "outputs": [
    {
     "name": "stdout",
     "output_type": "stream",
     "text": [
      "import MLJMultivariateStatsInterface ✔\n"
     ]
    },
    {
     "name": "stderr",
     "output_type": "stream",
     "text": [
      "┌ Info: For silent loading, specify `verbosity=0`. \n",
      "└ @ Main C:\\Users\\jeffr\\.julia\\packages\\MLJModels\\tMgLW\\src\\loading.jl:168\n",
      "┌ Info: Training Machine{LDA,…}.\n",
      "└ @ MLJBase C:\\Users\\jeffr\\.julia\\packages\\MLJBase\\MuLnJ\\src\\machines.jl:464\n"
     ]
    },
    {
     "data": {
      "text/plain": [
       "252-element CategoricalArrays.CategoricalArray{String,1,UInt8}:\n",
       " \"Up\"\n",
       " \"Up\"\n",
       " \"Up\"\n",
       " \"Up\"\n",
       " \"Down\"\n",
       " \"Down\"\n",
       " \"Down\"\n",
       " \"Up\"\n",
       " \"Up\"\n",
       " \"Up\"\n",
       " \"Up\"\n",
       " \"Down\"\n",
       " \"Up\"\n",
       " ⋮\n",
       " \"Down\"\n",
       " \"Down\"\n",
       " \"Down\"\n",
       " \"Up\"\n",
       " \"Up\"\n",
       " \"Up\"\n",
       " \"Down\"\n",
       " \"Down\"\n",
       " \"Down\"\n",
       " \"Up\"\n",
       " \"Up\"\n",
       " \"Up\""
      ]
     },
     "execution_count": 25,
     "metadata": {},
     "output_type": "execute_result"
    }
   ],
   "source": [
    "LDA = @load LDA pkg = MultivariateStats\n",
    "using Distances\n",
    "\n",
    "classif = machine(LDA(dist = CosineDist()), X3, y)\n",
    "fit!(classif, rows = train)\n",
    "ŷ = predict_mode(classif, rows = test)"
   ]
  },
  {
   "cell_type": "code",
   "execution_count": 26,
   "id": "1958057d",
   "metadata": {},
   "outputs": [
    {
     "data": {
      "text/plain": [
       "0.548"
      ]
     },
     "execution_count": 26,
     "metadata": {},
     "output_type": "execute_result"
    }
   ],
   "source": [
    "accuracy(ŷ, y[test]) |> r3"
   ]
  },
  {
   "cell_type": "markdown",
   "id": "bfdd47a3",
   "metadata": {},
   "source": [
    "### QDA"
   ]
  },
  {
   "cell_type": "markdown",
   "id": "fa11ea1a",
   "metadata": {},
   "source": [
    "BayesiamQDA is available via Scikit_learn:"
   ]
  },
  {
   "cell_type": "code",
   "execution_count": 27,
   "id": "39e6cc2a",
   "metadata": {},
   "outputs": [
    {
     "name": "stdout",
     "output_type": "stream",
     "text": [
      "import MLJScikitLearnInterface"
     ]
    },
    {
     "name": "stderr",
     "output_type": "stream",
     "text": [
      "┌ Info: For silent loading, specify `verbosity=0`. \n",
      "└ @ Main C:\\Users\\jeffr\\.julia\\packages\\MLJModels\\tMgLW\\src\\loading.jl:168\n"
     ]
    },
    {
     "name": "stdout",
     "output_type": "stream",
     "text": [
      " ✔\n"
     ]
    },
    {
     "data": {
      "text/plain": [
       "MLJScikitLearnInterface.BayesianQDA"
      ]
     },
     "execution_count": 27,
     "metadata": {},
     "output_type": "execute_result"
    }
   ],
   "source": [
    "BayesianQDA = @load BayesianQDA pkg = ScikitLearn"
   ]
  },
  {
   "cell_type": "markdown",
   "id": "d98a5a22",
   "metadata": {},
   "source": [
    "Using it is done in much the same way as before:"
   ]
  },
  {
   "cell_type": "code",
   "execution_count": 28,
   "id": "aaf82bf5",
   "metadata": {},
   "outputs": [
    {
     "name": "stderr",
     "output_type": "stream",
     "text": [
      "┌ Info: Training Machine{BayesianQDA,…}.\n",
      "└ @ MLJBase C:\\Users\\jeffr\\.julia\\packages\\MLJBase\\MuLnJ\\src\\machines.jl:464\n"
     ]
    },
    {
     "data": {
      "text/plain": [
       "0.599"
      ]
     },
     "execution_count": 28,
     "metadata": {},
     "output_type": "execute_result"
    }
   ],
   "source": [
    "classif = machine(BayesianQDA(), X3, y)\n",
    "fit!(classif, rows = train)\n",
    "ŷ = predict_mode(classif,rows = test)\n",
    "\n",
    "accuracy(ŷ, y[test]) |> r3"
   ]
  },
  {
   "cell_type": "markdown",
   "id": "317979bb",
   "metadata": {},
   "source": [
    "### KNN"
   ]
  },
  {
   "cell_type": "markdown",
   "id": "f3936472",
   "metadata": {},
   "source": [
    "We can use K-Nearest Neighbors models via the ```NearestNeighbors``` package:"
   ]
  },
  {
   "cell_type": "code",
   "execution_count": 29,
   "id": "65075d08",
   "metadata": {},
   "outputs": [
    {
     "name": "stdout",
     "output_type": "stream",
     "text": [
      "import NearestNeighborModels"
     ]
    },
    {
     "name": "stderr",
     "output_type": "stream",
     "text": [
      "┌ Info: For silent loading, specify `verbosity=0`. \n",
      "└ @ Main C:\\Users\\jeffr\\.julia\\packages\\MLJModels\\tMgLW\\src\\loading.jl:168\n"
     ]
    },
    {
     "name": "stdout",
     "output_type": "stream",
     "text": [
      " ✔\n"
     ]
    },
    {
     "name": "stderr",
     "output_type": "stream",
     "text": [
      "┌ Info: Training Machine{KNNClassifier,…}.\n",
      "└ @ MLJBase C:\\Users\\jeffr\\.julia\\packages\\MLJBase\\MuLnJ\\src\\machines.jl:464\n"
     ]
    },
    {
     "data": {
      "text/plain": [
       "0.5"
      ]
     },
     "execution_count": 29,
     "metadata": {},
     "output_type": "execute_result"
    }
   ],
   "source": [
    "KNNClassifier = @load KNNClassifier\n",
    "\n",
    "knnc = KNNClassifier(K = 1)\n",
    "classif = machine(knnc, X3, y)\n",
    "fit!(classif, rows = train)\n",
    "ŷ = predict_mode(classif, rows = test)\n",
    "accuracy(ŷ, y[test]) |> r3"
   ]
  },
  {
   "cell_type": "markdown",
   "id": "31d5bcb7",
   "metadata": {},
   "source": [
    "Pretty bad... let's try with three neighbors"
   ]
  },
  {
   "cell_type": "code",
   "execution_count": 30,
   "id": "128264aa",
   "metadata": {},
   "outputs": [
    {
     "name": "stderr",
     "output_type": "stream",
     "text": [
      "┌ Info: Updating Machine{KNNClassifier,…}.\n",
      "└ @ MLJBase C:\\Users\\jeffr\\.julia\\packages\\MLJBase\\MuLnJ\\src\\machines.jl:465\n"
     ]
    },
    {
     "data": {
      "text/plain": [
       "0.532"
      ]
     },
     "execution_count": 30,
     "metadata": {},
     "output_type": "execute_result"
    }
   ],
   "source": [
    "knnc.K = 3\n",
    "fit!(classif, rows = train)\n",
    "ŷ = predict_mode(classif, rows = test)\n",
    "accuracy(ŷ, y[test]) |> r3"
   ]
  },
  {
   "cell_type": "markdown",
   "id": "e9e95a1f",
   "metadata": {},
   "source": [
    "A bit better but not hugely so."
   ]
  },
  {
   "cell_type": "markdown",
   "id": "2afcca03",
   "metadata": {},
   "source": [
    "### Caravan insurance data\n",
    "\n",
    "---"
   ]
  },
  {
   "cell_type": "markdown",
   "id": "7b52f366",
   "metadata": {},
   "source": [
    "The caravan dataset is part of ISLR as well:"
   ]
  },
  {
   "cell_type": "code",
   "execution_count": 31,
   "id": "cf238c11",
   "metadata": {},
   "outputs": [
    {
     "data": {
      "text/plain": [
       "(5822, 86)"
      ]
     },
     "execution_count": 31,
     "metadata": {},
     "output_type": "execute_result"
    }
   ],
   "source": [
    "caravan = dataset(\"ISLR\", \"Caravan\")\n",
    "size(caravan)"
   ]
  },
  {
   "cell_type": "markdown",
   "id": "20936630",
   "metadata": {},
   "source": [
    "The target variable is ```Purchase```, effectively a categorical"
   ]
  },
  {
   "cell_type": "code",
   "execution_count": 32,
   "id": "4e3770ee",
   "metadata": {},
   "outputs": [
    {
     "data": {
      "text/plain": [
       "2-element Vector{String}:\n",
       " \"No\"\n",
       " \"Yes\""
      ]
     },
     "execution_count": 32,
     "metadata": {},
     "output_type": "execute_result"
    }
   ],
   "source": [
    "purchase = caravan.Purchase\n",
    "vals = unique(purchase)"
   ]
  },
  {
   "cell_type": "markdown",
   "id": "2805754d",
   "metadata": {},
   "source": [
    "Let's see how many of each we have"
   ]
  },
  {
   "cell_type": "code",
   "execution_count": 33,
   "id": "c3e03a55",
   "metadata": {
    "scrolled": true
   },
   "outputs": [
    {
     "name": "stdout",
     "output_type": "stream",
     "text": [
      "# No : 5474\n",
      "# Yes : 348\n"
     ]
    }
   ],
   "source": [
    "nl1 = sum(purchase .== vals[1])\n",
    "nl2 = sum(purchase .== vals[2])\n",
    "println(\"# $(vals[1]) : \", nl1)\n",
    "println(\"# $(vals[2]) : \", nl2)"
   ]
  },
  {
   "cell_type": "markdown",
   "id": "64aa21eb",
   "metadata": {},
   "source": [
    "we can also visualise this as was done before:"
   ]
  },
  {
   "cell_type": "code",
   "execution_count": 34,
   "id": "25e37457",
   "metadata": {},
   "outputs": [
    {
     "data": {
      "image/png": "[encoded data removed]",
      "text/plain": [
       "Figure(PyObject <Figure size 800x600 with 1 Axes>)"
      ]
     },
     "metadata": {},
     "output_type": "display_data"
    }
   ],
   "source": [
    "figure(figsize = (8, 6))\n",
    "cm = countmap(purchase)\n",
    "PyPlot.bar([1, 2], [cm[\"No\"], cm[\"Yes\"]])\n",
    "xticks([1, 2], [\"No\", \"Yes\"], fontsize = 12)\n",
    "yticks(fontsize = 12)\n",
    "ylabel(\"Number of occurences\", fontsize = 14)\n",
    "savefig(\"./plots/3.3.3.png\")"
   ]
  },
  {
   "cell_type": "markdown",
   "id": "b237e758",
   "metadata": {},
   "source": [
    "that's quite unbalanced\n",
    "\n",
    "Apart from the target, all other variables are numbers; we can standardize the data:"
   ]
  },
  {
   "cell_type": "code",
   "execution_count": 35,
   "id": "99765ce2",
   "metadata": {},
   "outputs": [
    {
     "data": {
      "text/plain": [
       "Machine{Standardizer,…} trained 0 times; caches data\n",
       "  model: Standardizer\n",
       "  args: \n",
       "    1:\tSource @598 ⏎ `Table{AbstractVector{Continuous}}`\n"
      ]
     },
     "execution_count": 35,
     "metadata": {},
     "output_type": "execute_result"
    }
   ],
   "source": [
    "y, X = unpack(caravan, ==(:Purchase), col -> true)\n",
    "\n",
    "mstd = machine(Standardizer(), X)"
   ]
  },
  {
   "cell_type": "code",
   "execution_count": 36,
   "id": "d51b0c60",
   "metadata": {},
   "outputs": [
    {
     "name": "stderr",
     "output_type": "stream",
     "text": [
      "┌ Info: Training Machine{Standardizer,…}.\n",
      "└ @ MLJBase C:\\Users\\jeffr\\.julia\\packages\\MLJBase\\MuLnJ\\src\\machines.jl:464\n"
     ]
    },
    {
     "data": {
      "text/plain": [
       "Machine{Standardizer,…} trained 1 time; caches data\n",
       "  model: Standardizer\n",
       "  args: \n",
       "    1:\tSource @598 ⏎ `Table{AbstractVector{Continuous}}`\n"
      ]
     },
     "execution_count": 36,
     "metadata": {},
     "output_type": "execute_result"
    }
   ],
   "source": [
    "fit!(mstd)"
   ]
  },
  {
   "cell_type": "code",
   "execution_count": 37,
   "id": "a001dbe3",
   "metadata": {},
   "outputs": [
    {
     "data": {
      "text/html": [
       "<div class=\"data-frame\"><p>5,822 rows × 85 columns (omitted printing of 77 columns)</p><table class=\"data-frame\"><thead><tr><th></th><th>MOSTYPE</th><th>MAANTHUI</th><th>MGEMOMV</th><th>MGEMLEEF</th><th>MOSHOOFD</th><th>MGODRK</th><th>MGODPR</th><th>MGODOV</th></tr><tr><th></th><th title=\"Float64\">Float64</th><th title=\"Float64\">Float64</th><th title=\"Float64\">Float64</th><th title=\"Float64\">Float64</th><th title=\"Float64\">Float64</th><th title=\"Float64\">Float64</th><th title=\"Float64\">Float64</th><th title=\"Float64\">Float64</th></tr></thead><tbody><tr><th>1</th><td>0.680848</td><td>-0.272557</td><td>0.406662</td><td>-1.21686</td><td>0.779338</td><td>-0.694251</td><td>0.217425</td><td>-0.0687047</td></tr><tr><th>2</th><td>0.992212</td><td>-0.272557</td><td>-0.859426</td><td>-1.21686</td><td>0.779338</td><td>0.302526</td><td>-0.365379</td><td>-0.0687047</td></tr><tr><th>3</th><td>0.992212</td><td>-0.272557</td><td>-0.859426</td><td>-1.21686</td><td>0.779338</td><td>-0.694251</td><td>-0.365379</td><td>0.914094</td></tr><tr><th>4</th><td>-1.18734</td><td>-0.272557</td><td>0.406662</td><td>0.0107537</td><td>-0.970896</td><td>1.2993</td><td>-0.948183</td><td>0.914094</td></tr><tr><th>5</th><td>1.22573</td><td>-0.272557</td><td>1.67275</td><td>-1.21686</td><td>1.47943</td><td>0.302526</td><td>-0.365379</td><td>-0.0687047</td></tr><tr><th>6</th><td>-0.0975619</td><td>-0.272557</td><td>-0.859426</td><td>-2.44447</td><td>-0.270802</td><td>-0.694251</td><td>0.217425</td><td>-1.0515</td></tr><tr><th>7</th><td>1.14789</td><td>2.19146</td><td>0.406662</td><td>-1.21686</td><td>1.12939</td><td>1.2993</td><td>-1.53099</td><td>-1.0515</td></tr><tr><th>8</th><td>0.680848</td><td>-0.272557</td><td>-0.859426</td><td>0.0107537</td><td>0.779338</td><td>-0.694251</td><td>1.38303</td><td>-1.0515</td></tr><tr><th>9</th><td>0.680848</td><td>-0.272557</td><td>-0.859426</td><td>1.23837</td><td>0.779338</td><td>-0.694251</td><td>-2.11379</td><td>1.89689</td></tr><tr><th>10</th><td>-1.03165</td><td>2.19146</td><td>0.406662</td><td>0.0107537</td><td>-0.970896</td><td>2.29608</td><td>0.217425</td><td>-1.0515</td></tr><tr><th>11</th><td>-1.10949</td><td>-0.272557</td><td>1.67275</td><td>0.0107537</td><td>-0.970896</td><td>0.302526</td><td>-0.365379</td><td>-0.0687047</td></tr><tr><th>12</th><td>-1.18734</td><td>-0.272557</td><td>0.406662</td><td>0.0107537</td><td>-0.970896</td><td>0.302526</td><td>-0.948183</td><td>0.914094</td></tr><tr><th>13</th><td>0.680848</td><td>-0.272557</td><td>-0.859426</td><td>0.0107537</td><td>0.779338</td><td>0.302526</td><td>-0.365379</td><td>-0.0687047</td></tr><tr><th>14</th><td>1.30358</td><td>-0.272557</td><td>0.406662</td><td>0.0107537</td><td>1.47943</td><td>-0.694251</td><td>0.217425</td><td>-1.0515</td></tr><tr><th>15</th><td>-0.0975619</td><td>-0.272557</td><td>-2.12551</td><td>-1.21686</td><td>-0.270802</td><td>-0.694251</td><td>0.800229</td><td>-0.0687047</td></tr><tr><th>16</th><td>0.680848</td><td>-0.272557</td><td>-0.859426</td><td>0.0107537</td><td>0.779338</td><td>-0.694251</td><td>1.38303</td><td>-1.0515</td></tr><tr><th>17</th><td>1.07005</td><td>-0.272557</td><td>-0.859426</td><td>0.0107537</td><td>1.12939</td><td>-0.694251</td><td>0.800229</td><td>-1.0515</td></tr><tr><th>18</th><td>-0.175403</td><td>2.19146</td><td>0.406662</td><td>0.0107537</td><td>-0.270802</td><td>-0.694251</td><td>0.217425</td><td>-1.0515</td></tr><tr><th>19</th><td>-0.875972</td><td>-0.272557</td><td>1.67275</td><td>-1.21686</td><td>-0.970896</td><td>1.2993</td><td>-0.365379</td><td>-1.0515</td></tr><tr><th>20</th><td>0.525166</td><td>-0.272557</td><td>-0.859426</td><td>1.23837</td><td>0.429291</td><td>-0.694251</td><td>-1.53099</td><td>-1.0515</td></tr><tr><th>21</th><td>0.680848</td><td>-0.272557</td><td>1.67275</td><td>0.0107537</td><td>0.779338</td><td>-0.694251</td><td>0.800229</td><td>-1.0515</td></tr><tr><th>22</th><td>0.680848</td><td>2.19146</td><td>0.406662</td><td>0.0107537</td><td>0.779338</td><td>-0.694251</td><td>-0.365379</td><td>0.914094</td></tr><tr><th>23</th><td>-0.875972</td><td>-0.272557</td><td>0.406662</td><td>-1.21686</td><td>-0.970896</td><td>0.302526</td><td>1.38303</td><td>-1.0515</td></tr><tr><th>24</th><td>0.758689</td><td>2.19146</td><td>0.406662</td><td>-1.21686</td><td>0.779338</td><td>-0.694251</td><td>1.38303</td><td>-1.0515</td></tr><tr><th>25</th><td>-0.875972</td><td>2.19146</td><td>1.67275</td><td>0.0107537</td><td>-0.970896</td><td>-0.694251</td><td>-0.365379</td><td>0.914094</td></tr><tr><th>26</th><td>0.680848</td><td>-0.272557</td><td>0.406662</td><td>0.0107537</td><td>0.779338</td><td>-0.694251</td><td>0.800229</td><td>-0.0687047</td></tr><tr><th>27</th><td>0.992212</td><td>-0.272557</td><td>0.406662</td><td>0.0107537</td><td>0.779338</td><td>-0.694251</td><td>0.217425</td><td>-1.0515</td></tr><tr><th>28</th><td>1.22573</td><td>-0.272557</td><td>0.406662</td><td>0.0107537</td><td>1.47943</td><td>-0.694251</td><td>-0.948183</td><td>-1.0515</td></tr><tr><th>29</th><td>0.525166</td><td>-0.272557</td><td>1.67275</td><td>-1.21686</td><td>0.429291</td><td>-0.694251</td><td>2.54864</td><td>-1.0515</td></tr><tr><th>30</th><td>0.680848</td><td>2.19146</td><td>-0.859426</td><td>0.0107537</td><td>0.779338</td><td>-0.694251</td><td>1.38303</td><td>-0.0687047</td></tr><tr><th>&vellip;</th><td>&vellip;</td><td>&vellip;</td><td>&vellip;</td><td>&vellip;</td><td>&vellip;</td><td>&vellip;</td><td>&vellip;</td><td>&vellip;</td></tr></tbody></table></div>"
      ],
      "text/latex": [
       "\\begin{tabular}{r|ccccccccc}\n",
       "\t& MOSTYPE & MAANTHUI & MGEMOMV & MGEMLEEF & MOSHOOFD & MGODRK & MGODPR & MGODOV & \\\\\n",
       "\t\\hline\n",
       "\t& Float64 & Float64 & Float64 & Float64 & Float64 & Float64 & Float64 & Float64 & \\\\\n",
       "\t\\hline\n",
       "\t1 & 0.680848 & -0.272557 & 0.406662 & -1.21686 & 0.779338 & -0.694251 & 0.217425 & -0.0687047 & $\\dots$ \\\\\n",
       "\t2 & 0.992212 & -0.272557 & -0.859426 & -1.21686 & 0.779338 & 0.302526 & -0.365379 & -0.0687047 & $\\dots$ \\\\\n",
       "\t3 & 0.992212 & -0.272557 & -0.859426 & -1.21686 & 0.779338 & -0.694251 & -0.365379 & 0.914094 & $\\dots$ \\\\\n",
       "\t4 & -1.18734 & -0.272557 & 0.406662 & 0.0107537 & -0.970896 & 1.2993 & -0.948183 & 0.914094 & $\\dots$ \\\\\n",
       "\t5 & 1.22573 & -0.272557 & 1.67275 & -1.21686 & 1.47943 & 0.302526 & -0.365379 & -0.0687047 & $\\dots$ \\\\\n",
       "\t6 & -0.0975619 & -0.272557 & -0.859426 & -2.44447 & -0.270802 & -0.694251 & 0.217425 & -1.0515 & $\\dots$ \\\\\n",
       "\t7 & 1.14789 & 2.19146 & 0.406662 & -1.21686 & 1.12939 & 1.2993 & -1.53099 & -1.0515 & $\\dots$ \\\\\n",
       "\t8 & 0.680848 & -0.272557 & -0.859426 & 0.0107537 & 0.779338 & -0.694251 & 1.38303 & -1.0515 & $\\dots$ \\\\\n",
       "\t9 & 0.680848 & -0.272557 & -0.859426 & 1.23837 & 0.779338 & -0.694251 & -2.11379 & 1.89689 & $\\dots$ \\\\\n",
       "\t10 & -1.03165 & 2.19146 & 0.406662 & 0.0107537 & -0.970896 & 2.29608 & 0.217425 & -1.0515 & $\\dots$ \\\\\n",
       "\t11 & -1.10949 & -0.272557 & 1.67275 & 0.0107537 & -0.970896 & 0.302526 & -0.365379 & -0.0687047 & $\\dots$ \\\\\n",
       "\t12 & -1.18734 & -0.272557 & 0.406662 & 0.0107537 & -0.970896 & 0.302526 & -0.948183 & 0.914094 & $\\dots$ \\\\\n",
       "\t13 & 0.680848 & -0.272557 & -0.859426 & 0.0107537 & 0.779338 & 0.302526 & -0.365379 & -0.0687047 & $\\dots$ \\\\\n",
       "\t14 & 1.30358 & -0.272557 & 0.406662 & 0.0107537 & 1.47943 & -0.694251 & 0.217425 & -1.0515 & $\\dots$ \\\\\n",
       "\t15 & -0.0975619 & -0.272557 & -2.12551 & -1.21686 & -0.270802 & -0.694251 & 0.800229 & -0.0687047 & $\\dots$ \\\\\n",
       "\t16 & 0.680848 & -0.272557 & -0.859426 & 0.0107537 & 0.779338 & -0.694251 & 1.38303 & -1.0515 & $\\dots$ \\\\\n",
       "\t17 & 1.07005 & -0.272557 & -0.859426 & 0.0107537 & 1.12939 & -0.694251 & 0.800229 & -1.0515 & $\\dots$ \\\\\n",
       "\t18 & -0.175403 & 2.19146 & 0.406662 & 0.0107537 & -0.270802 & -0.694251 & 0.217425 & -1.0515 & $\\dots$ \\\\\n",
       "\t19 & -0.875972 & -0.272557 & 1.67275 & -1.21686 & -0.970896 & 1.2993 & -0.365379 & -1.0515 & $\\dots$ \\\\\n",
       "\t20 & 0.525166 & -0.272557 & -0.859426 & 1.23837 & 0.429291 & -0.694251 & -1.53099 & -1.0515 & $\\dots$ \\\\\n",
       "\t21 & 0.680848 & -0.272557 & 1.67275 & 0.0107537 & 0.779338 & -0.694251 & 0.800229 & -1.0515 & $\\dots$ \\\\\n",
       "\t22 & 0.680848 & 2.19146 & 0.406662 & 0.0107537 & 0.779338 & -0.694251 & -0.365379 & 0.914094 & $\\dots$ \\\\\n",
       "\t23 & -0.875972 & -0.272557 & 0.406662 & -1.21686 & -0.970896 & 0.302526 & 1.38303 & -1.0515 & $\\dots$ \\\\\n",
       "\t24 & 0.758689 & 2.19146 & 0.406662 & -1.21686 & 0.779338 & -0.694251 & 1.38303 & -1.0515 & $\\dots$ \\\\\n",
       "\t25 & -0.875972 & 2.19146 & 1.67275 & 0.0107537 & -0.970896 & -0.694251 & -0.365379 & 0.914094 & $\\dots$ \\\\\n",
       "\t26 & 0.680848 & -0.272557 & 0.406662 & 0.0107537 & 0.779338 & -0.694251 & 0.800229 & -0.0687047 & $\\dots$ \\\\\n",
       "\t27 & 0.992212 & -0.272557 & 0.406662 & 0.0107537 & 0.779338 & -0.694251 & 0.217425 & -1.0515 & $\\dots$ \\\\\n",
       "\t28 & 1.22573 & -0.272557 & 0.406662 & 0.0107537 & 1.47943 & -0.694251 & -0.948183 & -1.0515 & $\\dots$ \\\\\n",
       "\t29 & 0.525166 & -0.272557 & 1.67275 & -1.21686 & 0.429291 & -0.694251 & 2.54864 & -1.0515 & $\\dots$ \\\\\n",
       "\t30 & 0.680848 & 2.19146 & -0.859426 & 0.0107537 & 0.779338 & -0.694251 & 1.38303 & -0.0687047 & $\\dots$ \\\\\n",
       "\t$\\dots$ & $\\dots$ & $\\dots$ & $\\dots$ & $\\dots$ & $\\dots$ & $\\dots$ & $\\dots$ & $\\dots$ &  \\\\\n",
       "\\end{tabular}\n"
      ],
      "text/plain": [
       "\u001b[1m5822×85 DataFrame\u001b[0m\n",
       "\u001b[1m  Row \u001b[0m│\u001b[1m MOSTYPE    \u001b[0m\u001b[1m MAANTHUI  \u001b[0m\u001b[1m MGEMOMV   \u001b[0m\u001b[1m MGEMLEEF   \u001b[0m\u001b[1m MOSHOOFD  \u001b[0m\u001b[1m MGODRK    \u001b[0m\u001b[1m MG\u001b[0m ⋯\n",
       "\u001b[1m      \u001b[0m│\u001b[90m Float64    \u001b[0m\u001b[90m Float64   \u001b[0m\u001b[90m Float64   \u001b[0m\u001b[90m Float64    \u001b[0m\u001b[90m Float64   \u001b[0m\u001b[90m Float64   \u001b[0m\u001b[90m Fl\u001b[0m ⋯\n",
       "──────┼─────────────────────────────────────────────────────────────────────────\n",
       "    1 │  0.680848   -0.272557   0.406662  -1.21686     0.779338  -0.694251   0 ⋯\n",
       "    2 │  0.992212   -0.272557  -0.859426  -1.21686     0.779338   0.302526  -0\n",
       "    3 │  0.992212   -0.272557  -0.859426  -1.21686     0.779338  -0.694251  -0\n",
       "    4 │ -1.18734    -0.272557   0.406662   0.0107537  -0.970896   1.2993    -0\n",
       "    5 │  1.22573    -0.272557   1.67275   -1.21686     1.47943    0.302526  -0 ⋯\n",
       "    6 │ -0.0975619  -0.272557  -0.859426  -2.44447    -0.270802  -0.694251   0\n",
       "    7 │  1.14789     2.19146    0.406662  -1.21686     1.12939    1.2993    -1\n",
       "    8 │  0.680848   -0.272557  -0.859426   0.0107537   0.779338  -0.694251   1\n",
       "    9 │  0.680848   -0.272557  -0.859426   1.23837     0.779338  -0.694251  -2 ⋯\n",
       "   10 │ -1.03165     2.19146    0.406662   0.0107537  -0.970896   2.29608    0\n",
       "   11 │ -1.10949    -0.272557   1.67275    0.0107537  -0.970896   0.302526  -0\n",
       "  ⋮   │     ⋮           ⋮          ⋮          ⋮           ⋮          ⋮         ⋱\n",
       " 5813 │  1.22573    -0.272557   0.406662   1.23837     1.47943   -0.694251   1\n",
       " 5814 │ -1.65438    -0.272557  -0.859426   1.23837    -1.67099    0.302526   0 ⋯\n",
       " 5815 │ -1.81006    -0.272557   0.406662   0.0107537  -1.67099    0.302526  -0\n",
       " 5816 │ -0.875972   -0.272557  -0.859426   0.0107537  -0.970896  -0.694251  -1\n",
       " 5817 │ -1.65438    -0.272557  -0.859426   0.0107537  -1.67099   -0.694251   0\n",
       " 5818 │  0.914371   -0.272557  -2.12551   -1.21686     0.779338  -0.694251   0 ⋯\n",
       " 5819 │  0.83653    -0.272557   1.67275    1.23837     0.779338   0.302526  -0\n",
       " 5820 │  0.680848   -0.272557   0.406662   1.23837     0.779338  -0.694251   0\n",
       " 5821 │  0.758689   -0.272557   0.406662  -1.21686     0.779338  -0.694251   1\n",
       " 5822 │  0.680848   -0.272557   0.406662   0.0107537   0.779338  -0.694251   0 ⋯\n",
       "\u001b[36m                                                79 columns and 5801 rows omitted\u001b[0m"
      ]
     },
     "execution_count": 37,
     "metadata": {},
     "output_type": "execute_result"
    }
   ],
   "source": [
    "Xs = MLJ.transform(mstd, X)"
   ]
  },
  {
   "cell_type": "code",
   "execution_count": 38,
   "id": "fa6a600d",
   "metadata": {},
   "outputs": [
    {
     "data": {
      "text/plain": [
       "1.0"
      ]
     },
     "execution_count": 38,
     "metadata": {},
     "output_type": "execute_result"
    }
   ],
   "source": [
    "var(Xs[:, 1]) |> r3"
   ]
  },
  {
   "cell_type": "markdown",
   "id": "2d5e0cd2",
   "metadata": {},
   "source": [
    "**Note**: in MLJ, it is recommended to work with pipelines / networks when possible and not do \"step-by-step\" transformation and fitting of the data as this is more error prone. We do it here to stick to the ISL tutorial.\n",
    "\n",
    "We split the data in the first 1000 rows for testing and the rest for training:"
   ]
  },
  {
   "cell_type": "code",
   "execution_count": 39,
   "id": "edffc4c3",
   "metadata": {},
   "outputs": [],
   "source": [
    "test = 1:1000\n",
    "train = last(test) + 1:nrows(Xs);"
   ]
  },
  {
   "cell_type": "markdown",
   "id": "94802206",
   "metadata": {},
   "source": [
    "Let's now fit a KNN model and check the misclassification rate"
   ]
  },
  {
   "cell_type": "code",
   "execution_count": 40,
   "id": "2730bc16",
   "metadata": {},
   "outputs": [
    {
     "name": "stderr",
     "output_type": "stream",
     "text": [
      "┌ Info: Training Machine{KNNClassifier,…}.\n",
      "└ @ MLJBase C:\\Users\\jeffr\\.julia\\packages\\MLJBase\\MuLnJ\\src\\machines.jl:464\n"
     ]
    },
    {
     "data": {
      "text/plain": [
       "0.925"
      ]
     },
     "execution_count": 40,
     "metadata": {},
     "output_type": "execute_result"
    }
   ],
   "source": [
    "classif = machine(KNNClassifier(K = 3), Xs, y)\n",
    "fit!(classif, rows = train)\n",
    "ŷ = predict_mode(classif, rows = test)\n",
    "\n",
    "accuracy(ŷ, y[test]) |> r3"
   ]
  },
  {
   "cell_type": "markdown",
   "id": "d9fb5454",
   "metadata": {},
   "source": [
    "that looks good but recall the problem is very unbalanced"
   ]
  },
  {
   "cell_type": "code",
   "execution_count": 41,
   "id": "1a747076",
   "metadata": {},
   "outputs": [
    {
     "data": {
      "text/plain": [
       "0.059"
      ]
     },
     "execution_count": 41,
     "metadata": {},
     "output_type": "execute_result"
    }
   ],
   "source": [
    "mean(y[test] .!= \"No\") |> r3"
   ]
  },
  {
   "cell_type": "markdown",
   "id": "a5e478ff",
   "metadata": {},
   "source": [
    "Let's fit a logistic classifier to this problem"
   ]
  },
  {
   "cell_type": "code",
   "execution_count": 42,
   "id": "19eeecbd",
   "metadata": {},
   "outputs": [
    {
     "name": "stderr",
     "output_type": "stream",
     "text": [
      "┌ Info: Training Machine{LogisticClassifier,…}.\n",
      "└ @ MLJBase C:\\Users\\jeffr\\.julia\\packages\\MLJBase\\MuLnJ\\src\\machines.jl:464\n"
     ]
    },
    {
     "data": {
      "text/plain": [
       "0.941"
      ]
     },
     "execution_count": 42,
     "metadata": {},
     "output_type": "execute_result"
    }
   ],
   "source": [
    "classif = machine(LogisticClassifier(), Xs, y)\n",
    "fit!(classif, rows = train)\n",
    "ŷ = predict_mode(classif, rows = test)\n",
    "\n",
    "accuracy(ŷ, y[test]) |> r3"
   ]
  },
  {
   "cell_type": "markdown",
   "id": "78b42bee",
   "metadata": {},
   "source": [
    "### ROC and AUC"
   ]
  },
  {
   "cell_type": "markdown",
   "id": "9345263b",
   "metadata": {},
   "source": [
    "Since we have a probabilistic classifier, we can also check metrics that take scores into account such as the area under the ROC curve (AUC):"
   ]
  },
  {
   "cell_type": "code",
   "execution_count": 43,
   "id": "088af283",
   "metadata": {},
   "outputs": [
    {
     "data": {
      "text/plain": [
       "1000-element CategoricalDistributions.UnivariateFiniteArray{Multiclass{2}, String, UInt8, Float64, 1}:\n",
       " UnivariateFinite{Multiclass{2}}(No=>0.938, Yes=>0.0615)\n",
       " UnivariateFinite{Multiclass{2}}(No=>0.938, Yes=>0.0617)\n",
       " UnivariateFinite{Multiclass{2}}(No=>0.942, Yes=>0.0576)\n",
       " UnivariateFinite{Multiclass{2}}(No=>0.933, Yes=>0.0672)\n",
       " UnivariateFinite{Multiclass{2}}(No=>0.935, Yes=>0.0652)\n",
       " UnivariateFinite{Multiclass{2}}(No=>0.952, Yes=>0.0478)\n",
       " UnivariateFinite{Multiclass{2}}(No=>0.947, Yes=>0.0533)\n",
       " UnivariateFinite{Multiclass{2}}(No=>0.952, Yes=>0.0478)\n",
       " UnivariateFinite{Multiclass{2}}(No=>0.955, Yes=>0.0455)\n",
       " UnivariateFinite{Multiclass{2}}(No=>0.937, Yes=>0.0633)\n",
       " UnivariateFinite{Multiclass{2}}(No=>0.925, Yes=>0.0754)\n",
       " UnivariateFinite{Multiclass{2}}(No=>0.928, Yes=>0.0721)\n",
       " UnivariateFinite{Multiclass{2}}(No=>0.946, Yes=>0.0536)\n",
       " ⋮\n",
       " UnivariateFinite{Multiclass{2}}(No=>0.949, Yes=>0.0513)\n",
       " UnivariateFinite{Multiclass{2}}(No=>0.944, Yes=>0.056)\n",
       " UnivariateFinite{Multiclass{2}}(No=>0.959, Yes=>0.0407)\n",
       " UnivariateFinite{Multiclass{2}}(No=>0.938, Yes=>0.0623)\n",
       " UnivariateFinite{Multiclass{2}}(No=>0.952, Yes=>0.0479)\n",
       " UnivariateFinite{Multiclass{2}}(No=>0.944, Yes=>0.056)\n",
       " UnivariateFinite{Multiclass{2}}(No=>0.951, Yes=>0.0493)\n",
       " UnivariateFinite{Multiclass{2}}(No=>0.931, Yes=>0.0687)\n",
       " UnivariateFinite{Multiclass{2}}(No=>0.91, Yes=>0.0902)\n",
       " UnivariateFinite{Multiclass{2}}(No=>0.944, Yes=>0.0564)\n",
       " UnivariateFinite{Multiclass{2}}(No=>0.933, Yes=>0.0672)\n",
       " UnivariateFinite{Multiclass{2}}(No=>0.949, Yes=>0.051)"
      ]
     },
     "execution_count": 43,
     "metadata": {},
     "output_type": "execute_result"
    }
   ],
   "source": [
    "ŷ = MLJ.predict(classif, rows = test)"
   ]
  },
  {
   "cell_type": "code",
   "execution_count": 44,
   "id": "c49cfd3d",
   "metadata": {},
   "outputs": [
    {
     "data": {
      "text/plain": [
       "0.7284713341378627"
      ]
     },
     "execution_count": 44,
     "metadata": {},
     "output_type": "execute_result"
    }
   ],
   "source": [
    "auc(ŷ, y[test])"
   ]
  },
  {
   "cell_type": "markdown",
   "id": "8d65bcca",
   "metadata": {},
   "source": [
    "We can also display the curve itself"
   ]
  },
  {
   "cell_type": "code",
   "execution_count": 45,
   "id": "479d7369",
   "metadata": {},
   "outputs": [
    {
     "data": {
      "image/png": "[encoded data removed]",
      "text/plain": [
       "Figure(PyObject <Figure size 800x600 with 1 Axes>)"
      ]
     },
     "metadata": {},
     "output_type": "display_data"
    }
   ],
   "source": [
    "fprs, tprs, thresholds = roc(ŷ, y[test])\n",
    "\n",
    "figure(figsize = (8, 6))\n",
    "plot(fprs, tprs)\n",
    "\n",
    "xlabel(\"False Positive Rate\", fontsize = 14)\n",
    "ylabel(\"True Positive Rate\", fontsize = 14)\n",
    "xticks(fontsize = 12)\n",
    "yticks(fontsize = 12)\n",
    "savefig(\"./plots/3.3.4.png\")"
   ]
  }
 ],
 "metadata": {
  "hide_input": false,
  "kernelspec": {
   "display_name": "Julia 1.7.3",
   "language": "julia",
   "name": "julia-1.7"
  },
  "language_info": {
   "file_extension": ".jl",
   "mimetype": "application/julia",
   "name": "julia",
   "version": "1.7.3"
  }
 },
 "nbformat": 4,
 "nbformat_minor": 5
}
