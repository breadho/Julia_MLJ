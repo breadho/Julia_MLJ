{
 "cells": [
  {
   "cell_type": "markdown",
   "id": "a9e5327a",
   "metadata": {},
   "source": [
    "# End to end examples"
   ]
  },
  {
   "cell_type": "markdown",
   "id": "530f46af",
   "metadata": {},
   "source": [
    "## Breast Cancer Wisconsin(Diagnostic)"
   ]
  },
  {
   "cell_type": "code",
   "execution_count": 1,
   "id": "3c06bb97",
   "metadata": {},
   "outputs": [
    {
     "name": "stderr",
     "output_type": "stream",
     "text": [
      "\u001b[32m\u001b[1m  Activating\u001b[22m\u001b[39m project at `D:\\JULIA\\6_ML_with_Julia\\EX-breastcancer`\n"
     ]
    }
   ],
   "source": [
    "using Pkg; Pkg.activate(\"D:/JULIA/6_ML_with_Julia/EX-breastcancer\"); Pkg.instantiate()"
   ]
  },
  {
   "cell_type": "markdown",
   "id": "1a554058",
   "metadata": {},
   "source": [
    "> Introduction <br>\n",
    "> Loading the relevant packages <br>\n",
    "> Downloading and loading the data <br>\n",
    "> Exploring the obtained data <br>\n",
    "> 1. Inspecting the class variable <br>\n",
    "> 2. Inspecting the feature set <br>\n",
    "\n",
    "> Unpacking the values <br>\n",
    "> Standardizing the \"feature set\" <br>\n",
    "> Train-test split <br>\n",
    "> Model compatibility <br>\n",
    "> Analyzing the performance of different models <br>\n",
    "> 1. Creating various empty vectors for our analysis <br>\n",
    "> 2. Collecting data for analysis <br>\n",
    "> 3. Analyzing models <br>"
   ]
  },
  {
   "cell_type": "markdown",
   "id": "6284d6be",
   "metadata": {},
   "source": [
    "### Introduction\n",
    "\n",
    "---"
   ]
  },
  {
   "cell_type": "markdown",
   "id": "614ae651",
   "metadata": {},
   "source": [
    "This tutorial covers the concepts of iterative model selection on the popular \"Breast Cancer Wisconsin (Diagnostic) Data Set\" from the UCI archives. The tutorial also covers basic data preprocessing and usage of MLJ Scientific Types."
   ]
  },
  {
   "cell_type": "markdown",
   "id": "de8cfa03",
   "metadata": {},
   "source": [
    "### Loading the relevant packages\n",
    "---"
   ]
  },
  {
   "cell_type": "markdown",
   "id": "f1c117b3",
   "metadata": {},
   "source": [
    "For a guide to package installation in Julia please refer this link taken directly from Julia documentation"
   ]
  },
  {
   "cell_type": "code",
   "execution_count": 2,
   "id": "4b92e75a",
   "metadata": {},
   "outputs": [],
   "source": [
    "using UrlDownload\n",
    "using DataFrames\n",
    "using PrettyPrinting\n",
    "using PyPlot\n",
    "using MLJ"
   ]
  },
  {
   "cell_type": "markdown",
   "id": "2a50f395",
   "metadata": {},
   "source": [
    "Initializing a global random seed which we'll use throughout the code to maintain consistency in results"
   ]
  },
  {
   "cell_type": "code",
   "execution_count": 3,
   "id": "4ec2d3bf",
   "metadata": {},
   "outputs": [],
   "source": [
    "RANDOM_SEED = 42;"
   ]
  },
  {
   "cell_type": "markdown",
   "id": "4fd8f52f",
   "metadata": {},
   "source": [
    "### Downloading and loading the data\n",
    "\n",
    "---"
   ]
  },
  {
   "cell_type": "markdown",
   "id": "efb19077",
   "metadata": {},
   "source": [
    "Using the package UrlDownload.jl, we can capture the data from the given link using the below commands"
   ]
  },
  {
   "cell_type": "code",
   "execution_count": 4,
   "id": "d562b10c",
   "metadata": {},
   "outputs": [],
   "source": [
    "url = \"https://archive.ics.uci.edu/ml/machine-learning-databases/breast-cancer-wisconsin/wdbc.data\";\n",
    "\n",
    "feature_names = [\"ID\", \n",
    "                 \"Class\", \n",
    "                 \"mean radius\", \n",
    "                 \"mean texture\", \n",
    "                 \"mean perimeter\", \n",
    "                 \"mean area\", \n",
    "                 \"mean smoothness\", \n",
    "                 \"mean compactness\", \n",
    "                 \"mean concavity\",\n",
    "                 \"mean concave points\", \n",
    "                 \"mean symmetry\", \n",
    "                 \"mean fractal dimension\", \n",
    "                 \"radius error\", \n",
    "                 \"texture error\", \n",
    "                 \"perimeter error\", \n",
    "                 \"area error\", \n",
    "                 \"smoothness error\", \n",
    "                 \"compactness error\", \n",
    "                 \"concavity error\", \n",
    "                 \"concave points error\", \n",
    "                 \"symmetry error\", \n",
    "                 \"fractal dimension error\", \n",
    "                 \"worst radius\", \n",
    "                 \"worst texture\", \n",
    "                 \"worst perimeter\", \n",
    "                 \"worst area\", \n",
    "                 \"worst smoothness\", \n",
    "                 \"worst compactness\", \n",
    "                 \"worst concavity\", \n",
    "                 \"worst concave points\", \n",
    "                 \"worst symmetry\", \n",
    "                 \"worst fractal dimension\"]\n",
    "\n",
    "data = urldownload(url, true, format = :CSV, header = feature_names);"
   ]
  },
  {
   "cell_type": "markdown",
   "id": "0d61fb64",
   "metadata": {},
   "source": [
    "### Exploring the obtained data\n",
    "\n",
    "---"
   ]
  },
  {
   "cell_type": "markdown",
   "id": "b7f2a4bb",
   "metadata": {},
   "source": [
    "### Inspecting the class variable"
   ]
  },
  {
   "cell_type": "code",
   "execution_count": 7,
   "id": "6f26208a",
   "metadata": {},
   "outputs": [
    {
     "data": {
      "image/png": "[encoded data removed]",
      "text/plain": [
       "Figure(PyObject <Figure size 800x600 with 1 Axes>)"
      ]
     },
     "metadata": {},
     "output_type": "display_data"
    }
   ],
   "source": [
    "figure(figsize = (8, 6))\n",
    "hist(data.Class)\n",
    "xlabel(\"Classes\")\n",
    "ylabel(\"Number of samples\")\n",
    "\n",
    "savefig(\"./plots/4.12.1.png\")"
   ]
  },
  {
   "cell_type": "markdown",
   "id": "07e6ed20",
   "metadata": {},
   "source": [
    "### Inspecting the feature set"
   ]
  },
  {
   "cell_type": "code",
   "execution_count": 8,
   "id": "8630c522",
   "metadata": {},
   "outputs": [],
   "source": [
    "df = DataFrame(data)[:, 2:end];"
   ]
  },
  {
   "cell_type": "markdown",
   "id": "2c6d4aed",
   "metadata": {},
   "source": [
    "Printing the 1st 10 rows so as to get a visual idea about the type of data we're dealing with"
   ]
  },
  {
   "cell_type": "code",
   "execution_count": 10,
   "id": "a8dbbedf",
   "metadata": {},
   "outputs": [
    {
     "name": "stdout",
     "output_type": "stream",
     "text": [
      "10×6 DataFrame\n",
      " Row │ Class    mean radius  mean texture  mean perimeter  mean area  mean smoothness\n",
      "     │ String1  Float64      Float64       Float64         Float64    Float64\n",
      "─────┼────────────────────────────────────────────────────────────────────────────────\n",
      "   1 │ M              17.99         10.38          122.8      1001.0          0.1184\n",
      "   2 │ M              20.57         17.77          132.9      1326.0          0.08474\n",
      "   3 │ M              19.69         21.25          130.0      1203.0          0.1096\n",
      "   4 │ M              11.42         20.38           77.58      386.1          0.1425\n",
      "   5 │ M              20.29         14.34          135.1      1297.0          0.1003\n",
      "   6 │ M              12.45         15.7            82.57      477.1          0.1278\n",
      "   7 │ M              18.25         19.98          119.6      1040.0          0.09463\n",
      "   8 │ M              13.71         20.83           90.2       577.9          0.1189\n",
      "   9 │ M              13.0          21.82           87.5       519.8          0.1273\n",
      "  10 │ M              12.46         24.04           83.97      475.9          0.1186"
     ]
    }
   ],
   "source": [
    "pprint(first(df[:, 1:6], 10))"
   ]
  },
  {
   "cell_type": "markdown",
   "id": "a0259cbb",
   "metadata": {},
   "source": [
    "For checking the statistical attributes of each individual feature, we can use the **describe()** method"
   ]
  },
  {
   "cell_type": "code",
   "execution_count": 11,
   "id": "2b3b019f",
   "metadata": {},
   "outputs": [
    {
     "name": "stdout",
     "output_type": "stream",
     "text": [
      "31×7 DataFrame\n",
      " Row │ variable                 mean        min        median    max      nmissing  eltype\n",
      "     │ Symbol                   Union…      Any        Union…    Any      Int64     DataType\n",
      "─────┼───────────────────────────────────────────────────────────────────────────────────────\n",
      "   1 │ Class                                B                    M               0  String1\n",
      "   2 │ mean radius              14.1273     6.981      13.37     28.11           0  Float64\n",
      "   3 │ mean texture             19.2896     9.71       18.84     39.28           0  Float64\n",
      "   4 │ mean perimeter           91.969      43.79      86.24     188.5           0  Float64\n",
      "   5 │ mean area                654.889     143.5      551.1     2501.0          0  Float64\n",
      "   6 │ mean smoothness          0.0963603   0.05263    0.09587   0.1634          0  Float64\n",
      "   7 │ mean compactness         0.104341    0.01938    0.09263   0.3454          0  Float64\n",
      "   8 │ mean concavity           0.0887993   0.0        0.06154   0.4268          0  Float64\n",
      "   9 │ mean concave points      0.0489191   0.0        0.0335    0.2012          0  Float64\n",
      "  10 │ mean symmetry            0.181162    0.106      0.1792    0.304           0  Float64\n",
      "  11 │ mean fractal dimension   0.0627976   0.04996    0.06154   0.09744         0  Float64\n",
      "  12 │ radius error             0.405172    0.1115     0.3242    2.873           0  Float64\n",
      "  13 │ texture error            1.21685     0.3602     1.108     4.885           0  Float64\n",
      "  14 │ perimeter error          2.86606     0.757      2.287     21.98           0  Float64\n",
      "  15 │ area error               40.3371     6.802      24.53     542.2           0  Float64\n",
      "  16 │ smoothness error         0.00704098  0.001713   0.00638   0.03113         0  Float64\n",
      "  17 │ compactness error        0.0254781   0.002252   0.02045   0.1354          0  Float64\n",
      "  18 │ concavity error          0.0318937   0.0        0.02589   0.396           0  Float64\n",
      "  19 │ concave points error     0.0117961   0.0        0.01093   0.05279         0  Float64\n",
      "  20 │ symmetry error           0.0205423   0.007882   0.01873   0.07895         0  Float64\n",
      "  21 │ fractal dimension error  0.0037949   0.0008948  0.003187  0.02984         0  Float64\n",
      "  22 │ worst radius             16.2692     7.93       14.97     36.04           0  Float64\n",
      "  23 │ worst texture            25.6772     12.02      25.41     49.54           0  Float64\n",
      "  24 │ worst perimeter          107.261     50.41      97.66     251.2           0  Float64\n",
      "  25 │ worst area               880.583     185.2      686.5     4254.0          0  Float64\n",
      "  26 │ worst smoothness         0.132369    0.07117    0.1313    0.2226          0  Float64\n",
      "  27 │ worst compactness        0.254265    0.02729    0.2119    1.058           0  Float64\n",
      "  28 │ worst concavity          0.272188    0.0        0.2267    1.252           0  Float64\n",
      "  29 │ worst concave points     0.114606    0.0        0.09993   0.291           0  Float64\n",
      "  30 │ worst symmetry           0.290076    0.1565     0.2822    0.6638          0  Float64\n",
      "  31 │ worst fractal dimension  0.0839458   0.05504    0.08004   0.2075          0  Float64"
     ]
    }
   ],
   "source": [
    "pprint(describe(df))"
   ]
  },
  {
   "cell_type": "markdown",
   "id": "ac02c087",
   "metadata": {},
   "source": [
    "As we can see the feature set consists of varying features that have different ranges and quantiles. This can cause trouble for the optimization techniques and might cause convergence issues. We can use a feature scaling technique like **Standardizer()** to handle this.\n",
    "\n",
    "But first, let's handle the scientific types of all the features. We can use the schema() method from MLJ.jl package to do this"
   ]
  },
  {
   "cell_type": "code",
   "execution_count": 12,
   "id": "b9166c37",
   "metadata": {},
   "outputs": [
    {
     "name": "stdout",
     "output_type": "stream",
     "text": [
      "ScientificTypes.Schema{(:Class, Symbol(\"mean radius\"), Symbol(\"mean texture\"), Symbol(\"mean perimeter\"), Symbol(\"mean area\"), Symbol(\"mean smoothness\"), Symbol(\"mean compactness\"), Symbol(\"mean concavity\"), Symbol(\"mean concave points\"), Symbol(\"mean symmetry\"), Symbol(\"mean fractal dimension\"), Symbol(\"radius error\"), Symbol(\"texture error\"), Symbol(\"perimeter error\"), Symbol(\"area error\"), Symbol(\"smoothness error\"), Symbol(\"compactness error\"), Symbol(\"concavity error\"), Symbol(\"concave points error\"), Symbol(\"symmetry error\"), Symbol(\"fractal dimension error\"), Symbol(\"worst radius\"), Symbol(\"worst texture\"), Symbol(\"worst perimeter\"), Symbol(\"worst area\"), Symbol(\"worst smoothness\"), Symbol(\"worst compactness\"), Symbol(\"worst concavity\"), Symbol(\"worst concave points\"), Symbol(\"worst symmetry\"), Symbol(\"worst fractal dimension\")), Tuple{Textual, Continuous, Continuous, Continuous, Continuous, Continuous, Continuous, Continuous, Continuous, Continuous, Continuous, Continuous, Continuous, Continuous, Continuous, Continuous, Continuous, Continuous, Continuous, Continuous, Continuous, Continuous, Continuous, Continuous, Continuous, Continuous, Continuous, Continuous, Continuous, Continuous, Continuous}, Tuple{InlineStrings.String1, Float64, Float64, Float64, Float64, Float64, Float64, Float64, Float64, Float64, Float64, Float64, Float64, Float64, Float64, Float64, Float64, Float64, Float64, Float64, Float64, Float64, Float64, Float64, Float64, Float64, Float64, Float64, Float64, Float64, Float64}}(nothing, nothing, nothing)"
     ]
    }
   ],
   "source": [
    "pprint(schema(df))"
   ]
  },
  {
   "cell_type": "markdown",
   "id": "24ecc423",
   "metadata": {},
   "source": [
    "As the target variable is 'Textual' in nature, we'll have to change it to a more appropriate scientific type. Using the **coerce()** method, let's change it to an `OrderedFactor`."
   ]
  },
  {
   "cell_type": "code",
   "execution_count": 13,
   "id": "b129d5ef",
   "metadata": {},
   "outputs": [],
   "source": [
    "coerce!(df, :Class => OrderedFactor{2});"
   ]
  },
  {
   "cell_type": "markdown",
   "id": "bdefb579",
   "metadata": {},
   "source": [
    "### Unpacking the values\n",
    "\n",
    "---"
   ]
  },
  {
   "cell_type": "markdown",
   "id": "7a2af730",
   "metadata": {},
   "source": [
    "Now that our data is fully processed, we can seperate the target variable 'y' from the feature set 'X' using the **unpack()** method."
   ]
  },
  {
   "cell_type": "code",
   "execution_count": 14,
   "id": "4a6e6fe6",
   "metadata": {},
   "outputs": [],
   "source": [
    "y, X = unpack(df, ==(:Class), name -> true, rng = RANDOM_SEED);"
   ]
  },
  {
   "cell_type": "markdown",
   "id": "ac4ad302",
   "metadata": {},
   "source": [
    "### Standardizing the \"feature set\"\n",
    "\n",
    "---"
   ]
  },
  {
   "cell_type": "markdown",
   "id": "7106cecd",
   "metadata": {},
   "source": [
    "Now that our feature set is seperated from the target variable, we can use the **Standardizer()** workflow to obtain to standardize our feature set 'X'."
   ]
  },
  {
   "cell_type": "code",
   "execution_count": 15,
   "id": "3ca94eb2",
   "metadata": {},
   "outputs": [
    {
     "name": "stderr",
     "output_type": "stream",
     "text": [
      "┌ Info: Training Machine{Standardizer,…}.\n",
      "└ @ MLJBase C:\\Users\\jeffr\\.julia\\packages\\MLJBase\\MuLnJ\\src\\machines.jl:464\n"
     ]
    },
    {
     "data": {
      "text/html": [
       "<div class=\"data-frame\"><p>569 rows × 30 columns (omitted printing of 24 columns)</p><table class=\"data-frame\"><thead><tr><th></th><th>mean radius</th><th>mean texture</th><th>mean perimeter</th><th>mean area</th><th>mean smoothness</th><th>mean compactness</th></tr><tr><th></th><th title=\"Float64\">Float64</th><th title=\"Float64\">Float64</th><th title=\"Float64\">Float64</th><th title=\"Float64\">Float64</th><th title=\"Float64\">Float64</th><th title=\"Float64\">Float64</th></tr></thead><tbody><tr><th>1</th><td>-0.223405</td><td>-0.797401</td><td>-0.225484</td><td>-0.383301</td><td>0.813397</td><td>0.930817</td></tr><tr><th>2</th><td>-0.708643</td><td>2.3251</td><td>-0.703693</td><td>-0.681385</td><td>-0.198397</td><td>-0.352206</td></tr><tr><th>3</th><td>-0.549735</td><td>-1.39493</td><td>-0.530435</td><td>-0.565732</td><td>0.728073</td><td>-0.175166</td></tr><tr><th>4</th><td>0.945704</td><td>4.6478</td><td>0.88197</td><td>0.755045</td><td>0.125121</td><td>0.482062</td></tr><tr><th>5</th><td>0.605187</td><td>0.602262</td><td>0.639161</td><td>0.488502</td><td>1.43199</td><td>0.45366</td></tr><tr><th>6</th><td>1.60971</td><td>0.527862</td><td>1.55278</td><td>1.63424</td><td>-0.17991</td><td>0.49721</td></tr><tr><th>7</th><td>-0.450417</td><td>-0.69045</td><td>-0.441131</td><td>-0.507479</td><td>1.38222</td><td>0.0787502</td></tr><tr><th>8</th><td>0.741394</td><td>0.534837</td><td>0.746162</td><td>0.609839</td><td>-0.0185067</td><td>0.554014</td></tr><tr><th>9</th><td>-0.243269</td><td>-0.527698</td><td>-0.305323</td><td>-0.308283</td><td>-0.846855</td><td>-1.03007</td></tr><tr><th>10</th><td>-0.263132</td><td>-0.432372</td><td>-0.322607</td><td>-0.321923</td><td>-1.72142</td><td>-1.11907</td></tr><tr><th>11</th><td>0.210754</td><td>0.213984</td><td>0.170829</td><td>0.0739126</td><td>-0.0348604</td><td>-0.395567</td></tr><tr><th>12</th><td>-0.802285</td><td>-0.255671</td><td>-0.742378</td><td>-0.754414</td><td>-0.0313053</td><td>0.533186</td></tr><tr><th>13</th><td>-0.870389</td><td>-1.03688</td><td>-0.891356</td><td>-0.78624</td><td>-1.34742</td><td>-1.07287</td></tr><tr><th>14</th><td>-0.677429</td><td>-1.06943</td><td>-0.644432</td><td>-0.650412</td><td>-1.09287</td><td>-0.146385</td></tr><tr><th>15</th><td>-1.44303</td><td>-0.0905941</td><td>-1.31277</td><td>-1.16616</td><td>0.236042</td><td>1.75827</td></tr><tr><th>16</th><td>1.97861</td><td>0.286059</td><td>1.89847</td><td>2.07184</td><td>0.0341094</td><td>0.249164</td></tr><tr><th>17</th><td>-0.785259</td><td>-0.399822</td><td>-0.80164</td><td>-0.724862</td><td>-0.5532</td><td>-0.969671</td></tr><tr><th>18</th><td>-1.11443</td><td>-0.420747</td><td>-1.10783</td><td>-0.948212</td><td>-1.12487</td><td>-0.857198</td></tr><tr><th>19</th><td>1.33162</td><td>0.623187</td><td>1.30586</td><td>1.29324</td><td>0.38678</td><td>0.654369</td></tr><tr><th>20</th><td>-0.41069</td><td>1.05797</td><td>-0.381869</td><td>-0.442975</td><td>1.12625</td><td>0.413897</td></tr><tr><th>21</th><td>-0.413528</td><td>-0.462598</td><td>-0.441131</td><td>-0.468833</td><td>0.457883</td><td>-0.524513</td></tr><tr><th>22</th><td>0.568298</td><td>-0.327746</td><td>0.618584</td><td>0.432807</td><td>0.543206</td><td>0.976261</td></tr><tr><th>23</th><td>-0.864713</td><td>-0.106869</td><td>-0.768305</td><td>-0.833411</td><td>1.79462</td><td>2.10288</td></tr><tr><th>24</th><td>-0.373801</td><td>-1.44841</td><td>-0.439485</td><td>-0.415127</td><td>-0.637813</td><td>-1.26108</td></tr><tr><th>25</th><td>-0.810798</td><td>-1.47166</td><td>-0.774067</td><td>-0.763223</td><td>1.94393</td><td>0.127981</td></tr><tr><th>26</th><td>-0.640539</td><td>0.523212</td><td>-0.623032</td><td>-0.633362</td><td>-2.14946</td><td>0.0389871</td></tr><tr><th>27</th><td>-1.00943</td><td>-0.225445</td><td>-1.03498</td><td>-0.892232</td><td>-1.0623</td><td>-1.13081</td></tr><tr><th>28</th><td>2.60005</td><td>1.71595</td><td>2.75448</td><td>2.92717</td><td>1.26135</td><td>1.97034</td></tr><tr><th>29</th><td>-0.969706</td><td>0.255834</td><td>-0.92469</td><td>-0.880866</td><td>0.841838</td><td>0.465021</td></tr><tr><th>30</th><td>1.58985</td><td>0.123308</td><td>1.59393</td><td>1.56604</td><td>0.699632</td><td>1.52537</td></tr><tr><th>&vellip;</th><td>&vellip;</td><td>&vellip;</td><td>&vellip;</td><td>&vellip;</td><td>&vellip;</td><td>&vellip;</td></tr></tbody></table></div>"
      ],
      "text/latex": [
       "\\begin{tabular}{r|ccccccc}\n",
       "\t& mean radius & mean texture & mean perimeter & mean area & mean smoothness & mean compactness & \\\\\n",
       "\t\\hline\n",
       "\t& Float64 & Float64 & Float64 & Float64 & Float64 & Float64 & \\\\\n",
       "\t\\hline\n",
       "\t1 & -0.223405 & -0.797401 & -0.225484 & -0.383301 & 0.813397 & 0.930817 & $\\dots$ \\\\\n",
       "\t2 & -0.708643 & 2.3251 & -0.703693 & -0.681385 & -0.198397 & -0.352206 & $\\dots$ \\\\\n",
       "\t3 & -0.549735 & -1.39493 & -0.530435 & -0.565732 & 0.728073 & -0.175166 & $\\dots$ \\\\\n",
       "\t4 & 0.945704 & 4.6478 & 0.88197 & 0.755045 & 0.125121 & 0.482062 & $\\dots$ \\\\\n",
       "\t5 & 0.605187 & 0.602262 & 0.639161 & 0.488502 & 1.43199 & 0.45366 & $\\dots$ \\\\\n",
       "\t6 & 1.60971 & 0.527862 & 1.55278 & 1.63424 & -0.17991 & 0.49721 & $\\dots$ \\\\\n",
       "\t7 & -0.450417 & -0.69045 & -0.441131 & -0.507479 & 1.38222 & 0.0787502 & $\\dots$ \\\\\n",
       "\t8 & 0.741394 & 0.534837 & 0.746162 & 0.609839 & -0.0185067 & 0.554014 & $\\dots$ \\\\\n",
       "\t9 & -0.243269 & -0.527698 & -0.305323 & -0.308283 & -0.846855 & -1.03007 & $\\dots$ \\\\\n",
       "\t10 & -0.263132 & -0.432372 & -0.322607 & -0.321923 & -1.72142 & -1.11907 & $\\dots$ \\\\\n",
       "\t11 & 0.210754 & 0.213984 & 0.170829 & 0.0739126 & -0.0348604 & -0.395567 & $\\dots$ \\\\\n",
       "\t12 & -0.802285 & -0.255671 & -0.742378 & -0.754414 & -0.0313053 & 0.533186 & $\\dots$ \\\\\n",
       "\t13 & -0.870389 & -1.03688 & -0.891356 & -0.78624 & -1.34742 & -1.07287 & $\\dots$ \\\\\n",
       "\t14 & -0.677429 & -1.06943 & -0.644432 & -0.650412 & -1.09287 & -0.146385 & $\\dots$ \\\\\n",
       "\t15 & -1.44303 & -0.0905941 & -1.31277 & -1.16616 & 0.236042 & 1.75827 & $\\dots$ \\\\\n",
       "\t16 & 1.97861 & 0.286059 & 1.89847 & 2.07184 & 0.0341094 & 0.249164 & $\\dots$ \\\\\n",
       "\t17 & -0.785259 & -0.399822 & -0.80164 & -0.724862 & -0.5532 & -0.969671 & $\\dots$ \\\\\n",
       "\t18 & -1.11443 & -0.420747 & -1.10783 & -0.948212 & -1.12487 & -0.857198 & $\\dots$ \\\\\n",
       "\t19 & 1.33162 & 0.623187 & 1.30586 & 1.29324 & 0.38678 & 0.654369 & $\\dots$ \\\\\n",
       "\t20 & -0.41069 & 1.05797 & -0.381869 & -0.442975 & 1.12625 & 0.413897 & $\\dots$ \\\\\n",
       "\t21 & -0.413528 & -0.462598 & -0.441131 & -0.468833 & 0.457883 & -0.524513 & $\\dots$ \\\\\n",
       "\t22 & 0.568298 & -0.327746 & 0.618584 & 0.432807 & 0.543206 & 0.976261 & $\\dots$ \\\\\n",
       "\t23 & -0.864713 & -0.106869 & -0.768305 & -0.833411 & 1.79462 & 2.10288 & $\\dots$ \\\\\n",
       "\t24 & -0.373801 & -1.44841 & -0.439485 & -0.415127 & -0.637813 & -1.26108 & $\\dots$ \\\\\n",
       "\t25 & -0.810798 & -1.47166 & -0.774067 & -0.763223 & 1.94393 & 0.127981 & $\\dots$ \\\\\n",
       "\t26 & -0.640539 & 0.523212 & -0.623032 & -0.633362 & -2.14946 & 0.0389871 & $\\dots$ \\\\\n",
       "\t27 & -1.00943 & -0.225445 & -1.03498 & -0.892232 & -1.0623 & -1.13081 & $\\dots$ \\\\\n",
       "\t28 & 2.60005 & 1.71595 & 2.75448 & 2.92717 & 1.26135 & 1.97034 & $\\dots$ \\\\\n",
       "\t29 & -0.969706 & 0.255834 & -0.92469 & -0.880866 & 0.841838 & 0.465021 & $\\dots$ \\\\\n",
       "\t30 & 1.58985 & 0.123308 & 1.59393 & 1.56604 & 0.699632 & 1.52537 & $\\dots$ \\\\\n",
       "\t$\\dots$ & $\\dots$ & $\\dots$ & $\\dots$ & $\\dots$ & $\\dots$ & $\\dots$ &  \\\\\n",
       "\\end{tabular}\n"
      ],
      "text/plain": [
       "\u001b[1m569×30 DataFrame\u001b[0m\n",
       "\u001b[1m Row \u001b[0m│\u001b[1m mean radius \u001b[0m\u001b[1m mean texture \u001b[0m\u001b[1m mean perimeter \u001b[0m\u001b[1m mean area  \u001b[0m\u001b[1m mean smoothness \u001b[0m\u001b[1m\u001b[0m ⋯\n",
       "\u001b[1m     \u001b[0m│\u001b[90m Float64     \u001b[0m\u001b[90m Float64      \u001b[0m\u001b[90m Float64        \u001b[0m\u001b[90m Float64    \u001b[0m\u001b[90m Float64         \u001b[0m\u001b[90m\u001b[0m ⋯\n",
       "─────┼──────────────────────────────────────────────────────────────────────────\n",
       "   1 │  -0.223405      -0.797401      -0.225484   -0.383301         0.813397   ⋯\n",
       "   2 │  -0.708643       2.3251        -0.703693   -0.681385        -0.198397\n",
       "   3 │  -0.549735      -1.39493       -0.530435   -0.565732         0.728073\n",
       "   4 │   0.945704       4.6478         0.88197     0.755045         0.125121\n",
       "   5 │   0.605187       0.602262       0.639161    0.488502         1.43199    ⋯\n",
       "   6 │   1.60971        0.527862       1.55278     1.63424         -0.17991\n",
       "   7 │  -0.450417      -0.69045       -0.441131   -0.507479         1.38222\n",
       "   8 │   0.741394       0.534837       0.746162    0.609839        -0.0185067\n",
       "   9 │  -0.243269      -0.527698      -0.305323   -0.308283        -0.846855   ⋯\n",
       "  10 │  -0.263132      -0.432372      -0.322607   -0.321923        -1.72142\n",
       "  11 │   0.210754       0.213984       0.170829    0.0739126       -0.0348604\n",
       "  ⋮  │      ⋮            ⋮              ⋮             ⋮              ⋮         ⋱\n",
       " 560 │   1.028          2.03215        1.04247     0.928382         0.256661\n",
       " 561 │  -0.305697      -1.26705       -0.381046   -0.35318         -0.912981   ⋯\n",
       " 562 │  -0.717156       1.20909       -0.730032   -0.675418        -1.53726\n",
       " 563 │   0.869088       0.646438       0.807893    0.776925         0.0639726\n",
       " 564 │  -0.0247703     -0.7695        -0.0900875  -0.124147        -0.837612\n",
       " 565 │   0.0887355     -0.955502       0.0823478  -0.0420248        0.237464   ⋯\n",
       " 566 │  -0.178003      -1.52978       -0.258407   -0.252019        -1.60695\n",
       " 567 │  -1.67656        0.32791       -1.59262    -1.28153         -0.164268\n",
       " 568 │  -0.685942      -0.892726      -0.697109   -0.666609         1.32534\n",
       " 569 │   1.53877        2.2042         1.71328     1.56888         -0.267367   ⋯\n",
       "\u001b[36m                                                 25 columns and 548 rows omitted\u001b[0m"
      ]
     },
     "execution_count": 15,
     "metadata": {},
     "output_type": "execute_result"
    }
   ],
   "source": [
    "transformer_instance = Standardizer()\n",
    "transformer_model = machine(transformer_instance, X)\n",
    "fit!(transformer_model)\n",
    "X = MLJ.transform(transformer_model, X)"
   ]
  },
  {
   "cell_type": "markdown",
   "id": "c22bbdb6",
   "metadata": {},
   "source": [
    "### Train-test split\n",
    "\n",
    "---"
   ]
  },
  {
   "cell_type": "markdown",
   "id": "544e3c59",
   "metadata": {},
   "source": [
    "After feature scaling, our data is ready to put into a Machine Learning model for classificatoin! Using 80% of data for training, we can perform a train-set split using the **partition()** method."
   ]
  },
  {
   "cell_type": "code",
   "execution_count": 17,
   "id": "64782b78",
   "metadata": {},
   "outputs": [],
   "source": [
    "train, test = partition(eachindex(y), 0.8, shuffle = true, rng = RANDOM_SEED);"
   ]
  },
  {
   "cell_type": "markdown",
   "id": "854c039d",
   "metadata": {},
   "source": [
    "### Model compatibility\n",
    "\n",
    "---"
   ]
  },
  {
   "cell_type": "markdown",
   "id": "d67562b3",
   "metadata": {},
   "source": [
    "Now that we have seperate training and testing set, let's see the models compatible with our data!"
   ]
  },
  {
   "cell_type": "code",
   "execution_count": 18,
   "id": "b1a85659",
   "metadata": {},
   "outputs": [
    {
     "name": "stdout",
     "output_type": "stream",
     "text": [
      "Model name = AdaBoostClassifier, Prediction type = probabilistic, Package name = ScikitLearn\n",
      "Model name = AdaBoostStumpClassifier, Prediction type = probabilistic, Package name = DecisionTree\n",
      "Model name = BaggingClassifier, Prediction type = probabilistic, Package name = ScikitLearn\n",
      "Model name = BayesianLDA, Prediction type = probabilistic, Package name = MultivariateStats\n",
      "Model name = BayesianLDA, Prediction type = probabilistic, Package name = ScikitLearn\n",
      "Model name = BayesianQDA, Prediction type = probabilistic, Package name = ScikitLearn\n",
      "Model name = BayesianSubspaceLDA, Prediction type = probabilistic, Package name = MultivariateStats\n",
      "Model name = ConstantClassifier, Prediction type = probabilistic, Package name = MLJModels\n",
      "Model name = DSADDetector, Prediction type = unknown, Package name = OutlierDetectionNetworks\n",
      "Model name = DecisionTreeClassifier, Prediction type = probabilistic, Package name = BetaML\n",
      "Model name = DecisionTreeClassifier, Prediction type = probabilistic, Package name = DecisionTree\n",
      "Model name = DeterministicConstantClassifier, Prediction type = deterministic, Package name = MLJModels\n",
      "Model name = DummyClassifier, Prediction type = probabilistic, Package name = ScikitLearn\n",
      "Model name = ESADDetector, Prediction type = unknown, Package name = OutlierDetectionNetworks\n",
      "Model name = EvoTreeClassifier, Prediction type = probabilistic, Package name = EvoTrees\n",
      "Model name = ExtraTreesClassifier, Prediction type = probabilistic, Package name = ScikitLearn\n",
      "Model name = GaussianNBClassifier, Prediction type = probabilistic, Package name = NaiveBayes\n",
      "Model name = GaussianNBClassifier, Prediction type = probabilistic, Package name = ScikitLearn\n",
      "Model name = GaussianProcessClassifier, Prediction type = probabilistic, Package name = ScikitLearn\n",
      "Model name = GradientBoostingClassifier, Prediction type = probabilistic, Package name = ScikitLearn\n",
      "Model name = KNNClassifier, Prediction type = probabilistic, Package name = NearestNeighborModels\n",
      "Model name = KNeighborsClassifier, Prediction type = probabilistic, Package name = ScikitLearn\n",
      "Model name = KernelPerceptronClassifier, Prediction type = probabilistic, Package name = BetaML\n",
      "Model name = LDA, Prediction type = probabilistic, Package name = MultivariateStats\n",
      "Model name = LGBMClassifier, Prediction type = probabilistic, Package name = LightGBM\n",
      "Model name = LinearBinaryClassifier, Prediction type = probabilistic, Package name = GLM\n",
      "Model name = LinearSVC, Prediction type = deterministic, Package name = LIBSVM\n",
      "Model name = LogisticCVClassifier, Prediction type = probabilistic, Package name = ScikitLearn\n",
      "Model name = LogisticClassifier, Prediction type = probabilistic, Package name = MLJLinearModels\n",
      "Model name = LogisticClassifier, Prediction type = probabilistic, Package name = ScikitLearn\n",
      "Model name = MultinomialClassifier, Prediction type = probabilistic, Package name = MLJLinearModels\n",
      "Model name = NeuralNetworkClassifier, Prediction type = probabilistic, Package name = MLJFlux\n",
      "Model name = NuSVC, Prediction type = deterministic, Package name = LIBSVM\n",
      "Model name = PassiveAggressiveClassifier, Prediction type = deterministic, Package name = ScikitLearn\n",
      "Model name = PegasosClassifier, Prediction type = probabilistic, Package name = BetaML\n",
      "Model name = PerceptronClassifier, Prediction type = probabilistic, Package name = BetaML\n",
      "Model name = PerceptronClassifier, Prediction type = deterministic, Package name = ScikitLearn\n",
      "Model name = ProbabilisticSGDClassifier, Prediction type = probabilistic, Package name = ScikitLearn\n",
      "Model name = RandomForestClassifier, Prediction type = probabilistic, Package name = BetaML\n",
      "Model name = RandomForestClassifier, Prediction type = probabilistic, Package name = DecisionTree\n",
      "Model name = RandomForestClassifier, Prediction type = probabilistic, Package name = ScikitLearn\n",
      "Model name = RidgeCVClassifier, Prediction type = deterministic, Package name = ScikitLearn\n",
      "Model name = RidgeClassifier, Prediction type = deterministic, Package name = ScikitLearn\n",
      "Model name = SGDClassifier, Prediction type = deterministic, Package name = ScikitLearn\n",
      "Model name = SVC, Prediction type = deterministic, Package name = LIBSVM\n",
      "Model name = SVMClassifier, Prediction type = deterministic, Package name = ScikitLearn\n",
      "Model name = SVMLinearClassifier, Prediction type = deterministic, Package name = ScikitLearn\n",
      "Model name = SVMNuClassifier, Prediction type = deterministic, Package name = ScikitLearn\n",
      "Model name = SubspaceLDA, Prediction type = probabilistic, Package name = MultivariateStats\n",
      "Model name = XGBoostClassifier, Prediction type = probabilistic, Package name = XGBoost\n"
     ]
    }
   ],
   "source": [
    "for m in models(matching(X, y))\n",
    "    println(\"Model name = \", m.name,  \", \", \n",
    "             \"Prediction type = \", m.prediction_type, \", \",\n",
    "             \"Package name = \", m.package_name);\n",
    "end"
   ]
  },
  {
   "cell_type": "markdown",
   "id": "affb425c",
   "metadata": {},
   "source": [
    "### Analyzing the performance of different models\n",
    "\n",
    "---"
   ]
  },
  {
   "cell_type": "markdown",
   "id": "a6d73e7f",
   "metadata": {},
   "source": [
    "That's a lot of models for our data! To narrow it down, let's analyze the performance of \"probabilistic classifiers\" from the \"ScikitLearn\" package."
   ]
  },
  {
   "cell_type": "markdown",
   "id": "f0c8b4df",
   "metadata": {},
   "source": [
    "### Creating various empty vectors for our analysis"
   ]
  },
  {
   "cell_type": "markdown",
   "id": "e5b4ab46",
   "metadata": {},
   "source": [
    "* **model_names** captures the names of the models being iterated \n",
    "\n",
    "* **loss_acc captures** the value of the model accuracy on the test set\n",
    "\n",
    "* **loss_ce captures** the values of the Cross-entropy loss on the test set\n",
    "\n",
    "* **loss_f1** captures the values of F1-Score on the test set"
   ]
  },
  {
   "cell_type": "code",
   "execution_count": 19,
   "id": "70573a64",
   "metadata": {},
   "outputs": [],
   "source": [
    "model_names = Vector{String}();\n",
    "loss_acc=[];\n",
    "loss_ce=[];\n",
    "loss_f1=[];"
   ]
  },
  {
   "cell_type": "markdown",
   "id": "19517b5c",
   "metadata": {},
   "source": [
    "### Collecting data for analysis"
   ]
  },
  {
   "cell_type": "code",
   "execution_count": 23,
   "id": "e3215207",
   "metadata": {},
   "outputs": [
    {
     "name": "stdout",
     "output_type": "stream",
     "text": [
      "import MLJScikitLearnInterface ✔\n"
     ]
    },
    {
     "name": "stderr",
     "output_type": "stream",
     "text": [
      "┌ Info: For silent loading, specify `verbosity=0`. \n",
      "└ @ Main C:\\Users\\jeffr\\.julia\\packages\\MLJModels\\tMgLW\\src\\loading.jl:168\n",
      "┌ Info: Training Machine{AdaBoostClassifier,…}.\n",
      "└ @ MLJBase C:\\Users\\jeffr\\.julia\\packages\\MLJBase\\MuLnJ\\src\\machines.jl:464\n"
     ]
    },
    {
     "name": "stdout",
     "output_type": "stream",
     "text": [
      "import MLJScikitLearnInterface ✔\n",
      "import MLJScikitLearnInterface ✔\n",
      "import MLJScikitLearnInterface ✔\n",
      "import MLJScikitLearnInterface ✔\n",
      "import MLJScikitLearnInterface ✔\n"
     ]
    },
    {
     "name": "stderr",
     "output_type": "stream",
     "text": [
      "┌ Info: For silent loading, specify `verbosity=0`. \n",
      "└ @ Main C:\\Users\\jeffr\\.julia\\packages\\MLJModels\\tMgLW\\src\\loading.jl:168\n",
      "┌ Info: Training Machine{BaggingClassifier,…}.\n",
      "└ @ MLJBase C:\\Users\\jeffr\\.julia\\packages\\MLJBase\\MuLnJ\\src\\machines.jl:464\n",
      "┌ Info: For silent loading, specify `verbosity=0`. \n",
      "└ @ Main C:\\Users\\jeffr\\.julia\\packages\\MLJModels\\tMgLW\\src\\loading.jl:168\n",
      "┌ Info: Training Machine{BayesianLDA,…}.\n",
      "└ @ MLJBase C:\\Users\\jeffr\\.julia\\packages\\MLJBase\\MuLnJ\\src\\machines.jl:464\n",
      "┌ Info: For silent loading, specify `verbosity=0`. \n",
      "└ @ Main C:\\Users\\jeffr\\.julia\\packages\\MLJModels\\tMgLW\\src\\loading.jl:168\n",
      "┌ Info: Training Machine{BayesianQDA,…}.\n",
      "└ @ MLJBase C:\\Users\\jeffr\\.julia\\packages\\MLJBase\\MuLnJ\\src\\machines.jl:464\n",
      "┌ Info: For silent loading, specify `verbosity=0`. \n",
      "└ @ Main C:\\Users\\jeffr\\.julia\\packages\\MLJModels\\tMgLW\\src\\loading.jl:168\n",
      "┌ Info: Training Machine{DummyClassifier,…}.\n",
      "└ @ MLJBase C:\\Users\\jeffr\\.julia\\packages\\MLJBase\\MuLnJ\\src\\machines.jl:464\n",
      "┌ Info: For silent loading, specify `verbosity=0`. \n",
      "└ @ Main C:\\Users\\jeffr\\.julia\\packages\\MLJModels\\tMgLW\\src\\loading.jl:168\n",
      "┌ Info: Training Machine{ExtraTreesClassifier,…}.\n",
      "└ @ MLJBase C:\\Users\\jeffr\\.julia\\packages\\MLJBase\\MuLnJ\\src\\machines.jl:464\n"
     ]
    },
    {
     "name": "stdout",
     "output_type": "stream",
     "text": [
      "import MLJScikitLearnInterface ✔\n",
      "import MLJScikitLearnInterface ✔\n",
      "import MLJScikitLearnInterface ✔\n"
     ]
    },
    {
     "name": "stderr",
     "output_type": "stream",
     "text": [
      "C:\\Users\\jeffr\\.julia\\conda\\3\\lib\\site-packages\\sklearn\\ensemble\\_forest.py:427: FutureWarning: `max_features='auto'` has been deprecated in 1.1 and will be removed in 1.3. To keep the past behaviour, explicitly set `max_features='sqrt'` or remove this parameter as it is also the default value for RandomForestClassifiers and ExtraTreesClassifiers.\r\n",
      "  warn(\r\n",
      "┌ Info: For silent loading, specify `verbosity=0`. \n",
      "└ @ Main C:\\Users\\jeffr\\.julia\\packages\\MLJModels\\tMgLW\\src\\loading.jl:168\n",
      "┌ Info: Training Machine{GaussianNBClassifier,…}.\n",
      "└ @ MLJBase C:\\Users\\jeffr\\.julia\\packages\\MLJBase\\MuLnJ\\src\\machines.jl:464\n",
      "┌ Info: For silent loading, specify `verbosity=0`. \n",
      "└ @ Main C:\\Users\\jeffr\\.julia\\packages\\MLJModels\\tMgLW\\src\\loading.jl:168\n",
      "┌ Info: Training Machine{GaussianProcessClassifier,…}.\n",
      "└ @ MLJBase C:\\Users\\jeffr\\.julia\\packages\\MLJBase\\MuLnJ\\src\\machines.jl:464\n",
      "┌ Info: For silent loading, specify `verbosity=0`. \n",
      "└ @ Main C:\\Users\\jeffr\\.julia\\packages\\MLJModels\\tMgLW\\src\\loading.jl:168\n"
     ]
    },
    {
     "name": "stdout",
     "output_type": "stream",
     "text": [
      "import MLJScikitLearnInterface ✔\n",
      "import MLJScikitLearnInterface ✔\n",
      "import MLJScikitLearnInterface ✔\n",
      "import MLJScikitLearnInterface ✔\n"
     ]
    },
    {
     "name": "stderr",
     "output_type": "stream",
     "text": [
      "┌ Info: Training Machine{GradientBoostingClassifier,…}.\n",
      "└ @ MLJBase C:\\Users\\jeffr\\.julia\\packages\\MLJBase\\MuLnJ\\src\\machines.jl:464\n",
      "C:\\Users\\jeffr\\.julia\\conda\\3\\lib\\site-packages\\sklearn\\ensemble\\_gb.py:310: FutureWarning: The loss parameter name 'deviance' was deprecated in v1.1 and will be removed in version 1.3. Use the new parameter name 'log_loss' which is equivalent.\n",
      "  warnings.warn(\n",
      "┌ Info: For silent loading, specify `verbosity=0`. \n",
      "└ @ Main C:\\Users\\jeffr\\.julia\\packages\\MLJModels\\tMgLW\\src\\loading.jl:168\n",
      "┌ Info: Training Machine{KNeighborsClassifier,…}.\n",
      "└ @ MLJBase C:\\Users\\jeffr\\.julia\\packages\\MLJBase\\MuLnJ\\src\\machines.jl:464\n",
      "┌ Info: For silent loading, specify `verbosity=0`. \n",
      "└ @ Main C:\\Users\\jeffr\\.julia\\packages\\MLJModels\\tMgLW\\src\\loading.jl:168\n",
      "┌ Info: Training Machine{LogisticClassifier,…}.\n",
      "└ @ MLJBase C:\\Users\\jeffr\\.julia\\packages\\MLJBase\\MuLnJ\\src\\machines.jl:464\n",
      "┌ Info: For silent loading, specify `verbosity=0`. \n",
      "└ @ Main C:\\Users\\jeffr\\.julia\\packages\\MLJModels\\tMgLW\\src\\loading.jl:168\n",
      "┌ Info: Training Machine{ProbabilisticSGDClassifier,…}.\n",
      "└ @ MLJBase C:\\Users\\jeffr\\.julia\\packages\\MLJBase\\MuLnJ\\src\\machines.jl:464\n",
      "C:\\Users\\jeffr\\.julia\\conda\\3\\lib\\site-packages\\sklearn\\linear_model\\_stochastic_gradient.py:173: FutureWarning: The loss 'log' was deprecated in v1.1 and will be removed in version 1.3. Use `loss='log_loss'` which is equivalent.\n",
      "  warnings.warn(\n",
      "┌ Info: For silent loading, specify `verbosity=0`. \n",
      "└ @ Main C:\\Users\\jeffr\\.julia\\packages\\MLJModels\\tMgLW\\src\\loading.jl:168\n",
      "┌ Info: Training Machine{RandomForestClassifier,…}.\n",
      "└ @ MLJBase C:\\Users\\jeffr\\.julia\\packages\\MLJBase\\MuLnJ\\src\\machines.jl:464\n",
      "C:\\Users\\jeffr\\.julia\\conda\\3\\lib\\site-packages\\sklearn\\ensemble\\_forest.py:427: FutureWarning: `max_features='auto'` has been deprecated in 1.1 and will be removed in 1.3. To keep the past behaviour, explicitly set `max_features='sqrt'` or remove this parameter as it is also the default value for RandomForestClassifiers and ExtraTreesClassifiers.\n",
      "  warn(\n"
     ]
    },
    {
     "data": {
      "image/png": "[encoded data removed]",
      "text/plain": [
       "Figure(PyObject <Figure size 800x600 with 1 Axes>)"
      ]
     },
     "metadata": {},
     "output_type": "display_data"
    }
   ],
   "source": [
    "figure(figsize=(8, 6))\n",
    "for m in models(matching(X, y))\n",
    "    if m.prediction_type==Symbol(\"probabilistic\") && m.package_name==\"ScikitLearn\" && m.name!=\"LogisticCVClassifier\"\n",
    "        #Excluding LogisticCVClassfiier as we can infer similar baseline results from the LogisticClassifier\n",
    "\n",
    "        #Capturing the model and loading it using the @load utility\n",
    "        model_name=m.name\n",
    "        package_name=m.package_name\n",
    "        eval(:(clf = @load $model_name pkg=$package_name verbosity=1))\n",
    "\n",
    "        #Fitting the captured model onto the training set\n",
    "        clf_machine = machine(clf(), X, y)\n",
    "        fit!(clf_machine, rows=train)\n",
    "\n",
    "        #Getting the predictions onto the test set\n",
    "        y_pred = MLJ.predict(clf_machine, rows=test);\n",
    "\n",
    "        #Plotting the ROC-AUC curve for each model being iterated\n",
    "        fprs, tprs, thresholds = roc(y_pred, y[test])\n",
    "        plot(fprs, tprs,label=model_name);\n",
    "\n",
    "        #Obtaining different evaluation metrics\n",
    "        ce_loss = mean(cross_entropy(y_pred,y[test]))\n",
    "        acc = accuracy(mode.(y_pred), y[test])\n",
    "        f1_score = f1score(mode.(y_pred), y[test])\n",
    "\n",
    "        #Adding the different obtained values of the evaluation metrics to the respective vectors\n",
    "        push!(model_names, m.name)\n",
    "        append!(loss_acc, acc)\n",
    "        append!(loss_ce, ce_loss)\n",
    "        append!(loss_f1, f1_score)\n",
    "    end\n",
    "end\n",
    "\n",
    "#Adding labels and legend to the ROC-AUC curve\n",
    "xlabel(\"False Positive Rate\")\n",
    "ylabel(\"True Positive Rate\")\n",
    "legend(loc=\"best\", fontsize=\"xx-small\")\n",
    "title(\"ROC curve\")\n",
    "\n",
    "savefig(\"./plots/4.12.2.png\")"
   ]
  },
  {
   "cell_type": "markdown",
   "id": "7d40cf49",
   "metadata": {},
   "source": [
    "### Analyzing models"
   ]
  },
  {
   "cell_type": "markdown",
   "id": "09fe6f86",
   "metadata": {},
   "source": [
    "Let's collect the data in form a dataframe for a more precise analysis"
   ]
  },
  {
   "cell_type": "code",
   "execution_count": 24,
   "id": "1358adec",
   "metadata": {},
   "outputs": [],
   "source": [
    "model_info = DataFrame(ModelName = model_names, Accuracy = loss_acc, CrossEntropyLoss = loss_ce, F1Score = loss_f1);"
   ]
  },
  {
   "cell_type": "markdown",
   "id": "b2d4679b",
   "metadata": {},
   "source": [
    "Now, let's sort the data on basis of the Cross-entropy loss"
   ]
  },
  {
   "cell_type": "code",
   "execution_count": 25,
   "id": "9badb881",
   "metadata": {},
   "outputs": [
    {
     "name": "stdout",
     "output_type": "stream",
     "text": [
      "26×4 DataFrame\n",
      " Row │ ModelName                   Accuracy  CrossEntropyLoss  F1Score\n",
      "     │ String                      Any       Any               Any\n",
      "─────┼──────────────────────────────────────────────────────────────────\n",
      "   1 │ LogisticClassifier          0.973684  0.13142           0.962025\n",
      "   2 │ LogisticClassifier          0.973684  0.13142           0.962025\n",
      "   3 │ BayesianLDA                 0.95614   0.145701          0.935065\n",
      "   4 │ BayesianLDA                 0.95614   0.145701          0.935065\n",
      "   5 │ ExtraTreesClassifier        0.938596  0.149944          0.909091\n",
      "   6 │ RandomForestClassifier      0.938596  0.158374          0.911392\n",
      "   7 │ ExtraTreesClassifier        0.938596  0.164727          0.911392\n",
      "   8 │ RandomForestClassifier      0.938596  0.174436          0.911392\n",
      "   9 │ GradientBoostingClassifier  0.929825  0.232854          0.894737\n",
      "  10 │ GradientBoostingClassifier  0.938596  0.239695          0.909091\n",
      "  11 │ AdaBoostClassifier          0.95614   0.3495            0.936709\n",
      "  12 │ AdaBoostClassifier          0.95614   0.3495            0.936709\n",
      "  13 │ KNeighborsClassifier        0.938596  0.432447          0.911392\n",
      "  14 │ KNeighborsClassifier        0.938596  0.432447          0.911392\n",
      "  15 │ BaggingClassifier           0.929825  0.436975          0.897436\n",
      "  16 │ BaggingClassifier           0.929825  0.465568          0.897436\n",
      "  17 │ GaussianProcessClassifier   0.938596  0.597197          0.909091\n",
      "  18 │ GaussianProcessClassifier   0.938596  0.597197          0.909091\n",
      "  19 │ ProbabilisticSGDClassifier  0.947368  0.79857           0.926829\n",
      "  20 │ GaussianNBClassifier        0.903509  0.929409          0.864198\n",
      "  21 │ GaussianNBClassifier        0.903509  0.929409          0.864198\n",
      "  22 │ BayesianQDA                 0.903509  1.1303            0.857143\n",
      "  23 │ BayesianQDA                 0.903509  1.1303            0.857143\n",
      "  24 │ ProbabilisticSGDClassifier  0.938596  1.57253           0.91358\n",
      "  25 │ DummyClassifier             0.570175  15.4924           0.436782\n",
      "  26 │ DummyClassifier             0.508772  17.7057           0.282051"
     ]
    }
   ],
   "source": [
    "pprint(sort!(model_info, [:CrossEntropyLoss]));"
   ]
  },
  {
   "cell_type": "markdown",
   "id": "6b6fe376",
   "metadata": {},
   "source": [
    "It seems like a simple LogisticClassifier works really well with this dataset!"
   ]
  },
  {
   "cell_type": "markdown",
   "id": "4bd15d38",
   "metadata": {},
   "source": [
    "### Conclusion \n",
    "\n",
    "---\n",
    "\n",
    "This article covered iterative feature selection on the Breast cancer classification dataset.\n",
    "In this tutorial, we only analyze the **ScikitLearn** models so as to keep the flow of the content precise, but the sampe workflow can be applied to any compatible model in **MLJ** family."
   ]
  }
 ],
 "metadata": {
  "hide_input": false,
  "kernelspec": {
   "display_name": "Julia 1.7.3",
   "language": "julia",
   "name": "julia-1.7"
  },
  "language_info": {
   "file_extension": ".jl",
   "mimetype": "application/julia",
   "name": "julia",
   "version": "1.7.3"
  }
 },
 "nbformat": 4,
 "nbformat_minor": 5
}
