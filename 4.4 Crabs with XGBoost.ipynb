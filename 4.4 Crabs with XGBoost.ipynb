{
 "cells": [
  {
   "cell_type": "markdown",
   "id": "8f92d76e",
   "metadata": {},
   "source": [
    "# End to end examples"
   ]
  },
  {
   "cell_type": "markdown",
   "id": "0be46a7c",
   "metadata": {},
   "source": [
    "## Crabs with XGBoost"
   ]
  },
  {
   "cell_type": "code",
   "execution_count": 1,
   "id": "304fcfdd",
   "metadata": {},
   "outputs": [
    {
     "name": "stderr",
     "output_type": "stream",
     "text": [
      "\u001b[32m\u001b[1m  Activating\u001b[22m\u001b[39m project at `D:\\JULIA\\6_ML_with_Julia\\EX-crabs-xgb`\n",
      "┌ Warning: The active manifest file is an older format with no julia version entry. Dependencies may have been resolved with a different julia version.\n",
      "└ @ nothing D:\\JULIA\\6_ML_with_Julia\\EX-crabs-xgb\\Manifest.toml:0\n"
     ]
    }
   ],
   "source": [
    "using Pkg; Pkg.activate(\"D:/JULIA/6_ML_with_Julia/EX-crabs-xgb\"); Pkg.instantiate()"
   ]
  },
  {
   "cell_type": "markdown",
   "id": "18c10d3c",
   "metadata": {},
   "source": [
    "> First steps\n",
    "> XGBoost machine\n",
    "> 1. More tuning (1)\n",
    "> 2. More tuning (2)\n",
    "> 3. More tuning (3)"
   ]
  },
  {
   "cell_type": "markdown",
   "id": "5876d2d9",
   "metadata": {},
   "source": [
    "### First steps\n",
    "\n",
    "---"
   ]
  },
  {
   "cell_type": "markdown",
   "id": "f2612bd5",
   "metadata": {},
   "source": [
    "Again, the crabs dataset is so common that there is a simple load function for it:"
   ]
  },
  {
   "cell_type": "code",
   "execution_count": 2,
   "id": "1ad5ea9f",
   "metadata": {},
   "outputs": [
    {
     "name": "stdout",
     "output_type": "stream",
     "text": [
      "size(X) = (200, 5)\n",
      "y[1:3] = CategoricalValue{String, UInt32}[\"B\", \"B\", \"B\"]\n",
      "┌────────────┬────────────┬────────────┬────────────┬────────────┐\n",
      "│\u001b[1m FL         \u001b[0m│\u001b[1m RW         \u001b[0m│\u001b[1m CL         \u001b[0m│\u001b[1m CW         \u001b[0m│\u001b[1m BD         \u001b[0m│\n",
      "│\u001b[90m Float64    \u001b[0m│\u001b[90m Float64    \u001b[0m│\u001b[90m Float64    \u001b[0m│\u001b[90m Float64    \u001b[0m│\u001b[90m Float64    \u001b[0m│\n",
      "│\u001b[90m Continuous \u001b[0m│\u001b[90m Continuous \u001b[0m│\u001b[90m Continuous \u001b[0m│\u001b[90m Continuous \u001b[0m│\u001b[90m Continuous \u001b[0m│\n",
      "├────────────┼────────────┼────────────┼────────────┼────────────┤\n",
      "│ 8.1        │ 6.7        │ 16.1       │ 19.0       │ 7.0        │\n",
      "│ 8.8        │ 7.7        │ 18.1       │ 20.8       │ 7.4        │\n",
      "│ 9.2        │ 7.8        │ 19.0       │ 22.4       │ 7.7        │\n",
      "└────────────┴────────────┴────────────┴────────────┴────────────┘\n"
     ]
    }
   ],
   "source": [
    "using MLJ\n",
    "using StatsBase\n",
    "using Random\n",
    "using PyPlot\n",
    "using CategoricalArrays\n",
    "using PrettyPrinting\n",
    "import DataFrames\n",
    "\n",
    "X , y = @load_crabs\n",
    "X = DataFrames.DataFrame(X)\n",
    "\n",
    "@show size(X)\n",
    "@show y[1:3]\n",
    "first(X, 3) |> pretty"
   ]
  },
  {
   "cell_type": "markdown",
   "id": "8caaa314",
   "metadata": {},
   "source": [
    "It's a classification problem with the following classes:"
   ]
  },
  {
   "cell_type": "code",
   "execution_count": 3,
   "id": "16516584",
   "metadata": {},
   "outputs": [
    {
     "name": "stdout",
     "output_type": "stream",
     "text": [
      "[\"B\", \"O\"]"
     ]
    }
   ],
   "source": [
    "levels(y) |> pprint"
   ]
  },
  {
   "cell_type": "markdown",
   "id": "1c95489c",
   "metadata": {},
   "source": [
    "Note that the dataset is currently sorted by target, let's shuffle it to avoid the obvious issues this may cause"
   ]
  },
  {
   "cell_type": "code",
   "execution_count": 4,
   "id": "9e6b440c",
   "metadata": {},
   "outputs": [],
   "source": [
    "Random.seed!(523)\n",
    "perm = randperm(length(y))\n",
    "X = X[perm, : ]\n",
    "y = y[perm];"
   ]
  },
  {
   "cell_type": "code",
   "execution_count": 5,
   "id": "d74057d8",
   "metadata": {},
   "outputs": [
    {
     "name": "stdout",
     "output_type": "stream",
     "text": [
      "import MLJXGBoostInterface"
     ]
    },
    {
     "name": "stderr",
     "output_type": "stream",
     "text": [
      "┌ Info: For silent loading, specify `verbosity=0`. \n",
      "└ @ Main C:\\Users\\jeffr\\.julia\\packages\\MLJModels\\tMgLW\\src\\loading.jl:168\n"
     ]
    },
    {
     "name": "stdout",
     "output_type": "stream",
     "text": [
      " ✔\n"
     ]
    },
    {
     "data": {
      "text/plain": [
       "XGBoostClassifier(\n",
       "    num_round = 100,\n",
       "    booster = \"gbtree\",\n",
       "    disable_default_eval_metric = 0,\n",
       "    eta = 0.3,\n",
       "    gamma = 0.0,\n",
       "    max_depth = 6,\n",
       "    min_child_weight = 1.0,\n",
       "    max_delta_step = 0.0,\n",
       "    subsample = 1.0,\n",
       "    colsample_bytree = 1.0,\n",
       "    colsample_bylevel = 1.0,\n",
       "    lambda = 1.0,\n",
       "    alpha = 0.0,\n",
       "    tree_method = \"auto\",\n",
       "    sketch_eps = 0.03,\n",
       "    scale_pos_weight = 1.0,\n",
       "    updater = \"auto\",\n",
       "    refresh_leaf = 1,\n",
       "    process_type = \"default\",\n",
       "    grow_policy = \"depthwise\",\n",
       "    max_leaves = 0,\n",
       "    max_bin = 256,\n",
       "    predictor = \"cpu_predictor\",\n",
       "    sample_type = \"uniform\",\n",
       "    normalize_type = \"tree\",\n",
       "    rate_drop = 0.0,\n",
       "    one_drop = 0,\n",
       "    skip_drop = 0.0,\n",
       "    feature_selector = \"cyclic\",\n",
       "    top_k = 0,\n",
       "    tweedie_variance_power = 1.5,\n",
       "    objective = \"automatic\",\n",
       "    base_score = 0.5,\n",
       "    eval_metric = \"mlogloss\",\n",
       "    seed = 0,\n",
       "    nthread = 1)"
      ]
     },
     "execution_count": 5,
     "metadata": {},
     "output_type": "execute_result"
    }
   ],
   "source": [
    "train, test = partition(collect(eachindex(y)), 0.70, shuffle= true, rng = 52)\n",
    "XGBC = @load XGBoostClassifier\n",
    "xgb_model = XGBC()"
   ]
  },
  {
   "cell_type": "markdown",
   "id": "f6e064f6",
   "metadata": {},
   "source": [
    "Let's check whether the training and is balanced, `StatsBase.countmap` is useful for that:"
   ]
  },
  {
   "cell_type": "code",
   "execution_count": 6,
   "id": "0c88bc02",
   "metadata": {},
   "outputs": [
    {
     "name": "stdout",
     "output_type": "stream",
     "text": [
      "Dict(CategoricalValue{String, UInt32} \"B\" => 62,\n",
      "     CategoricalValue{String, UInt32} \"O\" => 78)"
     ]
    }
   ],
   "source": [
    "countmap(y[train]) |> pprint"
   ]
  },
  {
   "cell_type": "markdown",
   "id": "2f985775",
   "metadata": {},
   "source": [
    "which is pretty balanced. You could check the same on the test set and full set and the same comment would still hold."
   ]
  },
  {
   "cell_type": "markdown",
   "id": "b5a3d14d",
   "metadata": {},
   "source": [
    "### XGBoost machine\n",
    "\n",
    "---\n",
    "\n",
    "Wrap a machine around an XGBoost model (XGB) and the data:"
   ]
  },
  {
   "cell_type": "code",
   "execution_count": 7,
   "id": "e1e9d32f",
   "metadata": {},
   "outputs": [
    {
     "data": {
      "text/plain": [
       "Machine{XGBoostClassifier,…} trained 0 times; caches data\n",
       "  model: MLJXGBoostInterface.XGBoostClassifier\n",
       "  args: \n",
       "    1:\tSource @723 ⏎ `Table{AbstractVector{Continuous}}`\n",
       "    2:\tSource @732 ⏎ `AbstractVector{Multiclass{2}}`\n"
      ]
     },
     "execution_count": 7,
     "metadata": {},
     "output_type": "execute_result"
    }
   ],
   "source": [
    "xgb = XGBC()\n",
    "xgbm = machine(xgb, X, y)"
   ]
  },
  {
   "cell_type": "markdown",
   "id": "26ee31c2",
   "metadata": {},
   "source": [
    "We will tune it varying the number of rounds used and generate a learning curve"
   ]
  },
  {
   "cell_type": "code",
   "execution_count": 8,
   "id": "4bf7bf50",
   "metadata": {},
   "outputs": [
    {
     "name": "stderr",
     "output_type": "stream",
     "text": [
      "┌ Info: Training Machine{ProbabilisticTunedModel{Grid,…},…}.\n",
      "└ @ MLJBase C:\\Users\\jeffr\\.julia\\packages\\MLJBase\\MuLnJ\\src\\machines.jl:464\n",
      "┌ Info: Attempting to evaluate 50 models.\n",
      "└ @ MLJTuning C:\\Users\\jeffr\\.julia\\packages\\MLJTuning\\Al9yX\\src\\tuned_models.jl:680\n",
      "\u001b[33mEvaluating over 50 metamodels: 100%[=========================] Time: 0:00:07\u001b[39m\n"
     ]
    },
    {
     "data": {
      "text/plain": [
       "(parameter_name = \"num_round\",\n",
       " parameter_scale = :linear,\n",
       " parameter_values = [50, 59, 68, 78, 87, 96, 105, 114, 123, 133  …  417, 427, 436, 445, 454, 463, 472, 482, 491, 500],\n",
       " measurements = [0.24836397171020508, 0.24545636773109436, 0.24268636107444763, 0.2397555410861969, 0.23826450109481812, 0.2352793961763382, 0.23448707163333893, 0.23310495913028717, 0.2308061718940735, 0.22965149581432343  …  0.21469055116176605, 0.21440592408180237, 0.21408171951770782, 0.2139209806919098, 0.213658407330513, 0.2135016769170761, 0.2134832739830017, 0.21321788430213928, 0.21296538412570953, 0.21279016137123108],)"
      ]
     },
     "execution_count": 8,
     "metadata": {},
     "output_type": "execute_result"
    }
   ],
   "source": [
    "r = range(xgb, :num_round, lower = 50, upper = 500)\n",
    "curve = learning_curve(xgbm, range = r, resolution = 50, measure = L1HingeLoss())"
   ]
  },
  {
   "cell_type": "markdown",
   "id": "812fe996",
   "metadata": {},
   "source": [
    "Let's have a look"
   ]
  },
  {
   "cell_type": "code",
   "execution_count": 9,
   "id": "09cc1960",
   "metadata": {},
   "outputs": [
    {
     "name": "stderr",
     "output_type": "stream",
     "text": [
      "┌ Warning: `vendor()` is deprecated, use `BLAS.get_config()` and inspect the output instead\n",
      "│   caller = npyinitialize() at numpy.jl:67\n",
      "└ @ PyCall C:\\Users\\jeffr\\.julia\\packages\\PyCall\\L0fLP\\src\\numpy.jl:67\n"
     ]
    },
    {
     "data": {
      "image/png": "[encoded data removed]",
      "text/plain": [
       "Figure(PyObject <Figure size 800x600 with 1 Axes>)"
      ]
     },
     "metadata": {},
     "output_type": "display_data"
    }
   ],
   "source": [
    "figure(figsize = (8, 6))\n",
    "plot(curve.parameter_values, curve.measurements)\n",
    "xlabel(\"Number of rounds\", fontsize = 14)\n",
    "ylabel(\"HingeLoss\", fontsize = 14)\n",
    "xticks([10, 100, 200, 500], fontsize = 12)\n",
    "savefig(\"./plots/4.4.0.png\")"
   ]
  },
  {
   "cell_type": "markdown",
   "id": "a702d1f2",
   "metadata": {},
   "source": [
    "So, in short, using more rounds helps. Let's arbitrarily fix it to 200.\n",
    "\n",
    "```Julia\n",
    "xgb.num_round = 200;\n",
    "```"
   ]
  },
  {
   "cell_type": "markdown",
   "id": "f490dca0",
   "metadata": {},
   "source": [
    "### More tuning (1)"
   ]
  },
  {
   "cell_type": "markdown",
   "id": "26c431a7",
   "metadata": {},
   "source": [
    "Let's now tune the maximum depth of each tree and the minimum child weight in the boosting."
   ]
  },
  {
   "cell_type": "code",
   "execution_count": 10,
   "id": "ff71bb81",
   "metadata": {},
   "outputs": [
    {
     "name": "stderr",
     "output_type": "stream",
     "text": [
      "┌ Info: Training Machine{ProbabilisticTunedModel{Grid,…},…}.\n",
      "└ @ MLJBase C:\\Users\\jeffr\\.julia\\packages\\MLJBase\\MuLnJ\\src\\machines.jl:464\n",
      "┌ Info: Attempting to evaluate 64 models.\n",
      "└ @ MLJTuning C:\\Users\\jeffr\\.julia\\packages\\MLJTuning\\Al9yX\\src\\tuned_models.jl:680\n",
      "\u001b[33mEvaluating over 64 metamodels: 100%[=========================] Time: 0:00:06\u001b[39m\n"
     ]
    },
    {
     "data": {
      "text/plain": [
       "Machine{ProbabilisticTunedModel{Grid,…},…} trained 1 time; caches data\n",
       "  model: MLJTuning.ProbabilisticTunedModel{Grid, MLJXGBoostInterface.XGBoostClassifier}\n",
       "  args: \n",
       "    1:\tSource @995 ⏎ `Table{AbstractVector{Continuous}}`\n",
       "    2:\tSource @023 ⏎ `AbstractVector{Multiclass{2}}`\n"
      ]
     },
     "execution_count": 10,
     "metadata": {},
     "output_type": "execute_result"
    }
   ],
   "source": [
    "r1 = range(xgb, :max_depth, lower = 3, upper = 10)\n",
    "r2 = range(xgb, :min_child_weight, lower = 0, upper = 5)\n",
    "\n",
    "tm = TunedModel(model = xgb, \n",
    "                tuning = Grid(resolution = 8),\n",
    "                resampling=CV(rng=11),\n",
    "                ranges = [r1, r2],\n",
    "                measure = cross_entropy)\n",
    "mtm = machine(tm, X, y)\n",
    "fit!(mtm, rows = train)"
   ]
  },
  {
   "cell_type": "markdown",
   "id": "df83226a",
   "metadata": {},
   "source": [
    "Great, as always we can investigate the tuning by using `report` and can, for instance, plot a heatmap of the measurements:"
   ]
  },
  {
   "cell_type": "code",
   "execution_count": 11,
   "id": "4cc46564",
   "metadata": {},
   "outputs": [
    {
     "data": {
      "image/png": "[encoded data removed]",
      "text/plain": [
       "Figure(PyObject <Figure size 800x600 with 1 Axes>)"
      ]
     },
     "metadata": {},
     "output_type": "display_data"
    }
   ],
   "source": [
    "r = report(mtm)\n",
    "\n",
    "res = r.plotting\n",
    "\n",
    "md = res.parameter_values[:, 1]\n",
    "mcw = res.parameter_values[:, 2]\n",
    "\n",
    "figure(figsize=(8,6))\n",
    "tricontourf(md, mcw, res.measurements)\n",
    "\n",
    "xlabel(\"Maximum tree depth\", fontsize = 14)\n",
    "ylabel(\"Minimum child weight\", fontsize = 14)\n",
    "xticks(3:2:10, fontsize = 12)\n",
    "yticks(fontsize = 12)\n",
    "savefig(\"./plots/4.4.1.png\")"
   ]
  },
  {
   "cell_type": "markdown",
   "id": "4cc408aa",
   "metadata": {},
   "source": [
    "Let's extract the optimal model and inspect its parameters:"
   ]
  },
  {
   "cell_type": "code",
   "execution_count": 12,
   "id": "f9dc4a64",
   "metadata": {},
   "outputs": [
    {
     "name": "stdout",
     "output_type": "stream",
     "text": [
      "xgb.max_depth = 6\n",
      "xgb.min_child_weight = 1.4285714285714286\n"
     ]
    },
    {
     "data": {
      "text/plain": [
       "1.4285714285714286"
      ]
     },
     "execution_count": 12,
     "metadata": {},
     "output_type": "execute_result"
    }
   ],
   "source": [
    "xgb = fitted_params(mtm).best_model\n",
    "@show xgb.max_depth\n",
    "@show xgb.min_child_weight"
   ]
  },
  {
   "cell_type": "markdown",
   "id": "2a38ef45",
   "metadata": {},
   "source": [
    "### More tuning (2)"
   ]
  },
  {
   "cell_type": "markdown",
   "id": "07f72326",
   "metadata": {},
   "source": [
    "Let's examine the effect of `gamma`:"
   ]
  },
  {
   "cell_type": "code",
   "execution_count": 13,
   "id": "69c3d456",
   "metadata": {},
   "outputs": [
    {
     "name": "stderr",
     "output_type": "stream",
     "text": [
      "┌ Info: Training Machine{ProbabilisticTunedModel{Grid,…},…}.\n",
      "└ @ MLJBase C:\\Users\\jeffr\\.julia\\packages\\MLJBase\\MuLnJ\\src\\machines.jl:464\n",
      "┌ Info: Attempting to evaluate 30 models.\n",
      "└ @ MLJTuning C:\\Users\\jeffr\\.julia\\packages\\MLJTuning\\Al9yX\\src\\tuned_models.jl:680\n",
      "\u001b[33mEvaluating over 30 metamodels: 100%[=========================] Time: 0:00:00\u001b[39m\n"
     ]
    }
   ],
   "source": [
    "xgbm = machine(xgb, X, y)\n",
    "r = range(xgb, :gamma, lower = 0, upper = 10)\n",
    "curve = learning_curve!(xgbm, \n",
    "                        range = r, \n",
    "                        resolution =30,\n",
    "                        measure=cross_entropy);"
   ]
  },
  {
   "cell_type": "markdown",
   "id": "19d30459",
   "metadata": {},
   "source": [
    "it looks like the `gamma` parameter substantially affects model performance:"
   ]
  },
  {
   "cell_type": "code",
   "execution_count": 14,
   "id": "5812d9ae",
   "metadata": {},
   "outputs": [
    {
     "name": "stdout",
     "output_type": "stream",
     "text": [
      "round(minimum(curve.measurements), sigdigits = 3) = 0.231\n",
      "round(maximum(curve.measurements), sigdigits = 3) = 0.475\n"
     ]
    },
    {
     "data": {
      "text/plain": [
       "0.475"
      ]
     },
     "execution_count": 14,
     "metadata": {},
     "output_type": "execute_result"
    }
   ],
   "source": [
    "@show round(minimum(curve.measurements), sigdigits = 3)\n",
    "@show round(maximum(curve.measurements), sigdigits = 3)"
   ]
  },
  {
   "cell_type": "markdown",
   "id": "8030d3f3",
   "metadata": {},
   "source": [
    "### More tuning (3)"
   ]
  },
  {
   "cell_type": "markdown",
   "id": "d2cfed12",
   "metadata": {},
   "source": [
    "Let's examine the effect of `subsample` and `colsample_bytree`:"
   ]
  },
  {
   "cell_type": "code",
   "execution_count": 15,
   "id": "5a56006b",
   "metadata": {},
   "outputs": [
    {
     "name": "stderr",
     "output_type": "stream",
     "text": [
      "┌ Info: Training Machine{ProbabilisticTunedModel{Grid,…},…}.\n",
      "└ @ MLJBase C:\\Users\\jeffr\\.julia\\packages\\MLJBase\\MuLnJ\\src\\machines.jl:464\n",
      "┌ Info: Attempting to evaluate 64 models.\n",
      "└ @ MLJTuning C:\\Users\\jeffr\\.julia\\packages\\MLJTuning\\Al9yX\\src\\tuned_models.jl:680\n",
      "\u001b[33mEvaluating over 64 metamodels: 100%[=========================] Time: 0:00:04\u001b[39m\n"
     ]
    },
    {
     "data": {
      "text/plain": [
       "Machine{ProbabilisticTunedModel{Grid,…},…} trained 1 time; caches data\n",
       "  model: MLJTuning.ProbabilisticTunedModel{Grid, MLJXGBoostInterface.XGBoostClassifier}\n",
       "  args: \n",
       "    1:\tSource @506 ⏎ `Table{AbstractVector{Continuous}}`\n",
       "    2:\tSource @192 ⏎ `AbstractVector{Multiclass{2}}`\n"
      ]
     },
     "execution_count": 15,
     "metadata": {},
     "output_type": "execute_result"
    }
   ],
   "source": [
    "r1 = range(xgb, :subsample, lower = 0.6, upper=1.0)\n",
    "r2 = range(xgb, :colsample_bytree, lower = 0.6, upper = 1.0)\n",
    "tm = TunedModel(model = xgb, \n",
    "                tuning = Grid(resolution=8),\n",
    "                resampling = CV(rng=234),\n",
    "                ranges = [r1, r2],\n",
    "                measure = cross_entropy)\n",
    "\n",
    "mtm = machine(tm, X, y)\n",
    "fit!(mtm, rows = train)"
   ]
  },
  {
   "cell_type": "markdown",
   "id": "9e5d5557",
   "metadata": {},
   "source": [
    "and the usual procedure to visualise it:"
   ]
  },
  {
   "cell_type": "code",
   "execution_count": 16,
   "id": "ba8f2407",
   "metadata": {},
   "outputs": [
    {
     "data": {
      "image/png": "[encoded data removed]",
      "text/plain": [
       "Figure(PyObject <Figure size 800x600 with 1 Axes>)"
      ]
     },
     "metadata": {},
     "output_type": "display_data"
    }
   ],
   "source": [
    "r = report(mtm)\n",
    "\n",
    "res = r.plotting\n",
    "\n",
    "ss = res.parameter_values[:, 1]\n",
    "cbt = res.parameter_values[:, 2]\n",
    "\n",
    "figure(figsize=(8,6))\n",
    "tricontourf(ss, cbt, res.measurements)\n",
    "\n",
    "xlabel(\"Sub sample\", fontsize = 14)\n",
    "ylabel(\"Col Sample by tree\", fontsize = 14)\n",
    "xticks(fontsize = 12)\n",
    "yticks(fontsize = 12)\n",
    "savefig(\"./plots/4.4.2.png\")"
   ]
  },
  {
   "cell_type": "markdown",
   "id": "84280cce",
   "metadata": {},
   "source": [
    "Let's retrieve the best models:"
   ]
  },
  {
   "cell_type": "code",
   "execution_count": 17,
   "id": "a1436f35",
   "metadata": {},
   "outputs": [
    {
     "name": "stdout",
     "output_type": "stream",
     "text": [
      "xgb.subsample = 0.7142857142857143\n",
      "xgb.colsample_bytree = 1.0\n"
     ]
    },
    {
     "data": {
      "text/plain": [
       "1.0"
      ]
     },
     "execution_count": 17,
     "metadata": {},
     "output_type": "execute_result"
    }
   ],
   "source": [
    "xgb = fitted_params(mtm).best_model\n",
    "@show xgb.subsample\n",
    "@show xgb.colsample_bytree"
   ]
  },
  {
   "cell_type": "markdown",
   "id": "c839bb24",
   "metadata": {},
   "source": [
    "We could continue with more fine tuning but given how small the dataset is, it doesn't make much sense. How does it fare on the test set?"
   ]
  },
  {
   "cell_type": "code",
   "execution_count": 18,
   "id": "f6bc8cb1",
   "metadata": {},
   "outputs": [
    {
     "data": {
      "text/plain": [
       "0.9"
      ]
     },
     "execution_count": 18,
     "metadata": {},
     "output_type": "execute_result"
    }
   ],
   "source": [
    "ŷ = predict_mode(mtm, rows = test)\n",
    "round(accuracy(ŷ, y[test]), sigdigits = 3)"
   ]
  }
 ],
 "metadata": {
  "hide_input": false,
  "kernelspec": {
   "display_name": "Julia 1.7.3",
   "language": "julia",
   "name": "julia-1.7"
  },
  "language_info": {
   "file_extension": ".jl",
   "mimetype": "application/julia",
   "name": "julia",
   "version": "1.7.3"
  }
 },
 "nbformat": 4,
 "nbformat_minor": 5
}
