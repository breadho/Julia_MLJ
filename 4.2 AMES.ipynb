{
 "cells": [
  {
   "cell_type": "markdown",
   "id": "dbcdfd0f",
   "metadata": {},
   "source": [
    "# End to end examples"
   ]
  },
  {
   "cell_type": "markdown",
   "id": "fb3659e2",
   "metadata": {},
   "source": [
    "## AMES"
   ]
  },
  {
   "cell_type": "markdown",
   "id": "08c36410",
   "metadata": {},
   "source": [
    "> Baby steps <br>\n",
    "> Dummy model <br>\n",
    "> KNN-Ridge blend <br>\n",
    "> Using the expanded syntax <br>\n",
    "> Tuning the model <br>"
   ]
  },
  {
   "cell_type": "code",
   "execution_count": 1,
   "id": "63b4e0ba",
   "metadata": {},
   "outputs": [
    {
     "name": "stderr",
     "output_type": "stream",
     "text": [
      "\u001b[32m\u001b[1m  Activating\u001b[22m\u001b[39m project at `D:\\JULIA\\6_ML_with_Julia\\EX-AMES`\n"
     ]
    }
   ],
   "source": [
    "using Pkg ; Pkg.activate(\"D:/JULIA/6_ML_with_Julia/EX-AMES\"); Pkg.instantiate()"
   ]
  },
  {
   "cell_type": "markdown",
   "id": "a5604c92",
   "metadata": {},
   "source": [
    "### Baby steps\n",
    "---"
   ]
  },
  {
   "cell_type": "markdown",
   "id": "074dd14f",
   "metadata": {},
   "source": [
    "Let's load a reduced version of the well-known Ames House Price data set (containing six of the more important categorical features and six of the more important numerical features). As \"iris\" the dataset is so common that you can load it directly with ```@load_ames``` and the reduced version via ```@load_reduced_ames```"
   ]
  },
  {
   "cell_type": "code",
   "execution_count": 2,
   "id": "0a0b316a",
   "metadata": {},
   "outputs": [
    {
     "name": "stdout",
     "output_type": "stream",
     "text": [
      "size(X) = (1456, 12)\n",
      "┌─────────────────────────────────┬────────────┬──────────────────────────────────┬────────────┬─────────────┬────────────┬────────────┬────────────┬──────────────────────────────────┬────────────┬──────────────┬───────────┐\n",
      "│\u001b[1m OverallQual                     \u001b[0m│\u001b[1m GrLivArea  \u001b[0m│\u001b[1m Neighborhood                     \u001b[0m│\u001b[1m x1stFlrSF  \u001b[0m│\u001b[1m TotalBsmtSF \u001b[0m│\u001b[1m BsmtFinSF1 \u001b[0m│\u001b[1m LotArea    \u001b[0m│\u001b[1m GarageCars \u001b[0m│\u001b[1m MSSubClass                       \u001b[0m│\u001b[1m GarageArea \u001b[0m│\u001b[1m YearRemodAdd \u001b[0m│\u001b[1m YearBuilt \u001b[0m│\n",
      "│\u001b[90m CategoricalValue{Int64, UInt32} \u001b[0m│\u001b[90m Float64    \u001b[0m│\u001b[90m CategoricalValue{String, UInt32} \u001b[0m│\u001b[90m Float64    \u001b[0m│\u001b[90m Float64     \u001b[0m│\u001b[90m Float64    \u001b[0m│\u001b[90m Float64    \u001b[0m│\u001b[90m Int64      \u001b[0m│\u001b[90m CategoricalValue{String, UInt32} \u001b[0m│\u001b[90m Float64    \u001b[0m│\u001b[90m Int64        \u001b[0m│\u001b[90m Int64     \u001b[0m│\n",
      "│\u001b[90m OrderedFactor{10}               \u001b[0m│\u001b[90m Continuous \u001b[0m│\u001b[90m Multiclass{25}                   \u001b[0m│\u001b[90m Continuous \u001b[0m│\u001b[90m Continuous  \u001b[0m│\u001b[90m Continuous \u001b[0m│\u001b[90m Continuous \u001b[0m│\u001b[90m Count      \u001b[0m│\u001b[90m Multiclass{15}                   \u001b[0m│\u001b[90m Continuous \u001b[0m│\u001b[90m Count        \u001b[0m│\u001b[90m Count     \u001b[0m│\n",
      "├─────────────────────────────────┼────────────┼──────────────────────────────────┼────────────┼─────────────┼────────────┼────────────┼────────────┼──────────────────────────────────┼────────────┼──────────────┼───────────┤\n",
      "│ 5                               │ 816.0      │ Mitchel                          │ 816.0      │ 816.0       │ 816.0      │ 6600.0     │ 2          │ _20                              │ 816.0      │ 2003         │ 1982      │\n",
      "│ 8                               │ 2028.0     │ Timber                           │ 2028.0     │ 1868.0      │ 1460.0     │ 11443.0    │ 3          │ _20                              │ 880.0      │ 2006         │ 2005      │\n",
      "│ 7                               │ 1509.0     │ Gilbert                          │ 807.0      │ 783.0       │ 0.0        │ 7875.0     │ 2          │ _60                              │ 393.0      │ 2003         │ 2003      │\n",
      "└─────────────────────────────────┴────────────┴──────────────────────────────────┴────────────┴─────────────┴────────────┴────────────┴────────────┴──────────────────────────────────┴────────────┴──────────────┴───────────┘\n"
     ]
    }
   ],
   "source": [
    "using MLJ\n",
    "using PrettyPrinting\n",
    "import DataFrames: DataFrame\n",
    "import Statistics\n",
    "\n",
    "X, y = @load_reduced_ames\n",
    "X = DataFrame(X)\n",
    "@show size(X)\n",
    "first(X, 3) |> pretty"
   ]
  },
  {
   "cell_type": "markdown",
   "id": "562e6312",
   "metadata": {},
   "source": [
    "and the target is a continuous vector:"
   ]
  },
  {
   "cell_type": "code",
   "execution_count": 3,
   "id": "5ce4804b",
   "metadata": {},
   "outputs": [
    {
     "name": "stdout",
     "output_type": "stream",
     "text": [
      "y[1:3] = [138000.0, 369900.0, 180000.0]\n"
     ]
    },
    {
     "data": {
      "text/plain": [
       "AbstractVector{Continuous} (alias for AbstractArray{Continuous, 1})"
      ]
     },
     "execution_count": 3,
     "metadata": {},
     "output_type": "execute_result"
    }
   ],
   "source": [
    "@show y[1:3]\n",
    "scitype(y)"
   ]
  },
  {
   "cell_type": "markdown",
   "id": "e3fe6acd",
   "metadata": {},
   "source": [
    "so this is a standard regression problem with a mix of categorical and continuous input."
   ]
  },
  {
   "cell_type": "markdown",
   "id": "79b07e14",
   "metadata": {},
   "source": [
    "### Dummy model\n",
    "---"
   ]
  },
  {
   "cell_type": "markdown",
   "id": "308a718b",
   "metadata": {},
   "source": [
    "Remember that a model is just a container for hyperparameters; let's take a particularly simple one: the constant regression."
   ]
  },
  {
   "cell_type": "code",
   "execution_count": 4,
   "id": "22d4274c",
   "metadata": {},
   "outputs": [
    {
     "data": {
      "text/plain": [
       "ConstantRegressor(\n",
       "    distribution_type = Distributions.Normal)"
      ]
     },
     "execution_count": 4,
     "metadata": {},
     "output_type": "execute_result"
    }
   ],
   "source": [
    "creg = ConstantRegressor()"
   ]
  },
  {
   "cell_type": "markdown",
   "id": "20686043",
   "metadata": {},
   "source": [
    "Wrapping the model in data creates a machine which will store training outcomes (fit-results)"
   ]
  },
  {
   "cell_type": "code",
   "execution_count": 5,
   "id": "aa515965",
   "metadata": {},
   "outputs": [
    {
     "data": {
      "text/plain": [
       "Machine{ConstantRegressor,…} trained 0 times; caches data\n",
       "  model: ConstantRegressor{Distributions.Normal}\n",
       "  args: \n",
       "    1:\tSource @997 ⏎ `Table{Union{AbstractVector{Continuous}, AbstractVector{Count}, AbstractVector{Multiclass{15}}, AbstractVector{Multiclass{25}}, AbstractVector{OrderedFactor{10}}}}`\n",
       "    2:\tSource @199 ⏎ `AbstractVector{Continuous}`\n"
      ]
     },
     "execution_count": 5,
     "metadata": {},
     "output_type": "execute_result"
    }
   ],
   "source": [
    "cmach = machine(creg, X, y)"
   ]
  },
  {
   "cell_type": "markdown",
   "id": "4a32a6f4",
   "metadata": {},
   "source": [
    "You can now train the machine specifying the data it should be trained on (if unspecified, all the data will be used);"
   ]
  },
  {
   "cell_type": "code",
   "execution_count": 6,
   "id": "57084aa4",
   "metadata": {},
   "outputs": [
    {
     "name": "stdout",
     "output_type": "stream",
     "text": [
      "[Distributions.Normal{Float64}(μ=180856.8047105005, σ=76444.94463815287),\n",
      " Distributions.Normal{Float64}(μ=180856.8047105005, σ=76444.94463815287),\n",
      " Distributions.Normal{Float64}(μ=180856.8047105005, σ=76444.94463815287)]"
     ]
    },
    {
     "name": "stderr",
     "output_type": "stream",
     "text": [
      "┌ Info: Training Machine{ConstantRegressor,…}.\n",
      "└ @ MLJBase C:\\Users\\jeffr\\.julia\\packages\\MLJBase\\MuLnJ\\src\\machines.jl:464\n"
     ]
    }
   ],
   "source": [
    "train, test = partition(collect(eachindex(y)), 0.70, shuffle = true);\n",
    "fit!(cmach, rows = train)\n",
    "ŷ = predict(cmach,rows = test)\n",
    "ŷ[1:3] |> pprint"
   ]
  },
  {
   "cell_type": "code",
   "execution_count": 7,
   "id": "3288c410",
   "metadata": {},
   "outputs": [
    {
     "data": {
      "text/plain": [
       "(target_distribution = Distributions.Normal{Float64}(μ=180856.8047105005, σ=76444.94463815287),)"
      ]
     },
     "execution_count": 7,
     "metadata": {},
     "output_type": "execute_result"
    }
   ],
   "source": [
    "fitted_params(cmach)"
   ]
  },
  {
   "cell_type": "markdown",
   "id": "1fd8970c",
   "metadata": {},
   "source": [
    "Observe that the output is probabilistic, each element is a univariate normal distribution (with the same mean and variance as it's a constant model).\n",
    "\n",
    "You can recover deterministic output by either computing the mean of predictions or using predict_mean directly (the mean function can bve applied to any distribution from ```Distributions.jl```):"
   ]
  },
  {
   "cell_type": "code",
   "execution_count": 8,
   "id": "a604625c",
   "metadata": {},
   "outputs": [
    {
     "data": {
      "text/plain": [
       "3-element Vector{Float64}:\n",
       " 180856.8047105005\n",
       " 180856.8047105005\n",
       " 180856.8047105005"
      ]
     },
     "execution_count": 8,
     "metadata": {},
     "output_type": "execute_result"
    }
   ],
   "source": [
    "ŷ = predict_mean(cmach, rows = test);\n",
    "ŷ[1:3]"
   ]
  },
  {
   "cell_type": "markdown",
   "id": "dec28811",
   "metadata": {},
   "source": [
    "You can then call one of the loss functions to assess the quality of the model by comparing the performances on the test set:"
   ]
  },
  {
   "cell_type": "code",
   "execution_count": 9,
   "id": "ed6df6fb",
   "metadata": {},
   "outputs": [
    {
     "data": {
      "text/plain": [
       "0.4152254392992977"
      ]
     },
     "execution_count": 9,
     "metadata": {},
     "output_type": "execute_result"
    }
   ],
   "source": [
    "rmsl(ŷ, y[test])"
   ]
  },
  {
   "cell_type": "markdown",
   "id": "d7b351af",
   "metadata": {},
   "source": [
    "### KNN-Ridge blend\n",
    "---"
   ]
  },
  {
   "cell_type": "markdown",
   "id": "6b914b5a",
   "metadata": {},
   "source": [
    "Let's try something a bit fancier than a constant regressor.\n",
    "\n",
    "* one-hot-encode categorical inputs\n",
    "* log-transform the target\n",
    "* fit both a KNN regression and a Ridge regression on the data\n",
    "* Compute a weighted average of individual model predictions\n",
    "* inverse transform (exponentiate) the blended prediction"
   ]
  },
  {
   "cell_type": "markdown",
   "id": "d85728d8",
   "metadata": {},
   "source": [
    "You will first define a fixed model where all hyperparameters are specified or set to default. Then you will see how to create a model around a learning network that can be tuned."
   ]
  },
  {
   "cell_type": "code",
   "execution_count": 10,
   "id": "e49cf90a",
   "metadata": {},
   "outputs": [
    {
     "name": "stderr",
     "output_type": "stream",
     "text": [
      "┌ Info: For silent loading, specify `verbosity=0`. \n",
      "└ @ Main C:\\Users\\jeffr\\.julia\\packages\\MLJModels\\tMgLW\\src\\loading.jl:168\n"
     ]
    },
    {
     "name": "stdout",
     "output_type": "stream",
     "text": [
      "import MLJMultivariateStatsInterface ✔\n"
     ]
    },
    {
     "name": "stderr",
     "output_type": "stream",
     "text": [
      "┌ Info: For silent loading, specify `verbosity=0`. \n",
      "└ @ Main C:\\Users\\jeffr\\.julia\\packages\\MLJModels\\tMgLW\\src\\loading.jl:168\n"
     ]
    },
    {
     "name": "stdout",
     "output_type": "stream",
     "text": [
      "import NearestNeighborModels ✔\n"
     ]
    },
    {
     "data": {
      "text/plain": [
       "NearestNeighborModels.KNNRegressor"
      ]
     },
     "execution_count": 10,
     "metadata": {},
     "output_type": "execute_result"
    }
   ],
   "source": [
    "RidgeRegressor = @load RidgeRegressor pkg = \"MultivariateStats\"\n",
    "KNNRegressor = @load KNNRegressor"
   ]
  },
  {
   "cell_type": "markdown",
   "id": "9582a394",
   "metadata": {},
   "source": [
    "### Using the expanded syntax"
   ]
  },
  {
   "cell_type": "markdown",
   "id": "b0f573c8",
   "metadata": {},
   "source": [
    "Let's start by defining the source nodes:"
   ]
  },
  {
   "cell_type": "code",
   "execution_count": 11,
   "id": "80d3dcd2",
   "metadata": {},
   "outputs": [
    {
     "data": {
      "text/plain": [
       "Source @618 ⏎ `AbstractVector{Continuous}`"
      ]
     },
     "execution_count": 11,
     "metadata": {},
     "output_type": "execute_result"
    }
   ],
   "source": [
    "Xs = source(X)\n",
    "ys = source(y)"
   ]
  },
  {
   "cell_type": "markdown",
   "id": "5af500b4",
   "metadata": {},
   "source": [
    "On the \"first layer\", there's one hot encoder and a log transform, these will respectively lead to node ```W``` and node ```z```:"
   ]
  },
  {
   "cell_type": "code",
   "execution_count": 12,
   "id": "f1a4fdda",
   "metadata": {},
   "outputs": [],
   "source": [
    "hot = machine(OneHotEncoder(), Xs)\n",
    "\n",
    "W = transform(hot, Xs)\n",
    "z = log(ys);"
   ]
  },
  {
   "cell_type": "markdown",
   "id": "74435d5d",
   "metadata": {},
   "source": [
    "On the \"second layer\", there's a KNN regressor and a ridge regressor, these lead to node ```ẑ₁``` and ```ẑ₂```"
   ]
  },
  {
   "cell_type": "code",
   "execution_count": 13,
   "id": "f3b80eb9",
   "metadata": {},
   "outputs": [
    {
     "data": {
      "text/plain": [
       "Node{Machine{KNNRegressor,…}}\n",
       "  args:\n",
       "    1:\tNode{Machine{OneHotEncoder,…}}\n",
       "  formula:\n",
       "    predict(\n",
       "        \u001b[0m\u001b[1mMachine{KNNRegressor,…}\u001b[22m, \n",
       "        transform(\n",
       "            \u001b[0m\u001b[1mMachine{OneHotEncoder,…}\u001b[22m, \n",
       "            Source @520))"
      ]
     },
     "execution_count": 13,
     "metadata": {},
     "output_type": "execute_result"
    }
   ],
   "source": [
    "knn = machine(KNNRegressor(K = 5), W, z)\n",
    "ridge = machine(RidgeRegressor(lambda = 2.5 ), W, z)\n",
    "\n",
    "ẑ₁= predict(ridge, W)\n",
    "ẑ₂= predict(knn, W)"
   ]
  },
  {
   "cell_type": "markdown",
   "id": "2471da56",
   "metadata": {},
   "source": [
    "On the \"third layer\", there's a weighted combination of the two regression models:"
   ]
  },
  {
   "cell_type": "code",
   "execution_count": 14,
   "id": "d06d661c",
   "metadata": {},
   "outputs": [],
   "source": [
    "ẑ = 0.3ẑ₁+ 0.7ẑ₂;"
   ]
  },
  {
   "cell_type": "markdown",
   "id": "0ee1e71a",
   "metadata": {},
   "source": [
    "And finally we need to invert the initial transformation of the target (which was a log):"
   ]
  },
  {
   "cell_type": "code",
   "execution_count": 15,
   "id": "54e0afb4",
   "metadata": {},
   "outputs": [],
   "source": [
    "ŷ = exp(ẑ);"
   ]
  },
  {
   "cell_type": "markdown",
   "id": "e3b9b456",
   "metadata": {},
   "source": [
    "You've now defined a full learning network which you can fit and use for prediction:"
   ]
  },
  {
   "cell_type": "code",
   "execution_count": 16,
   "id": "6a0e6e16",
   "metadata": {},
   "outputs": [
    {
     "name": "stderr",
     "output_type": "stream",
     "text": [
      "┌ Info: Training Machine{OneHotEncoder,…}.\n",
      "└ @ MLJBase C:\\Users\\jeffr\\.julia\\packages\\MLJBase\\MuLnJ\\src\\machines.jl:464\n",
      "┌ Info: Spawning 10 sub-features to one-hot encode feature :OverallQual.\n",
      "└ @ MLJModels C:\\Users\\jeffr\\.julia\\packages\\MLJModels\\tMgLW\\src\\builtins\\Transformers.jl:1142\n",
      "┌ Info: Spawning 25 sub-features to one-hot encode feature :Neighborhood.\n",
      "└ @ MLJModels C:\\Users\\jeffr\\.julia\\packages\\MLJModels\\tMgLW\\src\\builtins\\Transformers.jl:1142\n",
      "┌ Info: Spawning 15 sub-features to one-hot encode feature :MSSubClass.\n",
      "└ @ MLJModels C:\\Users\\jeffr\\.julia\\packages\\MLJModels\\tMgLW\\src\\builtins\\Transformers.jl:1142\n",
      "┌ Info: Training Machine{RidgeRegressor,…}.\n",
      "└ @ MLJBase C:\\Users\\jeffr\\.julia\\packages\\MLJBase\\MuLnJ\\src\\machines.jl:464\n",
      "┌ Info: Training Machine{KNNRegressor,…}.\n",
      "└ @ MLJBase C:\\Users\\jeffr\\.julia\\packages\\MLJBase\\MuLnJ\\src\\machines.jl:464\n"
     ]
    },
    {
     "data": {
      "text/plain": [
       "437-element Vector{Float64}:\n",
       " 121862.38366142452\n",
       " 186841.80458583724\n",
       " 100810.70009926378\n",
       " 168624.32388729427\n",
       " 172550.32042394014\n",
       " 146109.3311793182\n",
       " 188050.05635913624\n",
       "  92979.51603158483\n",
       " 170746.84585578096\n",
       " 110336.95731936999\n",
       " 116326.9186322523\n",
       " 147413.62683260464\n",
       " 128182.68194001126\n",
       "      ⋮\n",
       " 195239.1420157948\n",
       " 181510.0019841731\n",
       " 282227.7389996184\n",
       " 224404.60316860853\n",
       " 137396.97436574553\n",
       " 220227.1659955515\n",
       " 277933.4351366653\n",
       " 122914.13837022873\n",
       " 204638.5512641041\n",
       " 125487.87840655232\n",
       " 179234.11773191555\n",
       " 152891.56011207687"
      ]
     },
     "execution_count": 16,
     "metadata": {},
     "output_type": "execute_result"
    }
   ],
   "source": [
    "fit!(ŷ, rows = train)\n",
    "ypreds = ŷ(rows = test)"
   ]
  },
  {
   "cell_type": "code",
   "execution_count": 17,
   "id": "542af856",
   "metadata": {},
   "outputs": [
    {
     "data": {
      "text/plain": [
       "0.1831145124401889"
      ]
     },
     "execution_count": 17,
     "metadata": {},
     "output_type": "execute_result"
    }
   ],
   "source": [
    "rmsl(y[test], ypreds)"
   ]
  },
  {
   "cell_type": "markdown",
   "id": "a68f111b",
   "metadata": {},
   "source": [
    "### Tuning the model"
   ]
  },
  {
   "cell_type": "markdown",
   "id": "16f98614",
   "metadata": {},
   "source": [
    "So far the hyperparameters were explicitly given but it makes more sense to learn them. For this, we define a model around the learning network which can then be trained and tuned as any model:"
   ]
  },
  {
   "cell_type": "code",
   "execution_count": 18,
   "id": "9d0d9ce1",
   "metadata": {},
   "outputs": [],
   "source": [
    "mutable struct KNNRidgeBlend <: DeterministicComposite\n",
    "    knn_model::KNNRegressor\n",
    "    ridge_model::RidgeRegressor\n",
    "    knn_weight::Float64\n",
    "end"
   ]
  },
  {
   "cell_type": "markdown",
   "id": "3e93a77a",
   "metadata": {},
   "source": [
    "We must specify how such a model should be fit, which is effectively just the learning network we had defined before except that now the parameters are contained in the struct:"
   ]
  },
  {
   "cell_type": "code",
   "execution_count": 19,
   "id": "11f393e5",
   "metadata": {},
   "outputs": [
    {
     "data": {
      "text/html": [
       "# 42 methods for generic function <b>fit</b>:<ul><li> fit(m::<b>Stack</b>, verbosity::<b>Int64</b>, X, y) in MLJBase at <a href=\"file://C:/Users/jeffr/.julia/packages/MLJBase/MuLnJ/src/composition/models/stacking.jl\" target=\"_blank\">C:\\Users\\jeffr\\.julia\\packages\\MLJBase\\MuLnJ\\src\\composition\\models\\stacking.jl:296</a></li> <li> fit(model::<b>Union{MLJBase.TransformedTargetModelDeterministic, MLJBase.TransformedTargetModelDeterministicSupervisedDetector, MLJBase.TransformedTargetModelDeterministicUnsupervisedDetector, MLJBase.TransformedTargetModelInterval, MLJBase.TransformedTargetModelProbabilistic, MLJBase.TransformedTargetModelProbabilisticSupervisedDetector, MLJBase.TransformedTargetModelProbabilisticUnsupervisedDetector}</b>, verbosity, X, y, other...) in MLJBase at <a href=\"file://C:/Users/jeffr/.julia/packages/MLJBase/MuLnJ/src/composition/models/transformed_target_model.jl\" target=\"_blank\">C:\\Users\\jeffr\\.julia\\packages\\MLJBase\\MuLnJ\\src\\composition\\models\\transformed_target_model.jl:177</a></li> <li> fit(pipe::<b>Union{MLJBase.DeterministicPipeline{N, operation}, MLJBase.IntervalPipeline{N, operation}, MLJBase.ProbabilisticPipeline{N, operation}, MLJBase.StaticPipeline{N, operation}, MLJBase.UnsupervisedPipeline{N, operation}}</b>, verbosity::<b>Integer</b>)<i> where {N, operation}</i> in MLJBase at <a href=\"file://C:/Users/jeffr/.julia/packages/MLJBase/MuLnJ/src/composition/models/pipelines.jl\" target=\"_blank\">C:\\Users\\jeffr\\.julia\\packages\\MLJBase\\MuLnJ\\src\\composition\\models\\pipelines.jl:515</a></li> <li> fit(pipe::<b>Union{MLJBase.DeterministicPipeline{N, operation}, MLJBase.IntervalPipeline{N, operation}, MLJBase.ProbabilisticPipeline{N, operation}, MLJBase.StaticPipeline{N, operation}, MLJBase.UnsupervisedPipeline{N, operation}}</b>, verbosity::<b>Integer</b>, arg0, args...)<i> where {N, operation}</i> in MLJBase at <a href=\"file://C:/Users/jeffr/.julia/packages/MLJBase/MuLnJ/src/composition/models/pipelines.jl\" target=\"_blank\">C:\\Users\\jeffr\\.julia\\packages\\MLJBase\\MuLnJ\\src\\composition\\models\\pipelines.jl:515</a></li> <li> fit(tuned_model::<b>Union{MLJTuning.DeterministicTunedModel{T, M}, MLJTuning.ProbabilisticTunedModel{T, M}}</b>, verbosity::<b>Integer</b>, data...)<i> where {T, M}</i> in MLJTuning at <a href=\"file://C:/Users/jeffr/.julia/packages/MLJTuning/Al9yX/src/tuned_models.jl\" target=\"_blank\">C:\\Users\\jeffr\\.julia\\packages\\MLJTuning\\Al9yX\\src\\tuned_models.jl:672</a></li> <li> fit(model::<b>Union{BinaryThresholdPredictor, MLJModels.ThresholdSupervisedDetector, MLJModels.ThresholdUnsupervisedDetector}</b>, verbosity::<b>Int64</b>, args...) in MLJModels at <a href=\"file://C:/Users/jeffr/.julia/packages/MLJModels/tMgLW/src/builtins/ThresholdPredictors.jl\" target=\"_blank\">C:\\Users\\jeffr\\.julia\\packages\\MLJModels\\tMgLW\\src\\builtins\\ThresholdPredictors.jl:145</a></li> <li> fit(iterated_model::<b>Union{MLJIteration.DeterministicIteratedModel{M}, MLJIteration.ProbabilisticIteratedModel{M}} where M</b>, verbosity, data...) in MLJIteration at <a href=\"file://C:/Users/jeffr/.julia/packages/MLJIteration/jtWxG/src/core.jl\" target=\"_blank\">C:\\Users\\jeffr\\.julia\\packages\\MLJIteration\\jtWxG\\src\\core.jl:51</a></li> <li> fit(model::<b>Union{MLJEnsembles.DeterministicEnsembleModel{Atom}, MLJEnsembles.ProbabilisticEnsembleModel{Atom}}</b>, verbosity::<b>Int64</b>, args...)<i> where Atom<:Supervised</i> in MLJEnsembles at <a href=\"file://C:/Users/jeffr/.julia/packages/MLJEnsembles/OsgHR/src/ensembles.jl\" target=\"_blank\">C:\\Users\\jeffr\\.julia\\packages\\MLJEnsembles\\OsgHR\\src\\ensembles.jl:399</a></li> <li> fit(model::<b>Union{MLJMultivariateStatsInterface.MultitargetRidgeRegressor, MLJMultivariateStatsInterface.RidgeRegressor}</b>, verbosity::<b>Int64</b>, X, y) in MLJMultivariateStatsInterface at <a href=\"file://C:/Users/jeffr/.julia/packages/MLJMultivariateStatsInterface/CLLNN/src/models/linear_models.jl\" target=\"_blank\">C:\\Users\\jeffr\\.julia\\packages\\MLJMultivariateStatsInterface\\CLLNN\\src\\models\\linear_models.jl:164</a></li> <li> fit(model::<b>Union{MLJMultivariateStatsInterface.LinearRegressor, MLJMultivariateStatsInterface.MultitargetLinearRegressor}</b>, verbosity::<b>Int64</b>, X, y) in MLJMultivariateStatsInterface at <a href=\"file://C:/Users/jeffr/.julia/packages/MLJMultivariateStatsInterface/CLLNN/src/models/linear_models.jl\" target=\"_blank\">C:\\Users\\jeffr\\.julia\\packages\\MLJMultivariateStatsInterface\\CLLNN\\src\\models\\linear_models.jl:106</a></li> <li> fit(m::<b>Union{NearestNeighborModels.KNNClassifier, NearestNeighborModels.KNNRegressor, NearestNeighborModels.MultitargetKNNClassifier, NearestNeighborModels.MultitargetKNNRegressor}</b>, verbosity::<b>Int64</b>, X, y) in NearestNeighborModels at <a href=\"file://C:/Users/jeffr/.julia/packages/NearestNeighborModels/Q7IT3/src/models.jl\" target=\"_blank\">C:\\Users\\jeffr\\.julia\\packages\\NearestNeighborModels\\Q7IT3\\src\\models.jl:361</a></li> <li> fit(m::<b>Union{NearestNeighborModels.KNNClassifier, NearestNeighborModels.KNNRegressor, NearestNeighborModels.MultitargetKNNClassifier, NearestNeighborModels.MultitargetKNNRegressor}</b>, verbosity::<b>Int64</b>, X, y, w::<b>Union{Nothing, AbstractVector{<:Real}}</b>) in NearestNeighborModels at <a href=\"file://C:/Users/jeffr/.julia/packages/NearestNeighborModels/Q7IT3/src/models.jl\" target=\"_blank\">C:\\Users\\jeffr\\.julia\\packages\\NearestNeighborModels\\Q7IT3\\src\\models.jl:361</a></li> <li> fit(m::<b>UnsupervisedAnnotator</b>, verbosity, X, y) in MLJModelInterface at <a href=\"file://C:/Users/jeffr/.julia/packages/MLJModelInterface/43ITU/src/model_api.jl\" target=\"_blank\">C:\\Users\\jeffr\\.julia\\packages\\MLJModelInterface\\43ITU\\src\\model_api.jl:21</a></li> <li> fit(m::<b>UnsupervisedAnnotator</b>, verbosity, X, y, w) in MLJModelInterface at <a href=\"file://C:/Users/jeffr/.julia/packages/MLJModelInterface/43ITU/src/model_api.jl\" target=\"_blank\">C:\\Users\\jeffr\\.julia\\packages\\MLJModelInterface\\43ITU\\src\\model_api.jl:22</a></li> <li> fit(::<b>ConstantRegressor{D}</b>, verbosity::<b>Int64</b>, X, y)<i> where D</i> in MLJModels at <a href=\"file://C:/Users/jeffr/.julia/packages/MLJModels/tMgLW/src/builtins/Constant.jl\" target=\"_blank\">C:\\Users\\jeffr\\.julia\\packages\\MLJModels\\tMgLW\\src\\builtins\\Constant.jl:17</a></li> <li> fit(resampler::<b>Resampler</b>, verbosity::<b>Int64</b>, args...) in MLJBase at <a href=\"file://C:/Users/jeffr/.julia/packages/MLJBase/MuLnJ/src/resampling.jl\" target=\"_blank\">C:\\Users\\jeffr\\.julia\\packages\\MLJBase\\MuLnJ\\src\\resampling.jl:1384</a></li> <li> fit(::<b>ConstantClassifier</b>, verbosity::<b>Int64</b>, X, y) in MLJModels at <a href=\"file://C:/Users/jeffr/.julia/packages/MLJModels/tMgLW/src/builtins/Constant.jl\" target=\"_blank\">C:\\Users\\jeffr\\.julia\\packages\\MLJModels\\tMgLW\\src\\builtins\\Constant.jl:68</a></li> <li> fit(::<b>ConstantClassifier</b>, verbosity::<b>Int64</b>, X, y, w) in MLJModels at <a href=\"file://C:/Users/jeffr/.julia/packages/MLJModels/tMgLW/src/builtins/Constant.jl\" target=\"_blank\">C:\\Users\\jeffr\\.julia\\packages\\MLJModels\\tMgLW\\src\\builtins\\Constant.jl:68</a></li> <li> fit(transformer::<b>ContinuousEncoder</b>, verbosity::<b>Int64</b>, X) in MLJModels at <a href=\"file://C:/Users/jeffr/.julia/packages/MLJModels/tMgLW/src/builtins/Transformers.jl\" target=\"_blank\">C:\\Users\\jeffr\\.julia\\packages\\MLJModels\\tMgLW\\src\\builtins\\Transformers.jl:1295</a></li> <li> fit(model::<b>MLJMultivariateStatsInterface.FactorAnalysis</b>, verbosity::<b>Int64</b>, X) in MLJMultivariateStatsInterface at <a href=\"file://C:/Users/jeffr/.julia/packages/MLJMultivariateStatsInterface/CLLNN/src/models/decomposition_models.jl\" target=\"_blank\">C:\\Users\\jeffr\\.julia\\packages\\MLJMultivariateStatsInterface\\CLLNN\\src\\models\\decomposition_models.jl:295</a></li> <li> fit(model::<b>MLJMultivariateStatsInterface.PPCA</b>, verbosity::<b>Int64</b>, X) in MLJMultivariateStatsInterface at <a href=\"file://C:/Users/jeffr/.julia/packages/MLJMultivariateStatsInterface/CLLNN/src/models/decomposition_models.jl\" target=\"_blank\">C:\\Users\\jeffr\\.julia\\packages\\MLJMultivariateStatsInterface\\CLLNN\\src\\models\\decomposition_models.jl:232</a></li> <li> fit(transformer::<b>FillImputer</b>, verbosity::<b>Int64</b>, X) in MLJModels at <a href=\"file://C:/Users/jeffr/.julia/packages/MLJModels/tMgLW/src/builtins/Transformers.jl\" target=\"_blank\">C:\\Users\\jeffr\\.julia\\packages\\MLJModels\\tMgLW\\src\\builtins\\Transformers.jl:141</a></li> <li> fit(transformer::<b>UnivariateDiscretizer</b>, verbosity::<b>Int64</b>, X) in MLJModels at <a href=\"file://C:/Users/jeffr/.julia/packages/MLJModels/tMgLW/src/builtins/Transformers.jl\" target=\"_blank\">C:\\Users\\jeffr\\.julia\\packages\\MLJModels\\tMgLW\\src\\builtins\\Transformers.jl:414</a></li> <li> fit(::<b>MLJBase.WrappedFunction</b>, ::<b>Integer</b>, ::<b>Any</b>) in MLJBase at <a href=\"file://C:/Users/jeffr/.julia/packages/MLJBase/MuLnJ/src/composition/models/deprecated.jl\" target=\"_blank\">C:\\Users\\jeffr\\.julia\\packages\\MLJBase\\MuLnJ\\src\\composition\\models\\deprecated.jl:28</a></li> <li> fit(::<b>Static</b>, ::<b>Integer</b>, data...) in MLJModelInterface at <a href=\"file://C:/Users/jeffr/.julia/packages/MLJModelInterface/43ITU/src/model_api.jl\" target=\"_blank\">C:\\Users\\jeffr\\.julia\\packages\\MLJModelInterface\\43ITU\\src\\model_api.jl:13</a></li> <li> fit(model::<b>MLJModels.UnivariateTimeTypeToContinuous</b>, verbosity::<b>Int64</b>, X) in MLJModels at <a href=\"file://C:/Users/jeffr/.julia/packages/MLJModels/tMgLW/src/builtins/Transformers.jl\" target=\"_blank\">C:\\Users\\jeffr\\.julia\\packages\\MLJModels\\tMgLW\\src\\builtins\\Transformers.jl:610</a></li> <li> fit(transformer::<b>UnivariateStandardizer</b>, verbosity::<b>Int64</b>, v::<b>AbstractVector{T}</b>)<i> where T<:Real</i> in MLJModels at <a href=\"file://C:/Users/jeffr/.julia/packages/MLJModels/tMgLW/src/builtins/Transformers.jl\" target=\"_blank\">C:\\Users\\jeffr\\.julia\\packages\\MLJModels\\tMgLW\\src\\builtins\\Transformers.jl:497</a></li> <li> fit(transformer::<b>OneHotEncoder</b>, verbosity::<b>Int64</b>, X) in MLJModels at <a href=\"file://C:/Users/jeffr/.julia/packages/MLJModels/tMgLW/src/builtins/Transformers.jl\" target=\"_blank\">C:\\Users\\jeffr\\.julia\\packages\\MLJModels\\tMgLW\\src\\builtins\\Transformers.jl:1109</a></li> <li> fit(::<b>MLJModels.DeterministicConstantClassifier</b>, verbosity::<b>Int64</b>, X, y) in MLJModels at <a href=\"file://C:/Users/jeffr/.julia/packages/MLJModels/tMgLW/src/builtins/Constant.jl\" target=\"_blank\">C:\\Users\\jeffr\\.julia\\packages\\MLJModels\\tMgLW\\src\\builtins\\Constant.jl:98</a></li> <li> fit(::<b>MLJModels.DeterministicConstantRegressor</b>, verbosity::<b>Int64</b>, X, y) in MLJModels at <a href=\"file://C:/Users/jeffr/.julia/packages/MLJModels/tMgLW/src/builtins/Constant.jl\" target=\"_blank\">C:\\Users\\jeffr\\.julia\\packages\\MLJModels\\tMgLW\\src\\builtins\\Constant.jl:39</a></li> <li> fit(transformer::<b>UnivariateBoxCoxTransformer</b>, verbosity::<b>Int64</b>, v::<b>AbstractVector{T}</b>)<i> where T<:Real</i> in MLJModels at <a href=\"file://C:/Users/jeffr/.julia/packages/MLJModels/tMgLW/src/builtins/Transformers.jl\" target=\"_blank\">C:\\Users\\jeffr\\.julia\\packages\\MLJModels\\tMgLW\\src\\builtins\\Transformers.jl:966</a></li> <li> fit(transformer::<b>FeatureSelector</b>, verbosity::<b>Int64</b>, X) in MLJModels at <a href=\"file://C:/Users/jeffr/.julia/packages/MLJModels/tMgLW/src/builtins/Transformers.jl\" target=\"_blank\">C:\\Users\\jeffr\\.julia\\packages\\MLJModels\\tMgLW\\src\\builtins\\Transformers.jl:321</a></li> <li> fit(model::<b>MLJMultivariateStatsInterface.ICA</b>, verbosity::<b>Int64</b>, X) in MLJMultivariateStatsInterface at <a href=\"file://C:/Users/jeffr/.julia/packages/MLJMultivariateStatsInterface/CLLNN/src/models/decomposition_models.jl\" target=\"_blank\">C:\\Users\\jeffr\\.julia\\packages\\MLJMultivariateStatsInterface\\CLLNN\\src\\models\\decomposition_models.jl:170</a></li> <li> fit(model::<b>MLJMultivariateStatsInterface.LDA</b>, ::<b>Int64</b>, X, y) in MLJMultivariateStatsInterface at <a href=\"file://C:/Users/jeffr/.julia/packages/MLJMultivariateStatsInterface/CLLNN/src/models/discriminant_analysis.jl\" target=\"_blank\">C:\\Users\\jeffr\\.julia\\packages\\MLJMultivariateStatsInterface\\CLLNN\\src\\models\\discriminant_analysis.jl:44</a></li> <li> fit(transformer::<b>MLJModels.UnivariateFillImputer</b>, verbosity::<b>Integer</b>, v) in MLJModels at <a href=\"file://C:/Users/jeffr/.julia/packages/MLJModels/tMgLW/src/builtins/Transformers.jl\" target=\"_blank\">C:\\Users\\jeffr\\.julia\\packages\\MLJModels\\tMgLW\\src\\builtins\\Transformers.jl:47</a></li> <li> fit(model::<b>MLJMultivariateStatsInterface.PCA</b>, verbosity::<b>Int64</b>, X) in MLJMultivariateStatsInterface at <a href=\"file://C:/Users/jeffr/.julia/packages/MLJMultivariateStatsInterface/CLLNN/src/models/decomposition_models.jl\" target=\"_blank\">C:\\Users\\jeffr\\.julia\\packages\\MLJMultivariateStatsInterface\\CLLNN\\src\\models\\decomposition_models.jl:33</a></li> <li> fit(transformer::<b>Standardizer</b>, verbosity::<b>Int64</b>, X) in MLJModels at <a href=\"file://C:/Users/jeffr/.julia/packages/MLJModels/tMgLW/src/builtins/Transformers.jl\" target=\"_blank\">C:\\Users\\jeffr\\.julia\\packages\\MLJModels\\tMgLW\\src\\builtins\\Transformers.jl:760</a></li> <li> fit(model::<b>MLJMultivariateStatsInterface.KernelPCA</b>, verbosity::<b>Int64</b>, X) in MLJMultivariateStatsInterface at <a href=\"file://C:/Users/jeffr/.julia/packages/MLJMultivariateStatsInterface/CLLNN/src/models/decomposition_models.jl\" target=\"_blank\">C:\\Users\\jeffr\\.julia\\packages\\MLJMultivariateStatsInterface\\CLLNN\\src\\models\\decomposition_models.jl:99</a></li> <li> fit(model::<b>MLJMultivariateStatsInterface.BayesianSubspaceLDA</b>, ::<b>Int64</b>, X, y) in MLJMultivariateStatsInterface at <a href=\"file://C:/Users/jeffr/.julia/packages/MLJMultivariateStatsInterface/CLLNN/src/models/discriminant_analysis.jl\" target=\"_blank\">C:\\Users\\jeffr\\.julia\\packages\\MLJMultivariateStatsInterface\\CLLNN\\src\\models\\discriminant_analysis.jl:430</a></li> <li> fit(model::<b>MLJMultivariateStatsInterface.SubspaceLDA</b>, ::<b>Int64</b>, X, y) in MLJMultivariateStatsInterface at <a href=\"file://C:/Users/jeffr/.julia/packages/MLJMultivariateStatsInterface/CLLNN/src/models/discriminant_analysis.jl\" target=\"_blank\">C:\\Users\\jeffr\\.julia\\packages\\MLJMultivariateStatsInterface\\CLLNN\\src\\models\\discriminant_analysis.jl:343</a></li> <li> fit(model::<b>MLJMultivariateStatsInterface.BayesianLDA</b>, ::<b>Int64</b>, X, y) in MLJMultivariateStatsInterface at <a href=\"file://C:/Users/jeffr/.julia/packages/MLJMultivariateStatsInterface/CLLNN/src/models/discriminant_analysis.jl\" target=\"_blank\">C:\\Users\\jeffr\\.julia\\packages\\MLJMultivariateStatsInterface\\CLLNN\\src\\models\\discriminant_analysis.jl:196</a></li> <li> fit(m::<b>Supervised</b>, verbosity, X, y, w) in MLJModelInterface at <a href=\"file://C:/Users/jeffr/.julia/packages/MLJModelInterface/43ITU/src/model_api.jl\" target=\"_blank\">C:\\Users\\jeffr\\.julia\\packages\\MLJModelInterface\\43ITU\\src\\model_api.jl:16</a></li> </ul>"
      ],
      "text/plain": [
       "# 42 methods for generic function \"fit\":\n",
       "[1] fit(m::Stack, verbosity::Int64, X, y) in MLJBase at C:\\Users\\jeffr\\.julia\\packages\\MLJBase\\MuLnJ\\src\\composition\\models\\stacking.jl:296\n",
       "[2] fit(model::Union{MLJBase.TransformedTargetModelDeterministic, MLJBase.TransformedTargetModelDeterministicSupervisedDetector, MLJBase.TransformedTargetModelDeterministicUnsupervisedDetector, MLJBase.TransformedTargetModelInterval, MLJBase.TransformedTargetModelProbabilistic, MLJBase.TransformedTargetModelProbabilisticSupervisedDetector, MLJBase.TransformedTargetModelProbabilisticUnsupervisedDetector}, verbosity, X, y, other...) in MLJBase at C:\\Users\\jeffr\\.julia\\packages\\MLJBase\\MuLnJ\\src\\composition\\models\\transformed_target_model.jl:177\n",
       "[3] fit(pipe::Union{MLJBase.DeterministicPipeline{N, operation}, MLJBase.IntervalPipeline{N, operation}, MLJBase.ProbabilisticPipeline{N, operation}, MLJBase.StaticPipeline{N, operation}, MLJBase.UnsupervisedPipeline{N, operation}}, verbosity::Integer) where {N, operation} in MLJBase at C:\\Users\\jeffr\\.julia\\packages\\MLJBase\\MuLnJ\\src\\composition\\models\\pipelines.jl:515\n",
       "[4] fit(pipe::Union{MLJBase.DeterministicPipeline{N, operation}, MLJBase.IntervalPipeline{N, operation}, MLJBase.ProbabilisticPipeline{N, operation}, MLJBase.StaticPipeline{N, operation}, MLJBase.UnsupervisedPipeline{N, operation}}, verbosity::Integer, arg0, args...) where {N, operation} in MLJBase at C:\\Users\\jeffr\\.julia\\packages\\MLJBase\\MuLnJ\\src\\composition\\models\\pipelines.jl:515\n",
       "[5] fit(tuned_model::Union{MLJTuning.DeterministicTunedModel{T, M}, MLJTuning.ProbabilisticTunedModel{T, M}}, verbosity::Integer, data...) where {T, M} in MLJTuning at C:\\Users\\jeffr\\.julia\\packages\\MLJTuning\\Al9yX\\src\\tuned_models.jl:672\n",
       "[6] fit(model::Union{BinaryThresholdPredictor, MLJModels.ThresholdSupervisedDetector, MLJModels.ThresholdUnsupervisedDetector}, verbosity::Int64, args...) in MLJModels at C:\\Users\\jeffr\\.julia\\packages\\MLJModels\\tMgLW\\src\\builtins\\ThresholdPredictors.jl:145\n",
       "[7] fit(iterated_model::Union{MLJIteration.DeterministicIteratedModel{M}, MLJIteration.ProbabilisticIteratedModel{M}} where M, verbosity, data...) in MLJIteration at C:\\Users\\jeffr\\.julia\\packages\\MLJIteration\\jtWxG\\src\\core.jl:51\n",
       "[8] fit(model::Union{MLJEnsembles.DeterministicEnsembleModel{Atom}, MLJEnsembles.ProbabilisticEnsembleModel{Atom}}, verbosity::Int64, args...) where Atom<:Supervised in MLJEnsembles at C:\\Users\\jeffr\\.julia\\packages\\MLJEnsembles\\OsgHR\\src\\ensembles.jl:399\n",
       "[9] fit(model::Union{MLJMultivariateStatsInterface.MultitargetRidgeRegressor, MLJMultivariateStatsInterface.RidgeRegressor}, verbosity::Int64, X, y) in MLJMultivariateStatsInterface at C:\\Users\\jeffr\\.julia\\packages\\MLJMultivariateStatsInterface\\CLLNN\\src\\models\\linear_models.jl:164\n",
       "[10] fit(model::Union{MLJMultivariateStatsInterface.LinearRegressor, MLJMultivariateStatsInterface.MultitargetLinearRegressor}, verbosity::Int64, X, y) in MLJMultivariateStatsInterface at C:\\Users\\jeffr\\.julia\\packages\\MLJMultivariateStatsInterface\\CLLNN\\src\\models\\linear_models.jl:106\n",
       "[11] fit(m::Union{NearestNeighborModels.KNNClassifier, NearestNeighborModels.KNNRegressor, NearestNeighborModels.MultitargetKNNClassifier, NearestNeighborModels.MultitargetKNNRegressor}, verbosity::Int64, X, y) in NearestNeighborModels at C:\\Users\\jeffr\\.julia\\packages\\NearestNeighborModels\\Q7IT3\\src\\models.jl:361\n",
       "[12] fit(m::Union{NearestNeighborModels.KNNClassifier, NearestNeighborModels.KNNRegressor, NearestNeighborModels.MultitargetKNNClassifier, NearestNeighborModels.MultitargetKNNRegressor}, verbosity::Int64, X, y, w::Union{Nothing, AbstractVector{<:Real}}) in NearestNeighborModels at C:\\Users\\jeffr\\.julia\\packages\\NearestNeighborModels\\Q7IT3\\src\\models.jl:361\n",
       "[13] fit(m::UnsupervisedAnnotator, verbosity, X, y) in MLJModelInterface at C:\\Users\\jeffr\\.julia\\packages\\MLJModelInterface\\43ITU\\src\\model_api.jl:21\n",
       "[14] fit(m::UnsupervisedAnnotator, verbosity, X, y, w) in MLJModelInterface at C:\\Users\\jeffr\\.julia\\packages\\MLJModelInterface\\43ITU\\src\\model_api.jl:22\n",
       "[15] fit(::ConstantRegressor{D}, verbosity::Int64, X, y) where D in MLJModels at C:\\Users\\jeffr\\.julia\\packages\\MLJModels\\tMgLW\\src\\builtins\\Constant.jl:17\n",
       "[16] fit(resampler::Resampler, verbosity::Int64, args...) in MLJBase at C:\\Users\\jeffr\\.julia\\packages\\MLJBase\\MuLnJ\\src\\resampling.jl:1384\n",
       "[17] fit(::ConstantClassifier, verbosity::Int64, X, y) in MLJModels at C:\\Users\\jeffr\\.julia\\packages\\MLJModels\\tMgLW\\src\\builtins\\Constant.jl:68\n",
       "[18] fit(::ConstantClassifier, verbosity::Int64, X, y, w) in MLJModels at C:\\Users\\jeffr\\.julia\\packages\\MLJModels\\tMgLW\\src\\builtins\\Constant.jl:68\n",
       "[19] fit(transformer::ContinuousEncoder, verbosity::Int64, X) in MLJModels at C:\\Users\\jeffr\\.julia\\packages\\MLJModels\\tMgLW\\src\\builtins\\Transformers.jl:1295\n",
       "[20] fit(model::MLJMultivariateStatsInterface.FactorAnalysis, verbosity::Int64, X) in MLJMultivariateStatsInterface at C:\\Users\\jeffr\\.julia\\packages\\MLJMultivariateStatsInterface\\CLLNN\\src\\models\\decomposition_models.jl:295\n",
       "[21] fit(model::MLJMultivariateStatsInterface.PPCA, verbosity::Int64, X) in MLJMultivariateStatsInterface at C:\\Users\\jeffr\\.julia\\packages\\MLJMultivariateStatsInterface\\CLLNN\\src\\models\\decomposition_models.jl:232\n",
       "[22] fit(transformer::FillImputer, verbosity::Int64, X) in MLJModels at C:\\Users\\jeffr\\.julia\\packages\\MLJModels\\tMgLW\\src\\builtins\\Transformers.jl:141\n",
       "[23] fit(transformer::UnivariateDiscretizer, verbosity::Int64, X) in MLJModels at C:\\Users\\jeffr\\.julia\\packages\\MLJModels\\tMgLW\\src\\builtins\\Transformers.jl:414\n",
       "[24] fit(::MLJBase.WrappedFunction, ::Integer, ::Any) in MLJBase at C:\\Users\\jeffr\\.julia\\packages\\MLJBase\\MuLnJ\\src\\composition\\models\\deprecated.jl:28\n",
       "[25] fit(::Static, ::Integer, data...) in MLJModelInterface at C:\\Users\\jeffr\\.julia\\packages\\MLJModelInterface\\43ITU\\src\\model_api.jl:13\n",
       "[26] fit(model::MLJModels.UnivariateTimeTypeToContinuous, verbosity::Int64, X) in MLJModels at C:\\Users\\jeffr\\.julia\\packages\\MLJModels\\tMgLW\\src\\builtins\\Transformers.jl:610\n",
       "[27] fit(transformer::UnivariateStandardizer, verbosity::Int64, v::AbstractVector{T}) where T<:Real in MLJModels at C:\\Users\\jeffr\\.julia\\packages\\MLJModels\\tMgLW\\src\\builtins\\Transformers.jl:497\n",
       "[28] fit(transformer::OneHotEncoder, verbosity::Int64, X) in MLJModels at C:\\Users\\jeffr\\.julia\\packages\\MLJModels\\tMgLW\\src\\builtins\\Transformers.jl:1109\n",
       "[29] fit(::MLJModels.DeterministicConstantClassifier, verbosity::Int64, X, y) in MLJModels at C:\\Users\\jeffr\\.julia\\packages\\MLJModels\\tMgLW\\src\\builtins\\Constant.jl:98\n",
       "[30] fit(::MLJModels.DeterministicConstantRegressor, verbosity::Int64, X, y) in MLJModels at C:\\Users\\jeffr\\.julia\\packages\\MLJModels\\tMgLW\\src\\builtins\\Constant.jl:39\n",
       "[31] fit(transformer::UnivariateBoxCoxTransformer, verbosity::Int64, v::AbstractVector{T}) where T<:Real in MLJModels at C:\\Users\\jeffr\\.julia\\packages\\MLJModels\\tMgLW\\src\\builtins\\Transformers.jl:966\n",
       "[32] fit(transformer::FeatureSelector, verbosity::Int64, X) in MLJModels at C:\\Users\\jeffr\\.julia\\packages\\MLJModels\\tMgLW\\src\\builtins\\Transformers.jl:321\n",
       "[33] fit(model::MLJMultivariateStatsInterface.ICA, verbosity::Int64, X) in MLJMultivariateStatsInterface at C:\\Users\\jeffr\\.julia\\packages\\MLJMultivariateStatsInterface\\CLLNN\\src\\models\\decomposition_models.jl:170\n",
       "[34] fit(model::MLJMultivariateStatsInterface.LDA, ::Int64, X, y) in MLJMultivariateStatsInterface at C:\\Users\\jeffr\\.julia\\packages\\MLJMultivariateStatsInterface\\CLLNN\\src\\models\\discriminant_analysis.jl:44\n",
       "[35] fit(transformer::MLJModels.UnivariateFillImputer, verbosity::Integer, v) in MLJModels at C:\\Users\\jeffr\\.julia\\packages\\MLJModels\\tMgLW\\src\\builtins\\Transformers.jl:47\n",
       "[36] fit(model::MLJMultivariateStatsInterface.PCA, verbosity::Int64, X) in MLJMultivariateStatsInterface at C:\\Users\\jeffr\\.julia\\packages\\MLJMultivariateStatsInterface\\CLLNN\\src\\models\\decomposition_models.jl:33\n",
       "[37] fit(transformer::Standardizer, verbosity::Int64, X) in MLJModels at C:\\Users\\jeffr\\.julia\\packages\\MLJModels\\tMgLW\\src\\builtins\\Transformers.jl:760\n",
       "[38] fit(model::MLJMultivariateStatsInterface.KernelPCA, verbosity::Int64, X) in MLJMultivariateStatsInterface at C:\\Users\\jeffr\\.julia\\packages\\MLJMultivariateStatsInterface\\CLLNN\\src\\models\\decomposition_models.jl:99\n",
       "[39] fit(model::MLJMultivariateStatsInterface.BayesianSubspaceLDA, ::Int64, X, y) in MLJMultivariateStatsInterface at C:\\Users\\jeffr\\.julia\\packages\\MLJMultivariateStatsInterface\\CLLNN\\src\\models\\discriminant_analysis.jl:430\n",
       "[40] fit(model::MLJMultivariateStatsInterface.SubspaceLDA, ::Int64, X, y) in MLJMultivariateStatsInterface at C:\\Users\\jeffr\\.julia\\packages\\MLJMultivariateStatsInterface\\CLLNN\\src\\models\\discriminant_analysis.jl:343\n",
       "[41] fit(model::MLJMultivariateStatsInterface.BayesianLDA, ::Int64, X, y) in MLJMultivariateStatsInterface at C:\\Users\\jeffr\\.julia\\packages\\MLJMultivariateStatsInterface\\CLLNN\\src\\models\\discriminant_analysis.jl:196\n",
       "[42] fit(m::Supervised, verbosity, X, y, w) in MLJModelInterface at C:\\Users\\jeffr\\.julia\\packages\\MLJModelInterface\\43ITU\\src\\model_api.jl:16"
      ]
     },
     "execution_count": 19,
     "metadata": {},
     "output_type": "execute_result"
    }
   ],
   "source": [
    "# 42 methods for generic function fit:\n",
    "methods(MLJ.fit)"
   ]
  },
  {
   "cell_type": "code",
   "execution_count": 20,
   "id": "b06528b9",
   "metadata": {},
   "outputs": [],
   "source": [
    "function MLJ.fit(model::KNNRidgeBlend, verbosity::Int, X, y)\n",
    "    Xs = source(X)\n",
    "    ys = source(y)\n",
    "    hot = machine(OneHotEncoder(), Xs)\n",
    "    W = transform(hot, Xs)\n",
    "    z = log(ys)\n",
    "    ridge_model = model.ridge_model\n",
    "    knn_model = model.knn_model\n",
    "    ridge = machine(ridge_model, W, z)\n",
    "    knn = machine(knn_model, W, z)\n",
    "    # and finally\n",
    "    ẑ = model.knn_weight * predict(knn, W) + (1.0 - model.knn_weight) * predict(ridge, W)\n",
    "    ŷ = exp(ẑ)\n",
    "    \n",
    "    mach = machine(Deterministic(), Xs, ys; predict = ŷ)\n",
    "    return!(mach, model, verbosity)\n",
    "end"
   ]
  },
  {
   "cell_type": "markdown",
   "id": "e3cfe86a",
   "metadata": {},
   "source": [
    "Note: you really want to set ```verbosity=0``` here otherwise in the tuning you will get a lot of verbose output!\n",
    "\n",
    "You can now instantiate and fit such a model:"
   ]
  },
  {
   "cell_type": "code",
   "execution_count": 21,
   "id": "3f79f696",
   "metadata": {},
   "outputs": [
    {
     "name": "stderr",
     "output_type": "stream",
     "text": [
      "┌ Info: Training Machine{KNNRidgeBlend,…}.\n",
      "└ @ MLJBase C:\\Users\\jeffr\\.julia\\packages\\MLJBase\\MuLnJ\\src\\machines.jl:464\n",
      "┌ Info: Training Machine{OneHotEncoder,…}.\n",
      "└ @ MLJBase C:\\Users\\jeffr\\.julia\\packages\\MLJBase\\MuLnJ\\src\\machines.jl:464\n",
      "┌ Info: Spawning 10 sub-features to one-hot encode feature :OverallQual.\n",
      "└ @ MLJModels C:\\Users\\jeffr\\.julia\\packages\\MLJModels\\tMgLW\\src\\builtins\\Transformers.jl:1142\n",
      "┌ Info: Spawning 25 sub-features to one-hot encode feature :Neighborhood.\n",
      "└ @ MLJModels C:\\Users\\jeffr\\.julia\\packages\\MLJModels\\tMgLW\\src\\builtins\\Transformers.jl:1142\n",
      "┌ Info: Spawning 15 sub-features to one-hot encode feature :MSSubClass.\n",
      "└ @ MLJModels C:\\Users\\jeffr\\.julia\\packages\\MLJModels\\tMgLW\\src\\builtins\\Transformers.jl:1142\n",
      "┌ Info: Training Machine{KNNRegressor,…}.\n",
      "└ @ MLJBase C:\\Users\\jeffr\\.julia\\packages\\MLJBase\\MuLnJ\\src\\machines.jl:464\n",
      "┌ Info: Training Machine{RidgeRegressor,…}.\n",
      "└ @ MLJBase C:\\Users\\jeffr\\.julia\\packages\\MLJBase\\MuLnJ\\src\\machines.jl:464\n"
     ]
    },
    {
     "data": {
      "text/plain": [
       "0.14631783029520562"
      ]
     },
     "execution_count": 21,
     "metadata": {},
     "output_type": "execute_result"
    }
   ],
   "source": [
    "krb = KNNRidgeBlend(KNNRegressor(K = 5), RidgeRegressor(lambda = 2.5), 0.3)\n",
    "mach = machine(krb, X, y)\n",
    "fit!(mach, rows = train)\n",
    "\n",
    "preds = predict(mach, rows = test)\n",
    "rmsl(y[test], preds)"
   ]
  },
  {
   "cell_type": "code",
   "execution_count": 22,
   "id": "71a09974",
   "metadata": {},
   "outputs": [
    {
     "data": {
      "text/html": [
       "# 43 methods for generic function <b>fit</b>:<ul><li> fit(m::<b>Stack</b>, verbosity::<b>Int64</b>, X, y) in MLJBase at <a href=\"file://C:/Users/jeffr/.julia/packages/MLJBase/MuLnJ/src/composition/models/stacking.jl\" target=\"_blank\">C:\\Users\\jeffr\\.julia\\packages\\MLJBase\\MuLnJ\\src\\composition\\models\\stacking.jl:296</a></li> <li> fit(model::<b>Union{MLJBase.TransformedTargetModelDeterministic, MLJBase.TransformedTargetModelDeterministicSupervisedDetector, MLJBase.TransformedTargetModelDeterministicUnsupervisedDetector, MLJBase.TransformedTargetModelInterval, MLJBase.TransformedTargetModelProbabilistic, MLJBase.TransformedTargetModelProbabilisticSupervisedDetector, MLJBase.TransformedTargetModelProbabilisticUnsupervisedDetector}</b>, verbosity, X, y, other...) in MLJBase at <a href=\"file://C:/Users/jeffr/.julia/packages/MLJBase/MuLnJ/src/composition/models/transformed_target_model.jl\" target=\"_blank\">C:\\Users\\jeffr\\.julia\\packages\\MLJBase\\MuLnJ\\src\\composition\\models\\transformed_target_model.jl:177</a></li> <li> fit(pipe::<b>Union{MLJBase.DeterministicPipeline{N, operation}, MLJBase.IntervalPipeline{N, operation}, MLJBase.ProbabilisticPipeline{N, operation}, MLJBase.StaticPipeline{N, operation}, MLJBase.UnsupervisedPipeline{N, operation}}</b>, verbosity::<b>Integer</b>)<i> where {N, operation}</i> in MLJBase at <a href=\"file://C:/Users/jeffr/.julia/packages/MLJBase/MuLnJ/src/composition/models/pipelines.jl\" target=\"_blank\">C:\\Users\\jeffr\\.julia\\packages\\MLJBase\\MuLnJ\\src\\composition\\models\\pipelines.jl:515</a></li> <li> fit(pipe::<b>Union{MLJBase.DeterministicPipeline{N, operation}, MLJBase.IntervalPipeline{N, operation}, MLJBase.ProbabilisticPipeline{N, operation}, MLJBase.StaticPipeline{N, operation}, MLJBase.UnsupervisedPipeline{N, operation}}</b>, verbosity::<b>Integer</b>, arg0, args...)<i> where {N, operation}</i> in MLJBase at <a href=\"file://C:/Users/jeffr/.julia/packages/MLJBase/MuLnJ/src/composition/models/pipelines.jl\" target=\"_blank\">C:\\Users\\jeffr\\.julia\\packages\\MLJBase\\MuLnJ\\src\\composition\\models\\pipelines.jl:515</a></li> <li> fit(tuned_model::<b>Union{MLJTuning.DeterministicTunedModel{T, M}, MLJTuning.ProbabilisticTunedModel{T, M}}</b>, verbosity::<b>Integer</b>, data...)<i> where {T, M}</i> in MLJTuning at <a href=\"file://C:/Users/jeffr/.julia/packages/MLJTuning/Al9yX/src/tuned_models.jl\" target=\"_blank\">C:\\Users\\jeffr\\.julia\\packages\\MLJTuning\\Al9yX\\src\\tuned_models.jl:672</a></li> <li> fit(model::<b>Union{BinaryThresholdPredictor, MLJModels.ThresholdSupervisedDetector, MLJModels.ThresholdUnsupervisedDetector}</b>, verbosity::<b>Int64</b>, args...) in MLJModels at <a href=\"file://C:/Users/jeffr/.julia/packages/MLJModels/tMgLW/src/builtins/ThresholdPredictors.jl\" target=\"_blank\">C:\\Users\\jeffr\\.julia\\packages\\MLJModels\\tMgLW\\src\\builtins\\ThresholdPredictors.jl:145</a></li> <li> fit(iterated_model::<b>Union{MLJIteration.DeterministicIteratedModel{M}, MLJIteration.ProbabilisticIteratedModel{M}} where M</b>, verbosity, data...) in MLJIteration at <a href=\"file://C:/Users/jeffr/.julia/packages/MLJIteration/jtWxG/src/core.jl\" target=\"_blank\">C:\\Users\\jeffr\\.julia\\packages\\MLJIteration\\jtWxG\\src\\core.jl:51</a></li> <li> fit(model::<b>Union{MLJEnsembles.DeterministicEnsembleModel{Atom}, MLJEnsembles.ProbabilisticEnsembleModel{Atom}}</b>, verbosity::<b>Int64</b>, args...)<i> where Atom<:Supervised</i> in MLJEnsembles at <a href=\"file://C:/Users/jeffr/.julia/packages/MLJEnsembles/OsgHR/src/ensembles.jl\" target=\"_blank\">C:\\Users\\jeffr\\.julia\\packages\\MLJEnsembles\\OsgHR\\src\\ensembles.jl:399</a></li> <li> fit(model::<b>Union{MLJMultivariateStatsInterface.MultitargetRidgeRegressor, MLJMultivariateStatsInterface.RidgeRegressor}</b>, verbosity::<b>Int64</b>, X, y) in MLJMultivariateStatsInterface at <a href=\"file://C:/Users/jeffr/.julia/packages/MLJMultivariateStatsInterface/CLLNN/src/models/linear_models.jl\" target=\"_blank\">C:\\Users\\jeffr\\.julia\\packages\\MLJMultivariateStatsInterface\\CLLNN\\src\\models\\linear_models.jl:164</a></li> <li> fit(model::<b>Union{MLJMultivariateStatsInterface.LinearRegressor, MLJMultivariateStatsInterface.MultitargetLinearRegressor}</b>, verbosity::<b>Int64</b>, X, y) in MLJMultivariateStatsInterface at <a href=\"file://C:/Users/jeffr/.julia/packages/MLJMultivariateStatsInterface/CLLNN/src/models/linear_models.jl\" target=\"_blank\">C:\\Users\\jeffr\\.julia\\packages\\MLJMultivariateStatsInterface\\CLLNN\\src\\models\\linear_models.jl:106</a></li> <li> fit(m::<b>Union{NearestNeighborModels.KNNClassifier, NearestNeighborModels.KNNRegressor, NearestNeighborModels.MultitargetKNNClassifier, NearestNeighborModels.MultitargetKNNRegressor}</b>, verbosity::<b>Int64</b>, X, y) in NearestNeighborModels at <a href=\"file://C:/Users/jeffr/.julia/packages/NearestNeighborModels/Q7IT3/src/models.jl\" target=\"_blank\">C:\\Users\\jeffr\\.julia\\packages\\NearestNeighborModels\\Q7IT3\\src\\models.jl:361</a></li> <li> fit(m::<b>Union{NearestNeighborModels.KNNClassifier, NearestNeighborModels.KNNRegressor, NearestNeighborModels.MultitargetKNNClassifier, NearestNeighborModels.MultitargetKNNRegressor}</b>, verbosity::<b>Int64</b>, X, y, w::<b>Union{Nothing, AbstractVector{<:Real}}</b>) in NearestNeighborModels at <a href=\"file://C:/Users/jeffr/.julia/packages/NearestNeighborModels/Q7IT3/src/models.jl\" target=\"_blank\">C:\\Users\\jeffr\\.julia\\packages\\NearestNeighborModels\\Q7IT3\\src\\models.jl:361</a></li> <li> fit(m::<b>UnsupervisedAnnotator</b>, verbosity, X, y) in MLJModelInterface at <a href=\"file://C:/Users/jeffr/.julia/packages/MLJModelInterface/43ITU/src/model_api.jl\" target=\"_blank\">C:\\Users\\jeffr\\.julia\\packages\\MLJModelInterface\\43ITU\\src\\model_api.jl:21</a></li> <li> fit(m::<b>UnsupervisedAnnotator</b>, verbosity, X, y, w) in MLJModelInterface at <a href=\"file://C:/Users/jeffr/.julia/packages/MLJModelInterface/43ITU/src/model_api.jl\" target=\"_blank\">C:\\Users\\jeffr\\.julia\\packages\\MLJModelInterface\\43ITU\\src\\model_api.jl:22</a></li> <li> fit(::<b>ConstantRegressor{D}</b>, verbosity::<b>Int64</b>, X, y)<i> where D</i> in MLJModels at <a href=\"file://C:/Users/jeffr/.julia/packages/MLJModels/tMgLW/src/builtins/Constant.jl\" target=\"_blank\">C:\\Users\\jeffr\\.julia\\packages\\MLJModels\\tMgLW\\src\\builtins\\Constant.jl:17</a></li> <li> fit(resampler::<b>Resampler</b>, verbosity::<b>Int64</b>, args...) in MLJBase at <a href=\"file://C:/Users/jeffr/.julia/packages/MLJBase/MuLnJ/src/resampling.jl\" target=\"_blank\">C:\\Users\\jeffr\\.julia\\packages\\MLJBase\\MuLnJ\\src\\resampling.jl:1384</a></li> <li> fit(::<b>ConstantClassifier</b>, verbosity::<b>Int64</b>, X, y) in MLJModels at <a href=\"file://C:/Users/jeffr/.julia/packages/MLJModels/tMgLW/src/builtins/Constant.jl\" target=\"_blank\">C:\\Users\\jeffr\\.julia\\packages\\MLJModels\\tMgLW\\src\\builtins\\Constant.jl:68</a></li> <li> fit(::<b>ConstantClassifier</b>, verbosity::<b>Int64</b>, X, y, w) in MLJModels at <a href=\"file://C:/Users/jeffr/.julia/packages/MLJModels/tMgLW/src/builtins/Constant.jl\" target=\"_blank\">C:\\Users\\jeffr\\.julia\\packages\\MLJModels\\tMgLW\\src\\builtins\\Constant.jl:68</a></li> <li> fit(transformer::<b>ContinuousEncoder</b>, verbosity::<b>Int64</b>, X) in MLJModels at <a href=\"file://C:/Users/jeffr/.julia/packages/MLJModels/tMgLW/src/builtins/Transformers.jl\" target=\"_blank\">C:\\Users\\jeffr\\.julia\\packages\\MLJModels\\tMgLW\\src\\builtins\\Transformers.jl:1295</a></li> <li> fit(model::<b>KNNRidgeBlend</b>, verbosity::<b>Int64</b>, X, y) in Main at In[20]:1</li> <li> fit(model::<b>MLJMultivariateStatsInterface.FactorAnalysis</b>, verbosity::<b>Int64</b>, X) in MLJMultivariateStatsInterface at <a href=\"file://C:/Users/jeffr/.julia/packages/MLJMultivariateStatsInterface/CLLNN/src/models/decomposition_models.jl\" target=\"_blank\">C:\\Users\\jeffr\\.julia\\packages\\MLJMultivariateStatsInterface\\CLLNN\\src\\models\\decomposition_models.jl:295</a></li> <li> fit(model::<b>MLJMultivariateStatsInterface.PPCA</b>, verbosity::<b>Int64</b>, X) in MLJMultivariateStatsInterface at <a href=\"file://C:/Users/jeffr/.julia/packages/MLJMultivariateStatsInterface/CLLNN/src/models/decomposition_models.jl\" target=\"_blank\">C:\\Users\\jeffr\\.julia\\packages\\MLJMultivariateStatsInterface\\CLLNN\\src\\models\\decomposition_models.jl:232</a></li> <li> fit(transformer::<b>FillImputer</b>, verbosity::<b>Int64</b>, X) in MLJModels at <a href=\"file://C:/Users/jeffr/.julia/packages/MLJModels/tMgLW/src/builtins/Transformers.jl\" target=\"_blank\">C:\\Users\\jeffr\\.julia\\packages\\MLJModels\\tMgLW\\src\\builtins\\Transformers.jl:141</a></li> <li> fit(transformer::<b>UnivariateDiscretizer</b>, verbosity::<b>Int64</b>, X) in MLJModels at <a href=\"file://C:/Users/jeffr/.julia/packages/MLJModels/tMgLW/src/builtins/Transformers.jl\" target=\"_blank\">C:\\Users\\jeffr\\.julia\\packages\\MLJModels\\tMgLW\\src\\builtins\\Transformers.jl:414</a></li> <li> fit(::<b>MLJBase.WrappedFunction</b>, ::<b>Integer</b>, ::<b>Any</b>) in MLJBase at <a href=\"file://C:/Users/jeffr/.julia/packages/MLJBase/MuLnJ/src/composition/models/deprecated.jl\" target=\"_blank\">C:\\Users\\jeffr\\.julia\\packages\\MLJBase\\MuLnJ\\src\\composition\\models\\deprecated.jl:28</a></li> <li> fit(::<b>Static</b>, ::<b>Integer</b>, data...) in MLJModelInterface at <a href=\"file://C:/Users/jeffr/.julia/packages/MLJModelInterface/43ITU/src/model_api.jl\" target=\"_blank\">C:\\Users\\jeffr\\.julia\\packages\\MLJModelInterface\\43ITU\\src\\model_api.jl:13</a></li> <li> fit(model::<b>MLJModels.UnivariateTimeTypeToContinuous</b>, verbosity::<b>Int64</b>, X) in MLJModels at <a href=\"file://C:/Users/jeffr/.julia/packages/MLJModels/tMgLW/src/builtins/Transformers.jl\" target=\"_blank\">C:\\Users\\jeffr\\.julia\\packages\\MLJModels\\tMgLW\\src\\builtins\\Transformers.jl:610</a></li> <li> fit(transformer::<b>UnivariateStandardizer</b>, verbosity::<b>Int64</b>, v::<b>AbstractVector{T}</b>)<i> where T<:Real</i> in MLJModels at <a href=\"file://C:/Users/jeffr/.julia/packages/MLJModels/tMgLW/src/builtins/Transformers.jl\" target=\"_blank\">C:\\Users\\jeffr\\.julia\\packages\\MLJModels\\tMgLW\\src\\builtins\\Transformers.jl:497</a></li> <li> fit(transformer::<b>OneHotEncoder</b>, verbosity::<b>Int64</b>, X) in MLJModels at <a href=\"file://C:/Users/jeffr/.julia/packages/MLJModels/tMgLW/src/builtins/Transformers.jl\" target=\"_blank\">C:\\Users\\jeffr\\.julia\\packages\\MLJModels\\tMgLW\\src\\builtins\\Transformers.jl:1109</a></li> <li> fit(::<b>MLJModels.DeterministicConstantClassifier</b>, verbosity::<b>Int64</b>, X, y) in MLJModels at <a href=\"file://C:/Users/jeffr/.julia/packages/MLJModels/tMgLW/src/builtins/Constant.jl\" target=\"_blank\">C:\\Users\\jeffr\\.julia\\packages\\MLJModels\\tMgLW\\src\\builtins\\Constant.jl:98</a></li> <li> fit(::<b>MLJModels.DeterministicConstantRegressor</b>, verbosity::<b>Int64</b>, X, y) in MLJModels at <a href=\"file://C:/Users/jeffr/.julia/packages/MLJModels/tMgLW/src/builtins/Constant.jl\" target=\"_blank\">C:\\Users\\jeffr\\.julia\\packages\\MLJModels\\tMgLW\\src\\builtins\\Constant.jl:39</a></li> <li> fit(transformer::<b>UnivariateBoxCoxTransformer</b>, verbosity::<b>Int64</b>, v::<b>AbstractVector{T}</b>)<i> where T<:Real</i> in MLJModels at <a href=\"file://C:/Users/jeffr/.julia/packages/MLJModels/tMgLW/src/builtins/Transformers.jl\" target=\"_blank\">C:\\Users\\jeffr\\.julia\\packages\\MLJModels\\tMgLW\\src\\builtins\\Transformers.jl:966</a></li> <li> fit(transformer::<b>FeatureSelector</b>, verbosity::<b>Int64</b>, X) in MLJModels at <a href=\"file://C:/Users/jeffr/.julia/packages/MLJModels/tMgLW/src/builtins/Transformers.jl\" target=\"_blank\">C:\\Users\\jeffr\\.julia\\packages\\MLJModels\\tMgLW\\src\\builtins\\Transformers.jl:321</a></li> <li> fit(model::<b>MLJMultivariateStatsInterface.ICA</b>, verbosity::<b>Int64</b>, X) in MLJMultivariateStatsInterface at <a href=\"file://C:/Users/jeffr/.julia/packages/MLJMultivariateStatsInterface/CLLNN/src/models/decomposition_models.jl\" target=\"_blank\">C:\\Users\\jeffr\\.julia\\packages\\MLJMultivariateStatsInterface\\CLLNN\\src\\models\\decomposition_models.jl:170</a></li> <li> fit(model::<b>MLJMultivariateStatsInterface.LDA</b>, ::<b>Int64</b>, X, y) in MLJMultivariateStatsInterface at <a href=\"file://C:/Users/jeffr/.julia/packages/MLJMultivariateStatsInterface/CLLNN/src/models/discriminant_analysis.jl\" target=\"_blank\">C:\\Users\\jeffr\\.julia\\packages\\MLJMultivariateStatsInterface\\CLLNN\\src\\models\\discriminant_analysis.jl:44</a></li> <li> fit(transformer::<b>MLJModels.UnivariateFillImputer</b>, verbosity::<b>Integer</b>, v) in MLJModels at <a href=\"file://C:/Users/jeffr/.julia/packages/MLJModels/tMgLW/src/builtins/Transformers.jl\" target=\"_blank\">C:\\Users\\jeffr\\.julia\\packages\\MLJModels\\tMgLW\\src\\builtins\\Transformers.jl:47</a></li> <li> fit(model::<b>MLJMultivariateStatsInterface.PCA</b>, verbosity::<b>Int64</b>, X) in MLJMultivariateStatsInterface at <a href=\"file://C:/Users/jeffr/.julia/packages/MLJMultivariateStatsInterface/CLLNN/src/models/decomposition_models.jl\" target=\"_blank\">C:\\Users\\jeffr\\.julia\\packages\\MLJMultivariateStatsInterface\\CLLNN\\src\\models\\decomposition_models.jl:33</a></li> <li> fit(transformer::<b>Standardizer</b>, verbosity::<b>Int64</b>, X) in MLJModels at <a href=\"file://C:/Users/jeffr/.julia/packages/MLJModels/tMgLW/src/builtins/Transformers.jl\" target=\"_blank\">C:\\Users\\jeffr\\.julia\\packages\\MLJModels\\tMgLW\\src\\builtins\\Transformers.jl:760</a></li> <li> fit(model::<b>MLJMultivariateStatsInterface.KernelPCA</b>, verbosity::<b>Int64</b>, X) in MLJMultivariateStatsInterface at <a href=\"file://C:/Users/jeffr/.julia/packages/MLJMultivariateStatsInterface/CLLNN/src/models/decomposition_models.jl\" target=\"_blank\">C:\\Users\\jeffr\\.julia\\packages\\MLJMultivariateStatsInterface\\CLLNN\\src\\models\\decomposition_models.jl:99</a></li> <li> fit(model::<b>MLJMultivariateStatsInterface.BayesianSubspaceLDA</b>, ::<b>Int64</b>, X, y) in MLJMultivariateStatsInterface at <a href=\"file://C:/Users/jeffr/.julia/packages/MLJMultivariateStatsInterface/CLLNN/src/models/discriminant_analysis.jl\" target=\"_blank\">C:\\Users\\jeffr\\.julia\\packages\\MLJMultivariateStatsInterface\\CLLNN\\src\\models\\discriminant_analysis.jl:430</a></li> <li> fit(model::<b>MLJMultivariateStatsInterface.SubspaceLDA</b>, ::<b>Int64</b>, X, y) in MLJMultivariateStatsInterface at <a href=\"file://C:/Users/jeffr/.julia/packages/MLJMultivariateStatsInterface/CLLNN/src/models/discriminant_analysis.jl\" target=\"_blank\">C:\\Users\\jeffr\\.julia\\packages\\MLJMultivariateStatsInterface\\CLLNN\\src\\models\\discriminant_analysis.jl:343</a></li> <li> fit(model::<b>MLJMultivariateStatsInterface.BayesianLDA</b>, ::<b>Int64</b>, X, y) in MLJMultivariateStatsInterface at <a href=\"file://C:/Users/jeffr/.julia/packages/MLJMultivariateStatsInterface/CLLNN/src/models/discriminant_analysis.jl\" target=\"_blank\">C:\\Users\\jeffr\\.julia\\packages\\MLJMultivariateStatsInterface\\CLLNN\\src\\models\\discriminant_analysis.jl:196</a></li> <li> fit(m::<b>Supervised</b>, verbosity, X, y, w) in MLJModelInterface at <a href=\"file://C:/Users/jeffr/.julia/packages/MLJModelInterface/43ITU/src/model_api.jl\" target=\"_blank\">C:\\Users\\jeffr\\.julia\\packages\\MLJModelInterface\\43ITU\\src\\model_api.jl:16</a></li> </ul>"
      ],
      "text/plain": [
       "# 43 methods for generic function \"fit\":\n",
       "[1] fit(m::Stack, verbosity::Int64, X, y) in MLJBase at C:\\Users\\jeffr\\.julia\\packages\\MLJBase\\MuLnJ\\src\\composition\\models\\stacking.jl:296\n",
       "[2] fit(model::Union{MLJBase.TransformedTargetModelDeterministic, MLJBase.TransformedTargetModelDeterministicSupervisedDetector, MLJBase.TransformedTargetModelDeterministicUnsupervisedDetector, MLJBase.TransformedTargetModelInterval, MLJBase.TransformedTargetModelProbabilistic, MLJBase.TransformedTargetModelProbabilisticSupervisedDetector, MLJBase.TransformedTargetModelProbabilisticUnsupervisedDetector}, verbosity, X, y, other...) in MLJBase at C:\\Users\\jeffr\\.julia\\packages\\MLJBase\\MuLnJ\\src\\composition\\models\\transformed_target_model.jl:177\n",
       "[3] fit(pipe::Union{MLJBase.DeterministicPipeline{N, operation}, MLJBase.IntervalPipeline{N, operation}, MLJBase.ProbabilisticPipeline{N, operation}, MLJBase.StaticPipeline{N, operation}, MLJBase.UnsupervisedPipeline{N, operation}}, verbosity::Integer) where {N, operation} in MLJBase at C:\\Users\\jeffr\\.julia\\packages\\MLJBase\\MuLnJ\\src\\composition\\models\\pipelines.jl:515\n",
       "[4] fit(pipe::Union{MLJBase.DeterministicPipeline{N, operation}, MLJBase.IntervalPipeline{N, operation}, MLJBase.ProbabilisticPipeline{N, operation}, MLJBase.StaticPipeline{N, operation}, MLJBase.UnsupervisedPipeline{N, operation}}, verbosity::Integer, arg0, args...) where {N, operation} in MLJBase at C:\\Users\\jeffr\\.julia\\packages\\MLJBase\\MuLnJ\\src\\composition\\models\\pipelines.jl:515\n",
       "[5] fit(tuned_model::Union{MLJTuning.DeterministicTunedModel{T, M}, MLJTuning.ProbabilisticTunedModel{T, M}}, verbosity::Integer, data...) where {T, M} in MLJTuning at C:\\Users\\jeffr\\.julia\\packages\\MLJTuning\\Al9yX\\src\\tuned_models.jl:672\n",
       "[6] fit(model::Union{BinaryThresholdPredictor, MLJModels.ThresholdSupervisedDetector, MLJModels.ThresholdUnsupervisedDetector}, verbosity::Int64, args...) in MLJModels at C:\\Users\\jeffr\\.julia\\packages\\MLJModels\\tMgLW\\src\\builtins\\ThresholdPredictors.jl:145\n",
       "[7] fit(iterated_model::Union{MLJIteration.DeterministicIteratedModel{M}, MLJIteration.ProbabilisticIteratedModel{M}} where M, verbosity, data...) in MLJIteration at C:\\Users\\jeffr\\.julia\\packages\\MLJIteration\\jtWxG\\src\\core.jl:51\n",
       "[8] fit(model::Union{MLJEnsembles.DeterministicEnsembleModel{Atom}, MLJEnsembles.ProbabilisticEnsembleModel{Atom}}, verbosity::Int64, args...) where Atom<:Supervised in MLJEnsembles at C:\\Users\\jeffr\\.julia\\packages\\MLJEnsembles\\OsgHR\\src\\ensembles.jl:399\n",
       "[9] fit(model::Union{MLJMultivariateStatsInterface.MultitargetRidgeRegressor, MLJMultivariateStatsInterface.RidgeRegressor}, verbosity::Int64, X, y) in MLJMultivariateStatsInterface at C:\\Users\\jeffr\\.julia\\packages\\MLJMultivariateStatsInterface\\CLLNN\\src\\models\\linear_models.jl:164\n",
       "[10] fit(model::Union{MLJMultivariateStatsInterface.LinearRegressor, MLJMultivariateStatsInterface.MultitargetLinearRegressor}, verbosity::Int64, X, y) in MLJMultivariateStatsInterface at C:\\Users\\jeffr\\.julia\\packages\\MLJMultivariateStatsInterface\\CLLNN\\src\\models\\linear_models.jl:106\n",
       "[11] fit(m::Union{NearestNeighborModels.KNNClassifier, NearestNeighborModels.KNNRegressor, NearestNeighborModels.MultitargetKNNClassifier, NearestNeighborModels.MultitargetKNNRegressor}, verbosity::Int64, X, y) in NearestNeighborModels at C:\\Users\\jeffr\\.julia\\packages\\NearestNeighborModels\\Q7IT3\\src\\models.jl:361\n",
       "[12] fit(m::Union{NearestNeighborModels.KNNClassifier, NearestNeighborModels.KNNRegressor, NearestNeighborModels.MultitargetKNNClassifier, NearestNeighborModels.MultitargetKNNRegressor}, verbosity::Int64, X, y, w::Union{Nothing, AbstractVector{<:Real}}) in NearestNeighborModels at C:\\Users\\jeffr\\.julia\\packages\\NearestNeighborModels\\Q7IT3\\src\\models.jl:361\n",
       "[13] fit(m::UnsupervisedAnnotator, verbosity, X, y) in MLJModelInterface at C:\\Users\\jeffr\\.julia\\packages\\MLJModelInterface\\43ITU\\src\\model_api.jl:21\n",
       "[14] fit(m::UnsupervisedAnnotator, verbosity, X, y, w) in MLJModelInterface at C:\\Users\\jeffr\\.julia\\packages\\MLJModelInterface\\43ITU\\src\\model_api.jl:22\n",
       "[15] fit(::ConstantRegressor{D}, verbosity::Int64, X, y) where D in MLJModels at C:\\Users\\jeffr\\.julia\\packages\\MLJModels\\tMgLW\\src\\builtins\\Constant.jl:17\n",
       "[16] fit(resampler::Resampler, verbosity::Int64, args...) in MLJBase at C:\\Users\\jeffr\\.julia\\packages\\MLJBase\\MuLnJ\\src\\resampling.jl:1384\n",
       "[17] fit(::ConstantClassifier, verbosity::Int64, X, y) in MLJModels at C:\\Users\\jeffr\\.julia\\packages\\MLJModels\\tMgLW\\src\\builtins\\Constant.jl:68\n",
       "[18] fit(::ConstantClassifier, verbosity::Int64, X, y, w) in MLJModels at C:\\Users\\jeffr\\.julia\\packages\\MLJModels\\tMgLW\\src\\builtins\\Constant.jl:68\n",
       "[19] fit(transformer::ContinuousEncoder, verbosity::Int64, X) in MLJModels at C:\\Users\\jeffr\\.julia\\packages\\MLJModels\\tMgLW\\src\\builtins\\Transformers.jl:1295\n",
       "[20] fit(model::KNNRidgeBlend, verbosity::Int64, X, y) in Main at In[20]:1\n",
       "[21] fit(model::MLJMultivariateStatsInterface.FactorAnalysis, verbosity::Int64, X) in MLJMultivariateStatsInterface at C:\\Users\\jeffr\\.julia\\packages\\MLJMultivariateStatsInterface\\CLLNN\\src\\models\\decomposition_models.jl:295\n",
       "[22] fit(model::MLJMultivariateStatsInterface.PPCA, verbosity::Int64, X) in MLJMultivariateStatsInterface at C:\\Users\\jeffr\\.julia\\packages\\MLJMultivariateStatsInterface\\CLLNN\\src\\models\\decomposition_models.jl:232\n",
       "[23] fit(transformer::FillImputer, verbosity::Int64, X) in MLJModels at C:\\Users\\jeffr\\.julia\\packages\\MLJModels\\tMgLW\\src\\builtins\\Transformers.jl:141\n",
       "[24] fit(transformer::UnivariateDiscretizer, verbosity::Int64, X) in MLJModels at C:\\Users\\jeffr\\.julia\\packages\\MLJModels\\tMgLW\\src\\builtins\\Transformers.jl:414\n",
       "[25] fit(::MLJBase.WrappedFunction, ::Integer, ::Any) in MLJBase at C:\\Users\\jeffr\\.julia\\packages\\MLJBase\\MuLnJ\\src\\composition\\models\\deprecated.jl:28\n",
       "[26] fit(::Static, ::Integer, data...) in MLJModelInterface at C:\\Users\\jeffr\\.julia\\packages\\MLJModelInterface\\43ITU\\src\\model_api.jl:13\n",
       "[27] fit(model::MLJModels.UnivariateTimeTypeToContinuous, verbosity::Int64, X) in MLJModels at C:\\Users\\jeffr\\.julia\\packages\\MLJModels\\tMgLW\\src\\builtins\\Transformers.jl:610\n",
       "[28] fit(transformer::UnivariateStandardizer, verbosity::Int64, v::AbstractVector{T}) where T<:Real in MLJModels at C:\\Users\\jeffr\\.julia\\packages\\MLJModels\\tMgLW\\src\\builtins\\Transformers.jl:497\n",
       "[29] fit(transformer::OneHotEncoder, verbosity::Int64, X) in MLJModels at C:\\Users\\jeffr\\.julia\\packages\\MLJModels\\tMgLW\\src\\builtins\\Transformers.jl:1109\n",
       "[30] fit(::MLJModels.DeterministicConstantClassifier, verbosity::Int64, X, y) in MLJModels at C:\\Users\\jeffr\\.julia\\packages\\MLJModels\\tMgLW\\src\\builtins\\Constant.jl:98\n",
       "[31] fit(::MLJModels.DeterministicConstantRegressor, verbosity::Int64, X, y) in MLJModels at C:\\Users\\jeffr\\.julia\\packages\\MLJModels\\tMgLW\\src\\builtins\\Constant.jl:39\n",
       "[32] fit(transformer::UnivariateBoxCoxTransformer, verbosity::Int64, v::AbstractVector{T}) where T<:Real in MLJModels at C:\\Users\\jeffr\\.julia\\packages\\MLJModels\\tMgLW\\src\\builtins\\Transformers.jl:966\n",
       "[33] fit(transformer::FeatureSelector, verbosity::Int64, X) in MLJModels at C:\\Users\\jeffr\\.julia\\packages\\MLJModels\\tMgLW\\src\\builtins\\Transformers.jl:321\n",
       "[34] fit(model::MLJMultivariateStatsInterface.ICA, verbosity::Int64, X) in MLJMultivariateStatsInterface at C:\\Users\\jeffr\\.julia\\packages\\MLJMultivariateStatsInterface\\CLLNN\\src\\models\\decomposition_models.jl:170\n",
       "[35] fit(model::MLJMultivariateStatsInterface.LDA, ::Int64, X, y) in MLJMultivariateStatsInterface at C:\\Users\\jeffr\\.julia\\packages\\MLJMultivariateStatsInterface\\CLLNN\\src\\models\\discriminant_analysis.jl:44\n",
       "[36] fit(transformer::MLJModels.UnivariateFillImputer, verbosity::Integer, v) in MLJModels at C:\\Users\\jeffr\\.julia\\packages\\MLJModels\\tMgLW\\src\\builtins\\Transformers.jl:47\n",
       "[37] fit(model::MLJMultivariateStatsInterface.PCA, verbosity::Int64, X) in MLJMultivariateStatsInterface at C:\\Users\\jeffr\\.julia\\packages\\MLJMultivariateStatsInterface\\CLLNN\\src\\models\\decomposition_models.jl:33\n",
       "[38] fit(transformer::Standardizer, verbosity::Int64, X) in MLJModels at C:\\Users\\jeffr\\.julia\\packages\\MLJModels\\tMgLW\\src\\builtins\\Transformers.jl:760\n",
       "[39] fit(model::MLJMultivariateStatsInterface.KernelPCA, verbosity::Int64, X) in MLJMultivariateStatsInterface at C:\\Users\\jeffr\\.julia\\packages\\MLJMultivariateStatsInterface\\CLLNN\\src\\models\\decomposition_models.jl:99\n",
       "[40] fit(model::MLJMultivariateStatsInterface.BayesianSubspaceLDA, ::Int64, X, y) in MLJMultivariateStatsInterface at C:\\Users\\jeffr\\.julia\\packages\\MLJMultivariateStatsInterface\\CLLNN\\src\\models\\discriminant_analysis.jl:430\n",
       "[41] fit(model::MLJMultivariateStatsInterface.SubspaceLDA, ::Int64, X, y) in MLJMultivariateStatsInterface at C:\\Users\\jeffr\\.julia\\packages\\MLJMultivariateStatsInterface\\CLLNN\\src\\models\\discriminant_analysis.jl:343\n",
       "[42] fit(model::MLJMultivariateStatsInterface.BayesianLDA, ::Int64, X, y) in MLJMultivariateStatsInterface at C:\\Users\\jeffr\\.julia\\packages\\MLJMultivariateStatsInterface\\CLLNN\\src\\models\\discriminant_analysis.jl:196\n",
       "[43] fit(m::Supervised, verbosity, X, y, w) in MLJModelInterface at C:\\Users\\jeffr\\.julia\\packages\\MLJModelInterface\\43ITU\\src\\model_api.jl:16"
      ]
     },
     "execution_count": 22,
     "metadata": {},
     "output_type": "execute_result"
    }
   ],
   "source": [
    "# 43 methods for generic function fit:\n",
    "methods(MLJ.fit)"
   ]
  },
  {
   "cell_type": "markdown",
   "id": "ce5d860a",
   "metadata": {},
   "source": [
    "But more interestingly, the hyperparameters of the model can be tuned.\n",
    "\n",
    "Before we get started, it's important to note that the hyperparameters of the model have different levels of nesting. This becomes explicit when trying to access elements:"
   ]
  },
  {
   "cell_type": "code",
   "execution_count": 23,
   "id": "e4a2a55a",
   "metadata": {},
   "outputs": [
    {
     "name": "stdout",
     "output_type": "stream",
     "text": [
      "krb.knn_weight = 0.3\n",
      "krb.knn_model.K = 5\n",
      "krb.ridge_model.lambda = 2.5\n"
     ]
    },
    {
     "data": {
      "text/plain": [
       "2.5"
      ]
     },
     "execution_count": 23,
     "metadata": {},
     "output_type": "execute_result"
    }
   ],
   "source": [
    "@show krb.knn_weight\n",
    "@show krb.knn_model.K\n",
    "@show krb.ridge_model.lambda"
   ]
  },
  {
   "cell_type": "markdown",
   "id": "be07c474",
   "metadata": {},
   "source": [
    "You can also see all the hyperparameters using the params function:"
   ]
  },
  {
   "cell_type": "code",
   "execution_count": 25,
   "id": "fda7925c",
   "metadata": {},
   "outputs": [
    {
     "name": "stdout",
     "output_type": "stream",
     "text": [
      "(knn_model = (K = 5,\n",
      "              algorithm = :kdtree,\n",
      "              metric = Distances.Euclidean(0.0),\n",
      "              leafsize = 10,\n",
      "              reorder = true,\n",
      "              weights = NearestNeighborModels.Uniform()),\n",
      " ridge_model = (lambda = 2.5, bias = true),\n",
      " knn_weight = 0.3)"
     ]
    }
   ],
   "source": [
    "params(krb) |> pprint"
   ]
  },
  {
   "cell_type": "markdown",
   "id": "e8e86383",
   "metadata": {},
   "source": [
    "The range of values to do your hyperparameter tuning over should follow the nesting structure reflected by ```params```:"
   ]
  },
  {
   "cell_type": "code",
   "execution_count": 26,
   "id": "64886b9c",
   "metadata": {},
   "outputs": [
    {
     "data": {
      "text/plain": [
       "3-element Vector{MLJBase.NumericRange{T, MLJBase.Bounded, Symbol} where T}:\n",
       " NumericRange(2 ≤ knn_model.K ≤ 100; origin=51.0, unit=49.0) on log10 scale\n",
       " NumericRange(0.0001 ≤ ridge_model.lambda ≤ 10; origin=5.00005, unit=4.99995) on log10 scale\n",
       " NumericRange(0.1 ≤ knn_weight ≤ 0.9; origin=0.5, unit=0.4)"
      ]
     },
     "execution_count": 26,
     "metadata": {},
     "output_type": "execute_result"
    }
   ],
   "source": [
    "k_range = range(krb, :(knn_model.K), lower = 2, upper = 100, scale=:log10)\n",
    "l_range = range(krb, :(ridge_model.lambda), lower = 1e-4, upper = 10, scale=:log10)\n",
    "w_range = range(krb, :(knn_weight), lower = 0.1, upper=0.9)\n",
    "\n",
    "ranges = [k_range, l_range, w_range]"
   ]
  },
  {
   "cell_type": "markdown",
   "id": "4422c1c0",
   "metadata": {},
   "source": [
    "> https://alan-turing-institute.github.io/MLJ.jl/dev/tuning_models/#Base.range"
   ]
  },
  {
   "cell_type": "markdown",
   "id": "de7f0fe5",
   "metadata": {},
   "source": [
    "Now there remains to define how the tuning should be done, let's just specify a very coarse grid tuning with cross validation and instantiate a tuned model:"
   ]
  },
  {
   "cell_type": "code",
   "execution_count": 27,
   "id": "25a8f8af",
   "metadata": {},
   "outputs": [
    {
     "data": {
      "text/plain": [
       "DeterministicTunedModel(\n",
       "    model = KNNRidgeBlend(\n",
       "            knn_model = KNNRegressor,\n",
       "            ridge_model = RidgeRegressor,\n",
       "            knn_weight = 0.3),\n",
       "    tuning = Grid(\n",
       "            goal = nothing,\n",
       "            resolution = 3,\n",
       "            shuffle = true,\n",
       "            rng = Random._GLOBAL_RNG()),\n",
       "    resampling = CV(\n",
       "            nfolds = 6,\n",
       "            shuffle = false,\n",
       "            rng = Random._GLOBAL_RNG()),\n",
       "    measure = RootMeanSquaredLogError(),\n",
       "    weights = nothing,\n",
       "    operation = nothing,\n",
       "    range = MLJBase.NumericRange{T, MLJBase.Bounded, Symbol} where T[NumericRange(2 ≤ knn_model.K ≤ 100; origin=51.0, unit=49.0) on log10 scale, NumericRange(0.0001 ≤ ridge_model.lambda ≤ 10; origin=5.00005, unit=4.99995) on log10 scale, NumericRange(0.1 ≤ knn_weight ≤ 0.9; origin=0.5, unit=0.4)],\n",
       "    selection_heuristic = MLJTuning.NaiveSelection(nothing),\n",
       "    train_best = true,\n",
       "    repeats = 1,\n",
       "    n = nothing,\n",
       "    acceleration = CPU1{Nothing}(nothing),\n",
       "    acceleration_resampling = CPU1{Nothing}(nothing),\n",
       "    check_measure = true,\n",
       "    cache = true)"
      ]
     },
     "execution_count": 27,
     "metadata": {},
     "output_type": "execute_result"
    }
   ],
   "source": [
    "tuning = Grid(resolution = 3)\n",
    "resampling = CV(nfolds = 6)\n",
    "\n",
    "tm = TunedModel(model = krb, tuning = tuning, resampling = resampling, ranges = ranges, measure = rmsl)"
   ]
  },
  {
   "cell_type": "markdown",
   "id": "540c1cd1",
   "metadata": {},
   "source": [
    "which we can now finally fit..."
   ]
  },
  {
   "cell_type": "code",
   "execution_count": 28,
   "id": "f43f7697",
   "metadata": {
    "scrolled": true
   },
   "outputs": [
    {
     "name": "stderr",
     "output_type": "stream",
     "text": [
      "┌ Info: Training Machine{DeterministicTunedModel{Grid,…},…}.\n",
      "└ @ MLJBase C:\\Users\\jeffr\\.julia\\packages\\MLJBase\\MuLnJ\\src\\machines.jl:464\n",
      "┌ Info: Attempting to evaluate 27 models.\n",
      "└ @ MLJTuning C:\\Users\\jeffr\\.julia\\packages\\MLJTuning\\Al9yX\\src\\tuned_models.jl:680\n",
      "\u001b[33mEvaluating over 27 metamodels: 100%[=========================] Time: 0:00:04\u001b[39m\n"
     ]
    }
   ],
   "source": [
    "mtm = machine(tm, X, y)\n",
    "fit!(mtm, rows = train);"
   ]
  },
  {
   "cell_type": "markdown",
   "id": "49add40e",
   "metadata": {},
   "source": [
    "To retrieve the best model, you can use:"
   ]
  },
  {
   "cell_type": "code",
   "execution_count": 29,
   "id": "6d325e08",
   "metadata": {},
   "outputs": [
    {
     "data": {
      "text/plain": [
       "KNNRidgeBlend(\n",
       "    knn_model = KNNRegressor(\n",
       "            K = 2,\n",
       "            algorithm = :kdtree,\n",
       "            metric = Distances.Euclidean(0.0),\n",
       "            leafsize = 10,\n",
       "            reorder = true,\n",
       "            weights = NearestNeighborModels.Uniform()),\n",
       "    ridge_model = RidgeRegressor(\n",
       "            lambda = 0.03162277660168379,\n",
       "            bias = true),\n",
       "    knn_weight = 0.1)"
      ]
     },
     "execution_count": 29,
     "metadata": {},
     "output_type": "execute_result"
    }
   ],
   "source": [
    "krb_best = fitted_params(mtm).best_model"
   ]
  },
  {
   "cell_type": "code",
   "execution_count": 30,
   "id": "b03c8c3a",
   "metadata": {},
   "outputs": [
    {
     "name": "stdout",
     "output_type": "stream",
     "text": [
      "krb_best.knn_model.K = 2\n",
      "krb_best.ridge_model.lambda = 0.03162277660168379\n",
      "krb_best.knn_weight = 0.1\n"
     ]
    },
    {
     "data": {
      "text/plain": [
       "0.1"
      ]
     },
     "execution_count": 30,
     "metadata": {},
     "output_type": "execute_result"
    }
   ],
   "source": [
    "@show krb_best.knn_model.K\n",
    "@show krb_best.ridge_model.lambda\n",
    "@show krb_best.knn_weight"
   ]
  },
  {
   "cell_type": "markdown",
   "id": "a6e9a601",
   "metadata": {},
   "source": [
    "you can also use ```mtm``` to make predictions (which will be done using the best model)"
   ]
  },
  {
   "cell_type": "code",
   "execution_count": 31,
   "id": "f9020ecd",
   "metadata": {},
   "outputs": [
    {
     "data": {
      "text/plain": [
       "0.14066627522142472"
      ]
     },
     "execution_count": 31,
     "metadata": {},
     "output_type": "execute_result"
    }
   ],
   "source": [
    "preds = predict(mtm, rows = test)\n",
    "rmsl(y[test], preds)"
   ]
  }
 ],
 "metadata": {
  "hide_input": false,
  "kernelspec": {
   "display_name": "Julia 1.7.3",
   "language": "julia",
   "name": "julia-1.7"
  },
  "language_info": {
   "file_extension": ".jl",
   "mimetype": "application/julia",
   "name": "julia",
   "version": "1.7.3"
  }
 },
 "nbformat": 4,
 "nbformat_minor": 5
}
